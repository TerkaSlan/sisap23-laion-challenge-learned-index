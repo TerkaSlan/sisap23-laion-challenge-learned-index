{
 "cells": [
  {
   "cell_type": "code",
   "execution_count": 19,
   "id": "c98346b6-24df-4315-987c-6079be4dbbd4",
   "metadata": {},
   "outputs": [],
   "source": [
    "%reload_ext autoreload\n",
    "%autoreload 2"
   ]
  },
  {
   "cell_type": "code",
   "execution_count": 20,
   "id": "75496986-547a-4da3-9872-60c4d562be28",
   "metadata": {},
   "outputs": [],
   "source": [
    "import h5py\n",
    "import pandas as pd\n",
    "import pickle\n",
    "from tqdm import tqdm\n",
    "from li.utils import pairwise_cosine\n",
    "import time\n",
    "import logging\n",
    "import numpy as np\n",
    "import os\n",
    "from scipy import sparse\n"
   ]
  },
  {
   "cell_type": "code",
   "execution_count": 21,
   "id": "474bc223-4a15-476b-a5ea-78bf37affba7",
   "metadata": {},
   "outputs": [],
   "source": [
    "logging.basicConfig(\n",
    "    level=logging.INFO,\n",
    "    format='[%(asctime)s][%(levelname)-5.5s][%(name)-.20s] %(message)s'\n",
    ")\n",
    "LOG = logging.getLogger(__name__)\n",
    "\n",
    "def increase_max_recursion_limit():\n",
    "    \"\"\" Increases the maximum recursion limit.\n",
    "    Source: https://stackoverflow.com/a/16248113\n",
    "    \"\"\"\n",
    "    import sys\n",
    "    import resource\n",
    "    resource.setrlimit(resource.RLIMIT_STACK, (2**29, -1))\n",
    "    sys.setrecursionlimit(10**6)\n"
   ]
  },
  {
   "cell_type": "code",
   "execution_count": 22,
   "id": "6658bfd0-b3f8-4736-b148-2e78a1efe016",
   "metadata": {},
   "outputs": [
    {
     "name": "stderr",
     "output_type": "stream",
     "text": [
      "[2023-07-06 14:27:28,065][INFO ][__main__] Loading pca32 data\n",
      "[2023-07-06 14:27:28,273][INFO ][__main__] Loading queries\n",
      "[2023-07-06 14:27:28,723][INFO ][__main__] Loading clip data\n",
      "[2023-07-06 14:27:30,391][INFO ][__main__] Loading GT\n"
     ]
    }
   ],
   "source": [
    "size = '100K'\n",
    "\n",
    "LOG.info(f'Loading pca32 data')\n",
    "data_path = f'data/pca32v2/{size}/dataset.h5'\n",
    "f = h5py.File(data_path, 'r')\n",
    "loaded_data = f['pca32'][:, :]\n",
    "data = pd.DataFrame(loaded_data)\n",
    "data.index += 1\n",
    "\n",
    "LOG.info(f'Loading queries')\n",
    "base_path = f'data/pca32v2/{size}/'\n",
    "queries_path = f'{base_path}/query.h5'\n",
    "f2 = h5py.File(queries_path, 'r')\n",
    "#loaded_queries = f2['emb'][:, :]\n",
    "loaded_queries = f2['pca32'][:, :]\n",
    "\n",
    "base_path = f'data/clip768v2/{size}/'\n",
    "queries_path = f'{base_path}/query.h5'\n",
    "f2 = h5py.File(queries_path, 'r')\n",
    "#loaded_queries = f2['emb'][:, :]\n",
    "loaded_queries_seq = f2['emb'][:, :]\n",
    "\n",
    "LOG.info(f'Loading clip data')\n",
    "data_path = f'data/clip768v2/{size}/dataset.h5'\n",
    "f = h5py.File(data_path, 'r')\n",
    "loaded_clip_data = f['emb'][:, :]\n",
    "loaded_clip_data = pd.DataFrame(loaded_clip_data)\n",
    "loaded_clip_data.index += 1\n",
    "\n",
    "LOG.info(f'Loading GT')\n",
    "gt_path = f'data/groundtruth-{size}.h5'\n",
    "f3 = h5py.File(gt_path, 'r')\n",
    "loaded_gt = f3['knns'][:, :]\n"
   ]
  },
  {
   "cell_type": "code",
   "execution_count": 23,
   "id": "b2ebf478-b882-4d03-9515-056d917cc4d6",
   "metadata": {},
   "outputs": [],
   "source": [
    "from li.BaseLMI import cluster_kmeans_faiss\n",
    "from sklearn import preprocessing"
   ]
  },
  {
   "cell_type": "code",
   "execution_count": 28,
   "id": "d72a2370-2418-49ae-92f0-92175be8cfff",
   "metadata": {},
   "outputs": [
    {
     "name": "stdout",
     "output_type": "stream",
     "text": [
      "CPU times: user 333 ms, sys: 2.33 ms, total: 335 ms\n",
      "Wall time: 358 ms\n"
     ]
    }
   ],
   "source": [
    "%time kmeans, result = cluster_kmeans_faiss(data, n_clusters=100)"
   ]
  },
  {
   "cell_type": "code",
   "execution_count": 30,
   "id": "a147a9b6-658c-4261-a778-faf6e1b9777a",
   "metadata": {},
   "outputs": [
    {
     "data": {
      "text/plain": [
       "(array([ 0,  1,  2,  3,  4,  5,  6,  7,  8,  9, 10, 11, 12, 13, 14, 15, 16,\n",
       "        17, 18, 19, 20, 21, 22, 23, 24, 25, 26, 27, 28, 29, 30, 31, 32, 33,\n",
       "        34, 35, 36, 37, 38, 39, 40, 41, 42, 43, 44, 45, 46, 47, 48, 49, 50,\n",
       "        51, 52, 53, 54, 55, 56, 57, 58, 59, 60, 61, 62, 63, 64, 65, 66, 67,\n",
       "        68, 69, 70, 71, 72, 73, 74, 75, 76, 77, 78, 79, 80, 81, 82, 83, 84,\n",
       "        85, 86, 87, 88, 89, 90, 91, 92, 93, 94, 95, 96, 97, 98, 99]),\n",
       " array([ 800, 1055, 1009,  962,  808, 1083, 1153,  803,  811,  773,  981,\n",
       "         825, 1062,  786,  843,  966, 1586,  965,  975, 1188, 1027,  832,\n",
       "         687,  534, 1372,  699,  759,  919,  947, 1105,  846, 1067, 1636,\n",
       "        1319,  899, 1225,  921,  509, 1267,  866,  616, 1032,  889,  839,\n",
       "        1344, 1102,  705,  858, 1019, 1337, 1015, 1642,  412, 1062,  728,\n",
       "        1435,  807,  912, 1262, 1398, 1189, 1289,  732,  501, 1242,  613,\n",
       "        1110, 1240, 1264,  921,  913, 1008,  844,  819,  685,  987,  878,\n",
       "         833, 1012,  744, 1300, 1335, 1274, 1580, 1004,  856, 1214, 1863,\n",
       "         723,  883,  997, 1252,  828,  801,  688,  732,  871,  896, 1426,\n",
       "        1369]))"
      ]
     },
     "execution_count": 30,
     "metadata": {},
     "output_type": "execute_result"
    }
   ],
   "source": [
    "np.unique(result, return_counts=True)"
   ]
  },
  {
   "cell_type": "code",
   "execution_count": 31,
   "id": "f0c6a3c1-8d62-4ce0-97e2-80e12555796c",
   "metadata": {},
   "outputs": [],
   "source": [
    "import torch\n",
    "import torch.utils.data\n",
    "\n",
    "from li.model import NeuralNetwork, data_X_to_torch, data_to_torch, LIDataset_Single\n",
    "        \n",
    "dataset = LIDataset_Single(data, result)\n",
    "        \n",
    "train_loader = torch.utils.data.DataLoader(\n",
    "    dataset,\n",
    "    batch_size=256,\n",
    "    sampler=torch.utils.data.SubsetRandomSampler(data.index.values.tolist())\n",
    ")"
   ]
  },
  {
   "cell_type": "code",
   "execution_count": 32,
   "id": "6af13d9a-9a94-4e74-8c63-e967f664a90a",
   "metadata": {},
   "outputs": [],
   "source": [
    "nn = NeuralNetwork(\n",
    "    input_dim=data.shape[1], output_dim=100, lr=0.1, model_type='MLP'\n",
    ")"
   ]
  },
  {
   "cell_type": "code",
   "execution_count": 33,
   "id": "fceae4bd-d7e5-410a-881f-fd9495361e89",
   "metadata": {},
   "outputs": [
    {
     "name": "stderr",
     "output_type": "stream",
     "text": [
      "[2023-07-06 14:30:13,762][INFO ][__main__] Epochs: 100, step: 10\n",
      "[2023-07-06 14:30:28,029][INFO ][__main__] Epoch 10 | Loss 2.31404\n",
      "[2023-07-06 14:30:40,289][INFO ][__main__] Epoch 20 | Loss 0.98153\n",
      "[2023-07-06 14:30:52,629][INFO ][__main__] Epoch 30 | Loss 1.08155\n",
      "[2023-07-06 14:31:04,930][INFO ][__main__] Epoch 40 | Loss 0.90105\n",
      "[2023-07-06 14:31:17,355][INFO ][__main__] Epoch 50 | Loss 0.77351\n",
      "[2023-07-06 14:31:29,569][INFO ][__main__] Epoch 60 | Loss 0.69315\n",
      "[2023-07-06 14:31:41,864][INFO ][__main__] Epoch 70 | Loss 0.74654\n",
      "[2023-07-06 14:31:54,170][INFO ][__main__] Epoch 80 | Loss 0.69056\n",
      "[2023-07-06 14:32:06,409][INFO ][__main__] Epoch 90 | Loss 0.82842\n"
     ]
    }
   ],
   "source": [
    "losses = nn.train_batch(train_loader, epochs=100, logger=LOG)"
   ]
  },
  {
   "cell_type": "code",
   "execution_count": 34,
   "id": "44654a15-6005-426e-b4e9-203a4a63009f",
   "metadata": {},
   "outputs": [],
   "source": [
    "data['category_nn'] = nn.predict(data_X_to_torch(data))"
   ]
  },
  {
   "cell_type": "code",
   "execution_count": 35,
   "id": "492c98a7-c693-4506-b60e-7cb62d0a859b",
   "metadata": {},
   "outputs": [
    {
     "data": {
      "text/plain": [
       "86    1984\n",
       "87    1902\n",
       "33    1851\n",
       "83    1841\n",
       "55    1792\n",
       "      ... \n",
       "92     354\n",
       "52     346\n",
       "22     299\n",
       "54     130\n",
       "65     122\n",
       "Name: category_nn, Length: 100, dtype: int64"
      ]
     },
     "execution_count": 35,
     "metadata": {},
     "output_type": "execute_result"
    }
   ],
   "source": [
    "data['category_nn'].value_counts()"
   ]
  },
  {
   "cell_type": "code",
   "execution_count": 36,
   "id": "2ecf636a-edfb-4a29-b132-981f92fdfb81",
   "metadata": {},
   "outputs": [
    {
     "name": "stdout",
     "output_type": "stream",
     "text": [
      "CPU times: user 70 ms, sys: 88 µs, total: 70.1 ms\n",
      "Wall time: 265 ms\n"
     ]
    }
   ],
   "source": [
    "%time probs, classes = nn.predict_proba(data_X_to_torch(loaded_queries))"
   ]
  },
  {
   "cell_type": "code",
   "execution_count": null,
   "id": "f8c68a2a-93db-45c4-a600-a61068892312",
   "metadata": {},
   "outputs": [],
   "source": []
  },
  {
   "cell_type": "code",
   "execution_count": 46,
   "id": "abedbd91-1803-451e-b40d-959f2dbb650c",
   "metadata": {},
   "outputs": [
    {
     "name": "stdout",
     "output_type": "stream",
     "text": [
      "CPU times: user 1.89 s, sys: 0 ns, total: 1.89 s\n",
      "Wall time: 1.98 s\n"
     ]
    }
   ],
   "source": [
    "%%time\n",
    "k=10\n",
    "nns = np.zeros((loaded_queries.shape[0], k), dtype=np.uint32)\n",
    "dists = np.zeros((loaded_queries.shape[0], k), dtype=np.float32)\n",
    "for class_ in np.unique(classes[:, 0]):\n",
    "    cat_idxs = np.where(classes[:, 0] == class_)[0]\n",
    "    bucket_obj_indexes = data.query(f'category_nn == {class_}', engine='python').index\n",
    "    seq_search_dists = pairwise_cosine(loaded_queries_seq[cat_idxs], loaded_clip_data.loc[bucket_obj_indexes])\n",
    "    ann_relative = seq_search_dists.argsort()[:, :k]\n",
    "    nns[cat_idxs] = np.array(bucket_obj_indexes)[ann_relative]\n",
    "    dists[cat_idxs] = np.take_along_axis(seq_search_dists, ann_relative, axis=1)"
   ]
  },
  {
   "cell_type": "code",
   "execution_count": 47,
   "id": "6a3be3ff-b570-47ad-b9f8-edae939e9fd2",
   "metadata": {},
   "outputs": [
    {
     "data": {
      "text/plain": [
       "(10000, 10)"
      ]
     },
     "execution_count": 47,
     "metadata": {},
     "output_type": "execute_result"
    }
   ],
   "source": [
    "nns.shape"
   ]
  },
  {
   "cell_type": "code",
   "execution_count": 50,
   "id": "3becea22-a61e-4db4-bd4f-ebb1b11b2914",
   "metadata": {},
   "outputs": [],
   "source": [
    "overlaps = []\n",
    "for i in range(10_000):\n",
    "    overlaps.append(np.intersect1d(nns[i], loaded_gt[i]).shape[0])"
   ]
  },
  {
   "cell_type": "code",
   "execution_count": 51,
   "id": "eb657ffe-f426-4a76-88f8-96f39f2d9c8d",
   "metadata": {},
   "outputs": [
    {
     "data": {
      "text/plain": [
       "9.1554"
      ]
     },
     "execution_count": 51,
     "metadata": {},
     "output_type": "execute_result"
    }
   ],
   "source": [
    "np.mean(overlaps)"
   ]
  }
 ],
 "metadata": {
  "kernelspec": {
   "display_name": "Python 3",
   "language": "python",
   "name": "python3"
  },
  "language_info": {
   "codemirror_mode": {
    "name": "ipython",
    "version": 3
   },
   "file_extension": ".py",
   "mimetype": "text/x-python",
   "name": "python",
   "nbconvert_exporter": "python",
   "pygments_lexer": "ipython3",
   "version": "3.6.2"
  }
 },
 "nbformat": 4,
 "nbformat_minor": 5
}
