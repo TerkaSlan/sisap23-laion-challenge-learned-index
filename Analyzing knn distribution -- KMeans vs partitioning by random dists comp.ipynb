{
 "cells": [
  {
   "cell_type": "code",
   "execution_count": 159,
   "id": "59587eb9-31ab-424b-85da-41f56f1b5836",
   "metadata": {},
   "outputs": [],
   "source": [
    "%reload_ext autoreload\n",
    "%autoreload 2"
   ]
  },
  {
   "cell_type": "code",
   "execution_count": 160,
   "id": "d48bb775-1cca-465e-90a2-1a1b6a154825",
   "metadata": {},
   "outputs": [
    {
     "name": "stdout",
     "output_type": "stream",
     "text": [
      "CPU times: user 881 µs, sys: 108 µs, total: 989 µs\n",
      "Wall time: 2.58 ms\n"
     ]
    }
   ],
   "source": [
    "import h5py\n",
    "data_path = '/auto/brno12-cerit/nfs4/home/tslaninakova/sisap-challenge/data/pca32v2/100K/dataset.h5'\n",
    "%time f = h5py.File(data_path, 'r')"
   ]
  },
  {
   "cell_type": "code",
   "execution_count": 161,
   "id": "28a5c8dc-4bcf-45b0-8b49-8953f96a62e2",
   "metadata": {},
   "outputs": [
    {
     "name": "stdout",
     "output_type": "stream",
     "text": [
      "CPU times: user 0 ns, sys: 7.97 ms, total: 7.97 ms\n",
      "Wall time: 7.98 ms\n"
     ]
    }
   ],
   "source": [
    "%time loaded_data = f['pca32'][:, :]"
   ]
  },
  {
   "cell_type": "code",
   "execution_count": 162,
   "id": "af5803c1-71e5-401a-8516-b1903c343276",
   "metadata": {},
   "outputs": [],
   "source": [
    "import pandas as pd\n",
    "data = pd.DataFrame(loaded_data)\n",
    "data.index += 1\n",
    "#data_s = data.sample(5_000_000, random_state=2023)"
   ]
  },
  {
   "cell_type": "code",
   "execution_count": 163,
   "id": "2139b2c7-ed03-41d4-9c8f-3343b5a4b473",
   "metadata": {},
   "outputs": [
    {
     "name": "stdout",
     "output_type": "stream",
     "text": [
      "CPU times: user 0 ns, sys: 3.86 ms, total: 3.86 ms\n",
      "Wall time: 4.66 ms\n"
     ]
    }
   ],
   "source": [
    "%%time\n",
    "gt_path = f'/auto/brno12-cerit/nfs4/home/tslaninakova/sisap-challenge/data/groundtruth-100K.h5'\n",
    "f3 = h5py.File(gt_path, 'r')\n",
    "loaded_gt = f3['knns'][:, :]"
   ]
  },
  {
   "cell_type": "code",
   "execution_count": 164,
   "id": "7faf3604-01ec-4f2b-89f2-7271b1087831",
   "metadata": {},
   "outputs": [],
   "source": [
    "from li.BaseLMI import cluster_kmeans_faiss"
   ]
  },
  {
   "cell_type": "code",
   "execution_count": 165,
   "id": "f2d30625-8ba5-42c8-b6cb-b02e7f303ca6",
   "metadata": {},
   "outputs": [],
   "source": [
    "_, basic_clustering = cluster_kmeans_faiss(data, n_clusters=10)"
   ]
  },
  {
   "cell_type": "code",
   "execution_count": 166,
   "id": "e76db15c-546f-4c3c-9600-c16fb4099aac",
   "metadata": {},
   "outputs": [
    {
     "data": {
      "text/plain": [
       "(100000,)"
      ]
     },
     "execution_count": 166,
     "metadata": {},
     "output_type": "execute_result"
    }
   ],
   "source": [
    "basic_clustering.shape"
   ]
  },
  {
   "cell_type": "code",
   "execution_count": 167,
   "id": "bf06a07b-e575-4908-9b97-cfa17462afb1",
   "metadata": {},
   "outputs": [],
   "source": [
    "data['category'] = basic_clustering"
   ]
  },
  {
   "cell_type": "code",
   "execution_count": 168,
   "id": "34afc18d-eab3-4314-8e7d-973bc91627be",
   "metadata": {},
   "outputs": [],
   "source": [
    "from li.model import NeuralNetwork, data_X_to_torch, data_to_torch"
   ]
  },
  {
   "cell_type": "code",
   "execution_count": 169,
   "id": "068bda95-def9-45f0-9373-a4643e834cd9",
   "metadata": {},
   "outputs": [
    {
     "data": {
      "text/plain": [
       "(100000, 32)"
      ]
     },
     "execution_count": 169,
     "metadata": {},
     "output_type": "execute_result"
    }
   ],
   "source": [
    "loaded_data.shape"
   ]
  },
  {
   "cell_type": "code",
   "execution_count": 170,
   "id": "708f782c-5b87-42a3-aeb6-2f0cea01c57c",
   "metadata": {},
   "outputs": [],
   "source": [
    "nn = NeuralNetwork(input_dim=32, output_dim=10)"
   ]
  },
  {
   "cell_type": "code",
   "execution_count": 171,
   "id": "bea1bebc-eb99-4a5e-9774-bae20e5dd024",
   "metadata": {},
   "outputs": [],
   "source": [
    "import logging\n",
    "logging.basicConfig(\n",
    "    level=logging.INFO,\n",
    "    format='[%(asctime)s][%(levelname)-5.5s][%(name)-.20s] %(message)s'\n",
    ")\n",
    "LOG = logging.getLogger(__name__)"
   ]
  },
  {
   "cell_type": "code",
   "execution_count": 172,
   "id": "bc4ae4ca-5319-4620-803d-7df4363d1704",
   "metadata": {},
   "outputs": [
    {
     "name": "stderr",
     "output_type": "stream",
     "text": [
      "[2023-07-03 14:50:49,535][INFO ][__main__] Epochs: 1000, step: 100\n",
      "[2023-07-03 14:51:25,159][INFO ][__main__] Epoch 100 | Loss 0.02519792504608631\n",
      "[2023-07-03 14:52:21,782][INFO ][__main__] Epoch 200 | Loss 0.019894858822226524\n",
      "[2023-07-03 14:53:24,079][INFO ][__main__] Epoch 300 | Loss 0.014030814170837402\n",
      "[2023-07-03 14:54:24,626][INFO ][__main__] Epoch 400 | Loss 0.00879271887242794\n",
      "[2023-07-03 14:55:25,084][INFO ][__main__] Epoch 500 | Loss 0.006988594774156809\n",
      "[2023-07-03 14:56:23,152][INFO ][__main__] Epoch 600 | Loss 0.005604397971183062\n",
      "[2023-07-03 14:57:19,718][INFO ][__main__] Epoch 700 | Loss 0.004538560286164284\n",
      "[2023-07-03 14:58:13,027][INFO ][__main__] Epoch 800 | Loss 0.0037040801253169775\n",
      "[2023-07-03 14:59:05,355][INFO ][__main__] Epoch 900 | Loss 0.00305874808691442\n"
     ]
    },
    {
     "name": "stdout",
     "output_type": "stream",
     "text": [
      "CPU times: user 7min 27s, sys: 1min 16s, total: 8min 44s\n",
      "Wall time: 9min 7s\n"
     ]
    }
   ],
   "source": [
    "data_x, data_y = data_to_torch(loaded_data, basic_clustering)\n",
    "%time losses = nn.train(data_x, data_y, epochs=1000, logger=LOG)"
   ]
  },
  {
   "cell_type": "code",
   "execution_count": 173,
   "id": "097ca34b-aedc-40a8-9028-d3fdac03b259",
   "metadata": {},
   "outputs": [
    {
     "name": "stdout",
     "output_type": "stream",
     "text": [
      "CPU times: user 1.83 ms, sys: 259 µs, total: 2.08 ms\n",
      "Wall time: 8.56 ms\n",
      "CPU times: user 0 ns, sys: 3.48 ms, total: 3.48 ms\n",
      "Wall time: 16.6 ms\n"
     ]
    }
   ],
   "source": [
    "#/auto/brno12-cerit/nfs4/home/tslaninakova/sisap-challenge/data/pca32v2/100K/query.h5\n",
    "import h5py\n",
    "query_path = '/auto/brno12-cerit/nfs4/home/tslaninakova/sisap-challenge/data/pca32v2/100K/query.h5'\n",
    "%time f = h5py.File(query_path, 'r')\n",
    "%time loaded_queries = f['pca32'][:, :]"
   ]
  },
  {
   "cell_type": "code",
   "execution_count": 19,
   "id": "384ab65c-cd91-461a-a1c4-5bcb513a3c22",
   "metadata": {},
   "outputs": [
    {
     "data": {
      "text/plain": [
       "(10000, 32)"
      ]
     },
     "execution_count": 19,
     "metadata": {},
     "output_type": "execute_result"
    }
   ],
   "source": [
    "loaded_queries.shape"
   ]
  },
  {
   "cell_type": "code",
   "execution_count": 181,
   "id": "90c62012-91d9-440f-b268-0cfb75a0770e",
   "metadata": {},
   "outputs": [],
   "source": [
    "res = nn.predict_proba(data_X_to_torch(loaded_queries))"
   ]
  },
  {
   "cell_type": "code",
   "execution_count": 182,
   "id": "121d78ba-8593-47dd-adbf-49f8247f1baf",
   "metadata": {},
   "outputs": [
    {
     "data": {
      "text/plain": [
       "array([1.0000000e+00, 2.8025969e-45, 6.5373376e-41, 0.0000000e+00,\n",
       "       0.0000000e+00, 0.0000000e+00, 0.0000000e+00, 4.3325643e-38,\n",
       "       0.0000000e+00, 3.0982036e-35], dtype=float32)"
      ]
     },
     "execution_count": 182,
     "metadata": {},
     "output_type": "execute_result"
    }
   ],
   "source": [
    "res[0][0]"
   ]
  },
  {
   "cell_type": "code",
   "execution_count": 183,
   "id": "eb4babc9-ce2d-40e3-be07-64e7bc4b31f1",
   "metadata": {},
   "outputs": [
    {
     "data": {
      "text/plain": [
       "<AxesSubplot:>"
      ]
     },
     "execution_count": 183,
     "metadata": {},
     "output_type": "execute_result"
    },
    {
     "data": {
      "image/png": "[encoded data removed]",
      "text/plain": [
       "<Figure size 432x288 with 1 Axes>"
      ]
     },
     "metadata": {
      "needs_background": "light"
     },
     "output_type": "display_data"
    }
   ],
   "source": [
    "pd.DataFrame(res[0][0]).plot.bar()"
   ]
  },
  {
   "cell_type": "code",
   "execution_count": 174,
   "id": "61ddd9d2-3426-44fa-85e2-2e9a8299883e",
   "metadata": {},
   "outputs": [],
   "source": [
    "import numpy as np\n",
    "from tqdm import tqdm"
   ]
  },
  {
   "cell_type": "code",
   "execution_count": 194,
   "id": "f3d562dc-420c-4a7e-971a-c781caec0910",
   "metadata": {},
   "outputs": [
    {
     "data": {
      "text/plain": [
       "79172    0\n",
       "15735    0\n",
       "22337    0\n",
       "231      0\n",
       "74173    0\n",
       "41079    0\n",
       "38159    0\n",
       "71849    0\n",
       "69015    0\n",
       "92811    0\n",
       "Name: category, dtype: int64"
      ]
     },
     "execution_count": 194,
     "metadata": {},
     "output_type": "execute_result"
    }
   ],
   "source": [
    "data.loc[loaded_gt[0][:10]].category"
   ]
  },
  {
   "cell_type": "code",
   "execution_count": 195,
   "id": "c14a6ac8-5821-4103-97ba-33b3f2194070",
   "metadata": {},
   "outputs": [
    {
     "data": {
      "text/plain": [
       "0"
      ]
     },
     "execution_count": 195,
     "metadata": {},
     "output_type": "execute_result"
    }
   ],
   "source": [
    "np.argmax(res[0][0])"
   ]
  },
  {
   "cell_type": "code",
   "execution_count": 191,
   "id": "8a6378fd-e7f8-4f1f-ad17-e7976e21911a",
   "metadata": {},
   "outputs": [
    {
     "data": {
      "text/plain": [
       "array([0, 9, 7, 2, 1, 8, 6, 5, 4, 3])"
      ]
     },
     "execution_count": 191,
     "metadata": {},
     "output_type": "execute_result"
    }
   ],
   "source": [
    "np.argsort(res[0][0])[::-1]"
   ]
  },
  {
   "cell_type": "code",
   "execution_count": 185,
   "id": "76572977-1c2e-4fd6-be5c-e32fe50ebda7",
   "metadata": {},
   "outputs": [
    {
     "data": {
      "text/plain": [
       "10"
      ]
     },
     "execution_count": 185,
     "metadata": {},
     "output_type": "execute_result"
    }
   ],
   "source": [
    "np.sum(data.loc[loaded_gt[0][:10]].category == np.argmax(res[0][0]))"
   ]
  },
  {
   "cell_type": "code",
   "execution_count": null,
   "id": "d4ee5cba-362f-41df-bcc3-133677d3d38c",
   "metadata": {},
   "outputs": [],
   "source": [
    "    correct_cat_perc.append(\n",
    "        np.sum(data.loc[loaded_gt[i][:10]].category == np.argmax(res[0][i]))\n",
    "    )"
   ]
  },
  {
   "cell_type": "code",
   "execution_count": 205,
   "id": "f6bdc73a-0c6a-4cc1-bbeb-e228b6120dee",
   "metadata": {},
   "outputs": [
    {
     "name": "stdout",
     "output_type": "stream",
     "text": [
      "0\n",
      "1.0\n",
      "9\n",
      "3.0982036e-35\n",
      "7\n",
      "4.3325643e-38\n",
      "2\n",
      "6.5373e-41\n",
      "1\n",
      "3e-45\n",
      "8\n",
      "0.0\n",
      "6\n",
      "0.0\n",
      "5\n",
      "0.0\n",
      "4\n",
      "0.0\n",
      "3\n",
      "0.0\n"
     ]
    }
   ],
   "source": [
    "for j in np.argsort(res[0][i])[::-1]:\n",
    "    print(j)\n",
    "    print(res[0][i][j])"
   ]
  },
  {
   "cell_type": "code",
   "execution_count": 204,
   "id": "81e01dc7-e03a-4e1c-bd8e-8b8595c1f1fd",
   "metadata": {},
   "outputs": [
    {
     "data": {
      "text/plain": [
       "3"
      ]
     },
     "execution_count": 204,
     "metadata": {},
     "output_type": "execute_result"
    }
   ],
   "source": [
    "j"
   ]
  },
  {
   "cell_type": "code",
   "execution_count": 202,
   "id": "9fd256e3-638a-46ba-930a-575f37bfee5f",
   "metadata": {},
   "outputs": [
    {
     "data": {
      "text/plain": [
       "1.0"
      ]
     },
     "execution_count": 202,
     "metadata": {},
     "output_type": "execute_result"
    }
   ],
   "source": [
    "res[0][i][j]"
   ]
  },
  {
   "cell_type": "code",
   "execution_count": 197,
   "id": "d1324121-f7f0-4815-9b9e-1478259f189d",
   "metadata": {},
   "outputs": [
    {
     "data": {
      "text/plain": [
       "79172    0\n",
       "15735    0\n",
       "22337    0\n",
       "231      0\n",
       "74173    0\n",
       "41079    0\n",
       "38159    0\n",
       "71849    0\n",
       "69015    0\n",
       "92811    0\n",
       "Name: category, dtype: int64"
      ]
     },
     "execution_count": 197,
     "metadata": {},
     "output_type": "execute_result"
    }
   ],
   "source": [
    "data.loc[loaded_gt[i][:10]].category"
   ]
  },
  {
   "cell_type": "code",
   "execution_count": 210,
   "id": "5975bdba-c187-49d2-9a9d-bf8a60e061cd",
   "metadata": {},
   "outputs": [
    {
     "data": {
      "text/plain": [
       "17098"
      ]
     },
     "execution_count": 210,
     "metadata": {},
     "output_type": "execute_result"
    }
   ],
   "source": [
    "data.query('category == 0').shape[0]"
   ]
  },
  {
   "cell_type": "code",
   "execution_count": 216,
   "id": "139ac462-0ce7-4073-9f28-069ab56967a3",
   "metadata": {},
   "outputs": [
    {
     "data": {
      "text/plain": [
       "17098"
      ]
     },
     "execution_count": 216,
     "metadata": {},
     "output_type": "execute_result"
    }
   ],
   "source": [
    "np.sum(basic_clustering == 0)"
   ]
  },
  {
   "cell_type": "code",
   "execution_count": null,
   "id": "316ae702-b3bf-408d-91cc-bf1782d5385c",
   "metadata": {
    "tags": []
   },
   "outputs": [],
   "source": [
    "n_cats_covered = []\n",
    "n_objects_covered = []\n",
    "\n",
    "for i in tqdm(range(10_000)):\n",
    "    overall_sum = 0\n",
    "    overall_objects_sum = 0\n",
    "    argsorted = np.argsort(res[0][i])[::-1]\n",
    "    idx = 0\n",
    "    while overall_sum < 9:\n",
    "        overall_sum += np.sum(data.loc[loaded_gt[i][:10]].category == argsorted[idx])\n",
    "        overall_objects_sum += np.sum(basic_clustering == argsorted[idx])\n",
    "        idx += 1\n",
    "    n_cats_covered.append(idx)\n",
    "    n_objects_covered.append(overall_objects_sum)"
   ]
  },
  {
   "cell_type": "code",
   "execution_count": 188,
   "id": "99c5240a-1ae5-472a-b0f1-cb089ada2f26",
   "metadata": {},
   "outputs": [
    {
     "data": {
      "text/plain": [
       "[10, 10, 10, 10, 2, 0, 8, 10, 2, 8]"
      ]
     },
     "execution_count": 188,
     "metadata": {},
     "output_type": "execute_result"
    }
   ],
   "source": [
    "correct_cat_perc[:10]"
   ]
  },
  {
   "cell_type": "code",
   "execution_count": 218,
   "id": "b1a544de-1c20-4233-9ad1-476ca1259c62",
   "metadata": {},
   "outputs": [
    {
     "data": {
      "text/plain": [
       "2.2811"
      ]
     },
     "execution_count": 218,
     "metadata": {},
     "output_type": "execute_result"
    }
   ],
   "source": [
    "np.mean(np.array(n_cats_covered))"
   ]
  },
  {
   "cell_type": "code",
   "execution_count": 219,
   "id": "ae4639d4-22fe-4b98-b292-1acb7b300691",
   "metadata": {},
   "outputs": [
    {
     "data": {
      "text/plain": [
       "25176.2491"
      ]
     },
     "execution_count": 219,
     "metadata": {},
     "output_type": "execute_result"
    }
   ],
   "source": [
    "np.mean(np.array(n_objects_covered))"
   ]
  },
  {
   "cell_type": "markdown",
   "id": "39dc6a7c-fa27-448f-8a07-cda7bcaaa780",
   "metadata": {},
   "source": [
    "### vs. random pivots"
   ]
  },
  {
   "cell_type": "code",
   "execution_count": 114,
   "id": "8ef7ecc7-8297-40c5-8983-20b9b1214ce8",
   "metadata": {},
   "outputs": [
    {
     "data": {
      "text/plain": [
       "((10,),\n",
       " array([22042, 69733, 25528, 59967, 44295,  8804, 11316, 15732, 29828,\n",
       "        47322]))"
      ]
     },
     "execution_count": 114,
     "metadata": {},
     "output_type": "execute_result"
    }
   ],
   "source": [
    "rng = np.random.default_rng(seed=2023)\n",
    "pivot_indexes = rng.choice(range(100_000), size=(10), replace=False)\n",
    "pivot_indexes.shape, pivot_indexes[:10]"
   ]
  },
  {
   "cell_type": "code",
   "execution_count": 115,
   "id": "6338c16a-4b4e-4f8d-b086-d9232d03f1b2",
   "metadata": {},
   "outputs": [
    {
     "data": {
      "text/html": [
       "<div>\n",
       "<style scoped>\n",
       "    .dataframe tbody tr th:only-of-type {\n",
       "        vertical-align: middle;\n",
       "    }\n",
       "\n",
       "    .dataframe tbody tr th {\n",
       "        vertical-align: top;\n",
       "    }\n",
       "\n",
       "    .dataframe thead th {\n",
       "        text-align: right;\n",
       "    }\n",
       "</style>\n",
       "<table border=\"1\" class=\"dataframe\">\n",
       "  <thead>\n",
       "    <tr style=\"text-align: right;\">\n",
       "      <th></th>\n",
       "      <th>0</th>\n",
       "      <th>1</th>\n",
       "      <th>2</th>\n",
       "      <th>3</th>\n",
       "      <th>4</th>\n",
       "      <th>5</th>\n",
       "      <th>6</th>\n",
       "      <th>7</th>\n",
       "      <th>8</th>\n",
       "      <th>9</th>\n",
       "      <th>...</th>\n",
       "      <th>23</th>\n",
       "      <th>24</th>\n",
       "      <th>25</th>\n",
       "      <th>26</th>\n",
       "      <th>27</th>\n",
       "      <th>28</th>\n",
       "      <th>29</th>\n",
       "      <th>30</th>\n",
       "      <th>31</th>\n",
       "      <th>category</th>\n",
       "    </tr>\n",
       "  </thead>\n",
       "  <tbody>\n",
       "    <tr>\n",
       "      <th>1</th>\n",
       "      <td>0.142266</td>\n",
       "      <td>0.121459</td>\n",
       "      <td>-0.054467</td>\n",
       "      <td>-0.058987</td>\n",
       "      <td>0.049365</td>\n",
       "      <td>-0.107044</td>\n",
       "      <td>0.123232</td>\n",
       "      <td>0.003732</td>\n",
       "      <td>0.044797</td>\n",
       "      <td>-0.118452</td>\n",
       "      <td>...</td>\n",
       "      <td>0.037666</td>\n",
       "      <td>-0.089511</td>\n",
       "      <td>0.077113</td>\n",
       "      <td>-0.118540</td>\n",
       "      <td>0.058264</td>\n",
       "      <td>0.065489</td>\n",
       "      <td>0.028578</td>\n",
       "      <td>-0.089683</td>\n",
       "      <td>0.126804</td>\n",
       "      <td>5</td>\n",
       "    </tr>\n",
       "    <tr>\n",
       "      <th>2</th>\n",
       "      <td>0.213798</td>\n",
       "      <td>-0.011502</td>\n",
       "      <td>-0.015170</td>\n",
       "      <td>0.149934</td>\n",
       "      <td>0.106344</td>\n",
       "      <td>0.082373</td>\n",
       "      <td>-0.120631</td>\n",
       "      <td>-0.061052</td>\n",
       "      <td>0.068679</td>\n",
       "      <td>0.033809</td>\n",
       "      <td>...</td>\n",
       "      <td>-0.013627</td>\n",
       "      <td>0.004503</td>\n",
       "      <td>-0.046667</td>\n",
       "      <td>-0.043632</td>\n",
       "      <td>-0.086331</td>\n",
       "      <td>-0.011793</td>\n",
       "      <td>-0.047739</td>\n",
       "      <td>0.020949</td>\n",
       "      <td>-0.030398</td>\n",
       "      <td>6</td>\n",
       "    </tr>\n",
       "    <tr>\n",
       "      <th>3</th>\n",
       "      <td>0.069708</td>\n",
       "      <td>-0.213904</td>\n",
       "      <td>0.132880</td>\n",
       "      <td>-0.150276</td>\n",
       "      <td>-0.049206</td>\n",
       "      <td>0.080040</td>\n",
       "      <td>-0.023638</td>\n",
       "      <td>0.017214</td>\n",
       "      <td>-0.208746</td>\n",
       "      <td>0.053342</td>\n",
       "      <td>...</td>\n",
       "      <td>0.023209</td>\n",
       "      <td>-0.048399</td>\n",
       "      <td>-0.051265</td>\n",
       "      <td>0.019088</td>\n",
       "      <td>-0.036999</td>\n",
       "      <td>0.006381</td>\n",
       "      <td>0.011267</td>\n",
       "      <td>-0.029590</td>\n",
       "      <td>0.076341</td>\n",
       "      <td>0</td>\n",
       "    </tr>\n",
       "    <tr>\n",
       "      <th>4</th>\n",
       "      <td>0.136409</td>\n",
       "      <td>-0.124815</td>\n",
       "      <td>-0.154166</td>\n",
       "      <td>0.239908</td>\n",
       "      <td>0.002291</td>\n",
       "      <td>0.145442</td>\n",
       "      <td>-0.069386</td>\n",
       "      <td>-0.006642</td>\n",
       "      <td>0.124328</td>\n",
       "      <td>0.054876</td>\n",
       "      <td>...</td>\n",
       "      <td>0.027433</td>\n",
       "      <td>0.072961</td>\n",
       "      <td>-0.035555</td>\n",
       "      <td>-0.003668</td>\n",
       "      <td>-0.007776</td>\n",
       "      <td>-0.065730</td>\n",
       "      <td>-0.013595</td>\n",
       "      <td>-0.012795</td>\n",
       "      <td>-0.030780</td>\n",
       "      <td>6</td>\n",
       "    </tr>\n",
       "    <tr>\n",
       "      <th>5</th>\n",
       "      <td>-0.389241</td>\n",
       "      <td>0.076076</td>\n",
       "      <td>-0.072001</td>\n",
       "      <td>0.103547</td>\n",
       "      <td>-0.058551</td>\n",
       "      <td>0.033468</td>\n",
       "      <td>0.017906</td>\n",
       "      <td>0.094761</td>\n",
       "      <td>0.034065</td>\n",
       "      <td>-0.220189</td>\n",
       "      <td>...</td>\n",
       "      <td>-0.016713</td>\n",
       "      <td>0.018730</td>\n",
       "      <td>0.050222</td>\n",
       "      <td>-0.021090</td>\n",
       "      <td>0.004709</td>\n",
       "      <td>0.043465</td>\n",
       "      <td>-0.049461</td>\n",
       "      <td>-0.052292</td>\n",
       "      <td>0.027773</td>\n",
       "      <td>9</td>\n",
       "    </tr>\n",
       "  </tbody>\n",
       "</table>\n",
       "<p>5 rows × 33 columns</p>\n",
       "</div>"
      ],
      "text/plain": [
       "          0         1         2         3         4         5         6  \\\n",
       "1  0.142266  0.121459 -0.054467 -0.058987  0.049365 -0.107044  0.123232   \n",
       "2  0.213798 -0.011502 -0.015170  0.149934  0.106344  0.082373 -0.120631   \n",
       "3  0.069708 -0.213904  0.132880 -0.150276 -0.049206  0.080040 -0.023638   \n",
       "4  0.136409 -0.124815 -0.154166  0.239908  0.002291  0.145442 -0.069386   \n",
       "5 -0.389241  0.076076 -0.072001  0.103547 -0.058551  0.033468  0.017906   \n",
       "\n",
       "          7         8         9  ...        23        24        25        26  \\\n",
       "1  0.003732  0.044797 -0.118452  ...  0.037666 -0.089511  0.077113 -0.118540   \n",
       "2 -0.061052  0.068679  0.033809  ... -0.013627  0.004503 -0.046667 -0.043632   \n",
       "3  0.017214 -0.208746  0.053342  ...  0.023209 -0.048399 -0.051265  0.019088   \n",
       "4 -0.006642  0.124328  0.054876  ...  0.027433  0.072961 -0.035555 -0.003668   \n",
       "5  0.094761  0.034065 -0.220189  ... -0.016713  0.018730  0.050222 -0.021090   \n",
       "\n",
       "         27        28        29        30        31  category  \n",
       "1  0.058264  0.065489  0.028578 -0.089683  0.126804         5  \n",
       "2 -0.086331 -0.011793 -0.047739  0.020949 -0.030398         6  \n",
       "3 -0.036999  0.006381  0.011267 -0.029590  0.076341         0  \n",
       "4 -0.007776 -0.065730 -0.013595 -0.012795 -0.030780         6  \n",
       "5  0.004709  0.043465 -0.049461 -0.052292  0.027773         9  \n",
       "\n",
       "[5 rows x 33 columns]"
      ]
     },
     "execution_count": 115,
     "metadata": {},
     "output_type": "execute_result"
    }
   ],
   "source": [
    "data.head()"
   ]
  },
  {
   "cell_type": "code",
   "execution_count": 116,
   "id": "74fc73ac-9ddd-4433-a5ff-ed5c68ec8abf",
   "metadata": {},
   "outputs": [],
   "source": [
    "pivot_data = data.drop(['category'], axis=1).sample(10, random_state=2023)"
   ]
  },
  {
   "cell_type": "code",
   "execution_count": 117,
   "id": "21916e55-c41e-4fdb-b022-999ae243a45c",
   "metadata": {},
   "outputs": [],
   "source": [
    "random_10k_data = data.drop(['category'], axis=1).sample(10_000, random_state=2023+1)"
   ]
  },
  {
   "cell_type": "code",
   "execution_count": 118,
   "id": "18a9e78c-2c2e-48e3-9809-8f7933221a31",
   "metadata": {},
   "outputs": [],
   "source": [
    "from sklearn.metrics.pairwise import cosine_similarity\n",
    "import numpy as np\n",
    "import time\n",
    "\n",
    "def pairwise_cosine(x, y):\n",
    "    return 1-cosine_similarity(x, y)"
   ]
  },
  {
   "cell_type": "code",
   "execution_count": 119,
   "id": "92fc7ec6-8dc9-4793-b592-2c93a7523799",
   "metadata": {},
   "outputs": [
    {
     "name": "stdout",
     "output_type": "stream",
     "text": [
      "CPU times: user 30 ms, sys: 3.68 ms, total: 33.7 ms\n",
      "Wall time: 33.7 ms\n"
     ]
    }
   ],
   "source": [
    "%time res = pairwise_cosine(pivot_data, data.drop(['category'], axis=1))"
   ]
  },
  {
   "cell_type": "code",
   "execution_count": 120,
   "id": "56df379a-af68-4654-b324-5e228ad6383b",
   "metadata": {},
   "outputs": [],
   "source": [
    "sorted_res = np.argsort(res)"
   ]
  },
  {
   "cell_type": "code",
   "execution_count": 121,
   "id": "387da90d-6e39-48d2-a832-e80cad04f5f2",
   "metadata": {},
   "outputs": [
    {
     "data": {
      "text/plain": [
       "array([65740, 94976, 65224, ..., 69754, 30783, 30103])"
      ]
     },
     "execution_count": 121,
     "metadata": {},
     "output_type": "execute_result"
    }
   ],
   "source": [
    "sorted_res[0]"
   ]
  },
  {
   "cell_type": "code",
   "execution_count": 122,
   "id": "765fc328-53a1-4692-aedf-f29d956dfef3",
   "metadata": {},
   "outputs": [
    {
     "data": {
      "text/plain": [
       "(100000,)"
      ]
     },
     "execution_count": 122,
     "metadata": {},
     "output_type": "execute_result"
    }
   ],
   "source": [
    "sorted_res[0].shape"
   ]
  },
  {
   "cell_type": "code",
   "execution_count": 123,
   "id": "eec64b80-520a-4d36-8b0e-ffb39e9a70cc",
   "metadata": {},
   "outputs": [],
   "source": [
    "data['category_dists'] = np.NaN"
   ]
  },
  {
   "cell_type": "code",
   "execution_count": 124,
   "id": "a7141a21-02a6-49a8-b08b-6b4176fbe61b",
   "metadata": {},
   "outputs": [],
   "source": [
    "for i in range(10):\n",
    "    data.loc[sorted_res[i, :1000], 'category_dists'] = i"
   ]
  },
  {
   "cell_type": "code",
   "execution_count": 125,
   "id": "648e205b-faa3-4829-a378-1c4045f0a11b",
   "metadata": {},
   "outputs": [],
   "source": [
    "nn2 = NeuralNetwork(input_dim=32, output_dim=10, lr=1)"
   ]
  },
  {
   "cell_type": "code",
   "execution_count": 126,
   "id": "24bae434-996b-4e96-8ae8-71ea603d103c",
   "metadata": {},
   "outputs": [
    {
     "name": "stderr",
     "output_type": "stream",
     "text": [
      "[2023-07-03 12:47:52,551][INFO ][__main__] Epochs: 1000, step: 100\n",
      "[2023-07-03 12:47:54,786][INFO ][__main__] Epoch 100 | Loss 2.292569637298584\n",
      "[2023-07-03 12:47:56,775][INFO ][__main__] Epoch 200 | Loss 2.2867918014526367\n",
      "[2023-07-03 12:47:58,763][INFO ][__main__] Epoch 300 | Loss 2.278618335723877\n",
      "[2023-07-03 12:48:00,986][INFO ][__main__] Epoch 400 | Loss 2.271494150161743\n",
      "[2023-07-03 12:48:03,550][INFO ][__main__] Epoch 500 | Loss 2.2627475261688232\n",
      "[2023-07-03 12:48:05,592][INFO ][__main__] Epoch 600 | Loss 2.252671003341675\n",
      "[2023-07-03 12:48:07,789][INFO ][__main__] Epoch 700 | Loss 2.246417760848999\n",
      "[2023-07-03 12:48:10,044][INFO ][__main__] Epoch 800 | Loss 2.243048906326294\n",
      "[2023-07-03 12:48:12,286][INFO ][__main__] Epoch 900 | Loss 2.239333391189575\n"
     ]
    },
    {
     "name": "stdout",
     "output_type": "stream",
     "text": [
      "CPU times: user 21.1 s, sys: 85.5 ms, total: 21.2 s\n",
      "Wall time: 22 s\n"
     ]
    }
   ],
   "source": [
    "data_x, data_y = data_to_torch(\n",
    "    data[~data.category_dists.isna()].drop(['category', 'category_dists'], axis=1),\n",
    "    data[~data.category_dists.isna()].category_dists.values\n",
    ")\n",
    "%time losses = nn2.train(data_x, data_y, epochs=1000, logger=LOG)"
   ]
  },
  {
   "cell_type": "code",
   "execution_count": null,
   "id": "50802d9b-bcd4-49d9-958d-0d5ad5632b68",
   "metadata": {},
   "outputs": [],
   "source": [
    "## loss is much higher and goes down much more slowly than in the case of K-Means"
   ]
  },
  {
   "cell_type": "code",
   "execution_count": 127,
   "id": "feeb9ac5-33b0-418f-955b-64f2a225988e",
   "metadata": {},
   "outputs": [
    {
     "data": {
      "text/plain": [
       "(90313,)"
      ]
     },
     "execution_count": 127,
     "metadata": {},
     "output_type": "execute_result"
    }
   ],
   "source": [
    "predicted_cats = nn2.predict(data_X_to_torch(\n",
    "    data[data.category_dists.isna()].drop(['category', 'category_dists'], axis=1)\n",
    "))\n",
    "predicted_cats.shape"
   ]
  },
  {
   "cell_type": "code",
   "execution_count": 128,
   "id": "7c0547fa-4b29-462d-ad18-5abe624055b5",
   "metadata": {},
   "outputs": [
    {
     "data": {
      "text/html": [
       "<div>\n",
       "<style scoped>\n",
       "    .dataframe tbody tr th:only-of-type {\n",
       "        vertical-align: middle;\n",
       "    }\n",
       "\n",
       "    .dataframe tbody tr th {\n",
       "        vertical-align: top;\n",
       "    }\n",
       "\n",
       "    .dataframe thead th {\n",
       "        text-align: right;\n",
       "    }\n",
       "</style>\n",
       "<table border=\"1\" class=\"dataframe\">\n",
       "  <thead>\n",
       "    <tr style=\"text-align: right;\">\n",
       "      <th></th>\n",
       "      <th>0</th>\n",
       "      <th>1</th>\n",
       "      <th>2</th>\n",
       "      <th>3</th>\n",
       "      <th>4</th>\n",
       "      <th>5</th>\n",
       "      <th>6</th>\n",
       "      <th>7</th>\n",
       "      <th>8</th>\n",
       "      <th>9</th>\n",
       "      <th>...</th>\n",
       "      <th>24</th>\n",
       "      <th>25</th>\n",
       "      <th>26</th>\n",
       "      <th>27</th>\n",
       "      <th>28</th>\n",
       "      <th>29</th>\n",
       "      <th>30</th>\n",
       "      <th>31</th>\n",
       "      <th>category</th>\n",
       "      <th>category_dists</th>\n",
       "    </tr>\n",
       "  </thead>\n",
       "  <tbody>\n",
       "    <tr>\n",
       "      <th>1</th>\n",
       "      <td>0.142266</td>\n",
       "      <td>0.121459</td>\n",
       "      <td>-0.054467</td>\n",
       "      <td>-0.058987</td>\n",
       "      <td>0.049365</td>\n",
       "      <td>-0.107044</td>\n",
       "      <td>0.123232</td>\n",
       "      <td>0.003732</td>\n",
       "      <td>0.044797</td>\n",
       "      <td>-0.118452</td>\n",
       "      <td>...</td>\n",
       "      <td>-0.089511</td>\n",
       "      <td>0.077113</td>\n",
       "      <td>-0.118540</td>\n",
       "      <td>0.058264</td>\n",
       "      <td>0.065489</td>\n",
       "      <td>0.028578</td>\n",
       "      <td>-0.089683</td>\n",
       "      <td>0.126804</td>\n",
       "      <td>5</td>\n",
       "      <td>NaN</td>\n",
       "    </tr>\n",
       "    <tr>\n",
       "      <th>2</th>\n",
       "      <td>0.213798</td>\n",
       "      <td>-0.011502</td>\n",
       "      <td>-0.015170</td>\n",
       "      <td>0.149934</td>\n",
       "      <td>0.106344</td>\n",
       "      <td>0.082373</td>\n",
       "      <td>-0.120631</td>\n",
       "      <td>-0.061052</td>\n",
       "      <td>0.068679</td>\n",
       "      <td>0.033809</td>\n",
       "      <td>...</td>\n",
       "      <td>0.004503</td>\n",
       "      <td>-0.046667</td>\n",
       "      <td>-0.043632</td>\n",
       "      <td>-0.086331</td>\n",
       "      <td>-0.011793</td>\n",
       "      <td>-0.047739</td>\n",
       "      <td>0.020949</td>\n",
       "      <td>-0.030398</td>\n",
       "      <td>6</td>\n",
       "      <td>NaN</td>\n",
       "    </tr>\n",
       "    <tr>\n",
       "      <th>3</th>\n",
       "      <td>0.069708</td>\n",
       "      <td>-0.213904</td>\n",
       "      <td>0.132880</td>\n",
       "      <td>-0.150276</td>\n",
       "      <td>-0.049206</td>\n",
       "      <td>0.080040</td>\n",
       "      <td>-0.023638</td>\n",
       "      <td>0.017214</td>\n",
       "      <td>-0.208746</td>\n",
       "      <td>0.053342</td>\n",
       "      <td>...</td>\n",
       "      <td>-0.048399</td>\n",
       "      <td>-0.051265</td>\n",
       "      <td>0.019088</td>\n",
       "      <td>-0.036999</td>\n",
       "      <td>0.006381</td>\n",
       "      <td>0.011267</td>\n",
       "      <td>-0.029590</td>\n",
       "      <td>0.076341</td>\n",
       "      <td>0</td>\n",
       "      <td>NaN</td>\n",
       "    </tr>\n",
       "    <tr>\n",
       "      <th>4</th>\n",
       "      <td>0.136409</td>\n",
       "      <td>-0.124815</td>\n",
       "      <td>-0.154166</td>\n",
       "      <td>0.239908</td>\n",
       "      <td>0.002291</td>\n",
       "      <td>0.145442</td>\n",
       "      <td>-0.069386</td>\n",
       "      <td>-0.006642</td>\n",
       "      <td>0.124328</td>\n",
       "      <td>0.054876</td>\n",
       "      <td>...</td>\n",
       "      <td>0.072961</td>\n",
       "      <td>-0.035555</td>\n",
       "      <td>-0.003668</td>\n",
       "      <td>-0.007776</td>\n",
       "      <td>-0.065730</td>\n",
       "      <td>-0.013595</td>\n",
       "      <td>-0.012795</td>\n",
       "      <td>-0.030780</td>\n",
       "      <td>6</td>\n",
       "      <td>NaN</td>\n",
       "    </tr>\n",
       "    <tr>\n",
       "      <th>5</th>\n",
       "      <td>-0.389241</td>\n",
       "      <td>0.076076</td>\n",
       "      <td>-0.072001</td>\n",
       "      <td>0.103547</td>\n",
       "      <td>-0.058551</td>\n",
       "      <td>0.033468</td>\n",
       "      <td>0.017906</td>\n",
       "      <td>0.094761</td>\n",
       "      <td>0.034065</td>\n",
       "      <td>-0.220189</td>\n",
       "      <td>...</td>\n",
       "      <td>0.018730</td>\n",
       "      <td>0.050222</td>\n",
       "      <td>-0.021090</td>\n",
       "      <td>0.004709</td>\n",
       "      <td>0.043465</td>\n",
       "      <td>-0.049461</td>\n",
       "      <td>-0.052292</td>\n",
       "      <td>0.027773</td>\n",
       "      <td>9</td>\n",
       "      <td>NaN</td>\n",
       "    </tr>\n",
       "    <tr>\n",
       "      <th>...</th>\n",
       "      <td>...</td>\n",
       "      <td>...</td>\n",
       "      <td>...</td>\n",
       "      <td>...</td>\n",
       "      <td>...</td>\n",
       "      <td>...</td>\n",
       "      <td>...</td>\n",
       "      <td>...</td>\n",
       "      <td>...</td>\n",
       "      <td>...</td>\n",
       "      <td>...</td>\n",
       "      <td>...</td>\n",
       "      <td>...</td>\n",
       "      <td>...</td>\n",
       "      <td>...</td>\n",
       "      <td>...</td>\n",
       "      <td>...</td>\n",
       "      <td>...</td>\n",
       "      <td>...</td>\n",
       "      <td>...</td>\n",
       "      <td>...</td>\n",
       "    </tr>\n",
       "    <tr>\n",
       "      <th>99993</th>\n",
       "      <td>-0.065555</td>\n",
       "      <td>-0.110774</td>\n",
       "      <td>0.027780</td>\n",
       "      <td>-0.022638</td>\n",
       "      <td>0.138626</td>\n",
       "      <td>-0.203276</td>\n",
       "      <td>-0.084971</td>\n",
       "      <td>-0.016191</td>\n",
       "      <td>-0.131503</td>\n",
       "      <td>-0.091344</td>\n",
       "      <td>...</td>\n",
       "      <td>-0.005175</td>\n",
       "      <td>-0.079819</td>\n",
       "      <td>0.045780</td>\n",
       "      <td>-0.010756</td>\n",
       "      <td>0.101217</td>\n",
       "      <td>0.052928</td>\n",
       "      <td>-0.029409</td>\n",
       "      <td>0.007089</td>\n",
       "      <td>7</td>\n",
       "      <td>NaN</td>\n",
       "    </tr>\n",
       "    <tr>\n",
       "      <th>99994</th>\n",
       "      <td>-0.016580</td>\n",
       "      <td>-0.047094</td>\n",
       "      <td>0.048885</td>\n",
       "      <td>0.053823</td>\n",
       "      <td>0.040815</td>\n",
       "      <td>0.164864</td>\n",
       "      <td>-0.087997</td>\n",
       "      <td>-0.173120</td>\n",
       "      <td>-0.062028</td>\n",
       "      <td>0.029086</td>\n",
       "      <td>...</td>\n",
       "      <td>0.014112</td>\n",
       "      <td>0.022947</td>\n",
       "      <td>0.032596</td>\n",
       "      <td>0.018570</td>\n",
       "      <td>-0.003964</td>\n",
       "      <td>0.054604</td>\n",
       "      <td>0.055929</td>\n",
       "      <td>0.031519</td>\n",
       "      <td>8</td>\n",
       "      <td>NaN</td>\n",
       "    </tr>\n",
       "    <tr>\n",
       "      <th>99995</th>\n",
       "      <td>-0.089185</td>\n",
       "      <td>-0.039447</td>\n",
       "      <td>0.142751</td>\n",
       "      <td>0.018894</td>\n",
       "      <td>-0.136014</td>\n",
       "      <td>-0.175853</td>\n",
       "      <td>-0.094182</td>\n",
       "      <td>-0.126959</td>\n",
       "      <td>0.107840</td>\n",
       "      <td>0.047235</td>\n",
       "      <td>...</td>\n",
       "      <td>0.019951</td>\n",
       "      <td>0.052902</td>\n",
       "      <td>-0.002340</td>\n",
       "      <td>-0.008083</td>\n",
       "      <td>-0.039704</td>\n",
       "      <td>-0.059032</td>\n",
       "      <td>-0.037460</td>\n",
       "      <td>-0.081697</td>\n",
       "      <td>2</td>\n",
       "      <td>NaN</td>\n",
       "    </tr>\n",
       "    <tr>\n",
       "      <th>99997</th>\n",
       "      <td>-0.225225</td>\n",
       "      <td>-0.004567</td>\n",
       "      <td>-0.004400</td>\n",
       "      <td>-0.034974</td>\n",
       "      <td>-0.129672</td>\n",
       "      <td>0.113504</td>\n",
       "      <td>-0.003353</td>\n",
       "      <td>-0.057222</td>\n",
       "      <td>0.090702</td>\n",
       "      <td>-0.004591</td>\n",
       "      <td>...</td>\n",
       "      <td>-0.041191</td>\n",
       "      <td>0.046411</td>\n",
       "      <td>0.003835</td>\n",
       "      <td>0.022965</td>\n",
       "      <td>0.112995</td>\n",
       "      <td>0.092276</td>\n",
       "      <td>0.041511</td>\n",
       "      <td>-0.017332</td>\n",
       "      <td>9</td>\n",
       "      <td>NaN</td>\n",
       "    </tr>\n",
       "    <tr>\n",
       "      <th>100000</th>\n",
       "      <td>0.189184</td>\n",
       "      <td>0.124356</td>\n",
       "      <td>0.075096</td>\n",
       "      <td>0.159731</td>\n",
       "      <td>0.018175</td>\n",
       "      <td>-0.058616</td>\n",
       "      <td>0.020699</td>\n",
       "      <td>-0.063809</td>\n",
       "      <td>-0.039280</td>\n",
       "      <td>-0.047513</td>\n",
       "      <td>...</td>\n",
       "      <td>0.027837</td>\n",
       "      <td>-0.027221</td>\n",
       "      <td>0.033823</td>\n",
       "      <td>0.065656</td>\n",
       "      <td>0.063327</td>\n",
       "      <td>0.004661</td>\n",
       "      <td>-0.007781</td>\n",
       "      <td>0.008472</td>\n",
       "      <td>4</td>\n",
       "      <td>NaN</td>\n",
       "    </tr>\n",
       "  </tbody>\n",
       "</table>\n",
       "<p>90313 rows × 34 columns</p>\n",
       "</div>"
      ],
      "text/plain": [
       "               0         1         2         3         4         5         6  \\\n",
       "1       0.142266  0.121459 -0.054467 -0.058987  0.049365 -0.107044  0.123232   \n",
       "2       0.213798 -0.011502 -0.015170  0.149934  0.106344  0.082373 -0.120631   \n",
       "3       0.069708 -0.213904  0.132880 -0.150276 -0.049206  0.080040 -0.023638   \n",
       "4       0.136409 -0.124815 -0.154166  0.239908  0.002291  0.145442 -0.069386   \n",
       "5      -0.389241  0.076076 -0.072001  0.103547 -0.058551  0.033468  0.017906   \n",
       "...          ...       ...       ...       ...       ...       ...       ...   \n",
       "99993  -0.065555 -0.110774  0.027780 -0.022638  0.138626 -0.203276 -0.084971   \n",
       "99994  -0.016580 -0.047094  0.048885  0.053823  0.040815  0.164864 -0.087997   \n",
       "99995  -0.089185 -0.039447  0.142751  0.018894 -0.136014 -0.175853 -0.094182   \n",
       "99997  -0.225225 -0.004567 -0.004400 -0.034974 -0.129672  0.113504 -0.003353   \n",
       "100000  0.189184  0.124356  0.075096  0.159731  0.018175 -0.058616  0.020699   \n",
       "\n",
       "               7         8         9  ...        24        25        26  \\\n",
       "1       0.003732  0.044797 -0.118452  ... -0.089511  0.077113 -0.118540   \n",
       "2      -0.061052  0.068679  0.033809  ...  0.004503 -0.046667 -0.043632   \n",
       "3       0.017214 -0.208746  0.053342  ... -0.048399 -0.051265  0.019088   \n",
       "4      -0.006642  0.124328  0.054876  ...  0.072961 -0.035555 -0.003668   \n",
       "5       0.094761  0.034065 -0.220189  ...  0.018730  0.050222 -0.021090   \n",
       "...          ...       ...       ...  ...       ...       ...       ...   \n",
       "99993  -0.016191 -0.131503 -0.091344  ... -0.005175 -0.079819  0.045780   \n",
       "99994  -0.173120 -0.062028  0.029086  ...  0.014112  0.022947  0.032596   \n",
       "99995  -0.126959  0.107840  0.047235  ...  0.019951  0.052902 -0.002340   \n",
       "99997  -0.057222  0.090702 -0.004591  ... -0.041191  0.046411  0.003835   \n",
       "100000 -0.063809 -0.039280 -0.047513  ...  0.027837 -0.027221  0.033823   \n",
       "\n",
       "              27        28        29        30        31  category  \\\n",
       "1       0.058264  0.065489  0.028578 -0.089683  0.126804         5   \n",
       "2      -0.086331 -0.011793 -0.047739  0.020949 -0.030398         6   \n",
       "3      -0.036999  0.006381  0.011267 -0.029590  0.076341         0   \n",
       "4      -0.007776 -0.065730 -0.013595 -0.012795 -0.030780         6   \n",
       "5       0.004709  0.043465 -0.049461 -0.052292  0.027773         9   \n",
       "...          ...       ...       ...       ...       ...       ...   \n",
       "99993  -0.010756  0.101217  0.052928 -0.029409  0.007089         7   \n",
       "99994   0.018570 -0.003964  0.054604  0.055929  0.031519         8   \n",
       "99995  -0.008083 -0.039704 -0.059032 -0.037460 -0.081697         2   \n",
       "99997   0.022965  0.112995  0.092276  0.041511 -0.017332         9   \n",
       "100000  0.065656  0.063327  0.004661 -0.007781  0.008472         4   \n",
       "\n",
       "        category_dists  \n",
       "1                  NaN  \n",
       "2                  NaN  \n",
       "3                  NaN  \n",
       "4                  NaN  \n",
       "5                  NaN  \n",
       "...                ...  \n",
       "99993              NaN  \n",
       "99994              NaN  \n",
       "99995              NaN  \n",
       "99997              NaN  \n",
       "100000             NaN  \n",
       "\n",
       "[90313 rows x 34 columns]"
      ]
     },
     "execution_count": 128,
     "metadata": {},
     "output_type": "execute_result"
    }
   ],
   "source": [
    "data.loc[data.category_dists.isna()]"
   ]
  },
  {
   "cell_type": "code",
   "execution_count": 129,
   "id": "1e73f547-1b3c-475a-ac1e-2b70c6a2a904",
   "metadata": {},
   "outputs": [],
   "source": [
    "data.loc[data.category_dists.isna(), 'category_dists'] = predicted_cats"
   ]
  },
  {
   "cell_type": "code",
   "execution_count": 130,
   "id": "3a026c69-64ce-4276-b1af-17cf2d9824de",
   "metadata": {},
   "outputs": [],
   "source": [
    "res = nn2.predict_proba(data_X_to_torch(loaded_queries))"
   ]
  },
  {
   "cell_type": "code",
   "execution_count": 131,
   "id": "59310a14-2f18-4b34-b035-043f6725a079",
   "metadata": {},
   "outputs": [
    {
     "name": "stderr",
     "output_type": "stream",
     "text": [
      "100%|██████████| 10000/10000 [00:09<00:00, 1052.74it/s]\n"
     ]
    }
   ],
   "source": [
    "res = nn2.predict_proba(data_X_to_torch(loaded_queries))\n",
    "correct_cat_perc = []\n",
    "for i in tqdm(range(10_000)):\n",
    "    correct_cat_perc.append(\n",
    "        np.sum(data.loc[loaded_gt[i][:10]].category == np.argmax(res[0][i]))\n",
    "    )\n",
    "np.mean(np.array(correct_cat_perc))"
   ]
  },
  {
   "cell_type": "code",
   "execution_count": 132,
   "id": "c1127c72-a7b4-4f07-acd3-a1dcfd25393f",
   "metadata": {},
   "outputs": [
    {
     "data": {
      "text/plain": [
       "0.4445"
      ]
     },
     "execution_count": 132,
     "metadata": {},
     "output_type": "execute_result"
    }
   ],
   "source": [
    "np.mean(np.array(correct_cat_perc))"
   ]
  },
  {
   "cell_type": "code",
   "execution_count": null,
   "id": "7a08c654-56a1-4a42-84b6-d43cbd60a12f",
   "metadata": {},
   "outputs": [],
   "source": [
    "### mem-friendly kmedoids"
   ]
  },
  {
   "cell_type": "code",
   "execution_count": 133,
   "id": "f73d85e7-65f1-436b-85ab-0ca8a530d687",
   "metadata": {},
   "outputs": [],
   "source": [
    "from li.BaseLMI import cluster_kmedoids"
   ]
  },
  {
   "cell_type": "code",
   "execution_count": 134,
   "id": "4e2bc78d-b32d-4442-a05d-56710d623414",
   "metadata": {},
   "outputs": [
    {
     "data": {
      "text/html": [
       "<div>\n",
       "<style scoped>\n",
       "    .dataframe tbody tr th:only-of-type {\n",
       "        vertical-align: middle;\n",
       "    }\n",
       "\n",
       "    .dataframe tbody tr th {\n",
       "        vertical-align: top;\n",
       "    }\n",
       "\n",
       "    .dataframe thead th {\n",
       "        text-align: right;\n",
       "    }\n",
       "</style>\n",
       "<table border=\"1\" class=\"dataframe\">\n",
       "  <thead>\n",
       "    <tr style=\"text-align: right;\">\n",
       "      <th></th>\n",
       "      <th>0</th>\n",
       "      <th>1</th>\n",
       "      <th>2</th>\n",
       "      <th>3</th>\n",
       "      <th>4</th>\n",
       "      <th>5</th>\n",
       "      <th>6</th>\n",
       "      <th>7</th>\n",
       "      <th>8</th>\n",
       "      <th>9</th>\n",
       "      <th>...</th>\n",
       "      <th>22</th>\n",
       "      <th>23</th>\n",
       "      <th>24</th>\n",
       "      <th>25</th>\n",
       "      <th>26</th>\n",
       "      <th>27</th>\n",
       "      <th>28</th>\n",
       "      <th>29</th>\n",
       "      <th>30</th>\n",
       "      <th>31</th>\n",
       "    </tr>\n",
       "  </thead>\n",
       "  <tbody>\n",
       "    <tr>\n",
       "      <th>1</th>\n",
       "      <td>0.142266</td>\n",
       "      <td>0.121459</td>\n",
       "      <td>-0.054467</td>\n",
       "      <td>-0.058987</td>\n",
       "      <td>0.049365</td>\n",
       "      <td>-0.107044</td>\n",
       "      <td>0.123232</td>\n",
       "      <td>0.003732</td>\n",
       "      <td>0.044797</td>\n",
       "      <td>-0.118452</td>\n",
       "      <td>...</td>\n",
       "      <td>0.063983</td>\n",
       "      <td>0.037666</td>\n",
       "      <td>-0.089511</td>\n",
       "      <td>0.077113</td>\n",
       "      <td>-0.118540</td>\n",
       "      <td>0.058264</td>\n",
       "      <td>0.065489</td>\n",
       "      <td>0.028578</td>\n",
       "      <td>-0.089683</td>\n",
       "      <td>0.126804</td>\n",
       "    </tr>\n",
       "    <tr>\n",
       "      <th>2</th>\n",
       "      <td>0.213798</td>\n",
       "      <td>-0.011502</td>\n",
       "      <td>-0.015170</td>\n",
       "      <td>0.149934</td>\n",
       "      <td>0.106344</td>\n",
       "      <td>0.082373</td>\n",
       "      <td>-0.120631</td>\n",
       "      <td>-0.061052</td>\n",
       "      <td>0.068679</td>\n",
       "      <td>0.033809</td>\n",
       "      <td>...</td>\n",
       "      <td>-0.098288</td>\n",
       "      <td>-0.013627</td>\n",
       "      <td>0.004503</td>\n",
       "      <td>-0.046667</td>\n",
       "      <td>-0.043632</td>\n",
       "      <td>-0.086331</td>\n",
       "      <td>-0.011793</td>\n",
       "      <td>-0.047739</td>\n",
       "      <td>0.020949</td>\n",
       "      <td>-0.030398</td>\n",
       "    </tr>\n",
       "    <tr>\n",
       "      <th>3</th>\n",
       "      <td>0.069708</td>\n",
       "      <td>-0.213904</td>\n",
       "      <td>0.132880</td>\n",
       "      <td>-0.150276</td>\n",
       "      <td>-0.049206</td>\n",
       "      <td>0.080040</td>\n",
       "      <td>-0.023638</td>\n",
       "      <td>0.017214</td>\n",
       "      <td>-0.208746</td>\n",
       "      <td>0.053342</td>\n",
       "      <td>...</td>\n",
       "      <td>0.035558</td>\n",
       "      <td>0.023209</td>\n",
       "      <td>-0.048399</td>\n",
       "      <td>-0.051265</td>\n",
       "      <td>0.019088</td>\n",
       "      <td>-0.036999</td>\n",
       "      <td>0.006381</td>\n",
       "      <td>0.011267</td>\n",
       "      <td>-0.029590</td>\n",
       "      <td>0.076341</td>\n",
       "    </tr>\n",
       "    <tr>\n",
       "      <th>4</th>\n",
       "      <td>0.136409</td>\n",
       "      <td>-0.124815</td>\n",
       "      <td>-0.154166</td>\n",
       "      <td>0.239908</td>\n",
       "      <td>0.002291</td>\n",
       "      <td>0.145442</td>\n",
       "      <td>-0.069386</td>\n",
       "      <td>-0.006642</td>\n",
       "      <td>0.124328</td>\n",
       "      <td>0.054876</td>\n",
       "      <td>...</td>\n",
       "      <td>-0.045160</td>\n",
       "      <td>0.027433</td>\n",
       "      <td>0.072961</td>\n",
       "      <td>-0.035555</td>\n",
       "      <td>-0.003668</td>\n",
       "      <td>-0.007776</td>\n",
       "      <td>-0.065730</td>\n",
       "      <td>-0.013595</td>\n",
       "      <td>-0.012795</td>\n",
       "      <td>-0.030780</td>\n",
       "    </tr>\n",
       "    <tr>\n",
       "      <th>5</th>\n",
       "      <td>-0.389241</td>\n",
       "      <td>0.076076</td>\n",
       "      <td>-0.072001</td>\n",
       "      <td>0.103547</td>\n",
       "      <td>-0.058551</td>\n",
       "      <td>0.033468</td>\n",
       "      <td>0.017906</td>\n",
       "      <td>0.094761</td>\n",
       "      <td>0.034065</td>\n",
       "      <td>-0.220189</td>\n",
       "      <td>...</td>\n",
       "      <td>-0.051880</td>\n",
       "      <td>-0.016713</td>\n",
       "      <td>0.018730</td>\n",
       "      <td>0.050222</td>\n",
       "      <td>-0.021090</td>\n",
       "      <td>0.004709</td>\n",
       "      <td>0.043465</td>\n",
       "      <td>-0.049461</td>\n",
       "      <td>-0.052292</td>\n",
       "      <td>0.027773</td>\n",
       "    </tr>\n",
       "    <tr>\n",
       "      <th>...</th>\n",
       "      <td>...</td>\n",
       "      <td>...</td>\n",
       "      <td>...</td>\n",
       "      <td>...</td>\n",
       "      <td>...</td>\n",
       "      <td>...</td>\n",
       "      <td>...</td>\n",
       "      <td>...</td>\n",
       "      <td>...</td>\n",
       "      <td>...</td>\n",
       "      <td>...</td>\n",
       "      <td>...</td>\n",
       "      <td>...</td>\n",
       "      <td>...</td>\n",
       "      <td>...</td>\n",
       "      <td>...</td>\n",
       "      <td>...</td>\n",
       "      <td>...</td>\n",
       "      <td>...</td>\n",
       "      <td>...</td>\n",
       "      <td>...</td>\n",
       "    </tr>\n",
       "    <tr>\n",
       "      <th>99996</th>\n",
       "      <td>0.126578</td>\n",
       "      <td>0.028599</td>\n",
       "      <td>-0.042934</td>\n",
       "      <td>0.001947</td>\n",
       "      <td>-0.202029</td>\n",
       "      <td>-0.128166</td>\n",
       "      <td>0.154031</td>\n",
       "      <td>0.023840</td>\n",
       "      <td>-0.009978</td>\n",
       "      <td>-0.046443</td>\n",
       "      <td>...</td>\n",
       "      <td>0.012223</td>\n",
       "      <td>0.061135</td>\n",
       "      <td>-0.004755</td>\n",
       "      <td>-0.051334</td>\n",
       "      <td>-0.058041</td>\n",
       "      <td>-0.034305</td>\n",
       "      <td>-0.015373</td>\n",
       "      <td>0.018450</td>\n",
       "      <td>-0.048168</td>\n",
       "      <td>0.030826</td>\n",
       "    </tr>\n",
       "    <tr>\n",
       "      <th>99997</th>\n",
       "      <td>-0.225225</td>\n",
       "      <td>-0.004567</td>\n",
       "      <td>-0.004400</td>\n",
       "      <td>-0.034974</td>\n",
       "      <td>-0.129672</td>\n",
       "      <td>0.113504</td>\n",
       "      <td>-0.003353</td>\n",
       "      <td>-0.057222</td>\n",
       "      <td>0.090702</td>\n",
       "      <td>-0.004591</td>\n",
       "      <td>...</td>\n",
       "      <td>0.034556</td>\n",
       "      <td>-0.015325</td>\n",
       "      <td>-0.041191</td>\n",
       "      <td>0.046411</td>\n",
       "      <td>0.003835</td>\n",
       "      <td>0.022965</td>\n",
       "      <td>0.112995</td>\n",
       "      <td>0.092276</td>\n",
       "      <td>0.041511</td>\n",
       "      <td>-0.017332</td>\n",
       "    </tr>\n",
       "    <tr>\n",
       "      <th>99998</th>\n",
       "      <td>0.101137</td>\n",
       "      <td>0.037512</td>\n",
       "      <td>-0.051941</td>\n",
       "      <td>0.231012</td>\n",
       "      <td>0.011707</td>\n",
       "      <td>0.103784</td>\n",
       "      <td>0.142680</td>\n",
       "      <td>-0.054836</td>\n",
       "      <td>-0.078768</td>\n",
       "      <td>-0.032020</td>\n",
       "      <td>...</td>\n",
       "      <td>0.027843</td>\n",
       "      <td>-0.110345</td>\n",
       "      <td>0.009569</td>\n",
       "      <td>-0.062856</td>\n",
       "      <td>0.009437</td>\n",
       "      <td>-0.065775</td>\n",
       "      <td>0.065454</td>\n",
       "      <td>0.017647</td>\n",
       "      <td>-0.066954</td>\n",
       "      <td>-0.031620</td>\n",
       "    </tr>\n",
       "    <tr>\n",
       "      <th>99999</th>\n",
       "      <td>-0.271447</td>\n",
       "      <td>0.021036</td>\n",
       "      <td>-0.050439</td>\n",
       "      <td>0.088891</td>\n",
       "      <td>-0.086671</td>\n",
       "      <td>-0.157237</td>\n",
       "      <td>0.029204</td>\n",
       "      <td>-0.001032</td>\n",
       "      <td>-0.122273</td>\n",
       "      <td>-0.076587</td>\n",
       "      <td>...</td>\n",
       "      <td>0.013939</td>\n",
       "      <td>-0.248462</td>\n",
       "      <td>0.068649</td>\n",
       "      <td>-0.014509</td>\n",
       "      <td>0.040324</td>\n",
       "      <td>-0.038653</td>\n",
       "      <td>-0.043279</td>\n",
       "      <td>0.056283</td>\n",
       "      <td>-0.011639</td>\n",
       "      <td>-0.088651</td>\n",
       "    </tr>\n",
       "    <tr>\n",
       "      <th>100000</th>\n",
       "      <td>0.189184</td>\n",
       "      <td>0.124356</td>\n",
       "      <td>0.075096</td>\n",
       "      <td>0.159731</td>\n",
       "      <td>0.018175</td>\n",
       "      <td>-0.058616</td>\n",
       "      <td>0.020699</td>\n",
       "      <td>-0.063809</td>\n",
       "      <td>-0.039280</td>\n",
       "      <td>-0.047513</td>\n",
       "      <td>...</td>\n",
       "      <td>0.147959</td>\n",
       "      <td>-0.104175</td>\n",
       "      <td>0.027837</td>\n",
       "      <td>-0.027221</td>\n",
       "      <td>0.033823</td>\n",
       "      <td>0.065656</td>\n",
       "      <td>0.063327</td>\n",
       "      <td>0.004661</td>\n",
       "      <td>-0.007781</td>\n",
       "      <td>0.008472</td>\n",
       "    </tr>\n",
       "  </tbody>\n",
       "</table>\n",
       "<p>100000 rows × 32 columns</p>\n",
       "</div>"
      ],
      "text/plain": [
       "              0         1         2         3         4         5         6   \\\n",
       "1       0.142266  0.121459 -0.054467 -0.058987  0.049365 -0.107044  0.123232   \n",
       "2       0.213798 -0.011502 -0.015170  0.149934  0.106344  0.082373 -0.120631   \n",
       "3       0.069708 -0.213904  0.132880 -0.150276 -0.049206  0.080040 -0.023638   \n",
       "4       0.136409 -0.124815 -0.154166  0.239908  0.002291  0.145442 -0.069386   \n",
       "5      -0.389241  0.076076 -0.072001  0.103547 -0.058551  0.033468  0.017906   \n",
       "...          ...       ...       ...       ...       ...       ...       ...   \n",
       "99996   0.126578  0.028599 -0.042934  0.001947 -0.202029 -0.128166  0.154031   \n",
       "99997  -0.225225 -0.004567 -0.004400 -0.034974 -0.129672  0.113504 -0.003353   \n",
       "99998   0.101137  0.037512 -0.051941  0.231012  0.011707  0.103784  0.142680   \n",
       "99999  -0.271447  0.021036 -0.050439  0.088891 -0.086671 -0.157237  0.029204   \n",
       "100000  0.189184  0.124356  0.075096  0.159731  0.018175 -0.058616  0.020699   \n",
       "\n",
       "              7         8         9   ...        22        23        24  \\\n",
       "1       0.003732  0.044797 -0.118452  ...  0.063983  0.037666 -0.089511   \n",
       "2      -0.061052  0.068679  0.033809  ... -0.098288 -0.013627  0.004503   \n",
       "3       0.017214 -0.208746  0.053342  ...  0.035558  0.023209 -0.048399   \n",
       "4      -0.006642  0.124328  0.054876  ... -0.045160  0.027433  0.072961   \n",
       "5       0.094761  0.034065 -0.220189  ... -0.051880 -0.016713  0.018730   \n",
       "...          ...       ...       ...  ...       ...       ...       ...   \n",
       "99996   0.023840 -0.009978 -0.046443  ...  0.012223  0.061135 -0.004755   \n",
       "99997  -0.057222  0.090702 -0.004591  ...  0.034556 -0.015325 -0.041191   \n",
       "99998  -0.054836 -0.078768 -0.032020  ...  0.027843 -0.110345  0.009569   \n",
       "99999  -0.001032 -0.122273 -0.076587  ...  0.013939 -0.248462  0.068649   \n",
       "100000 -0.063809 -0.039280 -0.047513  ...  0.147959 -0.104175  0.027837   \n",
       "\n",
       "              25        26        27        28        29        30        31  \n",
       "1       0.077113 -0.118540  0.058264  0.065489  0.028578 -0.089683  0.126804  \n",
       "2      -0.046667 -0.043632 -0.086331 -0.011793 -0.047739  0.020949 -0.030398  \n",
       "3      -0.051265  0.019088 -0.036999  0.006381  0.011267 -0.029590  0.076341  \n",
       "4      -0.035555 -0.003668 -0.007776 -0.065730 -0.013595 -0.012795 -0.030780  \n",
       "5       0.050222 -0.021090  0.004709  0.043465 -0.049461 -0.052292  0.027773  \n",
       "...          ...       ...       ...       ...       ...       ...       ...  \n",
       "99996  -0.051334 -0.058041 -0.034305 -0.015373  0.018450 -0.048168  0.030826  \n",
       "99997   0.046411  0.003835  0.022965  0.112995  0.092276  0.041511 -0.017332  \n",
       "99998  -0.062856  0.009437 -0.065775  0.065454  0.017647 -0.066954 -0.031620  \n",
       "99999  -0.014509  0.040324 -0.038653 -0.043279  0.056283 -0.011639 -0.088651  \n",
       "100000 -0.027221  0.033823  0.065656  0.063327  0.004661 -0.007781  0.008472  \n",
       "\n",
       "[100000 rows x 32 columns]"
      ]
     },
     "execution_count": 134,
     "metadata": {},
     "output_type": "execute_result"
    }
   ],
   "source": [
    "data.drop(['category', 'category_dists'], axis=1)"
   ]
  },
  {
   "cell_type": "code",
   "execution_count": 138,
   "id": "a6944cca-abbb-4495-b71e-74a9681763a7",
   "metadata": {},
   "outputs": [],
   "source": [
    "data['category_kmedoids_L0'] = np.nan\n",
    "data['category_kmedoids_L1'] = np.nan"
   ]
  },
  {
   "cell_type": "code",
   "execution_count": null,
   "id": "8d9a8216-dc5b-4cf4-975e-c92d7352d2cb",
   "metadata": {},
   "outputs": [],
   "source": [
    "        data.drop(\n",
    "            [c for c in data.columns if type(c) is not int and c.startswith('category')],\n",
    "            axis=1\n",
    "        ).sample(1000, random_state=2023).index,"
   ]
  },
  {
   "cell_type": "code",
   "execution_count": 147,
   "id": "024df859-5b49-42dc-a44a-04a13903309b",
   "metadata": {},
   "outputs": [],
   "source": [
    "for i in range(10):\n",
    "    data.loc[\n",
    "        data.sample(1000, random_state=2023+i).index,\n",
    "        'category_kmedoids_L0'\n",
    "    ] = i"
   ]
  },
  {
   "cell_type": "code",
   "execution_count": 143,
   "id": "c51be2e0-d840-43f7-bb8b-d96741497ce1",
   "metadata": {},
   "outputs": [
    {
     "name": "stderr",
     "output_type": "stream",
     "text": [
      "100%|██████████| 10/10 [04:36<00:00, 25.85s/it]"
     ]
    },
    {
     "name": "stdout",
     "output_type": "stream",
     "text": [
      "CPU times: user 3min 56s, sys: 37.5 s, total: 4min 33s\n",
      "Wall time: 4min 36s\n"
     ]
    },
    {
     "name": "stderr",
     "output_type": "stream",
     "text": [
      "\n"
     ]
    }
   ],
   "source": [
    "%%time\n",
    "for i in tqdm(range(10)):\n",
    "    sample_data = data.drop(\n",
    "        [c for c in data.columns if type(c) is not int and c.startswith('category')],\n",
    "        axis=1\n",
    "    ).sample(1000, random_state=2023+i)\n",
    "    res = cluster_kmedoids(\n",
    "        sample_data,\n",
    "        n_clusters=10\n",
    "    )\n",
    "    data.loc[\n",
    "        sample_data.index,\n",
    "        'category_kmedoids_L1'\n",
    "    ] = res"
   ]
  },
  {
   "cell_type": "code",
   "execution_count": 144,
   "id": "7b4cbffd-1a0c-4872-ba3e-fb4f22a86c76",
   "metadata": {},
   "outputs": [
    {
     "data": {
      "text/html": [
       "<div>\n",
       "<style scoped>\n",
       "    .dataframe tbody tr th:only-of-type {\n",
       "        vertical-align: middle;\n",
       "    }\n",
       "\n",
       "    .dataframe tbody tr th {\n",
       "        vertical-align: top;\n",
       "    }\n",
       "\n",
       "    .dataframe thead th {\n",
       "        text-align: right;\n",
       "    }\n",
       "</style>\n",
       "<table border=\"1\" class=\"dataframe\">\n",
       "  <thead>\n",
       "    <tr style=\"text-align: right;\">\n",
       "      <th></th>\n",
       "      <th>0</th>\n",
       "      <th>1</th>\n",
       "      <th>2</th>\n",
       "      <th>3</th>\n",
       "      <th>4</th>\n",
       "      <th>5</th>\n",
       "      <th>6</th>\n",
       "      <th>7</th>\n",
       "      <th>8</th>\n",
       "      <th>9</th>\n",
       "      <th>...</th>\n",
       "      <th>27</th>\n",
       "      <th>28</th>\n",
       "      <th>29</th>\n",
       "      <th>30</th>\n",
       "      <th>31</th>\n",
       "      <th>category</th>\n",
       "      <th>category_dists</th>\n",
       "      <th>category_kmedoids</th>\n",
       "      <th>category_kmedoids_L0</th>\n",
       "      <th>category_kmedoids_L1</th>\n",
       "    </tr>\n",
       "  </thead>\n",
       "  <tbody>\n",
       "    <tr>\n",
       "      <th>1</th>\n",
       "      <td>0.142266</td>\n",
       "      <td>0.121459</td>\n",
       "      <td>-0.054467</td>\n",
       "      <td>-0.058987</td>\n",
       "      <td>0.049365</td>\n",
       "      <td>-0.107044</td>\n",
       "      <td>0.123232</td>\n",
       "      <td>0.003732</td>\n",
       "      <td>0.044797</td>\n",
       "      <td>-0.118452</td>\n",
       "      <td>...</td>\n",
       "      <td>0.058264</td>\n",
       "      <td>0.065489</td>\n",
       "      <td>0.028578</td>\n",
       "      <td>-0.089683</td>\n",
       "      <td>0.126804</td>\n",
       "      <td>5</td>\n",
       "      <td>3.0</td>\n",
       "      <td>NaN</td>\n",
       "      <td>NaN</td>\n",
       "      <td>NaN</td>\n",
       "    </tr>\n",
       "    <tr>\n",
       "      <th>2</th>\n",
       "      <td>0.213798</td>\n",
       "      <td>-0.011502</td>\n",
       "      <td>-0.015170</td>\n",
       "      <td>0.149934</td>\n",
       "      <td>0.106344</td>\n",
       "      <td>0.082373</td>\n",
       "      <td>-0.120631</td>\n",
       "      <td>-0.061052</td>\n",
       "      <td>0.068679</td>\n",
       "      <td>0.033809</td>\n",
       "      <td>...</td>\n",
       "      <td>-0.086331</td>\n",
       "      <td>-0.011793</td>\n",
       "      <td>-0.047739</td>\n",
       "      <td>0.020949</td>\n",
       "      <td>-0.030398</td>\n",
       "      <td>6</td>\n",
       "      <td>3.0</td>\n",
       "      <td>NaN</td>\n",
       "      <td>NaN</td>\n",
       "      <td>NaN</td>\n",
       "    </tr>\n",
       "    <tr>\n",
       "      <th>3</th>\n",
       "      <td>0.069708</td>\n",
       "      <td>-0.213904</td>\n",
       "      <td>0.132880</td>\n",
       "      <td>-0.150276</td>\n",
       "      <td>-0.049206</td>\n",
       "      <td>0.080040</td>\n",
       "      <td>-0.023638</td>\n",
       "      <td>0.017214</td>\n",
       "      <td>-0.208746</td>\n",
       "      <td>0.053342</td>\n",
       "      <td>...</td>\n",
       "      <td>-0.036999</td>\n",
       "      <td>0.006381</td>\n",
       "      <td>0.011267</td>\n",
       "      <td>-0.029590</td>\n",
       "      <td>0.076341</td>\n",
       "      <td>0</td>\n",
       "      <td>3.0</td>\n",
       "      <td>NaN</td>\n",
       "      <td>NaN</td>\n",
       "      <td>NaN</td>\n",
       "    </tr>\n",
       "    <tr>\n",
       "      <th>4</th>\n",
       "      <td>0.136409</td>\n",
       "      <td>-0.124815</td>\n",
       "      <td>-0.154166</td>\n",
       "      <td>0.239908</td>\n",
       "      <td>0.002291</td>\n",
       "      <td>0.145442</td>\n",
       "      <td>-0.069386</td>\n",
       "      <td>-0.006642</td>\n",
       "      <td>0.124328</td>\n",
       "      <td>0.054876</td>\n",
       "      <td>...</td>\n",
       "      <td>-0.007776</td>\n",
       "      <td>-0.065730</td>\n",
       "      <td>-0.013595</td>\n",
       "      <td>-0.012795</td>\n",
       "      <td>-0.030780</td>\n",
       "      <td>6</td>\n",
       "      <td>3.0</td>\n",
       "      <td>NaN</td>\n",
       "      <td>NaN</td>\n",
       "      <td>NaN</td>\n",
       "    </tr>\n",
       "    <tr>\n",
       "      <th>5</th>\n",
       "      <td>-0.389241</td>\n",
       "      <td>0.076076</td>\n",
       "      <td>-0.072001</td>\n",
       "      <td>0.103547</td>\n",
       "      <td>-0.058551</td>\n",
       "      <td>0.033468</td>\n",
       "      <td>0.017906</td>\n",
       "      <td>0.094761</td>\n",
       "      <td>0.034065</td>\n",
       "      <td>-0.220189</td>\n",
       "      <td>...</td>\n",
       "      <td>0.004709</td>\n",
       "      <td>0.043465</td>\n",
       "      <td>-0.049461</td>\n",
       "      <td>-0.052292</td>\n",
       "      <td>0.027773</td>\n",
       "      <td>9</td>\n",
       "      <td>3.0</td>\n",
       "      <td>NaN</td>\n",
       "      <td>NaN</td>\n",
       "      <td>NaN</td>\n",
       "    </tr>\n",
       "  </tbody>\n",
       "</table>\n",
       "<p>5 rows × 37 columns</p>\n",
       "</div>"
      ],
      "text/plain": [
       "          0         1         2         3         4         5         6  \\\n",
       "1  0.142266  0.121459 -0.054467 -0.058987  0.049365 -0.107044  0.123232   \n",
       "2  0.213798 -0.011502 -0.015170  0.149934  0.106344  0.082373 -0.120631   \n",
       "3  0.069708 -0.213904  0.132880 -0.150276 -0.049206  0.080040 -0.023638   \n",
       "4  0.136409 -0.124815 -0.154166  0.239908  0.002291  0.145442 -0.069386   \n",
       "5 -0.389241  0.076076 -0.072001  0.103547 -0.058551  0.033468  0.017906   \n",
       "\n",
       "          7         8         9  ...        27        28        29        30  \\\n",
       "1  0.003732  0.044797 -0.118452  ...  0.058264  0.065489  0.028578 -0.089683   \n",
       "2 -0.061052  0.068679  0.033809  ... -0.086331 -0.011793 -0.047739  0.020949   \n",
       "3  0.017214 -0.208746  0.053342  ... -0.036999  0.006381  0.011267 -0.029590   \n",
       "4 -0.006642  0.124328  0.054876  ... -0.007776 -0.065730 -0.013595 -0.012795   \n",
       "5  0.094761  0.034065 -0.220189  ...  0.004709  0.043465 -0.049461 -0.052292   \n",
       "\n",
       "         31  category  category_dists  category_kmedoids  \\\n",
       "1  0.126804         5             3.0                NaN   \n",
       "2 -0.030398         6             3.0                NaN   \n",
       "3  0.076341         0             3.0                NaN   \n",
       "4 -0.030780         6             3.0                NaN   \n",
       "5  0.027773         9             3.0                NaN   \n",
       "\n",
       "   category_kmedoids_L0  category_kmedoids_L1  \n",
       "1                   NaN                   NaN  \n",
       "2                   NaN                   NaN  \n",
       "3                   NaN                   NaN  \n",
       "4                   NaN                   NaN  \n",
       "5                   NaN                   NaN  \n",
       "\n",
       "[5 rows x 37 columns]"
      ]
     },
     "execution_count": 144,
     "metadata": {},
     "output_type": "execute_result"
    }
   ],
   "source": [
    "data.head()"
   ]
  },
  {
   "cell_type": "code",
   "execution_count": 148,
   "id": "f974d3ca-1805-49be-b016-a352c93e64cb",
   "metadata": {},
   "outputs": [
    {
     "data": {
      "text/html": [
       "<div>\n",
       "<style scoped>\n",
       "    .dataframe tbody tr th:only-of-type {\n",
       "        vertical-align: middle;\n",
       "    }\n",
       "\n",
       "    .dataframe tbody tr th {\n",
       "        vertical-align: top;\n",
       "    }\n",
       "\n",
       "    .dataframe thead th {\n",
       "        text-align: right;\n",
       "    }\n",
       "</style>\n",
       "<table border=\"1\" class=\"dataframe\">\n",
       "  <thead>\n",
       "    <tr style=\"text-align: right;\">\n",
       "      <th></th>\n",
       "      <th>0</th>\n",
       "      <th>1</th>\n",
       "      <th>2</th>\n",
       "      <th>3</th>\n",
       "      <th>4</th>\n",
       "      <th>5</th>\n",
       "      <th>6</th>\n",
       "      <th>7</th>\n",
       "      <th>8</th>\n",
       "      <th>9</th>\n",
       "      <th>...</th>\n",
       "      <th>27</th>\n",
       "      <th>28</th>\n",
       "      <th>29</th>\n",
       "      <th>30</th>\n",
       "      <th>31</th>\n",
       "      <th>category</th>\n",
       "      <th>category_dists</th>\n",
       "      <th>category_kmedoids</th>\n",
       "      <th>category_kmedoids_L0</th>\n",
       "      <th>category_kmedoids_L1</th>\n",
       "    </tr>\n",
       "  </thead>\n",
       "  <tbody>\n",
       "    <tr>\n",
       "      <th>52</th>\n",
       "      <td>0.083822</td>\n",
       "      <td>0.224769</td>\n",
       "      <td>0.006545</td>\n",
       "      <td>0.013659</td>\n",
       "      <td>0.021017</td>\n",
       "      <td>0.149854</td>\n",
       "      <td>-0.141947</td>\n",
       "      <td>0.032536</td>\n",
       "      <td>-0.045944</td>\n",
       "      <td>-0.002056</td>\n",
       "      <td>...</td>\n",
       "      <td>-0.061882</td>\n",
       "      <td>-0.063450</td>\n",
       "      <td>0.023306</td>\n",
       "      <td>0.091412</td>\n",
       "      <td>0.031021</td>\n",
       "      <td>8</td>\n",
       "      <td>3.0</td>\n",
       "      <td>NaN</td>\n",
       "      <td>3.0</td>\n",
       "      <td>0.0</td>\n",
       "    </tr>\n",
       "    <tr>\n",
       "      <th>76</th>\n",
       "      <td>-0.017333</td>\n",
       "      <td>-0.030346</td>\n",
       "      <td>0.070804</td>\n",
       "      <td>0.189865</td>\n",
       "      <td>-0.224266</td>\n",
       "      <td>-0.201467</td>\n",
       "      <td>0.039872</td>\n",
       "      <td>0.005959</td>\n",
       "      <td>0.017323</td>\n",
       "      <td>0.127923</td>\n",
       "      <td>...</td>\n",
       "      <td>-0.071525</td>\n",
       "      <td>-0.018568</td>\n",
       "      <td>-0.006807</td>\n",
       "      <td>0.001746</td>\n",
       "      <td>0.020482</td>\n",
       "      <td>2</td>\n",
       "      <td>3.0</td>\n",
       "      <td>NaN</td>\n",
       "      <td>9.0</td>\n",
       "      <td>7.0</td>\n",
       "    </tr>\n",
       "    <tr>\n",
       "      <th>83</th>\n",
       "      <td>0.139110</td>\n",
       "      <td>0.208291</td>\n",
       "      <td>0.090843</td>\n",
       "      <td>-0.072079</td>\n",
       "      <td>-0.153821</td>\n",
       "      <td>-0.190293</td>\n",
       "      <td>-0.065602</td>\n",
       "      <td>0.014934</td>\n",
       "      <td>0.008904</td>\n",
       "      <td>-0.130615</td>\n",
       "      <td>...</td>\n",
       "      <td>-0.004722</td>\n",
       "      <td>0.025246</td>\n",
       "      <td>-0.027618</td>\n",
       "      <td>-0.012081</td>\n",
       "      <td>-0.035570</td>\n",
       "      <td>4</td>\n",
       "      <td>6.0</td>\n",
       "      <td>NaN</td>\n",
       "      <td>2.0</td>\n",
       "      <td>3.0</td>\n",
       "    </tr>\n",
       "    <tr>\n",
       "      <th>101</th>\n",
       "      <td>0.272022</td>\n",
       "      <td>0.253499</td>\n",
       "      <td>0.049000</td>\n",
       "      <td>0.150345</td>\n",
       "      <td>-0.096239</td>\n",
       "      <td>-0.011524</td>\n",
       "      <td>0.037366</td>\n",
       "      <td>0.048216</td>\n",
       "      <td>0.074086</td>\n",
       "      <td>-0.011571</td>\n",
       "      <td>...</td>\n",
       "      <td>-0.022141</td>\n",
       "      <td>-0.053233</td>\n",
       "      <td>0.012195</td>\n",
       "      <td>-0.000026</td>\n",
       "      <td>0.033662</td>\n",
       "      <td>4</td>\n",
       "      <td>4.0</td>\n",
       "      <td>NaN</td>\n",
       "      <td>6.0</td>\n",
       "      <td>1.0</td>\n",
       "    </tr>\n",
       "    <tr>\n",
       "      <th>108</th>\n",
       "      <td>-0.074508</td>\n",
       "      <td>0.164031</td>\n",
       "      <td>0.067475</td>\n",
       "      <td>-0.157874</td>\n",
       "      <td>-0.015268</td>\n",
       "      <td>0.073878</td>\n",
       "      <td>-0.066657</td>\n",
       "      <td>-0.067742</td>\n",
       "      <td>0.011106</td>\n",
       "      <td>-0.040924</td>\n",
       "      <td>...</td>\n",
       "      <td>0.047263</td>\n",
       "      <td>0.038121</td>\n",
       "      <td>-0.015616</td>\n",
       "      <td>0.047262</td>\n",
       "      <td>-0.062203</td>\n",
       "      <td>5</td>\n",
       "      <td>3.0</td>\n",
       "      <td>NaN</td>\n",
       "      <td>0.0</td>\n",
       "      <td>4.0</td>\n",
       "    </tr>\n",
       "    <tr>\n",
       "      <th>...</th>\n",
       "      <td>...</td>\n",
       "      <td>...</td>\n",
       "      <td>...</td>\n",
       "      <td>...</td>\n",
       "      <td>...</td>\n",
       "      <td>...</td>\n",
       "      <td>...</td>\n",
       "      <td>...</td>\n",
       "      <td>...</td>\n",
       "      <td>...</td>\n",
       "      <td>...</td>\n",
       "      <td>...</td>\n",
       "      <td>...</td>\n",
       "      <td>...</td>\n",
       "      <td>...</td>\n",
       "      <td>...</td>\n",
       "      <td>...</td>\n",
       "      <td>...</td>\n",
       "      <td>...</td>\n",
       "      <td>...</td>\n",
       "      <td>...</td>\n",
       "    </tr>\n",
       "    <tr>\n",
       "      <th>99915</th>\n",
       "      <td>-0.024555</td>\n",
       "      <td>-0.104217</td>\n",
       "      <td>0.094191</td>\n",
       "      <td>0.004916</td>\n",
       "      <td>-0.185176</td>\n",
       "      <td>-0.200365</td>\n",
       "      <td>-0.063207</td>\n",
       "      <td>0.004634</td>\n",
       "      <td>0.014108</td>\n",
       "      <td>0.018544</td>\n",
       "      <td>...</td>\n",
       "      <td>-0.001410</td>\n",
       "      <td>-0.076884</td>\n",
       "      <td>0.083940</td>\n",
       "      <td>-0.024870</td>\n",
       "      <td>-0.013091</td>\n",
       "      <td>2</td>\n",
       "      <td>3.0</td>\n",
       "      <td>NaN</td>\n",
       "      <td>6.0</td>\n",
       "      <td>9.0</td>\n",
       "    </tr>\n",
       "    <tr>\n",
       "      <th>99966</th>\n",
       "      <td>0.004975</td>\n",
       "      <td>0.012663</td>\n",
       "      <td>0.033989</td>\n",
       "      <td>0.065087</td>\n",
       "      <td>-0.026223</td>\n",
       "      <td>0.125094</td>\n",
       "      <td>-0.052018</td>\n",
       "      <td>-0.030596</td>\n",
       "      <td>-0.049951</td>\n",
       "      <td>-0.083827</td>\n",
       "      <td>...</td>\n",
       "      <td>0.031660</td>\n",
       "      <td>-0.005630</td>\n",
       "      <td>0.022570</td>\n",
       "      <td>0.007909</td>\n",
       "      <td>0.033589</td>\n",
       "      <td>8</td>\n",
       "      <td>3.0</td>\n",
       "      <td>NaN</td>\n",
       "      <td>1.0</td>\n",
       "      <td>2.0</td>\n",
       "    </tr>\n",
       "    <tr>\n",
       "      <th>99971</th>\n",
       "      <td>0.150639</td>\n",
       "      <td>0.228047</td>\n",
       "      <td>-0.227044</td>\n",
       "      <td>0.093524</td>\n",
       "      <td>0.120780</td>\n",
       "      <td>0.018932</td>\n",
       "      <td>-0.112216</td>\n",
       "      <td>0.166368</td>\n",
       "      <td>0.124071</td>\n",
       "      <td>0.078234</td>\n",
       "      <td>...</td>\n",
       "      <td>0.038655</td>\n",
       "      <td>0.036180</td>\n",
       "      <td>-0.051192</td>\n",
       "      <td>-0.035509</td>\n",
       "      <td>0.011690</td>\n",
       "      <td>6</td>\n",
       "      <td>3.0</td>\n",
       "      <td>NaN</td>\n",
       "      <td>1.0</td>\n",
       "      <td>1.0</td>\n",
       "    </tr>\n",
       "    <tr>\n",
       "      <th>99986</th>\n",
       "      <td>-0.135976</td>\n",
       "      <td>-0.052845</td>\n",
       "      <td>0.086699</td>\n",
       "      <td>-0.122668</td>\n",
       "      <td>-0.009197</td>\n",
       "      <td>0.146849</td>\n",
       "      <td>-0.024676</td>\n",
       "      <td>0.046907</td>\n",
       "      <td>-0.010380</td>\n",
       "      <td>0.137580</td>\n",
       "      <td>...</td>\n",
       "      <td>0.038401</td>\n",
       "      <td>-0.013552</td>\n",
       "      <td>0.031110</td>\n",
       "      <td>0.031184</td>\n",
       "      <td>-0.114517</td>\n",
       "      <td>1</td>\n",
       "      <td>3.0</td>\n",
       "      <td>NaN</td>\n",
       "      <td>0.0</td>\n",
       "      <td>2.0</td>\n",
       "    </tr>\n",
       "    <tr>\n",
       "      <th>100000</th>\n",
       "      <td>0.189184</td>\n",
       "      <td>0.124356</td>\n",
       "      <td>0.075096</td>\n",
       "      <td>0.159731</td>\n",
       "      <td>0.018175</td>\n",
       "      <td>-0.058616</td>\n",
       "      <td>0.020699</td>\n",
       "      <td>-0.063809</td>\n",
       "      <td>-0.039280</td>\n",
       "      <td>-0.047513</td>\n",
       "      <td>...</td>\n",
       "      <td>0.065656</td>\n",
       "      <td>0.063327</td>\n",
       "      <td>0.004661</td>\n",
       "      <td>-0.007781</td>\n",
       "      <td>0.008472</td>\n",
       "      <td>4</td>\n",
       "      <td>3.0</td>\n",
       "      <td>NaN</td>\n",
       "      <td>3.0</td>\n",
       "      <td>8.0</td>\n",
       "    </tr>\n",
       "  </tbody>\n",
       "</table>\n",
       "<p>9534 rows × 37 columns</p>\n",
       "</div>"
      ],
      "text/plain": [
       "               0         1         2         3         4         5         6  \\\n",
       "52      0.083822  0.224769  0.006545  0.013659  0.021017  0.149854 -0.141947   \n",
       "76     -0.017333 -0.030346  0.070804  0.189865 -0.224266 -0.201467  0.039872   \n",
       "83      0.139110  0.208291  0.090843 -0.072079 -0.153821 -0.190293 -0.065602   \n",
       "101     0.272022  0.253499  0.049000  0.150345 -0.096239 -0.011524  0.037366   \n",
       "108    -0.074508  0.164031  0.067475 -0.157874 -0.015268  0.073878 -0.066657   \n",
       "...          ...       ...       ...       ...       ...       ...       ...   \n",
       "99915  -0.024555 -0.104217  0.094191  0.004916 -0.185176 -0.200365 -0.063207   \n",
       "99966   0.004975  0.012663  0.033989  0.065087 -0.026223  0.125094 -0.052018   \n",
       "99971   0.150639  0.228047 -0.227044  0.093524  0.120780  0.018932 -0.112216   \n",
       "99986  -0.135976 -0.052845  0.086699 -0.122668 -0.009197  0.146849 -0.024676   \n",
       "100000  0.189184  0.124356  0.075096  0.159731  0.018175 -0.058616  0.020699   \n",
       "\n",
       "               7         8         9  ...        27        28        29  \\\n",
       "52      0.032536 -0.045944 -0.002056  ... -0.061882 -0.063450  0.023306   \n",
       "76      0.005959  0.017323  0.127923  ... -0.071525 -0.018568 -0.006807   \n",
       "83      0.014934  0.008904 -0.130615  ... -0.004722  0.025246 -0.027618   \n",
       "101     0.048216  0.074086 -0.011571  ... -0.022141 -0.053233  0.012195   \n",
       "108    -0.067742  0.011106 -0.040924  ...  0.047263  0.038121 -0.015616   \n",
       "...          ...       ...       ...  ...       ...       ...       ...   \n",
       "99915   0.004634  0.014108  0.018544  ... -0.001410 -0.076884  0.083940   \n",
       "99966  -0.030596 -0.049951 -0.083827  ...  0.031660 -0.005630  0.022570   \n",
       "99971   0.166368  0.124071  0.078234  ...  0.038655  0.036180 -0.051192   \n",
       "99986   0.046907 -0.010380  0.137580  ...  0.038401 -0.013552  0.031110   \n",
       "100000 -0.063809 -0.039280 -0.047513  ...  0.065656  0.063327  0.004661   \n",
       "\n",
       "              30        31  category  category_dists  category_kmedoids  \\\n",
       "52      0.091412  0.031021         8             3.0                NaN   \n",
       "76      0.001746  0.020482         2             3.0                NaN   \n",
       "83     -0.012081 -0.035570         4             6.0                NaN   \n",
       "101    -0.000026  0.033662         4             4.0                NaN   \n",
       "108     0.047262 -0.062203         5             3.0                NaN   \n",
       "...          ...       ...       ...             ...                ...   \n",
       "99915  -0.024870 -0.013091         2             3.0                NaN   \n",
       "99966   0.007909  0.033589         8             3.0                NaN   \n",
       "99971  -0.035509  0.011690         6             3.0                NaN   \n",
       "99986   0.031184 -0.114517         1             3.0                NaN   \n",
       "100000 -0.007781  0.008472         4             3.0                NaN   \n",
       "\n",
       "        category_kmedoids_L0  category_kmedoids_L1  \n",
       "52                       3.0                   0.0  \n",
       "76                       9.0                   7.0  \n",
       "83                       2.0                   3.0  \n",
       "101                      6.0                   1.0  \n",
       "108                      0.0                   4.0  \n",
       "...                      ...                   ...  \n",
       "99915                    6.0                   9.0  \n",
       "99966                    1.0                   2.0  \n",
       "99971                    1.0                   1.0  \n",
       "99986                    0.0                   2.0  \n",
       "100000                   3.0                   8.0  \n",
       "\n",
       "[9534 rows x 37 columns]"
      ]
     },
     "execution_count": 148,
     "metadata": {},
     "output_type": "execute_result"
    }
   ],
   "source": [
    "data[~data.category_kmedoids_L0.isna()]"
   ]
  },
  {
   "cell_type": "code",
   "execution_count": 151,
   "id": "86ea2ca9-f60a-478a-96ea-c7050cda9272",
   "metadata": {},
   "outputs": [],
   "source": [
    "nn3 = NeuralNetwork(input_dim=32, output_dim=10, lr=0.1)"
   ]
  },
  {
   "cell_type": "code",
   "execution_count": 153,
   "id": "e6f329c8-3447-4700-893d-1ddd5e536f75",
   "metadata": {},
   "outputs": [
    {
     "name": "stderr",
     "output_type": "stream",
     "text": [
      "[2023-07-03 13:08:45,383][INFO ][__main__] Epochs: 5000, step: 500\n",
      "[2023-07-03 13:08:56,505][INFO ][__main__] Epoch 500 | Loss 1.881942629814148\n",
      "[2023-07-03 13:09:07,580][INFO ][__main__] Epoch 1000 | Loss 1.8711304664611816\n",
      "[2023-07-03 13:09:18,710][INFO ][__main__] Epoch 1500 | Loss 1.865831732749939\n",
      "[2023-07-03 13:09:29,885][INFO ][__main__] Epoch 2000 | Loss 1.8619015216827393\n",
      "[2023-07-03 13:09:41,185][INFO ][__main__] Epoch 2500 | Loss 1.859811782836914\n",
      "[2023-07-03 13:09:52,634][INFO ][__main__] Epoch 3000 | Loss 1.8575661182403564\n",
      "[2023-07-03 13:10:04,045][INFO ][__main__] Epoch 3500 | Loss 1.856590747833252\n",
      "[2023-07-03 13:10:15,707][INFO ][__main__] Epoch 4000 | Loss 1.8539817333221436\n",
      "[2023-07-03 13:10:27,141][INFO ][__main__] Epoch 4500 | Loss 1.8539820909500122\n"
     ]
    },
    {
     "name": "stdout",
     "output_type": "stream",
     "text": [
      "CPU times: user 1min 49s, sys: 366 ms, total: 1min 49s\n",
      "Wall time: 1min 53s\n"
     ]
    }
   ],
   "source": [
    "data_x, data_y = data_to_torch(\n",
    "    data[~data.category_kmedoids_L0.isna()].drop(\n",
    "        [c for c in data.columns if type(c) is not int and c.startswith('category')],\n",
    "        axis=1\n",
    "    ),\n",
    "    data[~data.category_kmedoids_L0.isna()].category_kmedoids_L0.values\n",
    ")\n",
    "%time losses = nn3.train(data_x, data_y, epochs=5000, logger=LOG)"
   ]
  },
  {
   "cell_type": "code",
   "execution_count": 154,
   "id": "61676cb4-f4f2-4a9d-bd21-5ea5ec1d590f",
   "metadata": {},
   "outputs": [
    {
     "data": {
      "text/plain": [
       "(90466,)"
      ]
     },
     "execution_count": 154,
     "metadata": {},
     "output_type": "execute_result"
    }
   ],
   "source": [
    "predicted_cats = nn3.predict(data_X_to_torch(\n",
    "    data[data.category_kmedoids_L0.isna()].drop(\n",
    "        [c for c in data.columns if type(c) is not int and c.startswith('category')],\n",
    "        axis=1\n",
    "    )\n",
    "))\n",
    "predicted_cats.shape"
   ]
  },
  {
   "cell_type": "code",
   "execution_count": 156,
   "id": "238164d5-3eea-4d17-90b9-ddfd1ad30c87",
   "metadata": {},
   "outputs": [],
   "source": [
    "data.loc[data.category_kmedoids_L0.isna(), 'category_kmedoids_L0'] = predicted_cats"
   ]
  },
  {
   "cell_type": "code",
   "execution_count": 158,
   "id": "9b91ea4b-90c0-41ff-9d00-b090c40161f8",
   "metadata": {},
   "outputs": [
    {
     "name": "stderr",
     "output_type": "stream",
     "text": [
      "100%|██████████| 10000/10000 [00:09<00:00, 1026.88it/s]\n"
     ]
    },
    {
     "data": {
      "text/plain": [
       "0.8983"
      ]
     },
     "execution_count": 158,
     "metadata": {},
     "output_type": "execute_result"
    }
   ],
   "source": [
    "res = nn3.predict_proba(data_X_to_torch(loaded_queries))\n",
    "correct_cat_perc = []\n",
    "for i in tqdm(range(10_000)):\n",
    "    correct_cat_perc.append(\n",
    "        np.sum(data.loc[loaded_gt[i][:10]].category == np.argmax(res[0][i]))\n",
    "    )\n",
    "np.mean(np.array(correct_cat_perc))"
   ]
  },
  {
   "cell_type": "code",
   "execution_count": null,
   "id": "10d20c97-3bb8-440a-9989-6822b31e2956",
   "metadata": {},
   "outputs": [],
   "source": []
  },
  {
   "cell_type": "code",
   "execution_count": 157,
   "id": "43c22227-b096-46e7-a9b0-205f25b621e0",
   "metadata": {},
   "outputs": [
    {
     "data": {
      "text/html": [
       "<div>\n",
       "<style scoped>\n",
       "    .dataframe tbody tr th:only-of-type {\n",
       "        vertical-align: middle;\n",
       "    }\n",
       "\n",
       "    .dataframe tbody tr th {\n",
       "        vertical-align: top;\n",
       "    }\n",
       "\n",
       "    .dataframe thead th {\n",
       "        text-align: right;\n",
       "    }\n",
       "</style>\n",
       "<table border=\"1\" class=\"dataframe\">\n",
       "  <thead>\n",
       "    <tr style=\"text-align: right;\">\n",
       "      <th></th>\n",
       "      <th>0</th>\n",
       "      <th>1</th>\n",
       "      <th>2</th>\n",
       "      <th>3</th>\n",
       "      <th>4</th>\n",
       "      <th>5</th>\n",
       "      <th>6</th>\n",
       "      <th>7</th>\n",
       "      <th>8</th>\n",
       "      <th>9</th>\n",
       "      <th>...</th>\n",
       "      <th>27</th>\n",
       "      <th>28</th>\n",
       "      <th>29</th>\n",
       "      <th>30</th>\n",
       "      <th>31</th>\n",
       "      <th>category</th>\n",
       "      <th>category_dists</th>\n",
       "      <th>category_kmedoids</th>\n",
       "      <th>category_kmedoids_L0</th>\n",
       "      <th>category_kmedoids_L1</th>\n",
       "    </tr>\n",
       "  </thead>\n",
       "  <tbody>\n",
       "    <tr>\n",
       "      <th>1</th>\n",
       "      <td>0.142266</td>\n",
       "      <td>0.121459</td>\n",
       "      <td>-0.054467</td>\n",
       "      <td>-0.058987</td>\n",
       "      <td>0.049365</td>\n",
       "      <td>-0.107044</td>\n",
       "      <td>0.123232</td>\n",
       "      <td>0.003732</td>\n",
       "      <td>0.044797</td>\n",
       "      <td>-0.118452</td>\n",
       "      <td>...</td>\n",
       "      <td>0.058264</td>\n",
       "      <td>0.065489</td>\n",
       "      <td>0.028578</td>\n",
       "      <td>-0.089683</td>\n",
       "      <td>0.126804</td>\n",
       "      <td>5</td>\n",
       "      <td>3.0</td>\n",
       "      <td>NaN</td>\n",
       "      <td>8.0</td>\n",
       "      <td>NaN</td>\n",
       "    </tr>\n",
       "    <tr>\n",
       "      <th>2</th>\n",
       "      <td>0.213798</td>\n",
       "      <td>-0.011502</td>\n",
       "      <td>-0.015170</td>\n",
       "      <td>0.149934</td>\n",
       "      <td>0.106344</td>\n",
       "      <td>0.082373</td>\n",
       "      <td>-0.120631</td>\n",
       "      <td>-0.061052</td>\n",
       "      <td>0.068679</td>\n",
       "      <td>0.033809</td>\n",
       "      <td>...</td>\n",
       "      <td>-0.086331</td>\n",
       "      <td>-0.011793</td>\n",
       "      <td>-0.047739</td>\n",
       "      <td>0.020949</td>\n",
       "      <td>-0.030398</td>\n",
       "      <td>6</td>\n",
       "      <td>3.0</td>\n",
       "      <td>NaN</td>\n",
       "      <td>9.0</td>\n",
       "      <td>NaN</td>\n",
       "    </tr>\n",
       "    <tr>\n",
       "      <th>3</th>\n",
       "      <td>0.069708</td>\n",
       "      <td>-0.213904</td>\n",
       "      <td>0.132880</td>\n",
       "      <td>-0.150276</td>\n",
       "      <td>-0.049206</td>\n",
       "      <td>0.080040</td>\n",
       "      <td>-0.023638</td>\n",
       "      <td>0.017214</td>\n",
       "      <td>-0.208746</td>\n",
       "      <td>0.053342</td>\n",
       "      <td>...</td>\n",
       "      <td>-0.036999</td>\n",
       "      <td>0.006381</td>\n",
       "      <td>0.011267</td>\n",
       "      <td>-0.029590</td>\n",
       "      <td>0.076341</td>\n",
       "      <td>0</td>\n",
       "      <td>3.0</td>\n",
       "      <td>NaN</td>\n",
       "      <td>7.0</td>\n",
       "      <td>NaN</td>\n",
       "    </tr>\n",
       "    <tr>\n",
       "      <th>4</th>\n",
       "      <td>0.136409</td>\n",
       "      <td>-0.124815</td>\n",
       "      <td>-0.154166</td>\n",
       "      <td>0.239908</td>\n",
       "      <td>0.002291</td>\n",
       "      <td>0.145442</td>\n",
       "      <td>-0.069386</td>\n",
       "      <td>-0.006642</td>\n",
       "      <td>0.124328</td>\n",
       "      <td>0.054876</td>\n",
       "      <td>...</td>\n",
       "      <td>-0.007776</td>\n",
       "      <td>-0.065730</td>\n",
       "      <td>-0.013595</td>\n",
       "      <td>-0.012795</td>\n",
       "      <td>-0.030780</td>\n",
       "      <td>6</td>\n",
       "      <td>3.0</td>\n",
       "      <td>NaN</td>\n",
       "      <td>4.0</td>\n",
       "      <td>NaN</td>\n",
       "    </tr>\n",
       "    <tr>\n",
       "      <th>5</th>\n",
       "      <td>-0.389241</td>\n",
       "      <td>0.076076</td>\n",
       "      <td>-0.072001</td>\n",
       "      <td>0.103547</td>\n",
       "      <td>-0.058551</td>\n",
       "      <td>0.033468</td>\n",
       "      <td>0.017906</td>\n",
       "      <td>0.094761</td>\n",
       "      <td>0.034065</td>\n",
       "      <td>-0.220189</td>\n",
       "      <td>...</td>\n",
       "      <td>0.004709</td>\n",
       "      <td>0.043465</td>\n",
       "      <td>-0.049461</td>\n",
       "      <td>-0.052292</td>\n",
       "      <td>0.027773</td>\n",
       "      <td>9</td>\n",
       "      <td>3.0</td>\n",
       "      <td>NaN</td>\n",
       "      <td>3.0</td>\n",
       "      <td>NaN</td>\n",
       "    </tr>\n",
       "  </tbody>\n",
       "</table>\n",
       "<p>5 rows × 37 columns</p>\n",
       "</div>"
      ],
      "text/plain": [
       "          0         1         2         3         4         5         6  \\\n",
       "1  0.142266  0.121459 -0.054467 -0.058987  0.049365 -0.107044  0.123232   \n",
       "2  0.213798 -0.011502 -0.015170  0.149934  0.106344  0.082373 -0.120631   \n",
       "3  0.069708 -0.213904  0.132880 -0.150276 -0.049206  0.080040 -0.023638   \n",
       "4  0.136409 -0.124815 -0.154166  0.239908  0.002291  0.145442 -0.069386   \n",
       "5 -0.389241  0.076076 -0.072001  0.103547 -0.058551  0.033468  0.017906   \n",
       "\n",
       "          7         8         9  ...        27        28        29        30  \\\n",
       "1  0.003732  0.044797 -0.118452  ...  0.058264  0.065489  0.028578 -0.089683   \n",
       "2 -0.061052  0.068679  0.033809  ... -0.086331 -0.011793 -0.047739  0.020949   \n",
       "3  0.017214 -0.208746  0.053342  ... -0.036999  0.006381  0.011267 -0.029590   \n",
       "4 -0.006642  0.124328  0.054876  ... -0.007776 -0.065730 -0.013595 -0.012795   \n",
       "5  0.094761  0.034065 -0.220189  ...  0.004709  0.043465 -0.049461 -0.052292   \n",
       "\n",
       "         31  category  category_dists  category_kmedoids  \\\n",
       "1  0.126804         5             3.0                NaN   \n",
       "2 -0.030398         6             3.0                NaN   \n",
       "3  0.076341         0             3.0                NaN   \n",
       "4 -0.030780         6             3.0                NaN   \n",
       "5  0.027773         9             3.0                NaN   \n",
       "\n",
       "   category_kmedoids_L0  category_kmedoids_L1  \n",
       "1                   8.0                   NaN  \n",
       "2                   9.0                   NaN  \n",
       "3                   7.0                   NaN  \n",
       "4                   4.0                   NaN  \n",
       "5                   3.0                   NaN  \n",
       "\n",
       "[5 rows x 37 columns]"
      ]
     },
     "execution_count": 157,
     "metadata": {},
     "output_type": "execute_result"
    }
   ],
   "source": [
    "data.head()"
   ]
  },
  {
   "cell_type": "code",
   "execution_count": null,
   "id": "8721dfbf-9da8-41ad-a067-a2781a0d8e55",
   "metadata": {},
   "outputs": [],
   "source": [
    "nn3.train(data_x, data_y, epochs=5000, logger=LOG)"
   ]
  },
  {
   "cell_type": "code",
   "execution_count": 136,
   "id": "28d91af8-0c86-4b39-b77d-5570f6fe2453",
   "metadata": {},
   "outputs": [
    {
     "data": {
      "text/plain": [
       "array([0, 8, 3, 3, 5, 9, 0, 3, 3, 0, 9, 0, 6, 3, 3, 2, 9, 2, 2, 2, 9, 7,\n",
       "       6, 1, 2, 8, 2, 1, 8, 9, 2, 4, 6, 9, 6, 9, 0, 0, 3, 5, 0, 9, 9, 0,\n",
       "       6, 3, 5, 3, 2, 4, 1, 6, 5, 0, 1, 2, 1, 1, 1, 2, 2, 5, 6, 8, 3, 5,\n",
       "       0, 3, 8, 4, 0, 5, 8, 6, 0, 2, 1, 4, 2, 2, 3, 3, 9, 9, 9, 9, 1, 5,\n",
       "       1, 2, 5, 6, 8, 2, 3, 6, 1, 5, 9, 4, 6, 4, 6, 9, 8, 1, 5, 9, 8, 5,\n",
       "       4, 0, 6, 1, 2, 2, 9, 5, 8, 8, 9, 9, 9, 8, 2, 0, 7, 0, 2, 2, 3, 4,\n",
       "       7, 6, 5, 6, 0, 3, 8, 5, 7, 1, 4, 5, 2, 2, 8, 9, 7, 4, 7, 9, 5, 6,\n",
       "       6, 2, 3, 8, 0, 2, 3, 0, 5, 6, 4, 4, 7, 4, 7, 9, 0, 7, 5, 2, 2, 1,\n",
       "       0, 2, 9, 2, 1, 9, 9, 6, 2, 8, 2, 2, 0, 0, 5, 8, 7, 2, 7, 7, 0, 7,\n",
       "       3, 7, 3, 8, 9, 0, 8, 9, 5, 6, 1, 5, 9, 9, 7, 7, 2, 1, 1, 5, 1, 7,\n",
       "       7, 7, 9, 3, 5, 5, 3, 4, 3, 7, 7, 5, 1, 7, 9, 2, 6, 9, 4, 0, 1, 2,\n",
       "       6, 3, 6, 1, 4, 9, 9, 4, 1, 8, 2, 4, 1, 3, 3, 3, 2, 9, 0, 3, 5, 6,\n",
       "       0, 1, 0, 5, 3, 3, 4, 9, 0, 3, 7, 6, 6, 5, 2, 4, 2, 1, 5, 8, 6, 7,\n",
       "       5, 2, 1, 8, 7, 9, 4, 3, 8, 0, 4, 5, 1, 3, 0, 2, 3, 8, 8, 4, 1, 0,\n",
       "       0, 3, 3, 8, 7, 8, 6, 1, 4, 3, 0, 7, 7, 4, 3, 9, 0, 2, 3, 0, 9, 7,\n",
       "       2, 3, 0, 8, 7, 8, 4, 3, 1, 9, 7, 4, 6, 3, 8, 8, 8, 1, 4, 7, 4, 2,\n",
       "       2, 4, 4, 2, 5, 6, 9, 2, 4, 2, 8, 0, 7, 2, 4, 9, 4, 7, 9, 3, 1, 1,\n",
       "       2, 2, 9, 9, 7, 0, 6, 4, 3, 2, 4, 7, 6, 5, 2, 8, 0, 7, 5, 3, 9, 8,\n",
       "       7, 6, 4, 0, 8, 1, 1, 9, 2, 5, 7, 2, 8, 0, 7, 2, 2, 1, 4, 8, 0, 2,\n",
       "       3, 1, 9, 0, 5, 2, 9, 1, 7, 9, 1, 4, 7, 5, 4, 2, 9, 2, 7, 7, 4, 4,\n",
       "       7, 5, 6, 1, 7, 8, 7, 7, 3, 8, 2, 5, 3, 0, 5, 5, 2, 2, 1, 6, 3, 6,\n",
       "       0, 0, 2, 3, 7, 9, 8, 5, 4, 5, 4, 0, 8, 4, 3, 9, 2, 7, 3, 0, 9, 9,\n",
       "       0, 2, 9, 3, 9, 7, 5, 8, 9, 4, 8, 2, 5, 8, 0, 5, 3, 9, 7, 2, 3, 1,\n",
       "       2, 2, 3, 3, 8, 4, 8, 1, 5, 1, 3, 7, 2, 9, 3, 3, 6, 7, 9, 6, 4, 9,\n",
       "       2, 1, 9, 0, 2, 4, 6, 5, 1, 9, 3, 3, 6, 7, 2, 3, 9, 6, 4, 0, 5, 2,\n",
       "       9, 4, 8, 3, 1, 7, 6, 9, 5, 3, 4, 0, 4, 5, 1, 0, 6, 8, 1, 8, 9, 7,\n",
       "       2, 8, 5, 3, 9, 6, 3, 3, 4, 2, 4, 2, 5, 0, 9, 4, 4, 7, 3, 9, 5, 8,\n",
       "       6, 5, 5, 9, 1, 4, 3, 6, 7, 9, 2, 8, 8, 7, 9, 1, 1, 4, 4, 3, 3, 8,\n",
       "       3, 4, 7, 7, 1, 6, 7, 8, 9, 3, 3, 0, 0, 8, 4, 9, 3, 3, 2, 8, 3, 9,\n",
       "       7, 8, 3, 4, 4, 8, 2, 7, 0, 6, 1, 8, 7, 5, 2, 9, 8, 2, 7, 5, 8, 2,\n",
       "       7, 9, 1, 7, 6, 1, 8, 4, 0, 0, 9, 5, 6, 6, 5, 7, 0, 4, 3, 4, 1, 1,\n",
       "       4, 7, 2, 9, 0, 4, 2, 5, 0, 5, 0, 9, 4, 6, 2, 3, 8, 4, 0, 7, 1, 5,\n",
       "       5, 2, 0, 6, 2, 8, 5, 5, 9, 6, 4, 4, 3, 7, 0, 3, 2, 8, 9, 6, 0, 3,\n",
       "       0, 5, 0, 8, 8, 2, 8, 5, 5, 4, 2, 4, 2, 6, 2, 0, 2, 2, 8, 3, 3, 0,\n",
       "       9, 9, 2, 4, 2, 0, 8, 4, 1, 2, 2, 1, 0, 1, 7, 1, 3, 0, 8, 9, 0, 1,\n",
       "       1, 1, 5, 1, 9, 2, 9, 8, 1, 5, 0, 0, 8, 2, 9, 2, 8, 9, 9, 3, 9, 4,\n",
       "       3, 4, 3, 2, 7, 4, 2, 0, 0, 7, 7, 1, 0, 0, 8, 5, 7, 7, 9, 0, 9, 1,\n",
       "       5, 1, 6, 6, 2, 3, 2, 1, 1, 8, 5, 5, 4, 3, 2, 3, 3, 0, 8, 2, 2, 8,\n",
       "       1, 9, 0, 5, 7, 8, 0, 5, 6, 3, 8, 9, 8, 1, 2, 0, 8, 2, 9, 3, 8, 2,\n",
       "       4, 9, 6, 4, 4, 3, 9, 8, 6, 3, 9, 2, 5, 2, 5, 9, 2, 3, 6, 0, 0, 5,\n",
       "       5, 2, 6, 5, 8, 2, 7, 0, 3, 1, 9, 2, 1, 0, 3, 9, 7, 2, 8, 3, 4, 2,\n",
       "       4, 2, 3, 0, 2, 7, 1, 2, 2, 5, 9, 2, 4, 0, 6, 1, 9, 8, 6, 9, 9, 5,\n",
       "       2, 7, 9, 2, 2, 7, 0, 3, 9, 7, 5, 0, 8, 9, 2, 0, 1, 5, 7, 0, 8, 7,\n",
       "       3, 4, 9, 7, 5, 3, 2, 6, 8, 2, 1, 7, 8, 3, 2, 4, 9, 2, 3, 2, 0, 3,\n",
       "       7, 9, 5, 8, 8, 2, 7, 9, 3, 8, 8, 2, 5, 3, 6, 3, 3, 1, 0, 0, 1, 3,\n",
       "       2, 5, 3, 2, 1, 6, 7, 0, 5, 8])"
      ]
     },
     "execution_count": 136,
     "metadata": {},
     "output_type": "execute_result"
    }
   ],
   "source": [
    "res"
   ]
  }
 ],
 "metadata": {
  "kernelspec": {
   "display_name": "Python 3",
   "language": "python",
   "name": "python3"
  },
  "language_info": {
   "codemirror_mode": {
    "name": "ipython",
    "version": 3
   },
   "file_extension": ".py",
   "mimetype": "text/x-python",
   "name": "python",
   "nbconvert_exporter": "python",
   "pygments_lexer": "ipython3",
   "version": "3.6.2"
  }
 },
 "nbformat": 4,
 "nbformat_minor": 5
}
