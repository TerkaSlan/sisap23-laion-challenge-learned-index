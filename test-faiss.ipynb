{
 "cells": [
  {
   "cell_type": "code",
   "execution_count": 1,
   "id": "38ba68eb-0e4e-459a-b7ea-4a247f378365",
   "metadata": {},
   "outputs": [],
   "source": [
    "import argparse\n",
    "import h5py\n",
    "import numpy as np\n",
    "import os\n",
    "from pathlib import Path\n",
    "from urllib.request import urlretrieve\n",
    "import logging\n",
    "\n",
    "\n",
    "logging.basicConfig(\n",
    "    level=logging.INFO,\n",
    "    format='[%(asctime)s][%(levelname)-5.5s][%(name)-.20s] %(message)s'\n",
    ")\n",
    "LOG = logging.getLogger(__name__)\n",
    "\n",
    "\n",
    "def download(src, dst):\n",
    "    if not os.path.exists(dst):\n",
    "        os.makedirs(Path(dst).parent, exist_ok=True)\n",
    "        LOG.info('downloading %s -> %s...' % (src, dst))\n",
    "        urlretrieve(src, dst)\n",
    "\n",
    "\n",
    "def prepare(kind, size):\n",
    "    url = \"https://sisap-23-challenge.s3.amazonaws.com/SISAP23-Challenge\"\n",
    "    task = {\n",
    "        \"query\": f\"{url}/public-queries-10k-{kind}.h5\",\n",
    "        \"dataset\": f\"{url}/laion2B-en-{kind}-n={size}.h5\",\n",
    "    }\n",
    "\n",
    "    for version, url in task.items():\n",
    "        target_path = os.path.join(\"data\", kind, size, f\"{version}.h5\")\n",
    "        download(url, target_path)\n",
    "        assert os.path.exists(target_path), f\"Failed to download {url}\"\n"
   ]
  },
  {
   "cell_type": "code",
   "execution_count": 10,
   "id": "514ca43c-3697-4e63-9c20-ff1eb3f20b22",
   "metadata": {},
   "outputs": [
    {
     "name": "stderr",
     "output_type": "stream",
     "text": [
      "[2023-06-16 12:56:23,515][INFO ][__main__] downloading https://sisap-23-challenge.s3.amazonaws.com/SISAP23-Challenge/public-queries-10k-pca32v2.h5 -> data/pca32v2/100K/query.h5...\n",
      "[2023-06-16 12:56:24,703][INFO ][__main__] downloading https://sisap-23-challenge.s3.amazonaws.com/SISAP23-Challenge/laion2B-en-pca32v2-n=100K.h5 -> data/pca32v2/100K/dataset.h5...\n"
     ]
    }
   ],
   "source": [
    "size= '100K'\n",
    "kind = \"pca32v2\"\n",
    "\n",
    "key = 'pca32'\n",
    "prepare(kind, size)\n",
    "\n",
    "data = np.array(h5py.File(os.path.join(\"data\", kind, size, \"dataset.h5\"), \"r\")[key])\n",
    "queries = np.array(h5py.File(os.path.join(\"data\", kind, size, \"query.h5\"), \"r\")[key])\n",
    "n, d = data.shape"
   ]
  },
  {
   "cell_type": "code",
   "execution_count": 11,
   "id": "dc888fcc-2fc5-4182-9713-31f4026be749",
   "metadata": {},
   "outputs": [],
   "source": [
    "import faiss"
   ]
  },
  {
   "cell_type": "code",
   "execution_count": 12,
   "id": "877c4598-23e7-40a3-9416-6fe38c004379",
   "metadata": {},
   "outputs": [],
   "source": [
    "nlist = 128\n",
    "index_identifier = f\"IVF{nlist},Flat\"\n",
    "index = faiss.index_factory(d, index_identifier)"
   ]
  },
  {
   "cell_type": "code",
   "execution_count": 13,
   "id": "08b2981c-7cb8-4c82-b3ec-769e4048932f",
   "metadata": {},
   "outputs": [],
   "source": [
    "import time "
   ]
  },
  {
   "cell_type": "code",
   "execution_count": 14,
   "id": "2dbb40e7-201e-432c-8adc-1f839c894a5e",
   "metadata": {},
   "outputs": [
    {
     "name": "stdout",
     "output_type": "stream",
     "text": [
      "Training index on (100000, 32)\n",
      "Done training in 0.24490928649902344s.\n"
     ]
    }
   ],
   "source": [
    "print(f\"Training index on {data.shape}\")\n",
    "start = time.time()\n",
    "index.train(data)\n",
    "index.add(data)\n",
    "elapsed_build = time.time() - start\n",
    "print(f\"Done training in {elapsed_build}s.\")\n",
    "assert index.is_trained"
   ]
  },
  {
   "cell_type": "code",
   "execution_count": 33,
   "id": "cd57c183-60e8-49c2-9f64-9de743eb3e63",
   "metadata": {},
   "outputs": [],
   "source": [
    "nprobe=500\n",
    "k=50"
   ]
  },
  {
   "cell_type": "code",
   "execution_count": 34,
   "id": "e29169fa-0d01-47d8-9ace-3400c2d36dae",
   "metadata": {},
   "outputs": [
    {
     "name": "stdout",
     "output_type": "stream",
     "text": [
      "Starting search on (10000, 32) with nprobe=500\n",
      "Done searching in 25.20758891105652s.\n"
     ]
    }
   ],
   "source": [
    "print(f\"Starting search on {queries.shape} with nprobe={nprobe}\")\n",
    "start = time.time()\n",
    "index.nprobe = nprobe\n",
    "D, I = index.search(queries, k)\n",
    "elapsed_search = time.time() - start\n",
    "print(f\"Done searching in {elapsed_search}s.\")\n",
    "\n",
    "I = I + 1 # FAISS is 0-indexed, groundtruth is 1-indexed\n",
    "\n",
    "identifier = f\"index=({index_identifier}),query=(nprobe={nprobe})\""
   ]
  },
  {
   "cell_type": "code",
   "execution_count": 22,
   "id": "7c630bca-9d5a-4da8-8a30-c39c68bf3573",
   "metadata": {},
   "outputs": [],
   "source": [
    "dst=os.path.join(\"result/\", kind, size, f\"{identifier}.h5\")"
   ]
  },
  {
   "cell_type": "code",
   "execution_count": 35,
   "id": "c4969a98-361d-43b7-8d58-398046da98c4",
   "metadata": {},
   "outputs": [
    {
     "data": {
      "text/plain": [
       "(10000, 50)"
      ]
     },
     "execution_count": 35,
     "metadata": {},
     "output_type": "execute_result"
    }
   ],
   "source": [
    "D.shape"
   ]
  },
  {
   "cell_type": "code",
   "execution_count": 36,
   "id": "ab7feeef-e073-47c6-ace3-be005c53ede1",
   "metadata": {},
   "outputs": [
    {
     "data": {
      "text/plain": [
       "(10000, 50)"
      ]
     },
     "execution_count": 36,
     "metadata": {},
     "output_type": "execute_result"
    }
   ],
   "source": [
    "I.shape"
   ]
  },
  {
   "cell_type": "code",
   "execution_count": 37,
   "id": "6568923b-d1db-4d91-9de4-03e547f072b1",
   "metadata": {},
   "outputs": [
    {
     "data": {
      "text/plain": [
       "array([-0.06877425, -0.11037602,  0.05646035, -0.11508854, -0.03577028,\n",
       "        0.09110859,  0.07477964,  0.10778218,  0.04116842,  0.00877987,\n",
       "       -0.06257925, -0.17031246,  0.00780125, -0.099485  ,  0.04967897,\n",
       "       -0.12064676,  0.0035742 , -0.07642894,  0.08400699, -0.03188556,\n",
       "       -0.01020392,  0.07147753, -0.01378688, -0.10539152, -0.00040444,\n",
       "       -0.00291365,  0.12945361,  0.05624911,  0.00785595,  0.01020052,\n",
       "        0.06252866, -0.00992952], dtype=float32)"
      ]
     },
     "execution_count": 37,
     "metadata": {},
     "output_type": "execute_result"
    }
   ],
   "source": [
    "queries[0]"
   ]
  },
  {
   "cell_type": "code",
   "execution_count": 38,
   "id": "4d220d24-4e08-4ca5-9485-914372cbb805",
   "metadata": {},
   "outputs": [
    {
     "data": {
      "text/plain": [
       "array([92501, 41079, 22337, 79896, 92811, 82795, 11781, 83736, 11441,\n",
       "         885, 74338, 15455, 24314, 20213, 97655, 19961, 24532, 52102,\n",
       "       45784, 57876, 41370, 50294, 13032, 69015, 83588, 53971, 12401,\n",
       "       45346, 44952, 13236, 92706, 41312, 38159, 74173, 24874, 79172,\n",
       "       99941, 93336, 10221, 75694, 67030, 96585, 20970, 12161, 99104,\n",
       "       76538, 42014, 60713, 79753, 99973])"
      ]
     },
     "execution_count": 38,
     "metadata": {},
     "output_type": "execute_result"
    }
   ],
   "source": [
    "I[0]"
   ]
  },
  {
   "cell_type": "code",
   "execution_count": 29,
   "id": "a6ca8d3f-8ca7-4160-91b4-0c7ae3aa82de",
   "metadata": {},
   "outputs": [],
   "source": [
    "def get_groundtruth(size=\"100K\"):\n",
    "    #url = f\"http://ingeotec.mx/~sadit/metric-datasets/LAION/SISAP23-Challenge/laion2B-en-public-gold-standard-v2-{size}.h5\"\n",
    "    url = f\"https://sisap-23-challenge.s3.amazonaws.com/SISAP23-Challenge/laion2B-en-public-gold-standard-v2-{size}.h5\"\n",
    "\n",
    "    out_fn = os.path.join(\"data\", f\"groundtruth-{size}.h5\")\n",
    "    download(url, out_fn)\n",
    "    gt_f = h5py.File(out_fn, \"r\")\n",
    "    true_I = np.array(gt_f['knns'])\n",
    "    gt_f.close()\n",
    "    return true_I"
   ]
  },
  {
   "cell_type": "code",
   "execution_count": 30,
   "id": "c6067943-a90e-4b8c-9e80-ab5dcb0d6c61",
   "metadata": {},
   "outputs": [
    {
     "name": "stderr",
     "output_type": "stream",
     "text": [
      "[2023-06-16 13:10:31,165][INFO ][__main__] downloading https://sisap-23-challenge.s3.amazonaws.com/SISAP23-Challenge/laion2B-en-public-gold-standard-v2-100K.h5 -> data/groundtruth-100K.h5...\n"
     ]
    }
   ],
   "source": [
    "gt = get_groundtruth(size=\"100K\")"
   ]
  },
  {
   "cell_type": "code",
   "execution_count": 31,
   "id": "9a1a3f61-cb0e-485f-a455-376b9e81b66b",
   "metadata": {},
   "outputs": [
    {
     "data": {
      "text/plain": [
       "array([79172, 15735, 22337,   231, 74173, 41079, 38159, 71849, 69015,\n",
       "       92811, 99973, 79896, 13236, 64156, 86179, 55218, 60622, 64728,\n",
       "       86341, 63839, 52857,   885, 83736, 87457, 36442, 24314, 73879,\n",
       "        5985, 20970, 60559,  5414, 26294, 42586, 41370, 22973,  4415,\n",
       "       23975, 82381, 15425, 79753, 19745, 74573, 40382,  8735, 70297,\n",
       "       23884, 92501, 66709, 91232, 61308, 94073,  4327, 25525,  7180,\n",
       "       12401,  5451, 59683, 17544, 53818, 52102, 85602,   898, 76553,\n",
       "       18967, 37889, 50123, 80243, 35693, 73074, 31649, 55412, 13493,\n",
       "       67226, 21472, 81544, 70033, 91179, 97387, 94426, 76538, 64253,\n",
       "       29033, 87037, 38033, 80913, 70410, 83588, 44952,  6911, 65794,\n",
       "       45784,  5492, 35205, 21690, 16711, 95028, 19961,  1708, 68450,\n",
       "       20333], dtype=int32)"
      ]
     },
     "execution_count": 31,
     "metadata": {},
     "output_type": "execute_result"
    }
   ],
   "source": [
    "gt[0]"
   ]
  },
  {
   "cell_type": "code",
   "execution_count": null,
   "id": "79181a47-f151-4ec3-a157-2e022feb5385",
   "metadata": {},
   "outputs": [],
   "source": [
    "def store_results(dst, algo, kind, D, I, buildtime, querytime, params, size):"
   ]
  },
  {
   "cell_type": "code",
   "execution_count": null,
   "id": "fbf204dd-9c4c-4007-a690-205a420eec1b",
   "metadata": {},
   "outputs": [],
   "source": [
    "os.path.join(\"result/\", kind, size, f\"{identifier}.h5\"), \"faissIVF\", kind, D, I, elapsed_build, elapsed_search, identifier, size"
   ]
  }
 ],
 "metadata": {
  "kernelspec": {
   "display_name": "Python 3",
   "language": "python",
   "name": "python3"
  },
  "language_info": {
   "codemirror_mode": {
    "name": "ipython",
    "version": 3
   },
   "file_extension": ".py",
   "mimetype": "text/x-python",
   "name": "python",
   "nbconvert_exporter": "python",
   "pygments_lexer": "ipython3",
   "version": "3.6.2"
  }
 },
 "nbformat": 4,
 "nbformat_minor": 5
}
