{
 "cells": [
  {
   "cell_type": "code",
   "execution_count": null,
   "id": "2eb41b67-140a-4c8c-8596-8390c8303ed9",
   "metadata": {},
   "outputs": [],
   "source": [
    "%reload_ext autoreload\n",
    "%autoreload 2"
   ]
  },
  {
   "cell_type": "code",
   "execution_count": null,
   "id": "54ca35db-7351-41c7-9ed2-1d8b6602517a",
   "metadata": {},
   "outputs": [],
   "source": [
    "import h5py\n",
    "import pandas as pd\n",
    "data_path = 'data/clip768v2/10M/dataset.h5'"
   ]
  },
  {
   "cell_type": "code",
   "execution_count": null,
   "id": "24973803-148b-4f23-8768-e354fb34d5b7",
   "metadata": {},
   "outputs": [
    {
     "name": "stdout",
     "output_type": "stream",
     "text": [
      "CPU times: user 0 ns, sys: 218 ms, total: 218 ms\n",
      "Wall time: 261 ms\n"
     ]
    }
   ],
   "source": [
    "%time f = h5py.File(data_path, 'r')"
   ]
  },
  {
   "cell_type": "code",
   "execution_count": 62,
   "id": "f216ae75-1847-492b-ac52-30e8055d6149",
   "metadata": {},
   "outputs": [
    {
     "name": "stdout",
     "output_type": "stream",
     "text": [
      "CPU times: user 2.41 ms, sys: 0 ns, total: 2.41 ms\n",
      "Wall time: 48.7 ms\n"
     ]
    },
    {
     "data": {
      "text/plain": [
       "['pca32']"
      ]
     },
     "execution_count": 62,
     "metadata": {},
     "output_type": "execute_result"
    }
   ],
   "source": [
    "%time f2 = h5py.File('data/pca32v2/10M/query.h5', 'r')\n",
    "[k for k in f2.keys()]"
   ]
  },
  {
   "cell_type": "markdown",
   "id": "16ff52f7-e81e-4a9b-b4ce-f8511359e42a",
   "metadata": {},
   "source": [
    "## Select random pivots, create labels based on a subset"
   ]
  },
  {
   "cell_type": "code",
   "execution_count": 6,
   "id": "ae8a829c-6a27-482d-bf6b-ff99eae4bfe9",
   "metadata": {},
   "outputs": [],
   "source": [
    "from sklearn.metrics.pairwise import cosine_similarity\n",
    "import numpy as np\n",
    "import time\n",
    "\n",
    "def pairwise_cosine(x, y):\n",
    "    return 1-cosine_similarity(x, y)"
   ]
  },
  {
   "cell_type": "code",
   "execution_count": 12,
   "id": "90b9acb1-fae9-4504-b3ee-1e75d57f24bb",
   "metadata": {},
   "outputs": [
    {
     "data": {
      "text/plain": [
       "((10000,),\n",
       " array([5167873, 9776151, 3750648, 9583857, 5416365, 2652464, 1107702,\n",
       "         421219, 1594416, 5593595]))"
      ]
     },
     "execution_count": 12,
     "metadata": {},
     "output_type": "execute_result"
    }
   ],
   "source": [
    "rng = np.random.default_rng(seed=2023)\n",
    "pivot_indexes = rng.choice(range(10_000_000), size=(10_000), replace=False)\n",
    "pivot_indexes.shape, pivot_indexes[:10]"
   ]
  },
  {
   "cell_type": "code",
   "execution_count": 13,
   "id": "050e31e1-50b4-4b28-8f35-0ea6df64744c",
   "metadata": {},
   "outputs": [
    {
     "name": "stdout",
     "output_type": "stream",
     "text": [
      "CPU times: user 2.24 s, sys: 95.9 ms, total: 2.34 s\n",
      "Wall time: 2.42 s\n"
     ]
    }
   ],
   "source": [
    "pivot_indexes = np.sort(pivot_indexes)\n",
    "%time pivot_data = f['emb'][pivot_indexes, :]"
   ]
  },
  {
   "cell_type": "code",
   "execution_count": 10,
   "id": "62724568-0edc-4d3a-8a72-e3bb7de2c941",
   "metadata": {},
   "outputs": [
    {
     "name": "stdout",
     "output_type": "stream",
     "text": [
      "Generator(PCG64)\n"
     ]
    },
    {
     "data": {
      "text/plain": [
       "0.22733602246716966"
      ]
     },
     "execution_count": 10,
     "metadata": {},
     "output_type": "execute_result"
    }
   ],
   "source": [
    "import numpy as np\n",
    "rng = np.random.default_rng(12345)\n",
    "print(rng)\n",
    "rfloat = rng.random()\n",
    "rfloat"
   ]
  },
  {
   "cell_type": "code",
   "execution_count": 11,
   "id": "0719f925-c090-4dbd-a643-6a88c47da90c",
   "metadata": {},
   "outputs": [
    {
     "name": "stdout",
     "output_type": "stream",
     "text": [
      "Generator(PCG64)\n"
     ]
    },
    {
     "data": {
      "text/plain": [
       "0.4734724218871649"
      ]
     },
     "execution_count": 11,
     "metadata": {},
     "output_type": "execute_result"
    }
   ],
   "source": [
    "rng = np.random.default_rng(12345+1)\n",
    "print(rng)\n",
    "rfloat = rng.random()\n",
    "rfloat"
   ]
  },
  {
   "cell_type": "code",
   "execution_count": 15,
   "id": "e15b4014-b9e7-457d-a3ff-b55f69230d20",
   "metadata": {},
   "outputs": [
    {
     "name": "stdout",
     "output_type": "stream",
     "text": [
      "Generator(PCG64)\n",
      "Size of random_10k after filtering out conflict objects: (9993,)\n",
      "Loading data took: 67.47568726539612\n",
      "Computing pairwise took: 0.06532931327819824\n",
      "CPU times: user 3.56 s, sys: 1.14 s, total: 4.7 s\n",
      "Wall time: 1min 7s\n"
     ]
    }
   ],
   "source": [
    "%%time\n",
    "for i, (pivot, pivot_index) in enumerate(zip(pivot_data, pivot_indexes)):\n",
    "    s = time.time()\n",
    "    # beware of setting a correct seed, otherwise choice will return the same thing\n",
    "    rng = np.random.default_rng(seed=2023+(i+1))\n",
    "    print(rng)\n",
    "    random_10k = rng.choice(range(10_000_000), size=(10_000), replace=False)\n",
    "    \n",
    "    # automatically sorts random_10k -> necessary for indexing in `f`\n",
    "    random_10k = np.setdiff1d(random_10k, pivot_indexes)\n",
    "    print(f'Size of random_10k after filtering out conflict objects: {random_10k.shape}')\n",
    "    loaded_data = f['emb'][random_10k, :]\n",
    "    if i == 0:\n",
    "        assert not np.all(pivot == loaded_data[0]), 'Loaded data is the same as pivot, did you set the random seed properly?'\n",
    "    print(f'Loading data took: {time.time()-s}')\n",
    "    s = time.time()\n",
    "    dists = pairwise_cosine([pivot], loaded_data)\n",
    "    print(f'Computing pairwise took: {time.time()-s}')\n",
    "    break"
   ]
  },
  {
   "cell_type": "code",
   "execution_count": 18,
   "id": "029169a5-687e-4730-981a-5039bf218a04",
   "metadata": {},
   "outputs": [
    {
     "data": {
      "text/plain": [
       "194.44444444444443"
      ]
     },
     "execution_count": 18,
     "metadata": {},
     "output_type": "execute_result"
    }
   ],
   "source": [
    "# Loading (+ computing dists) for 1 pivot took 70s, how long would it take to do the same for 10k (in hours)?\n",
    "10_000 * 70 / 60 / 60"
   ]
  },
  {
   "cell_type": "code",
   "execution_count": 20,
   "id": "d225b2e9-63af-46d0-a58a-b5e111f5964d",
   "metadata": {},
   "outputs": [
    {
     "name": "stdout",
     "output_type": "stream",
     "text": [
      "CPU times: user 12.1 s, sys: 4.17 s, total: 16.3 s\n",
      "Wall time: 1min 27s\n"
     ]
    }
   ],
   "source": [
    "# still slow\n",
    "%%time\n",
    "for i in range(10):\n",
    "    rng = np.random.default_rng(seed=2023+(i+1))\n",
    "    random_10k = rng.choice(range(10_000_000), size=(1_000), replace=False)\n",
    "    loaded_data = f['emb'][np.sort(random_10k), :]"
   ]
  },
  {
   "cell_type": "markdown",
   "id": "8f6fcfea-7a39-4b34-b76d-c61e7ede5606",
   "metadata": {},
   "source": [
    "### Torch?"
   ]
  },
  {
   "cell_type": "code",
   "execution_count": 21,
   "id": "d5e855aa-40c6-4230-9980-efa37c70193c",
   "metadata": {},
   "outputs": [],
   "source": [
    "import torch"
   ]
  },
  {
   "cell_type": "code",
   "execution_count": 58,
   "id": "3ef59667-6e92-48ef-b192-2ed9a301098a",
   "metadata": {},
   "outputs": [],
   "source": [
    "import torch\n",
    "from torch.utils.data import Dataset, DataLoader, Sampler, BatchSampler\n",
    "import os\n",
    "import h5py\n",
    "\n",
    "class OxpetDataset(Dataset):\n",
    "    \"\"\"Dataset to load data from the Oxford pet dataset .h5 files\n",
    "\n",
    "    :param dir_path: path to directory containing data (e.g. train, test or val)\n",
    "    :type dir_path: str\n",
    "    :param tasks: list of tasks to load data for, must be in 'class', 'seg' or 'bb'\n",
    "    :type tasks: list\n",
    "    :param transform: transformation to apply to the images\n",
    "    :type transform: list\n",
    "    :param target_transforms: transforms to add to each target, of the form {task:[transforms]}\n",
    "    :type target_transforms: dict\n",
    "    :param shuffle: parameter to enable shuffling within batch after loading\n",
    "    :type shuffle: bool\n",
    "    :param max_size: maximum size of data to draw from (useful for debugging purposes)\n",
    "    :type max_size: int\n",
    "    \"\"\"\n",
    "    task_to_file = {\n",
    "        'class': data_path,\n",
    "    }\n",
    "    def __init__(self, dir_path, shuffle=True, max_size=None):\n",
    "\n",
    "        super(OxpetDataset, self).__init__()\n",
    "\n",
    "        self.dir_path = dir_path\n",
    "        self.inputs = self._load_h5_file_with_data()\n",
    "\n",
    "        self.shuffle = shuffle\n",
    "        self.max_size = max_size\n",
    "\n",
    "    def __getitem__(self, index):\n",
    "\n",
    "        inputs = self.inputs['data'][index]\n",
    "        return (inputs, )\n",
    "\n",
    "    def __len__(self):\n",
    "        return self.max_size if self.max_size else self.inputs['data'].shape[0]\n",
    "\n",
    "    def _load_h5_file_with_data(self):\n",
    "        path = os.path.join(self.dir_path)\n",
    "        file = h5py.File(path)\n",
    "        key = list(file.keys())[0]\n",
    "        data = file[key]\n",
    "        return dict(file=file, data=data)\n",
    "\n",
    "    def _permute_tf_to_torch(self, tensor):\n",
    "        \"\"\"Function to load PIL images in correct format required by PyTorch\n",
    "        This extends the capabiliy of torchvision.transforms.ToTensor to 4D arrays\n",
    "        \"\"\"\n",
    "        return tensor.permute([0, 3, 2, 1])\n",
    "\n",
    "    def _from_numpy(self, tensor):\n",
    "        return torch.from_numpy(tensor).float()\n",
    "\n",
    "\n",
    "class RandomBatchSampler(Sampler):\n",
    "    \"\"\"Sampling class to create random sequential batches from a given dataset\n",
    "    E.g. if data is [1,2,3,4] with bs=2. Then first batch, [[1,2], [3,4]] then shuffle batches -> [[3,4],[1,2]]\n",
    "    This is useful for cases when you are interested in 'weak shuffling'\n",
    "\n",
    "    :param dataset: dataset you want to batch\n",
    "    :type dataset: torch.utils.data.Dataset\n",
    "    :param batch_size: batch size\n",
    "    :type batch_size: int\n",
    "    :returns: generator object of shuffled batch indices\n",
    "    \"\"\"\n",
    "    def __init__(self, dataset, batch_size):\n",
    "        self.batch_size = batch_size\n",
    "        self.dataset_length = len(dataset)\n",
    "        self.n_batches = self.dataset_length / self.batch_size\n",
    "        self.batch_ids = torch.randperm(int(self.n_batches))\n",
    "\n",
    "    def __len__(self):\n",
    "        return self.batch_size\n",
    "\n",
    "    def __iter__(self):\n",
    "        for id in self.batch_ids:\n",
    "            idx = torch.arange(id * self.batch_size, (id + 1) * self.batch_size)\n",
    "            for index in idx:\n",
    "                yield int(index)\n",
    "        if int(self.n_batches) < self.n_batches:\n",
    "            idx = torch.arange(int(self.n_batches) * self.batch_size, self.dataset_length)\n",
    "            for index in idx:\n",
    "                yield int(index)\n",
    "\n",
    "\n",
    "def normal_loader(dataset, batch_size=32, drop_last=False, shuffle=True):\n",
    "    \"\"\"Implements a normal loading scheme\n",
    "    This scheme indexes the dataset one index at a time. It is slow because the .h5 causes a bottleneck that\n",
    "    scales linearly with the number of calls made to it. However, this allows strong shuffling to be used.\n",
    "\n",
    "    :param dataset: dataset\n",
    "    :type dataset: torch.utils.data.Dataset\n",
    "    :param batch_size: batch_size\n",
    "    :type batch_size: int\n",
    "    :param drop_last: bool to determine if last batch dropped if not full size\n",
    "    :type drop_last: bool\n",
    "    :returns: batched dataset\n",
    "    :rtype: torch.utils.data.DataLoader\n",
    "    \"\"\"\n",
    "    return DataLoader(dataset, batch_size=batch_size, drop_last=drop_last, shuffle=shuffle)\n",
    "\n",
    "def fast_loader(dataset, batch_size=32, drop_last=False, transforms=None):\n",
    "    \"\"\"Implements fast loading by taking advantage of .h5 dataset\n",
    "    The .h5 dataset has a speed bottleneck that scales (roughly) linearly with the number\n",
    "    of calls made to it. This is because when queries are made to it, a search is made to find\n",
    "    the data item at that index. However, once the start index has been found, taking the next items\n",
    "    does not require any more significant computation. So indexing data[start_index: start_index+batch_size]\n",
    "    is almost the same as just data[start_index]. The fast loading scheme takes advantage of this. However,\n",
    "    because the goal is NOT to load the entirety of the data in memory at once, weak shuffling is used instead of\n",
    "    strong shuffling.\n",
    "\n",
    "    :param dataset: a dataset that loads data from .h5 files\n",
    "    :type dataset: torch.utils.data.Dataset\n",
    "    :param batch_size: size of data to batch\n",
    "    :type batch_size: int\n",
    "    :param drop_last: flag to indicate if last batch will be dropped (if size < batch_size)\n",
    "    :type drop_last: bool\n",
    "    :returns: dataloading that queries from data using shuffled batches\n",
    "    :rtype: torch.utils.data.DataLoader\n",
    "    \"\"\"\n",
    "    return DataLoader(\n",
    "        dataset, batch_size=batch_size,  # must be disabled when using samplers\n",
    "        sampler=BatchSampler(RandomBatchSampler(dataset, batch_size), batch_size=batch_size, drop_last=drop_last)\n",
    "    )"
   ]
  },
  {
   "cell_type": "code",
   "execution_count": 51,
   "id": "65d15f36-6857-4cb3-b7fa-806892957922",
   "metadata": {},
   "outputs": [
    {
     "data": {
      "text/plain": [
       "10120191"
      ]
     },
     "execution_count": 51,
     "metadata": {},
     "output_type": "execute_result"
    }
   ],
   "source": [
    "dataset = OxpetDataset(data_path)\n",
    "len(dataset)"
   ]
  },
  {
   "cell_type": "code",
   "execution_count": 52,
   "id": "01bd8f4e-b796-4718-b5cb-3db815b4886a",
   "metadata": {},
   "outputs": [],
   "source": [
    "loader = normal_loader(dataset)\n",
    "it = iter(loader)"
   ]
  },
  {
   "cell_type": "code",
   "execution_count": 53,
   "id": "8468e2f5-6bd4-485a-bf62-c88dbc246a72",
   "metadata": {},
   "outputs": [
    {
     "data": {
      "text/plain": [
       "316256"
      ]
     },
     "execution_count": 53,
     "metadata": {},
     "output_type": "execute_result"
    }
   ],
   "source": [
    "len(loader)"
   ]
  },
  {
   "cell_type": "code",
   "execution_count": 54,
   "id": "7009934e-706e-4b57-8d28-b630be3b9a06",
   "metadata": {},
   "outputs": [
    {
     "name": "stdout",
     "output_type": "stream",
     "text": [
      "CPU times: user 416 ms, sys: 107 ms, total: 523 ms\n",
      "Wall time: 991 ms\n"
     ]
    },
    {
     "data": {
      "text/plain": [
       "[tensor([[ 4.7485e-02,  1.0368e-02, -4.3144e-03,  ...,  1.5228e-02,\n",
       "           2.3098e-03,  1.0536e-02],\n",
       "         [ 5.7098e-02, -6.4735e-03, -4.8399e-05,  ...,  1.2787e-02,\n",
       "          -3.7048e-02,  4.7333e-02],\n",
       "         [-1.9913e-02, -7.9422e-03,  3.1052e-03,  ...,  1.0750e-02,\n",
       "          -2.0813e-02,  9.8495e-03],\n",
       "         ...,\n",
       "         [ 1.8387e-02,  1.0597e-02,  6.0768e-03,  ..., -4.3716e-03,\n",
       "           2.9251e-02,  1.2230e-02],\n",
       "         [-2.4689e-02,  2.4719e-02,  1.5900e-02,  ...,  3.9711e-03,\n",
       "           1.5305e-02, -6.0501e-03],\n",
       "         [ 6.7383e-02, -1.0902e-02,  2.1458e-03,  ..., -3.0640e-02,\n",
       "          -2.5444e-03,  1.5688e-04]], dtype=torch.float16)]"
      ]
     },
     "execution_count": 54,
     "metadata": {},
     "output_type": "execute_result"
    }
   ],
   "source": [
    "%time next(it)"
   ]
  },
  {
   "cell_type": "code",
   "execution_count": 60,
   "id": "d423c72b-e59e-45bb-92e7-b560a58491db",
   "metadata": {},
   "outputs": [
    {
     "ename": "RuntimeError",
     "evalue": "invalid argument 0: Sizes of tensors must match except in dimension 0. Got 10000 and 191 in dimension 1 at /pytorch/aten/src/TH/generic/THTensor.cpp:711",
     "output_type": "error",
     "traceback": [
      "\u001b[0;31m---------------------------------------------------------------------------\u001b[0m",
      "\u001b[0;31mRuntimeError\u001b[0m                              Traceback (most recent call last)",
      "\u001b[0;32m<timed exec>\u001b[0m in \u001b[0;36m<module>\u001b[0;34m\u001b[0m\n",
      "\u001b[0;32m/software/pytorch-1.1.0/software/python-3.6.2/gcc/lib/python3.6/site-packages/torch/utils/data/dataloader.py\u001b[0m in \u001b[0;36m__next__\u001b[0;34m(self)\u001b[0m\n\u001b[1;32m    558\u001b[0m         \u001b[0;32mif\u001b[0m \u001b[0mself\u001b[0m\u001b[0;34m.\u001b[0m\u001b[0mnum_workers\u001b[0m \u001b[0;34m==\u001b[0m \u001b[0;36m0\u001b[0m\u001b[0;34m:\u001b[0m  \u001b[0;31m# same-process loading\u001b[0m\u001b[0;34m\u001b[0m\u001b[0m\n\u001b[1;32m    559\u001b[0m             \u001b[0mindices\u001b[0m \u001b[0;34m=\u001b[0m \u001b[0mnext\u001b[0m\u001b[0;34m(\u001b[0m\u001b[0mself\u001b[0m\u001b[0;34m.\u001b[0m\u001b[0msample_iter\u001b[0m\u001b[0;34m)\u001b[0m  \u001b[0;31m# may raise StopIteration\u001b[0m\u001b[0;34m\u001b[0m\u001b[0m\n\u001b[0;32m--> 560\u001b[0;31m             \u001b[0mbatch\u001b[0m \u001b[0;34m=\u001b[0m \u001b[0mself\u001b[0m\u001b[0;34m.\u001b[0m\u001b[0mcollate_fn\u001b[0m\u001b[0;34m(\u001b[0m\u001b[0;34m[\u001b[0m\u001b[0mself\u001b[0m\u001b[0;34m.\u001b[0m\u001b[0mdataset\u001b[0m\u001b[0;34m[\u001b[0m\u001b[0mi\u001b[0m\u001b[0;34m]\u001b[0m \u001b[0;32mfor\u001b[0m \u001b[0mi\u001b[0m \u001b[0;32min\u001b[0m \u001b[0mindices\u001b[0m\u001b[0;34m]\u001b[0m\u001b[0;34m)\u001b[0m\u001b[0;34m\u001b[0m\u001b[0m\n\u001b[0m\u001b[1;32m    561\u001b[0m             \u001b[0;32mif\u001b[0m \u001b[0mself\u001b[0m\u001b[0;34m.\u001b[0m\u001b[0mpin_memory\u001b[0m\u001b[0;34m:\u001b[0m\u001b[0;34m\u001b[0m\u001b[0m\n\u001b[1;32m    562\u001b[0m                 \u001b[0mbatch\u001b[0m \u001b[0;34m=\u001b[0m \u001b[0m_utils\u001b[0m\u001b[0;34m.\u001b[0m\u001b[0mpin_memory\u001b[0m\u001b[0;34m.\u001b[0m\u001b[0mpin_memory_batch\u001b[0m\u001b[0;34m(\u001b[0m\u001b[0mbatch\u001b[0m\u001b[0;34m)\u001b[0m\u001b[0;34m\u001b[0m\u001b[0m\n",
      "\u001b[0;32m/software/pytorch-1.1.0/software/python-3.6.2/gcc/lib/python3.6/site-packages/torch/utils/data/_utils/collate.py\u001b[0m in \u001b[0;36mdefault_collate\u001b[0;34m(batch)\u001b[0m\n\u001b[1;32m     66\u001b[0m     \u001b[0;32melif\u001b[0m \u001b[0misinstance\u001b[0m\u001b[0;34m(\u001b[0m\u001b[0mbatch\u001b[0m\u001b[0;34m[\u001b[0m\u001b[0;36m0\u001b[0m\u001b[0;34m]\u001b[0m\u001b[0;34m,\u001b[0m \u001b[0mcontainer_abcs\u001b[0m\u001b[0;34m.\u001b[0m\u001b[0mSequence\u001b[0m\u001b[0;34m)\u001b[0m\u001b[0;34m:\u001b[0m\u001b[0;34m\u001b[0m\u001b[0m\n\u001b[1;32m     67\u001b[0m         \u001b[0mtransposed\u001b[0m \u001b[0;34m=\u001b[0m \u001b[0mzip\u001b[0m\u001b[0;34m(\u001b[0m\u001b[0;34m*\u001b[0m\u001b[0mbatch\u001b[0m\u001b[0;34m)\u001b[0m\u001b[0;34m\u001b[0m\u001b[0m\n\u001b[0;32m---> 68\u001b[0;31m         \u001b[0;32mreturn\u001b[0m \u001b[0;34m[\u001b[0m\u001b[0mdefault_collate\u001b[0m\u001b[0;34m(\u001b[0m\u001b[0msamples\u001b[0m\u001b[0;34m)\u001b[0m \u001b[0;32mfor\u001b[0m \u001b[0msamples\u001b[0m \u001b[0;32min\u001b[0m \u001b[0mtransposed\u001b[0m\u001b[0;34m]\u001b[0m\u001b[0;34m\u001b[0m\u001b[0m\n\u001b[0m\u001b[1;32m     69\u001b[0m \u001b[0;34m\u001b[0m\u001b[0m\n\u001b[1;32m     70\u001b[0m     \u001b[0;32mraise\u001b[0m \u001b[0mTypeError\u001b[0m\u001b[0;34m(\u001b[0m\u001b[0;34m(\u001b[0m\u001b[0merror_msg_fmt\u001b[0m\u001b[0;34m.\u001b[0m\u001b[0mformat\u001b[0m\u001b[0;34m(\u001b[0m\u001b[0mtype\u001b[0m\u001b[0;34m(\u001b[0m\u001b[0mbatch\u001b[0m\u001b[0;34m[\u001b[0m\u001b[0;36m0\u001b[0m\u001b[0;34m]\u001b[0m\u001b[0;34m)\u001b[0m\u001b[0;34m)\u001b[0m\u001b[0;34m)\u001b[0m\u001b[0;34m)\u001b[0m\u001b[0;34m\u001b[0m\u001b[0m\n",
      "\u001b[0;32m/software/pytorch-1.1.0/software/python-3.6.2/gcc/lib/python3.6/site-packages/torch/utils/data/_utils/collate.py\u001b[0m in \u001b[0;36m<listcomp>\u001b[0;34m(.0)\u001b[0m\n\u001b[1;32m     66\u001b[0m     \u001b[0;32melif\u001b[0m \u001b[0misinstance\u001b[0m\u001b[0;34m(\u001b[0m\u001b[0mbatch\u001b[0m\u001b[0;34m[\u001b[0m\u001b[0;36m0\u001b[0m\u001b[0;34m]\u001b[0m\u001b[0;34m,\u001b[0m \u001b[0mcontainer_abcs\u001b[0m\u001b[0;34m.\u001b[0m\u001b[0mSequence\u001b[0m\u001b[0;34m)\u001b[0m\u001b[0;34m:\u001b[0m\u001b[0;34m\u001b[0m\u001b[0m\n\u001b[1;32m     67\u001b[0m         \u001b[0mtransposed\u001b[0m \u001b[0;34m=\u001b[0m \u001b[0mzip\u001b[0m\u001b[0;34m(\u001b[0m\u001b[0;34m*\u001b[0m\u001b[0mbatch\u001b[0m\u001b[0;34m)\u001b[0m\u001b[0;34m\u001b[0m\u001b[0m\n\u001b[0;32m---> 68\u001b[0;31m         \u001b[0;32mreturn\u001b[0m \u001b[0;34m[\u001b[0m\u001b[0mdefault_collate\u001b[0m\u001b[0;34m(\u001b[0m\u001b[0msamples\u001b[0m\u001b[0;34m)\u001b[0m \u001b[0;32mfor\u001b[0m \u001b[0msamples\u001b[0m \u001b[0;32min\u001b[0m \u001b[0mtransposed\u001b[0m\u001b[0;34m]\u001b[0m\u001b[0;34m\u001b[0m\u001b[0m\n\u001b[0m\u001b[1;32m     69\u001b[0m \u001b[0;34m\u001b[0m\u001b[0m\n\u001b[1;32m     70\u001b[0m     \u001b[0;32mraise\u001b[0m \u001b[0mTypeError\u001b[0m\u001b[0;34m(\u001b[0m\u001b[0;34m(\u001b[0m\u001b[0merror_msg_fmt\u001b[0m\u001b[0;34m.\u001b[0m\u001b[0mformat\u001b[0m\u001b[0;34m(\u001b[0m\u001b[0mtype\u001b[0m\u001b[0;34m(\u001b[0m\u001b[0mbatch\u001b[0m\u001b[0;34m[\u001b[0m\u001b[0;36m0\u001b[0m\u001b[0;34m]\u001b[0m\u001b[0;34m)\u001b[0m\u001b[0;34m)\u001b[0m\u001b[0;34m)\u001b[0m\u001b[0;34m)\u001b[0m\u001b[0;34m\u001b[0m\u001b[0m\n",
      "\u001b[0;32m/software/pytorch-1.1.0/software/python-3.6.2/gcc/lib/python3.6/site-packages/torch/utils/data/_utils/collate.py\u001b[0m in \u001b[0;36mdefault_collate\u001b[0;34m(batch)\u001b[0m\n\u001b[1;32m     50\u001b[0m                 \u001b[0;32mraise\u001b[0m \u001b[0mTypeError\u001b[0m\u001b[0;34m(\u001b[0m\u001b[0merror_msg_fmt\u001b[0m\u001b[0;34m.\u001b[0m\u001b[0mformat\u001b[0m\u001b[0;34m(\u001b[0m\u001b[0melem\u001b[0m\u001b[0;34m.\u001b[0m\u001b[0mdtype\u001b[0m\u001b[0;34m)\u001b[0m\u001b[0;34m)\u001b[0m\u001b[0;34m\u001b[0m\u001b[0m\n\u001b[1;32m     51\u001b[0m \u001b[0;34m\u001b[0m\u001b[0m\n\u001b[0;32m---> 52\u001b[0;31m             \u001b[0;32mreturn\u001b[0m \u001b[0mdefault_collate\u001b[0m\u001b[0;34m(\u001b[0m\u001b[0;34m[\u001b[0m\u001b[0mtorch\u001b[0m\u001b[0;34m.\u001b[0m\u001b[0mfrom_numpy\u001b[0m\u001b[0;34m(\u001b[0m\u001b[0mb\u001b[0m\u001b[0;34m)\u001b[0m \u001b[0;32mfor\u001b[0m \u001b[0mb\u001b[0m \u001b[0;32min\u001b[0m \u001b[0mbatch\u001b[0m\u001b[0;34m]\u001b[0m\u001b[0;34m)\u001b[0m\u001b[0;34m\u001b[0m\u001b[0m\n\u001b[0m\u001b[1;32m     53\u001b[0m         \u001b[0;32mif\u001b[0m \u001b[0melem\u001b[0m\u001b[0;34m.\u001b[0m\u001b[0mshape\u001b[0m \u001b[0;34m==\u001b[0m \u001b[0;34m(\u001b[0m\u001b[0;34m)\u001b[0m\u001b[0;34m:\u001b[0m  \u001b[0;31m# scalars\u001b[0m\u001b[0;34m\u001b[0m\u001b[0m\n\u001b[1;32m     54\u001b[0m             \u001b[0mpy_type\u001b[0m \u001b[0;34m=\u001b[0m \u001b[0mfloat\u001b[0m \u001b[0;32mif\u001b[0m \u001b[0melem\u001b[0m\u001b[0;34m.\u001b[0m\u001b[0mdtype\u001b[0m\u001b[0;34m.\u001b[0m\u001b[0mname\u001b[0m\u001b[0;34m.\u001b[0m\u001b[0mstartswith\u001b[0m\u001b[0;34m(\u001b[0m\u001b[0;34m'float'\u001b[0m\u001b[0;34m)\u001b[0m \u001b[0;32melse\u001b[0m \u001b[0mint\u001b[0m\u001b[0;34m\u001b[0m\u001b[0m\n",
      "\u001b[0;32m/software/pytorch-1.1.0/software/python-3.6.2/gcc/lib/python3.6/site-packages/torch/utils/data/_utils/collate.py\u001b[0m in \u001b[0;36mdefault_collate\u001b[0;34m(batch)\u001b[0m\n\u001b[1;32m     41\u001b[0m             \u001b[0mstorage\u001b[0m \u001b[0;34m=\u001b[0m \u001b[0mbatch\u001b[0m\u001b[0;34m[\u001b[0m\u001b[0;36m0\u001b[0m\u001b[0;34m]\u001b[0m\u001b[0;34m.\u001b[0m\u001b[0mstorage\u001b[0m\u001b[0;34m(\u001b[0m\u001b[0;34m)\u001b[0m\u001b[0;34m.\u001b[0m\u001b[0m_new_shared\u001b[0m\u001b[0;34m(\u001b[0m\u001b[0mnumel\u001b[0m\u001b[0;34m)\u001b[0m\u001b[0;34m\u001b[0m\u001b[0m\n\u001b[1;32m     42\u001b[0m             \u001b[0mout\u001b[0m \u001b[0;34m=\u001b[0m \u001b[0mbatch\u001b[0m\u001b[0;34m[\u001b[0m\u001b[0;36m0\u001b[0m\u001b[0;34m]\u001b[0m\u001b[0;34m.\u001b[0m\u001b[0mnew\u001b[0m\u001b[0;34m(\u001b[0m\u001b[0mstorage\u001b[0m\u001b[0;34m)\u001b[0m\u001b[0;34m\u001b[0m\u001b[0m\n\u001b[0;32m---> 43\u001b[0;31m         \u001b[0;32mreturn\u001b[0m \u001b[0mtorch\u001b[0m\u001b[0;34m.\u001b[0m\u001b[0mstack\u001b[0m\u001b[0;34m(\u001b[0m\u001b[0mbatch\u001b[0m\u001b[0;34m,\u001b[0m \u001b[0;36m0\u001b[0m\u001b[0;34m,\u001b[0m \u001b[0mout\u001b[0m\u001b[0;34m=\u001b[0m\u001b[0mout\u001b[0m\u001b[0;34m)\u001b[0m\u001b[0;34m\u001b[0m\u001b[0m\n\u001b[0m\u001b[1;32m     44\u001b[0m     \u001b[0;32melif\u001b[0m \u001b[0melem_type\u001b[0m\u001b[0;34m.\u001b[0m\u001b[0m__module__\u001b[0m \u001b[0;34m==\u001b[0m \u001b[0;34m'numpy'\u001b[0m \u001b[0;32mand\u001b[0m \u001b[0melem_type\u001b[0m\u001b[0;34m.\u001b[0m\u001b[0m__name__\u001b[0m \u001b[0;34m!=\u001b[0m \u001b[0;34m'str_'\u001b[0m\u001b[0;31m \u001b[0m\u001b[0;31m\\\u001b[0m\u001b[0;34m\u001b[0m\u001b[0m\n\u001b[1;32m     45\u001b[0m             \u001b[0;32mand\u001b[0m \u001b[0melem_type\u001b[0m\u001b[0;34m.\u001b[0m\u001b[0m__name__\u001b[0m \u001b[0;34m!=\u001b[0m \u001b[0;34m'string_'\u001b[0m\u001b[0;34m:\u001b[0m\u001b[0;34m\u001b[0m\u001b[0m\n",
      "\u001b[0;31mRuntimeError\u001b[0m: invalid argument 0: Sizes of tensors must match except in dimension 0. Got 10000 and 191 in dimension 1 at /pytorch/aten/src/TH/generic/THTensor.cpp:711"
     ]
    }
   ],
   "source": [
    "loader = fast_loader(dataset, batch_size=10_000)\n",
    "it = iter(loader)\n",
    "%time data = next(it)"
   ]
  },
  {
   "cell_type": "code",
   "execution_count": 61,
   "id": "8f77b16b-6afe-4572-8a56-41ebd33920d8",
   "metadata": {},
   "outputs": [
    {
     "ename": "NameError",
     "evalue": "name 'data' is not defined",
     "output_type": "error",
     "traceback": [
      "\u001b[0;31m---------------------------------------------------------------------------\u001b[0m",
      "\u001b[0;31mNameError\u001b[0m                                 Traceback (most recent call last)",
      "\u001b[0;32m<ipython-input-61-047ed65ff157>\u001b[0m in \u001b[0;36m<module>\u001b[0;34m\u001b[0m\n\u001b[0;32m----> 1\u001b[0;31m \u001b[0mdata\u001b[0m\u001b[0;34m.\u001b[0m\u001b[0mshape\u001b[0m\u001b[0;34m\u001b[0m\u001b[0m\n\u001b[0m",
      "\u001b[0;31mNameError\u001b[0m: name 'data' is not defined"
     ]
    }
   ],
   "source": [
    "data.shape"
   ]
  },
  {
   "cell_type": "code",
   "execution_count": null,
   "id": "4724045e-58de-42a5-8f40-12a5674957d2",
   "metadata": {},
   "outputs": [],
   "source": [
    "%time next(it)"
   ]
  },
  {
   "cell_type": "code",
   "execution_count": null,
   "id": "fee61ce0-7251-4d80-a3ae-270e7760007d",
   "metadata": {},
   "outputs": [],
   "source": []
  },
  {
   "cell_type": "code",
   "execution_count": 16,
   "id": "b0f95454-93d3-4c5d-8927-4cae5b5c711c",
   "metadata": {},
   "outputs": [
    {
     "data": {
      "text/plain": [
       "(3930, 4)"
      ]
     },
     "execution_count": 16,
     "metadata": {},
     "output_type": "execute_result"
    }
   ],
   "source": [
    "np.argmin(dists[0]), np.argmax(dists[0])"
   ]
  },
  {
   "cell_type": "code",
   "execution_count": 92,
   "id": "e4ed3c69-48ff-4634-adb7-97e78ef10aa7",
   "metadata": {},
   "outputs": [
    {
     "data": {
      "text/plain": [
       "6259"
      ]
     },
     "execution_count": 92,
     "metadata": {},
     "output_type": "execute_result"
    }
   ],
   "source": [
    "np.argmax(dists[0])"
   ]
  },
  {
   "cell_type": "code",
   "execution_count": 54,
   "id": "16876b70-2196-4288-a8a7-ae3875aa5f6c",
   "metadata": {},
   "outputs": [
    {
     "data": {
      "text/plain": [
       "(9933, 768)"
      ]
     },
     "execution_count": 54,
     "metadata": {},
     "output_type": "execute_result"
    }
   ],
   "source": [
    "loaded_data.shape"
   ]
  },
  {
   "cell_type": "code",
   "execution_count": 63,
   "id": "1bea7ea6-0115-4ef1-9ea9-7ed9ddb36cfc",
   "metadata": {},
   "outputs": [
    {
     "data": {
      "text/plain": [
       "array([    745,    2569,    5565, ..., 9997836, 9999556, 9999874])"
      ]
     },
     "execution_count": 63,
     "metadata": {},
     "output_type": "execute_result"
    }
   ],
   "source": [
    "random_10k"
   ]
  },
  {
   "cell_type": "code",
   "execution_count": 64,
   "id": "fee0f2c0-8d14-44ce-b95e-135491a5a84c",
   "metadata": {},
   "outputs": [
    {
     "data": {
      "text/plain": [
       "6693269"
      ]
     },
     "execution_count": 64,
     "metadata": {},
     "output_type": "execute_result"
    }
   ],
   "source": [
    "pivot_index"
   ]
  },
  {
   "cell_type": "code",
   "execution_count": 72,
   "id": "e34b7118-a0eb-47aa-9e09-eed2dab44e43",
   "metadata": {},
   "outputs": [
    {
     "data": {
      "text/plain": [
       "array([[2.22044605e-16]])"
      ]
     },
     "execution_count": 72,
     "metadata": {},
     "output_type": "execute_result"
    }
   ],
   "source": [
    "pairwise_cosine([pivot], [loaded_data[0]])"
   ]
  },
  {
   "cell_type": "code",
   "execution_count": 74,
   "id": "5f729ca3-06c2-4f45-bb36-8c17d7b908f2",
   "metadata": {},
   "outputs": [
    {
     "data": {
      "text/plain": [
       "array([[ 0.03105 ,  0.04623 ,  0.006065, ...,  0.00693 ,  0.006313,\n",
       "         0.0137  ],\n",
       "       [ 0.0464  ,  0.02809 ,  0.01153 , ..., -0.02838 ,  0.02496 ,\n",
       "        -0.012794]], dtype=float16)"
      ]
     },
     "execution_count": 74,
     "metadata": {},
     "output_type": "execute_result"
    }
   ],
   "source": [
    "loaded_data[:2, :]"
   ]
  },
  {
   "cell_type": "code",
   "execution_count": 71,
   "id": "421da0f0-61c9-45f4-997d-20825bfbe614",
   "metadata": {},
   "outputs": [
    {
     "data": {
      "text/plain": [
       "array([[-4.44089210e-16,  5.81326135e-01]])"
      ]
     },
     "execution_count": 71,
     "metadata": {},
     "output_type": "execute_result"
    }
   ],
   "source": [
    "pairwise_cosine([pivot], loaded_data[:2, :])"
   ]
  },
  {
   "cell_type": "code",
   "execution_count": 70,
   "id": "466e850b-713e-45d4-a515-a74f1df112fa",
   "metadata": {},
   "outputs": [
    {
     "data": {
      "text/plain": [
       "array([[-4.44089210e-16,  5.81326135e-01,  4.57118379e-01]])"
      ]
     },
     "execution_count": 70,
     "metadata": {},
     "output_type": "execute_result"
    }
   ],
   "source": [
    "pairwise_cosine([pivot], loaded_data[:3, :])"
   ]
  },
  {
   "cell_type": "code",
   "execution_count": null,
   "id": "acd824d2-6383-4563-9c74-baeeb9a610ce",
   "metadata": {},
   "outputs": [],
   "source": [
    "dists = pairwise_cosine([pivot], loaded_data)"
   ]
  },
  {
   "cell_type": "code",
   "execution_count": 62,
   "id": "48c0fb3f-bd95-4199-9fd8-7270c1a5a474",
   "metadata": {},
   "outputs": [
    {
     "data": {
      "text/plain": [
       "array([-4.44089210e-16,  5.81326135e-01,  4.57118379e-01, ...,\n",
       "        5.09698219e-01,  6.22019395e-01,  5.73977351e-01])"
      ]
     },
     "execution_count": 62,
     "metadata": {},
     "output_type": "execute_result"
    }
   ],
   "source": [
    "dists[0]"
   ]
  },
  {
   "cell_type": "code",
   "execution_count": 78,
   "id": "e4c37e54-f16f-40fb-b68d-132655c8a9ba",
   "metadata": {},
   "outputs": [
    {
     "data": {
      "text/plain": [
       "0.9990791981225113"
      ]
     },
     "execution_count": 78,
     "metadata": {},
     "output_type": "execute_result"
    }
   ],
   "source": [
    "dists[0][np.argmax(dists[0])]"
   ]
  },
  {
   "cell_type": "code",
   "execution_count": 79,
   "id": "cee5e24d-c77e-458b-b6d3-c761fe7d522c",
   "metadata": {},
   "outputs": [
    {
     "data": {
      "text/plain": [
       "745"
      ]
     },
     "execution_count": 79,
     "metadata": {},
     "output_type": "execute_result"
    }
   ],
   "source": [
    "random_10k[0]"
   ]
  },
  {
   "cell_type": "code",
   "execution_count": 80,
   "id": "28eba51b-5a64-48f1-8f59-f66a19fb6b72",
   "metadata": {},
   "outputs": [
    {
     "data": {
      "text/plain": [
       "6693269"
      ]
     },
     "execution_count": 80,
     "metadata": {},
     "output_type": "execute_result"
    }
   ],
   "source": [
    "pivot_index"
   ]
  },
  {
   "cell_type": "code",
   "execution_count": 82,
   "id": "6586dee2-2fa4-4177-835a-ecb58785de29",
   "metadata": {},
   "outputs": [],
   "source": [
    "r = f['emb'][[random_10k[0], pivot_index], :]"
   ]
  },
  {
   "cell_type": "code",
   "execution_count": 84,
   "id": "eced07d3-595f-4735-bb86-f203ff0cc42a",
   "metadata": {},
   "outputs": [
    {
     "data": {
      "text/plain": [
       "array([[ 0.03105 ,  0.04623 ,  0.006065, ...,  0.00693 ,  0.006313,\n",
       "         0.0137  ],\n",
       "       [ 0.02454 ,  0.0679  ,  0.01191 , ..., -0.01563 , -0.01168 ,\n",
       "        -0.0253  ]], dtype=float16)"
      ]
     },
     "execution_count": 84,
     "metadata": {},
     "output_type": "execute_result"
    }
   ],
   "source": [
    "r"
   ]
  },
  {
   "cell_type": "code",
   "execution_count": 83,
   "id": "3444a63b-5e52-4ee0-8929-5d2d197934ac",
   "metadata": {},
   "outputs": [
    {
     "data": {
      "text/plain": [
       "array([[0.38861764]])"
      ]
     },
     "execution_count": 83,
     "metadata": {},
     "output_type": "execute_result"
    }
   ],
   "source": [
    "pairwise_cosine([r[0]], [r[1]])"
   ]
  },
  {
   "cell_type": "code",
   "execution_count": null,
   "id": "33e3248c-6a09-48d6-ae0e-696dc8be6841",
   "metadata": {},
   "outputs": [],
   "source": [
    "for chunk in data_iter:\n",
    "    print(chunk.shape)\n",
    "    break"
   ]
  },
  {
   "cell_type": "code",
   "execution_count": null,
   "id": "94582193-4297-4e64-add1-19db040f3e0c",
   "metadata": {},
   "outputs": [],
   "source": []
  },
  {
   "cell_type": "code",
   "execution_count": null,
   "id": "e39a5933-9024-48c2-9ab0-d9f2b170d0e9",
   "metadata": {},
   "outputs": [],
   "source": [
    "f"
   ]
  },
  {
   "cell_type": "code",
   "execution_count": null,
   "id": "a0730765-39bf-4567-a0f4-131e893dd28f",
   "metadata": {},
   "outputs": [],
   "source": [
    "import pandas as pd\n",
    "%time data = pd.DataFrame(list(f['emb']))"
   ]
  },
  {
   "cell_type": "code",
   "execution_count": 1,
   "id": "f36dee25-3199-4679-a332-8886806d7c78",
   "metadata": {},
   "outputs": [
    {
     "ename": "NameError",
     "evalue": "name 'data' is not defined",
     "output_type": "error",
     "traceback": [
      "\u001b[0;31m---------------------------------------------------------------------------\u001b[0m",
      "\u001b[0;31mNameError\u001b[0m                                 Traceback (most recent call last)",
      "\u001b[0;32m<ipython-input-1-6a0998baa379>\u001b[0m in \u001b[0;36m<module>\u001b[0;34m\u001b[0m\n\u001b[0;32m----> 1\u001b[0;31m \u001b[0mdata\u001b[0m\u001b[0;34m.\u001b[0m\u001b[0mhead\u001b[0m\u001b[0;34m(\u001b[0m\u001b[0;36m2\u001b[0m\u001b[0;34m)\u001b[0m\u001b[0;34m\u001b[0m\u001b[0m\n\u001b[0m",
      "\u001b[0;31mNameError\u001b[0m: name 'data' is not defined"
     ]
    }
   ],
   "source": [
    "data.head(2)"
   ]
  },
  {
   "cell_type": "code",
   "execution_count": 5,
   "id": "e08a1af7-11d8-48d9-99ef-d70a98054020",
   "metadata": {},
   "outputs": [],
   "source": [
    "import numpy as np"
   ]
  },
  {
   "cell_type": "code",
   "execution_count": null,
   "id": "828eeab5-fea4-4746-b17d-64854b53f14c",
   "metadata": {},
   "outputs": [],
   "source": [
    "q_path = 'data/clip768v2/10M/query.h5'\n",
    "f = h5py.File(q_path, 'r')\n",
    "queries = np.array(f['emb'])"
   ]
  },
  {
   "cell_type": "code",
   "execution_count": null,
   "id": "dd5aa066-9b8b-47d0-9777-13192b402949",
   "metadata": {},
   "outputs": [],
   "source": [
    "gt_path = '../data/groundtruth-10M.h5'\n",
    "f = h5py.File(gt_path, 'r')\n",
    "gt_knns = pd.DataFrame(list(f['knns']))"
   ]
  },
  {
   "cell_type": "code",
   "execution_count": null,
   "id": "8ef4f378-28ce-482e-8e23-970859f7bfdf",
   "metadata": {},
   "outputs": [],
   "source": []
  },
  {
   "cell_type": "markdown",
   "id": "9dea8f51-2cb0-4743-87db-3276bf9535ca",
   "metadata": {},
   "source": [
    "## 1. baseline: brute-force approach\n",
    "- 0.5-0.6s per query"
   ]
  },
  {
   "cell_type": "code",
   "execution_count": 17,
   "id": "6c46114e-3ce4-4d7f-be28-48309061c7e0",
   "metadata": {},
   "outputs": [],
   "source": [
    "from tqdm import tqdm"
   ]
  },
  {
   "cell_type": "code",
   "execution_count": 24,
   "id": "a34e45e0-b438-407c-8653-c0be751ebae7",
   "metadata": {},
   "outputs": [
    {
     "data": {
      "text/plain": [
       "array([[ 0.00142498,  0.02577562, -0.02312023, ..., -0.00711157,\n",
       "        -0.00148698,  0.01573396],\n",
       "       [ 0.0099068 ,  0.06058476, -0.00822135, ...,  0.0515245 ,\n",
       "         0.03816291, -0.02117111],\n",
       "       [ 0.02220821,  0.01497834, -0.00682948, ..., -0.02011856,\n",
       "        -0.01174472, -0.01334628],\n",
       "       ...,\n",
       "       [ 0.03751928,  0.04933374,  0.03388642, ...,  0.01226475,\n",
       "         0.01598157,  0.03229894],\n",
       "       [ 0.00230957,  0.02555594, -0.02645612, ...,  0.00753328,\n",
       "        -0.03265058, -0.02793607],\n",
       "       [-0.00378157,  0.01177591,  0.01089825, ...,  0.05198799,\n",
       "        -0.00759748, -0.01337096]], dtype=float32)"
      ]
     },
     "execution_count": 24,
     "metadata": {},
     "output_type": "execute_result"
    }
   ],
   "source": [
    "queries"
   ]
  },
  {
   "cell_type": "code",
   "execution_count": 32,
   "id": "c00b8e82-0d1f-4418-98b0-8bb551bb26be",
   "metadata": {},
   "outputs": [
    {
     "data": {
      "text/plain": [
       "(10000, 100000)"
      ]
     },
     "execution_count": 32,
     "metadata": {},
     "output_type": "execute_result"
    }
   ],
   "source": [
    "anns.shape"
   ]
  },
  {
   "cell_type": "code",
   "execution_count": 39,
   "id": "1e36bfe3-2986-4358-971a-972d1cdfadf8",
   "metadata": {},
   "outputs": [
    {
     "data": {
      "text/plain": [
       "(10, 100000)"
      ]
     },
     "execution_count": 39,
     "metadata": {},
     "output_type": "execute_result"
    }
   ],
   "source": [
    "nns = anns.argsort()[:k]\n",
    "nns.shape"
   ]
  },
  {
   "cell_type": "code",
   "execution_count": null,
   "id": "1abb1d05-1e5d-48e5-8fe1-4cd9db2f8a00",
   "metadata": {},
   "outputs": [],
   "source": [
    "nns = nns + 1"
   ]
  },
  {
   "cell_type": "code",
   "execution_count": null,
   "id": "d5e4e295-6912-4f37-82d2-5b38ca0500c1",
   "metadata": {},
   "outputs": [],
   "source": [
    "nns"
   ]
  },
  {
   "cell_type": "code",
   "execution_count": 42,
   "id": "1129c94d-4d65-4a69-a401-49d8159b2c52",
   "metadata": {},
   "outputs": [
    {
     "name": "stdout",
     "output_type": "stream",
     "text": [
      "CPU times: user 1min 15s, sys: 8.32 s, total: 1min 23s\n",
      "Wall time: 1min 27s\n"
     ]
    }
   ],
   "source": [
    "%time dists = np.sort(anns)[:k]"
   ]
  },
  {
   "cell_type": "code",
   "execution_count": 43,
   "id": "831cb805-306e-43a6-a8da-0e31ba0f6a41",
   "metadata": {},
   "outputs": [
    {
     "data": {
      "text/plain": [
       "(10, 100000)"
      ]
     },
     "execution_count": 43,
     "metadata": {},
     "output_type": "execute_result"
    }
   ],
   "source": [
    "dists.shape"
   ]
  },
  {
   "cell_type": "code",
   "execution_count": 44,
   "id": "f35d563c-ab0d-409a-a3a7-dba04522fd7b",
   "metadata": {},
   "outputs": [
    {
     "data": {
      "text/plain": [
       "array([0.27284035, 0.30615299, 0.31319278, ..., 1.07019817, 1.09353056,\n",
       "       1.11341086])"
      ]
     },
     "execution_count": 44,
     "metadata": {},
     "output_type": "execute_result"
    }
   ],
   "source": [
    "dists[0]"
   ]
  },
  {
   "cell_type": "code",
   "execution_count": 40,
   "id": "02edcd28-ea48-4a09-bd91-6daf677b612f",
   "metadata": {},
   "outputs": [
    {
     "ename": "MemoryError",
     "evalue": "Unable to allocate 745. GiB for an array with shape (10, 100000, 100000) and data type float64",
     "output_type": "error",
     "traceback": [
      "\u001b[0;31m---------------------------------------------------------------------------\u001b[0m",
      "\u001b[0;31mMemoryError\u001b[0m                               Traceback (most recent call last)",
      "\u001b[0;32m<ipython-input-40-ec152abe0715>\u001b[0m in \u001b[0;36m<module>\u001b[0;34m\u001b[0m\n\u001b[0;32m----> 1\u001b[0;31m \u001b[0mdists\u001b[0m \u001b[0;34m=\u001b[0m \u001b[0manns\u001b[0m\u001b[0;34m[\u001b[0m\u001b[0mnns\u001b[0m\u001b[0;34m]\u001b[0m\u001b[0;34m\u001b[0m\u001b[0m\n\u001b[0m",
      "\u001b[0;31mMemoryError\u001b[0m: Unable to allocate 745. GiB for an array with shape (10, 100000, 100000) and data type float64"
     ]
    }
   ],
   "source": [
    "dists = anns[nns]"
   ]
  },
  {
   "cell_type": "code",
   "execution_count": null,
   "id": "a41c5820-8a22-4d3e-ae7c-668896ab2dc9",
   "metadata": {},
   "outputs": [],
   "source": []
  },
  {
   "cell_type": "code",
   "execution_count": 33,
   "id": "124ea276-5dc7-44e1-8517-70b5eddd3be8",
   "metadata": {},
   "outputs": [],
   "source": [
    "k = 10"
   ]
  },
  {
   "cell_type": "code",
   "execution_count": 36,
   "id": "a412504a-8f16-4990-9ea1-5c3d5384a40b",
   "metadata": {},
   "outputs": [
    {
     "data": {
      "text/plain": [
       "array([0.27284035, 0.30615299, 0.31319278, ..., 1.07019817, 1.09353056,\n",
       "       1.11341086])"
      ]
     },
     "execution_count": 36,
     "metadata": {},
     "output_type": "execute_result"
    }
   ],
   "source": [
    "anns[0]"
   ]
  },
  {
   "cell_type": "code",
   "execution_count": 35,
   "id": "7424fab1-9368-45eb-a29d-6d529c46e42f",
   "metadata": {},
   "outputs": [
    {
     "ename": "TypeError",
     "evalue": "'NoneType' object is not subscriptable",
     "output_type": "error",
     "traceback": [
      "\u001b[0;31m---------------------------------------------------------------------------\u001b[0m",
      "\u001b[0;31mTypeError\u001b[0m                                 Traceback (most recent call last)",
      "\u001b[0;32m<ipython-input-35-35ded6070940>\u001b[0m in \u001b[0;36m<module>\u001b[0;34m\u001b[0m\n\u001b[0;32m----> 1\u001b[0;31m \u001b[0mdists\u001b[0m \u001b[0;34m=\u001b[0m \u001b[0manns\u001b[0m\u001b[0;34m.\u001b[0m\u001b[0msort\u001b[0m\u001b[0;34m(\u001b[0m\u001b[0;34m)\u001b[0m\u001b[0;34m[\u001b[0m\u001b[0;34m:\u001b[0m\u001b[0mk\u001b[0m\u001b[0;34m]\u001b[0m\u001b[0;34m\u001b[0m\u001b[0m\n\u001b[0m",
      "\u001b[0;31mTypeError\u001b[0m: 'NoneType' object is not subscriptable"
     ]
    }
   ],
   "source": [
    "dists = anns.sort()[:k]"
   ]
  },
  {
   "cell_type": "code",
   "execution_count": null,
   "id": "ff0fb6a0-6e57-464b-9680-ea90e7010db7",
   "metadata": {},
   "outputs": [],
   "source": [
    "dists.shape"
   ]
  },
  {
   "cell_type": "code",
   "execution_count": null,
   "id": "ec2427e8-070a-4cf8-b51c-28a0a9b0c68d",
   "metadata": {},
   "outputs": [],
   "source": [
    "anns.shape"
   ]
  },
  {
   "cell_type": "code",
   "execution_count": null,
   "id": "cd066f66-c54d-4320-9554-b7d612b468e9",
   "metadata": {},
   "outputs": [],
   "source": [
    "dists = anns.sort()[:k]"
   ]
  },
  {
   "cell_type": "code",
   "execution_count": 30,
   "id": "f7921c55-f754-45e3-b3bf-bff0930ab3b5",
   "metadata": {},
   "outputs": [
    {
     "data": {
      "text/plain": [
       "79171"
      ]
     },
     "execution_count": 30,
     "metadata": {},
     "output_type": "execute_result"
    }
   ],
   "source": [
    "anns[0]"
   ]
  },
  {
   "cell_type": "code",
   "execution_count": 15,
   "id": "4e56fa2f-0d23-4273-a9aa-33dd53938767",
   "metadata": {},
   "outputs": [
    {
     "name": "stdout",
     "output_type": "stream",
     "text": [
      "CPU times: user 349 ms, sys: 683 ms, total: 1.03 s\n",
      "Wall time: 1.08 s\n"
     ]
    }
   ],
   "source": [
    "%%time\n",
    "\n",
    "recalls = []\n",
    "\n",
    "def evaluate_recall(anns, knns, k=10):\n",
    "    n_hits = knns.intersection(anns).shape[0]\n",
    "    return n_hits / k\n",
    "\n",
    "def search_bruteforce(query_idx, k=10):\n",
    "    query = queries[query_idx]\n",
    "    anns = pairwise_cosine(queries, data)[0].argsort()[:k]\n",
    "    return anns\n",
    "\n",
    "anns = search_bruteforce(0)"
   ]
  },
  {
   "cell_type": "code",
   "execution_count": 16,
   "id": "53a9a35c-26ab-4d1d-a9e1-d3d0d630d041",
   "metadata": {},
   "outputs": [
    {
     "data": {
      "text/plain": [
       "array([79171, 15734, 22336,   230, 74172, 41078, 38158, 71848, 69014,\n",
       "       92810])"
      ]
     },
     "execution_count": 16,
     "metadata": {},
     "output_type": "execute_result"
    }
   ],
   "source": [
    "anns"
   ]
  },
  {
   "cell_type": "code",
   "execution_count": 17,
   "id": "f8a41745-69f7-4655-a4d3-c7d7a6d87b8e",
   "metadata": {},
   "outputs": [
    {
     "data": {
      "text/html": [
       "<div>\n",
       "<style scoped>\n",
       "    .dataframe tbody tr th:only-of-type {\n",
       "        vertical-align: middle;\n",
       "    }\n",
       "\n",
       "    .dataframe tbody tr th {\n",
       "        vertical-align: top;\n",
       "    }\n",
       "\n",
       "    .dataframe thead th {\n",
       "        text-align: right;\n",
       "    }\n",
       "</style>\n",
       "<table border=\"1\" class=\"dataframe\">\n",
       "  <thead>\n",
       "    <tr style=\"text-align: right;\">\n",
       "      <th></th>\n",
       "      <th>0</th>\n",
       "      <th>1</th>\n",
       "      <th>2</th>\n",
       "      <th>3</th>\n",
       "      <th>4</th>\n",
       "      <th>5</th>\n",
       "      <th>6</th>\n",
       "      <th>7</th>\n",
       "      <th>8</th>\n",
       "      <th>9</th>\n",
       "      <th>...</th>\n",
       "      <th>90</th>\n",
       "      <th>91</th>\n",
       "      <th>92</th>\n",
       "      <th>93</th>\n",
       "      <th>94</th>\n",
       "      <th>95</th>\n",
       "      <th>96</th>\n",
       "      <th>97</th>\n",
       "      <th>98</th>\n",
       "      <th>99</th>\n",
       "    </tr>\n",
       "  </thead>\n",
       "  <tbody>\n",
       "    <tr>\n",
       "      <th>0</th>\n",
       "      <td>79172</td>\n",
       "      <td>15735</td>\n",
       "      <td>22337</td>\n",
       "      <td>231</td>\n",
       "      <td>74173</td>\n",
       "      <td>41079</td>\n",
       "      <td>38159</td>\n",
       "      <td>71849</td>\n",
       "      <td>69015</td>\n",
       "      <td>92811</td>\n",
       "      <td>...</td>\n",
       "      <td>45784</td>\n",
       "      <td>5492</td>\n",
       "      <td>35205</td>\n",
       "      <td>21690</td>\n",
       "      <td>16711</td>\n",
       "      <td>95028</td>\n",
       "      <td>19961</td>\n",
       "      <td>1708</td>\n",
       "      <td>68450</td>\n",
       "      <td>20333</td>\n",
       "    </tr>\n",
       "    <tr>\n",
       "      <th>1</th>\n",
       "      <td>14347</td>\n",
       "      <td>82848</td>\n",
       "      <td>79302</td>\n",
       "      <td>85923</td>\n",
       "      <td>6016</td>\n",
       "      <td>67067</td>\n",
       "      <td>29567</td>\n",
       "      <td>54566</td>\n",
       "      <td>34591</td>\n",
       "      <td>11620</td>\n",
       "      <td>...</td>\n",
       "      <td>79591</td>\n",
       "      <td>11637</td>\n",
       "      <td>80269</td>\n",
       "      <td>71577</td>\n",
       "      <td>45876</td>\n",
       "      <td>3581</td>\n",
       "      <td>48943</td>\n",
       "      <td>78719</td>\n",
       "      <td>78261</td>\n",
       "      <td>24809</td>\n",
       "    </tr>\n",
       "    <tr>\n",
       "      <th>2</th>\n",
       "      <td>51954</td>\n",
       "      <td>87690</td>\n",
       "      <td>3444</td>\n",
       "      <td>5491</td>\n",
       "      <td>65271</td>\n",
       "      <td>92521</td>\n",
       "      <td>58848</td>\n",
       "      <td>72008</td>\n",
       "      <td>63515</td>\n",
       "      <td>68040</td>\n",
       "      <td>...</td>\n",
       "      <td>7561</td>\n",
       "      <td>36433</td>\n",
       "      <td>88320</td>\n",
       "      <td>26411</td>\n",
       "      <td>63747</td>\n",
       "      <td>9646</td>\n",
       "      <td>19546</td>\n",
       "      <td>5171</td>\n",
       "      <td>97307</td>\n",
       "      <td>54264</td>\n",
       "    </tr>\n",
       "    <tr>\n",
       "      <th>3</th>\n",
       "      <td>92326</td>\n",
       "      <td>41249</td>\n",
       "      <td>719</td>\n",
       "      <td>70712</td>\n",
       "      <td>62434</td>\n",
       "      <td>90089</td>\n",
       "      <td>44995</td>\n",
       "      <td>12118</td>\n",
       "      <td>86491</td>\n",
       "      <td>25939</td>\n",
       "      <td>...</td>\n",
       "      <td>60939</td>\n",
       "      <td>73206</td>\n",
       "      <td>82366</td>\n",
       "      <td>97741</td>\n",
       "      <td>59386</td>\n",
       "      <td>56940</td>\n",
       "      <td>57245</td>\n",
       "      <td>19146</td>\n",
       "      <td>81212</td>\n",
       "      <td>26278</td>\n",
       "    </tr>\n",
       "    <tr>\n",
       "      <th>4</th>\n",
       "      <td>14561</td>\n",
       "      <td>69890</td>\n",
       "      <td>23198</td>\n",
       "      <td>5241</td>\n",
       "      <td>68802</td>\n",
       "      <td>92516</td>\n",
       "      <td>87332</td>\n",
       "      <td>45813</td>\n",
       "      <td>98006</td>\n",
       "      <td>98421</td>\n",
       "      <td>...</td>\n",
       "      <td>98075</td>\n",
       "      <td>99085</td>\n",
       "      <td>75659</td>\n",
       "      <td>20061</td>\n",
       "      <td>94633</td>\n",
       "      <td>84659</td>\n",
       "      <td>62323</td>\n",
       "      <td>37606</td>\n",
       "      <td>18919</td>\n",
       "      <td>79713</td>\n",
       "    </tr>\n",
       "    <tr>\n",
       "      <th>...</th>\n",
       "      <td>...</td>\n",
       "      <td>...</td>\n",
       "      <td>...</td>\n",
       "      <td>...</td>\n",
       "      <td>...</td>\n",
       "      <td>...</td>\n",
       "      <td>...</td>\n",
       "      <td>...</td>\n",
       "      <td>...</td>\n",
       "      <td>...</td>\n",
       "      <td>...</td>\n",
       "      <td>...</td>\n",
       "      <td>...</td>\n",
       "      <td>...</td>\n",
       "      <td>...</td>\n",
       "      <td>...</td>\n",
       "      <td>...</td>\n",
       "      <td>...</td>\n",
       "      <td>...</td>\n",
       "      <td>...</td>\n",
       "      <td>...</td>\n",
       "    </tr>\n",
       "    <tr>\n",
       "      <th>9995</th>\n",
       "      <td>84803</td>\n",
       "      <td>99470</td>\n",
       "      <td>25522</td>\n",
       "      <td>18080</td>\n",
       "      <td>82624</td>\n",
       "      <td>77158</td>\n",
       "      <td>74610</td>\n",
       "      <td>87484</td>\n",
       "      <td>4949</td>\n",
       "      <td>91291</td>\n",
       "      <td>...</td>\n",
       "      <td>85213</td>\n",
       "      <td>29377</td>\n",
       "      <td>67528</td>\n",
       "      <td>95900</td>\n",
       "      <td>46351</td>\n",
       "      <td>32017</td>\n",
       "      <td>70546</td>\n",
       "      <td>76284</td>\n",
       "      <td>19790</td>\n",
       "      <td>74703</td>\n",
       "    </tr>\n",
       "    <tr>\n",
       "      <th>9996</th>\n",
       "      <td>98249</td>\n",
       "      <td>64946</td>\n",
       "      <td>7681</td>\n",
       "      <td>21787</td>\n",
       "      <td>20204</td>\n",
       "      <td>35606</td>\n",
       "      <td>3623</td>\n",
       "      <td>37419</td>\n",
       "      <td>762</td>\n",
       "      <td>93695</td>\n",
       "      <td>...</td>\n",
       "      <td>68525</td>\n",
       "      <td>11361</td>\n",
       "      <td>72298</td>\n",
       "      <td>17904</td>\n",
       "      <td>86048</td>\n",
       "      <td>74668</td>\n",
       "      <td>17754</td>\n",
       "      <td>41172</td>\n",
       "      <td>79999</td>\n",
       "      <td>31679</td>\n",
       "    </tr>\n",
       "    <tr>\n",
       "      <th>9997</th>\n",
       "      <td>39741</td>\n",
       "      <td>13601</td>\n",
       "      <td>2327</td>\n",
       "      <td>68421</td>\n",
       "      <td>15206</td>\n",
       "      <td>87376</td>\n",
       "      <td>14895</td>\n",
       "      <td>40424</td>\n",
       "      <td>77120</td>\n",
       "      <td>63448</td>\n",
       "      <td>...</td>\n",
       "      <td>96120</td>\n",
       "      <td>71419</td>\n",
       "      <td>2195</td>\n",
       "      <td>55978</td>\n",
       "      <td>21082</td>\n",
       "      <td>4504</td>\n",
       "      <td>14819</td>\n",
       "      <td>25930</td>\n",
       "      <td>52271</td>\n",
       "      <td>18391</td>\n",
       "    </tr>\n",
       "    <tr>\n",
       "      <th>9998</th>\n",
       "      <td>14313</td>\n",
       "      <td>98071</td>\n",
       "      <td>34615</td>\n",
       "      <td>94650</td>\n",
       "      <td>84991</td>\n",
       "      <td>10239</td>\n",
       "      <td>61708</td>\n",
       "      <td>72572</td>\n",
       "      <td>53644</td>\n",
       "      <td>60539</td>\n",
       "      <td>...</td>\n",
       "      <td>62230</td>\n",
       "      <td>35776</td>\n",
       "      <td>15108</td>\n",
       "      <td>85067</td>\n",
       "      <td>93696</td>\n",
       "      <td>34297</td>\n",
       "      <td>61442</td>\n",
       "      <td>70148</td>\n",
       "      <td>12706</td>\n",
       "      <td>96325</td>\n",
       "    </tr>\n",
       "    <tr>\n",
       "      <th>9999</th>\n",
       "      <td>24525</td>\n",
       "      <td>3924</td>\n",
       "      <td>25172</td>\n",
       "      <td>54312</td>\n",
       "      <td>84036</td>\n",
       "      <td>5361</td>\n",
       "      <td>46778</td>\n",
       "      <td>2453</td>\n",
       "      <td>17209</td>\n",
       "      <td>8939</td>\n",
       "      <td>...</td>\n",
       "      <td>85454</td>\n",
       "      <td>58828</td>\n",
       "      <td>45038</td>\n",
       "      <td>2860</td>\n",
       "      <td>27249</td>\n",
       "      <td>2208</td>\n",
       "      <td>4327</td>\n",
       "      <td>91355</td>\n",
       "      <td>12098</td>\n",
       "      <td>87446</td>\n",
       "    </tr>\n",
       "  </tbody>\n",
       "</table>\n",
       "<p>10000 rows × 100 columns</p>\n",
       "</div>"
      ],
      "text/plain": [
       "         0      1      2      3      4      5      6      7      8      9   \\\n",
       "0     79172  15735  22337    231  74173  41079  38159  71849  69015  92811   \n",
       "1     14347  82848  79302  85923   6016  67067  29567  54566  34591  11620   \n",
       "2     51954  87690   3444   5491  65271  92521  58848  72008  63515  68040   \n",
       "3     92326  41249    719  70712  62434  90089  44995  12118  86491  25939   \n",
       "4     14561  69890  23198   5241  68802  92516  87332  45813  98006  98421   \n",
       "...     ...    ...    ...    ...    ...    ...    ...    ...    ...    ...   \n",
       "9995  84803  99470  25522  18080  82624  77158  74610  87484   4949  91291   \n",
       "9996  98249  64946   7681  21787  20204  35606   3623  37419    762  93695   \n",
       "9997  39741  13601   2327  68421  15206  87376  14895  40424  77120  63448   \n",
       "9998  14313  98071  34615  94650  84991  10239  61708  72572  53644  60539   \n",
       "9999  24525   3924  25172  54312  84036   5361  46778   2453  17209   8939   \n",
       "\n",
       "      ...     90     91     92     93     94     95     96     97     98  \\\n",
       "0     ...  45784   5492  35205  21690  16711  95028  19961   1708  68450   \n",
       "1     ...  79591  11637  80269  71577  45876   3581  48943  78719  78261   \n",
       "2     ...   7561  36433  88320  26411  63747   9646  19546   5171  97307   \n",
       "3     ...  60939  73206  82366  97741  59386  56940  57245  19146  81212   \n",
       "4     ...  98075  99085  75659  20061  94633  84659  62323  37606  18919   \n",
       "...   ...    ...    ...    ...    ...    ...    ...    ...    ...    ...   \n",
       "9995  ...  85213  29377  67528  95900  46351  32017  70546  76284  19790   \n",
       "9996  ...  68525  11361  72298  17904  86048  74668  17754  41172  79999   \n",
       "9997  ...  96120  71419   2195  55978  21082   4504  14819  25930  52271   \n",
       "9998  ...  62230  35776  15108  85067  93696  34297  61442  70148  12706   \n",
       "9999  ...  85454  58828  45038   2860  27249   2208   4327  91355  12098   \n",
       "\n",
       "         99  \n",
       "0     20333  \n",
       "1     24809  \n",
       "2     54264  \n",
       "3     26278  \n",
       "4     79713  \n",
       "...     ...  \n",
       "9995  74703  \n",
       "9996  31679  \n",
       "9997  18391  \n",
       "9998  96325  \n",
       "9999  87446  \n",
       "\n",
       "[10000 rows x 100 columns]"
      ]
     },
     "execution_count": 17,
     "metadata": {},
     "output_type": "execute_result"
    }
   ],
   "source": [
    "gt_knns"
   ]
  },
  {
   "cell_type": "markdown",
   "id": "dcf98e47-fe5a-41b6-bbbc-4f7fd8059e5e",
   "metadata": {},
   "source": [
    "### Simple training approach -- 1 Logistic regression\n",
    "brute-force time to beat: 0.5s/query"
   ]
  },
  {
   "cell_type": "code",
   "execution_count": 9,
   "id": "247f3034-a082-4d05-87d6-333257784ffa",
   "metadata": {},
   "outputs": [
    {
     "name": "stderr",
     "output_type": "stream",
     "text": [
      "INFO:root:Initialized logger\n"
     ]
    }
   ],
   "source": [
    "import logging\n",
    "logging.basicConfig(level=logging.INFO)\n",
    "logging.info('Initialized logger')"
   ]
  },
  {
   "cell_type": "code",
   "execution_count": 10,
   "id": "0aed59cb-d56d-4889-9523-c356275b0903",
   "metadata": {},
   "outputs": [],
   "source": [
    "def create_category(data, random_state_offset):\n",
    "    main_datapoint = data.sample(1, random_state=2023+random_state_offset)\n",
    "    #logging.debug(f'using object: {main_datapoint.index[0]}')\n",
    "    distances = pairwise_cosine(main_datapoint.values, data)\n",
    "    idxs = distances[0].argsort()[1:1001]\n",
    "    return (main_datapoint.index[0], np.vstack([idxs, distances[0][idxs]]))\n"
   ]
  },
  {
   "cell_type": "code",
   "execution_count": 14,
   "id": "72027e08-0895-4104-a8af-802511bbe4eb",
   "metadata": {},
   "outputs": [
    {
     "name": "stderr",
     "output_type": "stream",
     "text": [
      "100%|██████████| 100/100 [00:53<00:00,  1.85it/s]\n"
     ]
    },
    {
     "name": "stdout",
     "output_type": "stream",
     "text": [
      "CPU times: user 38 s, sys: 14.7 s, total: 52.7 s\n",
      "Wall time: 54.3 s\n"
     ]
    }
   ],
   "source": [
    "import numpy as np\n",
    "from tqdm import tqdm\n",
    "\n",
    "def get_train_labels(data, n_categories=100):\n",
    "    categories = []\n",
    "    main_objs = []\n",
    "    for i in tqdm(range(n_categories)):\n",
    "        obj_id, cat = create_category(data, random_state_offset=i)\n",
    "        main_objs.append(obj_id)\n",
    "        categories.append(cat)\n",
    "\n",
    "    df_all = pd.DataFrame(np.empty(0, dtype=np.uint32))\n",
    "    for cat_id, c in enumerate(categories):\n",
    "        df_ = pd.DataFrame(c.T)\n",
    "        df_[2] = cat_id\n",
    "        df_all = pd.concat([df_all, df_])\n",
    "\n",
    "    df_all = df_all.rename(\n",
    "        columns={\n",
    "            0: 'object_id', 1: 'dist', 2: 'category_id'\n",
    "        }\n",
    "    ).sort_values(\n",
    "        'dist', ascending=True\n",
    "    ).drop_duplicates(\n",
    "        'object_id', keep='first'\n",
    "    )\n",
    "    return df_all\n",
    "\n",
    "%time labels_df = get_train_labels(data)"
   ]
  },
  {
   "cell_type": "markdown",
   "id": "4028734e-9e27-4b8a-a835-f24848e9ad30",
   "metadata": {},
   "source": [
    "### Time to create training labels for 100 categories (100k data): ~ 1min"
   ]
  },
  {
   "cell_type": "code",
   "execution_count": 15,
   "id": "776d23c5-5a77-4b6f-98b4-c02c555140ab",
   "metadata": {},
   "outputs": [
    {
     "name": "stdout",
     "output_type": "stream",
     "text": [
      "CPU times: user 1min 16s, sys: 287 ms, total: 1min 16s\n",
      "Wall time: 1min 17s\n"
     ]
    }
   ],
   "source": [
    "from sklearn.linear_model import LogisticRegression\n",
    "\n",
    "def train_index(data, labels_df):\n",
    "    X = data.loc[labels_df.object_id.astype(int)]\n",
    "    y = labels_df.category_id.astype(int)\n",
    "    model = LogisticRegression(random_state=2023, max_iter=500).fit(X, y)\n",
    "    return model\n",
    "\n",
    "%time model = train_index(data, labels_df)"
   ]
  },
  {
   "cell_type": "markdown",
   "id": "4768d7ec-e7e4-4281-8fc9-696563dd6ac8",
   "metadata": {},
   "source": [
    "### Time to train: ~70s for increased n_iters (TODO: Hyp. search)"
   ]
  },
  {
   "cell_type": "markdown",
   "id": "d3310a04-3a48-4326-a58e-fadd3e564983",
   "metadata": {},
   "source": [
    "## Evaluate search with stop cond: single bucket"
   ]
  },
  {
   "cell_type": "code",
   "execution_count": 16,
   "id": "65039d3b-44df-4a2e-abdb-c392571ecd70",
   "metadata": {},
   "outputs": [
    {
     "name": "stdout",
     "output_type": "stream",
     "text": [
      "CPU times: user 675 ms, sys: 12.4 ms, total: 687 ms\n",
      "Wall time: 696 ms\n"
     ]
    }
   ],
   "source": [
    "%time data_categories = pd.DataFrame(model.predict(data), index=data.index, columns=['category'])"
   ]
  },
  {
   "cell_type": "code",
   "execution_count": 78,
   "id": "be7d305f-1629-46d9-8eae-d0de436ad921",
   "metadata": {},
   "outputs": [
    {
     "name": "stdout",
     "output_type": "stream",
     "text": [
      "CPU times: user 104 ms, sys: 0 ns, total: 104 ms\n",
      "Wall time: 107 ms\n"
     ]
    }
   ],
   "source": [
    "%time predicted_categories = np.argmax(model.predict_proba(queries), axis=1)"
   ]
  },
  {
   "cell_type": "code",
   "execution_count": 19,
   "id": "965c982e-0a53-4aea-a439-614b6c131390",
   "metadata": {},
   "outputs": [
    {
     "data": {
      "text/plain": [
       "array([54, 26, 32, ..., 70,  0, 31])"
      ]
     },
     "execution_count": 19,
     "metadata": {},
     "output_type": "execute_result"
    }
   ],
   "source": [
    "predicted_categories"
   ]
  },
  {
   "cell_type": "code",
   "execution_count": 82,
   "id": "c9427cb5-7e28-4d91-83d6-bccab4a1b542",
   "metadata": {},
   "outputs": [
    {
     "name": "stdout",
     "output_type": "stream",
     "text": [
      "CPU times: user 86.8 ms, sys: 307 µs, total: 87.1 ms\n",
      "Wall time: 181 ms\n"
     ]
    }
   ],
   "source": [
    "%time predicted_categories = np.argsort(model.predict_proba(queries), axis=1)"
   ]
  },
  {
   "cell_type": "code",
   "execution_count": 59,
   "id": "5aab1a9e-3a65-41ba-9b1c-80debe132d12",
   "metadata": {},
   "outputs": [
    {
     "data": {
      "text/plain": [
       "(10000, 100)"
      ]
     },
     "execution_count": 59,
     "metadata": {},
     "output_type": "execute_result"
    }
   ],
   "source": [
    "predicted_categories.shape"
   ]
  },
  {
   "cell_type": "code",
   "execution_count": 60,
   "id": "18e6e0e7-840f-4409-a06b-f2e742bce99d",
   "metadata": {},
   "outputs": [
    {
     "data": {
      "text/plain": [
       "array([82,  7, 52, 78, 28, 43, 13, 86, 91, 87, 93, 72, 15, 65, 39, 24, 34,\n",
       "       35, 70, 83, 23, 17, 56,  5,  8,  3, 20,  9, 71, 85, 67, 41, 55,  1,\n",
       "       18, 79, 32, 11, 96, 94, 33, 29, 37, 42, 26, 74, 27, 14, 44, 98, 81,\n",
       "       66, 36, 45,  6, 47, 88, 63, 68, 31, 21, 46, 99, 76, 30, 25,  2, 69,\n",
       "       50, 58, 80, 49, 51,  0, 97, 40, 48, 10, 53, 90, 19, 61, 59, 16, 77,\n",
       "       89, 73,  4, 62, 84, 38, 12, 92, 22, 95, 75, 57, 64, 60, 54])"
      ]
     },
     "execution_count": 60,
     "metadata": {},
     "output_type": "execute_result"
    }
   ],
   "source": [
    "predicted_categories[0]"
   ]
  },
  {
   "cell_type": "code",
   "execution_count": 40,
   "id": "107b63b8-a0b2-43a0-a5a6-dd82f3b17c23",
   "metadata": {},
   "outputs": [
    {
     "data": {
      "text/plain": [
       "(10000,)"
      ]
     },
     "execution_count": 40,
     "metadata": {},
     "output_type": "execute_result"
    }
   ],
   "source": [
    "predicted_categories.shape"
   ]
  },
  {
   "cell_type": "code",
   "execution_count": 26,
   "id": "8b6d0b53-77fd-43c5-ac19-b314531218ca",
   "metadata": {},
   "outputs": [
    {
     "name": "stdout",
     "output_type": "stream",
     "text": [
      "0\n",
      "CPU times: user 69.4 ms, sys: 4.17 ms, total: 73.6 ms\n",
      "Wall time: 73.7 ms\n"
     ]
    }
   ],
   "source": [
    "%%time\n",
    "for cat in np.unique(predicted_categories):\n",
    "    print(cat)\n",
    "    bucket_obj_indexes = data_categories.query('category == @cat').index\n",
    "    seq_search_dists = pairwise_cosine(\n",
    "        queries[np.where(predicted_categories == cat)],\n",
    "        data.loc[bucket_obj_indexes]\n",
    "    )\n",
    "    break"
   ]
  },
  {
   "cell_type": "code",
   "execution_count": 32,
   "id": "f49950d9-46aa-4d10-8b6f-d503e5887151",
   "metadata": {},
   "outputs": [
    {
     "data": {
      "text/plain": [
       "0     14313\n",
       "1     98071\n",
       "2     34615\n",
       "3     94650\n",
       "4     84991\n",
       "      ...  \n",
       "95    34297\n",
       "96    61442\n",
       "97    70148\n",
       "98    12706\n",
       "99    96325\n",
       "Name: 9998, Length: 100, dtype: int64"
      ]
     },
     "execution_count": 32,
     "metadata": {},
     "output_type": "execute_result"
    }
   ],
   "source": [
    "gt_knns.iloc[-2]"
   ]
  },
  {
   "cell_type": "code",
   "execution_count": 73,
   "id": "504a5b15-1d29-45a8-8148-47eb5c9e32fb",
   "metadata": {},
   "outputs": [],
   "source": [
    "for cat in np.unique(predicted_categories[:, -1]):\n",
    "    cat_idxs = np.where(predicted_categories[:, -1] == cat)[0]\n",
    "    bucket_obj_indexes = data_categories.query('category == @cat').index\n",
    "    seq_search_dists = pairwise_cosine(queries[cat_idxs], data.loc[bucket_obj_indexes])\n",
    "    ann_relative = seq_search_dists.argsort()[:, :k]\n",
    "    anns[cat_idxs] = np.array(bucket_obj_indexes)[ann_relative] + 1\n",
    "    dists[cat_idxs] = np.take_along_axis(seq_search_dists, ann_relative, axis=1)\n",
    "    break"
   ]
  },
  {
   "cell_type": "code",
   "execution_count": 80,
   "id": "16f8c330-04d3-4985-b391-00f1d0a94c57",
   "metadata": {},
   "outputs": [
    {
     "data": {
      "text/plain": [
       "array([[79172, 22337,   231, ..., 69015, 92811, 99973],\n",
       "       [14347, 82848, 79302, ..., 54566, 34591, 11620],\n",
       "       [51954, 87690,  3444, ..., 72008, 63515, 34745],\n",
       "       ...,\n",
       "       [39741, 13601,  2327, ..., 63448, 95475, 71610],\n",
       "       [94650, 61708, 60539, ..., 54719, 15887, 59625],\n",
       "       [ 2453, 83964, 66428, ..., 31684, 98652, 41742]], dtype=uint32)"
      ]
     },
     "execution_count": 80,
     "metadata": {},
     "output_type": "execute_result"
    }
   ],
   "source": [
    "anns"
   ]
  },
  {
   "cell_type": "code",
   "execution_count": 93,
   "id": "d7369342-b7d2-4294-94ae-318d239c86dd",
   "metadata": {},
   "outputs": [],
   "source": [
    "def search_single_test(predicted_categories):\n",
    "    anns = np.zeros((queries.shape[0], k), dtype=np.uint32)\n",
    "    dists = np.zeros((queries.shape[0], k), dtype=np.float32)\n",
    "    for cat in np.unique(predicted_categories):\n",
    "        cat_idxs = np.where(predicted_categories == cat)[0]\n",
    "        bucket_obj_indexes = data_categories.query('category == @cat').index\n",
    "        seq_search_dists = pairwise_cosine(\n",
    "            queries[cat_idxs],\n",
    "            data.loc[bucket_obj_indexes]\n",
    "        )\n",
    "        ann_relative = seq_search_dists.argsort()[:, :k]\n",
    "        anns[cat_idxs] = np.array(bucket_obj_indexes)[ann_relative] + 1\n",
    "        dists[cat_idxs] = np.take_along_axis(seq_search_dists, ann_relative, axis=1)\n",
    "    return anns, dists"
   ]
  },
  {
   "cell_type": "code",
   "execution_count": 202,
   "id": "f34f101e-2bd3-480d-adff-fe957175cf6a",
   "metadata": {},
   "outputs": [
    {
     "name": "stdout",
     "output_type": "stream",
     "text": [
      "CPU times: user 2.39 s, sys: 10.5 ms, total: 2.4 s\n",
      "Wall time: 2.46 s\n"
     ]
    }
   ],
   "source": [
    "%time anns, dists = search_single_test(predicted_categories[:, -1])"
   ]
  },
  {
   "cell_type": "code",
   "execution_count": 203,
   "id": "004d7d80-a2d5-47c6-923b-d9eb9ee1c717",
   "metadata": {},
   "outputs": [
    {
     "name": "stdout",
     "output_type": "stream",
     "text": [
      "CPU times: user 2.23 s, sys: 4.61 ms, total: 2.23 s\n",
      "Wall time: 2.4 s\n"
     ]
    }
   ],
   "source": [
    "%time anns2, dists2 = search_single_test(predicted_categories[:, -2])"
   ]
  },
  {
   "cell_type": "code",
   "execution_count": 204,
   "id": "14242f2e-42ca-43df-be4d-a2b98d24a78a",
   "metadata": {},
   "outputs": [
    {
     "name": "stdout",
     "output_type": "stream",
     "text": [
      "CPU times: user 474 µs, sys: 46 µs, total: 520 µs\n",
      "Wall time: 525 µs\n"
     ]
    }
   ],
   "source": [
    "%%time\n",
    "dists_all = np.hstack((dists, dists2))\n",
    "anns_all = np.hstack((anns, anns2))"
   ]
  },
  {
   "cell_type": "code",
   "execution_count": 195,
   "id": "cdbbcaf0-ba84-4272-9677-457a2be0c727",
   "metadata": {},
   "outputs": [
    {
     "data": {
      "text/plain": [
       "(10000, 20)"
      ]
     },
     "execution_count": 195,
     "metadata": {},
     "output_type": "execute_result"
    }
   ],
   "source": [
    "dists_all.shape"
   ]
  },
  {
   "cell_type": "code",
   "execution_count": 212,
   "id": "5c08a3d4-d1e6-41cc-b87f-556bab9c7613",
   "metadata": {},
   "outputs": [
    {
     "name": "stdout",
     "output_type": "stream",
     "text": [
      "CPU times: user 1.72 ms, sys: 170 µs, total: 1.89 ms\n",
      "Wall time: 1.89 ms\n"
     ]
    }
   ],
   "source": [
    "%time a = dists_all.argsort(kind='stable', axis=1)[:, :k]"
   ]
  },
  {
   "cell_type": "code",
   "execution_count": 213,
   "id": "4ab0ff86-a952-46ec-9411-d92ee69fffc1",
   "metadata": {},
   "outputs": [
    {
     "name": "stdout",
     "output_type": "stream",
     "text": [
      "CPU times: user 274 µs, sys: 0 ns, total: 274 µs\n",
      "Wall time: 280 µs\n"
     ]
    }
   ],
   "source": [
    "%time idx = np.ogrid[tuple(map(slice, dists_all.shape))]"
   ]
  },
  {
   "cell_type": "code",
   "execution_count": 214,
   "id": "f716b033-6774-47e8-aa79-3cf64a9e0a63",
   "metadata": {},
   "outputs": [
    {
     "data": {
      "text/plain": [
       "[array([[   0],\n",
       "        [   1],\n",
       "        [   2],\n",
       "        ...,\n",
       "        [9997],\n",
       "        [9998],\n",
       "        [9999]]),\n",
       " array([[ 0,  1,  2,  3,  4,  5,  6,  7,  8,  9, 10, 11, 12, 13, 14, 15,\n",
       "         16, 17, 18, 19]])]"
      ]
     },
     "execution_count": 214,
     "metadata": {},
     "output_type": "execute_result"
    }
   ],
   "source": [
    "idx"
   ]
  },
  {
   "cell_type": "code",
   "execution_count": 215,
   "id": "5fd0a060-b2e0-4f0a-b880-f95dd5a64a7c",
   "metadata": {},
   "outputs": [],
   "source": [
    "idx[1] = a"
   ]
  },
  {
   "cell_type": "code",
   "execution_count": 216,
   "id": "edf64626-7bf3-4df0-9eed-38cd3b009719",
   "metadata": {},
   "outputs": [
    {
     "name": "stdout",
     "output_type": "stream",
     "text": [
      "CPU times: user 1.97 ms, sys: 196 µs, total: 2.16 ms\n",
      "Wall time: 2.18 ms\n"
     ]
    },
    {
     "data": {
      "text/plain": [
       "array([[0.27284035, 0.306153  , 0.31319278, ..., 0.33513942, 0.3403605 ,\n",
       "        0.3453628 ],\n",
       "       [0.19747424, 0.21135962, 0.22881095, ..., 0.27025187, 0.2768707 ,\n",
       "        0.27826455],\n",
       "       [0.13460062, 0.14457192, 0.15563862, ..., 0.16689926, 0.16764964,\n",
       "        0.17210594],\n",
       "       ...,\n",
       "       [0.21224909, 0.2241371 , 0.232968  , ..., 0.24021728, 0.2431261 ,\n",
       "        0.2443094 ],\n",
       "       [0.32610038, 0.33764818, 0.34348887, ..., 0.35277185, 0.35619137,\n",
       "        0.36058566],\n",
       "       [0.20044547, 0.29376504, 0.30769375, ..., 0.33250993, 0.3403026 ,\n",
       "        0.34105274]], dtype=float32)"
      ]
     },
     "execution_count": 216,
     "metadata": {},
     "output_type": "execute_result"
    }
   ],
   "source": [
    "%time dists_all[tuple(idx)]"
   ]
  },
  {
   "cell_type": "code",
   "execution_count": 217,
   "id": "23dfb76a-578d-478e-9f0b-601597939cf3",
   "metadata": {},
   "outputs": [
    {
     "data": {
      "text/plain": [
       "(10000, 10)"
      ]
     },
     "execution_count": 217,
     "metadata": {},
     "output_type": "execute_result"
    }
   ],
   "source": [
    "dists_all[tuple(idx)].shape"
   ]
  },
  {
   "cell_type": "code",
   "execution_count": null,
   "id": "bca58dda-47d8-464b-b158-0b242bc6c615",
   "metadata": {},
   "outputs": [],
   "source": [
    "9998 -- {0.34511334, 0.35073513, 0.3679119, 0.36058566, 0.36601555,\n",
    "         0.37538353, 0.37619492, 0.37755504, 0.3786396, 0.38301477} \n",
    "- {14313, 60539, 98071, 61708, 53644, 34615, 94650, 10239, 72572, 84991}\n"
   ]
  },
  {
   "cell_type": "code",
   "execution_count": 218,
   "id": "b8bf5e58-c1a8-40cb-a1d3-841ad3e5e28d",
   "metadata": {},
   "outputs": [
    {
     "name": "stdout",
     "output_type": "stream",
     "text": [
      "CPU times: user 1.16 ms, sys: 116 µs, total: 1.28 ms\n",
      "Wall time: 1.28 ms\n"
     ]
    },
    {
     "data": {
      "text/plain": [
       "array([[79172, 15735, 22337, ..., 71849, 69015, 92811],\n",
       "       [14347, 82848, 79302, ..., 54566, 34591, 11620],\n",
       "       [51954, 87690,  3444, ..., 72008, 63515, 68040],\n",
       "       ...,\n",
       "       [39741, 13601,  2327, ..., 63448, 95475, 71610],\n",
       "       [14313, 98071, 34615, ..., 72572, 53644, 60539],\n",
       "       [24525, 46778,  2453, ..., 77816, 31450, 80968]], dtype=uint32)"
      ]
     },
     "execution_count": 218,
     "metadata": {},
     "output_type": "execute_result"
    }
   ],
   "source": [
    "%time anns_all[tuple(idx)]"
   ]
  },
  {
   "cell_type": "code",
   "execution_count": 219,
   "id": "b3a45797-10e3-47ef-a7e8-f0e5e9bc507e",
   "metadata": {},
   "outputs": [
    {
     "data": {
      "text/plain": [
       "(10000, 10)"
      ]
     },
     "execution_count": 219,
     "metadata": {},
     "output_type": "execute_result"
    }
   ],
   "source": [
    "anns_all[tuple(idx)].shape"
   ]
  },
  {
   "cell_type": "code",
   "execution_count": 220,
   "id": "ffd1de5d-31f9-42ce-b601-6f43adc68c25",
   "metadata": {},
   "outputs": [
    {
     "data": {
      "text/plain": [
       "array([14313, 98071, 34615, 94650, 84991, 10239, 61708, 72572, 53644,\n",
       "       60539], dtype=uint32)"
      ]
     },
     "execution_count": 220,
     "metadata": {},
     "output_type": "execute_result"
    }
   ],
   "source": [
    "anns_all[tuple(idx)][-2]"
   ]
  },
  {
   "cell_type": "code",
   "execution_count": 193,
   "id": "62ff138d-79dd-4389-9cb9-925d1547b554",
   "metadata": {},
   "outputs": [
    {
     "data": {
      "text/plain": [
       "array([[0.27284035, 0.31319278, 0.319519  , ..., 0.4095242 , 0.412036  ,\n",
       "        0.41297266],\n",
       "       [0.19747424, 0.21135962, 0.22881095, ..., 0.3407105 , 0.3536085 ,\n",
       "        0.37176004],\n",
       "       [0.13460062, 0.14457192, 0.15563862, ..., 0.21025163, 0.21637371,\n",
       "        0.22164102],\n",
       "       ...,\n",
       "       [0.21224909, 0.2241371 , 0.232968  , ..., 0.39077035, 0.39085406,\n",
       "        0.39089644],\n",
       "       [0.34511334, 0.35073513, 0.36058566, ..., 0.36065924, 0.36065924,\n",
       "        0.36065924],\n",
       "       [0.30769375, 0.32123458, 0.32372558, ..., 0.3425054 , 0.3425054 ,\n",
       "        0.3425054 ]], dtype=float32)"
      ]
     },
     "execution_count": 193,
     "metadata": {},
     "output_type": "execute_result"
    }
   ],
   "source": [
    "dists_all"
   ]
  },
  {
   "cell_type": "code",
   "execution_count": 145,
   "id": "e9511846-848c-4718-a36b-2a753dd8f2bc",
   "metadata": {},
   "outputs": [
    {
     "data": {
      "text/plain": [
       "(10000, 10000, 10)"
      ]
     },
     "execution_count": 145,
     "metadata": {},
     "output_type": "execute_result"
    }
   ],
   "source": [
    "dists_all[:, a].shape"
   ]
  },
  {
   "cell_type": "code",
   "execution_count": 156,
   "id": "47009e8f-73bc-4fd5-a045-e131ea7e7244",
   "metadata": {},
   "outputs": [
    {
     "data": {
      "text/plain": [
       "array([0.27284035, 0.306153  , 0.31319278, 0.319519  , 0.32419464,\n",
       "       0.3316943 , 0.332923  , 0.33513942, 0.3403605 , 0.3453628 ],\n",
       "      dtype=float32)"
      ]
     },
     "execution_count": 156,
     "metadata": {},
     "output_type": "execute_result"
    }
   ],
   "source": [
    "dists_all[0][a[0]]"
   ]
  },
  {
   "cell_type": "code",
   "execution_count": 161,
   "id": "5e4435b1-87cf-4a41-bc92-581e68be0ea4",
   "metadata": {},
   "outputs": [
    {
     "data": {
      "text/plain": [
       "array([[0.27284035, 0.31319278, 0.319519  , 0.32419464, 0.3316943 ,\n",
       "        0.332923  , 0.33513942, 0.3403605 , 0.3453628 , 0.34960502,\n",
       "        0.306153  , 0.38185748, 0.39277422, 0.3947172 , 0.39499146,\n",
       "        0.39705977, 0.39887363, 0.4095242 , 0.412036  , 0.41297266],\n",
       "       [0.19747424, 0.21135962, 0.22881095, 0.23895504, 0.25260547,\n",
       "        0.25981018, 0.2626422 , 0.27025187, 0.2768707 , 0.27826455,\n",
       "        0.299805  , 0.30436933, 0.3079004 , 0.3285277 , 0.3316455 ,\n",
       "        0.33722755, 0.33748493, 0.3407105 , 0.3536085 , 0.37176004]],\n",
       "      dtype=float32)"
      ]
     },
     "execution_count": 161,
     "metadata": {},
     "output_type": "execute_result"
    }
   ],
   "source": [
    "dists_all[:2]"
   ]
  },
  {
   "cell_type": "code",
   "execution_count": 164,
   "id": "19b32ee5-0441-4241-a6cd-a667bdd261f7",
   "metadata": {},
   "outputs": [
    {
     "data": {
      "text/plain": [
       "array([[0.27284035],\n",
       "       [0.19747424]], dtype=float32)"
      ]
     },
     "execution_count": 164,
     "metadata": {},
     "output_type": "execute_result"
    }
   ],
   "source": [
    "dists_all[:2][:, np.array([0])]"
   ]
  },
  {
   "cell_type": "code",
   "execution_count": 221,
   "id": "d7187f72-7d7d-4104-b8af-484b06331bd7",
   "metadata": {},
   "outputs": [],
   "source": [
    "n_buckets = 2"
   ]
  },
  {
   "cell_type": "code",
   "execution_count": 242,
   "id": "650a8963-9364-496a-99ca-e70d5cb89402",
   "metadata": {},
   "outputs": [],
   "source": [
    "def search_single(queries, data, data_categories, predicted_categories, k=10):\n",
    "    nns = np.zeros((queries.shape[0], k), dtype=np.uint32)\n",
    "    dists = np.zeros((queries.shape[0], k), dtype=np.float32)\n",
    "    for cat in np.unique(predicted_categories):\n",
    "        cat_idxs = np.where(predicted_categories == cat)[0]\n",
    "        bucket_obj_indexes = data_categories.query('category == @cat').index\n",
    "        seq_search_dists = pairwise_cosine(queries[cat_idxs], data.loc[bucket_obj_indexes])\n",
    "        ann_relative = seq_search_dists.argsort()[:, :k]\n",
    "        nns[cat_idxs] = np.array(bucket_obj_indexes)[ann_relative] + 1\n",
    "        dists[cat_idxs] = np.take_along_axis(seq_search_dists, ann_relative, axis=1)\n",
    "    return dists, nns"
   ]
  },
  {
   "cell_type": "code",
   "execution_count": 227,
   "id": "c0e003f5-685a-40c6-9845-eacaa0b44206",
   "metadata": {},
   "outputs": [
    {
     "data": {
      "text/plain": [
       "array([[82,  7, 52, ..., 64, 60, 54],\n",
       "       [90, 17,  8, ..., 53, 63, 26],\n",
       "       [36, 20, 80, ..., 87, 24, 32],\n",
       "       ...,\n",
       "       [93, 31,  5, ..., 11, 27, 70],\n",
       "       [43, 11, 17, ..., 31, 95,  0],\n",
       "       [33, 15, 66, ..., 36, 95, 31]])"
      ]
     },
     "execution_count": 227,
     "metadata": {},
     "output_type": "execute_result"
    }
   ],
   "source": [
    "data_categories = pd.DataFrame(\n",
    "    model.predict(data),\n",
    "    index=data.index,\n",
    "    columns=['category']\n",
    ")\n",
    "anns_final = None\n",
    "dists_final = None\n",
    "predicted_categories = np.argsort(model.predict_proba(queries), axis=1)\n",
    "predicted_categories"
   ]
  },
  {
   "cell_type": "code",
   "execution_count": 248,
   "id": "b0b84635-20a9-40ea-93f2-ff1da19a0ff6",
   "metadata": {},
   "outputs": [
    {
     "name": "stdout",
     "output_type": "stream",
     "text": [
      "anns_final it 1: [94650 61708 60539   368 34688  1840 87459 54719 15887 59625]\n",
      "anns_final it 2: [14313 98071 34615 94650 84991 10239 61708 72572 53644 60539]\n"
     ]
    }
   ],
   "source": [
    "anns_final = None\n",
    "dists_final = None\n",
    "for bucket in range(n_buckets):\n",
    "    dists, anns = search_single(\n",
    "        queries,\n",
    "        data,\n",
    "        data_categories,\n",
    "        predicted_categories[:, -(bucket+1)]\n",
    "    )\n",
    "    if anns_final is None:\n",
    "        anns_final = anns\n",
    "        dists_final = dists\n",
    "        print(f'anns_final it 1: {anns_final[-2]}')\n",
    "    else:\n",
    "        anns_final = np.hstack((anns_final, anns))\n",
    "        dists_final = np.hstack((dists_final, dists))\n",
    "\n",
    "        idx = np.ogrid[tuple(map(slice, dists_final.shape))]\n",
    "        idx_sorted = dists_final.argsort(kind='stable', axis=1)[:, :k]\n",
    "        idx[1] = idx_sorted\n",
    "        dists_final = dists_final[tuple(idx)]\n",
    "        anns_final = anns_final[tuple(idx)]\n",
    "        print(f'anns_final it 2: {anns_final[-2]}')\n",
    "        assert anns_final.shape == dists_final.shape == (queries.shape[0], k)"
   ]
  },
  {
   "cell_type": "code",
   "execution_count": 247,
   "id": "653e9c3b-1669-4574-ac43-3e2ab3cd821f",
   "metadata": {},
   "outputs": [
    {
     "data": {
      "text/plain": [
       "array([94650, 61708, 60539,   368, 34688,  1840, 87459, 54719, 15887,\n",
       "       59625], dtype=uint32)"
      ]
     },
     "execution_count": 247,
     "metadata": {},
     "output_type": "execute_result"
    }
   ],
   "source": [
    "anns[-2]"
   ]
  },
  {
   "cell_type": "code",
   "execution_count": 249,
   "id": "ca64f78f-f215-4770-9e52-85782c96605a",
   "metadata": {},
   "outputs": [
    {
     "data": {
      "text/plain": [
       "array([14313, 98071, 34615, 94650, 84991, 10239, 61708, 72572, 53644,\n",
       "       60539], dtype=uint32)"
      ]
     },
     "execution_count": 249,
     "metadata": {},
     "output_type": "execute_result"
    }
   ],
   "source": [
    "anns_final[-2]"
   ]
  },
  {
   "cell_type": "code",
   "execution_count": 226,
   "id": "40d5be0d-8eda-4518-98ae-81835037e730",
   "metadata": {},
   "outputs": [
    {
     "data": {
      "text/plain": [
       "array([14313, 98071, 34615, 94650, 84991, 10239, 61708, 72572, 53644,\n",
       "       60539], dtype=uint32)"
      ]
     },
     "execution_count": 226,
     "metadata": {},
     "output_type": "execute_result"
    }
   ],
   "source": [
    "anns_all[tuple(idx)][-2]"
   ]
  },
  {
   "cell_type": "code",
   "execution_count": null,
   "id": "e09d6a23-490e-4ca7-bf6e-4177dcaca168",
   "metadata": {},
   "outputs": [],
   "source": []
  },
  {
   "cell_type": "code",
   "execution_count": null,
   "id": "b70b1c58-0944-4467-9ffc-af13c74e8b95",
   "metadata": {},
   "outputs": [],
   "source": []
  },
  {
   "cell_type": "code",
   "execution_count": 166,
   "id": "4b32d1b8-c8c1-43a6-a5b3-f5455593af83",
   "metadata": {},
   "outputs": [
    {
     "data": {
      "text/plain": [
       "(array([ 0, 10,  1,  2,  3,  4,  5,  6,  7,  8]),\n",
       " array([0, 1, 2, 3, 4, 5, 6, 7, 8, 9]))"
      ]
     },
     "execution_count": 166,
     "metadata": {},
     "output_type": "execute_result"
    }
   ],
   "source": [
    "a[0], a[1]"
   ]
  },
  {
   "cell_type": "code",
   "execution_count": 167,
   "id": "0f788781-382d-40fc-b91e-26fb41c5e4be",
   "metadata": {},
   "outputs": [
    {
     "data": {
      "text/plain": [
       "array([[0.27284035, 0.306153  , 0.31319278, 0.319519  , 0.32419464,\n",
       "        0.3316943 , 0.332923  , 0.33513942, 0.3403605 , 0.3453628 ],\n",
       "       [0.19747424, 0.299805  , 0.21135962, 0.22881095, 0.23895504,\n",
       "        0.25260547, 0.25981018, 0.2626422 , 0.27025187, 0.2768707 ]],\n",
       "      dtype=float32)"
      ]
     },
     "execution_count": 167,
     "metadata": {},
     "output_type": "execute_result"
    }
   ],
   "source": [
    "dists_all[:2][:, a[0]]"
   ]
  },
  {
   "cell_type": "code",
   "execution_count": 169,
   "id": "c866a933-2b03-42d4-82c3-9d5e902a7ce5",
   "metadata": {},
   "outputs": [],
   "source": [
    "df = pd.DataFrame(dists_all)"
   ]
  },
  {
   "cell_type": "code",
   "execution_count": 170,
   "id": "3a5093cf-54bf-4a5a-9b5b-1ccec5621488",
   "metadata": {},
   "outputs": [
    {
     "data": {
      "text/html": [
       "<div>\n",
       "<style scoped>\n",
       "    .dataframe tbody tr th:only-of-type {\n",
       "        vertical-align: middle;\n",
       "    }\n",
       "\n",
       "    .dataframe tbody tr th {\n",
       "        vertical-align: top;\n",
       "    }\n",
       "\n",
       "    .dataframe thead th {\n",
       "        text-align: right;\n",
       "    }\n",
       "</style>\n",
       "<table border=\"1\" class=\"dataframe\">\n",
       "  <thead>\n",
       "    <tr style=\"text-align: right;\">\n",
       "      <th></th>\n",
       "      <th>0</th>\n",
       "      <th>1</th>\n",
       "      <th>2</th>\n",
       "      <th>3</th>\n",
       "      <th>4</th>\n",
       "      <th>5</th>\n",
       "      <th>6</th>\n",
       "      <th>7</th>\n",
       "      <th>8</th>\n",
       "      <th>9</th>\n",
       "      <th>10</th>\n",
       "      <th>11</th>\n",
       "      <th>12</th>\n",
       "      <th>13</th>\n",
       "      <th>14</th>\n",
       "      <th>15</th>\n",
       "      <th>16</th>\n",
       "      <th>17</th>\n",
       "      <th>18</th>\n",
       "      <th>19</th>\n",
       "    </tr>\n",
       "  </thead>\n",
       "  <tbody>\n",
       "    <tr>\n",
       "      <th>0</th>\n",
       "      <td>0.272840</td>\n",
       "      <td>0.313193</td>\n",
       "      <td>0.319519</td>\n",
       "      <td>0.324195</td>\n",
       "      <td>0.331694</td>\n",
       "      <td>0.332923</td>\n",
       "      <td>0.335139</td>\n",
       "      <td>0.340360</td>\n",
       "      <td>0.345363</td>\n",
       "      <td>0.349605</td>\n",
       "      <td>0.306153</td>\n",
       "      <td>0.381857</td>\n",
       "      <td>0.392774</td>\n",
       "      <td>0.394717</td>\n",
       "      <td>0.394991</td>\n",
       "      <td>0.397060</td>\n",
       "      <td>0.398874</td>\n",
       "      <td>0.409524</td>\n",
       "      <td>0.412036</td>\n",
       "      <td>0.412973</td>\n",
       "    </tr>\n",
       "    <tr>\n",
       "      <th>1</th>\n",
       "      <td>0.197474</td>\n",
       "      <td>0.211360</td>\n",
       "      <td>0.228811</td>\n",
       "      <td>0.238955</td>\n",
       "      <td>0.252605</td>\n",
       "      <td>0.259810</td>\n",
       "      <td>0.262642</td>\n",
       "      <td>0.270252</td>\n",
       "      <td>0.276871</td>\n",
       "      <td>0.278265</td>\n",
       "      <td>0.299805</td>\n",
       "      <td>0.304369</td>\n",
       "      <td>0.307900</td>\n",
       "      <td>0.328528</td>\n",
       "      <td>0.331645</td>\n",
       "      <td>0.337228</td>\n",
       "      <td>0.337485</td>\n",
       "      <td>0.340710</td>\n",
       "      <td>0.353608</td>\n",
       "      <td>0.371760</td>\n",
       "    </tr>\n",
       "    <tr>\n",
       "      <th>2</th>\n",
       "      <td>0.134601</td>\n",
       "      <td>0.144572</td>\n",
       "      <td>0.155639</td>\n",
       "      <td>0.157445</td>\n",
       "      <td>0.158151</td>\n",
       "      <td>0.161204</td>\n",
       "      <td>0.163761</td>\n",
       "      <td>0.166899</td>\n",
       "      <td>0.167650</td>\n",
       "      <td>0.178188</td>\n",
       "      <td>0.172106</td>\n",
       "      <td>0.175907</td>\n",
       "      <td>0.176241</td>\n",
       "      <td>0.182629</td>\n",
       "      <td>0.185003</td>\n",
       "      <td>0.189098</td>\n",
       "      <td>0.200092</td>\n",
       "      <td>0.210252</td>\n",
       "      <td>0.216374</td>\n",
       "      <td>0.221641</td>\n",
       "    </tr>\n",
       "  </tbody>\n",
       "</table>\n",
       "</div>"
      ],
      "text/plain": [
       "         0         1         2         3         4         5         6   \\\n",
       "0  0.272840  0.313193  0.319519  0.324195  0.331694  0.332923  0.335139   \n",
       "1  0.197474  0.211360  0.228811  0.238955  0.252605  0.259810  0.262642   \n",
       "2  0.134601  0.144572  0.155639  0.157445  0.158151  0.161204  0.163761   \n",
       "\n",
       "         7         8         9         10        11        12        13  \\\n",
       "0  0.340360  0.345363  0.349605  0.306153  0.381857  0.392774  0.394717   \n",
       "1  0.270252  0.276871  0.278265  0.299805  0.304369  0.307900  0.328528   \n",
       "2  0.166899  0.167650  0.178188  0.172106  0.175907  0.176241  0.182629   \n",
       "\n",
       "         14        15        16        17        18        19  \n",
       "0  0.394991  0.397060  0.398874  0.409524  0.412036  0.412973  \n",
       "1  0.331645  0.337228  0.337485  0.340710  0.353608  0.371760  \n",
       "2  0.185003  0.189098  0.200092  0.210252  0.216374  0.221641  "
      ]
     },
     "execution_count": 170,
     "metadata": {},
     "output_type": "execute_result"
    }
   ],
   "source": [
    "df.head(3)"
   ]
  },
  {
   "cell_type": "code",
   "execution_count": 173,
   "id": "7543230d-aa55-42e4-be8b-943ce0f123e0",
   "metadata": {},
   "outputs": [
    {
     "ename": "KeyError",
     "evalue": "'index'",
     "output_type": "error",
     "traceback": [
      "\u001b[0;31m---------------------------------------------------------------------------\u001b[0m",
      "\u001b[0;31mKeyError\u001b[0m                                  Traceback (most recent call last)",
      "\u001b[0;32m<ipython-input-173-1bcb528ac6b2>\u001b[0m in \u001b[0;36m<module>\u001b[0;34m\u001b[0m\n\u001b[0;32m----> 1\u001b[0;31m \u001b[0mdf\u001b[0m\u001b[0;34m.\u001b[0m\u001b[0msort_values\u001b[0m\u001b[0;34m(\u001b[0m\u001b[0mby\u001b[0m\u001b[0;34m=\u001b[0m\u001b[0;34m'index'\u001b[0m\u001b[0;34m)\u001b[0m\u001b[0;34m\u001b[0m\u001b[0m\n\u001b[0m",
      "\u001b[0;32m/mnt/storage-brno11-elixir/home/tslaninakova/dynamic-lmi/dynamic-lmi-env/lib/python3.6/site-packages/pandas/core/frame.py\u001b[0m in \u001b[0;36msort_values\u001b[0;34m(self, by, axis, ascending, inplace, kind, na_position, ignore_index, key)\u001b[0m\n\u001b[1;32m   5296\u001b[0m \u001b[0;34m\u001b[0m\u001b[0m\n\u001b[1;32m   5297\u001b[0m             \u001b[0mby\u001b[0m \u001b[0;34m=\u001b[0m \u001b[0mby\u001b[0m\u001b[0;34m[\u001b[0m\u001b[0;36m0\u001b[0m\u001b[0;34m]\u001b[0m\u001b[0;34m\u001b[0m\u001b[0m\n\u001b[0;32m-> 5298\u001b[0;31m             \u001b[0mk\u001b[0m \u001b[0;34m=\u001b[0m \u001b[0mself\u001b[0m\u001b[0;34m.\u001b[0m\u001b[0m_get_label_or_level_values\u001b[0m\u001b[0;34m(\u001b[0m\u001b[0mby\u001b[0m\u001b[0;34m,\u001b[0m \u001b[0maxis\u001b[0m\u001b[0;34m=\u001b[0m\u001b[0maxis\u001b[0m\u001b[0;34m)\u001b[0m\u001b[0;34m\u001b[0m\u001b[0m\n\u001b[0m\u001b[1;32m   5299\u001b[0m \u001b[0;34m\u001b[0m\u001b[0m\n\u001b[1;32m   5300\u001b[0m             \u001b[0;31m# need to rewrap column in Series to apply key function\u001b[0m\u001b[0;34m\u001b[0m\u001b[0;34m\u001b[0m\u001b[0m\n",
      "\u001b[0;32m/mnt/storage-brno11-elixir/home/tslaninakova/dynamic-lmi/dynamic-lmi-env/lib/python3.6/site-packages/pandas/core/generic.py\u001b[0m in \u001b[0;36m_get_label_or_level_values\u001b[0;34m(self, key, axis)\u001b[0m\n\u001b[1;32m   1561\u001b[0m             \u001b[0mvalues\u001b[0m \u001b[0;34m=\u001b[0m \u001b[0mself\u001b[0m\u001b[0;34m.\u001b[0m\u001b[0maxes\u001b[0m\u001b[0;34m[\u001b[0m\u001b[0maxis\u001b[0m\u001b[0;34m]\u001b[0m\u001b[0;34m.\u001b[0m\u001b[0mget_level_values\u001b[0m\u001b[0;34m(\u001b[0m\u001b[0mkey\u001b[0m\u001b[0;34m)\u001b[0m\u001b[0;34m.\u001b[0m\u001b[0m_values\u001b[0m\u001b[0;34m\u001b[0m\u001b[0m\n\u001b[1;32m   1562\u001b[0m         \u001b[0;32melse\u001b[0m\u001b[0;34m:\u001b[0m\u001b[0;34m\u001b[0m\u001b[0m\n\u001b[0;32m-> 1563\u001b[0;31m             \u001b[0;32mraise\u001b[0m \u001b[0mKeyError\u001b[0m\u001b[0;34m(\u001b[0m\u001b[0mkey\u001b[0m\u001b[0;34m)\u001b[0m\u001b[0;34m\u001b[0m\u001b[0m\n\u001b[0m\u001b[1;32m   1564\u001b[0m \u001b[0;34m\u001b[0m\u001b[0m\n\u001b[1;32m   1565\u001b[0m         \u001b[0;31m# Check for duplicates\u001b[0m\u001b[0;34m\u001b[0m\u001b[0;34m\u001b[0m\u001b[0m\n",
      "\u001b[0;31mKeyError\u001b[0m: 'index'"
     ]
    }
   ],
   "source": [
    "df.sort_values(by='index')"
   ]
  },
  {
   "cell_type": "code",
   "execution_count": null,
   "id": "d12e251a-a775-408b-97a6-be80b1b32b15",
   "metadata": {},
   "outputs": [],
   "source": []
  },
  {
   "cell_type": "code",
   "execution_count": 152,
   "id": "ffba2b80-bbf3-41b5-9c32-b8c01776c41a",
   "metadata": {},
   "outputs": [
    {
     "data": {
      "text/plain": [
       "(2, 20)"
      ]
     },
     "execution_count": 152,
     "metadata": {},
     "output_type": "execute_result"
    }
   ],
   "source": [
    "dists_all[:2].shape"
   ]
  },
  {
   "cell_type": "code",
   "execution_count": 151,
   "id": "8c2f6028-04fb-48f4-adf6-7298d2fe3915",
   "metadata": {},
   "outputs": [
    {
     "data": {
      "text/plain": [
       "(2, 10)"
      ]
     },
     "execution_count": 151,
     "metadata": {},
     "output_type": "execute_result"
    }
   ],
   "source": [
    "a[:2].shape"
   ]
  },
  {
   "cell_type": "code",
   "execution_count": null,
   "id": "5315eedb-d194-4da2-82d1-828c49e4d2ab",
   "metadata": {},
   "outputs": [],
   "source": [
    "dists_all[:, a]"
   ]
  },
  {
   "cell_type": "code",
   "execution_count": 141,
   "id": "8d7a59bb-5037-466f-a785-2d74880dbdbe",
   "metadata": {},
   "outputs": [
    {
     "name": "stdout",
     "output_type": "stream",
     "text": [
      "CPU times: user 2.64 ms, sys: 228 µs, total: 2.87 ms\n",
      "Wall time: 2.88 ms\n"
     ]
    }
   ],
   "source": [
    "%time dists_final = dists_all[a]"
   ]
  },
  {
   "cell_type": "code",
   "execution_count": 142,
   "id": "3079beb9-90c3-4b03-8839-dc3970dfbb18",
   "metadata": {},
   "outputs": [
    {
     "data": {
      "text/plain": [
       "(10000, 10, 20)"
      ]
     },
     "execution_count": 142,
     "metadata": {},
     "output_type": "execute_result"
    }
   ],
   "source": [
    "dists_final.shape"
   ]
  },
  {
   "cell_type": "code",
   "execution_count": 109,
   "id": "4dec75cf-37ee-49e6-8ac7-1d670957ce03",
   "metadata": {},
   "outputs": [
    {
     "data": {
      "text/plain": [
       "(10000, 10)"
      ]
     },
     "execution_count": 109,
     "metadata": {},
     "output_type": "execute_result"
    }
   ],
   "source": [
    "a.shape"
   ]
  },
  {
   "cell_type": "code",
   "execution_count": 117,
   "id": "4b60930a-ea15-4027-a010-acc81082cffa",
   "metadata": {},
   "outputs": [
    {
     "data": {
      "text/plain": [
       "array([[ 0, 10,  1, ..., 18,  9, 19],\n",
       "       [ 0, 10,  1, ..., 18,  9, 19],\n",
       "       [ 0, 10,  1, ..., 18,  9, 19],\n",
       "       ...,\n",
       "       [ 0, 10,  1, ..., 18,  9, 19],\n",
       "       [ 0, 10,  1, ..., 18,  9, 19],\n",
       "       [ 0, 10,  1, ..., 18,  9, 19]])"
      ]
     },
     "execution_count": 117,
     "metadata": {},
     "output_type": "execute_result"
    }
   ],
   "source": [
    "a"
   ]
  },
  {
   "cell_type": "code",
   "execution_count": 112,
   "id": "2241b104-4fe6-4363-a475-56fd0143809e",
   "metadata": {},
   "outputs": [
    {
     "data": {
      "text/plain": [
       "(10000, 20)"
      ]
     },
     "execution_count": 112,
     "metadata": {},
     "output_type": "execute_result"
    }
   ],
   "source": [
    "dists_all.shape"
   ]
  },
  {
   "cell_type": "code",
   "execution_count": 83,
   "id": "b7b40572-3235-4ed2-8279-8f631dc8be03",
   "metadata": {},
   "outputs": [
    {
     "name": "stdout",
     "output_type": "stream",
     "text": [
      "CPU times: user 4.73 s, sys: 0 ns, total: 4.73 s\n",
      "Wall time: 9.74 s\n"
     ]
    }
   ],
   "source": [
    "%%time\n",
    "anns_all = []\n",
    "dists_all = []\n",
    "for predicted_cat in [predicted_categories[:, -1], predicted_categories[:, -2]]:\n",
    "    anns = np.zeros((queries.shape[0], k), dtype=np.uint32)\n",
    "    dists = np.zeros((queries.shape[0], k), dtype=np.float32)\n",
    "    for cat in np.unique(predicted_cat):\n",
    "        cat_idxs = np.where(predicted_cat == cat)[0]\n",
    "        bucket_obj_indexes = data_categories.query('category == @cat').index\n",
    "        seq_search_dists = pairwise_cosine(\n",
    "            queries[cat_idxs],\n",
    "            data.loc[bucket_obj_indexes]\n",
    "        )\n",
    "        ann_relative = seq_search_dists.argsort()[:, :k]\n",
    "        anns[cat_idxs] = np.array(bucket_obj_indexes)[ann_relative] + 1\n",
    "        dists[cat_idxs] = np.take_along_axis(seq_search_dists, ann_relative, axis=1)\n",
    "    anns_all.append(anns)\n",
    "    dists_all.append(dists)"
   ]
  },
  {
   "cell_type": "code",
   "execution_count": 84,
   "id": "7379e099-e62a-40cc-b667-06f1f752c12e",
   "metadata": {},
   "outputs": [
    {
     "data": {
      "text/plain": [
       "array([[79172, 22337,   231, ..., 69015, 92811, 99973],\n",
       "       [14347, 82848, 79302, ..., 54566, 34591, 11620],\n",
       "       [51954, 87690,  3444, ..., 72008, 63515, 34745],\n",
       "       ...,\n",
       "       [39741, 13601,  2327, ..., 63448, 95475, 71610],\n",
       "       [94650, 61708, 60539, ..., 54719, 15887, 59625],\n",
       "       [ 2453, 83964, 66428, ..., 31684, 98652, 41742]], dtype=uint32)"
      ]
     },
     "execution_count": 84,
     "metadata": {},
     "output_type": "execute_result"
    }
   ],
   "source": [
    "anns_all[0]"
   ]
  },
  {
   "cell_type": "code",
   "execution_count": 85,
   "id": "d43f3295-10ce-4594-82cb-a2d0eb96eedf",
   "metadata": {},
   "outputs": [
    {
     "data": {
      "text/plain": [
       "array([[15735, 20970, 15425, ..., 29033, 83588,  6911],\n",
       "       [84845, 78536, 45013, ..., 77697, 80630, 69875],\n",
       "       [68040, 95368, 80177, ...,  9314, 29894, 58073],\n",
       "       ...,\n",
       "       [50020, 50979, 72511, ..., 89497, 24958, 91729],\n",
       "       [14313, 98071, 34615, ..., 61491, 79170, 81986],\n",
       "       [24525, 46778, 80968, ..., 43029, 87329, 42695]], dtype=uint32)"
      ]
     },
     "execution_count": 85,
     "metadata": {},
     "output_type": "execute_result"
    }
   ],
   "source": [
    "anns_all[1]"
   ]
  },
  {
   "cell_type": "code",
   "execution_count": 86,
   "id": "4d55b5c8-3068-473a-b1d7-d187fef831a4",
   "metadata": {},
   "outputs": [
    {
     "data": {
      "text/plain": [
       "array([[0.27284035, 0.31319278, 0.319519  , ..., 0.3403605 , 0.3453628 ,\n",
       "        0.34960502],\n",
       "       [0.19747424, 0.21135962, 0.22881095, ..., 0.27025187, 0.2768707 ,\n",
       "        0.27826455],\n",
       "       [0.13460062, 0.14457192, 0.15563862, ..., 0.16689926, 0.16764964,\n",
       "        0.17818761],\n",
       "       ...,\n",
       "       [0.21224909, 0.2241371 , 0.232968  , ..., 0.24021728, 0.2431261 ,\n",
       "        0.2443094 ],\n",
       "       [0.34511334, 0.35073513, 0.36058566, ..., 0.37755504, 0.3786396 ,\n",
       "        0.38301477],\n",
       "       [0.30769375, 0.32123458, 0.32372558, ..., 0.34151778, 0.3454288 ,\n",
       "        0.3474231 ]], dtype=float32)"
      ]
     },
     "execution_count": 86,
     "metadata": {},
     "output_type": "execute_result"
    }
   ],
   "source": [
    "dists_all[0]"
   ]
  },
  {
   "cell_type": "code",
   "execution_count": 87,
   "id": "2b1a7a91-3341-465c-8a62-cfdb2069e6af",
   "metadata": {},
   "outputs": [
    {
     "data": {
      "text/plain": [
       "array([[0.306153  , 0.38185748, 0.39277422, ..., 0.4095242 , 0.412036  ,\n",
       "        0.41297266],\n",
       "       [0.299805  , 0.30436933, 0.3079004 , ..., 0.3407105 , 0.3536085 ,\n",
       "        0.37176004],\n",
       "       [0.17210594, 0.17590745, 0.17624122, ..., 0.21025163, 0.21637371,\n",
       "        0.22164102],\n",
       "       ...,\n",
       "       [0.3210537 , 0.35754788, 0.37685978, ..., 0.39077035, 0.39085406,\n",
       "        0.39089644],\n",
       "       [0.32610038, 0.33764818, 0.34348887, ..., 0.36065924, 0.36065924,\n",
       "        0.36065924],\n",
       "       [0.20044547, 0.29376504, 0.34105274, ..., 0.3425054 , 0.3425054 ,\n",
       "        0.3425054 ]], dtype=float32)"
      ]
     },
     "execution_count": 87,
     "metadata": {},
     "output_type": "execute_result"
    }
   ],
   "source": [
    "dists_all[1]"
   ]
  },
  {
   "cell_type": "code",
   "execution_count": 36,
   "id": "79bada3b-3b30-4dc3-892f-66204eb516d1",
   "metadata": {},
   "outputs": [
    {
     "data": {
      "text/plain": [
       "(100000, 1)"
      ]
     },
     "execution_count": 36,
     "metadata": {},
     "output_type": "execute_result"
    }
   ],
   "source": [
    "data_categories.shape"
   ]
  },
  {
   "cell_type": "code",
   "execution_count": 37,
   "id": "ff41480e-3e9b-4af7-8899-7b1e36bcb81e",
   "metadata": {},
   "outputs": [
    {
     "data": {
      "text/html": [
       "<div>\n",
       "<style scoped>\n",
       "    .dataframe tbody tr th:only-of-type {\n",
       "        vertical-align: middle;\n",
       "    }\n",
       "\n",
       "    .dataframe tbody tr th {\n",
       "        vertical-align: top;\n",
       "    }\n",
       "\n",
       "    .dataframe thead th {\n",
       "        text-align: right;\n",
       "    }\n",
       "</style>\n",
       "<table border=\"1\" class=\"dataframe\">\n",
       "  <thead>\n",
       "    <tr style=\"text-align: right;\">\n",
       "      <th></th>\n",
       "      <th>category</th>\n",
       "    </tr>\n",
       "  </thead>\n",
       "  <tbody>\n",
       "    <tr>\n",
       "      <th>0</th>\n",
       "      <td>1</td>\n",
       "    </tr>\n",
       "    <tr>\n",
       "      <th>1</th>\n",
       "      <td>85</td>\n",
       "    </tr>\n",
       "  </tbody>\n",
       "</table>\n",
       "</div>"
      ],
      "text/plain": [
       "   category\n",
       "0         1\n",
       "1        85"
      ]
     },
     "execution_count": 37,
     "metadata": {},
     "output_type": "execute_result"
    }
   ],
   "source": [
    "data_categories.head(2)"
   ]
  },
  {
   "cell_type": "code",
   "execution_count": 45,
   "id": "a7b575c1-c35d-4e9c-8af7-57e6e29bdffc",
   "metadata": {},
   "outputs": [
    {
     "data": {
      "text/plain": [
       "category    95\n",
       "Name: 84990, dtype: int64"
      ]
     },
     "execution_count": 45,
     "metadata": {},
     "output_type": "execute_result"
    }
   ],
   "source": [
    "data_categories.iloc[84991-1]"
   ]
  },
  {
   "cell_type": "code",
   "execution_count": 28,
   "id": "2e978655-e6f1-4359-8446-de33cb709101",
   "metadata": {},
   "outputs": [
    {
     "data": {
      "text/plain": [
       "array([[0.53772484, 0.59553683, 0.5918337 , ..., 0.62560013, 0.63789878,\n",
       "        0.5541769 ],\n",
       "       [0.41973521, 0.51362575, 0.72756897, ..., 0.64051346, 0.68542026,\n",
       "        0.49951072],\n",
       "       [0.54615992, 0.60047767, 0.57002357, ..., 0.6087055 , 0.6968379 ,\n",
       "        0.60658357],\n",
       "       ...,\n",
       "       [0.59972851, 0.61609018, 0.73336688, ..., 0.63054562, 0.66535502,\n",
       "        0.53874219],\n",
       "       [0.63197782, 0.69779297, 0.69259975, ..., 0.66826415, 0.74303128,\n",
       "        0.64715563],\n",
       "       [0.46578994, 0.57214831, 0.61152174, ..., 0.56146973, 0.61727093,\n",
       "        0.41274009]])"
      ]
     },
     "execution_count": 28,
     "metadata": {},
     "output_type": "execute_result"
    }
   ],
   "source": [
    "seq_search_dists"
   ]
  },
  {
   "cell_type": "code",
   "execution_count": 41,
   "id": "e726d93e-6106-456a-90e6-40195781541e",
   "metadata": {},
   "outputs": [],
   "source": [
    "anns = np.zeros((10_000, 10))"
   ]
  },
  {
   "cell_type": "code",
   "execution_count": 45,
   "id": "e682f97a-ac97-4520-8d03-13d971badb69",
   "metadata": {},
   "outputs": [],
   "source": [
    "k = 10"
   ]
  },
  {
   "cell_type": "code",
   "execution_count": 50,
   "id": "aa76fda2-fe02-496e-aadf-19e37a4e3eb1",
   "metadata": {},
   "outputs": [
    {
     "data": {
      "text/plain": [
       "array([  26,  147,  199,  223,  301,  332,  475,  485,  539,  551,  617,\n",
       "        619,  683,  779,  810,  829,  863,  891,  957,  977,  998, 1024,\n",
       "       1056, 1144, 1162, 1383, 1507, 1531, 1563, 1570, 1646, 1698, 1741,\n",
       "       1759, 1766, 1779, 1794, 1823, 1949, 1981, 2048, 2166, 2222, 2292,\n",
       "       2309, 2317, 2364, 2371, 2384, 2426, 2443, 2461, 2588, 2589, 2656,\n",
       "       2659, 2716, 2772, 2908, 2926, 2970, 2971, 2979, 3015, 3016, 3054,\n",
       "       3120, 3319, 3327, 3336, 3345, 3395, 3398, 3483, 3485, 3490, 3509,\n",
       "       3541, 3562, 3566, 3595, 3649, 3729, 3774, 3803, 3940, 3977, 4049,\n",
       "       4063, 4073, 4132, 4233, 4248, 4300, 4442, 4459, 4542, 4553, 4598,\n",
       "       4606, 4718, 4746, 4760, 4763, 4781, 4841, 4873, 4891, 4960, 4962,\n",
       "       5006, 5017, 5029, 5032, 5071, 5084, 5212, 5294, 5323, 5361, 5373,\n",
       "       5428, 5509, 5538, 5542, 5599, 5760, 5812, 5938, 6108, 6188, 6195,\n",
       "       6349, 6351, 6371, 6569, 6587, 6589, 6615, 6671, 6785, 6919, 6920,\n",
       "       6925, 6929, 6938, 6947, 6952, 7001, 7002, 7017, 7053, 7112, 7152,\n",
       "       7242, 7243, 7255, 7275, 7277, 7296, 7377, 7378, 7424, 7467, 7477,\n",
       "       7503, 7675, 7746, 7777, 7783, 7826, 7957, 7991, 8035, 8073, 8079,\n",
       "       8118, 8126, 8237, 8362, 8384, 8389, 8410, 8489, 8496, 8500, 8537,\n",
       "       8548, 8603, 8612, 8642, 8687, 8688, 8696, 8720, 8725, 8765, 8824,\n",
       "       8842, 8891, 8906, 8920, 9004, 9014, 9031, 9040, 9091, 9146, 9152,\n",
       "       9163, 9184, 9214, 9229, 9264, 9366, 9395, 9402, 9459, 9480, 9532,\n",
       "       9579, 9611, 9618, 9636, 9676, 9686, 9687, 9711, 9718, 9723, 9748,\n",
       "       9756, 9822, 9851, 9929, 9998])"
      ]
     },
     "execution_count": 50,
     "metadata": {},
     "output_type": "execute_result"
    }
   ],
   "source": [
    "cat_idxs[0]"
   ]
  },
  {
   "cell_type": "code",
   "execution_count": 62,
   "id": "21bf087c-e7d7-4786-a860-a7e5df7c6671",
   "metadata": {},
   "outputs": [
    {
     "data": {
      "text/plain": [
       "(236, 10)"
      ]
     },
     "execution_count": 62,
     "metadata": {},
     "output_type": "execute_result"
    }
   ],
   "source": [
    "ann.shape"
   ]
  },
  {
   "cell_type": "code",
   "execution_count": 67,
   "id": "ca873a29-34ad-407c-b1fa-01bad59112f7",
   "metadata": {},
   "outputs": [
    {
     "data": {
      "text/plain": [
       "(236, 2202)"
      ]
     },
     "execution_count": 67,
     "metadata": {},
     "output_type": "execute_result"
    }
   ],
   "source": [
    "seq_search_dists.shape"
   ]
  },
  {
   "cell_type": "code",
   "execution_count": 72,
   "id": "c3f42db4-930c-446a-802d-fdc269122c8e",
   "metadata": {},
   "outputs": [
    {
     "ename": "IndexError",
     "evalue": "index 1776 is out of bounds for axis 0 with size 236",
     "output_type": "error",
     "traceback": [
      "\u001b[0;31m---------------------------------------------------------------------------\u001b[0m",
      "\u001b[0;31mIndexError\u001b[0m                                Traceback (most recent call last)",
      "\u001b[0;32m<ipython-input-72-f3536dc46d90>\u001b[0m in \u001b[0;36m<module>\u001b[0;34m\u001b[0m\n\u001b[0;32m----> 1\u001b[0;31m \u001b[0mseq_search_dists\u001b[0m\u001b[0;34m[\u001b[0m\u001b[0mann\u001b[0m\u001b[0;34m]\u001b[0m\u001b[0;34m\u001b[0m\u001b[0m\n\u001b[0m",
      "\u001b[0;31mIndexError\u001b[0m: index 1776 is out of bounds for axis 0 with size 236"
     ]
    }
   ],
   "source": [
    "seq_search_dists[ann]"
   ]
  },
  {
   "cell_type": "code",
   "execution_count": 70,
   "id": "e32f1777-6d1b-406a-b555-47f709181d9a",
   "metadata": {},
   "outputs": [
    {
     "data": {
      "text/plain": [
       "(236, 10)"
      ]
     },
     "execution_count": 70,
     "metadata": {},
     "output_type": "execute_result"
    }
   ],
   "source": [
    "ann.shape"
   ]
  },
  {
   "cell_type": "code",
   "execution_count": 76,
   "id": "c1281014-d852-4094-938b-e83503262e0d",
   "metadata": {},
   "outputs": [
    {
     "data": {
      "text/plain": [
       "(236, 10)"
      ]
     },
     "execution_count": 76,
     "metadata": {},
     "output_type": "execute_result"
    }
   ],
   "source": [
    "np.take_along_axis(seq_search_dists, ann, axis=1).shape"
   ]
  },
  {
   "cell_type": "code",
   "execution_count": null,
   "id": "9bf0a03c-d827-44b5-ba5a-d5bbc7342bbc",
   "metadata": {},
   "outputs": [],
   "source": [
    "%%time\n",
    "data_categories = pd.DataFrame(\n",
    "    model.predict(data),\n",
    "    index=data.index,\n",
    "    columns=['category']\n",
    ")\n",
    "predicted_categories = np.argmax(model.predict_proba(queries), axis=1)\n",
    "anns = np.zeros((queries.shape[0], k), dtype=np.uint32)\n",
    "dists = np.zeros((queries.shape[0], k), dtype=np.float32)\n",
    "for cat in np.unique(predicted_categories):\n",
    "    cat_idxs = np.where(predicted_categories == cat)[0]\n",
    "    bucket_obj_indexes = data_categories.query('category == @cat').index\n",
    "    seq_search_dists = pairwise_cosine(queries[cat_idxs], data.loc[bucket_obj_indexes])\n",
    "    ann = seq_search_dists.argsort()[:, :k]\n",
    "    anns[cat_idxs] = ann + 1\n",
    "    dists[cat_idxs] = np.take_along_axis(seq_search_dists, ann, axis=1)"
   ]
  },
  {
   "cell_type": "code",
   "execution_count": null,
   "id": "201c8482-3387-4e33-94cc-76a1edaac0e2",
   "metadata": {},
   "outputs": [],
   "source": [
    "anns"
   ]
  },
  {
   "cell_type": "code",
   "execution_count": 42,
   "id": "3e09cd1e-d5f4-407d-97e4-37954181a358",
   "metadata": {},
   "outputs": [
    {
     "data": {
      "text/plain": [
       "array([[0., 0., 0., 0., 0., 0., 0., 0., 0., 0.],\n",
       "       [0., 0., 0., 0., 0., 0., 0., 0., 0., 0.],\n",
       "       [0., 0., 0., 0., 0., 0., 0., 0., 0., 0.]])"
      ]
     },
     "execution_count": 42,
     "metadata": {},
     "output_type": "execute_result"
    }
   ],
   "source": [
    "anns[np.array([0, 2, 3])]"
   ]
  },
  {
   "cell_type": "code",
   "execution_count": null,
   "id": "f9413f3b-b8ef-4659-87ee-54196fc19bb3",
   "metadata": {},
   "outputs": [],
   "source": [
    "for pred_cat"
   ]
  },
  {
   "cell_type": "code",
   "execution_count": 37,
   "id": "f9e38238-4c9a-4165-b70e-81ce59cc8f43",
   "metadata": {},
   "outputs": [
    {
     "data": {
      "text/plain": [
       "(array([  26,  147,  199,  223,  301,  332,  475,  485,  539,  551,  617,\n",
       "         619,  683,  779,  810,  829,  863,  891,  957,  977,  998, 1024,\n",
       "        1056, 1144, 1162, 1383, 1507, 1531, 1563, 1570, 1646, 1698, 1741,\n",
       "        1759, 1766, 1779, 1794, 1823, 1949, 1981, 2048, 2166, 2222, 2292,\n",
       "        2309, 2317, 2364, 2371, 2384, 2426, 2443, 2461, 2588, 2589, 2656,\n",
       "        2659, 2716, 2772, 2908, 2926, 2970, 2971, 2979, 3015, 3016, 3054,\n",
       "        3120, 3319, 3327, 3336, 3345, 3395, 3398, 3483, 3485, 3490, 3509,\n",
       "        3541, 3562, 3566, 3595, 3649, 3729, 3774, 3803, 3940, 3977, 4049,\n",
       "        4063, 4073, 4132, 4233, 4248, 4300, 4442, 4459, 4542, 4553, 4598,\n",
       "        4606, 4718, 4746, 4760, 4763, 4781, 4841, 4873, 4891, 4960, 4962,\n",
       "        5006, 5017, 5029, 5032, 5071, 5084, 5212, 5294, 5323, 5361, 5373,\n",
       "        5428, 5509, 5538, 5542, 5599, 5760, 5812, 5938, 6108, 6188, 6195,\n",
       "        6349, 6351, 6371, 6569, 6587, 6589, 6615, 6671, 6785, 6919, 6920,\n",
       "        6925, 6929, 6938, 6947, 6952, 7001, 7002, 7017, 7053, 7112, 7152,\n",
       "        7242, 7243, 7255, 7275, 7277, 7296, 7377, 7378, 7424, 7467, 7477,\n",
       "        7503, 7675, 7746, 7777, 7783, 7826, 7957, 7991, 8035, 8073, 8079,\n",
       "        8118, 8126, 8237, 8362, 8384, 8389, 8410, 8489, 8496, 8500, 8537,\n",
       "        8548, 8603, 8612, 8642, 8687, 8688, 8696, 8720, 8725, 8765, 8824,\n",
       "        8842, 8891, 8906, 8920, 9004, 9014, 9031, 9040, 9091, 9146, 9152,\n",
       "        9163, 9184, 9214, 9229, 9264, 9366, 9395, 9402, 9459, 9480, 9532,\n",
       "        9579, 9611, 9618, 9636, 9676, 9686, 9687, 9711, 9718, 9723, 9748,\n",
       "        9756, 9822, 9851, 9929, 9998]),)"
      ]
     },
     "execution_count": 37,
     "metadata": {},
     "output_type": "execute_result"
    }
   ],
   "source": [
    "predicted_categories[np.where(predicted_categories == 0)]"
   ]
  },
  {
   "cell_type": "code",
   "execution_count": 36,
   "id": "64cc2411-91cb-44f4-96e6-d291a9cbd853",
   "metadata": {},
   "outputs": [
    {
     "data": {
      "text/plain": [
       "(array([ 0,  1,  2,  3,  4,  5,  6,  7,  8,  9, 10, 11, 12, 13, 14, 15, 16,\n",
       "        17, 18, 19, 20, 21, 22, 23, 24, 25, 26, 27, 28, 29, 30, 31, 32, 33,\n",
       "        34, 35, 36, 37, 38, 39, 40, 41, 42, 43, 44, 45, 46, 47, 48, 49, 50,\n",
       "        51, 52, 53, 54, 55, 56, 57, 58, 59, 60, 61, 62, 63, 64, 65, 66, 67,\n",
       "        68, 69, 70, 71, 72, 73, 74, 75, 76, 77, 78, 79, 80, 81, 82, 83, 84,\n",
       "        85, 86, 87, 88, 89, 90, 91, 92, 93, 94, 95, 96, 97, 98, 99]),\n",
       " array([  26,  185,   57,   87,  359,   48,  353,  315,  200,  282,   25,\n",
       "          36,  721,   82,   77,  183,  369,  227,  172,  197,   16,  271,\n",
       "         263,  198,  739,  157,    1,   15,  104, 1171,  226,   20,    2,\n",
       "         106,   76,   35,   56,  243,   23,   32,   17,   31,   84,  382,\n",
       "           6,   44,   83,   13,   96,  135,   22,   27,    5,  338,    0,\n",
       "         204,   41,   51,    3,   89,   95,   37,  160,  133,   98,   42,\n",
       "         360,  176,   65,    8,    7,   29,  308,  320,  114,  131,   12,\n",
       "          40,  298,   59,   19,  128,   10,  130,   54,  189,   52,   21,\n",
       "         280,  123,  124,  181,   50,   30,   14,   61,  325,   64,  287,\n",
       "          63]))"
      ]
     },
     "execution_count": 36,
     "metadata": {},
     "output_type": "execute_result"
    }
   ],
   "source": [
    "categories, indexnp.unique(predicted_categories, return_index=True)#.shape"
   ]
  },
  {
   "cell_type": "code",
   "execution_count": 31,
   "id": "d9344ea1-8583-4620-9f1b-75e29cc163c8",
   "metadata": {},
   "outputs": [],
   "source": [
    "#predicted_categories = np.argmax(model.predict_proba(queries), axis=1)\n",
    "bucket_obj_indexes = data_categories.query('category ==(@predicted_categories)').index"
   ]
  },
  {
   "cell_type": "code",
   "execution_count": 32,
   "id": "89dad4b9-4fd4-4f70-8010-9ce37654f8e2",
   "metadata": {},
   "outputs": [
    {
     "data": {
      "text/plain": [
       "Int64Index([    0,     1,     2,     3,     4,     5,     6,     7,     8,\n",
       "                9,\n",
       "            ...\n",
       "            99990, 99991, 99992, 99993, 99994, 99995, 99996, 99997, 99998,\n",
       "            99999],\n",
       "           dtype='int64', length=100000)"
      ]
     },
     "execution_count": 32,
     "metadata": {},
     "output_type": "execute_result"
    }
   ],
   "source": [
    "bucket_obj_indexes"
   ]
  },
  {
   "cell_type": "code",
   "execution_count": null,
   "id": "89faf5ca-9a63-4413-b8c6-c6c0bee81bc1",
   "metadata": {},
   "outputs": [],
   "source": [
    "%%time\n",
    "\n",
    "recalls = []\n",
    "\n",
    "# stop cond: single bucket\n",
    "# time to evaluate 10k queries:\n",
    "# mean recall: 0.5\n",
    "def search_single_bucket_all_queries(queries, k=10):\n",
    "    predicted_category = np.argmax(model.predict_proba(queries))\n",
    "    bucket_obj_indexes = data_categories.query('category == @predicted_category').index\n",
    "    bucket_df = data.loc[bucket_obj_indexes]\n",
    "    final_dists = pairwise_cosine(query, bucket_df)[0]\n",
    "    final_gts = final_dists.argsort()[:k]\n",
    "    anns = bucket_df.iloc[final_gts].index + 1\n",
    "    return evaluate_recall(anns, pd.Index(gt_knns.iloc[query_idx, :10].values))\n",
    "\n",
    "for q_idx in tqdm(range(queries.shape[0])):\n",
    "    recalls.append(search_single_bucket(q_idx))"
   ]
  },
  {
   "cell_type": "code",
   "execution_count": 21,
   "id": "b9b5ebab-cfc3-4644-9dc0-a5eddac5acbe",
   "metadata": {},
   "outputs": [
    {
     "name": "stderr",
     "output_type": "stream",
     "text": [
      "100%|██████████| 10000/10000 [03:47<00:00, 44.01it/s]"
     ]
    },
    {
     "name": "stdout",
     "output_type": "stream",
     "text": [
      "CPU times: user 3min 40s, sys: 361 ms, total: 3min 40s\n",
      "Wall time: 3min 47s\n"
     ]
    },
    {
     "name": "stderr",
     "output_type": "stream",
     "text": [
      "\n"
     ]
    }
   ],
   "source": [
    "%%time\n",
    "\n",
    "recalls = []\n",
    "\n",
    "# stop cond: single bucket\n",
    "# time to evaluate 10k queries:\n",
    "# mean recall: 0.5\n",
    "def search_single_bucket(query_idx, k=10):\n",
    "    query = queries.iloc[[query_idx]]\n",
    "    predicted_category = np.argmax(model.predict_proba(query))\n",
    "    bucket_obj_indexes = data_categories.query('category == @predicted_category').index\n",
    "    bucket_df = data.loc[bucket_obj_indexes]\n",
    "    final_dists = pairwise_cosine(query, bucket_df)[0]\n",
    "    final_gts = final_dists.argsort()[:k]\n",
    "    anns = bucket_df.iloc[final_gts].index + 1\n",
    "    return evaluate_recall(anns, pd.Index(gt_knns.iloc[query_idx, :10].values))\n",
    "\n",
    "for q_idx in tqdm(range(queries.shape[0])):\n",
    "    recalls.append(search_single_bucket(q_idx))"
   ]
  },
  {
   "cell_type": "code",
   "execution_count": null,
   "id": "8344ee6d-a29d-4b43-9b06-1abefd4f602f",
   "metadata": {},
   "outputs": [],
   "source": [
    "## Time: 0.0137s/query"
   ]
  },
  {
   "cell_type": "code",
   "execution_count": 22,
   "id": "ed7a9a6b-a09e-455a-9cc9-e5bd128c8c1e",
   "metadata": {},
   "outputs": [
    {
     "data": {
      "text/plain": [
       "0.47175"
      ]
     },
     "execution_count": 22,
     "metadata": {},
     "output_type": "execute_result"
    }
   ],
   "source": [
    "np.mean(recalls)"
   ]
  },
  {
   "cell_type": "markdown",
   "id": "44e34649-c978-45c2-ae80-cb7b2087ea36",
   "metadata": {},
   "source": [
    "### Search stop cond: n buckets\n",
    "#### n = 5"
   ]
  },
  {
   "cell_type": "code",
   "execution_count": 29,
   "id": "749f07e9-0db4-4e98-92f0-6864b4be8667",
   "metadata": {},
   "outputs": [
    {
     "name": "stderr",
     "output_type": "stream",
     "text": [
      "100%|██████████| 10000/10000 [17:58<00:00,  9.27it/s]"
     ]
    },
    {
     "name": "stdout",
     "output_type": "stream",
     "text": [
      "CPU times: user 17min 28s, sys: 2.29 s, total: 17min 30s\n",
      "Wall time: 17min 58s\n"
     ]
    },
    {
     "name": "stderr",
     "output_type": "stream",
     "text": [
      "\n"
     ]
    }
   ],
   "source": [
    "%%time\n",
    "\n",
    "recalls_n = []\n",
    "\n",
    "# stop cond: single bucket\n",
    "# time to evaluate 10k queries:\n",
    "# mean recall: 0.5\n",
    "def search_n_buckets(query_idx, n, k=10):\n",
    "    query = queries.iloc[[query_idx]]\n",
    "    predicted_categories = model.predict_proba(query)[0].argsort()[::-1][:n]\n",
    "    bucket_df = pd.DataFrame([])\n",
    "    for predicted_category in predicted_categories:\n",
    "        bucket_obj_indexes = data_categories.query('category == @predicted_category').index\n",
    "        bucket_df = pd.concat([bucket_df, data.loc[bucket_obj_indexes]])\n",
    "    final_dists = pairwise_cosine(query, bucket_df)[0]\n",
    "    final_gts = final_dists.argsort()[:k]\n",
    "    anns = bucket_df.iloc[final_gts].index + 1\n",
    "    return evaluate_recall(anns, pd.Index(gt_knns.iloc[query_idx, :10].values))\n",
    "\n",
    "for q_idx in tqdm(range(queries.shape[0])):\n",
    "    recalls_n.append(search_n_buckets(q_idx, 5))"
   ]
  },
  {
   "cell_type": "code",
   "execution_count": 30,
   "id": "caecc927-7949-4baa-bde3-e51c7a75e83e",
   "metadata": {},
   "outputs": [
    {
     "data": {
      "text/plain": [
       "0.81451"
      ]
     },
     "execution_count": 30,
     "metadata": {},
     "output_type": "execute_result"
    }
   ],
   "source": [
    "np.mean(recalls_n)"
   ]
  },
  {
   "cell_type": "code",
   "execution_count": null,
   "id": "0007fa1d-3f09-4fa6-b0a2-a643318d6927",
   "metadata": {},
   "outputs": [],
   "source": [
    "# time: 0.108/query"
   ]
  },
  {
   "cell_type": "code",
   "execution_count": null,
   "id": "ef492ad1-93d9-487e-b0cf-169eafc82973",
   "metadata": {},
   "outputs": [
    {
     "name": "stderr",
     "output_type": "stream",
     "text": [
      " 55%|█████▌    | 5523/10000 [22:09<16:49,  4.43it/s]"
     ]
    }
   ],
   "source": [
    "%%time\n",
    "\n",
    "recalls_n2 = []\n",
    "for q_idx in tqdm(range(queries.shape[0])):\n",
    "    recalls_n2.append(search_n_buckets(q_idx, 10))\n",
    "np.mean(recalls_n2)"
   ]
  },
  {
   "cell_type": "code",
   "execution_count": null,
   "id": "d00be0ae-db47-47d3-bb4c-f6b86c19786c",
   "metadata": {},
   "outputs": [],
   "source": [
    "# time: 0.108/query"
   ]
  },
  {
   "cell_type": "code",
   "execution_count": 64,
   "id": "d9991ebd-f9a4-46dd-ad7a-137b7bd163e4",
   "metadata": {},
   "outputs": [],
   "source": [
    "k = 10"
   ]
  },
  {
   "cell_type": "code",
   "execution_count": 66,
   "id": "bb35d0cf-8707-4c34-a478-7bd01babd589",
   "metadata": {},
   "outputs": [],
   "source": [
    "anns = np.zeros((queries.shape[0], k), dtype=np.uint32)\n",
    "dists = np.zeros((queries.shape[0], k), dtype=np.float32)\n",
    "data_categories = pd.DataFrame(\n",
    "    model.predict(data),\n",
    "    index=data.index,\n",
    "    columns=['category']\n",
    ")"
   ]
  },
  {
   "cell_type": "code",
   "execution_count": 67,
   "id": "f001be53-78b5-4b28-97fe-79778d4e8df3",
   "metadata": {},
   "outputs": [
    {
     "data": {
      "text/plain": [
       "(10000, 100)"
      ]
     },
     "execution_count": 67,
     "metadata": {},
     "output_type": "execute_result"
    }
   ],
   "source": [
    "predicted_categories = np.argsort(model.predict_proba(queries), axis=1)\n",
    "predicted_categories.shape"
   ]
  },
  {
   "cell_type": "code",
   "execution_count": 71,
   "id": "a85a6079-db7a-4441-8d79-ae5b8a1d2886",
   "metadata": {},
   "outputs": [
    {
     "data": {
      "text/plain": [
       "array([54, 26, 32, ..., 70,  0, 31])"
      ]
     },
     "execution_count": 71,
     "metadata": {},
     "output_type": "execute_result"
    }
   ],
   "source": [
    "predicted_categories[:, -1]"
   ]
  },
  {
   "cell_type": "code",
   "execution_count": 72,
   "id": "385d8a1b-d97c-4b63-9e91-a96c1ae2de8d",
   "metadata": {},
   "outputs": [
    {
     "data": {
      "text/plain": [
       "array([ 0,  1,  2,  3,  4,  5,  6,  7,  8,  9, 10, 11, 12, 13, 14, 15, 16,\n",
       "       17, 18, 19, 20, 21, 22, 23, 24, 25, 26, 27, 28, 29, 30, 31, 32, 33,\n",
       "       34, 35, 36, 37, 38, 39, 40, 41, 42, 43, 44, 45, 46, 47, 48, 49, 50,\n",
       "       51, 52, 53, 54, 55, 56, 57, 58, 59, 60, 61, 62, 63, 64, 65, 66, 67,\n",
       "       68, 69, 70, 71, 72, 73, 74, 75, 76, 77, 78, 79, 80, 81, 82, 83, 84,\n",
       "       85, 86, 87, 88, 89, 90, 91, 92, 93, 94, 95, 96, 97, 98, 99])"
      ]
     },
     "execution_count": 72,
     "metadata": {},
     "output_type": "execute_result"
    }
   ],
   "source": [
    "np.unique(predicted_categories[:, -1])"
   ]
  }
 ],
 "metadata": {
  "kernelspec": {
   "display_name": "Python 3",
   "language": "python",
   "name": "python3"
  },
  "language_info": {
   "codemirror_mode": {
    "name": "ipython",
    "version": 3
   },
   "file_extension": ".py",
   "mimetype": "text/x-python",
   "name": "python",
   "nbconvert_exporter": "python",
   "pygments_lexer": "ipython3",
   "version": "3.6.2"
  }
 },
 "nbformat": 4,
 "nbformat_minor": 5
}
