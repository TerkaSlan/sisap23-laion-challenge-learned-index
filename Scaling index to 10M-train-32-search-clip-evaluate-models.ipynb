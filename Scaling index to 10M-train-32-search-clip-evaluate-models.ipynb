{
 "cells": [
  {
   "cell_type": "code",
   "execution_count": 1,
   "id": "f2cdb38d-1cd3-4dcc-8a60-2ec8e6f05ace",
   "metadata": {},
   "outputs": [],
   "source": [
    "%reload_ext autoreload\n",
    "%autoreload 2"
   ]
  },
  {
   "cell_type": "code",
   "execution_count": 2,
   "id": "33bb801b-9571-45d9-8de2-cb8bdf971c8c",
   "metadata": {},
   "outputs": [
    {
     "name": "stdout",
     "output_type": "stream",
     "text": [
      "CPU times: user 1.25 ms, sys: 174 ms, total: 175 ms\n",
      "Wall time: 200 ms\n"
     ]
    }
   ],
   "source": [
    "import h5py\n",
    "data_path = 'data/pca32v2/10M/dataset.h5'\n",
    "%time f = h5py.File(data_path, 'r')"
   ]
  },
  {
   "cell_type": "code",
   "execution_count": 3,
   "id": "f9d370de-5925-4326-9743-03dc399e2df3",
   "metadata": {},
   "outputs": [
    {
     "name": "stdout",
     "output_type": "stream",
     "text": [
      "CPU times: user 3.29 ms, sys: 1.52 s, total: 1.52 s\n",
      "Wall time: 11.4 s\n"
     ]
    }
   ],
   "source": [
    "%time loaded_data = f['pca32'][:, :]"
   ]
  },
  {
   "cell_type": "code",
   "execution_count": 17,
   "id": "cb635462-203f-45fd-8265-475ac6494ad0",
   "metadata": {},
   "outputs": [],
   "source": [
    "import pandas as pd\n",
    "data = pd.DataFrame(loaded_data)\n",
    "data.index += 1\n",
    "#data_s = data.sample(5_000_000, random_state=2023)"
   ]
  },
  {
   "cell_type": "markdown",
   "id": "313af20e-7ac3-4002-afc9-9b72773b5652",
   "metadata": {
    "tags": []
   },
   "source": [
    "## Goal:\n",
    "1) load data for training (1000*1000 objects)\n",
    "2) train, predict on train, dispose of the training data (keep ids)\n",
    "3) load data for predict (rest 9M objects)\n",
    "4) predict, dispose of the data (keep ids)\n",
    "5) on search, load the data in the visited bucket again (10k objects on avg), compute distances"
   ]
  },
  {
   "cell_type": "code",
   "execution_count": 4,
   "id": "644fb08e-b834-4724-b95b-e88eb41109af",
   "metadata": {},
   "outputs": [],
   "source": [
    "import pickle"
   ]
  },
  {
   "cell_type": "code",
   "execution_count": 6,
   "id": "d5747bcd-5100-47b3-a4f7-034fa15ad8fa",
   "metadata": {},
   "outputs": [],
   "source": [
    "with open('../models/clip768v2-emb-10M-50-0.3-50-0.1-Bigger.pkl.pkl', 'rb') as f:\n",
    "    blmi = pickle.load(f)"
   ]
  },
  {
   "cell_type": "code",
   "execution_count": 8,
   "id": "d3590527-c9c5-4abb-8c72-ab2091ad9088",
   "metadata": {},
   "outputs": [
    {
     "data": {
      "text/html": [
       "<div>\n",
       "<style scoped>\n",
       "    .dataframe tbody tr th:only-of-type {\n",
       "        vertical-align: middle;\n",
       "    }\n",
       "\n",
       "    .dataframe tbody tr th {\n",
       "        vertical-align: top;\n",
       "    }\n",
       "\n",
       "    .dataframe thead th {\n",
       "        text-align: right;\n",
       "    }\n",
       "</style>\n",
       "<table border=\"1\" class=\"dataframe\">\n",
       "  <thead>\n",
       "    <tr style=\"text-align: right;\">\n",
       "      <th></th>\n",
       "      <th>type</th>\n",
       "      <th>children</th>\n",
       "    </tr>\n",
       "    <tr>\n",
       "      <th>key</th>\n",
       "      <th></th>\n",
       "      <th></th>\n",
       "    </tr>\n",
       "  </thead>\n",
       "  <tbody>\n",
       "    <tr>\n",
       "      <th>(0,)</th>\n",
       "      <td>InnerNode</td>\n",
       "      <td>50</td>\n",
       "    </tr>\n",
       "    <tr>\n",
       "      <th>(0, 0)</th>\n",
       "      <td>InnerNode</td>\n",
       "      <td>50</td>\n",
       "    </tr>\n",
       "    <tr>\n",
       "      <th>(0, 0, 0)</th>\n",
       "      <td>LeafNode</td>\n",
       "      <td>4162</td>\n",
       "    </tr>\n",
       "    <tr>\n",
       "      <th>(0, 0, 1)</th>\n",
       "      <td>LeafNode</td>\n",
       "      <td>3681</td>\n",
       "    </tr>\n",
       "    <tr>\n",
       "      <th>(0, 0, 2)</th>\n",
       "      <td>LeafNode</td>\n",
       "      <td>3628</td>\n",
       "    </tr>\n",
       "    <tr>\n",
       "      <th>...</th>\n",
       "      <td>...</td>\n",
       "      <td>...</td>\n",
       "    </tr>\n",
       "    <tr>\n",
       "      <th>(0, 49, 45)</th>\n",
       "      <td>LeafNode</td>\n",
       "      <td>7460</td>\n",
       "    </tr>\n",
       "    <tr>\n",
       "      <th>(0, 49, 46)</th>\n",
       "      <td>LeafNode</td>\n",
       "      <td>2775</td>\n",
       "    </tr>\n",
       "    <tr>\n",
       "      <th>(0, 49, 47)</th>\n",
       "      <td>LeafNode</td>\n",
       "      <td>5881</td>\n",
       "    </tr>\n",
       "    <tr>\n",
       "      <th>(0, 49, 48)</th>\n",
       "      <td>LeafNode</td>\n",
       "      <td>6076</td>\n",
       "    </tr>\n",
       "    <tr>\n",
       "      <th>(0, 49, 49)</th>\n",
       "      <td>LeafNode</td>\n",
       "      <td>10295</td>\n",
       "    </tr>\n",
       "  </tbody>\n",
       "</table>\n",
       "<p>2551 rows × 2 columns</p>\n",
       "</div>"
      ],
      "text/plain": [
       "                  type children\n",
       "key                            \n",
       "(0,)         InnerNode       50\n",
       "(0, 0)       InnerNode       50\n",
       "(0, 0, 0)     LeafNode     4162\n",
       "(0, 0, 1)     LeafNode     3681\n",
       "(0, 0, 2)     LeafNode     3628\n",
       "...                ...      ...\n",
       "(0, 49, 45)   LeafNode     7460\n",
       "(0, 49, 46)   LeafNode     2775\n",
       "(0, 49, 47)   LeafNode     5881\n",
       "(0, 49, 48)   LeafNode     6076\n",
       "(0, 49, 49)   LeafNode    10295\n",
       "\n",
       "[2551 rows x 2 columns]"
      ]
     },
     "execution_count": 8,
     "metadata": {},
     "output_type": "execute_result"
    }
   ],
   "source": [
    "blmi.dump_structure()"
   ]
  },
  {
   "cell_type": "code",
   "execution_count": 7,
   "id": "b63f7652-5362-4be7-a42b-a5335c2438f8",
   "metadata": {},
   "outputs": [],
   "source": [
    "import logging\n",
    "logging.basicConfig(\n",
    "    level=logging.INFO,\n",
    "    format='[%(asctime)s][%(levelname)-5.5s][%(name)-.20s] %(message)s'\n",
    ")\n",
    "LOG = logging.getLogger(__name__)\n"
   ]
  },
  {
   "cell_type": "code",
   "execution_count": 12,
   "id": "d6e5b1e5-ae5e-40f7-87cb-7d233aaaad48",
   "metadata": {},
   "outputs": [],
   "source": [
    "#clf = LogisticRegression(random_state=0).fit(X, y)"
   ]
  },
  {
   "cell_type": "code",
   "execution_count": 9,
   "id": "0abf394e-ef1e-4fcc-ad2a-f0b4100a0299",
   "metadata": {},
   "outputs": [],
   "source": [
    "base_path = 'data/clip768v2/10M/'\n",
    "base_path = 'data/pca32v2/10M/'"
   ]
  },
  {
   "cell_type": "code",
   "execution_count": 10,
   "id": "67f801b8-b06d-4792-be91-7aa46bd8ed74",
   "metadata": {},
   "outputs": [
    {
     "name": "stdout",
     "output_type": "stream",
     "text": [
      "CPU times: user 3.55 ms, sys: 1.52 ms, total: 5.06 ms\n",
      "Wall time: 20.7 ms\n"
     ]
    }
   ],
   "source": [
    "%%time\n",
    "queries_path = f'{base_path}/query.h5'\n",
    "f2 = h5py.File(queries_path, 'r')\n",
    "#loaded_queries = f2['emb'][:, :]\n",
    "loaded_queries = f2['pca32'][:, :]"
   ]
  },
  {
   "cell_type": "code",
   "execution_count": null,
   "id": "6561e240-770b-4f68-89f4-8152afc04628",
   "metadata": {},
   "outputs": [],
   "source": []
  },
  {
   "cell_type": "code",
   "execution_count": 11,
   "id": "b2895d5a-b7c6-4102-b128-daf4a963e7da",
   "metadata": {},
   "outputs": [
    {
     "name": "stdout",
     "output_type": "stream",
     "text": [
      "CPU times: user 8.16 ms, sys: 53 µs, total: 8.22 ms\n",
      "Wall time: 70.5 ms\n"
     ]
    }
   ],
   "source": [
    "%%time\n",
    "gt_path = f'data/groundtruth-10M.h5'\n",
    "f3 = h5py.File(gt_path, 'r')\n",
    "loaded_gt = f3['knns'][:, :]"
   ]
  },
  {
   "cell_type": "code",
   "execution_count": 12,
   "id": "1f3d2c1f-eed1-48fc-b47b-1b35c75ba3ff",
   "metadata": {},
   "outputs": [],
   "source": [
    "from tqdm import tqdm\n",
    "from li.utils import pairwise_cosine\n"
   ]
  },
  {
   "cell_type": "code",
   "execution_count": 13,
   "id": "e6b8597a-b253-4c6e-8ce9-23516a4d3e66",
   "metadata": {},
   "outputs": [],
   "source": [
    "def increase_max_recursion_limit():\n",
    "    \"\"\" Increases the maximum recursion limit.\n",
    "    Source: https://stackoverflow.com/a/16248113\n",
    "    \"\"\"\n",
    "    import sys\n",
    "    import resource\n",
    "    resource.setrlimit(resource.RLIMIT_STACK, (2**29, -1))\n",
    "    sys.setrecursionlimit(10**6)\n",
    "increase_max_recursion_limit()"
   ]
  },
  {
   "cell_type": "code",
   "execution_count": 18,
   "id": "b93171d6-a9b6-40e0-886c-4fe7ac3b2f94",
   "metadata": {},
   "outputs": [
    {
     "name": "stderr",
     "output_type": "stream",
     "text": [
      "0it [00:00, ?it/s]"
     ]
    },
    {
     "name": "stdout",
     "output_type": "stream",
     "text": [
      "CPU times: user 515 ms, sys: 141 ms, total: 656 ms\n",
      "Wall time: 819 ms\n"
     ]
    },
    {
     "name": "stderr",
     "output_type": "stream",
     "text": [
      "\n"
     ]
    }
   ],
   "source": [
    "%%time\n",
    "res_all = []\n",
    "for i, query in tqdm(enumerate(loaded_queries)):\n",
    "    pred_leaf_nodes = blmi.search(query, stop_condition=1_000_000)[0]\n",
    "    object_ids = []\n",
    "    for pred_leaf_node in pred_leaf_nodes:\n",
    "        leaf_node = blmi.nodes.get(pred_leaf_node)\n",
    "        if leaf_node is not None:\n",
    "            object_ids.extend(leaf_node.object_ids)\n",
    "\n",
    "    #bucket_ids = [[i, mapping[bucket]] for bucket in blmi.search(query, stop_condition=500)[0]]\n",
    "    dists = pairwise_cosine([query], data.loc[object_ids])\n",
    "    break\n",
    "    res_all.extend(bucket_ids)"
   ]
  },
  {
   "cell_type": "code",
   "execution_count": 19,
   "id": "078ed641-ed2f-4b92-a86b-a1ea3d9f03ec",
   "metadata": {},
   "outputs": [
    {
     "data": {
      "text/plain": [
       "1004779"
      ]
     },
     "execution_count": 19,
     "metadata": {},
     "output_type": "execute_result"
    }
   ],
   "source": [
    "len(object_ids)"
   ]
  },
  {
   "cell_type": "code",
   "execution_count": 22,
   "id": "0eb26659-7a8d-4321-b242-00fee0856975",
   "metadata": {},
   "outputs": [
    {
     "name": "stdout",
     "output_type": "stream",
     "text": [
      "CPU times: user 0 ns, sys: 38.5 ms, total: 38.5 ms\n",
      "Wall time: 286 ms\n"
     ]
    }
   ],
   "source": [
    "%%time\n",
    "base_path = 'data/clip768v2/10M/'\n",
    "queries_path = f'{base_path}/query.h5'\n",
    "f2 = h5py.File(queries_path, 'r')\n",
    "#loaded_queries = f2['emb'][:, :]\n",
    "loaded_queries_seq = f2['emb'][:, :]"
   ]
  },
  {
   "cell_type": "code",
   "execution_count": 23,
   "id": "792215e2-0f3f-4a5c-b0a3-9987cd7eaacb",
   "metadata": {},
   "outputs": [
    {
     "name": "stdout",
     "output_type": "stream",
     "text": [
      "CPU times: user 0 ns, sys: 1.71 s, total: 1.71 s\n",
      "Wall time: 1.86 s\n",
      "CPU times: user 0 ns, sys: 16.8 s, total: 16.8 s\n",
      "Wall time: 3min 11s\n"
     ]
    }
   ],
   "source": [
    "import h5py\n",
    "data_path = 'data/clip768v2/10M/dataset.h5'\n",
    "%time f = h5py.File(data_path, 'r')\n",
    "%time loaded_clip_data = f['emb'][:, :]"
   ]
  },
  {
   "cell_type": "code",
   "execution_count": 26,
   "id": "fb04a845-0ada-440e-85e7-54462c26820d",
   "metadata": {},
   "outputs": [],
   "source": [
    "clip_data = pd.DataFrame(loaded_clip_data)\n",
    "clip_data.index += 1"
   ]
  },
  {
   "cell_type": "code",
   "execution_count": 122,
   "id": "0d4ede87-4ead-4180-bba5-639e808e0295",
   "metadata": {},
   "outputs": [
    {
     "data": {
      "text/plain": [
       "485585"
      ]
     },
     "execution_count": 122,
     "metadata": {},
     "output_type": "execute_result"
    }
   ],
   "source": [
    "len(object_ids)"
   ]
  },
  {
   "cell_type": "code",
   "execution_count": 124,
   "id": "f9809acd-37cc-45c1-8e03-2bc9055ea51d",
   "metadata": {},
   "outputs": [
    {
     "name": "stdout",
     "output_type": "stream",
     "text": [
      "CPU times: user 103 ms, sys: 43.7 ms, total: 147 ms\n",
      "Wall time: 158 ms\n"
     ]
    }
   ],
   "source": [
    "%%time\n",
    "dists = pairwise_cosine([loaded_queries_seq[0]], clip_data.loc[object_ids[:10_000]])"
   ]
  },
  {
   "cell_type": "code",
   "execution_count": 125,
   "id": "cdbf6430-e679-4c27-aebd-91b287e5b4fd",
   "metadata": {},
   "outputs": [
    {
     "name": "stdout",
     "output_type": "stream",
     "text": [
      "CPU times: user 5.25 s, sys: 605 ms, total: 5.85 s\n",
      "Wall time: 6.18 s\n"
     ]
    }
   ],
   "source": [
    "%%time\n",
    "dists = pairwise_cosine(loaded_queries_seq, clip_data.loc[object_ids[:10_000]])"
   ]
  },
  {
   "cell_type": "code",
   "execution_count": 119,
   "id": "fe10f21b-b41b-4ff7-affb-e55b72ac51bb",
   "metadata": {},
   "outputs": [
    {
     "name": "stdout",
     "output_type": "stream",
     "text": [
      "CPU times: user 4.41 s, sys: 2.83 s, total: 7.24 s\n",
      "Wall time: 7.69 s\n"
     ]
    }
   ],
   "source": [
    "%time dists = pairwise_cosine([loaded_queries_seq[0]], clip_data.loc[object_ids])"
   ]
  },
  {
   "cell_type": "code",
   "execution_count": 120,
   "id": "3bd63b72-637a-4b99-a518-86ef547ee6b5",
   "metadata": {},
   "outputs": [
    {
     "data": {
      "text/plain": [
       "(1, 485585)"
      ]
     },
     "execution_count": 120,
     "metadata": {},
     "output_type": "execute_result"
    }
   ],
   "source": [
    "dists.shape"
   ]
  },
  {
   "cell_type": "code",
   "execution_count": 31,
   "id": "d1767f6e-7d60-4aa2-bb01-8c0d8d94759e",
   "metadata": {},
   "outputs": [],
   "source": [
    "import numpy as np\n",
    "k = 10"
   ]
  },
  {
   "cell_type": "code",
   "execution_count": 32,
   "id": "9d403d76-0399-4437-a0c7-bcabd4af5edf",
   "metadata": {},
   "outputs": [
    {
     "data": {
      "text/plain": [
       "(9,)"
      ]
     },
     "execution_count": 32,
     "metadata": {},
     "output_type": "execute_result"
    }
   ],
   "source": [
    "np.intersect1d(\n",
    "    loaded_gt[0][:10],\n",
    "    np.array(data.loc[object_ids].index[np.argsort(dists)[:, :k][0]])[:10]\n",
    ").shape"
   ]
  },
  {
   "cell_type": "markdown",
   "id": "a312c55c-6e5f-4414-adb1-c53b8063301a",
   "metadata": {},
   "source": [
    "### Search speed-up\n",
    "1. eval pred_proba of root, pick 4 highest\n",
    "2. eval pred_proba of 4 highest, pick x highest\n",
    "3. evaluate navigation time\n",
    "    - 24ms instead of 819ms for 1M objects\n",
    "3. save, do sequential search, evaluate seq search time\n",
    "4. **parallelize over all the queries**"
   ]
  },
  {
   "cell_type": "code",
   "execution_count": 34,
   "id": "33254987-3bb5-498b-a40b-3294fcf55e9f",
   "metadata": {},
   "outputs": [
    {
     "data": {
      "text/plain": [
       "array([-0.06877425, -0.11037602,  0.05646035, -0.11508854, -0.03577028,\n",
       "        0.09110859,  0.07477964,  0.10778218,  0.04116842,  0.00877987,\n",
       "       -0.06257925, -0.17031246,  0.00780125, -0.099485  ,  0.04967897,\n",
       "       -0.12064676,  0.0035742 , -0.07642894,  0.08400699, -0.03188556,\n",
       "       -0.01020392,  0.07147753, -0.01378688, -0.10539152, -0.00040444,\n",
       "       -0.00291365,  0.12945361,  0.05624911,  0.00785595,  0.01020052,\n",
       "        0.06252866, -0.00992952], dtype=float32)"
      ]
     },
     "execution_count": 34,
     "metadata": {},
     "output_type": "execute_result"
    }
   ],
   "source": [
    "query"
   ]
  },
  {
   "cell_type": "code",
   "execution_count": 39,
   "id": "92fe9c68-77f5-45ba-ab14-3c896612dea9",
   "metadata": {},
   "outputs": [],
   "source": [
    "from li.model import data_X_to_torch"
   ]
  },
  {
   "cell_type": "markdown",
   "id": "7cd0e997-6c54-4868-8479-e6c07a67d089",
   "metadata": {},
   "source": [
    "### For 1 query"
   ]
  },
  {
   "cell_type": "code",
   "execution_count": 100,
   "id": "61c26aa1-09b5-405d-b303-ed408c9b04b4",
   "metadata": {},
   "outputs": [
    {
     "name": "stdout",
     "output_type": "stream",
     "text": [
      "CPU times: user 24.1 s, sys: 5.88 s, total: 30 s\n",
      "Wall time: 31.3 s\n"
     ]
    }
   ],
   "source": [
    "%%time\n",
    "\n",
    "object_ids = []\n",
    "\n",
    "L1_res, _ = blmi.nodes[(0, )].nn.predict_proba(data_X_to_torch(query))\n",
    "top_L1_cats = np.argsort(L1_res)[-10:]\n",
    "for cat in top_L1_cats:\n",
    "    L2_res, _ = blmi.nodes[(0, cat)].nn.predict_proba(data_X_to_torch(query))\n",
    "    top_L2_cats = np.argsort(L2_res)[-10:]\n",
    "    for cat2 in top_L2_cats:\n",
    "        leaf_node = blmi.nodes.get(((0, cat, cat2)))\n",
    "        if leaf_node is not None:\n",
    "            object_ids.extend(leaf_node.object_ids)"
   ]
  },
  {
   "cell_type": "code",
   "execution_count": 101,
   "id": "86fdf9af-2263-4132-b47f-5be2ef112624",
   "metadata": {},
   "outputs": [
    {
     "data": {
      "text/plain": [
       "485585"
      ]
     },
     "execution_count": 101,
     "metadata": {},
     "output_type": "execute_result"
    }
   ],
   "source": [
    "len(object_ids)"
   ]
  },
  {
   "cell_type": "code",
   "execution_count": 102,
   "id": "6c77f050-d4fa-4496-b8c5-28e333e2a5c8",
   "metadata": {},
   "outputs": [
    {
     "name": "stdout",
     "output_type": "stream",
     "text": [
      "CPU times: user 223 ms, sys: 48 ms, total: 271 ms\n",
      "Wall time: 285 ms\n"
     ]
    }
   ],
   "source": [
    "# pre-filter with cheaper pairwise\n",
    "%time dists_pca = pairwise_cosine([loaded_queries[0]], data.loc[object_ids])"
   ]
  },
  {
   "cell_type": "code",
   "execution_count": 111,
   "id": "80215695-851d-4375-961a-8faf3ae4b8a1",
   "metadata": {},
   "outputs": [
    {
     "data": {
      "text/plain": [
       "array([[0.7125033 , 0.69720864, 0.74264336, ..., 0.27290726, 0.27820122,\n",
       "        0.2963873 ]], dtype=float32)"
      ]
     },
     "execution_count": 111,
     "metadata": {},
     "output_type": "execute_result"
    }
   ],
   "source": [
    "dists_pca"
   ]
  },
  {
   "cell_type": "code",
   "execution_count": 113,
   "id": "61516d54-d707-42cc-9ebe-a725ae3b4529",
   "metadata": {},
   "outputs": [
    {
     "data": {
      "text/plain": [
       "array([482740, 481235, 483399, ..., 439205,  96883, 417001])"
      ]
     },
     "execution_count": 113,
     "metadata": {},
     "output_type": "execute_result"
    }
   ],
   "source": [
    "np.argsort(dists_pca)[:, :50_000][0]"
   ]
  },
  {
   "cell_type": "code",
   "execution_count": 115,
   "id": "5698c02a-101b-4b56-a8b3-f2a720c412e9",
   "metadata": {},
   "outputs": [
    {
     "data": {
      "text/plain": [
       "array([0.07507682, 0.08240354, 0.08386886, ..., 0.53746855, 0.53747296,\n",
       "       0.53747356], dtype=float32)"
      ]
     },
     "execution_count": 115,
     "metadata": {},
     "output_type": "execute_result"
    }
   ],
   "source": [
    "dists_pca[0][np.argsort(dists_pca)[:, :100_000][0]]"
   ]
  },
  {
   "cell_type": "code",
   "execution_count": null,
   "id": "89d51d47-a58f-4c9f-81c9-58655a90ec77",
   "metadata": {},
   "outputs": [],
   "source": [
    "np.argsort(dists_pca)[:, :50_000][0]"
   ]
  },
  {
   "cell_type": "code",
   "execution_count": 116,
   "id": "e78db9b8-ae35-441c-b598-52b0a0cb94f0",
   "metadata": {},
   "outputs": [
    {
     "name": "stdout",
     "output_type": "stream",
     "text": [
      "CPU times: user 928 ms, sys: 590 ms, total: 1.52 s\n",
      "Wall time: 1.57 s\n"
     ]
    }
   ],
   "source": [
    "# this is the biggest bottleneck\n",
    "%time dists = pairwise_cosine([loaded_queries_seq[0]], clip_data.loc[np.argsort(dists_pca)[:, :100_000][0]])"
   ]
  },
  {
   "cell_type": "code",
   "execution_count": 117,
   "id": "2a4b51a2-2713-459e-a989-6c0b82fb0980",
   "metadata": {},
   "outputs": [
    {
     "data": {
      "text/plain": [
       "(0,)"
      ]
     },
     "execution_count": 117,
     "metadata": {},
     "output_type": "execute_result"
    }
   ],
   "source": [
    "np.intersect1d(\n",
    "    loaded_gt[0][:10],\n",
    "    np.array(data.loc[object_ids].index[np.argsort(dists)[:, :k][0]])[:10]\n",
    ").shape"
   ]
  },
  {
   "cell_type": "markdown",
   "id": "e2615f27-8032-449a-8d2f-6ba3414d059d",
   "metadata": {},
   "source": [
    "### For multiple queries"
   ]
  },
  {
   "cell_type": "code",
   "execution_count": 95,
   "id": "63d2bd78-6a81-4415-9778-42919de536c4",
   "metadata": {},
   "outputs": [
    {
     "name": "stdout",
     "output_type": "stream",
     "text": [
      "CPU times: user 2min 33s, sys: 22.8 s, total: 2min 55s\n",
      "Wall time: 3min 1s\n"
     ]
    }
   ],
   "source": [
    "%%time\n",
    "\n",
    "object_ids = {}\n",
    "\n",
    "L1_res, _ = blmi.nodes[(0, )].nn.predict_proba(data_X_to_torch(loaded_queries))\n",
    "top_L1_cats = np.argsort(L1_res)[:, -10:]\n",
    "# TODO: Poor parallelization, only at root node\n",
    "for i, query_cats in enumerate(top_L1_cats):\n",
    "    object_ids[i] = []\n",
    "    for cat in query_cats:\n",
    "        L2_res, _ = blmi.nodes[(0, cat)].nn.predict_proba(data_X_to_torch(loaded_queries[i]))\n",
    "        top_L2_cats = np.argsort(L2_res)[-10:]\n",
    "        for cat2 in top_L2_cats:\n",
    "            leaf_node = blmi.nodes.get(((0, cat, cat2)))\n",
    "            if leaf_node is not None:\n",
    "                object_ids[i].extend(leaf_node.object_ids)"
   ]
  },
  {
   "cell_type": "code",
   "execution_count": null,
   "id": "432e0679-b933-453b-a5a2-a81ac6170206",
   "metadata": {},
   "outputs": [],
   "source": [
    "%time dists = pairwise_cosine([loaded_queries_seq[0]], clip_data.loc[object_ids[i]])"
   ]
  },
  {
   "cell_type": "code",
   "execution_count": null,
   "id": "5a354f5d-be16-44a9-89ae-e8ad487312fa",
   "metadata": {},
   "outputs": [],
   "source": []
  },
  {
   "cell_type": "code",
   "execution_count": 47,
   "id": "abab14d3-e424-49c5-9aba-94cbc8c72cc0",
   "metadata": {},
   "outputs": [
    {
     "data": {
      "text/plain": [
       "<AxesSubplot:>"
      ]
     },
     "execution_count": 47,
     "metadata": {},
     "output_type": "execute_result"
    },
    {
     "data": {
      "image/png": "[encoded data removed]",
      "text/plain": [
       "<Figure size 432x288 with 1 Axes>"
      ]
     },
     "metadata": {
      "needs_background": "light"
     },
     "output_type": "display_data"
    }
   ],
   "source": [
    "pd.DataFrame(res[0]).plot.bar()"
   ]
  },
  {
   "cell_type": "code",
   "execution_count": 60,
   "id": "2def3ab6-c14a-4a78-aa06-62fec9caae00",
   "metadata": {},
   "outputs": [
    {
     "name": "stdout",
     "output_type": "stream",
     "text": [
      "CPU times: user 105 µs, sys: 104 µs, total: 209 µs\n",
      "Wall time: 214 µs\n"
     ]
    },
    {
     "data": {
      "text/plain": [
       "array([15, 49, 38, 48])"
      ]
     },
     "execution_count": 60,
     "metadata": {},
     "output_type": "execute_result"
    }
   ],
   "source": [
    "%time np.argsort(res[0])[-4:]"
   ]
  },
  {
   "cell_type": "code",
   "execution_count": 61,
   "id": "fa1addc3-226d-4154-b916-f7aacae6424e",
   "metadata": {},
   "outputs": [
    {
     "name": "stdout",
     "output_type": "stream",
     "text": [
      "CPU times: user 34 µs, sys: 0 ns, total: 34 µs\n",
      "Wall time: 37.4 µs\n",
      "CPU times: user 2.5 ms, sys: 0 ns, total: 2.5 ms\n",
      "Wall time: 2.74 ms\n"
     ]
    },
    {
     "data": {
      "text/plain": [
       "array([19, 44, 29, 40])"
      ]
     },
     "execution_count": 61,
     "metadata": {},
     "output_type": "execute_result"
    }
   ],
   "source": [
    "%%time\n",
    "res2 = blmi.nodes[(0, 48)].nn.predict_proba(data_X_to_torch(query))\n",
    "np.argsort(res2[0])[-4:]"
   ]
  },
  {
   "cell_type": "code",
   "execution_count": 63,
   "id": "c5117c75-8cdb-4ae4-8205-66ebe73307fa",
   "metadata": {},
   "outputs": [
    {
     "name": "stdout",
     "output_type": "stream",
     "text": [
      "CPU times: user 823 µs, sys: 798 µs, total: 1.62 ms\n",
      "Wall time: 1.63 ms\n"
     ]
    },
    {
     "data": {
      "text/plain": [
       "array([32,  5, 41,  2])"
      ]
     },
     "execution_count": 63,
     "metadata": {},
     "output_type": "execute_result"
    }
   ],
   "source": [
    "%%time\n",
    "res2 = blmi.nodes[(0, 38)].nn.predict_proba(data_X_to_torch(query))\n",
    "np.argsort(res2[0])[-4:]"
   ]
  },
  {
   "cell_type": "code",
   "execution_count": 49,
   "id": "84ccc26f-46da-4f66-b5dc-c40d4db7fdd4",
   "metadata": {},
   "outputs": [
    {
     "data": {
      "text/plain": [
       "<AxesSubplot:>"
      ]
     },
     "execution_count": 49,
     "metadata": {},
     "output_type": "execute_result"
    },
    {
     "data": {
      "image/png": "[encoded data removed]",
      "text/plain": [
       "<Figure size 432x288 with 1 Axes>"
      ]
     },
     "metadata": {
      "needs_background": "light"
     },
     "output_type": "display_data"
    }
   ],
   "source": [
    "pd.DataFrame(res[0]).plot.bar()"
   ]
  },
  {
   "cell_type": "code",
   "execution_count": null,
   "id": "98cf6e5a-3605-4dfc-81ba-0a444d11da01",
   "metadata": {},
   "outputs": [],
   "source": []
  }
 ],
 "metadata": {
  "kernelspec": {
   "display_name": "Python 3",
   "language": "python",
   "name": "python3"
  },
  "language_info": {
   "codemirror_mode": {
    "name": "ipython",
    "version": 3
   },
   "file_extension": ".py",
   "mimetype": "text/x-python",
   "name": "python",
   "nbconvert_exporter": "python",
   "pygments_lexer": "ipython3",
   "version": "3.6.2"
  }
 },
 "nbformat": 4,
 "nbformat_minor": 5
}
