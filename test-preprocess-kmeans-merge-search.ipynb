{
 "cells": [
  {
   "cell_type": "code",
   "execution_count": 22,
   "id": "795dc907-a987-4f09-9c8b-ef37bc20cf85",
   "metadata": {},
   "outputs": [
    {
     "name": "stdout",
     "output_type": "stream",
     "text": [
      "ERROR! Session/line number was not unique in database. History logging moved to new session 1909\n"
     ]
    }
   ],
   "source": [
    "%reload_ext autoreload\n",
    "%autoreload 2"
   ]
  },
  {
   "cell_type": "code",
   "execution_count": 2,
   "id": "909e9518-a639-4539-aa76-c35480a8a4bc",
   "metadata": {},
   "outputs": [],
   "source": [
    "import h5py\n",
    "import pandas as pd\n",
    "import pickle\n",
    "from tqdm import tqdm\n",
    "from li.utils import pairwise_cosine\n",
    "import time\n",
    "import logging\n",
    "import numpy as np\n",
    "import os\n",
    "from scipy import sparse\n"
   ]
  },
  {
   "cell_type": "code",
   "execution_count": 3,
   "id": "bb873e57-e16e-40f6-9283-0308480cfbd4",
   "metadata": {},
   "outputs": [],
   "source": [
    "logging.basicConfig(\n",
    "    level=logging.INFO,\n",
    "    format='[%(asctime)s][%(levelname)-5.5s][%(name)-.20s] %(message)s'\n",
    ")\n",
    "LOG = logging.getLogger(__name__)\n",
    "\n",
    "def increase_max_recursion_limit():\n",
    "    \"\"\" Increases the maximum recursion limit.\n",
    "    Source: https://stackoverflow.com/a/16248113\n",
    "    \"\"\"\n",
    "    import sys\n",
    "    import resource\n",
    "    resource.setrlimit(resource.RLIMIT_STACK, (2**29, -1))\n",
    "    sys.setrecursionlimit(10**6)\n"
   ]
  },
  {
   "cell_type": "code",
   "execution_count": 4,
   "id": "cd09d537-e02c-4586-95ca-b39f8a6d5fea",
   "metadata": {},
   "outputs": [
    {
     "name": "stderr",
     "output_type": "stream",
     "text": [
      "[2023-07-05 16:18:44,109][INFO ][__main__] Loading pca32 data\n",
      "[2023-07-05 16:18:44,256][INFO ][__main__] Loading queries\n",
      "[2023-07-05 16:18:44,569][INFO ][__main__] Loading clip data\n",
      "[2023-07-05 16:18:45,977][INFO ][__main__] Loading GT\n"
     ]
    }
   ],
   "source": [
    "size = '100K'\n",
    "\n",
    "LOG.info(f'Loading pca32 data')\n",
    "data_path = f'data/pca32v2/{size}/dataset.h5'\n",
    "f = h5py.File(data_path, 'r')\n",
    "loaded_data = f['pca32'][:, :]\n",
    "data = pd.DataFrame(loaded_data)\n",
    "data.index += 1\n",
    "\n",
    "LOG.info(f'Loading queries')\n",
    "base_path = f'data/pca32v2/{size}/'\n",
    "queries_path = f'{base_path}/query.h5'\n",
    "f2 = h5py.File(queries_path, 'r')\n",
    "#loaded_queries = f2['emb'][:, :]\n",
    "loaded_queries = f2['pca32'][:, :]\n",
    "\n",
    "base_path = f'data/clip768v2/{size}/'\n",
    "queries_path = f'{base_path}/query.h5'\n",
    "f2 = h5py.File(queries_path, 'r')\n",
    "#loaded_queries = f2['emb'][:, :]\n",
    "loaded_queries_seq = f2['emb'][:, :]\n",
    "\n",
    "LOG.info(f'Loading clip data')\n",
    "data_path = f'data/clip768v2/{size}/dataset.h5'\n",
    "f = h5py.File(data_path, 'r')\n",
    "loaded_clip_data = f['emb'][:, :]\n",
    "loaded_clip_data = pd.DataFrame(loaded_clip_data)\n",
    "loaded_clip_data.index += 1\n",
    "\n",
    "LOG.info(f'Loading GT')\n",
    "gt_path = f'data/groundtruth-{size}.h5'\n",
    "f3 = h5py.File(gt_path, 'r')\n",
    "loaded_gt = f3['knns'][:, :]\n"
   ]
  },
  {
   "cell_type": "code",
   "execution_count": 5,
   "id": "a59a7ce6-5851-4cac-85b4-3f22d7828265",
   "metadata": {},
   "outputs": [
    {
     "name": "stderr",
     "output_type": "stream",
     "text": [
      "[2023-07-05 16:18:46,481][INFO ][faiss.loader] Loading faiss with AVX2 support.\n",
      "[2023-07-05 16:18:46,485][INFO ][faiss.loader] Could not load library with AVX2 support due to:\n",
      "ModuleNotFoundError(\"No module named 'faiss.swigfaiss_avx2'\",)\n",
      "[2023-07-05 16:18:46,488][INFO ][faiss.loader] Loading faiss.\n",
      "[2023-07-05 16:18:46,526][INFO ][faiss.loader] Successfully loaded faiss.\n"
     ]
    }
   ],
   "source": [
    "from li.BaseLMI import cluster_kmeans_faiss\n",
    "from sklearn import preprocessing"
   ]
  },
  {
   "cell_type": "code",
   "execution_count": 6,
   "id": "32b2609b-509b-4bc9-9ee0-7ed79d9ec0c5",
   "metadata": {},
   "outputs": [
    {
     "name": "stdout",
     "output_type": "stream",
     "text": [
      "CPU times: user 11.6 ms, sys: 7.87 ms, total: 19.5 ms\n",
      "Wall time: 19.5 ms\n"
     ]
    }
   ],
   "source": [
    "%time data_prep = preprocessing.normalize(data.values)"
   ]
  },
  {
   "cell_type": "code",
   "execution_count": 8,
   "id": "accd275c-78bd-47a3-a892-08959dcb7487",
   "metadata": {},
   "outputs": [
    {
     "name": "stdout",
     "output_type": "stream",
     "text": [
      "CPU times: user 45.4 ms, sys: 12.5 ms, total: 57.9 ms\n",
      "Wall time: 58 ms\n"
     ]
    }
   ],
   "source": [
    "%time kmeans_wo, result_wo = cluster_kmeans_faiss(data, n_clusters=10)"
   ]
  },
  {
   "cell_type": "code",
   "execution_count": 9,
   "id": "d29b44c8-b0a2-418b-acf3-2ebf13f60b80",
   "metadata": {},
   "outputs": [],
   "source": [
    "def get_partitioning_quality(kmeans, queries, data, loaded_gt, basic_clustering):\n",
    "    \n",
    "    res = kmeans.index.search(np.array(queries).astype(np.float32), 1000)\n",
    "    \n",
    "    n_cats_covered = []\n",
    "    n_objects_covered = []\n",
    "\n",
    "    for i in tqdm(range(10_000), position=0, leave=True):\n",
    "        overall_sum = 0\n",
    "        overall_objects_sum = 0\n",
    "        argsorted = res[1][i]#np.argsort(res[0][i])[::-1]\n",
    "        idx = 0\n",
    "        while overall_sum < 9:\n",
    "            overall_sum += np.sum(data.loc[loaded_gt[i][:10]].category == argsorted[idx])\n",
    "            overall_objects_sum += np.sum(basic_clustering == argsorted[idx])\n",
    "            #overall_objects_sum += np.sum(pred_positions == argsorted[idx])\n",
    "            idx += 1\n",
    "        n_cats_covered.append(idx)\n",
    "        n_objects_covered.append(overall_objects_sum)\n",
    "\n",
    "    mean_cats_covered = np.mean(np.array(n_cats_covered))\n",
    "    mean_objects_covered = np.mean(np.array(n_objects_covered))\n",
    "    LOG.info(f'mean_cats_covered={mean_cats_covered}, mean_objects_covered={mean_objects_covered}')\n",
    "    return mean_cats_covered, mean_objects_covered, np.array(n_cats_covered), np.array(n_objects_covered)\n"
   ]
  },
  {
   "cell_type": "code",
   "execution_count": 10,
   "id": "7bd7265f-da2b-43d1-b115-472454e79281",
   "metadata": {},
   "outputs": [],
   "source": [
    "data['category'] = result_wo"
   ]
  },
  {
   "cell_type": "code",
   "execution_count": 11,
   "id": "a7758ab6-052d-4ba4-af9e-1d6028b3962d",
   "metadata": {},
   "outputs": [
    {
     "name": "stderr",
     "output_type": "stream",
     "text": [
      "  0%|          | 0/10000 [00:00<?, ?it/s][2023-07-05 16:18:54,892][INFO ][numexpr.utils] Note: detected 112 virtual cores but NumExpr set to maximum of 64, check \"NUMEXPR_MAX_THREADS\" environment variable.\n",
      "[2023-07-05 16:18:54,895][INFO ][numexpr.utils] Note: NumExpr detected 112 cores but \"NUMEXPR_MAX_THREADS\" not set, so enforcing safe limit of 8.\n",
      "100%|██████████| 10000/10000 [00:20<00:00, 483.53it/s]\n",
      "[2023-07-05 16:19:15,543][INFO ][__main__] mean_cats_covered=1.9646, mean_objects_covered=22277.1215\n"
     ]
    },
    {
     "name": "stdout",
     "output_type": "stream",
     "text": [
      "CPU times: user 19.7 s, sys: 177 ms, total: 19.9 s\n",
      "Wall time: 20.8 s\n"
     ]
    }
   ],
   "source": [
    "%time mean_cats_covered, mean_objects_covered, cats_all, objs_all = get_partitioning_quality(kmeans_wo, loaded_queries, data, loaded_gt, result_wo)"
   ]
  },
  {
   "cell_type": "code",
   "execution_count": 12,
   "id": "6f5b539e-e697-43ab-bd75-c892dac8c1f3",
   "metadata": {},
   "outputs": [],
   "source": [
    "import torch\n",
    "import torch.utils.data\n",
    "\n",
    "class LIDataset(torch.utils.data.Dataset):\n",
    "    def __init__(self, dataset):\n",
    "        self.dataset_x = dataset.drop('category', axis=1).values\n",
    "        self.dataset_y = dataset.category.values\n",
    "\n",
    "    def __len__(self):\n",
    "        return self.dataset_x.shape[0]\n",
    "    \n",
    "    def __getitem__(self, idx):\n",
    "        return self.dataset_x[idx-1], self.dataset_y[idx-1]\n",
    "        \n",
    "dataset = LIDataset(data)\n",
    "        \n",
    "train_loader = torch.utils.data.DataLoader(\n",
    "    dataset,\n",
    "    batch_size=256,\n",
    "    sampler=torch.utils.data.SubsetRandomSampler(data.index.values.tolist())\n",
    ")"
   ]
  },
  {
   "cell_type": "code",
   "execution_count": 13,
   "id": "2690a472-3ad8-443f-a570-a89d7325a2b6",
   "metadata": {},
   "outputs": [],
   "source": [
    "from li.model import NeuralNetwork, data_X_to_torch"
   ]
  },
  {
   "cell_type": "code",
   "execution_count": 14,
   "id": "5608eb05-43b1-4032-a127-7048b5b5ebd2",
   "metadata": {},
   "outputs": [],
   "source": [
    "nn = NeuralNetwork(\n",
    "    input_dim=data.drop('category', axis=1).shape[1], output_dim=10, lr=0.1, model_type='MLP'\n",
    ")"
   ]
  },
  {
   "cell_type": "code",
   "execution_count": 15,
   "id": "ceaf8929-805e-4b9e-b3da-a8e5a1b25f16",
   "metadata": {},
   "outputs": [
    {
     "name": "stderr",
     "output_type": "stream",
     "text": [
      "[2023-07-05 16:19:15,729][INFO ][__main__] Epochs: 100, step: 10\n",
      "[2023-07-05 16:19:28,131][INFO ][__main__] Epoch 10 | Loss 0.31040\n",
      "[2023-07-05 16:19:39,464][INFO ][__main__] Epoch 20 | Loss 0.28142\n",
      "[2023-07-05 16:19:50,628][INFO ][__main__] Epoch 30 | Loss 0.26895\n",
      "[2023-07-05 16:20:01,603][INFO ][__main__] Epoch 40 | Loss 0.15553\n",
      "[2023-07-05 16:20:12,982][INFO ][__main__] Epoch 50 | Loss 0.18940\n",
      "[2023-07-05 16:20:24,090][INFO ][__main__] Epoch 60 | Loss 0.14437\n",
      "[2023-07-05 16:20:35,218][INFO ][__main__] Epoch 70 | Loss 0.24336\n",
      "[2023-07-05 16:20:46,437][INFO ][__main__] Epoch 80 | Loss 0.20678\n",
      "[2023-07-05 16:20:57,628][INFO ][__main__] Epoch 90 | Loss 0.20918\n"
     ]
    }
   ],
   "source": [
    "losses = nn.train_batch(train_loader, epochs=100, logger=LOG)"
   ]
  },
  {
   "cell_type": "code",
   "execution_count": 71,
   "id": "287202ed-f3fc-422c-8c38-215542be19f4",
   "metadata": {},
   "outputs": [],
   "source": [
    "def get_partitioning_quality_nn(nn, queries, data, loaded_gt, basic_clustering):\n",
    "    \n",
    "    res = nn.predict_proba(data_X_to_torch(queries))\n",
    "    \n",
    "    n_cats_covered = []\n",
    "    n_objects_covered = []\n",
    "\n",
    "    for i in tqdm(range(10_000), position=0, leave=True):\n",
    "        overall_sum = 0\n",
    "        overall_objects_sum = 0\n",
    "        argsorted = np.argsort(res[0][i])[::-1]\n",
    "        idx = 0\n",
    "        while overall_sum < 9:\n",
    "            overall_sum += np.sum(data.loc[loaded_gt[i][:10]].category_nn == argsorted[idx])\n",
    "            overall_objects_sum += np.sum(basic_clustering == argsorted[idx])\n",
    "            #overall_objects_sum += np.sum(pred_positions == argsorted[idx])\n",
    "            idx += 1\n",
    "        n_cats_covered.append(idx)\n",
    "        n_objects_covered.append(overall_objects_sum)\n",
    "\n",
    "    mean_cats_covered = np.mean(np.array(n_cats_covered))\n",
    "    mean_objects_covered = np.mean(np.array(n_objects_covered))\n",
    "    LOG.info(f'mean_cats_covered={mean_cats_covered}, mean_objects_covered={mean_objects_covered}')\n",
    "    return mean_cats_covered, mean_objects_covered, np.array(n_cats_covered), np.array(n_objects_covered)\n"
   ]
  },
  {
   "cell_type": "code",
   "execution_count": 72,
   "id": "08c03e17-449f-4010-8635-9062ba8bb0c5",
   "metadata": {},
   "outputs": [
    {
     "name": "stderr",
     "output_type": "stream",
     "text": [
      "100%|██████████| 2/2 [00:00<00:00, 457.54it/s]\n",
      "[2023-07-05 16:42:29,186][INFO ][__main__] mean_cats_covered=1.0, mean_objects_covered=12756.5\n"
     ]
    },
    {
     "name": "stdout",
     "output_type": "stream",
     "text": [
      "[0 9 8 7 2 1 4 3 5 6]\n",
      "[1 5 9 0 2 8 4 7 3 6]\n",
      "CPU times: user 19.5 ms, sys: 174 µs, total: 19.7 ms\n",
      "Wall time: 24.4 ms\n"
     ]
    },
    {
     "data": {
      "text/plain": [
       "(1.0, 12756.5)"
      ]
     },
     "execution_count": 72,
     "metadata": {},
     "output_type": "execute_result"
    }
   ],
   "source": [
    "%%time\n",
    "category_nn = nn.predict(data_X_to_torch(data.drop(['category', 'category_nn'], axis=1, errors='ignore')))\n",
    "data['category_nn'] = category_nn\n",
    "mean_cats_covered, mean_objects_covered, cats_all, objs_all = get_partitioning_quality_nn(\n",
    "    nn, loaded_queries, data, loaded_gt, category_nn\n",
    ")\n",
    "mean_cats_covered, mean_objects_covered"
   ]
  },
  {
   "cell_type": "code",
   "execution_count": 66,
   "id": "0281ee1b-f1cc-4ad6-885d-4a6a512a6b9e",
   "metadata": {},
   "outputs": [
    {
     "data": {
      "text/plain": [
       "(array([1, 1]), array([16287,  9226]))"
      ]
     },
     "execution_count": 66,
     "metadata": {},
     "output_type": "execute_result"
    }
   ],
   "source": [
    "cats_all, objs_all"
   ]
  },
  {
   "cell_type": "code",
   "execution_count": 52,
   "id": "67b56ceb-aaee-4f31-ae7b-a438533c155a",
   "metadata": {},
   "outputs": [
    {
     "data": {
      "text/plain": [
       "array([16287,  9226,  8676, ..., 11848, 45179, 16287])"
      ]
     },
     "execution_count": 52,
     "metadata": {},
     "output_type": "execute_result"
    }
   ],
   "source": [
    "objs_all"
   ]
  },
  {
   "cell_type": "code",
   "execution_count": 51,
   "id": "29349830-331c-48fb-917a-bdf8d7e0187e",
   "metadata": {},
   "outputs": [
    {
     "data": {
      "text/plain": [
       "array([1, 1, 1, ..., 1, 4, 1])"
      ]
     },
     "execution_count": 51,
     "metadata": {},
     "output_type": "execute_result"
    }
   ],
   "source": [
    "cats_all"
   ]
  },
  {
   "cell_type": "markdown",
   "id": "699f09cd-263c-4a1b-a3f1-83820d34367a",
   "metadata": {},
   "source": [
    "## How to replicate this into the search procedure?"
   ]
  },
  {
   "cell_type": "code",
   "execution_count": 26,
   "id": "991dc8ce-5e4e-4210-88c8-6375e6a62746",
   "metadata": {},
   "outputs": [],
   "source": [
    "epochs=100\n",
    "n_categories=10\n",
    "lr=0.1\n",
    "model_type='MLP'\n",
    "batch_size=256"
   ]
  },
  {
   "cell_type": "code",
   "execution_count": 27,
   "id": "e4c71b6c-7d48-44f9-92fb-b6d891e0e9a8",
   "metadata": {},
   "outputs": [],
   "source": [
    "from li.BulkLMI import BulkLMI"
   ]
  },
  {
   "cell_type": "code",
   "execution_count": 28,
   "id": "0e7b44ed-5962-4b18-bdfa-f798547c7f60",
   "metadata": {},
   "outputs": [
    {
     "name": "stderr",
     "output_type": "stream",
     "text": [
      "[2023-07-05 16:25:27,903][INFO ][__main__] Running deepen (root)\n",
      "[2023-07-05 16:25:27,912][INFO ][li.BulkLMI.BulkLMI] ==== Deepen with (0,)\n",
      "[2023-07-05 16:25:28,036][INFO ][li.BulkLMI.BulkLMI] Epochs: 100, step: 10\n"
     ]
    },
    {
     "name": "stdout",
     "output_type": "stream",
     "text": [
      "None\n"
     ]
    },
    {
     "name": "stderr",
     "output_type": "stream",
     "text": [
      "[2023-07-05 16:25:44,112][INFO ][li.BulkLMI.BulkLMI] Epoch 10 | Loss 0.30305\n",
      "[2023-07-05 16:25:58,521][INFO ][li.BulkLMI.BulkLMI] Epoch 20 | Loss 0.15311\n",
      "[2023-07-05 16:26:12,959][INFO ][li.BulkLMI.BulkLMI] Epoch 30 | Loss 0.29747\n",
      "[2023-07-05 16:26:27,254][INFO ][li.BulkLMI.BulkLMI] Epoch 40 | Loss 0.33624\n",
      "[2023-07-05 16:26:41,967][INFO ][li.BulkLMI.BulkLMI] Epoch 50 | Loss 0.29719\n",
      "[2023-07-05 16:26:56,367][INFO ][li.BulkLMI.BulkLMI] Epoch 60 | Loss 0.32929\n",
      "[2023-07-05 16:27:10,790][INFO ][li.BulkLMI.BulkLMI] Epoch 70 | Loss 0.15786\n",
      "[2023-07-05 16:27:25,232][INFO ][li.BulkLMI.BulkLMI] Epoch 80 | Loss 0.23273\n",
      "[2023-07-05 16:27:39,716][INFO ][li.BulkLMI.BulkLMI] Epoch 90 | Loss 0.20142\n"
     ]
    }
   ],
   "source": [
    "blmi = BulkLMI()\n",
    "blmi.insert(data.drop(['category', 'category_nn'], axis=1, errors='ignore'))\n",
    "LOG.info('Running deepen (root)')\n",
    "info_df = pd.DataFrame([], columns=['op', 'time-taken', 'size', '#-objects'])\n",
    "info_df = blmi.deepen(\n",
    "    blmi.nodes[(0, )],\n",
    "    n_categories,\n",
    "    epochs=epochs,\n",
    "    lr=lr,\n",
    "    model_type=model_type,\n",
    "    batch_size=batch_size,\n",
    "    info_df=info_df\n",
    ")"
   ]
  },
  {
   "cell_type": "code",
   "execution_count": 34,
   "id": "7d0b97ed-7f1d-458b-a2f3-b8a84cb31712",
   "metadata": {},
   "outputs": [
    {
     "data": {
      "text/plain": [
       "(100000, 768)"
      ]
     },
     "execution_count": 34,
     "metadata": {},
     "output_type": "execute_result"
    }
   ],
   "source": [
    "loaded_clip_data.shape"
   ]
  },
  {
   "cell_type": "code",
   "execution_count": 31,
   "id": "30d6128e-ca39-4335-9a3b-3034d71f399f",
   "metadata": {},
   "outputs": [
    {
     "data": {
      "text/plain": [
       "((10000, 32), (10000, 768))"
      ]
     },
     "execution_count": 31,
     "metadata": {},
     "output_type": "execute_result"
    }
   ],
   "source": [
    "loaded_queries.shape, loaded_queries_seq.shape"
   ]
  },
  {
   "cell_type": "code",
   "execution_count": 112,
   "id": "1587aeb2-2bc5-432e-a748-2fd91b561a45",
   "metadata": {},
   "outputs": [
    {
     "name": "stderr",
     "output_type": "stream",
     "text": [
      "100it [01:24,  1.16it/s]\n"
     ]
    },
    {
     "data": {
      "text/plain": [
       "84.02758169174194"
      ]
     },
     "execution_count": 112,
     "metadata": {},
     "output_type": "execute_result"
    }
   ],
   "source": [
    "anns = []\n",
    "dists_all = []\n",
    "k=10\n",
    "s = time.time()\n",
    "for i, query in tqdm(enumerate(loaded_queries[:100]), position=0, leave=True):\n",
    "    pred_leaf_nodes = blmi.search(query, stop_condition=20_000)[0]\n",
    "    object_ids = []\n",
    "    for pred_leaf_node in pred_leaf_nodes:\n",
    "        leaf_node = blmi.nodes.get(pred_leaf_node)\n",
    "        if leaf_node is not None:\n",
    "            object_ids.extend(leaf_node.object_ids)\n",
    "\n",
    "    dists = pairwise_cosine(\n",
    "        [loaded_queries_seq[i]],\n",
    "        loaded_clip_data.loc[object_ids]\n",
    "    )\n",
    "    nns_idxs = np.argsort(dists)[:, :k][0]\n",
    "    anns.append(data.loc[object_ids].index[nns_idxs].tolist())\n",
    "    dists_all.append(dists[0][nns_idxs].tolist())\n",
    "time.time() - s"
   ]
  },
  {
   "cell_type": "code",
   "execution_count": 113,
   "id": "1e29105a-c7fd-4851-aabc-bf8bcdbfdc63",
   "metadata": {},
   "outputs": [
    {
     "data": {
      "text/plain": [
       "9.11"
      ]
     },
     "execution_count": 113,
     "metadata": {},
     "output_type": "execute_result"
    }
   ],
   "source": [
    "np.mean([np.intersect1d(anns, loaded_gt[i][:10]).shape[0] for i in range(100)])"
   ]
  },
  {
   "cell_type": "code",
   "execution_count": 79,
   "id": "c0fd835e-e9db-45fc-8ca6-51f610d0cfd3",
   "metadata": {},
   "outputs": [
    {
     "data": {
      "text/plain": [
       "14347    1\n",
       "82848    1\n",
       "79302    1\n",
       "85923    1\n",
       "6016     1\n",
       "67067    1\n",
       "29567    1\n",
       "54566    1\n",
       "34591    1\n",
       "11620    1\n",
       "Name: category_nn, dtype: int64"
      ]
     },
     "execution_count": 79,
     "metadata": {},
     "output_type": "execute_result"
    }
   ],
   "source": [
    "data.loc[loaded_gt[1][:10]].category_nn"
   ]
  },
  {
   "cell_type": "code",
   "execution_count": 85,
   "id": "10bd9187-9404-42ce-83a6-a276980d9b4a",
   "metadata": {},
   "outputs": [
    {
     "data": {
      "text/html": [
       "<div>\n",
       "<style scoped>\n",
       "    .dataframe tbody tr th:only-of-type {\n",
       "        vertical-align: middle;\n",
       "    }\n",
       "\n",
       "    .dataframe tbody tr th {\n",
       "        vertical-align: top;\n",
       "    }\n",
       "\n",
       "    .dataframe thead th {\n",
       "        text-align: right;\n",
       "    }\n",
       "</style>\n",
       "<table border=\"1\" class=\"dataframe\">\n",
       "  <thead>\n",
       "    <tr style=\"text-align: right;\">\n",
       "      <th></th>\n",
       "      <th>type</th>\n",
       "      <th>children</th>\n",
       "    </tr>\n",
       "    <tr>\n",
       "      <th>key</th>\n",
       "      <th></th>\n",
       "      <th></th>\n",
       "    </tr>\n",
       "  </thead>\n",
       "  <tbody>\n",
       "    <tr>\n",
       "      <th>(0,)</th>\n",
       "      <td>InnerNode</td>\n",
       "      <td>10</td>\n",
       "    </tr>\n",
       "    <tr>\n",
       "      <th>(0, 0)</th>\n",
       "      <td>LeafNode</td>\n",
       "      <td>18705</td>\n",
       "    </tr>\n",
       "    <tr>\n",
       "      <th>(0, 1)</th>\n",
       "      <td>LeafNode</td>\n",
       "      <td>8489</td>\n",
       "    </tr>\n",
       "    <tr>\n",
       "      <th>(0, 2)</th>\n",
       "      <td>LeafNode</td>\n",
       "      <td>8641</td>\n",
       "    </tr>\n",
       "    <tr>\n",
       "      <th>(0, 3)</th>\n",
       "      <td>LeafNode</td>\n",
       "      <td>3233</td>\n",
       "    </tr>\n",
       "    <tr>\n",
       "      <th>(0, 4)</th>\n",
       "      <td>LeafNode</td>\n",
       "      <td>11842</td>\n",
       "    </tr>\n",
       "    <tr>\n",
       "      <th>(0, 5)</th>\n",
       "      <td>LeafNode</td>\n",
       "      <td>11536</td>\n",
       "    </tr>\n",
       "    <tr>\n",
       "      <th>(0, 6)</th>\n",
       "      <td>LeafNode</td>\n",
       "      <td>8315</td>\n",
       "    </tr>\n",
       "    <tr>\n",
       "      <th>(0, 7)</th>\n",
       "      <td>LeafNode</td>\n",
       "      <td>10881</td>\n",
       "    </tr>\n",
       "    <tr>\n",
       "      <th>(0, 8)</th>\n",
       "      <td>LeafNode</td>\n",
       "      <td>10803</td>\n",
       "    </tr>\n",
       "    <tr>\n",
       "      <th>(0, 9)</th>\n",
       "      <td>LeafNode</td>\n",
       "      <td>7555</td>\n",
       "    </tr>\n",
       "  </tbody>\n",
       "</table>\n",
       "</div>"
      ],
      "text/plain": [
       "             type children\n",
       "key                       \n",
       "(0,)    InnerNode       10\n",
       "(0, 0)   LeafNode    18705\n",
       "(0, 1)   LeafNode     8489\n",
       "(0, 2)   LeafNode     8641\n",
       "(0, 3)   LeafNode     3233\n",
       "(0, 4)   LeafNode    11842\n",
       "(0, 5)   LeafNode    11536\n",
       "(0, 6)   LeafNode     8315\n",
       "(0, 7)   LeafNode    10881\n",
       "(0, 8)   LeafNode    10803\n",
       "(0, 9)   LeafNode     7555"
      ]
     },
     "execution_count": 85,
     "metadata": {},
     "output_type": "execute_result"
    }
   ],
   "source": [
    "blmi.dump_structure()"
   ]
  },
  {
   "cell_type": "code",
   "execution_count": 102,
   "id": "35f38454-eae6-4ed3-b39d-6f004904e973",
   "metadata": {},
   "outputs": [
    {
     "data": {
      "text/plain": [
       "[(0, 1)]"
      ]
     },
     "execution_count": 102,
     "metadata": {},
     "output_type": "execute_result"
    }
   ],
   "source": [
    "pred_leaf_nodes = blmi.search(loaded_queries[1], stop_condition_leaf=2)[0]\n",
    "pred_leaf_nodes"
   ]
  },
  {
   "cell_type": "code",
   "execution_count": 99,
   "id": "755c0f26-4425-4660-abe3-3dd48cbb0a88",
   "metadata": {},
   "outputs": [
    {
     "name": "stdout",
     "output_type": "stream",
     "text": [
      "torch.Size([1, 10])\n"
     ]
    },
    {
     "data": {
      "text/plain": [
       "(array([[3.4948125e-06, 9.9999630e-01, 1.0330035e-08, 4.1298864e-10,\n",
       "         3.3691144e-10, 1.6628579e-07, 6.0550436e-12, 3.2097949e-10,\n",
       "         6.6683668e-08, 1.2860399e-08]], dtype=float32),\n",
       " array([1, 0, 5, 8, 9, 2, 3, 4, 7, 6]))"
      ]
     },
     "execution_count": 99,
     "metadata": {},
     "output_type": "execute_result"
    }
   ],
   "source": [
    "blmi.nodes[(0, )].nn.predict_proba(data_X_to_torch([loaded_queries[1]]))"
   ]
  },
  {
   "cell_type": "markdown",
   "id": "c7afdb7d-0fb5-41fd-a842-7e5be82d5581",
   "metadata": {},
   "source": [
    "#### Debugging finding nothing for query idx=1"
   ]
  },
  {
   "cell_type": "code",
   "execution_count": 89,
   "id": "83a05e71-a550-4e2d-b6b8-6605b6c170dd",
   "metadata": {},
   "outputs": [
    {
     "data": {
      "text/plain": [
       "array([[6, 3, 7, 4, 8, 2, 0, 9, 5, 1]])"
      ]
     },
     "execution_count": 89,
     "metadata": {},
     "output_type": "execute_result"
    }
   ],
   "source": [
    "np.argsort(res[0])[::-1]"
   ]
  },
  {
   "cell_type": "code",
   "execution_count": 103,
   "id": "18a55caf-5f38-4192-8a3a-a8f79565c4b9",
   "metadata": {},
   "outputs": [
    {
     "data": {
      "text/plain": [
       "(array([[6.0279710e-08, 9.9999917e-01, 5.7332549e-08, 3.1544808e-11,\n",
       "         2.9970999e-09, 5.3713347e-07, 2.2266798e-11, 5.5535680e-11,\n",
       "         4.1810239e-08, 1.7528657e-07]], dtype=float32),\n",
       " array([[1, 5, 9, 0, 2, 8, 4, 7, 3, 6]]))"
      ]
     },
     "execution_count": 103,
     "metadata": {},
     "output_type": "execute_result"
    }
   ],
   "source": [
    "res = nn.predict_proba(data_X_to_torch([loaded_queries[1]]))\n",
    "res"
   ]
  },
  {
   "cell_type": "code",
   "execution_count": 68,
   "id": "32c14eaa-433e-4a66-affa-3435b8462433",
   "metadata": {},
   "outputs": [
    {
     "data": {
      "text/plain": [
       "array([1, 5, 9, 0, 2, 8, 4, 7, 3, 6])"
      ]
     },
     "execution_count": 68,
     "metadata": {},
     "output_type": "execute_result"
    }
   ],
   "source": [
    "i=1\n",
    "argsorted = np.argsort(res[0][i])[::-1]\n",
    "argsorted"
   ]
  },
  {
   "cell_type": "code",
   "execution_count": null,
   "id": "80d11c3d-5459-4abd-8bf5-aa3f1897ac05",
   "metadata": {},
   "outputs": [],
   "source": [
    "mean_cats_covered, mean_objects_covered, cats_all, objs_all = get_partitioning_quality_nn(\n",
    "    nn, loaded_queries, data, loaded_gt, category_nn\n",
    ")"
   ]
  },
  {
   "cell_type": "code",
   "execution_count": 74,
   "id": "35daa6ae-05c9-4d32-98e9-815a7b9c198d",
   "metadata": {},
   "outputs": [],
   "source": [
    "overall_sum = 0\n",
    "overall_objects_sum = 0\n",
    "argsorted = np.argsort(res[0][i])[::-1]\n",
    "idx = 0\n",
    "while overall_sum < 9:\n",
    "    overall_sum += np.sum(data.loc[loaded_gt[i][:10]].category_nn == argsorted[idx])\n",
    "    overall_objects_sum += np.sum(category_nn == argsorted[idx])\n",
    "    #overall_objects_sum += np.sum(pred_positions == argsorted[idx])\n",
    "    idx += 1"
   ]
  },
  {
   "cell_type": "code",
   "execution_count": 78,
   "id": "5e39008b-0b1f-4b82-9c63-4c2d159fb5e2",
   "metadata": {},
   "outputs": [
    {
     "data": {
      "text/plain": [
       "14347    1\n",
       "82848    1\n",
       "79302    1\n",
       "85923    1\n",
       "6016     1\n",
       "67067    1\n",
       "29567    1\n",
       "54566    1\n",
       "34591    1\n",
       "11620    1\n",
       "Name: category_nn, dtype: int64"
      ]
     },
     "execution_count": 78,
     "metadata": {},
     "output_type": "execute_result"
    }
   ],
   "source": [
    "data.loc[loaded_gt[i][:10]].category_nn"
   ]
  },
  {
   "cell_type": "code",
   "execution_count": 75,
   "id": "dfd541f1-274b-48a7-adb1-55f21dc1c78a",
   "metadata": {},
   "outputs": [
    {
     "data": {
      "text/plain": [
       "(10, 9226)"
      ]
     },
     "execution_count": 75,
     "metadata": {},
     "output_type": "execute_result"
    }
   ],
   "source": [
    "overall_sum, overall_objects_sum"
   ]
  },
  {
   "cell_type": "code",
   "execution_count": 77,
   "id": "9b6cdf36-f86f-49ef-b3ef-c7bf9579bc59",
   "metadata": {},
   "outputs": [
    {
     "data": {
      "text/plain": [
       "1"
      ]
     },
     "execution_count": 77,
     "metadata": {},
     "output_type": "execute_result"
    }
   ],
   "source": [
    "idx"
   ]
  },
  {
   "cell_type": "code",
   "execution_count": null,
   "id": "c286480c-3998-44d4-875a-19fdf418d845",
   "metadata": {},
   "outputs": [],
   "source": []
  },
  {
   "cell_type": "code",
   "execution_count": null,
   "id": "6b88b5f5-475a-46c5-970f-b07545432de9",
   "metadata": {},
   "outputs": [],
   "source": []
  },
  {
   "cell_type": "code",
   "execution_count": null,
   "id": "601d131a-26ca-49d4-b902-2732236f819d",
   "metadata": {},
   "outputs": [],
   "source": []
  },
  {
   "cell_type": "code",
   "execution_count": null,
   "id": "a5033632-c329-4f4f-a249-9cfaa58cc50b",
   "metadata": {},
   "outputs": [],
   "source": []
  },
  {
   "cell_type": "code",
   "execution_count": 195,
   "id": "5aca2633-d096-476b-a678-8ea5dd250417",
   "metadata": {},
   "outputs": [
    {
     "name": "stderr",
     "output_type": "stream",
     "text": [
      "[2023-07-05 10:39:50,007][INFO ][__main__] Epochs: 100, step: 10\n",
      "[2023-07-05 10:40:03,091][INFO ][__main__] Epoch 10 | Loss 0.20313\n",
      "[2023-07-05 10:40:15,178][INFO ][__main__] Epoch 20 | Loss 0.24293\n",
      "[2023-07-05 10:40:26,946][INFO ][__main__] Epoch 30 | Loss 0.19478\n",
      "[2023-07-05 10:40:39,214][INFO ][__main__] Epoch 40 | Loss 0.16695\n",
      "[2023-07-05 10:40:51,460][INFO ][__main__] Epoch 50 | Loss 0.20057\n",
      "[2023-07-05 10:41:03,348][INFO ][__main__] Epoch 60 | Loss 0.15200\n",
      "[2023-07-05 10:41:15,394][INFO ][__main__] Epoch 70 | Loss 0.15517\n",
      "[2023-07-05 10:41:27,504][INFO ][__main__] Epoch 80 | Loss 0.15959\n",
      "[2023-07-05 10:41:39,342][INFO ][__main__] Epoch 90 | Loss 0.19899\n"
     ]
    }
   ],
   "source": [
    "losses = nn.train_batch(train_loader, epochs=100, logger=LOG)"
   ]
  },
  {
   "cell_type": "code",
   "execution_count": 196,
   "id": "2d16637f-fda2-4a8b-8f8a-b1c7dcb979bb",
   "metadata": {},
   "outputs": [
    {
     "name": "stderr",
     "output_type": "stream",
     "text": [
      "100%|██████████| 10000/10000 [00:21<00:00, 457.29it/s]\n",
      "[2023-07-05 10:42:12,760][INFO ][__main__] mean_cats_covered=2.0164, mean_objects_covered=22370.4726\n"
     ]
    },
    {
     "name": "stdout",
     "output_type": "stream",
     "text": [
      "CPU times: user 20.8 s, sys: 83.5 ms, total: 20.9 s\n",
      "Wall time: 22 s\n"
     ]
    },
    {
     "data": {
      "text/plain": [
       "(2.0164, 22370.4726)"
      ]
     },
     "execution_count": 196,
     "metadata": {},
     "output_type": "execute_result"
    }
   ],
   "source": [
    "%%time\n",
    "category_nn = nn.predict(data_X_to_torch(data.drop(['category', 'category_nn'], axis=1, errors='ignore')))\n",
    "data['category_nn'] = category_nn\n",
    "mean_cats_covered, mean_objects_covered, cats_all, objs_all = get_partitioning_quality_nn(nn, loaded_queries, data, loaded_gt, category_nn)\n",
    "mean_cats_covered, mean_objects_covered"
   ]
  },
  {
   "cell_type": "markdown",
   "id": "d6ba1d14-ea16-4f5d-ade0-92bbd30e9754",
   "metadata": {},
   "source": [
    "#### More training makes the NN worse off"
   ]
  },
  {
   "cell_type": "code",
   "execution_count": 179,
   "id": "cc3d320a-0aa4-4024-9654-08da989cf696",
   "metadata": {},
   "outputs": [
    {
     "data": {
      "text/plain": [
       "Index([         0,          1,          2,          3,          4,          5,\n",
       "                6,          7,          8,          9,         10,         11,\n",
       "               12,         13,         14,         15,         16,         17,\n",
       "               18,         19,         20,         21,         22,         23,\n",
       "               24,         25,         26,         27,         28,         29,\n",
       "               30,         31, 'category'],\n",
       "      dtype='object')"
      ]
     },
     "execution_count": 179,
     "metadata": {},
     "output_type": "execute_result"
    }
   ],
   "source": [
    "data.columns"
   ]
  },
  {
   "cell_type": "code",
   "execution_count": 180,
   "id": "87a560e7-9708-471f-ae1e-af15388cddaa",
   "metadata": {},
   "outputs": [],
   "source": [
    "category_nn = nn.predict(data_X_to_torch(data.drop('category', axis=1)))"
   ]
  },
  {
   "cell_type": "code",
   "execution_count": 182,
   "id": "f1ee9000-bd5d-4761-8c89-f3532b061f7c",
   "metadata": {},
   "outputs": [
    {
     "data": {
      "text/plain": [
       "(100000,)"
      ]
     },
     "execution_count": 182,
     "metadata": {},
     "output_type": "execute_result"
    }
   ],
   "source": [
    "category_nn.shape"
   ]
  },
  {
   "cell_type": "code",
   "execution_count": 183,
   "id": "715c87b5-7318-4621-9f85-5798a8f598ad",
   "metadata": {},
   "outputs": [],
   "source": [
    "data['category_nn'] = category_nn"
   ]
  },
  {
   "cell_type": "code",
   "execution_count": 185,
   "id": "54eb0664-d185-4acc-90cf-0deed9803f73",
   "metadata": {},
   "outputs": [
    {
     "data": {
      "text/plain": [
       "(7576, 34)"
      ]
     },
     "execution_count": 185,
     "metadata": {},
     "output_type": "execute_result"
    }
   ],
   "source": [
    "data.query('category_nn != category').shape"
   ]
  },
  {
   "cell_type": "code",
   "execution_count": 187,
   "id": "f992031a-b9e2-48db-b251-945a06cf8e17",
   "metadata": {},
   "outputs": [
    {
     "name": "stderr",
     "output_type": "stream",
     "text": [
      "100%|██████████| 10000/10000 [00:22<00:00, 451.88it/s]\n",
      "[2023-07-05 10:32:01,976][INFO ][__main__] mean_cats_covered=1.9818, mean_objects_covered=22495.2752\n"
     ]
    },
    {
     "name": "stdout",
     "output_type": "stream",
     "text": [
      "CPU times: user 20.7 s, sys: 96.2 ms, total: 20.8 s\n",
      "Wall time: 22.2 s\n"
     ]
    }
   ],
   "source": [
    "%time mean_cats_covered, mean_objects_covered, cats_all, objs_all = get_partitioning_quality_nn(nn, loaded_queries, data, loaded_gt, result_wo)"
   ]
  },
  {
   "cell_type": "code",
   "execution_count": 189,
   "id": "8148092f-fcc5-476a-9f5b-6352b750ab06",
   "metadata": {},
   "outputs": [
    {
     "name": "stderr",
     "output_type": "stream",
     "text": [
      "100%|██████████| 10000/10000 [00:21<00:00, 465.98it/s]\n",
      "[2023-07-05 10:32:38,376][INFO ][__main__] mean_cats_covered=1.9752, mean_objects_covered=22207.6475\n"
     ]
    },
    {
     "name": "stdout",
     "output_type": "stream",
     "text": [
      "CPU times: user 20.2 s, sys: 76.2 ms, total: 20.3 s\n",
      "Wall time: 21.5 s\n"
     ]
    }
   ],
   "source": [
    "%time mean_cats_covered, mean_objects_covered, cats_all, objs_all = get_partitioning_quality_nn(nn, loaded_queries, data, loaded_gt, category_nn)"
   ]
  },
  {
   "cell_type": "code",
   "execution_count": null,
   "id": "cb164c69-d014-4ffc-afa2-72156b04643d",
   "metadata": {},
   "outputs": [],
   "source": []
  },
  {
   "cell_type": "code",
   "execution_count": 157,
   "id": "ead848fe-88b5-419b-824c-4a54edcaef3f",
   "metadata": {},
   "outputs": [
    {
     "data": {
      "text/plain": [
       "(array([[0.31023687, 0.39056206, 0.39874762]], dtype=float32),\n",
       " array([[848, 891, 235]]))"
      ]
     },
     "execution_count": 157,
     "metadata": {},
     "output_type": "execute_result"
    }
   ],
   "source": [
    "kmeans.index.search(np.array(queries_prep[:1]).astype(np.float32), 3)"
   ]
  },
  {
   "cell_type": "code",
   "execution_count": 156,
   "id": "3f6021f5-52d1-43fe-807d-122a151f35b9",
   "metadata": {},
   "outputs": [
    {
     "data": {
      "text/plain": [
       "array([235, 235, 235, 891, 891, 848, 848, 891, 891, 848, 891, 891, 891,\n",
       "       235, 693, 625, 625, 625, 891, 549, 693, 549, 235,  94, 547, 848,\n",
       "       891, 891, 963, 625, 779, 693, 235, 963, 891, 625, 549, 891, 779,\n",
       "       848, 496, 891, 625, 489, 188, 919, 848, 301, 848, 848, 693, 683,\n",
       "       500, 891, 891,  51, 143, 693, 166, 891, 223, 625, 891, 672, 705,\n",
       "       223, 656, 891, 625, 625, 625, 625,  51,  51, 166, 698, 625, 848,\n",
       "       891, 891, 693, 143,  51, 848, 683, 693, 549, 891, 848, 848, 848,\n",
       "       301, 891, 891, 891,  51, 848, 683, 875, 869])"
      ]
     },
     "execution_count": 156,
     "metadata": {},
     "output_type": "execute_result"
    }
   ],
   "source": [
    "result[loaded_gt[0] - 1]"
   ]
  },
  {
   "cell_type": "code",
   "execution_count": 155,
   "id": "dbfd44b2-60ac-4d29-8c81-4983fd6c6d3a",
   "metadata": {},
   "outputs": [
    {
     "data": {
      "text/plain": [
       "array([79171, 15734, 22336,   230, 74172, 41078, 38158, 71848, 69014,\n",
       "       92810, 99972, 79895, 13235, 64155, 86178, 55217, 60621, 64727,\n",
       "       86340, 63838, 52856,   884, 83735, 87456, 36441, 24313, 73878,\n",
       "        5984, 20969, 60558,  5413, 26293, 42585, 41369, 22972,  4414,\n",
       "       23974, 82380, 15424, 79752, 19744, 74572, 40381,  8734, 70296,\n",
       "       23883, 92500, 66708, 91231, 61307, 94072,  4326, 25524,  7179,\n",
       "       12400,  5450, 59682, 17543, 53817, 52101, 85601,   897, 76552,\n",
       "       18966, 37888, 50122, 80242, 35692, 73073, 31648, 55411, 13492,\n",
       "       67225, 21471, 81543, 70032, 91178, 97386, 94425, 76537, 64252,\n",
       "       29032, 87036, 38032, 80912, 70409, 83587, 44951,  6910, 65793,\n",
       "       45783,  5491, 35204, 21689, 16710, 95027, 19960,  1707, 68449,\n",
       "       20332], dtype=int32)"
      ]
     },
     "execution_count": 155,
     "metadata": {},
     "output_type": "execute_result"
    }
   ],
   "source": [
    "loaded_gt[0] - 1"
   ]
  },
  {
   "cell_type": "code",
   "execution_count": 146,
   "id": "ddb3eaa1-0175-40a0-aa3f-1510c0efef89",
   "metadata": {},
   "outputs": [
    {
     "data": {
      "text/plain": [
       "array([-0.06877425, -0.11037602,  0.05646035, -0.11508854, -0.03577028,\n",
       "        0.09110859,  0.07477964,  0.10778218,  0.04116842,  0.00877987,\n",
       "       -0.06257925, -0.17031246,  0.00780125, -0.099485  ,  0.04967897,\n",
       "       -0.12064676,  0.0035742 , -0.07642894,  0.08400699, -0.03188556,\n",
       "       -0.01020392,  0.07147753, -0.01378688, -0.10539152, -0.00040444,\n",
       "       -0.00291365,  0.12945361,  0.05624911,  0.00785595,  0.01020052,\n",
       "        0.06252866, -0.00992952], dtype=float32)"
      ]
     },
     "execution_count": 146,
     "metadata": {},
     "output_type": "execute_result"
    }
   ],
   "source": [
    "loaded_queries[0]"
   ]
  },
  {
   "cell_type": "code",
   "execution_count": 11,
   "id": "998331f5-1f67-4e09-8ffe-3b75aca0a9bd",
   "metadata": {},
   "outputs": [],
   "source": [
    "import h5py\n",
    "import pandas as pd\n",
    "import pickle\n",
    "from tqdm import tqdm\n",
    "from li.utils import pairwise_cosine\n",
    "import time\n",
    "import logging\n",
    "import numpy as np\n",
    "import os\n",
    "from li.BaseLMI import cluster_kmeans_faiss, cluster_kmedoids\n",
    "from li.BaseLMI import BaseLMI\n",
    "prepare_data_cluster_kmedoids = BaseLMI.prepare_data_cluster_kmedoids\n",
    "collect_predictions_kmedoids = BaseLMI.collect_predictions_kmedoids\n",
    "from li.model import NeuralNetwork, data_X_to_torch, data_to_torch\n",
    "import argparse\n",
    "from datetime import datetime\n",
    "from sklearn import preprocessing\n"
   ]
  },
  {
   "cell_type": "code",
   "execution_count": 12,
   "id": "96f1e526-3ee4-4d47-8e80-02fd914375da",
   "metadata": {},
   "outputs": [],
   "source": [
    "k=10\n",
    "n_categories=1000\n",
    "epochs=100\n",
    "lr=0.1\n",
    "model_type='MLP'"
   ]
  },
  {
   "cell_type": "code",
   "execution_count": null,
   "id": "79ea4336-ed1c-46ba-9aea-d3f5e7353a7f",
   "metadata": {},
   "outputs": [],
   "source": [
    "nn = NeuralNetwork(\n",
    "    input_dim=data.shape[1], output_dim=n_categories, lr=lr, model_type=model_type\n",
    ")\n",
    "data_x, data_y = data_to_torch(data_prep[:100_000], result[:100_000])\n",
    "#data_x, data_y = data_to_torch(data_part, labels)\n",
    "LOG.info(f'Starting training')\n",
    "losses = nn.train(data_x, data_y, epochs=epochs, logger=LOG)"
   ]
  },
  {
   "cell_type": "markdown",
   "id": "71fe019d-ed9a-4f37-87bd-62c8c73a0906",
   "metadata": {},
   "source": [
    "## gauge the nn performance:\n"
   ]
  },
  {
   "cell_type": "code",
   "execution_count": 193,
   "id": "c678c1c5-bec3-466a-8ceb-b0e07684511a",
   "metadata": {},
   "outputs": [
    {
     "name": "stderr",
     "output_type": "stream",
     "text": [
      "100%|██████████| 10000/10000 [00:22<00:00, 442.79it/s]\n",
      "[2023-07-05 10:37:17,411][INFO ][__main__] mean_cats_covered=1.9752, mean_objects_covered=22207.6475\n"
     ]
    },
    {
     "name": "stdout",
     "output_type": "stream",
     "text": [
      "CPU times: user 21.2 s, sys: 104 ms, total: 21.3 s\n",
      "Wall time: 22.7 s\n"
     ]
    },
    {
     "data": {
      "text/plain": [
       "(1.9752, 22207.6475)"
      ]
     },
     "execution_count": 193,
     "metadata": {},
     "output_type": "execute_result"
    }
   ],
   "source": [
    "%%time\n",
    "category_nn = nn.predict(data_X_to_torch(data.drop(['category', 'category_nn'], axis=1, errors='ignore')))\n",
    "data['category_nn'] = category_nn\n",
    "mean_cats_covered, mean_objects_covered, cats_all, objs_all = get_partitioning_quality_nn(nn, loaded_queries, data, loaded_gt, category_nn)\n",
    "mean_cats_covered, mean_objects_covered"
   ]
  },
  {
   "cell_type": "code",
   "execution_count": null,
   "id": "78ddd588-7177-4bca-b4cf-d86b44055f80",
   "metadata": {},
   "outputs": [],
   "source": [
    "losses = nn.train(data_x, data_y, epochs=epochs, logger=LOG)"
   ]
  },
  {
   "cell_type": "code",
   "execution_count": null,
   "id": "d2145c1e-8185-4d97-8d4c-81d9c07b16c9",
   "metadata": {},
   "outputs": [],
   "source": [
    "data_x, data_y = data_to_torch(data_prep[100_000:200_000], result[100_000:200_000])\n",
    "#data_x, data_y = data_to_torch(data_part, labels)\n",
    "LOG.info(f'Starting training')\n",
    "losses = nn.train(data_x, data_y, epochs=epochs, logger=LOG)"
   ]
  },
  {
   "cell_type": "code",
   "execution_count": 15,
   "id": "99975e01-8e94-4b95-a4d4-fd5cb9e71010",
   "metadata": {},
   "outputs": [
    {
     "data": {
      "text/plain": [
       "array([      0,  100000,  200000,  300000,  400000,  500000,  600000,\n",
       "        700000,  800000,  900000, 1000000, 1100000, 1200000, 1300000,\n",
       "       1400000, 1500000, 1600000, 1700000, 1800000, 1900000, 2000000,\n",
       "       2100000, 2200000, 2300000, 2400000, 2500000, 2600000, 2700000,\n",
       "       2800000, 2900000, 3000000, 3100000, 3200000, 3300000, 3400000,\n",
       "       3500000, 3600000, 3700000, 3800000, 3900000, 4000000, 4100000,\n",
       "       4200000, 4300000, 4400000, 4500000, 4600000, 4700000, 4800000,\n",
       "       4900000, 5000000, 5100000, 5200000, 5300000, 5400000, 5500000,\n",
       "       5600000, 5700000, 5800000, 5900000, 6000000, 6100000, 6200000,\n",
       "       6300000, 6400000, 6500000, 6600000, 6700000, 6800000, 6900000,\n",
       "       7000000, 7100000, 7200000, 7300000, 7400000, 7500000, 7600000,\n",
       "       7700000, 7800000, 7900000, 8000000, 8100000, 8200000, 8300000,\n",
       "       8400000, 8500000, 8600000, 8700000, 8800000, 8900000, 9000000,\n",
       "       9100000, 9200000, 9300000, 9400000, 9500000, 9600000, 9700000,\n",
       "       9800000, 9900000])"
      ]
     },
     "execution_count": 15,
     "metadata": {},
     "output_type": "execute_result"
    }
   ],
   "source": [
    "np.arange(0, 10_000_000, 100_000)"
   ]
  },
  {
   "cell_type": "code",
   "execution_count": null,
   "id": "646fd1e1-5a85-4b58-8df6-3a1ee28bfd92",
   "metadata": {},
   "outputs": [],
   "source": [
    "from sklearn import preprocessing\n",
    "from sklearn.cluster import KMeans\n",
    "\n",
    "kmeans = KMeans().fit(preprocessing.normalize(X))"
   ]
  },
  {
   "cell_type": "code",
   "execution_count": 133,
   "id": "92252211-2bf0-46af-b1a4-d561de10a7ac",
   "metadata": {},
   "outputs": [
    {
     "ename": "KeyboardInterrupt",
     "evalue": "",
     "output_type": "error",
     "traceback": [
      "\u001b[0;31m---------------------------------------------------------------------------\u001b[0m",
      "\u001b[0;31mKeyboardInterrupt\u001b[0m                         Traceback (most recent call last)",
      "\u001b[0;32m/mnt/storage-brno11-elixir/home/tslaninakova/dynamic-lmi/dynamic-lmi-env/lib/python3.6/site-packages/IPython/core/magics/execution.py\u001b[0m in \u001b[0;36mtime\u001b[0;34m(self, line, cell, local_ns)\u001b[0m\n\u001b[1;32m   1314\u001b[0m             \u001b[0;32mtry\u001b[0m\u001b[0;34m:\u001b[0m\u001b[0;34m\u001b[0m\u001b[0m\n\u001b[0;32m-> 1315\u001b[0;31m                 \u001b[0mexec\u001b[0m\u001b[0;34m(\u001b[0m\u001b[0mcode\u001b[0m\u001b[0;34m,\u001b[0m \u001b[0mglob\u001b[0m\u001b[0;34m,\u001b[0m \u001b[0mlocal_ns\u001b[0m\u001b[0;34m)\u001b[0m\u001b[0;34m\u001b[0m\u001b[0m\n\u001b[0m\u001b[1;32m   1316\u001b[0m                 \u001b[0mout\u001b[0m\u001b[0;34m=\u001b[0m\u001b[0;32mNone\u001b[0m\u001b[0;34m\u001b[0m\u001b[0m\n",
      "\u001b[0;32m<timed exec>\u001b[0m in \u001b[0;36m<module>\u001b[0;34m\u001b[0m\n",
      "\u001b[0;32m/mnt/storage-brno11-elixir/home/tslaninakova/dynamic-lmi/dynamic-lmi-env/lib/python3.6/site-packages/sklearn/cluster/_dbscan.py\u001b[0m in \u001b[0;36mfit\u001b[0;34m(self, X, y, sample_weight)\u001b[0m\n\u001b[1;32m    334\u001b[0m         neighborhoods = neighbors_model.radius_neighbors(X,\n\u001b[0;32m--> 335\u001b[0;31m                                                          return_distance=False)\n\u001b[0m\u001b[1;32m    336\u001b[0m \u001b[0;34m\u001b[0m\u001b[0m\n",
      "\u001b[0;32m/mnt/storage-brno11-elixir/home/tslaninakova/dynamic-lmi/dynamic-lmi-env/lib/python3.6/site-packages/sklearn/neighbors/_base.py\u001b[0m in \u001b[0;36mradius_neighbors\u001b[0;34m(self, X, radius, return_distance, sort_results)\u001b[0m\n\u001b[1;32m   1021\u001b[0m             \u001b[0;32melse\u001b[0m\u001b[0;34m:\u001b[0m\u001b[0;34m\u001b[0m\u001b[0m\n\u001b[0;32m-> 1022\u001b[0;31m                 \u001b[0mneigh_ind_list\u001b[0m \u001b[0;34m=\u001b[0m \u001b[0msum\u001b[0m\u001b[0;34m(\u001b[0m\u001b[0mchunked_results\u001b[0m\u001b[0;34m,\u001b[0m \u001b[0;34m[\u001b[0m\u001b[0;34m]\u001b[0m\u001b[0;34m)\u001b[0m\u001b[0;34m\u001b[0m\u001b[0m\n\u001b[0m\u001b[1;32m   1023\u001b[0m                 \u001b[0mresults\u001b[0m \u001b[0;34m=\u001b[0m \u001b[0m_to_object_array\u001b[0m\u001b[0;34m(\u001b[0m\u001b[0mneigh_ind_list\u001b[0m\u001b[0;34m)\u001b[0m\u001b[0;34m\u001b[0m\u001b[0m\n",
      "\u001b[0;32m/mnt/storage-brno11-elixir/home/tslaninakova/dynamic-lmi/dynamic-lmi-env/lib/python3.6/site-packages/sklearn/metrics/pairwise.py\u001b[0m in \u001b[0;36mpairwise_distances_chunked\u001b[0;34m(X, Y, reduce_func, metric, n_jobs, working_memory, **kwds)\u001b[0m\n\u001b[1;32m   1623\u001b[0m         D_chunk = pairwise_distances(X_chunk, Y, metric=metric,\n\u001b[0;32m-> 1624\u001b[0;31m                                      n_jobs=n_jobs, **kwds)\n\u001b[0m\u001b[1;32m   1625\u001b[0m         if ((X is Y or Y is None)\n",
      "\u001b[0;32m/mnt/storage-brno11-elixir/home/tslaninakova/dynamic-lmi/dynamic-lmi-env/lib/python3.6/site-packages/sklearn/utils/validation.py\u001b[0m in \u001b[0;36minner_f\u001b[0;34m(*args, **kwargs)\u001b[0m\n\u001b[1;32m     62\u001b[0m             \u001b[0;32mif\u001b[0m \u001b[0mextra_args\u001b[0m \u001b[0;34m<=\u001b[0m \u001b[0;36m0\u001b[0m\u001b[0;34m:\u001b[0m\u001b[0;34m\u001b[0m\u001b[0m\n\u001b[0;32m---> 63\u001b[0;31m                 \u001b[0;32mreturn\u001b[0m \u001b[0mf\u001b[0m\u001b[0;34m(\u001b[0m\u001b[0;34m*\u001b[0m\u001b[0margs\u001b[0m\u001b[0;34m,\u001b[0m \u001b[0;34m**\u001b[0m\u001b[0mkwargs\u001b[0m\u001b[0;34m)\u001b[0m\u001b[0;34m\u001b[0m\u001b[0m\n\u001b[0m\u001b[1;32m     64\u001b[0m \u001b[0;34m\u001b[0m\u001b[0m\n",
      "\u001b[0;32m/mnt/storage-brno11-elixir/home/tslaninakova/dynamic-lmi/dynamic-lmi-env/lib/python3.6/site-packages/sklearn/metrics/pairwise.py\u001b[0m in \u001b[0;36mpairwise_distances\u001b[0;34m(X, Y, metric, n_jobs, force_all_finite, **kwds)\u001b[0m\n\u001b[1;32m   1789\u001b[0m \u001b[0;34m\u001b[0m\u001b[0m\n\u001b[0;32m-> 1790\u001b[0;31m     \u001b[0;32mreturn\u001b[0m \u001b[0m_parallel_pairwise\u001b[0m\u001b[0;34m(\u001b[0m\u001b[0mX\u001b[0m\u001b[0;34m,\u001b[0m \u001b[0mY\u001b[0m\u001b[0;34m,\u001b[0m \u001b[0mfunc\u001b[0m\u001b[0;34m,\u001b[0m \u001b[0mn_jobs\u001b[0m\u001b[0;34m,\u001b[0m \u001b[0;34m**\u001b[0m\u001b[0mkwds\u001b[0m\u001b[0;34m)\u001b[0m\u001b[0;34m\u001b[0m\u001b[0m\n\u001b[0m\u001b[1;32m   1791\u001b[0m \u001b[0;34m\u001b[0m\u001b[0m\n",
      "\u001b[0;32m/mnt/storage-brno11-elixir/home/tslaninakova/dynamic-lmi/dynamic-lmi-env/lib/python3.6/site-packages/sklearn/metrics/pairwise.py\u001b[0m in \u001b[0;36m_parallel_pairwise\u001b[0;34m(X, Y, func, n_jobs, **kwds)\u001b[0m\n\u001b[1;32m   1358\u001b[0m     \u001b[0;32mif\u001b[0m \u001b[0meffective_n_jobs\u001b[0m\u001b[0;34m(\u001b[0m\u001b[0mn_jobs\u001b[0m\u001b[0;34m)\u001b[0m \u001b[0;34m==\u001b[0m \u001b[0;36m1\u001b[0m\u001b[0;34m:\u001b[0m\u001b[0;34m\u001b[0m\u001b[0m\n\u001b[0;32m-> 1359\u001b[0;31m         \u001b[0;32mreturn\u001b[0m \u001b[0mfunc\u001b[0m\u001b[0;34m(\u001b[0m\u001b[0mX\u001b[0m\u001b[0;34m,\u001b[0m \u001b[0mY\u001b[0m\u001b[0;34m,\u001b[0m \u001b[0;34m**\u001b[0m\u001b[0mkwds\u001b[0m\u001b[0;34m)\u001b[0m\u001b[0;34m\u001b[0m\u001b[0m\n\u001b[0m\u001b[1;32m   1360\u001b[0m \u001b[0;34m\u001b[0m\u001b[0m\n",
      "\u001b[0;32m/mnt/storage-brno11-elixir/home/tslaninakova/dynamic-lmi/dynamic-lmi-env/lib/python3.6/site-packages/sklearn/metrics/pairwise.py\u001b[0m in \u001b[0;36mcosine_distances\u001b[0;34m(X, Y)\u001b[0m\n\u001b[1;32m    832\u001b[0m     \u001b[0;31m# 1.0 - cosine_similarity(X, Y) without copy\u001b[0m\u001b[0;34m\u001b[0m\u001b[0;34m\u001b[0m\u001b[0m\n\u001b[0;32m--> 833\u001b[0;31m     \u001b[0mS\u001b[0m \u001b[0;34m=\u001b[0m \u001b[0mcosine_similarity\u001b[0m\u001b[0;34m(\u001b[0m\u001b[0mX\u001b[0m\u001b[0;34m,\u001b[0m \u001b[0mY\u001b[0m\u001b[0;34m)\u001b[0m\u001b[0;34m\u001b[0m\u001b[0m\n\u001b[0m\u001b[1;32m    834\u001b[0m     \u001b[0mS\u001b[0m \u001b[0;34m*=\u001b[0m \u001b[0;34m-\u001b[0m\u001b[0;36m1\u001b[0m\u001b[0;34m\u001b[0m\u001b[0m\n",
      "\u001b[0;32m/mnt/storage-brno11-elixir/home/tslaninakova/dynamic-lmi/dynamic-lmi-env/lib/python3.6/site-packages/sklearn/metrics/pairwise.py\u001b[0m in \u001b[0;36mcosine_similarity\u001b[0;34m(X, Y, dense_output)\u001b[0m\n\u001b[1;32m   1185\u001b[0m     \u001b[0;32melse\u001b[0m\u001b[0;34m:\u001b[0m\u001b[0;34m\u001b[0m\u001b[0m\n\u001b[0;32m-> 1186\u001b[0;31m         \u001b[0mY_normalized\u001b[0m \u001b[0;34m=\u001b[0m \u001b[0mnormalize\u001b[0m\u001b[0;34m(\u001b[0m\u001b[0mY\u001b[0m\u001b[0;34m,\u001b[0m \u001b[0mcopy\u001b[0m\u001b[0;34m=\u001b[0m\u001b[0;32mTrue\u001b[0m\u001b[0;34m)\u001b[0m\u001b[0;34m\u001b[0m\u001b[0m\n\u001b[0m\u001b[1;32m   1187\u001b[0m \u001b[0;34m\u001b[0m\u001b[0m\n",
      "\u001b[0;32m/mnt/storage-brno11-elixir/home/tslaninakova/dynamic-lmi/dynamic-lmi-env/lib/python3.6/site-packages/sklearn/utils/validation.py\u001b[0m in \u001b[0;36minner_f\u001b[0;34m(*args, **kwargs)\u001b[0m\n\u001b[1;32m     62\u001b[0m             \u001b[0;32mif\u001b[0m \u001b[0mextra_args\u001b[0m \u001b[0;34m<=\u001b[0m \u001b[0;36m0\u001b[0m\u001b[0;34m:\u001b[0m\u001b[0;34m\u001b[0m\u001b[0m\n\u001b[0;32m---> 63\u001b[0;31m                 \u001b[0;32mreturn\u001b[0m \u001b[0mf\u001b[0m\u001b[0;34m(\u001b[0m\u001b[0;34m*\u001b[0m\u001b[0margs\u001b[0m\u001b[0;34m,\u001b[0m \u001b[0;34m**\u001b[0m\u001b[0mkwargs\u001b[0m\u001b[0;34m)\u001b[0m\u001b[0;34m\u001b[0m\u001b[0m\n\u001b[0m\u001b[1;32m     64\u001b[0m \u001b[0;34m\u001b[0m\u001b[0m\n",
      "\u001b[0;32m/mnt/storage-brno11-elixir/home/tslaninakova/dynamic-lmi/dynamic-lmi-env/lib/python3.6/site-packages/sklearn/preprocessing/_data.py\u001b[0m in \u001b[0;36mnormalize\u001b[0;34m(X, norm, axis, copy, return_norm)\u001b[0m\n\u001b[1;32m   1927\u001b[0m         \u001b[0;32melif\u001b[0m \u001b[0mnorm\u001b[0m \u001b[0;34m==\u001b[0m \u001b[0;34m'l2'\u001b[0m\u001b[0;34m:\u001b[0m\u001b[0;34m\u001b[0m\u001b[0m\n\u001b[0;32m-> 1928\u001b[0;31m             \u001b[0mnorms\u001b[0m \u001b[0;34m=\u001b[0m \u001b[0mrow_norms\u001b[0m\u001b[0;34m(\u001b[0m\u001b[0mX\u001b[0m\u001b[0;34m)\u001b[0m\u001b[0;34m\u001b[0m\u001b[0m\n\u001b[0m\u001b[1;32m   1929\u001b[0m         \u001b[0;32melif\u001b[0m \u001b[0mnorm\u001b[0m \u001b[0;34m==\u001b[0m \u001b[0;34m'max'\u001b[0m\u001b[0;34m:\u001b[0m\u001b[0;34m\u001b[0m\u001b[0m\n",
      "\u001b[0;32m/mnt/storage-brno11-elixir/home/tslaninakova/dynamic-lmi/dynamic-lmi-env/lib/python3.6/site-packages/sklearn/utils/extmath.py\u001b[0m in \u001b[0;36mrow_norms\u001b[0;34m(X, squared)\u001b[0m\n\u001b[1;32m     73\u001b[0m     \u001b[0;32melse\u001b[0m\u001b[0;34m:\u001b[0m\u001b[0;34m\u001b[0m\u001b[0m\n\u001b[0;32m---> 74\u001b[0;31m         \u001b[0mnorms\u001b[0m \u001b[0;34m=\u001b[0m \u001b[0mnp\u001b[0m\u001b[0;34m.\u001b[0m\u001b[0meinsum\u001b[0m\u001b[0;34m(\u001b[0m\u001b[0;34m'ij,ij->i'\u001b[0m\u001b[0;34m,\u001b[0m \u001b[0mX\u001b[0m\u001b[0;34m,\u001b[0m \u001b[0mX\u001b[0m\u001b[0;34m)\u001b[0m\u001b[0;34m\u001b[0m\u001b[0m\n\u001b[0m\u001b[1;32m     75\u001b[0m \u001b[0;34m\u001b[0m\u001b[0m\n",
      "\u001b[0;32m<__array_function__ internals>\u001b[0m in \u001b[0;36meinsum\u001b[0;34m(*args, **kwargs)\u001b[0m\n",
      "\u001b[0;32m/mnt/storage-brno11-elixir/home/tslaninakova/dynamic-lmi/dynamic-lmi-env/lib/python3.6/site-packages/numpy/core/einsumfunc.py\u001b[0m in \u001b[0;36meinsum\u001b[0;34m(out, optimize, *operands, **kwargs)\u001b[0m\n\u001b[1;32m   1349\u001b[0m             \u001b[0mkwargs\u001b[0m\u001b[0;34m[\u001b[0m\u001b[0;34m'out'\u001b[0m\u001b[0;34m]\u001b[0m \u001b[0;34m=\u001b[0m \u001b[0mout\u001b[0m\u001b[0;34m\u001b[0m\u001b[0m\n\u001b[0;32m-> 1350\u001b[0;31m         \u001b[0;32mreturn\u001b[0m \u001b[0mc_einsum\u001b[0m\u001b[0;34m(\u001b[0m\u001b[0;34m*\u001b[0m\u001b[0moperands\u001b[0m\u001b[0;34m,\u001b[0m \u001b[0;34m**\u001b[0m\u001b[0mkwargs\u001b[0m\u001b[0;34m)\u001b[0m\u001b[0;34m\u001b[0m\u001b[0m\n\u001b[0m\u001b[1;32m   1351\u001b[0m \u001b[0;34m\u001b[0m\u001b[0m\n",
      "\u001b[0;31mKeyboardInterrupt\u001b[0m: ",
      "\nDuring handling of the above exception, another exception occurred:\n",
      "\u001b[0;31mKeyboardInterrupt\u001b[0m                         Traceback (most recent call last)",
      "\u001b[0;32m<ipython-input-133-b40da4af1aa8>\u001b[0m in \u001b[0;36m<module>\u001b[0;34m\u001b[0m\n\u001b[0;32m----> 1\u001b[0;31m \u001b[0mget_ipython\u001b[0m\u001b[0;34m(\u001b[0m\u001b[0;34m)\u001b[0m\u001b[0;34m.\u001b[0m\u001b[0mrun_cell_magic\u001b[0m\u001b[0;34m(\u001b[0m\u001b[0;34m'time'\u001b[0m\u001b[0;34m,\u001b[0m \u001b[0;34m''\u001b[0m\u001b[0;34m,\u001b[0m \u001b[0;34m\"clusters = DBSCAN(\\n    eps=0.2, min_samples=4, metric='cosine', leaf_size=9, p=0.005\\n).fit(data_s.values)\\n# eps = 0.5\\n\"\u001b[0m\u001b[0;34m)\u001b[0m\u001b[0;34m\u001b[0m\u001b[0m\n\u001b[0m",
      "\u001b[0;32m/mnt/storage-brno11-elixir/home/tslaninakova/dynamic-lmi/dynamic-lmi-env/lib/python3.6/site-packages/IPython/core/interactiveshell.py\u001b[0m in \u001b[0;36mrun_cell_magic\u001b[0;34m(self, magic_name, line, cell)\u001b[0m\n\u001b[1;32m   2369\u001b[0m             \u001b[0;32mwith\u001b[0m \u001b[0mself\u001b[0m\u001b[0;34m.\u001b[0m\u001b[0mbuiltin_trap\u001b[0m\u001b[0;34m:\u001b[0m\u001b[0;34m\u001b[0m\u001b[0m\n\u001b[1;32m   2370\u001b[0m                 \u001b[0margs\u001b[0m \u001b[0;34m=\u001b[0m \u001b[0;34m(\u001b[0m\u001b[0mmagic_arg_s\u001b[0m\u001b[0;34m,\u001b[0m \u001b[0mcell\u001b[0m\u001b[0;34m)\u001b[0m\u001b[0;34m\u001b[0m\u001b[0m\n\u001b[0;32m-> 2371\u001b[0;31m                 \u001b[0mresult\u001b[0m \u001b[0;34m=\u001b[0m \u001b[0mfn\u001b[0m\u001b[0;34m(\u001b[0m\u001b[0;34m*\u001b[0m\u001b[0margs\u001b[0m\u001b[0;34m,\u001b[0m \u001b[0;34m**\u001b[0m\u001b[0mkwargs\u001b[0m\u001b[0;34m)\u001b[0m\u001b[0;34m\u001b[0m\u001b[0m\n\u001b[0m\u001b[1;32m   2372\u001b[0m             \u001b[0;32mreturn\u001b[0m \u001b[0mresult\u001b[0m\u001b[0;34m\u001b[0m\u001b[0m\n\u001b[1;32m   2373\u001b[0m \u001b[0;34m\u001b[0m\u001b[0m\n",
      "\u001b[0;32m/mnt/storage-brno11-elixir/home/tslaninakova/dynamic-lmi/dynamic-lmi-env/lib/python3.6/site-packages/decorator.py\u001b[0m in \u001b[0;36mfun\u001b[0;34m(*args, **kw)\u001b[0m\n\u001b[1;32m    230\u001b[0m             \u001b[0;32mif\u001b[0m \u001b[0;32mnot\u001b[0m \u001b[0mkwsyntax\u001b[0m\u001b[0;34m:\u001b[0m\u001b[0;34m\u001b[0m\u001b[0m\n\u001b[1;32m    231\u001b[0m                 \u001b[0margs\u001b[0m\u001b[0;34m,\u001b[0m \u001b[0mkw\u001b[0m \u001b[0;34m=\u001b[0m \u001b[0mfix\u001b[0m\u001b[0;34m(\u001b[0m\u001b[0margs\u001b[0m\u001b[0;34m,\u001b[0m \u001b[0mkw\u001b[0m\u001b[0;34m,\u001b[0m \u001b[0msig\u001b[0m\u001b[0;34m)\u001b[0m\u001b[0;34m\u001b[0m\u001b[0m\n\u001b[0;32m--> 232\u001b[0;31m             \u001b[0;32mreturn\u001b[0m \u001b[0mcaller\u001b[0m\u001b[0;34m(\u001b[0m\u001b[0mfunc\u001b[0m\u001b[0;34m,\u001b[0m \u001b[0;34m*\u001b[0m\u001b[0;34m(\u001b[0m\u001b[0mextras\u001b[0m \u001b[0;34m+\u001b[0m \u001b[0margs\u001b[0m\u001b[0;34m)\u001b[0m\u001b[0;34m,\u001b[0m \u001b[0;34m**\u001b[0m\u001b[0mkw\u001b[0m\u001b[0;34m)\u001b[0m\u001b[0;34m\u001b[0m\u001b[0m\n\u001b[0m\u001b[1;32m    233\u001b[0m     \u001b[0mfun\u001b[0m\u001b[0;34m.\u001b[0m\u001b[0m__name__\u001b[0m \u001b[0;34m=\u001b[0m \u001b[0mfunc\u001b[0m\u001b[0;34m.\u001b[0m\u001b[0m__name__\u001b[0m\u001b[0;34m\u001b[0m\u001b[0m\n\u001b[1;32m    234\u001b[0m     \u001b[0mfun\u001b[0m\u001b[0;34m.\u001b[0m\u001b[0m__doc__\u001b[0m \u001b[0;34m=\u001b[0m \u001b[0mfunc\u001b[0m\u001b[0;34m.\u001b[0m\u001b[0m__doc__\u001b[0m\u001b[0;34m\u001b[0m\u001b[0m\n",
      "\u001b[0;32m/mnt/storage-brno11-elixir/home/tslaninakova/dynamic-lmi/dynamic-lmi-env/lib/python3.6/site-packages/IPython/core/magic.py\u001b[0m in \u001b[0;36m<lambda>\u001b[0;34m(f, *a, **k)\u001b[0m\n\u001b[1;32m    185\u001b[0m     \u001b[0;31m# but it's overkill for just that one bit of state.\u001b[0m\u001b[0;34m\u001b[0m\u001b[0;34m\u001b[0m\u001b[0m\n\u001b[1;32m    186\u001b[0m     \u001b[0;32mdef\u001b[0m \u001b[0mmagic_deco\u001b[0m\u001b[0;34m(\u001b[0m\u001b[0marg\u001b[0m\u001b[0;34m)\u001b[0m\u001b[0;34m:\u001b[0m\u001b[0;34m\u001b[0m\u001b[0m\n\u001b[0;32m--> 187\u001b[0;31m         \u001b[0mcall\u001b[0m \u001b[0;34m=\u001b[0m \u001b[0;32mlambda\u001b[0m \u001b[0mf\u001b[0m\u001b[0;34m,\u001b[0m \u001b[0;34m*\u001b[0m\u001b[0ma\u001b[0m\u001b[0;34m,\u001b[0m \u001b[0;34m**\u001b[0m\u001b[0mk\u001b[0m\u001b[0;34m:\u001b[0m \u001b[0mf\u001b[0m\u001b[0;34m(\u001b[0m\u001b[0;34m*\u001b[0m\u001b[0ma\u001b[0m\u001b[0;34m,\u001b[0m \u001b[0;34m**\u001b[0m\u001b[0mk\u001b[0m\u001b[0;34m)\u001b[0m\u001b[0;34m\u001b[0m\u001b[0m\n\u001b[0m\u001b[1;32m    188\u001b[0m \u001b[0;34m\u001b[0m\u001b[0m\n\u001b[1;32m    189\u001b[0m         \u001b[0;32mif\u001b[0m \u001b[0mcallable\u001b[0m\u001b[0;34m(\u001b[0m\u001b[0marg\u001b[0m\u001b[0;34m)\u001b[0m\u001b[0;34m:\u001b[0m\u001b[0;34m\u001b[0m\u001b[0m\n",
      "\u001b[0;32m/mnt/storage-brno11-elixir/home/tslaninakova/dynamic-lmi/dynamic-lmi-env/lib/python3.6/site-packages/IPython/core/magics/execution.py\u001b[0m in \u001b[0;36mtime\u001b[0;34m(self, line, cell, local_ns)\u001b[0m\n\u001b[1;32m   1313\u001b[0m             \u001b[0mst\u001b[0m \u001b[0;34m=\u001b[0m \u001b[0mclock2\u001b[0m\u001b[0;34m(\u001b[0m\u001b[0;34m)\u001b[0m\u001b[0;34m\u001b[0m\u001b[0m\n\u001b[1;32m   1314\u001b[0m             \u001b[0;32mtry\u001b[0m\u001b[0;34m:\u001b[0m\u001b[0;34m\u001b[0m\u001b[0m\n\u001b[0;32m-> 1315\u001b[0;31m                 \u001b[0mexec\u001b[0m\u001b[0;34m(\u001b[0m\u001b[0mcode\u001b[0m\u001b[0;34m,\u001b[0m \u001b[0mglob\u001b[0m\u001b[0;34m,\u001b[0m \u001b[0mlocal_ns\u001b[0m\u001b[0;34m)\u001b[0m\u001b[0;34m\u001b[0m\u001b[0m\n\u001b[0m\u001b[1;32m   1316\u001b[0m                 \u001b[0mout\u001b[0m\u001b[0;34m=\u001b[0m\u001b[0;32mNone\u001b[0m\u001b[0;34m\u001b[0m\u001b[0m\n\u001b[1;32m   1317\u001b[0m                 \u001b[0;31m# multi-line %%time case\u001b[0m\u001b[0;34m\u001b[0m\u001b[0;34m\u001b[0m\u001b[0m\n",
      "\u001b[0;31mKeyboardInterrupt\u001b[0m: "
     ]
    }
   ],
   "source": [
    "%%time\n",
    "clusters = DBSCAN(\n",
    "    eps=0.2, min_samples=4, metric='cosine', leaf_size=9, p=0.005\n",
    ").fit(data_s.values)\n",
    "# eps = 0.5"
   ]
  },
  {
   "cell_type": "code",
   "execution_count": null,
   "id": "471945c8-9b47-4eb3-b679-1aa841c6a371",
   "metadata": {},
   "outputs": [],
   "source": [
    "unique_result = np.unique(clusters.labels_, return_counts=True)"
   ]
  },
  {
   "cell_type": "code",
   "execution_count": 114,
   "id": "13fb537f-1983-41ad-bb11-a2a6c836f1ac",
   "metadata": {},
   "outputs": [
    {
     "data": {
      "text/plain": [
       "(array([-1,  0,  1,  2,  3,  4,  5,  6,  7,  8,  9, 10, 11, 12, 13, 14, 15,\n",
       "        16, 17, 18, 19, 20, 21, 22, 23, 24, 25, 26, 27]),\n",
       " array([11172, 88727,     4,     4,     1,     6,     4,     3,    11,\n",
       "            4,     1,     3,     4,     3,     4,     5,     4,     4,\n",
       "            4,     3,     3,     2,     4,     4,     2,     2,     3,\n",
       "            5,     4]))"
      ]
     },
     "execution_count": 114,
     "metadata": {},
     "output_type": "execute_result"
    }
   ],
   "source": [
    "unique_result"
   ]
  },
  {
   "cell_type": "code",
   "execution_count": 115,
   "id": "448113f0-bec2-447f-b29b-2c56fecbacba",
   "metadata": {},
   "outputs": [
    {
     "data": {
      "text/plain": [
       "88727"
      ]
     },
     "execution_count": 115,
     "metadata": {},
     "output_type": "execute_result"
    }
   ],
   "source": [
    "unique_result[1].max()"
   ]
  },
  {
   "cell_type": "code",
   "execution_count": 126,
   "id": "9e21be93-25db-493e-a332-68c2c0e283ee",
   "metadata": {},
   "outputs": [],
   "source": [
    "from os import listdir"
   ]
  },
  {
   "cell_type": "code",
   "execution_count": 127,
   "id": "a11a5c4f-ab69-4665-80ec-3e661ec39892",
   "metadata": {},
   "outputs": [],
   "source": [
    "r = listdir('/auto/brno12-cerit/nfs4/home/tslaninakova/sisap-challenge/results-dbscan')"
   ]
  },
  {
   "cell_type": "code",
   "execution_count": 128,
   "id": "56a5d6e5-4417-4439-811e-d8c78e97dcad",
   "metadata": {},
   "outputs": [
    {
     "data": {
      "text/plain": [
       "99916"
      ]
     },
     "execution_count": 128,
     "metadata": {},
     "output_type": "execute_result"
    }
   ],
   "source": [
    "min([int(r_.split('.csv')[0].split('-')[-1]) + int(r_.split('.csv')[0].split('-')[-2]) for r_ in r])"
   ]
  },
  {
   "cell_type": "code",
   "execution_count": 129,
   "id": "7b7ae95c-f4be-4370-ae30-5a474d7cfce7",
   "metadata": {},
   "outputs": [
    {
     "ename": "ValueError",
     "evalue": "56796 is not in list",
     "output_type": "error",
     "traceback": [
      "\u001b[0;31m---------------------------------------------------------------------------\u001b[0m",
      "\u001b[0;31mValueError\u001b[0m                                Traceback (most recent call last)",
      "\u001b[0;32m<ipython-input-129-e815bd325964>\u001b[0m in \u001b[0;36m<module>\u001b[0;34m\u001b[0m\n\u001b[0;32m----> 1\u001b[0;31m \u001b[0;34m[\u001b[0m\u001b[0mint\u001b[0m\u001b[0;34m(\u001b[0m\u001b[0mr_\u001b[0m\u001b[0;34m.\u001b[0m\u001b[0msplit\u001b[0m\u001b[0;34m(\u001b[0m\u001b[0;34m'.csv'\u001b[0m\u001b[0;34m)\u001b[0m\u001b[0;34m[\u001b[0m\u001b[0;36m0\u001b[0m\u001b[0;34m]\u001b[0m\u001b[0;34m.\u001b[0m\u001b[0msplit\u001b[0m\u001b[0;34m(\u001b[0m\u001b[0;34m'-'\u001b[0m\u001b[0;34m)\u001b[0m\u001b[0;34m[\u001b[0m\u001b[0;34m-\u001b[0m\u001b[0;36m1\u001b[0m\u001b[0;34m]\u001b[0m\u001b[0;34m)\u001b[0m \u001b[0;34m+\u001b[0m \u001b[0mint\u001b[0m\u001b[0;34m(\u001b[0m\u001b[0mr_\u001b[0m\u001b[0;34m.\u001b[0m\u001b[0msplit\u001b[0m\u001b[0;34m(\u001b[0m\u001b[0;34m'.csv'\u001b[0m\u001b[0;34m)\u001b[0m\u001b[0;34m[\u001b[0m\u001b[0;36m0\u001b[0m\u001b[0;34m]\u001b[0m\u001b[0;34m.\u001b[0m\u001b[0msplit\u001b[0m\u001b[0;34m(\u001b[0m\u001b[0;34m'-'\u001b[0m\u001b[0;34m)\u001b[0m\u001b[0;34m[\u001b[0m\u001b[0;34m-\u001b[0m\u001b[0;36m2\u001b[0m\u001b[0;34m]\u001b[0m\u001b[0;34m)\u001b[0m \u001b[0;32mfor\u001b[0m \u001b[0mr_\u001b[0m \u001b[0;32min\u001b[0m \u001b[0mr\u001b[0m\u001b[0;34m]\u001b[0m\u001b[0;34m.\u001b[0m\u001b[0mindex\u001b[0m\u001b[0;34m(\u001b[0m\u001b[0;36m56796\u001b[0m\u001b[0;34m)\u001b[0m\u001b[0;34m\u001b[0m\u001b[0m\n\u001b[0m",
      "\u001b[0;31mValueError\u001b[0m: 56796 is not in list"
     ]
    }
   ],
   "source": [
    "[int(r_.split('.csv')[0].split('-')[-1]) + int(r_.split('.csv')[0].split('-')[-2]) for r_ in r].index(56796)"
   ]
  },
  {
   "cell_type": "code",
   "execution_count": 125,
   "id": "a3fc586b-b8e2-4c38-bd17-e698b959c229",
   "metadata": {},
   "outputs": [
    {
     "data": {
      "text/plain": [
       "'2023-07-04--17-12-10-28398-28398.csv'"
      ]
     },
     "execution_count": 125,
     "metadata": {},
     "output_type": "execute_result"
    }
   ],
   "source": [
    "r[12]"
   ]
  },
  {
   "cell_type": "code",
   "execution_count": null,
   "id": "6447f043-c9ee-4ab6-9935-b9841af4b072",
   "metadata": {},
   "outputs": [],
   "source": []
  },
  {
   "cell_type": "code",
   "execution_count": 110,
   "id": "026406ef-853f-4d79-9e16-01aebe16aa2a",
   "metadata": {},
   "outputs": [
    {
     "data": {
      "text/plain": [
       "11172"
      ]
     },
     "execution_count": 110,
     "metadata": {},
     "output_type": "execute_result"
    }
   ],
   "source": [
    "unique_result[1][0]"
   ]
  },
  {
   "cell_type": "code",
   "execution_count": 111,
   "id": "5a932a82-61fa-41ef-b00e-59ab7644dfab",
   "metadata": {},
   "outputs": [],
   "source": [
    "data_s = data.loc[100_000:200_000]"
   ]
  },
  {
   "cell_type": "code",
   "execution_count": 112,
   "id": "a6d2c524-494e-45d1-a645-585ffc6bf725",
   "metadata": {},
   "outputs": [],
   "source": [
    "clusters2 = DBSCAN(\n",
    "    eps=0.2, min_samples=4, metric='cosine', leaf_size=9, p=0.005\n",
    ").fit(data_s.values)"
   ]
  },
  {
   "cell_type": "code",
   "execution_count": 113,
   "id": "a2403c0f-550f-4d4b-974f-1b2c5b6ad722",
   "metadata": {},
   "outputs": [
    {
     "data": {
      "text/plain": [
       "11346"
      ]
     },
     "execution_count": 113,
     "metadata": {},
     "output_type": "execute_result"
    }
   ],
   "source": [
    "unique_result2 = np.unique(clusters2.labels_, return_counts=True)\n",
    "unique_result2[1][0]"
   ]
  },
  {
   "cell_type": "code",
   "execution_count": 101,
   "id": "cb7bc1a5-6eec-4526-a56d-e914f7f35aae",
   "metadata": {},
   "outputs": [
    {
     "data": {
      "text/plain": [
       "(72320, 32)"
      ]
     },
     "execution_count": 101,
     "metadata": {},
     "output_type": "execute_result"
    }
   ],
   "source": [
    "data_1 = data.loc[:100_000]\n",
    "data_1 = data_1.loc[clusters.labels_ == -1]\n",
    "data_1.shape"
   ]
  },
  {
   "cell_type": "code",
   "execution_count": null,
   "id": "b188ffc7-897f-4330-ad79-b3034fb5d5ef",
   "metadata": {},
   "outputs": [],
   "source": []
  },
  {
   "cell_type": "code",
   "execution_count": 102,
   "id": "a680f38c-23ce-4cf7-8acc-c9e6bb9a9477",
   "metadata": {},
   "outputs": [
    {
     "data": {
      "text/plain": [
       "(71964, 32)"
      ]
     },
     "execution_count": 102,
     "metadata": {},
     "output_type": "execute_result"
    }
   ],
   "source": [
    "data_2 = data.loc[100_000:200_000]\n",
    "data_2 = data_2.loc[clusters2.labels_ == -1]\n",
    "data_2.shape"
   ]
  },
  {
   "cell_type": "code",
   "execution_count": 103,
   "id": "3b4cadc7-8183-43ff-b6de-c3e0433c0636",
   "metadata": {},
   "outputs": [
    {
     "data": {
      "text/html": [
       "<div>\n",
       "<style scoped>\n",
       "    .dataframe tbody tr th:only-of-type {\n",
       "        vertical-align: middle;\n",
       "    }\n",
       "\n",
       "    .dataframe tbody tr th {\n",
       "        vertical-align: top;\n",
       "    }\n",
       "\n",
       "    .dataframe thead th {\n",
       "        text-align: right;\n",
       "    }\n",
       "</style>\n",
       "<table border=\"1\" class=\"dataframe\">\n",
       "  <thead>\n",
       "    <tr style=\"text-align: right;\">\n",
       "      <th></th>\n",
       "      <th>0</th>\n",
       "      <th>1</th>\n",
       "      <th>2</th>\n",
       "      <th>3</th>\n",
       "      <th>4</th>\n",
       "      <th>5</th>\n",
       "      <th>6</th>\n",
       "      <th>7</th>\n",
       "      <th>8</th>\n",
       "      <th>9</th>\n",
       "      <th>...</th>\n",
       "      <th>22</th>\n",
       "      <th>23</th>\n",
       "      <th>24</th>\n",
       "      <th>25</th>\n",
       "      <th>26</th>\n",
       "      <th>27</th>\n",
       "      <th>28</th>\n",
       "      <th>29</th>\n",
       "      <th>30</th>\n",
       "      <th>31</th>\n",
       "    </tr>\n",
       "  </thead>\n",
       "  <tbody>\n",
       "    <tr>\n",
       "      <th>1</th>\n",
       "      <td>0.142266</td>\n",
       "      <td>0.121459</td>\n",
       "      <td>-0.054467</td>\n",
       "      <td>-0.058987</td>\n",
       "      <td>0.049365</td>\n",
       "      <td>-0.107044</td>\n",
       "      <td>0.123232</td>\n",
       "      <td>0.003732</td>\n",
       "      <td>0.044797</td>\n",
       "      <td>-0.118452</td>\n",
       "      <td>...</td>\n",
       "      <td>0.063983</td>\n",
       "      <td>0.037666</td>\n",
       "      <td>-0.089511</td>\n",
       "      <td>0.077113</td>\n",
       "      <td>-0.118540</td>\n",
       "      <td>0.058264</td>\n",
       "      <td>0.065489</td>\n",
       "      <td>0.028578</td>\n",
       "      <td>-0.089683</td>\n",
       "      <td>0.126804</td>\n",
       "    </tr>\n",
       "    <tr>\n",
       "      <th>2</th>\n",
       "      <td>0.213747</td>\n",
       "      <td>-0.011409</td>\n",
       "      <td>-0.015184</td>\n",
       "      <td>0.149988</td>\n",
       "      <td>0.106374</td>\n",
       "      <td>0.082410</td>\n",
       "      <td>-0.120636</td>\n",
       "      <td>-0.061065</td>\n",
       "      <td>0.068683</td>\n",
       "      <td>0.033811</td>\n",
       "      <td>...</td>\n",
       "      <td>-0.098325</td>\n",
       "      <td>-0.013612</td>\n",
       "      <td>0.004494</td>\n",
       "      <td>-0.046666</td>\n",
       "      <td>-0.043621</td>\n",
       "      <td>-0.086326</td>\n",
       "      <td>-0.011769</td>\n",
       "      <td>-0.047742</td>\n",
       "      <td>0.020944</td>\n",
       "      <td>-0.030367</td>\n",
       "    </tr>\n",
       "    <tr>\n",
       "      <th>3</th>\n",
       "      <td>0.069696</td>\n",
       "      <td>-0.213891</td>\n",
       "      <td>0.132873</td>\n",
       "      <td>-0.150283</td>\n",
       "      <td>-0.049209</td>\n",
       "      <td>0.080035</td>\n",
       "      <td>-0.023633</td>\n",
       "      <td>0.017212</td>\n",
       "      <td>-0.208762</td>\n",
       "      <td>0.053342</td>\n",
       "      <td>...</td>\n",
       "      <td>0.035556</td>\n",
       "      <td>0.023209</td>\n",
       "      <td>-0.048412</td>\n",
       "      <td>-0.051262</td>\n",
       "      <td>0.019094</td>\n",
       "      <td>-0.036998</td>\n",
       "      <td>0.006380</td>\n",
       "      <td>0.011270</td>\n",
       "      <td>-0.029592</td>\n",
       "      <td>0.076340</td>\n",
       "    </tr>\n",
       "    <tr>\n",
       "      <th>4</th>\n",
       "      <td>0.136413</td>\n",
       "      <td>-0.124811</td>\n",
       "      <td>-0.154160</td>\n",
       "      <td>0.239878</td>\n",
       "      <td>0.002287</td>\n",
       "      <td>0.145432</td>\n",
       "      <td>-0.069391</td>\n",
       "      <td>-0.006645</td>\n",
       "      <td>0.124315</td>\n",
       "      <td>0.054875</td>\n",
       "      <td>...</td>\n",
       "      <td>-0.045162</td>\n",
       "      <td>0.027401</td>\n",
       "      <td>0.072960</td>\n",
       "      <td>-0.035548</td>\n",
       "      <td>-0.003664</td>\n",
       "      <td>-0.007761</td>\n",
       "      <td>-0.065726</td>\n",
       "      <td>-0.013585</td>\n",
       "      <td>-0.012794</td>\n",
       "      <td>-0.030778</td>\n",
       "    </tr>\n",
       "    <tr>\n",
       "      <th>5</th>\n",
       "      <td>-0.389241</td>\n",
       "      <td>0.076076</td>\n",
       "      <td>-0.072001</td>\n",
       "      <td>0.103547</td>\n",
       "      <td>-0.058551</td>\n",
       "      <td>0.033468</td>\n",
       "      <td>0.017906</td>\n",
       "      <td>0.094761</td>\n",
       "      <td>0.034065</td>\n",
       "      <td>-0.220189</td>\n",
       "      <td>...</td>\n",
       "      <td>-0.051880</td>\n",
       "      <td>-0.016713</td>\n",
       "      <td>0.018730</td>\n",
       "      <td>0.050222</td>\n",
       "      <td>-0.021090</td>\n",
       "      <td>0.004709</td>\n",
       "      <td>0.043465</td>\n",
       "      <td>-0.049461</td>\n",
       "      <td>-0.052292</td>\n",
       "      <td>0.027773</td>\n",
       "    </tr>\n",
       "    <tr>\n",
       "      <th>...</th>\n",
       "      <td>...</td>\n",
       "      <td>...</td>\n",
       "      <td>...</td>\n",
       "      <td>...</td>\n",
       "      <td>...</td>\n",
       "      <td>...</td>\n",
       "      <td>...</td>\n",
       "      <td>...</td>\n",
       "      <td>...</td>\n",
       "      <td>...</td>\n",
       "      <td>...</td>\n",
       "      <td>...</td>\n",
       "      <td>...</td>\n",
       "      <td>...</td>\n",
       "      <td>...</td>\n",
       "      <td>...</td>\n",
       "      <td>...</td>\n",
       "      <td>...</td>\n",
       "      <td>...</td>\n",
       "      <td>...</td>\n",
       "      <td>...</td>\n",
       "    </tr>\n",
       "    <tr>\n",
       "      <th>199995</th>\n",
       "      <td>-0.016623</td>\n",
       "      <td>0.261374</td>\n",
       "      <td>-0.108525</td>\n",
       "      <td>-0.135211</td>\n",
       "      <td>0.032195</td>\n",
       "      <td>0.070787</td>\n",
       "      <td>0.079449</td>\n",
       "      <td>-0.092412</td>\n",
       "      <td>-0.100304</td>\n",
       "      <td>0.067358</td>\n",
       "      <td>...</td>\n",
       "      <td>0.081138</td>\n",
       "      <td>-0.013030</td>\n",
       "      <td>0.065910</td>\n",
       "      <td>-0.052886</td>\n",
       "      <td>0.022053</td>\n",
       "      <td>0.036298</td>\n",
       "      <td>-0.059659</td>\n",
       "      <td>0.027475</td>\n",
       "      <td>-0.006544</td>\n",
       "      <td>-0.060666</td>\n",
       "    </tr>\n",
       "    <tr>\n",
       "      <th>199996</th>\n",
       "      <td>-0.135043</td>\n",
       "      <td>0.058869</td>\n",
       "      <td>-0.033821</td>\n",
       "      <td>-0.066608</td>\n",
       "      <td>-0.032245</td>\n",
       "      <td>0.102940</td>\n",
       "      <td>0.085796</td>\n",
       "      <td>0.028704</td>\n",
       "      <td>0.096673</td>\n",
       "      <td>-0.053070</td>\n",
       "      <td>...</td>\n",
       "      <td>-0.040772</td>\n",
       "      <td>-0.024435</td>\n",
       "      <td>0.013444</td>\n",
       "      <td>0.064723</td>\n",
       "      <td>0.059284</td>\n",
       "      <td>-0.020601</td>\n",
       "      <td>0.065155</td>\n",
       "      <td>-0.004740</td>\n",
       "      <td>-0.011218</td>\n",
       "      <td>-0.096802</td>\n",
       "    </tr>\n",
       "    <tr>\n",
       "      <th>199997</th>\n",
       "      <td>0.056166</td>\n",
       "      <td>0.045453</td>\n",
       "      <td>-0.165639</td>\n",
       "      <td>-0.001400</td>\n",
       "      <td>0.177127</td>\n",
       "      <td>-0.021528</td>\n",
       "      <td>-0.009026</td>\n",
       "      <td>-0.040884</td>\n",
       "      <td>0.220318</td>\n",
       "      <td>-0.039731</td>\n",
       "      <td>...</td>\n",
       "      <td>-0.096172</td>\n",
       "      <td>0.015361</td>\n",
       "      <td>-0.034067</td>\n",
       "      <td>-0.060641</td>\n",
       "      <td>0.030858</td>\n",
       "      <td>0.005659</td>\n",
       "      <td>0.010588</td>\n",
       "      <td>0.035196</td>\n",
       "      <td>-0.021983</td>\n",
       "      <td>0.015925</td>\n",
       "    </tr>\n",
       "    <tr>\n",
       "      <th>199998</th>\n",
       "      <td>0.172810</td>\n",
       "      <td>0.136016</td>\n",
       "      <td>0.052640</td>\n",
       "      <td>-0.048010</td>\n",
       "      <td>0.118766</td>\n",
       "      <td>-0.002332</td>\n",
       "      <td>0.111289</td>\n",
       "      <td>-0.026583</td>\n",
       "      <td>-0.051066</td>\n",
       "      <td>-0.125786</td>\n",
       "      <td>...</td>\n",
       "      <td>0.088246</td>\n",
       "      <td>-0.000755</td>\n",
       "      <td>0.012355</td>\n",
       "      <td>0.057855</td>\n",
       "      <td>-0.032556</td>\n",
       "      <td>0.118518</td>\n",
       "      <td>-0.025377</td>\n",
       "      <td>0.024111</td>\n",
       "      <td>0.063948</td>\n",
       "      <td>-0.016831</td>\n",
       "    </tr>\n",
       "    <tr>\n",
       "      <th>199999</th>\n",
       "      <td>0.063618</td>\n",
       "      <td>0.235884</td>\n",
       "      <td>-0.208040</td>\n",
       "      <td>-0.134384</td>\n",
       "      <td>0.053721</td>\n",
       "      <td>0.047269</td>\n",
       "      <td>-0.019174</td>\n",
       "      <td>-0.021357</td>\n",
       "      <td>0.054352</td>\n",
       "      <td>0.105734</td>\n",
       "      <td>...</td>\n",
       "      <td>-0.019659</td>\n",
       "      <td>0.017532</td>\n",
       "      <td>-0.063930</td>\n",
       "      <td>-0.017096</td>\n",
       "      <td>0.025376</td>\n",
       "      <td>0.015632</td>\n",
       "      <td>-0.120720</td>\n",
       "      <td>-0.062884</td>\n",
       "      <td>-0.070018</td>\n",
       "      <td>-0.083679</td>\n",
       "    </tr>\n",
       "  </tbody>\n",
       "</table>\n",
       "<p>144284 rows × 32 columns</p>\n",
       "</div>"
      ],
      "text/plain": [
       "              0         1         2         3         4         5         6   \\\n",
       "1       0.142266  0.121459 -0.054467 -0.058987  0.049365 -0.107044  0.123232   \n",
       "2       0.213747 -0.011409 -0.015184  0.149988  0.106374  0.082410 -0.120636   \n",
       "3       0.069696 -0.213891  0.132873 -0.150283 -0.049209  0.080035 -0.023633   \n",
       "4       0.136413 -0.124811 -0.154160  0.239878  0.002287  0.145432 -0.069391   \n",
       "5      -0.389241  0.076076 -0.072001  0.103547 -0.058551  0.033468  0.017906   \n",
       "...          ...       ...       ...       ...       ...       ...       ...   \n",
       "199995 -0.016623  0.261374 -0.108525 -0.135211  0.032195  0.070787  0.079449   \n",
       "199996 -0.135043  0.058869 -0.033821 -0.066608 -0.032245  0.102940  0.085796   \n",
       "199997  0.056166  0.045453 -0.165639 -0.001400  0.177127 -0.021528 -0.009026   \n",
       "199998  0.172810  0.136016  0.052640 -0.048010  0.118766 -0.002332  0.111289   \n",
       "199999  0.063618  0.235884 -0.208040 -0.134384  0.053721  0.047269 -0.019174   \n",
       "\n",
       "              7         8         9   ...        22        23        24  \\\n",
       "1       0.003732  0.044797 -0.118452  ...  0.063983  0.037666 -0.089511   \n",
       "2      -0.061065  0.068683  0.033811  ... -0.098325 -0.013612  0.004494   \n",
       "3       0.017212 -0.208762  0.053342  ...  0.035556  0.023209 -0.048412   \n",
       "4      -0.006645  0.124315  0.054875  ... -0.045162  0.027401  0.072960   \n",
       "5       0.094761  0.034065 -0.220189  ... -0.051880 -0.016713  0.018730   \n",
       "...          ...       ...       ...  ...       ...       ...       ...   \n",
       "199995 -0.092412 -0.100304  0.067358  ...  0.081138 -0.013030  0.065910   \n",
       "199996  0.028704  0.096673 -0.053070  ... -0.040772 -0.024435  0.013444   \n",
       "199997 -0.040884  0.220318 -0.039731  ... -0.096172  0.015361 -0.034067   \n",
       "199998 -0.026583 -0.051066 -0.125786  ...  0.088246 -0.000755  0.012355   \n",
       "199999 -0.021357  0.054352  0.105734  ... -0.019659  0.017532 -0.063930   \n",
       "\n",
       "              25        26        27        28        29        30        31  \n",
       "1       0.077113 -0.118540  0.058264  0.065489  0.028578 -0.089683  0.126804  \n",
       "2      -0.046666 -0.043621 -0.086326 -0.011769 -0.047742  0.020944 -0.030367  \n",
       "3      -0.051262  0.019094 -0.036998  0.006380  0.011270 -0.029592  0.076340  \n",
       "4      -0.035548 -0.003664 -0.007761 -0.065726 -0.013585 -0.012794 -0.030778  \n",
       "5       0.050222 -0.021090  0.004709  0.043465 -0.049461 -0.052292  0.027773  \n",
       "...          ...       ...       ...       ...       ...       ...       ...  \n",
       "199995 -0.052886  0.022053  0.036298 -0.059659  0.027475 -0.006544 -0.060666  \n",
       "199996  0.064723  0.059284 -0.020601  0.065155 -0.004740 -0.011218 -0.096802  \n",
       "199997 -0.060641  0.030858  0.005659  0.010588  0.035196 -0.021983  0.015925  \n",
       "199998  0.057855 -0.032556  0.118518 -0.025377  0.024111  0.063948 -0.016831  \n",
       "199999 -0.017096  0.025376  0.015632 -0.120720 -0.062884 -0.070018 -0.083679  \n",
       "\n",
       "[144284 rows x 32 columns]"
      ]
     },
     "execution_count": 103,
     "metadata": {},
     "output_type": "execute_result"
    }
   ],
   "source": [
    "pd.concat([data_1, data_2])"
   ]
  },
  {
   "cell_type": "code",
   "execution_count": 104,
   "id": "3f7a4d95-b1c7-45bf-a259-dc3c641c103e",
   "metadata": {},
   "outputs": [],
   "source": [
    "clusters3 = DBSCAN(\n",
    "    eps=0.1, min_samples=5, metric='cosine', leaf_size=10, p=0.01\n",
    ").fit(pd.concat([data_1, data_2]).values)"
   ]
  },
  {
   "cell_type": "code",
   "execution_count": 105,
   "id": "6f4849b5-3521-4daa-aa79-5ffca9feb497",
   "metadata": {},
   "outputs": [
    {
     "data": {
      "text/plain": [
       "140027"
      ]
     },
     "execution_count": 105,
     "metadata": {},
     "output_type": "execute_result"
    }
   ],
   "source": [
    "unique_result3 = np.unique(clusters3.labels_, return_counts=True)\n",
    "unique_result3[1][0]"
   ]
  },
  {
   "cell_type": "code",
   "execution_count": null,
   "id": "d370fe7c-bb1c-4085-bd53-190dd4d3a0f2",
   "metadata": {},
   "outputs": [],
   "source": []
  },
  {
   "cell_type": "code",
   "execution_count": 87,
   "id": "2df5deef-ba06-48f4-9be4-fb192f649bbd",
   "metadata": {},
   "outputs": [
    {
     "data": {
      "text/plain": [
       "(72315, 32)"
      ]
     },
     "execution_count": 87,
     "metadata": {},
     "output_type": "execute_result"
    }
   ],
   "source": [
    "data_s.loc[clusters.labels_ == -1].shape"
   ]
  },
  {
   "cell_type": "code",
   "execution_count": null,
   "id": "2d1dc557-1807-4a16-9533-5ff351839ce5",
   "metadata": {},
   "outputs": [],
   "source": [
    "data."
   ]
  },
  {
   "cell_type": "code",
   "execution_count": 88,
   "id": "100c2d6d-5857-4456-bf07-1b95249b632e",
   "metadata": {},
   "outputs": [],
   "source": [
    "clusters_2 = DBSCAN(\n",
    "    eps=0.1, min_samples=5, metric='cosine', leaf_size=10, p=0.01\n",
    ").fit(data_s.loc[clusters.labels_ == -1])"
   ]
  },
  {
   "cell_type": "code",
   "execution_count": 89,
   "id": "a798c234-25dc-4b66-95ff-f256757dc1a1",
   "metadata": {},
   "outputs": [],
   "source": [
    "unique_result_2 = np.unique(clusters_2.labels_, return_counts=True)"
   ]
  },
  {
   "cell_type": "code",
   "execution_count": 90,
   "id": "da8f50a1-3047-41a1-9b14-8eea1d505026",
   "metadata": {},
   "outputs": [
    {
     "data": {
      "text/plain": [
       "72315"
      ]
     },
     "execution_count": 90,
     "metadata": {},
     "output_type": "execute_result"
    }
   ],
   "source": [
    "unique_result_2[1][0]"
   ]
  },
  {
   "cell_type": "code",
   "execution_count": null,
   "id": "e5233011-19a6-46ed-bc36-45eab10feeec",
   "metadata": {},
   "outputs": [],
   "source": []
  },
  {
   "cell_type": "code",
   "execution_count": 75,
   "id": "a80d59ca-0359-428d-8ef3-179a77fa446c",
   "metadata": {},
   "outputs": [
    {
     "data": {
      "text/plain": [
       "78487"
      ]
     },
     "execution_count": 75,
     "metadata": {},
     "output_type": "execute_result"
    }
   ],
   "source": [
    "unique_result[1][0]"
   ]
  },
  {
   "cell_type": "code",
   "execution_count": null,
   "id": "cdb889f5-60ab-485c-aa1f-5143b5b2cf30",
   "metadata": {},
   "outputs": [],
   "source": [
    "%time clusters = DBSCAN(eps=3, min_samples=2).fit(data_s)"
   ]
  },
  {
   "cell_type": "code",
   "execution_count": 53,
   "id": "1adb5224-0453-47db-9b6f-892392c4142d",
   "metadata": {},
   "outputs": [],
   "source": [
    "from scipy.spatial.distance import cdist"
   ]
  },
  {
   "cell_type": "code",
   "execution_count": null,
   "id": "26ff843d-2ce9-4f15-bd90-c9b27662d92a",
   "metadata": {},
   "outputs": [],
   "source": [
    "loaded_clip_data[:1_000_000]"
   ]
  },
  {
   "cell_type": "code",
   "execution_count": 58,
   "id": "97e1a0bf-db7c-42d5-a98e-31360e0cc15c",
   "metadata": {},
   "outputs": [
    {
     "data": {
      "text/plain": [
       "(32,)"
      ]
     },
     "execution_count": 58,
     "metadata": {},
     "output_type": "execute_result"
    }
   ],
   "source": [
    "loaded_queries[0].shape"
   ]
  },
  {
   "cell_type": "code",
   "execution_count": null,
   "id": "9f179ac1-6a5a-42a3-85e6-96eb4d77da22",
   "metadata": {},
   "outputs": [],
   "source": [
    "loaded_queries[0]"
   ]
  },
  {
   "cell_type": "code",
   "execution_count": 61,
   "id": "857e169e-17b5-4386-88c5-0c55eb9e4326",
   "metadata": {},
   "outputs": [],
   "source": [
    "from scipy import sparse"
   ]
  },
  {
   "cell_type": "code",
   "execution_count": null,
   "id": "4304a49c-91b2-4f55-9dd4-6455c8d8ede8",
   "metadata": {},
   "outputs": [],
   "source": [
    "data_part_sparse = sparse.csr_matrix(clip_data.loc[object_ids])\n",
    "query_part_sparse = sparse.csr_matrix(loaded_queries_seq[i])"
   ]
  },
  {
   "cell_type": "code",
   "execution_count": null,
   "id": "edc073bd-efdb-4fac-9b80-6f96ca5d8531",
   "metadata": {},
   "outputs": [],
   "source": []
  },
  {
   "cell_type": "code",
   "execution_count": 59,
   "id": "d83326b9-64ca-4137-9890-5a660d614136",
   "metadata": {},
   "outputs": [
    {
     "name": "stdout",
     "output_type": "stream",
     "text": [
      "CPU times: user 4.19 s, sys: 2.2 s, total: 6.39 s\n",
      "Wall time: 6.68 s\n"
     ]
    }
   ],
   "source": [
    "%%time\n",
    "res = cdist(\n",
    "    [loaded_queries_seq[0]], loaded_clip_data[:1_000_000], metric='cosine'\n",
    ")"
   ]
  },
  {
   "cell_type": "code",
   "execution_count": 64,
   "id": "6c9197f5-816b-4250-b610-5cfe6a18d8a5",
   "metadata": {},
   "outputs": [
    {
     "ename": "ValueError",
     "evalue": "XA must be a 2-dimensional array.",
     "output_type": "error",
     "traceback": [
      "\u001b[0;31m---------------------------------------------------------------------------\u001b[0m",
      "\u001b[0;31mValueError\u001b[0m                                Traceback (most recent call last)",
      "\u001b[0;32m<timed exec>\u001b[0m in \u001b[0;36m<module>\u001b[0;34m\u001b[0m\n",
      "\u001b[0;32m/mnt/storage-brno11-elixir/home/tslaninakova/dynamic-lmi/dynamic-lmi-env/lib/python3.6/site-packages/scipy/spatial/distance.py\u001b[0m in \u001b[0;36mcdist\u001b[0;34m(XA, XB, metric, *args, **kwargs)\u001b[0m\n\u001b[1;32m   2706\u001b[0m \u001b[0;34m\u001b[0m\u001b[0m\n\u001b[1;32m   2707\u001b[0m     \u001b[0;32mif\u001b[0m \u001b[0mlen\u001b[0m\u001b[0;34m(\u001b[0m\u001b[0ms\u001b[0m\u001b[0;34m)\u001b[0m \u001b[0;34m!=\u001b[0m \u001b[0;36m2\u001b[0m\u001b[0;34m:\u001b[0m\u001b[0;34m\u001b[0m\u001b[0m\n\u001b[0;32m-> 2708\u001b[0;31m         \u001b[0;32mraise\u001b[0m \u001b[0mValueError\u001b[0m\u001b[0;34m(\u001b[0m\u001b[0;34m'XA must be a 2-dimensional array.'\u001b[0m\u001b[0;34m)\u001b[0m\u001b[0;34m\u001b[0m\u001b[0m\n\u001b[0m\u001b[1;32m   2709\u001b[0m     \u001b[0;32mif\u001b[0m \u001b[0mlen\u001b[0m\u001b[0;34m(\u001b[0m\u001b[0msB\u001b[0m\u001b[0;34m)\u001b[0m \u001b[0;34m!=\u001b[0m \u001b[0;36m2\u001b[0m\u001b[0;34m:\u001b[0m\u001b[0;34m\u001b[0m\u001b[0m\n\u001b[1;32m   2710\u001b[0m         \u001b[0;32mraise\u001b[0m \u001b[0mValueError\u001b[0m\u001b[0;34m(\u001b[0m\u001b[0;34m'XB must be a 2-dimensional array.'\u001b[0m\u001b[0;34m)\u001b[0m\u001b[0;34m\u001b[0m\u001b[0m\n",
      "\u001b[0;31mValueError\u001b[0m: XA must be a 2-dimensional array."
     ]
    }
   ],
   "source": [
    "%%time\n",
    "res = cdist(\n",
    "    sparse.csr_matrix(loaded_queries_seq[:2]), sparse.csr_matrix(loaded_clip_data[:1_000_000]), metric='cosine'\n",
    ")"
   ]
  },
  {
   "cell_type": "code",
   "execution_count": null,
   "id": "8065f40c-cb5d-4131-aa57-517a109d6f15",
   "metadata": {},
   "outputs": [],
   "source": []
  }
 ],
 "metadata": {
  "kernelspec": {
   "display_name": "Python 3",
   "language": "python",
   "name": "python3"
  },
  "language_info": {
   "codemirror_mode": {
    "name": "ipython",
    "version": 3
   },
   "file_extension": ".py",
   "mimetype": "text/x-python",
   "name": "python",
   "nbconvert_exporter": "python",
   "pygments_lexer": "ipython3",
   "version": "3.6.2"
  }
 },
 "nbformat": 4,
 "nbformat_minor": 5
}
