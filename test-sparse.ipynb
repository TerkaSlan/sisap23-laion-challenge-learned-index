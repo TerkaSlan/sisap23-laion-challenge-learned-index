{
 "cells": [
  {
   "cell_type": "code",
   "execution_count": 1,
   "id": "b849b562-f2f9-4f49-9db0-3b1f7c60c2d2",
   "metadata": {},
   "outputs": [],
   "source": [
    "%reload_ext autoreload\n",
    "%autoreload 2"
   ]
  },
  {
   "cell_type": "code",
   "execution_count": null,
   "id": "2eef5ebb-b25f-43a6-bf84-9305fa318ee3",
   "metadata": {},
   "outputs": [],
   "source": [
    "import h5py\n",
    "import pandas as pd\n",
    "import pickle\n",
    "from tqdm import tqdm\n",
    "from li.utils import pairwise_cosine\n",
    "import time\n",
    "import logging\n",
    "import numpy as np\n",
    "import os\n",
    "from scipy import sparse\n"
   ]
  },
  {
   "cell_type": "code",
   "execution_count": null,
   "id": "763c4b8c-71bd-4b7f-8b3d-e491653c2e8c",
   "metadata": {},
   "outputs": [],
   "source": [
    "logging.basicConfig(\n",
    "    level=logging.INFO,\n",
    "    format='[%(asctime)s][%(levelname)-5.5s][%(name)-.20s] %(message)s'\n",
    ")\n",
    "LOG = logging.getLogger(__name__)\n",
    "\n",
    "def increase_max_recursion_limit():\n",
    "    \"\"\" Increases the maximum recursion limit.\n",
    "    Source: https://stackoverflow.com/a/16248113\n",
    "    \"\"\"\n",
    "    import sys\n",
    "    import resource\n",
    "    resource.setrlimit(resource.RLIMIT_STACK, (2**29, -1))\n",
    "    sys.setrecursionlimit(10**6)\n"
   ]
  },
  {
   "cell_type": "code",
   "execution_count": 5,
   "id": "a2f81da3-7792-41f9-b503-4b71d7cd9b90",
   "metadata": {},
   "outputs": [
    {
     "name": "stderr",
     "output_type": "stream",
     "text": [
      "[2023-07-04 11:29:42,168][INFO ][__main__] Loading pca32 data\n",
      "[2023-07-04 11:29:54,025][INFO ][__main__] Loading queries\n",
      "[2023-07-04 11:29:54,369][INFO ][__main__] Loading clip data\n",
      "[2023-07-04 11:32:41,092][INFO ][__main__] Loading GT\n"
     ]
    }
   ],
   "source": [
    "LOG.info(f'Loading pca32 data')\n",
    "data_path = 'data/pca32v2/10M/dataset.h5'\n",
    "f = h5py.File(data_path, 'r')\n",
    "loaded_data = f['pca32'][:, :]\n",
    "data = pd.DataFrame(loaded_data)\n",
    "data.index += 1\n",
    "\n",
    "LOG.info(f'Loading queries')\n",
    "base_path = 'data/pca32v2/10M/'\n",
    "queries_path = f'{base_path}/query.h5'\n",
    "f2 = h5py.File(queries_path, 'r')\n",
    "#loaded_queries = f2['emb'][:, :]\n",
    "loaded_queries = f2['pca32'][:, :]\n",
    "\n",
    "base_path = 'data/clip768v2/10M/'\n",
    "queries_path = f'{base_path}/query.h5'\n",
    "f2 = h5py.File(queries_path, 'r')\n",
    "#loaded_queries = f2['emb'][:, :]\n",
    "loaded_queries_seq = f2['emb'][:, :]\n",
    "\n",
    "LOG.info(f'Loading clip data')\n",
    "data_path = 'data/clip768v2/10M/dataset.h5'\n",
    "f = h5py.File(data_path, 'r')\n",
    "loaded_clip_data = f['emb'][:, :]\n",
    "loaded_clip_data = pd.DataFrame(loaded_clip_data)\n",
    "loaded_clip_data.index += 1\n",
    "\n",
    "LOG.info(f'Loading GT')\n",
    "gt_path = f'data/groundtruth-10M.h5'\n",
    "f3 = h5py.File(gt_path, 'r')\n",
    "loaded_gt = f3['knns'][:, :]\n"
   ]
  },
  {
   "cell_type": "code",
   "execution_count": 25,
   "id": "c7c79098-8488-4ef3-b1e8-89efa711b32b",
   "metadata": {},
   "outputs": [],
   "source": [
    "def search(loaded_queries, blmi, data, loaded_gt, clip_data, loaded_queries_seq, n_queries=100, stop_conditions=1_000_000, k=10):\n",
    "    res_all = []\n",
    "    for sc in stop_conditions:\n",
    "        LOG.info(f'Searching for {n_queries} queries with stop condition {sc}')\n",
    "        for i, query in tqdm(enumerate(loaded_queries[:n_queries])):\n",
    "            s = time.time()\n",
    "            pred_leaf_nodes = blmi.search(query, stop_condition=sc)[0]\n",
    "            object_ids = []\n",
    "            for pred_leaf_node in pred_leaf_nodes:\n",
    "                leaf_node = blmi.nodes.get(pred_leaf_node)\n",
    "                if leaf_node is not None:\n",
    "                    object_ids.extend(leaf_node.object_ids)\n",
    "            e = time.time()\n",
    "            navigation_t = e - s\n",
    "            #print(clip_data.loc[object_ids].shape)\n",
    "            s = time.time()\n",
    "            data_part_sparse = sparse.csr_matrix(clip_data.loc[object_ids])\n",
    "            query_part_sparse = sparse.csr_matrix(loaded_queries_seq[i])\n",
    "            #data_part_sparse = clip_data.loc[object_ids] #sparse.csr_matrix(clip_data.loc[object_ids])\n",
    "            #query_part_sparse = [loaded_queries_seq[i]] #sparse.csr_matrix(loaded_queries_seq[i])\n",
    "            dists = pairwise_cosine(query_part_sparse, data_part_sparse, dense_output=False)\n",
    "            e = time.time()\n",
    "            search_t = e - s\n",
    "            anns_found = np.intersect1d(\n",
    "                loaded_gt[i][:10],\n",
    "                np.array(data.loc[object_ids].index[np.argsort(dists)[:, :k][0]])[:10]\n",
    "            ).shape\n",
    "            res_all.append({\n",
    "                'query': i,\n",
    "                'stop_condition': sc,\n",
    "                'anns_found': anns_found[0],\n",
    "                'navigation_t': navigation_t,\n",
    "                'search_t': search_t,\n",
    "            })\n",
    "    return res_all\n"
   ]
  },
  {
   "cell_type": "code",
   "execution_count": 10,
   "id": "df2e7cc3-af96-4d72-a0e2-2113fa58be3d",
   "metadata": {},
   "outputs": [],
   "source": [
    "filename = '../models/clip768v2-emb-10M-100-0.5-50-0.01-MLP.pkl.pkl'"
   ]
  },
  {
   "cell_type": "code",
   "execution_count": 11,
   "id": "982dacc2-9f39-412c-9943-54c287c2f48f",
   "metadata": {},
   "outputs": [
    {
     "name": "stderr",
     "output_type": "stream",
     "text": [
      "[2023-07-04 11:33:57,692][INFO ][__main__] Loading ../models/clip768v2-emb-10M-100-0.5-50-0.01-MLP.pkl.pkl...\n",
      "[2023-07-04 11:33:58,239][INFO ][faiss.loader] Loading faiss with AVX2 support.\n",
      "[2023-07-04 11:33:58,244][INFO ][faiss.loader] Could not load library with AVX2 support due to:\n",
      "ModuleNotFoundError(\"No module named 'faiss.swigfaiss_avx2'\",)\n",
      "[2023-07-04 11:33:58,246][INFO ][faiss.loader] Loading faiss.\n",
      "[2023-07-04 11:33:58,288][INFO ][faiss.loader] Successfully loaded faiss.\n"
     ]
    }
   ],
   "source": [
    "LOG.info(f'Loading {filename}...')\n",
    "with open(f'{filename}', 'rb') as f:\n",
    "    blmi = pickle.load(f)"
   ]
  },
  {
   "cell_type": "code",
   "execution_count": 26,
   "id": "ab7df917-3849-4ca5-a06d-481856da7ef3",
   "metadata": {},
   "outputs": [
    {
     "name": "stderr",
     "output_type": "stream",
     "text": [
      "[2023-07-04 11:37:18,462][INFO ][__main__] Searching for 1 queries with stop condition 100000\n",
      "0it [00:00, ?it/s]\n"
     ]
    },
    {
     "ename": "NotImplementedError",
     "evalue": "subtracting a sparse matrix from a nonzero scalar is not supported",
     "output_type": "error",
     "traceback": [
      "\u001b[0;31m---------------------------------------------------------------------------\u001b[0m",
      "\u001b[0;31mNotImplementedError\u001b[0m                       Traceback (most recent call last)",
      "\u001b[0;32m<ipython-input-26-3a83a9c99cdc>\u001b[0m in \u001b[0;36m<module>\u001b[0;34m\u001b[0m\n\u001b[1;32m      1\u001b[0m \u001b[0mincrease_max_recursion_limit\u001b[0m\u001b[0;34m(\u001b[0m\u001b[0;34m)\u001b[0m\u001b[0;34m\u001b[0m\u001b[0m\n\u001b[1;32m      2\u001b[0m res_all = search(\n\u001b[0;32m----> 3\u001b[0;31m     \u001b[0mloaded_queries\u001b[0m\u001b[0;34m,\u001b[0m \u001b[0mblmi\u001b[0m\u001b[0;34m,\u001b[0m \u001b[0mdata\u001b[0m\u001b[0;34m,\u001b[0m \u001b[0mloaded_gt\u001b[0m\u001b[0;34m,\u001b[0m \u001b[0mloaded_clip_data\u001b[0m\u001b[0;34m,\u001b[0m \u001b[0mloaded_queries_seq\u001b[0m\u001b[0;34m,\u001b[0m \u001b[0mn_queries\u001b[0m\u001b[0;34m=\u001b[0m\u001b[0;36m1\u001b[0m\u001b[0;34m,\u001b[0m \u001b[0mstop_conditions\u001b[0m\u001b[0;34m=\u001b[0m\u001b[0;34m[\u001b[0m\u001b[0;36m100_000\u001b[0m\u001b[0;34m]\u001b[0m\u001b[0;34m\u001b[0m\u001b[0m\n\u001b[0m\u001b[1;32m      4\u001b[0m )\n",
      "\u001b[0;32m<ipython-input-25-dcd67d387a93>\u001b[0m in \u001b[0;36msearch\u001b[0;34m(loaded_queries, blmi, data, loaded_gt, clip_data, loaded_queries_seq, n_queries, stop_conditions, k)\u001b[0m\n\u001b[1;32m     19\u001b[0m             \u001b[0;31m#data_part_sparse = clip_data.loc[object_ids] #sparse.csr_matrix(clip_data.loc[object_ids])\u001b[0m\u001b[0;34m\u001b[0m\u001b[0;34m\u001b[0m\u001b[0m\n\u001b[1;32m     20\u001b[0m             \u001b[0;31m#query_part_sparse = [loaded_queries_seq[i]] #sparse.csr_matrix(loaded_queries_seq[i])\u001b[0m\u001b[0;34m\u001b[0m\u001b[0;34m\u001b[0m\u001b[0m\n\u001b[0;32m---> 21\u001b[0;31m             \u001b[0mdists\u001b[0m \u001b[0;34m=\u001b[0m \u001b[0mpairwise_cosine\u001b[0m\u001b[0;34m(\u001b[0m\u001b[0mquery_part_sparse\u001b[0m\u001b[0;34m,\u001b[0m \u001b[0mdata_part_sparse\u001b[0m\u001b[0;34m,\u001b[0m \u001b[0mdense_output\u001b[0m\u001b[0;34m=\u001b[0m\u001b[0;32mFalse\u001b[0m\u001b[0;34m)\u001b[0m\u001b[0;34m\u001b[0m\u001b[0m\n\u001b[0m\u001b[1;32m     22\u001b[0m             \u001b[0me\u001b[0m \u001b[0;34m=\u001b[0m \u001b[0mtime\u001b[0m\u001b[0;34m.\u001b[0m\u001b[0mtime\u001b[0m\u001b[0;34m(\u001b[0m\u001b[0;34m)\u001b[0m\u001b[0;34m\u001b[0m\u001b[0m\n\u001b[1;32m     23\u001b[0m             \u001b[0msearch_t\u001b[0m \u001b[0;34m=\u001b[0m \u001b[0me\u001b[0m \u001b[0;34m-\u001b[0m \u001b[0ms\u001b[0m\u001b[0;34m\u001b[0m\u001b[0m\n",
      "\u001b[0;32m/auto/brno12-cerit/nfs4/home/tslaninakova/sisap-challenge/repo/search/li/utils.py\u001b[0m in \u001b[0;36mpairwise_cosine\u001b[0;34m(x, y, dense_output)\u001b[0m\n\u001b[1;32m      4\u001b[0m \u001b[0;34m\u001b[0m\u001b[0m\n\u001b[1;32m      5\u001b[0m \u001b[0;32mdef\u001b[0m \u001b[0mpairwise_cosine\u001b[0m\u001b[0;34m(\u001b[0m\u001b[0mx\u001b[0m\u001b[0;34m,\u001b[0m \u001b[0my\u001b[0m\u001b[0;34m,\u001b[0m \u001b[0mdense_output\u001b[0m\u001b[0;34m=\u001b[0m\u001b[0;32mTrue\u001b[0m\u001b[0;34m)\u001b[0m\u001b[0;34m:\u001b[0m\u001b[0;34m\u001b[0m\u001b[0m\n\u001b[0;32m----> 6\u001b[0;31m     \u001b[0;32mreturn\u001b[0m \u001b[0;36m1\u001b[0m\u001b[0;34m-\u001b[0m\u001b[0mcosine_similarity\u001b[0m\u001b[0;34m(\u001b[0m\u001b[0mx\u001b[0m\u001b[0;34m,\u001b[0m \u001b[0my\u001b[0m\u001b[0;34m,\u001b[0m \u001b[0mdense_output\u001b[0m\u001b[0;34m=\u001b[0m\u001b[0mdense_output\u001b[0m\u001b[0;34m)\u001b[0m\u001b[0;34m\u001b[0m\u001b[0m\n\u001b[0m\u001b[1;32m      7\u001b[0m \u001b[0;34m\u001b[0m\u001b[0m\n\u001b[1;32m      8\u001b[0m \u001b[0;34m\u001b[0m\u001b[0m\n",
      "\u001b[0;32m/mnt/storage-brno11-elixir/home/tslaninakova/dynamic-lmi/dynamic-lmi-env/lib/python3.6/site-packages/scipy/sparse/base.py\u001b[0m in \u001b[0;36m__rsub__\u001b[0;34m(self, other)\u001b[0m\n\u001b[1;32m    443\u001b[0m             \u001b[0;32mif\u001b[0m \u001b[0mother\u001b[0m \u001b[0;34m==\u001b[0m \u001b[0;36m0\u001b[0m\u001b[0;34m:\u001b[0m\u001b[0;34m\u001b[0m\u001b[0m\n\u001b[1;32m    444\u001b[0m                 \u001b[0;32mreturn\u001b[0m \u001b[0;34m-\u001b[0m\u001b[0mself\u001b[0m\u001b[0;34m.\u001b[0m\u001b[0mcopy\u001b[0m\u001b[0;34m(\u001b[0m\u001b[0;34m)\u001b[0m\u001b[0;34m\u001b[0m\u001b[0m\n\u001b[0;32m--> 445\u001b[0;31m             raise NotImplementedError('subtracting a sparse matrix from a '\n\u001b[0m\u001b[1;32m    446\u001b[0m                                       'nonzero scalar is not supported')\n\u001b[1;32m    447\u001b[0m         \u001b[0;32melif\u001b[0m \u001b[0misdense\u001b[0m\u001b[0;34m(\u001b[0m\u001b[0mother\u001b[0m\u001b[0;34m)\u001b[0m\u001b[0;34m:\u001b[0m\u001b[0;34m\u001b[0m\u001b[0m\n",
      "\u001b[0;31mNotImplementedError\u001b[0m: subtracting a sparse matrix from a nonzero scalar is not supported"
     ]
    }
   ],
   "source": [
    "increase_max_recursion_limit()\n",
    "res_all = search(\n",
    "    loaded_queries, blmi, data, loaded_gt, loaded_clip_data, loaded_queries_seq, n_queries=1, stop_conditions=[100_000]\n",
    ")\n"
   ]
  },
  {
   "cell_type": "code",
   "execution_count": null,
   "id": "4f21eab1-2b10-42c0-8380-36fff2966cb6",
   "metadata": {},
   "outputs": [],
   "source": [
    "res_all"
   ]
  },
  {
   "cell_type": "code",
   "execution_count": null,
   "id": "3038a64b-b1e4-423f-b21a-fd44c952ab2b",
   "metadata": {},
   "outputs": [],
   "source": []
  }
 ],
 "metadata": {
  "kernelspec": {
   "display_name": "Python 3",
   "language": "python",
   "name": "python3"
  },
  "language_info": {
   "codemirror_mode": {
    "name": "ipython",
    "version": 3
   },
   "file_extension": ".py",
   "mimetype": "text/x-python",
   "name": "python",
   "nbconvert_exporter": "python",
   "pygments_lexer": "ipython3",
   "version": "3.6.2"
  }
 },
 "nbformat": 4,
 "nbformat_minor": 5
}
