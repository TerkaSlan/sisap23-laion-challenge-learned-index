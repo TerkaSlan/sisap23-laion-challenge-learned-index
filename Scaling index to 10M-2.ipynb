{
 "cells": [
  {
   "cell_type": "code",
   "execution_count": 64,
   "id": "f2cdb38d-1cd3-4dcc-8a60-2ec8e6f05ace",
   "metadata": {},
   "outputs": [],
   "source": [
    "%reload_ext autoreload\n",
    "%autoreload 2"
   ]
  },
  {
   "cell_type": "code",
   "execution_count": 2,
   "id": "eea08abe-1263-427e-a3b7-b42adf1d5599",
   "metadata": {},
   "outputs": [
    {
     "name": "stdout",
     "output_type": "stream",
     "text": [
      "CPU times: user 0 ns, sys: 1.08 s, total: 1.08 s\n",
      "Wall time: 1.18 s\n"
     ]
    }
   ],
   "source": [
    "import h5py\n",
    "data_path = 'data/clip768v2/10M/dataset.h5'\n",
    "%time f = h5py.File(data_path, 'r')"
   ]
  },
  {
   "cell_type": "code",
   "execution_count": 3,
   "id": "170d527d-dd1b-4716-9454-0829de3292cc",
   "metadata": {},
   "outputs": [
    {
     "data": {
      "text/plain": [
       "10120191"
      ]
     },
     "execution_count": 3,
     "metadata": {},
     "output_type": "execute_result"
    }
   ],
   "source": [
    "len(f['emb'])"
   ]
  },
  {
   "cell_type": "markdown",
   "id": "313af20e-7ac3-4002-afc9-9b72773b5652",
   "metadata": {},
   "source": [
    "## Goal:\n",
    "1) load data for training (1000*1000 objects)\n",
    "2) train, predict on train, dispose of the training data (keep ids)\n",
    "3) load data for predict (rest 9M objects)\n",
    "4) predict, dispose of the data (keep ids)\n",
    "5) on search, load the data in the visited bucket again (10k objects on avg), compute distances"
   ]
  },
  {
   "cell_type": "code",
   "execution_count": null,
   "id": "1ff9d9ee-6bee-4c9a-98e7-837a1269a463",
   "metadata": {},
   "outputs": [],
   "source": []
  },
  {
   "cell_type": "code",
   "execution_count": 3,
   "id": "349053c1-d67b-4aec-8582-01ac2d90ed45",
   "metadata": {},
   "outputs": [
    {
     "name": "stdout",
     "output_type": "stream",
     "text": [
      "CPU times: user 35.5 ms, sys: 16.3 s, total: 16.4 s\n",
      "Wall time: 2min 43s\n"
     ]
    }
   ],
   "source": [
    "%time loaded_data = f['emb'][:, :]"
   ]
  },
  {
   "cell_type": "code",
   "execution_count": 4,
   "id": "8b155a30-f625-4514-8696-a1965c813e0d",
   "metadata": {},
   "outputs": [],
   "source": [
    "from li.model import Model\n",
    "model = Model(input_dim=768, output_dim=100)"
   ]
  },
  {
   "cell_type": "code",
   "execution_count": 9,
   "id": "32de9928-adc1-4a2c-848a-0cd2cfb66105",
   "metadata": {},
   "outputs": [
    {
     "data": {
      "text/plain": [
       "Model(\n",
       "  (layers): Sequential(\n",
       "    (0): Linear(in_features=768, out_features=128, bias=True)\n",
       "    (1): ReLU()\n",
       "    (2): Linear(in_features=128, out_features=100, bias=True)\n",
       "  )\n",
       ")"
      ]
     },
     "execution_count": 9,
     "metadata": {},
     "output_type": "execute_result"
    }
   ],
   "source": [
    "import torch\n",
    "model.load_state_dict(torch.load('../models/clip768v2-emb-10M-best-model.pt'))\n",
    "model.eval()"
   ]
  },
  {
   "cell_type": "code",
   "execution_count": 13,
   "id": "864fbb73-a9d1-4a02-af67-e0cf14f4c806",
   "metadata": {},
   "outputs": [],
   "source": [
    "from li.model import data_X_to_torch, predict, get_device"
   ]
  },
  {
   "cell_type": "code",
   "execution_count": 14,
   "id": "a5a47467-678e-46df-8dd5-279d4280f7d0",
   "metadata": {},
   "outputs": [
    {
     "name": "stdout",
     "output_type": "stream",
     "text": [
      "CPU times: user 1min 59s, sys: 47.8 s, total: 2min 47s\n",
      "Wall time: 2min 51s\n"
     ]
    }
   ],
   "source": [
    "%time predictions = predict(model, get_device(), data_X_to_torch(loaded_data))"
   ]
  },
  {
   "cell_type": "code",
   "execution_count": 15,
   "id": "bd930fd7-6063-474a-b9b3-f8425f96453b",
   "metadata": {},
   "outputs": [
    {
     "data": {
      "text/plain": [
       "(10120191,)"
      ]
     },
     "execution_count": 15,
     "metadata": {},
     "output_type": "execute_result"
    }
   ],
   "source": [
    "predictions.shape"
   ]
  },
  {
   "cell_type": "code",
   "execution_count": 47,
   "id": "c70882a7-bb8c-4672-8af9-5894c3995177",
   "metadata": {},
   "outputs": [],
   "source": [
    "from li.model import predict_proba"
   ]
  },
  {
   "cell_type": "code",
   "execution_count": 27,
   "id": "87b99e52-1431-4b35-bc52-37ab9c3f7f96",
   "metadata": {},
   "outputs": [
    {
     "name": "stdout",
     "output_type": "stream",
     "text": [
      "CPU times: user 460 µs, sys: 250 µs, total: 710 µs\n",
      "Wall time: 16.1 ms\n"
     ]
    },
    {
     "data": {
      "text/plain": [
       "['emb']"
      ]
     },
     "execution_count": 27,
     "metadata": {},
     "output_type": "execute_result"
    }
   ],
   "source": [
    "%time f2 = h5py.File('data/clip768v2/10M/query.h5', 'r')\n",
    "[k for k in f2.keys()]"
   ]
  },
  {
   "cell_type": "code",
   "execution_count": 28,
   "id": "cadfa589-a975-4152-98f9-b6e993655bf3",
   "metadata": {},
   "outputs": [
    {
     "name": "stdout",
     "output_type": "stream",
     "text": [
      "CPU times: user 1.36 ms, sys: 8.74 ms, total: 10.1 ms\n",
      "Wall time: 10.2 ms\n"
     ]
    }
   ],
   "source": [
    "%time loaded_queries = f2['emb'][:, :]"
   ]
  },
  {
   "cell_type": "code",
   "execution_count": 33,
   "id": "28d7c674-0fc8-46e1-b259-138d75e46364",
   "metadata": {},
   "outputs": [
    {
     "data": {
      "text/plain": [
       "(10000, 768)"
      ]
     },
     "execution_count": 33,
     "metadata": {},
     "output_type": "execute_result"
    }
   ],
   "source": [
    "loaded_queries.shape"
   ]
  },
  {
   "cell_type": "code",
   "execution_count": 48,
   "id": "f2cebc43-db1f-4d8f-a92f-e2f9b0b5c24c",
   "metadata": {},
   "outputs": [
    {
     "name": "stdout",
     "output_type": "stream",
     "text": [
      "torch.Size([10000, 100])\n"
     ]
    }
   ],
   "source": [
    "res = predict_proba(model, get_device(), data_X_to_torch(loaded_queries))"
   ]
  },
  {
   "cell_type": "code",
   "execution_count": 66,
   "id": "f0e49d6b-6b76-4d36-8590-dd832ceed6fa",
   "metadata": {},
   "outputs": [],
   "source": [
    "from li.LearnedIndex10M import LearnedIndex"
   ]
  },
  {
   "cell_type": "code",
   "execution_count": 67,
   "id": "415e9cc3-ae05-472c-b493-f635c8778f58",
   "metadata": {},
   "outputs": [],
   "source": [
    "li = LearnedIndex(\n",
    "    dataset_shape=(10_000_000, 768),\n",
    "    n_categories=100\n",
    ")"
   ]
  },
  {
   "cell_type": "code",
   "execution_count": 68,
   "id": "fd0eb74b-017a-4f76-9bb5-3cd4b2c90054",
   "metadata": {},
   "outputs": [],
   "source": [
    "li.model = model"
   ]
  },
  {
   "cell_type": "code",
   "execution_count": 69,
   "id": "7d0fced3-baa6-4e58-968c-b8ecc6f969df",
   "metadata": {},
   "outputs": [],
   "source": [
    "li.predictions = predictions"
   ]
  },
  {
   "cell_type": "code",
   "execution_count": 70,
   "id": "b676aeec-d7c4-44ad-a094-3822651d17f9",
   "metadata": {},
   "outputs": [],
   "source": [
    "li.all_data =  loaded_data"
   ]
  },
  {
   "cell_type": "code",
   "execution_count": 74,
   "id": "a643342b-0147-4575-8fdd-729d32db7523",
   "metadata": {},
   "outputs": [
    {
     "name": "stdout",
     "output_type": "stream",
     "text": [
      "bucket_obj_indexes: (70660,)\n",
      "bucket_obj_indexes: (60431,)\n",
      "bucket_obj_indexes: (155211,)\n",
      "bucket_obj_indexes: (44668,)\n",
      "bucket_obj_indexes: (44940,)\n",
      "bucket_obj_indexes: (35358,)\n",
      "bucket_obj_indexes: (78389,)\n",
      "bucket_obj_indexes: (46592,)\n",
      "bucket_obj_indexes: (120995,)\n",
      "bucket_obj_indexes: (43151,)\n",
      "bucket_obj_indexes: (145368,)\n",
      "bucket_obj_indexes: (65688,)\n",
      "bucket_obj_indexes: (42585,)\n",
      "bucket_obj_indexes: (151551,)\n",
      "bucket_obj_indexes: (142066,)\n",
      "bucket_obj_indexes: (297296,)\n",
      "bucket_obj_indexes: (109030,)\n",
      "bucket_obj_indexes: (76712,)\n",
      "bucket_obj_indexes: (85640,)\n",
      "bucket_obj_indexes: (138392,)\n",
      "bucket_obj_indexes: (97728,)\n",
      "bucket_obj_indexes: (102276,)\n",
      "bucket_obj_indexes: (150129,)\n",
      "bucket_obj_indexes: (130399,)\n",
      "bucket_obj_indexes: (140012,)\n",
      "bucket_obj_indexes: (34989,)\n",
      "bucket_obj_indexes: (136013,)\n",
      "bucket_obj_indexes: (117123,)\n",
      "bucket_obj_indexes: (89756,)\n",
      "bucket_obj_indexes: (36506,)\n",
      "bucket_obj_indexes: (108078,)\n",
      "CPU times: user 5min 24s, sys: 27 s, total: 5min 51s\n",
      "Wall time: 6min\n"
     ]
    }
   ],
   "source": [
    "%%time\n",
    "search_res = li.search(loaded_queries, n_buckets=2)"
   ]
  },
  {
   "cell_type": "code",
   "execution_count": 76,
   "id": "13a99446-2756-40f4-b62b-93a1ecec9ee4",
   "metadata": {},
   "outputs": [
    {
     "ename": "AttributeError",
     "evalue": "'tuple' object has no attribute 'shape'",
     "output_type": "error",
     "traceback": [
      "\u001b[0;31m---------------------------------------------------------------------------\u001b[0m",
      "\u001b[0;31mAttributeError\u001b[0m                            Traceback (most recent call last)",
      "\u001b[0;32m<ipython-input-76-3bea961a1d5a>\u001b[0m in \u001b[0;36m<module>\u001b[0;34m\u001b[0m\n\u001b[0;32m----> 1\u001b[0;31m \u001b[0msearch_res\u001b[0m\u001b[0;34m.\u001b[0m\u001b[0mshape\u001b[0m\u001b[0;34m\u001b[0m\u001b[0m\n\u001b[0m",
      "\u001b[0;31mAttributeError\u001b[0m: 'tuple' object has no attribute 'shape'"
     ]
    }
   ],
   "source": [
    "search_res.shape"
   ]
  },
  {
   "cell_type": "code",
   "execution_count": 81,
   "id": "5b6c2383-4c5e-452f-af7a-6c538ecae57f",
   "metadata": {},
   "outputs": [
    {
     "data": {
      "text/plain": [
       "(10000, 10)"
      ]
     },
     "execution_count": 81,
     "metadata": {},
     "output_type": "execute_result"
    }
   ],
   "source": [
    "search_res[0].shape"
   ]
  },
  {
   "cell_type": "code",
   "execution_count": 80,
   "id": "9b7c7749-faa3-4bd4-813a-c41ac512295b",
   "metadata": {},
   "outputs": [
    {
     "data": {
      "text/plain": [
       "array([[ 1831320,  7535354,  7059014, ...,  9060635,  5509896,   210839],\n",
       "       [  345243,   641543,   985275, ...,  4315057,  6363149,  4984877],\n",
       "       [ 1385230,  8732144,  5079078, ...,  8500628,  7238113,  8391052],\n",
       "       ...,\n",
       "       [ 9550551,  9711325,  7029902, ...,  7054237,  8342966,  2623128],\n",
       "       [10037932,  6595916,  4837121, ...,  2597817,  8233243,  3702635],\n",
       "       [  497148,  8333824,  4361805, ...,  7069212,  7326701,  5715343]],\n",
       "      dtype=uint32)"
      ]
     },
     "execution_count": 80,
     "metadata": {},
     "output_type": "execute_result"
    }
   ],
   "source": [
    "search_res[1]"
   ]
  },
  {
   "cell_type": "code",
   "execution_count": 79,
   "id": "4ce0b449-dc61-47f0-97c4-df28973111f8",
   "metadata": {},
   "outputs": [
    {
     "data": {
      "text/plain": [
       "(100,)"
      ]
     },
     "execution_count": 79,
     "metadata": {},
     "output_type": "execute_result"
    }
   ],
   "source": [
    "res[1].shape"
   ]
  },
  {
   "cell_type": "code",
   "execution_count": 44,
   "id": "c3b7481f-7488-43e5-b4e9-884c8bf2315c",
   "metadata": {},
   "outputs": [],
   "source": [
    "import numpy as np"
   ]
  },
  {
   "cell_type": "code",
   "execution_count": 46,
   "id": "e98cc89d-6b92-4737-a8bd-ac91fc718456",
   "metadata": {},
   "outputs": [
    {
     "data": {
      "text/plain": [
       "array([8.37511470e-05, 9.70561174e-04, 2.92020995e-04, 1.63676043e-04,\n",
       "       8.52210354e-03, 7.81660492e-05, 1.58739305e-04, 6.29106071e-04,\n",
       "       1.61633524e-03, 1.29780790e-04, 2.15484848e-04, 2.32058756e-05,\n",
       "       1.46150356e-04, 2.36730743e-03, 1.38364936e-04, 1.30514824e-03,\n",
       "       3.36273294e-03, 6.12222531e-04, 7.04983031e-05, 2.39886431e-04,\n",
       "       1.60547465e-01, 1.37590361e-03, 2.52572994e-04, 1.07597589e-04,\n",
       "       1.17151719e-03, 1.18067735e-04, 6.09984563e-04, 2.42916425e-03,\n",
       "       3.16633657e-03, 4.98839188e-03, 1.29831792e-03, 8.74745543e-04,\n",
       "       6.43437961e-04, 2.13510357e-03, 3.41637860e-05, 4.37771529e-03,\n",
       "       2.57312728e-04, 7.93551953e-05, 2.43538052e-05, 1.43318884e-02,\n",
       "       3.92020098e-04, 5.58090760e-05, 1.26074348e-03, 3.68411615e-02,\n",
       "       4.93923551e-04, 1.02681312e-04, 1.21077430e-03, 2.71683879e-04,\n",
       "       1.73655041e-02, 2.19049998e-05, 4.27135747e-05, 3.40649131e-05,\n",
       "       1.30197138e-03, 2.38854840e-01, 3.57980825e-05, 4.40446602e-05,\n",
       "       2.56438414e-03, 2.60792749e-05, 1.06133055e-03, 2.63872067e-03,\n",
       "       2.76987412e-04, 1.28420326e-03, 1.23797846e-03, 3.67965340e-03,\n",
       "       4.53370340e-05, 1.25353326e-04, 6.51030932e-05, 1.00420183e-03,\n",
       "       6.18727761e-04, 7.18699084e-05, 1.08761516e-04, 4.10118960e-02,\n",
       "       5.23008348e-04, 7.94375839e-04, 3.67130524e-05, 1.13156450e-03,\n",
       "       2.37332322e-02, 2.91086879e-04, 3.05261892e-05, 1.42332414e-04,\n",
       "       3.28244299e-01, 2.75006227e-04, 3.85016356e-05, 8.50118886e-05,\n",
       "       1.69957231e-04, 6.34448826e-02, 1.33128604e-04, 2.40804748e-05,\n",
       "       8.12070721e-05, 2.29820912e-03, 7.38021554e-05, 6.33060745e-06,\n",
       "       1.20104545e-04, 1.48629269e-03, 1.31037273e-03, 1.74878205e-05,\n",
       "       4.05536965e-04, 6.56842021e-05, 4.05347499e-04, 5.33078914e-04],\n",
       "      dtype=float32)"
      ]
     },
     "execution_count": 46,
     "metadata": {},
     "output_type": "execute_result"
    }
   ],
   "source": [
    "res[0]"
   ]
  },
  {
   "cell_type": "code",
   "execution_count": 45,
   "id": "7b5c4dbf-3ccc-429c-825f-8e6e22d32b5d",
   "metadata": {},
   "outputs": [
    {
     "data": {
      "text/plain": [
       "80"
      ]
     },
     "execution_count": 45,
     "metadata": {},
     "output_type": "execute_result"
    }
   ],
   "source": [
    "np.argmax(res[0])"
   ]
  },
  {
   "cell_type": "code",
   "execution_count": 37,
   "id": "8ca38115-a438-457b-86f7-9baf3b20168d",
   "metadata": {},
   "outputs": [
    {
     "data": {
      "text/plain": [
       "((10, 100), (10, 100))"
      ]
     },
     "execution_count": 37,
     "metadata": {},
     "output_type": "execute_result"
    }
   ],
   "source": [
    "res[0].shape, res[1].shape"
   ]
  },
  {
   "cell_type": "code",
   "execution_count": 16,
   "id": "3f90739d-9a36-4762-9136-4337aacc8aa6",
   "metadata": {},
   "outputs": [
    {
     "data": {
      "text/plain": [
       "array([38,  3, 58, 88, 84, 67, 13, 93, 75, 13])"
      ]
     },
     "execution_count": 16,
     "metadata": {},
     "output_type": "execute_result"
    }
   ],
   "source": [
    "predictions[:10]"
   ]
  },
  {
   "cell_type": "code",
   "execution_count": null,
   "id": "ca836cd4-e91b-42c9-98c4-3de39de22cee",
   "metadata": {},
   "outputs": [],
   "source": [
    "torch.save(model.state_dict(), f'{save_dir}/{wandb.run.name}/best-model.pt')\n"
   ]
  },
  {
   "cell_type": "code",
   "execution_count": 7,
   "id": "bc0b6d47-1075-4b18-a2d8-8b8504eb341b",
   "metadata": {},
   "outputs": [],
   "source": [
    "import numpy as np"
   ]
  },
  {
   "cell_type": "code",
   "execution_count": 9,
   "id": "08192e49-5914-46f6-b3e3-c9e409240d76",
   "metadata": {},
   "outputs": [
    {
     "data": {
      "text/plain": [
       "(1000,)"
      ]
     },
     "execution_count": 9,
     "metadata": {},
     "output_type": "execute_result"
    }
   ],
   "source": [
    "def get_random_indexes(size, dataset_size, seed):\n",
    "    rng = np.random.default_rng(seed)\n",
    "    random_idxs = rng.choice(range(dataset_size), size=(size), replace=False)\n",
    "    random_idxs = np.sort(random_idxs)\n",
    "    return random_idxs\n",
    "\n",
    "idx = get_random_indexes(1000, 10_000_000, 2023)\n",
    "idx.shape"
   ]
  },
  {
   "cell_type": "code",
   "execution_count": 10,
   "id": "00f40ecf-05cd-440e-9ba2-fd27da5aac3d",
   "metadata": {},
   "outputs": [
    {
     "data": {
      "text/plain": [
       "True"
      ]
     },
     "execution_count": 10,
     "metadata": {},
     "output_type": "execute_result"
    }
   ],
   "source": [
    "idx.shape == (1000, )"
   ]
  },
  {
   "cell_type": "code",
   "execution_count": 7,
   "id": "073aa7c4-9dba-494e-b7bb-cc623250c17f",
   "metadata": {},
   "outputs": [
    {
     "name": "stdout",
     "output_type": "stream",
     "text": [
      "CPU times: user 2.17 s, sys: 784 ms, total: 2.95 s\n",
      "Wall time: 1min 19s\n"
     ]
    }
   ],
   "source": [
    "%time loaded_data = f['emb'][random_idxs, :]"
   ]
  },
  {
   "cell_type": "code",
   "execution_count": 3,
   "id": "9bc10f6c-3ecc-4666-b4d3-a262969b254b",
   "metadata": {},
   "outputs": [
    {
     "name": "stdout",
     "output_type": "stream",
     "text": [
      "CPU times: user 13.7 ms, sys: 110 ms, total: 124 ms\n",
      "Wall time: 2.05 s\n"
     ]
    }
   ],
   "source": [
    "%time _ = f['emb'][:100_000, :]"
   ]
  },
  {
   "cell_type": "code",
   "execution_count": 4,
   "id": "7b9e6b81-cf08-4834-9112-90bdb2a1a272",
   "metadata": {},
   "outputs": [
    {
     "name": "stdout",
     "output_type": "stream",
     "text": [
      "CPU times: user 12.7 ms, sys: 1.03 s, total: 1.05 s\n",
      "Wall time: 20.7 s\n"
     ]
    }
   ],
   "source": [
    "%time _ = f['emb'][:1_000_000, :]"
   ]
  },
  {
   "cell_type": "code",
   "execution_count": 5,
   "id": "7f557639-a342-4efc-a1dd-a81936d5ffb5",
   "metadata": {},
   "outputs": [
    {
     "name": "stdout",
     "output_type": "stream",
     "text": [
      "CPU times: user 11.6 ms, sys: 16.1 s, total: 16.1 s\n",
      "Wall time: 3min 10s\n"
     ]
    }
   ],
   "source": [
    "%time _ = f['emb'][:9_000_000, :]"
   ]
  },
  {
   "cell_type": "code",
   "execution_count": 8,
   "id": "158075b1-0d5f-47ab-bfea-933f0eb58d22",
   "metadata": {},
   "outputs": [
    {
     "name": "stdout",
     "output_type": "stream",
     "text": [
      "CPU times: user 211 ms, sys: 14.5 s, total: 14.7 s\n",
      "Wall time: 4min 4s\n"
     ]
    }
   ],
   "source": [
    "%time pred_data = f['emb'][:, :]"
   ]
  },
  {
   "cell_type": "code",
   "execution_count": null,
   "id": "d1ba51a2-f28a-41a5-a39c-a57e767adeb4",
   "metadata": {},
   "outputs": [],
   "source": [
    "pred_data[]"
   ]
  },
  {
   "cell_type": "code",
   "execution_count": null,
   "id": "86931282-053f-48fb-8912-4cc094191088",
   "metadata": {},
   "outputs": [],
   "source": [
    "%time test_mem = f['emb'][random_idxs, :]"
   ]
  },
  {
   "cell_type": "code",
   "execution_count": 11,
   "id": "3800a381-d6c5-4d73-ad15-b5b78b4bd7e4",
   "metadata": {},
   "outputs": [
    {
     "name": "stdout",
     "output_type": "stream",
     "text": [
      "Generator(PCG64)\n",
      "CPU times: user 1.1 s, sys: 529 ms, total: 1.63 s\n",
      "Wall time: 10.8 s\n"
     ]
    }
   ],
   "source": [
    "%%time\n",
    "rng = np.random.default_rng(2023)\n",
    "print(rng)\n",
    "random_pivots = rng.choice(range(10_000_000), size=(1_000), replace=False)\n",
    "pivot_indexes = np.sort(random_pivots)\n",
    "pivot_data = f['emb'][pivot_indexes, :]"
   ]
  },
  {
   "cell_type": "code",
   "execution_count": 12,
   "id": "c6622491-0d75-499f-b602-99fcad397570",
   "metadata": {},
   "outputs": [
    {
     "data": {
      "text/plain": [
       "(1000, 768)"
      ]
     },
     "execution_count": 12,
     "metadata": {},
     "output_type": "execute_result"
    }
   ],
   "source": [
    "pivot_data.shape"
   ]
  },
  {
   "cell_type": "code",
   "execution_count": 4,
   "id": "645d86c4-e7eb-47d8-a553-65e06ba4354c",
   "metadata": {},
   "outputs": [
    {
     "data": {
      "text/plain": [
       "(10000, 768)"
      ]
     },
     "execution_count": 4,
     "metadata": {},
     "output_type": "execute_result"
    }
   ],
   "source": [
    "loaded_data.shape"
   ]
  },
  {
   "cell_type": "code",
   "execution_count": 16,
   "id": "10f9b234-3d36-48ea-a659-2e5916962ad1",
   "metadata": {},
   "outputs": [],
   "source": [
    "from tqdm import tqdm\n",
    "import gc\n",
    "from sklearn.metrics.pairwise import cosine_similarity\n",
    "import numpy as np\n",
    "import time\n",
    "\n",
    "def pairwise_cosine(x, y):\n",
    "    r = cosine_similarity(x, y)\n",
    "    print(r)\n",
    "    return 1-cosine_similarity(x, y)"
   ]
  },
  {
   "cell_type": "code",
   "execution_count": 28,
   "id": "ad3c1002-9eab-4859-857f-3a28c1eadd9b",
   "metadata": {},
   "outputs": [
    {
     "ename": "AttributeError",
     "evalue": "'numpy.ndarray' object has no attribute 'unsqueeze'",
     "output_type": "error",
     "traceback": [
      "\u001b[0;31m---------------------------------------------------------------------------\u001b[0m",
      "\u001b[0;31mAttributeError\u001b[0m                            Traceback (most recent call last)",
      "\u001b[0;32m<ipython-input-28-302b8ea9f9c1>\u001b[0m in \u001b[0;36m<module>\u001b[0;34m\u001b[0m\n\u001b[0;32m----> 1\u001b[0;31m \u001b[0mpivot_data\u001b[0m\u001b[0;34m[\u001b[0m\u001b[0;36m0\u001b[0m\u001b[0;34m]\u001b[0m\u001b[0;34m.\u001b[0m\u001b[0munsqueeze\u001b[0m\u001b[0;34m(\u001b[0m\u001b[0;34m)\u001b[0m\u001b[0;34m\u001b[0m\u001b[0m\n\u001b[0m",
      "\u001b[0;31mAttributeError\u001b[0m: 'numpy.ndarray' object has no attribute 'unsqueeze'"
     ]
    }
   ],
   "source": [
    "pivot_data[0].unsqueeze()"
   ]
  },
  {
   "cell_type": "code",
   "execution_count": 36,
   "id": "56dc249f-5ec7-4f75-9e26-27cb26d61432",
   "metadata": {},
   "outputs": [
    {
     "data": {
      "text/plain": [
       "(1000, 768)"
      ]
     },
     "execution_count": 36,
     "metadata": {},
     "output_type": "execute_result"
    }
   ],
   "source": [
    "loaded_data.shape"
   ]
  },
  {
   "cell_type": "code",
   "execution_count": 52,
   "id": "df63b099-586a-46eb-915d-d9f9257d01fb",
   "metadata": {},
   "outputs": [
    {
     "data": {
      "text/plain": [
       "(2, 1000)"
      ]
     },
     "execution_count": 52,
     "metadata": {},
     "output_type": "execute_result"
    }
   ],
   "source": [
    "dists_all.shape"
   ]
  },
  {
   "cell_type": "code",
   "execution_count": 55,
   "id": "dc95cc08-bf07-4d85-a111-362429022e70",
   "metadata": {},
   "outputs": [
    {
     "data": {
      "text/plain": [
       "(1000, 768)"
      ]
     },
     "execution_count": 55,
     "metadata": {},
     "output_type": "execute_result"
    }
   ],
   "source": [
    "pivot_data.shape"
   ]
  },
  {
   "cell_type": "code",
   "execution_count": 59,
   "id": "73085c93-403c-4fce-981a-1ce6279e4bd6",
   "metadata": {},
   "outputs": [
    {
     "data": {
      "text/plain": [
       "array([], shape=(0, 768), dtype=float64)"
      ]
     },
     "execution_count": 59,
     "metadata": {},
     "output_type": "execute_result"
    }
   ],
   "source": [
    "training_data = np.empty((0,768))\n",
    "training_data"
   ]
  },
  {
   "cell_type": "code",
   "execution_count": 17,
   "id": "1010d054-2b0e-4f02-af3a-f81031456167",
   "metadata": {},
   "outputs": [
    {
     "name": "stdout",
     "output_type": "stream",
     "text": [
      "(1000,)\n",
      "CPU times: user 44.2 ms, sys: 20.1 ms, total: 64.3 ms\n",
      "Wall time: 84 ms\n"
     ]
    }
   ],
   "source": [
    "%%time\n",
    "dists_all = np.empty((0,1000))\n",
    "training_data = np.empty((0,768))\n",
    "prev = 0\n",
    "\n",
    "for batch, pivot in zip(range(10_000, 10_000_000, 10_000), pivot_data):\n",
    "    loaded_data = f['emb'][prev:batch, :]\n",
    "    dists = np.argsort(cosine_similarity([pivot], loaded_data)[0])\n",
    "    training_data_indexes = dists[-1000:]\n",
    "    print(training_data_indexes.shape)\n",
    "    break\n",
    "    # take the 1000 most similar (argsort sorts from lowest to highest)\n",
    "    dists_all = np.vstack((dists_all, prev+training_data_indexes))\n",
    "    training_data = np.vstack((training_data, loaded_data[training_data_indexes]))\n",
    "    del loaded_data\n",
    "    gc.collect()\n",
    "    prev = batch"
   ]
  },
  {
   "cell_type": "code",
   "execution_count": null,
   "id": "17bfe5a0-d15d-478e-8770-bbd2bc50b3e8",
   "metadata": {},
   "outputs": [],
   "source": []
  },
  {
   "cell_type": "code",
   "execution_count": 75,
   "id": "c488738c-f190-476a-819f-d941ff979b29",
   "metadata": {},
   "outputs": [
    {
     "data": {
      "text/plain": [
       "(999000, 768)"
      ]
     },
     "execution_count": 75,
     "metadata": {},
     "output_type": "execute_result"
    }
   ],
   "source": [
    "training_data.shape"
   ]
  },
  {
   "cell_type": "code",
   "execution_count": 13,
   "id": "ea67db6e-baa6-4b9f-962a-86ac32f96728",
   "metadata": {},
   "outputs": [
    {
     "data": {
      "text/plain": [
       "10000"
      ]
     },
     "execution_count": 13,
     "metadata": {},
     "output_type": "execute_result"
    }
   ],
   "source": [
    "10_000_000 // 1000"
   ]
  },
  {
   "cell_type": "code",
   "execution_count": 95,
   "id": "a4ad4a58-5403-4be5-bc8b-3e85ad302cc0",
   "metadata": {},
   "outputs": [
    {
     "name": "stdout",
     "output_type": "stream",
     "text": [
      "CPU times: user 106 ms, sys: 2.27 ms, total: 108 ms\n",
      "Wall time: 121 ms\n"
     ]
    }
   ],
   "source": [
    "%%time\n",
    "labels = np.array([np.array([i for j in range(1000)]) for i in range(999)])\n",
    "labels = labels.reshape(labels.shape[0]*labels.shape[1])"
   ]
  },
  {
   "cell_type": "code",
   "execution_count": 69,
   "id": "8dff26fd-57ca-49ee-9c8d-ff178b3f0b73",
   "metadata": {},
   "outputs": [
    {
     "data": {
      "text/plain": [
       "(10, 1000)"
      ]
     },
     "execution_count": 69,
     "metadata": {},
     "output_type": "execute_result"
    }
   ],
   "source": [
    "dists_all.shape"
   ]
  },
  {
   "cell_type": "code",
   "execution_count": 87,
   "id": "f6cb80e1-121c-4a54-bd84-d4a9f500feab",
   "metadata": {},
   "outputs": [],
   "source": [
    "from typing import Tuple\n",
    "def get_device() -> torch.device:\n",
    "    \"\"\" Gets the `device` to be used by torch.\n",
    "    This arugment is needed to operate with the PyTorch model instance.\n",
    "\n",
    "    Returns\n",
    "    ------\n",
    "    torch.device\n",
    "        Device\n",
    "    \"\"\"\n",
    "    use_cuda = torch.cuda.is_available()\n",
    "    device = torch.device('cuda:0' if use_cuda else 'cpu')\n",
    "    torch.backends.cudnn.benchmark = True\n",
    "    return device\n",
    "\n",
    "\n",
    "def data_X_to_torch(data) -> torch.FloatTensor:\n",
    "    \"\"\" Creates torch training data.\"\"\"\n",
    "    data_X = torch.from_numpy(np.array(data).astype(np.float32))\n",
    "    return data_X\n",
    "\n",
    "\n",
    "def data_to_torch(data, labels) -> Tuple[torch.FloatTensor, torch.LongTensor]:\n",
    "    \"\"\" Creates torch training data and labels.\"\"\"\n",
    "    data_X = data_X_to_torch(data)\n",
    "    data_y = torch.as_tensor(torch.from_numpy(labels), dtype=torch.long)\n",
    "    return data_X, data_y"
   ]
  },
  {
   "cell_type": "code",
   "execution_count": 113,
   "id": "4d8c8b0f-aac1-4b31-8109-3589982a4142",
   "metadata": {},
   "outputs": [],
   "source": [
    "import torch\n",
    "from torch import nn\n",
    "\n",
    "class Model(nn.Module):\n",
    "    def __init__(self, input_dim=768, output_dim=1000):\n",
    "        super().__init__()\n",
    "        self.layers = torch.nn.Sequential(\n",
    "          torch.nn.Linear(input_dim, 128),\n",
    "          torch.nn.ReLU(),\n",
    "          torch.nn.Linear(128, output_dim)\n",
    "        )\n",
    "\n",
    "    def forward(self, x: torch.FloatTensor) -> torch.FloatTensor:\n",
    "        outputs = self.layers(x)\n",
    "        return outputs\n",
    "\n",
    "model = Model()\n",
    "lr = 0.01\n",
    "loss = torch.nn.CrossEntropyLoss()\n",
    "optimizer = torch.optim.Adam(model.parameters(), lr=lr)\n",
    "device = get_device()"
   ]
  },
  {
   "cell_type": "code",
   "execution_count": 98,
   "id": "6d8fbff9-f17b-4173-b64d-b61ddaf4e115",
   "metadata": {},
   "outputs": [
    {
     "name": "stdout",
     "output_type": "stream",
     "text": [
      "CPU times: user 756 ms, sys: 741 ms, total: 1.5 s\n",
      "Wall time: 1.6 s\n"
     ]
    },
    {
     "data": {
      "text/plain": [
       "(torch.Size([999000, 768]), torch.Size([999000]))"
      ]
     },
     "execution_count": 98,
     "metadata": {},
     "output_type": "execute_result"
    }
   ],
   "source": [
    "%%time\n",
    "data_X, data_y = data_to_torch(training_data, labels)\n",
    "data_X.shape, data_y.shape"
   ]
  },
  {
   "cell_type": "code",
   "execution_count": 135,
   "id": "8a0309cb-0fff-4006-bd74-757e8ab769f8",
   "metadata": {},
   "outputs": [],
   "source": [
    "def train(\n",
    "    data_X: torch.FloatTensor,\n",
    "    data_y: torch.LongTensor,\n",
    "    model,\n",
    "    optimizer,\n",
    "    device,\n",
    "    epochs=500,\n",
    "):\n",
    "    step = data_X.shape[0] // epochs // 10\n",
    "    losses = []\n",
    "    for ep in range(epochs):\n",
    "        if ep % step == 0 and ep != 0:\n",
    "            print(f'{time.time()} | Epoch {ep} | Loss {curr_loss.item()}')\n",
    "        pred_y = model(data_X.to(device))\n",
    "        curr_loss = loss(pred_y, data_y.to(device))\n",
    "        losses.append(curr_loss.item())\n",
    "\n",
    "        model.zero_grad()\n",
    "        curr_loss.backward()\n",
    "\n",
    "        optimizer.step()\n",
    "    return losses, model\n"
   ]
  },
  {
   "cell_type": "code",
   "execution_count": 111,
   "id": "eaca812c-be5b-49a6-80f9-898706a8f81f",
   "metadata": {},
   "outputs": [
    {
     "name": "stdout",
     "output_type": "stream",
     "text": [
      "Generator(PCG64)\n",
      "CPU times: user 99 ms, sys: 39.6 ms, total: 139 ms\n",
      "Wall time: 139 ms\n"
     ]
    }
   ],
   "source": [
    "%%time\n",
    "rng_offset = 1\n",
    "rng = np.random.default_rng(2023+rng_offset)\n",
    "rng_offset += 1\n",
    "print(rng)\n",
    "random_idxs = rng.choice(range(999000), size=(10_000), replace=False)"
   ]
  },
  {
   "cell_type": "code",
   "execution_count": 112,
   "id": "d1cf2ef9-1919-4af0-9a66-4e21347f672a",
   "metadata": {},
   "outputs": [
    {
     "data": {
      "text/plain": [
       "(torch.Size([10000, 768]), torch.Size([10000]))"
      ]
     },
     "execution_count": 112,
     "metadata": {},
     "output_type": "execute_result"
    }
   ],
   "source": [
    "data_X_s = data_X[random_idxs]\n",
    "data_y_s = data_y[random_idxs]\n",
    "data_X_s.shape, data_y_s.shape"
   ]
  },
  {
   "cell_type": "code",
   "execution_count": 136,
   "id": "efe09d5f-2517-49d0-bb89-58b3f7d39ca7",
   "metadata": {},
   "outputs": [],
   "source": [
    "model = Model(output_dim=np.unique(data_y_s).shape[0])\n",
    "lr = 0.1\n",
    "loss = torch.nn.CrossEntropyLoss()\n",
    "optimizer = torch.optim.Adam(model.parameters(), lr=lr)\n",
    "device = get_device()"
   ]
  },
  {
   "cell_type": "code",
   "execution_count": 137,
   "id": "cc6b9796-63e8-47e6-98f9-ceace5321e44",
   "metadata": {},
   "outputs": [
    {
     "name": "stdout",
     "output_type": "stream",
     "text": [
      "Epoch 10\n",
      "Epoch 20\n",
      "Epoch 30\n",
      "Epoch 40\n",
      "Epoch 50\n",
      "Epoch 60\n",
      "Epoch 70\n",
      "Epoch 80\n",
      "Epoch 90\n",
      "CPU times: user 55.6 s, sys: 2.76 s, total: 58.3 s\n",
      "Wall time: 59.8 s\n"
     ]
    }
   ],
   "source": [
    "%time losses, model = train(data_X_s, data_y_s, model, optimizer, device, epochs=100)"
   ]
  },
  {
   "cell_type": "code",
   "execution_count": 141,
   "id": "5ba8d7d2-5088-4055-9598-ee17f1df375c",
   "metadata": {},
   "outputs": [],
   "source": [
    "def predict( model, device, data_X: torch.FloatTensor):\n",
    "    \"\"\" Collects predictions for multiple data points (used in structure building).\"\"\"\n",
    "    model = model.to(device)\n",
    "    model.eval()\n",
    "\n",
    "    all_outputs = torch.tensor([], device=device)\n",
    "    with torch.no_grad():\n",
    "        outputs = model(data_X.to(device))\n",
    "        all_outputs = torch.cat((all_outputs, outputs), 0)\n",
    "\n",
    "    _, y_pred = torch.max(all_outputs, 1)\n",
    "    return y_pred.cpu().numpy()"
   ]
  },
  {
   "cell_type": "code",
   "execution_count": 142,
   "id": "1a840121-5d96-4bfc-abb4-ed8790193a91",
   "metadata": {},
   "outputs": [],
   "source": [
    "predictions = predict(model, device, data_X_s)"
   ]
  },
  {
   "cell_type": "code",
   "execution_count": 146,
   "id": "5ecde9c7-bde4-4bec-b883-551d26ca28d0",
   "metadata": {},
   "outputs": [
    {
     "data": {
      "text/plain": [
       "tensor([515, 589, 280,  ..., 141, 934,  88])"
      ]
     },
     "execution_count": 146,
     "metadata": {},
     "output_type": "execute_result"
    }
   ],
   "source": [
    "data_y_s"
   ]
  },
  {
   "cell_type": "code",
   "execution_count": 145,
   "id": "feb68c1a-8ea6-4cbf-8670-8ac612022cf7",
   "metadata": {},
   "outputs": [
    {
     "data": {
      "text/plain": [
       "array([515, 589, 280, ..., 141, 934,  88])"
      ]
     },
     "execution_count": 145,
     "metadata": {},
     "output_type": "execute_result"
    }
   ],
   "source": [
    "predictions"
   ]
  },
  {
   "cell_type": "markdown",
   "id": "fe9045ca-7f86-474e-b552-388c2ad2078a",
   "metadata": {},
   "source": [
    "### we can let go of the training data"
   ]
  },
  {
   "cell_type": "code",
   "execution_count": 147,
   "id": "35b6d369-fb24-4c33-ba8b-ade48abbc654",
   "metadata": {},
   "outputs": [
    {
     "data": {
      "text/plain": [
       "67"
      ]
     },
     "execution_count": 147,
     "metadata": {},
     "output_type": "execute_result"
    }
   ],
   "source": [
    "del training_data\n",
    "gc.collect()"
   ]
  },
  {
   "cell_type": "code",
   "execution_count": null,
   "id": "e83a2340-5091-42bd-8fd8-9c5d28365acc",
   "metadata": {},
   "outputs": [],
   "source": [
    "# load everyting and then filter out whatever\n",
    "%time pred_data = f['emb'][:, :]"
   ]
  },
  {
   "cell_type": "code",
   "execution_count": 157,
   "id": "555b0de2-7793-43f9-9fc5-897b0849830d",
   "metadata": {},
   "outputs": [
    {
     "name": "stdout",
     "output_type": "stream",
     "text": [
      "CPU times: user 306 ms, sys: 367 ms, total: 672 ms\n",
      "Wall time: 813 ms\n"
     ]
    },
    {
     "data": {
      "text/plain": [
       "(9001000,)"
      ]
     },
     "execution_count": 157,
     "metadata": {},
     "output_type": "execute_result"
    }
   ],
   "source": [
    "%%time\n",
    "predict_indexes = np.setdiff1d(np.arange(0, 10_000_000), dists_all.flatten())\n",
    "predict_indexes.shape"
   ]
  },
  {
   "cell_type": "code",
   "execution_count": 158,
   "id": "3ae6c328-2f39-43af-96ec-7e48ed9ca62a",
   "metadata": {},
   "outputs": [
    {
     "name": "stdout",
     "output_type": "stream",
     "text": [
      "CPU times: user 102 ms, sys: 67.5 ms, total: 170 ms\n",
      "Wall time: 172 ms\n"
     ]
    },
    {
     "data": {
      "text/plain": [
       "(9001000,)"
      ]
     },
     "execution_count": 158,
     "metadata": {},
     "output_type": "execute_result"
    }
   ],
   "source": [
    "%%time\n",
    "predict_indexes = np.sort(predict_indexes)\n",
    "predict_indexes.shape"
   ]
  },
  {
   "cell_type": "code",
   "execution_count": 159,
   "id": "1dd2ed66-9994-4523-bbd4-b4b90a26a04e",
   "metadata": {},
   "outputs": [
    {
     "data": {
      "text/plain": [
       "array([0, 1, 2, 3, 4, 5, 6, 7, 8, 9])"
      ]
     },
     "execution_count": 159,
     "metadata": {},
     "output_type": "execute_result"
    }
   ],
   "source": [
    "predict_indexes[:10]"
   ]
  },
  {
   "cell_type": "code",
   "execution_count": null,
   "id": "b5d00637-3d3d-423c-84e9-0e06651528d1",
   "metadata": {},
   "outputs": [],
   "source": [
    "%%time\n",
    "loaded_pred_data = f['emb'][predict_indexes, :]\n",
    "loaded_pred_data.shape"
   ]
  },
  {
   "cell_type": "code",
   "execution_count": null,
   "id": "ddff82b1-7ad0-4f14-afce-3d0fb8fb3645",
   "metadata": {},
   "outputs": [],
   "source": [
    "loaded_pred_data[:10]"
   ]
  },
  {
   "cell_type": "code",
   "execution_count": 155,
   "id": "2e892d01-4999-4614-b803-8fd549c89ef2",
   "metadata": {},
   "outputs": [
    {
     "ename": "ValueError",
     "evalue": "maximum supported dimension for an ndarray is 32, found 1000",
     "output_type": "error",
     "traceback": [
      "\u001b[0;31m---------------------------------------------------------------------------\u001b[0m",
      "\u001b[0;31mValueError\u001b[0m                                Traceback (most recent call last)",
      "\u001b[0;32m<ipython-input-155-f6d1fa8d2aa5>\u001b[0m in \u001b[0;36m<module>\u001b[0;34m\u001b[0m\n\u001b[0;32m----> 1\u001b[0;31m \u001b[0mdists_all\u001b[0m\u001b[0;34m.\u001b[0m\u001b[0mreshape\u001b[0m\u001b[0;34m(\u001b[0m\u001b[0;34m(\u001b[0m\u001b[0mdists_all\u001b[0m\u001b[0;34m[\u001b[0m\u001b[0;36m0\u001b[0m\u001b[0;34m]\u001b[0m\u001b[0;34m*\u001b[0m\u001b[0mdists_all\u001b[0m\u001b[0;34m[\u001b[0m\u001b[0;36m1\u001b[0m\u001b[0;34m]\u001b[0m\u001b[0;34m)\u001b[0m\u001b[0;34m)\u001b[0m\u001b[0;31m#.shape\u001b[0m\u001b[0;34m\u001b[0m\u001b[0m\n\u001b[0m",
      "\u001b[0;31mValueError\u001b[0m: maximum supported dimension for an ndarray is 32, found 1000"
     ]
    }
   ],
   "source": [
    "dists_all.reshape((dists_all[0]*dists_all[1]))#.shape"
   ]
  },
  {
   "cell_type": "code",
   "execution_count": null,
   "id": "84ccc26f-46da-4f66-b5dc-c40d4db7fdd4",
   "metadata": {},
   "outputs": [],
   "source": [
    "    def predict(self, data_X: torch.FloatTensor):\n",
    "        \"\"\" Collects predictions for multiple data points (used in structure building).\"\"\"\n",
    "        self.model = self.model.to(self.device)\n",
    "        self.model.eval()\n",
    "\n",
    "        all_outputs = torch.tensor([], device=self.device)\n",
    "        with torch.no_grad():\n",
    "            outputs = self.model(data_X.to(self.device))\n",
    "            all_outputs = torch.cat((all_outputs, outputs), 0)\n",
    "\n",
    "        _, y_pred = torch.max(all_outputs, 1)\n",
    "        return np.array([self.model.output_neurons[label] for label in y_pred.cpu().numpy()])\n",
    "\n",
    "    def predict_single(self, data_X: torch.FloatTensor):\n",
    "        \"\"\" Collects predictions for a single data point (used in query predictions).\"\"\"\n",
    "        self.model = self.model.to(self.device)\n",
    "        self.model.eval()\n",
    "\n",
    "        with torch.no_grad():\n",
    "            outputs = self.model(data_X.to(self.device))\n",
    "\n",
    "        prob = nnf.softmax(outputs, dim=0)\n",
    "        top_prob, top_class = prob.topk(self.model.n_output_neurons, dim=0)\n",
    "        top_prob = top_prob.cpu().numpy()\n",
    "        return top_prob, np.array([self.model.output_neurons[label] for label in top_class.cpu().numpy()])\n"
   ]
  }
 ],
 "metadata": {
  "kernelspec": {
   "display_name": "Python 3",
   "language": "python",
   "name": "python3"
  },
  "language_info": {
   "codemirror_mode": {
    "name": "ipython",
    "version": 3
   },
   "file_extension": ".py",
   "mimetype": "text/x-python",
   "name": "python",
   "nbconvert_exporter": "python",
   "pygments_lexer": "ipython3",
   "version": "3.6.2"
  }
 },
 "nbformat": 4,
 "nbformat_minor": 5
}
