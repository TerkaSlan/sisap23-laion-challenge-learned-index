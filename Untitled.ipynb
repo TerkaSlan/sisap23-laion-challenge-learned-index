{
 "cells": [
  {
   "cell_type": "code",
   "execution_count": 1,
   "id": "bd86dd1b-68d4-418b-ba69-53cf52f473ae",
   "metadata": {},
   "outputs": [],
   "source": [
    "%reload_ext autoreload\n",
    "%autoreload 2"
   ]
  },
  {
   "cell_type": "code",
   "execution_count": 6,
   "id": "e5bb6049-2679-49c7-89b6-23c005e6461f",
   "metadata": {},
   "outputs": [],
   "source": [
    "import argparse\n",
    "import h5py\n",
    "import numpy as np\n",
    "import os\n",
    "from pathlib import Path\n",
    "from urllib.request import urlretrieve\n",
    "import logging\n",
    "from li.Baseline import Baseline\n"
   ]
  },
  {
   "cell_type": "code",
   "execution_count": 2,
   "id": "a5a06dcf-0ea6-4389-b0e8-93f24684db91",
   "metadata": {},
   "outputs": [],
   "source": [
    "import h5py\n",
    "import pandas as pd\n",
    "data_path = 'data/clip768v2/10M/dataset.h5'"
   ]
  },
  {
   "cell_type": "code",
   "execution_count": 3,
   "id": "94d602ed-ce49-47f5-b260-011a3dac450a",
   "metadata": {},
   "outputs": [
    {
     "name": "stdout",
     "output_type": "stream",
     "text": [
      "CPU times: user 1.19 ms, sys: 249 µs, total: 1.44 ms\n",
      "Wall time: 44.5 ms\n"
     ]
    },
    {
     "data": {
      "text/plain": [
       "['pca32']"
      ]
     },
     "execution_count": 3,
     "metadata": {},
     "output_type": "execute_result"
    }
   ],
   "source": [
    "%time f2 = h5py.File('data/pca32v2/10M/query.h5', 'r')\n",
    "[k for k in f2.keys()]"
   ]
  },
  {
   "cell_type": "code",
   "execution_count": 4,
   "id": "92dcc773-449e-4371-aa8b-eac84edee7c8",
   "metadata": {},
   "outputs": [],
   "source": [
    "kind = \"clip768v2\"\n",
    "key = \"emb\"\n",
    "size='10M'"
   ]
  },
  {
   "cell_type": "code",
   "execution_count": 7,
   "id": "da7f948f-2391-41ea-b6e4-ce6d0ad4f6cd",
   "metadata": {},
   "outputs": [
    {
     "ename": "NameError",
     "evalue": "name 'LOG' is not defined",
     "output_type": "error",
     "traceback": [
      "\u001b[0;31m---------------------------------------------------------------------------\u001b[0m",
      "\u001b[0;31mNameError\u001b[0m                                 Traceback (most recent call last)",
      "\u001b[0;32m<ipython-input-7-98b58237ad8b>\u001b[0m in \u001b[0;36m<module>\u001b[0;34m\u001b[0m\n\u001b[1;32m      2\u001b[0m \u001b[0mqueries\u001b[0m \u001b[0;34m=\u001b[0m \u001b[0mnp\u001b[0m\u001b[0;34m.\u001b[0m\u001b[0marray\u001b[0m\u001b[0;34m(\u001b[0m\u001b[0mh5py\u001b[0m\u001b[0;34m.\u001b[0m\u001b[0mFile\u001b[0m\u001b[0;34m(\u001b[0m\u001b[0mos\u001b[0m\u001b[0;34m.\u001b[0m\u001b[0mpath\u001b[0m\u001b[0;34m.\u001b[0m\u001b[0mjoin\u001b[0m\u001b[0;34m(\u001b[0m\u001b[0;34m\"data\"\u001b[0m\u001b[0;34m,\u001b[0m \u001b[0mkind\u001b[0m\u001b[0;34m,\u001b[0m \u001b[0msize\u001b[0m\u001b[0;34m,\u001b[0m \u001b[0;34m\"query.h5\"\u001b[0m\u001b[0;34m)\u001b[0m\u001b[0;34m,\u001b[0m \u001b[0;34m\"r\"\u001b[0m\u001b[0;34m)\u001b[0m\u001b[0;34m[\u001b[0m\u001b[0mkey\u001b[0m\u001b[0;34m]\u001b[0m\u001b[0;34m)\u001b[0m\u001b[0;34m\u001b[0m\u001b[0m\n\u001b[1;32m      3\u001b[0m \u001b[0mn\u001b[0m\u001b[0;34m,\u001b[0m \u001b[0md\u001b[0m \u001b[0;34m=\u001b[0m \u001b[0mdata\u001b[0m\u001b[0;34m.\u001b[0m\u001b[0mshape\u001b[0m\u001b[0;34m\u001b[0m\u001b[0m\n\u001b[0;32m----> 4\u001b[0;31m \u001b[0mLOG\u001b[0m\u001b[0;34m.\u001b[0m\u001b[0minfo\u001b[0m\u001b[0;34m(\u001b[0m\u001b[0;34mf'Loading downloaded data, shape: n={n}, d={d}'\u001b[0m\u001b[0;34m)\u001b[0m\u001b[0;34m\u001b[0m\u001b[0m\n\u001b[0m\u001b[1;32m      5\u001b[0m \u001b[0mLOG\u001b[0m\u001b[0;34m.\u001b[0m\u001b[0minfo\u001b[0m\u001b[0;34m(\u001b[0m\u001b[0;34mf'Loading downloaded queries, shape: queries={queries.shape}'\u001b[0m\u001b[0;34m)\u001b[0m\u001b[0;34m\u001b[0m\u001b[0m\n",
      "\u001b[0;31mNameError\u001b[0m: name 'LOG' is not defined"
     ]
    }
   ],
   "source": [
    "data = np.array(h5py.File(os.path.join(\"data\", kind, size, \"dataset.h5\"), \"r\")[key])\n",
    "queries = np.array(h5py.File(os.path.join(\"data\", kind, size, \"query.h5\"), \"r\")[key])\n",
    "n, d = data.shape\n",
    "LOG.info(f'Loading downloaded data, shape: n={n}, d={d}')\n",
    "LOG.info(f'Loading downloaded queries, shape: queries={queries.shape}')\n"
   ]
  },
  {
   "cell_type": "code",
   "execution_count": 10,
   "id": "58516811-7be7-470e-a7f8-0812e847af7a",
   "metadata": {},
   "outputs": [],
   "source": [
    "model_path = \"./models/pca32v2-10M-ep=5-lr=0.025-cat=47-model=MLP-7-prep=True-16686577.meta-pbs.metacentrum.cz.pkl\""
   ]
  },
  {
   "cell_type": "code",
   "execution_count": 11,
   "id": "b7d23c8a-614e-483e-9610-6fbb80f43e1d",
   "metadata": {},
   "outputs": [],
   "source": [
    "import pickle\n",
    "with open(model_path, 'rb') as f:\n",
    "    model = pickle.load(f)"
   ]
  },
  {
   "cell_type": "code",
   "execution_count": 12,
   "id": "c75299d3-5190-4055-be0b-ec2d5d38f6a9",
   "metadata": {},
   "outputs": [
    {
     "data": {
      "text/plain": [
       "<li.LearnedIndex.LearnedIndex at 0x153a679df278>"
      ]
     },
     "execution_count": 12,
     "metadata": {},
     "output_type": "execute_result"
    }
   ],
   "source": [
    "model"
   ]
  },
  {
   "cell_type": "code",
   "execution_count": 14,
   "id": "d4a89366-72f4-4159-9388-9b892f07c12a",
   "metadata": {},
   "outputs": [],
   "source": [
    "queries_nav = np.array(h5py.File(os.path.join(\"data\", \"pca32v2\", \"10M\", \"query.h5\"), \"r\")[\"pca32\"])\n"
   ]
  },
  {
   "cell_type": "code",
   "execution_count": 15,
   "id": "62d6151d-c07d-48e2-bd22-b504bcb9cfce",
   "metadata": {},
   "outputs": [],
   "source": [
    "from li.model import data_X_to_torch"
   ]
  },
  {
   "cell_type": "code",
   "execution_count": 17,
   "id": "dff114f8-eda5-4e5e-9e28-6b839c0833a9",
   "metadata": {},
   "outputs": [
    {
     "data": {
      "text/plain": [
       "<li.LearnedIndex.LearnedIndex at 0x153a679df278>"
      ]
     },
     "execution_count": 17,
     "metadata": {},
     "output_type": "execute_result"
    }
   ],
   "source": [
    "model"
   ]
  },
  {
   "cell_type": "code",
   "execution_count": 18,
   "id": "7a5a1f5f-27e8-47db-992f-177b55be8f3f",
   "metadata": {},
   "outputs": [
    {
     "name": "stdout",
     "output_type": "stream",
     "text": [
      "CPU times: user 29.3 ms, sys: 14.6 ms, total: 43.9 ms\n",
      "Wall time: 60.6 ms\n"
     ]
    }
   ],
   "source": [
    "%%time\n",
    "_, pred_proba_categories = model.model.predict_proba(\n",
    "    data_X_to_torch(queries_nav)\n",
    ")"
   ]
  },
  {
   "cell_type": "code",
   "execution_count": 19,
   "id": "28c39633-1150-4198-9bd9-d5c46143dea6",
   "metadata": {},
   "outputs": [
    {
     "data": {
      "text/plain": [
       "(10000, 47)"
      ]
     },
     "execution_count": 19,
     "metadata": {},
     "output_type": "execute_result"
    }
   ],
   "source": [
    "pred_proba_categories.shape"
   ]
  },
  {
   "cell_type": "code",
   "execution_count": 20,
   "id": "de02b264-8b4b-4b6f-991a-2357d55a6151",
   "metadata": {},
   "outputs": [
    {
     "data": {
      "text/plain": [
       "0.0061"
      ]
     },
     "execution_count": 20,
     "metadata": {},
     "output_type": "execute_result"
    }
   ],
   "source": [
    "61 / 10_000"
   ]
  },
  {
   "cell_type": "code",
   "execution_count": null,
   "id": "b9b1e2a3-d836-4461-a657-fd18588a3119",
   "metadata": {},
   "outputs": [],
   "source": [
    "120"
   ]
  },
  {
   "cell_type": "code",
   "execution_count": 21,
   "id": "6dc1bb77-c45a-476b-b660-b746b888f5ac",
   "metadata": {},
   "outputs": [],
   "source": [
    "data_navigation = np.array(h5py.File(os.path.join(\"data\", \"pca32v2\", \"10M\", \"dataset.h5\"), \"r\")[\"pca32\"])\n"
   ]
  },
  {
   "cell_type": "code",
   "execution_count": 23,
   "id": "310b2c69-f685-4855-98cf-c9310631f34b",
   "metadata": {},
   "outputs": [
    {
     "ename": "AttributeError",
     "evalue": "'numpy.ndarray' object has no attribute 'to'",
     "output_type": "error",
     "traceback": [
      "\u001b[0;31m---------------------------------------------------------------------------\u001b[0m",
      "\u001b[0;31mAttributeError\u001b[0m                            Traceback (most recent call last)",
      "\u001b[0;32m<ipython-input-23-734dd4121ccc>\u001b[0m in \u001b[0;36m<module>\u001b[0;34m\u001b[0m\n\u001b[0;32m----> 1\u001b[0;31m \u001b[0mdata_navigation\u001b[0m\u001b[0;34m[\u001b[0m\u001b[0;34m'category'\u001b[0m\u001b[0;34m]\u001b[0m \u001b[0;34m=\u001b[0m \u001b[0mmodel\u001b[0m\u001b[0;34m.\u001b[0m\u001b[0mmodel\u001b[0m\u001b[0;34m.\u001b[0m\u001b[0mpredict\u001b[0m\u001b[0;34m(\u001b[0m\u001b[0mdata_navigation\u001b[0m\u001b[0;34m)\u001b[0m\u001b[0;34m\u001b[0m\u001b[0m\n\u001b[0m",
      "\u001b[0;32m/auto/brno12-cerit/nfs4/home/tslaninakova/sisap-challenge/repo/search/li/model.py\u001b[0m in \u001b[0;36mpredict\u001b[0;34m(self, data_X)\u001b[0m\n\u001b[1;32m    172\u001b[0m         \u001b[0mall_outputs\u001b[0m \u001b[0;34m=\u001b[0m \u001b[0mtorch\u001b[0m\u001b[0;34m.\u001b[0m\u001b[0mtensor\u001b[0m\u001b[0;34m(\u001b[0m\u001b[0;34m[\u001b[0m\u001b[0;34m]\u001b[0m\u001b[0;34m,\u001b[0m \u001b[0mdevice\u001b[0m\u001b[0;34m=\u001b[0m\u001b[0mself\u001b[0m\u001b[0;34m.\u001b[0m\u001b[0mdevice\u001b[0m\u001b[0;34m)\u001b[0m\u001b[0;34m\u001b[0m\u001b[0m\n\u001b[1;32m    173\u001b[0m         \u001b[0;32mwith\u001b[0m \u001b[0mtorch\u001b[0m\u001b[0;34m.\u001b[0m\u001b[0mno_grad\u001b[0m\u001b[0;34m(\u001b[0m\u001b[0;34m)\u001b[0m\u001b[0;34m:\u001b[0m\u001b[0;34m\u001b[0m\u001b[0m\n\u001b[0;32m--> 174\u001b[0;31m             \u001b[0moutputs\u001b[0m \u001b[0;34m=\u001b[0m \u001b[0mself\u001b[0m\u001b[0;34m.\u001b[0m\u001b[0mmodel\u001b[0m\u001b[0;34m(\u001b[0m\u001b[0mdata_X\u001b[0m\u001b[0;34m.\u001b[0m\u001b[0mto\u001b[0m\u001b[0;34m(\u001b[0m\u001b[0mself\u001b[0m\u001b[0;34m.\u001b[0m\u001b[0mdevice\u001b[0m\u001b[0;34m)\u001b[0m\u001b[0;34m)\u001b[0m\u001b[0;34m\u001b[0m\u001b[0m\n\u001b[0m\u001b[1;32m    175\u001b[0m             \u001b[0mall_outputs\u001b[0m \u001b[0;34m=\u001b[0m \u001b[0mtorch\u001b[0m\u001b[0;34m.\u001b[0m\u001b[0mcat\u001b[0m\u001b[0;34m(\u001b[0m\u001b[0;34m(\u001b[0m\u001b[0mall_outputs\u001b[0m\u001b[0;34m,\u001b[0m \u001b[0moutputs\u001b[0m\u001b[0;34m)\u001b[0m\u001b[0;34m,\u001b[0m \u001b[0;36m0\u001b[0m\u001b[0;34m)\u001b[0m\u001b[0;34m\u001b[0m\u001b[0m\n\u001b[1;32m    176\u001b[0m \u001b[0;34m\u001b[0m\u001b[0m\n",
      "\u001b[0;31mAttributeError\u001b[0m: 'numpy.ndarray' object has no attribute 'to'"
     ]
    }
   ],
   "source": [
    "data_navigation['category'] = model.model.predict(data_navigation)"
   ]
  },
  {
   "cell_type": "code",
   "execution_count": null,
   "id": "83f3fdba-463b-47e4-ad35-ae09a9676636",
   "metadata": {},
   "outputs": [],
   "source": [
    "%%time\n",
    "bucket = 0\n",
    "dists, anns = model.search_single(\n",
    "    data_navigation,\n",
    "    data,\n",
    "    queries,\n",
    "    pred_proba_categories[:, bucket]\n",
    ")"
   ]
  },
  {
   "cell_type": "code",
   "execution_count": null,
   "id": "a3297397-e237-4e3a-b9a8-eae2f310f41a",
   "metadata": {},
   "outputs": [],
   "source": []
  }
 ],
 "metadata": {
  "kernelspec": {
   "display_name": "Python 3",
   "language": "python",
   "name": "python3"
  },
  "language_info": {
   "codemirror_mode": {
    "name": "ipython",
    "version": 3
   },
   "file_extension": ".py",
   "mimetype": "text/x-python",
   "name": "python",
   "nbconvert_exporter": "python",
   "pygments_lexer": "ipython3",
   "version": "3.6.2"
  }
 },
 "nbformat": 4,
 "nbformat_minor": 5
}
