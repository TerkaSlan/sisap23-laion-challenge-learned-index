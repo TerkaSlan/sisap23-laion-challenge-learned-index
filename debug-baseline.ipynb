{
 "cells": [
  {
   "cell_type": "code",
   "execution_count": 2,
   "id": "3f9fea59-4815-474b-a1b3-2a66327b88f8",
   "metadata": {},
   "outputs": [],
   "source": [
    "%reload_ext autoreload\n",
    "%autoreload 2"
   ]
  },
  {
   "cell_type": "code",
   "execution_count": 3,
   "id": "5b1d1a45-d3de-44e7-8fe4-1fa89786ab5f",
   "metadata": {},
   "outputs": [],
   "source": [
    "import argparse\n",
    "import h5py\n",
    "import numpy as np\n",
    "import os\n",
    "from pathlib import Path\n",
    "from urllib.request import urlretrieve\n",
    "import logging\n",
    "from li.Baseline import Baseline\n"
   ]
  },
  {
   "cell_type": "code",
   "execution_count": 4,
   "id": "4fd498b6-8e54-4cb1-b2d7-91e034ff6bb6",
   "metadata": {},
   "outputs": [],
   "source": [
    "logging.basicConfig(\n",
    "    level=logging.INFO,\n",
    "    format='[%(asctime)s][%(levelname)-5.5s][%(name)-.20s] %(message)s'\n",
    ")\n",
    "LOG = logging.getLogger(__name__)"
   ]
  },
  {
   "cell_type": "code",
   "execution_count": 5,
   "id": "080f8d64-1826-4744-8df5-f0bc55842d05",
   "metadata": {},
   "outputs": [],
   "source": [
    "kind = \"clip768v2\"\n",
    "key = \"emb\"\n",
    "size='100K'"
   ]
  },
  {
   "cell_type": "code",
   "execution_count": 6,
   "id": "1f5236c7-a23d-43f3-85d0-27f81c9c939e",
   "metadata": {},
   "outputs": [
    {
     "name": "stderr",
     "output_type": "stream",
     "text": [
      "[2023-06-20 16:41:52,341][INFO ][__main__] Loading downloaded data, shape: n=100000, d=768\n",
      "[2023-06-20 16:41:52,349][INFO ][__main__] Loading downloaded queries, shape: queries=(10000, 768)\n"
     ]
    }
   ],
   "source": [
    "data = np.array(h5py.File(os.path.join(\"data\", kind, size, \"dataset.h5\"), \"r\")[key])\n",
    "queries = np.array(h5py.File(os.path.join(\"data\", kind, size, \"query.h5\"), \"r\")[key])\n",
    "n, d = data.shape\n",
    "LOG.info(f'Loading downloaded data, shape: n={n}, d={d}')\n",
    "LOG.info(f'Loading downloaded queries, shape: queries={queries.shape}')\n"
   ]
  },
  {
   "cell_type": "code",
   "execution_count": 7,
   "id": "9ccd6a44-cc57-47e6-b399-787d17488817",
   "metadata": {},
   "outputs": [
    {
     "name": "stderr",
     "output_type": "stream",
     "text": [
      "[2023-06-20 16:41:54,661][INFO ][li.Baseline.Baseline] No build method implemented for baseline.\n"
     ]
    }
   ],
   "source": [
    "baseline = Baseline()\n",
    "build_t = baseline.build(data)"
   ]
  },
  {
   "cell_type": "code",
   "execution_count": 7,
   "id": "0212867c-a67f-44fa-be27-a0b0771bb3b0",
   "metadata": {},
   "outputs": [
    {
     "data": {
      "text/plain": [
       "array([[ 0.00230957,  0.02555594, -0.02645612, ...,  0.00753328,\n",
       "        -0.03265058, -0.02793607],\n",
       "       [-0.00378157,  0.01177591,  0.01089825, ...,  0.05198799,\n",
       "        -0.00759748, -0.01337096]], dtype=float32)"
      ]
     },
     "execution_count": 7,
     "metadata": {},
     "output_type": "execute_result"
    }
   ],
   "source": [
    "queries[-2:]"
   ]
  },
  {
   "cell_type": "code",
   "execution_count": 8,
   "id": "b89467dc-8b54-4315-ad2c-09186d79e50c",
   "metadata": {},
   "outputs": [],
   "source": [
    "anns = baseline.search(\n",
    "    queries=queries[-2:],\n",
    "    data=data,\n",
    "    k=10\n",
    ")"
   ]
  },
  {
   "cell_type": "code",
   "execution_count": 9,
   "id": "daf96a82-41d8-41bb-b73a-cb3022227351",
   "metadata": {},
   "outputs": [
    {
     "data": {
      "text/plain": [
       "(100000, 2)"
      ]
     },
     "execution_count": 9,
     "metadata": {},
     "output_type": "execute_result"
    }
   ],
   "source": [
    "anns.shape"
   ]
  },
  {
   "cell_type": "code",
   "execution_count": 17,
   "id": "a2652906-525f-49be-b214-f763f56e90c9",
   "metadata": {},
   "outputs": [
    {
     "data": {
      "text/plain": [
       "array([[14313, 98071, 34615, 94650, 84991, 10239, 61708, 72572, 53644,\n",
       "        60539],\n",
       "       [24525,  3924, 25172, 54312, 84036,  5361, 46778,  2453, 17209,\n",
       "         8939]])"
      ]
     },
     "execution_count": 17,
     "metadata": {},
     "output_type": "execute_result"
    }
   ],
   "source": [
    "anns.T.argsort()[:, :10] + 1"
   ]
  },
  {
   "cell_type": "code",
   "execution_count": null,
   "id": "d8113af3-800c-454c-b999-e5b42138c4ea",
   "metadata": {},
   "outputs": [],
   "source": []
  },
  {
   "cell_type": "code",
   "execution_count": null,
   "id": "62a580a0-db0f-41f3-84b2-e7f60efd0109",
   "metadata": {},
   "outputs": [],
   "source": [
    "np.sort(anns.T)[:10]"
   ]
  },
  {
   "cell_type": "code",
   "execution_count": null,
   "id": "d7bd409f-0dcf-4eb7-9716-37b9e0726a94",
   "metadata": {},
   "outputs": [],
   "source": [
    "anns"
   ]
  },
  {
   "cell_type": "code",
   "execution_count": null,
   "id": "f4d28a25-ebfa-458f-9c53-18a086df1f9f",
   "metadata": {},
   "outputs": [],
   "source": [
    "anns.T[0].argsort()[:10] + 1"
   ]
  },
  {
   "cell_type": "code",
   "execution_count": 10,
   "id": "9a084e23-9a86-4649-a973-6905becf177d",
   "metadata": {},
   "outputs": [],
   "source": [
    "dists, nns, search_t = baseline.search(\n",
    "    queries=[queries[-1]],\n",
    "    data=data,\n",
    "    k=10\n",
    ")"
   ]
  },
  {
   "cell_type": "code",
   "execution_count": 13,
   "id": "d42279cd-0be7-4d07-a8b6-8fcd55d21a89",
   "metadata": {},
   "outputs": [
    {
     "data": {
      "text/plain": [
       "array([0.46867185, 0.47175399, 0.51835131, 0.51201455, 0.81979954,\n",
       "       0.43311339, 0.54255027, 0.48171878, 0.56568344, 0.69538609])"
      ]
     },
     "execution_count": 13,
     "metadata": {},
     "output_type": "execute_result"
    }
   ],
   "source": [
    "dists[0]"
   ]
  },
  {
   "cell_type": "code",
   "execution_count": 11,
   "id": "b6fead3c-f555-453b-836c-c90a4f516bce",
   "metadata": {},
   "outputs": [
    {
     "data": {
      "text/plain": [
       "(array([[0.46867185, 0.47175399, 0.51835131, 0.51201455, 0.81979954,\n",
       "         0.43311339, 0.54255027, 0.48171878, 0.56568344, 0.69538609]]),\n",
       " array([[1, 1, 1, 1, 1, 1, 1, 1, 1, 1]]))"
      ]
     },
     "execution_count": 11,
     "metadata": {},
     "output_type": "execute_result"
    }
   ],
   "source": [
    "dists, nns"
   ]
  }
 ],
 "metadata": {
  "kernelspec": {
   "display_name": "Python 3",
   "language": "python",
   "name": "python3"
  },
  "language_info": {
   "codemirror_mode": {
    "name": "ipython",
    "version": 3
   },
   "file_extension": ".py",
   "mimetype": "text/x-python",
   "name": "python",
   "nbconvert_exporter": "python",
   "pygments_lexer": "ipython3",
   "version": "3.6.2"
  }
 },
 "nbformat": 4,
 "nbformat_minor": 5
}
