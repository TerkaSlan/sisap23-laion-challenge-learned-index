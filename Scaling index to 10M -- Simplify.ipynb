{
 "cells": [
  {
   "cell_type": "code",
   "execution_count": 1,
   "id": "f2cdb38d-1cd3-4dcc-8a60-2ec8e6f05ace",
   "metadata": {},
   "outputs": [],
   "source": [
    "%reload_ext autoreload\n",
    "%autoreload 2"
   ]
  },
  {
   "cell_type": "code",
   "execution_count": 2,
   "id": "eea08abe-1263-427e-a3b7-b42adf1d5599",
   "metadata": {},
   "outputs": [
    {
     "name": "stdout",
     "output_type": "stream",
     "text": [
      "CPU times: user 28 µs, sys: 3.54 ms, total: 3.57 ms\n",
      "Wall time: 62.2 ms\n"
     ]
    }
   ],
   "source": [
    "import h5py\n",
    "base_path = '/storage/brno12-cerit/home/tslaninakova/sisap-challenge/data/pca32v2/100K'\n",
    "data_path = f'{base_path}/dataset.h5'\n",
    "%time f = h5py.File(data_path, 'r')"
   ]
  },
  {
   "cell_type": "code",
   "execution_count": 3,
   "id": "170d527d-dd1b-4716-9454-0829de3292cc",
   "metadata": {},
   "outputs": [
    {
     "data": {
      "text/plain": [
       "100000"
      ]
     },
     "execution_count": 3,
     "metadata": {},
     "output_type": "execute_result"
    }
   ],
   "source": [
    "len(f['pca32'])"
   ]
  },
  {
   "cell_type": "code",
   "execution_count": 4,
   "id": "349053c1-d67b-4aec-8582-01ac2d90ed45",
   "metadata": {},
   "outputs": [
    {
     "name": "stdout",
     "output_type": "stream",
     "text": [
      "CPU times: user 0 ns, sys: 10.8 ms, total: 10.8 ms\n",
      "Wall time: 375 ms\n"
     ]
    }
   ],
   "source": [
    "%time loaded_data = f['pca32'][:, :]"
   ]
  },
  {
   "cell_type": "markdown",
   "id": "313af20e-7ac3-4002-afc9-9b72773b5652",
   "metadata": {},
   "source": [
    "## Goal:\n",
    "- the laziest (yet working) implementation possible, piggybacking on dynamiclmi"
   ]
  },
  {
   "cell_type": "code",
   "execution_count": 5,
   "id": "1ff9d9ee-6bee-4c9a-98e7-837a1269a463",
   "metadata": {},
   "outputs": [],
   "source": [
    "## Split using kmedoids"
   ]
  },
  {
   "cell_type": "code",
   "execution_count": 6,
   "id": "94cb0be7-d7c5-4fd9-a119-e9e5b527d5c5",
   "metadata": {},
   "outputs": [],
   "source": [
    "from li.BulkLMI import BulkLMI\n",
    "import pandas as pd"
   ]
  },
  {
   "cell_type": "code",
   "execution_count": 7,
   "id": "de229eaa-ebf5-4fdc-8f7e-078ae0d0b67e",
   "metadata": {},
   "outputs": [
    {
     "name": "stdout",
     "output_type": "stream",
     "text": [
      "CPU times: user 23.9 ms, sys: 3.98 ms, total: 27.9 ms\n",
      "Wall time: 28 ms\n"
     ]
    }
   ],
   "source": [
    "blmi = BulkLMI()\n",
    "data = pd.DataFrame(loaded_data)\n",
    "data.index += 1\n",
    "%time blmi.insert(data)"
   ]
  },
  {
   "cell_type": "code",
   "execution_count": 8,
   "id": "6a739fdd-bf58-44e6-92e5-f28dd851e03f",
   "metadata": {},
   "outputs": [
    {
     "data": {
      "text/html": [
       "<div>\n",
       "<style scoped>\n",
       "    .dataframe tbody tr th:only-of-type {\n",
       "        vertical-align: middle;\n",
       "    }\n",
       "\n",
       "    .dataframe tbody tr th {\n",
       "        vertical-align: top;\n",
       "    }\n",
       "\n",
       "    .dataframe thead th {\n",
       "        text-align: right;\n",
       "    }\n",
       "</style>\n",
       "<table border=\"1\" class=\"dataframe\">\n",
       "  <thead>\n",
       "    <tr style=\"text-align: right;\">\n",
       "      <th></th>\n",
       "      <th>type</th>\n",
       "      <th>children</th>\n",
       "    </tr>\n",
       "    <tr>\n",
       "      <th>key</th>\n",
       "      <th></th>\n",
       "      <th></th>\n",
       "    </tr>\n",
       "  </thead>\n",
       "  <tbody>\n",
       "    <tr>\n",
       "      <th>(0,)</th>\n",
       "      <td>LeafNode</td>\n",
       "      <td>100000</td>\n",
       "    </tr>\n",
       "  </tbody>\n",
       "</table>\n",
       "</div>"
      ],
      "text/plain": [
       "          type children\n",
       "key                    \n",
       "(0,)  LeafNode   100000"
      ]
     },
     "execution_count": 8,
     "metadata": {},
     "output_type": "execute_result"
    }
   ],
   "source": [
    "blmi.dump_structure()"
   ]
  },
  {
   "cell_type": "code",
   "execution_count": 9,
   "id": "54814be1-fcf9-4e77-994f-970ffc340b84",
   "metadata": {},
   "outputs": [],
   "source": [
    "import logging"
   ]
  },
  {
   "cell_type": "code",
   "execution_count": 10,
   "id": "cac70d14-6fbc-43ca-af2a-55ffd45da69a",
   "metadata": {},
   "outputs": [],
   "source": [
    "logging.basicConfig(\n",
    "    level=logging.INFO,\n",
    "    format='[%(asctime)s][%(levelname)-5.5s][%(name)-.20s] %(message)s'\n",
    ")\n",
    "LOG = logging.getLogger(__name__)\n"
   ]
  },
  {
   "cell_type": "code",
   "execution_count": 11,
   "id": "c8a87ef9-e23d-49f4-ace8-4211a3af4cc0",
   "metadata": {},
   "outputs": [
    {
     "name": "stderr",
     "output_type": "stream",
     "text": [
      "[2023-06-30 16:00:34,430][INFO ][numexpr.utils] Note: detected 128 virtual cores but NumExpr set to maximum of 64, check \"NUMEXPR_MAX_THREADS\" environment variable.\n",
      "[2023-06-30 16:00:34,432][INFO ][numexpr.utils] Note: NumExpr detected 128 cores but \"NUMEXPR_MAX_THREADS\" not set, so enforcing safe limit of 8.\n",
      "[2023-06-30 16:00:34,457][INFO ][li.BulkLMI.BulkLMI] Epochs: 1000, step: 100\n",
      "[2023-06-30 16:00:34,834][INFO ][li.BulkLMI.BulkLMI] Epoch 100 | Loss 0.0006194201996549964\n",
      "[2023-06-30 16:00:35,154][INFO ][li.BulkLMI.BulkLMI] Epoch 200 | Loss 0.0002714135334827006\n",
      "[2023-06-30 16:00:35,476][INFO ][li.BulkLMI.BulkLMI] Epoch 300 | Loss 0.0001527736458228901\n",
      "[2023-06-30 16:00:35,726][INFO ][li.BulkLMI.BulkLMI] Epoch 400 | Loss 9.82462297542952e-05\n",
      "[2023-06-30 16:00:35,951][INFO ][li.BulkLMI.BulkLMI] Epoch 500 | Loss 6.800670234952122e-05\n",
      "[2023-06-30 16:00:36,183][INFO ][li.BulkLMI.BulkLMI] Epoch 600 | Loss 4.9997601308859885e-05\n",
      "[2023-06-30 16:00:36,406][INFO ][li.BulkLMI.BulkLMI] Epoch 700 | Loss 3.8330173993017524e-05\n",
      "[2023-06-30 16:00:36,629][INFO ][li.BulkLMI.BulkLMI] Epoch 800 | Loss 3.0381623219000176e-05\n",
      "[2023-06-30 16:00:36,863][INFO ][li.BulkLMI.BulkLMI] Epoch 900 | Loss 2.46977051574504e-05\n"
     ]
    },
    {
     "name": "stdout",
     "output_type": "stream",
     "text": [
      "CPU times: user 14.2 s, sys: 1.49 s, total: 15.7 s\n",
      "Wall time: 16.5 s\n"
     ]
    }
   ],
   "source": [
    "info_df = pd.DataFrame([], columns=['op', 'time-taken', 'size', '#-objects'])\n",
    "%time info_df = blmi.deepen(blmi.nodes[(0, )], 10, info_df)"
   ]
  },
  {
   "cell_type": "code",
   "execution_count": 12,
   "id": "1cbd62f9-3967-4241-ab9a-169070006842",
   "metadata": {},
   "outputs": [
    {
     "name": "stdout",
     "output_type": "stream",
     "text": [
      "CPU times: user 4.64 ms, sys: 76 µs, total: 4.72 ms\n",
      "Wall time: 107 ms\n"
     ]
    }
   ],
   "source": [
    "%%time\n",
    "queries_path = f'{base_path}/query.h5'\n",
    "f2 = h5py.File(queries_path, 'r')\n",
    "loaded_queries = f2['pca32'][:, :]"
   ]
  },
  {
   "cell_type": "markdown",
   "id": "b78552f8-50e3-472a-96ec-22856082ade4",
   "metadata": {},
   "source": [
    "## Check that the model has high confidence in one bucket per one query"
   ]
  },
  {
   "cell_type": "code",
   "execution_count": 214,
   "id": "d48f5475-f8bc-4816-8c21-9d363550b2b4",
   "metadata": {},
   "outputs": [
    {
     "name": "stdout",
     "output_type": "stream",
     "text": [
      "CPU times: user 129 ms, sys: 52 µs, total: 129 ms\n",
      "Wall time: 129 ms\n"
     ]
    }
   ],
   "source": [
    "%%time\n",
    "\n",
    "raw_preds = blmi.nodes[(0, )].nn.predict_proba(\n",
    "    data_X_to_torch(loaded_queries)\n",
    ")"
   ]
  },
  {
   "cell_type": "code",
   "execution_count": 215,
   "id": "bfc8d38f-940d-4ce0-a88a-556fa5eef1e9",
   "metadata": {},
   "outputs": [
    {
     "data": {
      "text/plain": [
       "362"
      ]
     },
     "execution_count": 215,
     "metadata": {},
     "output_type": "execute_result"
    }
   ],
   "source": [
    "np.sum(np.max(raw_preds, axis=1) < 0.8)"
   ]
  },
  {
   "cell_type": "code",
   "execution_count": 251,
   "id": "eeeb1cf5-6ba6-4a92-b6fc-893254e04154",
   "metadata": {},
   "outputs": [
    {
     "data": {
      "text/plain": [
       "0       0.999983\n",
       "1       1.000000\n",
       "2       1.000000\n",
       "3       1.000000\n",
       "4       1.000000\n",
       "          ...   \n",
       "9995    1.000000\n",
       "9996    1.000000\n",
       "9997    1.000000\n",
       "9998    0.999998\n",
       "9999    0.864658\n",
       "Length: 10000, dtype: float32"
      ]
     },
     "execution_count": 251,
     "metadata": {},
     "output_type": "execute_result"
    }
   ],
   "source": [
    "pd.Series(np.max(raw_preds, axis=1))"
   ]
  },
  {
   "cell_type": "code",
   "execution_count": 216,
   "id": "525422e1-0c9e-4462-b7dd-6e84db1c59c0",
   "metadata": {},
   "outputs": [
    {
     "data": {
      "text/plain": [
       "array([[<AxesSubplot:title={'center':'0'}>]], dtype=object)"
      ]
     },
     "execution_count": 216,
     "metadata": {},
     "output_type": "execute_result"
    },
    {
     "data": {
      "image/png": "[encoded data removed]",
      "text/plain": [
       "<Figure size 432x288 with 1 Axes>"
      ]
     },
     "metadata": {
      "needs_background": "light"
     },
     "output_type": "display_data"
    }
   ],
   "source": [
    "pd.DataFrame(np.max(raw_preds, axis=1)).hist()"
   ]
  },
  {
   "cell_type": "code",
   "execution_count": 111,
   "id": "9bd70536-79f9-4dde-b90f-6f0f0721e8a5",
   "metadata": {},
   "outputs": [
    {
     "name": "stdout",
     "output_type": "stream",
     "text": [
      "CPU times: user 4.58 ms, sys: 4.03 ms, total: 8.62 ms\n",
      "Wall time: 191 ms\n"
     ]
    }
   ],
   "source": [
    "%%time\n",
    "gt_path = f'/storage/brno12-cerit/home/tslaninakova/sisap-challenge/data/groundtruth-100K.h5'\n",
    "f3 = h5py.File(gt_path, 'r')\n",
    "loaded_gt = f3['knns'][:, :]"
   ]
  },
  {
   "cell_type": "code",
   "execution_count": null,
   "id": "d6c39a70-dac7-4611-8403-26608ad20229",
   "metadata": {},
   "outputs": [],
   "source": []
  },
  {
   "cell_type": "code",
   "execution_count": 218,
   "id": "8612ca6a-454d-4050-937f-6ad37786346b",
   "metadata": {},
   "outputs": [
    {
     "data": {
      "text/plain": [
       "array([1.4910216e-15, 7.8926550e-27, 3.3901689e-16, 2.4088171e-17,\n",
       "       1.7961142e-24, 1.0153153e-23, 7.5044255e-08, 9.9998260e-01,\n",
       "       1.7287633e-05, 5.7575465e-14], dtype=float32)"
      ]
     },
     "execution_count": 218,
     "metadata": {},
     "output_type": "execute_result"
    }
   ],
   "source": [
    "raw_preds[2]"
   ]
  },
  {
   "cell_type": "code",
   "execution_count": 233,
   "id": "79960b37-ddad-4645-baad-dab9d484b6fa",
   "metadata": {},
   "outputs": [
    {
     "data": {
      "text/plain": [
       "<AxesSubplot:>"
      ]
     },
     "execution_count": 233,
     "metadata": {},
     "output_type": "execute_result"
    },
    {
     "data": {
      "image/png": "[encoded data removed]",
      "text/plain": [
       "<Figure size 432x288 with 1 Axes>"
      ]
     },
     "metadata": {
      "needs_background": "light"
     },
     "output_type": "display_data"
    }
   ],
   "source": [
    "pd.DataFrame(raw_preds[0]).plot.bar()"
   ]
  },
  {
   "cell_type": "code",
   "execution_count": 224,
   "id": "4bc9022e-54bd-4038-a5b1-649c1e95bd39",
   "metadata": {},
   "outputs": [
    {
     "data": {
      "text/plain": [
       "array([14347, 82848, 79302, 85923,  6016, 67067, 29567, 54566, 34591,\n",
       "       11620, 53783, 88026, 74917, 25913, 84845, 57931, 78536, 63598,\n",
       "       19583, 45013,  3794, 79455, 23304, 64073, 21194, 39041, 64714,\n",
       "       85541, 10588, 32001, 74891, 45443, 32634, 65660, 30660, 36013,\n",
       "       13270, 99164,  7423, 71270, 67096, 60992, 92178, 89050, 48848,\n",
       "       98619, 73628,  4071, 69824, 52696, 85241, 77697, 97132, 69221,\n",
       "       54159, 94008,  1109, 80110, 34495, 77204, 79171, 68366, 79697,\n",
       "        5732, 57784, 80630, 82986, 54903, 24140, 60239, 64347, 93839,\n",
       "       90006, 22818, 66810, 32540, 69770, 42166, 88542, 51747, 64995,\n",
       "       25579, 39089, 71087, 79761, 98731, 88318,  8116, 69048, 74671,\n",
       "       79591, 11637, 80269, 71577, 45876,  3581, 48943, 78719, 78261,\n",
       "       24809], dtype=int32)"
      ]
     },
     "execution_count": 224,
     "metadata": {},
     "output_type": "execute_result"
    }
   ],
   "source": [
    "loaded_gt[1]"
   ]
  },
  {
   "cell_type": "code",
   "execution_count": 243,
   "id": "f310213a-b5c9-4226-b0ac-b19afdb4828d",
   "metadata": {},
   "outputs": [],
   "source": [
    "raw_preds2 = blmi.nodes[(0, 7)].nn.predict_proba(\n",
    "    data_X_to_torch(loaded_queries)\n",
    ")"
   ]
  },
  {
   "cell_type": "code",
   "execution_count": 244,
   "id": "6fd66be7-7ba3-4944-996a-b6ffaa712132",
   "metadata": {},
   "outputs": [
    {
     "data": {
      "text/plain": [
       "<AxesSubplot:>"
      ]
     },
     "execution_count": 244,
     "metadata": {},
     "output_type": "execute_result"
    },
    {
     "data": {
      "image/png": "[encoded data removed]",
      "text/plain": [
       "<Figure size 432x288 with 1 Axes>"
      ]
     },
     "metadata": {
      "needs_background": "light"
     },
     "output_type": "display_data"
    }
   ],
   "source": [
    "pd.DataFrame(raw_preds2[0]).plot.bar()"
   ]
  },
  {
   "cell_type": "code",
   "execution_count": 248,
   "id": "c6d60aa8-4555-4295-b32a-35dd72676214",
   "metadata": {},
   "outputs": [
    {
     "data": {
      "text/plain": [
       "array([91,  0, 75, 93, 40, 86, 66, 99, 62, 47, 22, 83, 50, 76, 16,  5,  8,\n",
       "       92, 72, 61, 37, 89, 70, 41, 21, 28,  7, 33, 98, 46, 19, 78, 44, 32,\n",
       "       15,  9, 67, 94, 96, 68,  3, 97, 10, 51, 53, 63,  4, 87, 71, 18, 65,\n",
       "       74, 79, 31, 36, 88, 57, 69, 90, 82, 27,  2, 26, 81, 45, 24,  6, 85,\n",
       "       20, 84,  1, 13, 55, 52, 64, 54, 34, 17, 56, 48, 38, 23, 11, 39, 42,\n",
       "       60, 49, 80, 95, 43, 30, 14, 58, 29, 59, 73, 12, 77, 35, 25])"
      ]
     },
     "execution_count": 248,
     "metadata": {},
     "output_type": "execute_result"
    }
   ],
   "source": [
    "np.argsort(raw_preds2[0])"
   ]
  },
  {
   "cell_type": "code",
   "execution_count": 246,
   "id": "7bd72beb-7739-4518-9736-ae7f7b5da835",
   "metadata": {},
   "outputs": [
    {
     "name": "stdout",
     "output_type": "stream",
     "text": [
      "0 []\n",
      "1 [4327]\n",
      "2 []\n",
      "3 []\n",
      "4 []\n",
      "5 []\n",
      "6 []\n",
      "7 []\n",
      "8 []\n",
      "9 []\n",
      "10 []\n",
      "11 []\n",
      "12 [83736 87457]\n",
      "13 []\n",
      "14 []\n",
      "15 []\n",
      "16 []\n",
      "17 []\n",
      "18 []\n",
      "19 []\n",
      "20 []\n",
      "21 []\n",
      "22 []\n",
      "23 []\n",
      "24 [20333]\n",
      "25 [17544 22337 25525 35693 42586 52102 76538 79172 94426]\n",
      "26 []\n",
      "27 []\n",
      "28 []\n",
      "29 []\n",
      "30 []\n",
      "31 []\n",
      "32 []\n",
      "33 []\n",
      "34 []\n",
      "35 [12401 45784 64156 92501]\n",
      "36 []\n",
      "37 []\n",
      "38 [15735 36442]\n",
      "39 []\n",
      "40 []\n",
      "41 []\n",
      "42 []\n",
      "43 [86179]\n",
      "44 []\n",
      "45 []\n",
      "46 []\n",
      "47 []\n",
      "48 []\n",
      "49 [  231  4415 13493 31649 40382 55218 55412 60559 60622 64728 73074 80913\n",
      " 86341 91179]\n",
      "50 []\n",
      "51 []\n",
      "52 []\n",
      "53 []\n",
      "54 []\n",
      "55 []\n",
      "56 []\n",
      "57 []\n",
      "58 [ 1708 67226 87037]\n",
      "59 [ 5985 22973 26294 64253 70410 73879 74173 94073 99973]\n",
      "60 []\n",
      "61 [68450]\n",
      "62 []\n",
      "63 []\n",
      "64 []\n",
      "65 []\n",
      "66 []\n",
      "67 []\n",
      "68 []\n",
      "69 []\n",
      "70 []\n",
      "71 []\n",
      "72 []\n",
      "73 [ 7180 13236 15425 16711 20970 21690 23975 35205 38159 71849 74573 76553\n",
      " 79896 82381 83588]\n",
      "74 []\n",
      "75 []\n",
      "76 []\n",
      "77 [ 5492 24314 52857 63839 95028]\n",
      "78 []\n",
      "79 [898]\n",
      "80 [19745 23884]\n",
      "81 []\n",
      "82 [5414]\n",
      "83 []\n",
      "84 []\n",
      "85 [80243]\n",
      "86 []\n",
      "87 []\n",
      "88 []\n",
      "89 []\n",
      "90 []\n",
      "91 []\n",
      "92 []\n",
      "93 []\n",
      "94 []\n",
      "95 []\n",
      "96 []\n",
      "97 []\n",
      "98 []\n",
      "99 []\n"
     ]
    }
   ],
   "source": [
    "for i in range(100):\n",
    "    print(i, np.intersect1d(loaded_gt[0], np.array(blmi.nodes[(0, 7, i)].object_ids)))"
   ]
  },
  {
   "cell_type": "code",
   "execution_count": 229,
   "id": "74377965-d12e-4f63-b9f9-1730ca98b432",
   "metadata": {},
   "outputs": [
    {
     "name": "stdout",
     "output_type": "stream",
     "text": [
      "CPU times: user 131 µs, sys: 9 µs, total: 140 µs\n",
      "Wall time: 144 µs\n"
     ]
    },
    {
     "data": {
      "text/plain": [
       "array([0, 1, 2, 4, 5, 6, 7, 8, 9, 3])"
      ]
     },
     "execution_count": 229,
     "metadata": {},
     "output_type": "execute_result"
    }
   ],
   "source": [
    "%%time\n",
    "np.argsort(\n",
    "    raw_preds[2]\n",
    ")"
   ]
  },
  {
   "cell_type": "code",
   "execution_count": 204,
   "id": "668946f4-ab1c-490b-9aae-411c63e51ef2",
   "metadata": {},
   "outputs": [
    {
     "data": {
      "text/plain": [
       "array([ 4415,  6911, 15735, 16711, 18967, 20970, 26294, 35693, 36442,\n",
       "       53818, 79753, 87037, 91179])"
      ]
     },
     "execution_count": 204,
     "metadata": {},
     "output_type": "execute_result"
    }
   ],
   "source": [
    "np.intersect1d(loaded_gt[], np.array(blmi.nodes[(0, 5)].object_ids))"
   ]
  },
  {
   "cell_type": "code",
   "execution_count": null,
   "id": "fdf12823-b952-4916-8745-ddd78bdcf62d",
   "metadata": {},
   "outputs": [],
   "source": [
    "data/groundtruth-100K.h5"
   ]
  },
  {
   "cell_type": "code",
   "execution_count": null,
   "id": "5b458cf7-73f4-400f-877d-6fe1e8226c76",
   "metadata": {},
   "outputs": [],
   "source": []
  },
  {
   "cell_type": "code",
   "execution_count": null,
   "id": "6d52b3a2-1cf1-4522-8b10-ccf75344de0d",
   "metadata": {},
   "outputs": [],
   "source": [
    "%%time\n",
    "for i, leaf in enumerate(blmi.get_leaf_nodes_pos()):\n",
    "    info_df = blmi.deepen(\n",
    "        blmi.nodes[leaf],\n",
    "        100,\n",
    "        info_df\n",
    "    )"
   ]
  },
  {
   "cell_type": "code",
   "execution_count": 14,
   "id": "5fba9516-e391-4c98-bfcd-a5b89e865386",
   "metadata": {},
   "outputs": [
    {
     "data": {
      "text/html": [
       "<div>\n",
       "<style scoped>\n",
       "    .dataframe tbody tr th:only-of-type {\n",
       "        vertical-align: middle;\n",
       "    }\n",
       "\n",
       "    .dataframe tbody tr th {\n",
       "        vertical-align: top;\n",
       "    }\n",
       "\n",
       "    .dataframe thead th {\n",
       "        text-align: right;\n",
       "    }\n",
       "</style>\n",
       "<table border=\"1\" class=\"dataframe\">\n",
       "  <thead>\n",
       "    <tr style=\"text-align: right;\">\n",
       "      <th></th>\n",
       "      <th>type</th>\n",
       "      <th>children</th>\n",
       "    </tr>\n",
       "    <tr>\n",
       "      <th>key</th>\n",
       "      <th></th>\n",
       "      <th></th>\n",
       "    </tr>\n",
       "  </thead>\n",
       "  <tbody>\n",
       "    <tr>\n",
       "      <th>(0,)</th>\n",
       "      <td>InnerNode</td>\n",
       "      <td>10</td>\n",
       "    </tr>\n",
       "    <tr>\n",
       "      <th>(0, 0)</th>\n",
       "      <td>InnerNode</td>\n",
       "      <td>100</td>\n",
       "    </tr>\n",
       "    <tr>\n",
       "      <th>(0, 0, 0)</th>\n",
       "      <td>LeafNode</td>\n",
       "      <td>291</td>\n",
       "    </tr>\n",
       "    <tr>\n",
       "      <th>(0, 0, 1)</th>\n",
       "      <td>LeafNode</td>\n",
       "      <td>51</td>\n",
       "    </tr>\n",
       "    <tr>\n",
       "      <th>(0, 0, 2)</th>\n",
       "      <td>LeafNode</td>\n",
       "      <td>45</td>\n",
       "    </tr>\n",
       "    <tr>\n",
       "      <th>...</th>\n",
       "      <td>...</td>\n",
       "      <td>...</td>\n",
       "    </tr>\n",
       "    <tr>\n",
       "      <th>(0, 9, 95)</th>\n",
       "      <td>LeafNode</td>\n",
       "      <td>100</td>\n",
       "    </tr>\n",
       "    <tr>\n",
       "      <th>(0, 9, 96)</th>\n",
       "      <td>LeafNode</td>\n",
       "      <td>93</td>\n",
       "    </tr>\n",
       "    <tr>\n",
       "      <th>(0, 9, 97)</th>\n",
       "      <td>LeafNode</td>\n",
       "      <td>130</td>\n",
       "    </tr>\n",
       "    <tr>\n",
       "      <th>(0, 9, 98)</th>\n",
       "      <td>LeafNode</td>\n",
       "      <td>65</td>\n",
       "    </tr>\n",
       "    <tr>\n",
       "      <th>(0, 9, 99)</th>\n",
       "      <td>LeafNode</td>\n",
       "      <td>79</td>\n",
       "    </tr>\n",
       "  </tbody>\n",
       "</table>\n",
       "<p>1011 rows × 2 columns</p>\n",
       "</div>"
      ],
      "text/plain": [
       "                 type children\n",
       "key                           \n",
       "(0,)        InnerNode       10\n",
       "(0, 0)      InnerNode      100\n",
       "(0, 0, 0)    LeafNode      291\n",
       "(0, 0, 1)    LeafNode       51\n",
       "(0, 0, 2)    LeafNode       45\n",
       "...               ...      ...\n",
       "(0, 9, 95)   LeafNode      100\n",
       "(0, 9, 96)   LeafNode       93\n",
       "(0, 9, 97)   LeafNode      130\n",
       "(0, 9, 98)   LeafNode       65\n",
       "(0, 9, 99)   LeafNode       79\n",
       "\n",
       "[1011 rows x 2 columns]"
      ]
     },
     "execution_count": 14,
     "metadata": {},
     "output_type": "execute_result"
    }
   ],
   "source": [
    "blmi.dump_structure()"
   ]
  },
  {
   "cell_type": "code",
   "execution_count": 15,
   "id": "ca7455e6-3dbc-4256-9332-41ca3668902d",
   "metadata": {},
   "outputs": [
    {
     "name": "stdout",
     "output_type": "stream",
     "text": [
      "CPU times: user 0 ns, sys: 1.97 ms, total: 1.97 ms\n",
      "Wall time: 66.4 ms\n"
     ]
    }
   ],
   "source": [
    "queries_path = 'data/pca32v2/10M/query.h5'\n",
    "%time f2 = h5py.File(queries_path, 'r')"
   ]
  },
  {
   "cell_type": "code",
   "execution_count": 121,
   "id": "d7162523-d524-4428-b138-541cd9ec1886",
   "metadata": {},
   "outputs": [
    {
     "name": "stdout",
     "output_type": "stream",
     "text": [
      "CPU times: user 869 µs, sys: 0 ns, total: 869 µs\n",
      "Wall time: 874 µs\n"
     ]
    }
   ],
   "source": [
    "%time loaded_queries = f2['pca32'][:, :]"
   ]
  },
  {
   "cell_type": "code",
   "execution_count": 35,
   "id": "79a9fe37-be8f-4198-b51a-8d70e2cb593c",
   "metadata": {},
   "outputs": [
    {
     "data": {
      "text/plain": [
       "array([-0.06877425, -0.11037602,  0.05646035, -0.11508854, -0.03577028,\n",
       "        0.09110859,  0.07477964,  0.10778218,  0.04116842,  0.00877987,\n",
       "       -0.06257925, -0.17031246,  0.00780125, -0.099485  ,  0.04967897,\n",
       "       -0.12064676,  0.0035742 , -0.07642894,  0.08400699, -0.03188556,\n",
       "       -0.01020392,  0.07147753, -0.01378688, -0.10539152, -0.00040444,\n",
       "       -0.00291365,  0.12945361,  0.05624911,  0.00785595,  0.01020052,\n",
       "        0.06252866, -0.00992952], dtype=float32)"
      ]
     },
     "execution_count": 35,
     "metadata": {},
     "output_type": "execute_result"
    }
   ],
   "source": [
    "loaded_queries[0]"
   ]
  },
  {
   "cell_type": "code",
   "execution_count": 16,
   "id": "5b9dd1e4-db7e-457f-ab1c-18aed80a8fab",
   "metadata": {},
   "outputs": [],
   "source": [
    "from li.model import NeuralNetwork, data_X_to_torch, data_to_torch"
   ]
  },
  {
   "cell_type": "code",
   "execution_count": 18,
   "id": "4433f1c9-3dfe-4c3d-abfa-95ab304fd288",
   "metadata": {},
   "outputs": [],
   "source": [
    "import numpy as np"
   ]
  },
  {
   "cell_type": "code",
   "execution_count": null,
   "id": "3a9c9872-d1b8-4529-ada6-437e4cb48545",
   "metadata": {},
   "outputs": [],
   "source": [
    "res = blmi.nodes[(0, )].nn.predict_proba(data_X_to_torch(loaded_queries))"
   ]
  },
  {
   "cell_type": "code",
   "execution_count": 113,
   "id": "abc3b82a-7a6e-45a1-b2f6-bb8d816d4fa8",
   "metadata": {},
   "outputs": [
    {
     "name": "stderr",
     "output_type": "stream",
     "text": [
      "/auto/brno12-cerit/nfs4/home/tslaninakova/sisap-challenge/repo/search/li/model.py:154: UserWarning: Implicit dimension choice for softmax has been deprecated. Change the call to include dim=X as an argument.\n",
      "  prob = nnf.softmax(outputs)\n"
     ]
    }
   ],
   "source": [
    "res = blmi.nodes[(0, )].nn.predict_proba(data_X_to_torch(loaded_queries))"
   ]
  },
  {
   "cell_type": "code",
   "execution_count": 126,
   "id": "73fa8e29-0a90-46a0-be53-44242db712d3",
   "metadata": {},
   "outputs": [
    {
     "data": {
      "text/plain": [
       "0.9999999682348432"
      ]
     },
     "execution_count": 126,
     "metadata": {},
     "output_type": "execute_result"
    }
   ],
   "source": [
    "sum(raw_preds[0])"
   ]
  },
  {
   "cell_type": "code",
   "execution_count": 18,
   "id": "71070487-2c07-45e2-9764-6cf09975838b",
   "metadata": {},
   "outputs": [
    {
     "ename": "ImportError",
     "evalue": "cannot import name 'data_X_to_torch'",
     "output_type": "error",
     "traceback": [
      "\u001b[0;31m---------------------------------------------------------------------------\u001b[0m",
      "\u001b[0;31mImportError\u001b[0m                               Traceback (most recent call last)",
      "\u001b[0;32m<ipython-input-18-e6b88567cfcf>\u001b[0m in \u001b[0;36m<module>\u001b[0;34m\u001b[0m\n\u001b[1;32m      1\u001b[0m \u001b[0;32mimport\u001b[0m \u001b[0mnumpy\u001b[0m \u001b[0;32mas\u001b[0m \u001b[0mnp\u001b[0m\u001b[0;34m\u001b[0m\u001b[0m\n\u001b[0;32m----> 2\u001b[0;31m \u001b[0;32mfrom\u001b[0m \u001b[0mli\u001b[0m\u001b[0;34m.\u001b[0m\u001b[0mutils\u001b[0m \u001b[0;32mimport\u001b[0m \u001b[0mdata_X_to_torch\u001b[0m\u001b[0;34m\u001b[0m\u001b[0m\n\u001b[0m",
      "\u001b[0;31mImportError\u001b[0m: cannot import name 'data_X_to_torch'"
     ]
    }
   ],
   "source": [
    "import numpy as np"
   ]
  },
  {
   "cell_type": "code",
   "execution_count": 21,
   "id": "dd472b4c-eee8-4003-b9b0-93d39d66aa79",
   "metadata": {},
   "outputs": [
    {
     "data": {
      "text/plain": [
       "(10000, 32)"
      ]
     },
     "execution_count": 21,
     "metadata": {},
     "output_type": "execute_result"
    }
   ],
   "source": [
    "loaded_queries.shape"
   ]
  },
  {
   "cell_type": "code",
   "execution_count": 23,
   "id": "afbe9d89-9f6a-4e70-adc4-a6c91077e5b2",
   "metadata": {},
   "outputs": [
    {
     "data": {
      "text/plain": [
       "(array([[1.7582202e-01, 2.8572857e-15, 1.7046597e-12, ..., 1.1983315e-05,\n",
       "         5.9401941e-13, 1.3378007e-20],\n",
       "        [4.8432039e-21, 3.5637514e-21, 2.0142326e-28, ..., 4.2503068e-37,\n",
       "         6.2255156e-28, 1.3117322e-12],\n",
       "        [3.7722401e-19, 9.3646389e-33, 1.0000000e+00, ..., 9.3976630e-27,\n",
       "         2.0487810e-19, 4.5789113e-23],\n",
       "        ...,\n",
       "        [2.1425209e-20, 4.5981435e-17, 9.3060073e-21, ..., 6.7475746e-08,\n",
       "         1.2581496e-20, 3.9797575e-24],\n",
       "        [5.4887380e-05, 8.1292950e-25, 5.5970184e-15, ..., 1.0924608e-09,\n",
       "         1.3399331e-21, 9.3531281e-01],\n",
       "        [2.7568534e-18, 5.7732496e-22, 1.3162696e-18, ..., 8.8264013e-27,\n",
       "         1.5758556e-10, 3.1159263e-18]], dtype=float32),\n",
       " array([   0,    1,    2, ..., 9997, 9998, 9999]))"
      ]
     },
     "execution_count": 23,
     "metadata": {},
     "output_type": "execute_result"
    }
   ],
   "source": [
    "    blmi.nodes[(0, )].nn.predict_proba(\n",
    "        data_X_to_torch(loaded_queries)\n",
    "    )"
   ]
  },
  {
   "cell_type": "code",
   "execution_count": 19,
   "id": "19c8933b-7475-4b4e-b524-2de33f225fc4",
   "metadata": {},
   "outputs": [
    {
     "name": "stdout",
     "output_type": "stream",
     "text": [
      "CPU times: user 7.58 ms, sys: 4 ms, total: 11.6 ms\n",
      "Wall time: 11.6 ms\n"
     ]
    }
   ],
   "source": [
    "%%time\n",
    "predicted_categories = np.argsort(\n",
    "    blmi.nodes[(0, )].nn.predict_proba(\n",
    "        data_X_to_torch(loaded_queries)\n",
    "    )[0], axis=1\n",
    ")\n"
   ]
  },
  {
   "cell_type": "code",
   "execution_count": 99,
   "id": "11f19f11-8635-4629-bf95-ce928e786789",
   "metadata": {},
   "outputs": [
    {
     "data": {
      "text/plain": [
       "(10000, 10)"
      ]
     },
     "execution_count": 99,
     "metadata": {},
     "output_type": "execute_result"
    }
   ],
   "source": [
    "raw_preds.shape"
   ]
  },
  {
   "cell_type": "code",
   "execution_count": 96,
   "id": "a79a5c60-be01-490f-889a-8ff869e9d0f8",
   "metadata": {},
   "outputs": [
    {
     "data": {
      "text/plain": [
       "array([7, 5, 1, 4, 6, 0, 3, 8, 9, 2])"
      ]
     },
     "execution_count": 96,
     "metadata": {},
     "output_type": "execute_result"
    }
   ],
   "source": [
    "predicted_categories[0]"
   ]
  },
  {
   "cell_type": "code",
   "execution_count": 102,
   "id": "d09dcec4-ad58-411f-be29-a42f06686fe5",
   "metadata": {},
   "outputs": [
    {
     "data": {
      "text/plain": [
       "2.9094968258779387e-26"
      ]
     },
     "execution_count": 102,
     "metadata": {},
     "output_type": "execute_result"
    }
   ],
   "source": [
    "sum(raw_preds[0])"
   ]
  },
  {
   "cell_type": "code",
   "execution_count": 101,
   "id": "0c88a347-39e7-4c5c-8a50-db0a925b584d",
   "metadata": {},
   "outputs": [
    {
     "data": {
      "text/plain": [
       "array([7.6310126e-35, 2.6850981e-40, 2.8123551e-26, 1.1472881e-34,\n",
       "       3.7171684e-40, 1.2891946e-43, 2.5601896e-36, 7.0064923e-45,\n",
       "       1.5954410e-33, 9.7141576e-28], dtype=float32)"
      ]
     },
     "execution_count": 101,
     "metadata": {},
     "output_type": "execute_result"
    }
   ],
   "source": [
    "raw_preds[0]"
   ]
  },
  {
   "cell_type": "code",
   "execution_count": 140,
   "id": "bf637596-7c4d-4116-9dbf-c50c525dd2d4",
   "metadata": {},
   "outputs": [
    {
     "data": {
      "text/plain": [
       "array([1.], dtype=float32)"
      ]
     },
     "execution_count": 140,
     "metadata": {},
     "output_type": "execute_result"
    }
   ],
   "source": [
    "raw_preds[10][np.where(raw_preds[10] > 0.1)[0]]"
   ]
  },
  {
   "cell_type": "code",
   "execution_count": 136,
   "id": "82eb7a42-0850-4451-8814-8b58d917c1e1",
   "metadata": {},
   "outputs": [
    {
     "data": {
      "text/plain": [
       "array([1.], dtype=float32)"
      ]
     },
     "execution_count": 136,
     "metadata": {},
     "output_type": "execute_result"
    }
   ],
   "source": [
    "raw_preds[10][np.where(raw_preds[10] > 0.1)]"
   ]
  },
  {
   "cell_type": "code",
   "execution_count": 142,
   "id": "e941e863-98bf-48ce-abba-e203b494bc78",
   "metadata": {},
   "outputs": [
    {
     "data": {
      "text/plain": [
       "<AxesSubplot:>"
      ]
     },
     "execution_count": 142,
     "metadata": {},
     "output_type": "execute_result"
    },
    {
     "data": {
      "image/png": "[encoded data removed]",
      "text/plain": [
       "<Figure size 432x288 with 1 Axes>"
      ]
     },
     "metadata": {
      "needs_background": "light"
     },
     "output_type": "display_data"
    }
   ],
   "source": [
    "pd.DataFrame(raw_preds[10]).plot.bar()"
   ]
  },
  {
   "cell_type": "code",
   "execution_count": 92,
   "id": "895b8975-1acb-4743-9c4c-8fbf2a0b197c",
   "metadata": {},
   "outputs": [
    {
     "data": {
      "text/plain": [
       "array([[7, 5, 1, ..., 8, 9, 2],\n",
       "       [9, 1, 6, ..., 7, 3, 8],\n",
       "       [0, 9, 8, ..., 5, 6, 1],\n",
       "       ...,\n",
       "       [3, 5, 6, ..., 8, 2, 0],\n",
       "       [0, 9, 5, ..., 3, 2, 8],\n",
       "       [6, 1, 3, ..., 9, 2, 8]])"
      ]
     },
     "execution_count": 92,
     "metadata": {},
     "output_type": "execute_result"
    }
   ],
   "source": [
    "predicted_categories"
   ]
  },
  {
   "cell_type": "code",
   "execution_count": 21,
   "id": "86be7987-ddf5-4d37-92c9-a7ae1ce1aa0f",
   "metadata": {},
   "outputs": [],
   "source": [
    "categories = np.unique(predicted_categories)"
   ]
  },
  {
   "cell_type": "code",
   "execution_count": 55,
   "id": "67a01694-5b3e-4048-a56e-ac385cfd0238",
   "metadata": {},
   "outputs": [
    {
     "data": {
      "text/plain": [
       "(10000, 32)"
      ]
     },
     "execution_count": 55,
     "metadata": {},
     "output_type": "execute_result"
    }
   ],
   "source": [
    "loaded_queries.shape"
   ]
  },
  {
   "cell_type": "code",
   "execution_count": 23,
   "id": "a1ad0324-7ad2-4008-8d0e-41d911715c70",
   "metadata": {},
   "outputs": [],
   "source": [
    "bucket = 0"
   ]
  },
  {
   "cell_type": "code",
   "execution_count": 24,
   "id": "cf3605ce-3488-46f6-b141-9a896b1097d1",
   "metadata": {},
   "outputs": [],
   "source": [
    "for category in categories:\n",
    "    cat_idxs = np.where(predicted_categories[:, -(bucket+1)] == category)\n",
    "    predicted_categories_lvl2 = np.argsort(\n",
    "        blmi.nodes[(0, category)].nn.predict_proba(\n",
    "            data_X_to_torch(loaded_queries[cat_idxs])\n",
    "        )[0], axis=1\n",
    "    )\n",
    "    break"
   ]
  },
  {
   "cell_type": "code",
   "execution_count": 66,
   "id": "586a42e1-961e-4c49-86f9-0ab325f58ed4",
   "metadata": {},
   "outputs": [
    {
     "data": {
      "text/plain": [
       "array([[49, 94, 33, ..., 30, 56, 47],\n",
       "       [44, 57, 49, ..., 85, 10, 63],\n",
       "       [41, 18, 70, ..., 11, 58, 59],\n",
       "       ...,\n",
       "       [65, 13, 41, ..., 46, 27, 12],\n",
       "       [44, 62, 72, ..., 86, 38, 43],\n",
       "       [18, 62, 73, ..., 50,  2, 85]])"
      ]
     },
     "execution_count": 66,
     "metadata": {},
     "output_type": "execute_result"
    }
   ],
   "source": [
    "predicted_categories_lvl2"
   ]
  },
  {
   "cell_type": "code",
   "execution_count": 68,
   "id": "d1bc4868-2b2e-4821-b856-029985bfe6b2",
   "metadata": {},
   "outputs": [
    {
     "data": {
      "text/plain": [
       "(828,)"
      ]
     },
     "execution_count": 68,
     "metadata": {},
     "output_type": "execute_result"
    }
   ],
   "source": [
    "predicted_categories_lvl2[:, -(bucket+1)].shape"
   ]
  },
  {
   "cell_type": "code",
   "execution_count": 67,
   "id": "65b9e90b-e272-4709-ab67-05789fd3b726",
   "metadata": {},
   "outputs": [
    {
     "data": {
      "text/plain": [
       "(828, 32)"
      ]
     },
     "execution_count": 67,
     "metadata": {},
     "output_type": "execute_result"
    }
   ],
   "source": [
    "loaded_queries[cat_idxs].shape"
   ]
  },
  {
   "cell_type": "code",
   "execution_count": 252,
   "id": "1c7fa639-b67b-44a6-805a-e3f91699b2a3",
   "metadata": {},
   "outputs": [],
   "source": [
    "query = loaded_queries[0]"
   ]
  },
  {
   "cell_type": "code",
   "execution_count": 259,
   "id": "f235b016-76b8-4df8-b9b8-1d88871f9fec",
   "metadata": {},
   "outputs": [
    {
     "data": {
      "text/plain": [
       "1"
      ]
     },
     "execution_count": 259,
     "metadata": {},
     "output_type": "execute_result"
    }
   ],
   "source": [
    "data_X_to_torch(query).dim()"
   ]
  },
  {
   "cell_type": "code",
   "execution_count": 27,
   "id": "e9fc943a-83af-4c55-9062-9050ed2bff68",
   "metadata": {},
   "outputs": [],
   "source": [
    "from tqdm import tqdm"
   ]
  },
  {
   "cell_type": "markdown",
   "id": "83c08054-ace8-4b88-98f7-ebfd86076d4f",
   "metadata": {},
   "source": [
    "### Label encoder for buckets"
   ]
  },
  {
   "cell_type": "code",
   "execution_count": 28,
   "id": "0ab582cb-4071-4af5-ad21-d427f6a99e90",
   "metadata": {},
   "outputs": [
    {
     "name": "stdout",
     "output_type": "stream",
     "text": [
      "CPU times: user 60.7 ms, sys: 4.03 ms, total: 64.7 ms\n",
      "Wall time: 64.8 ms\n"
     ]
    }
   ],
   "source": [
    "%%time\n",
    "mapping = blmi.dump_structure().query('type == \"LeafNode\"')\n",
    "mapping.insert(0, 'bucket_id', range(0, len(mapping)))\n",
    "mapping = mapping.bucket_id.to_dict()\n",
    "reverse_mapping = {v: k for k, v in mapping.items()}"
   ]
  },
  {
   "cell_type": "code",
   "execution_count": 89,
   "id": "690d7b21-b5cc-4f1e-a5a1-5c94a36630ce",
   "metadata": {},
   "outputs": [
    {
     "name": "stderr",
     "output_type": "stream",
     "text": [
      "10000it [00:09, 1095.06it/s]"
     ]
    },
    {
     "name": "stdout",
     "output_type": "stream",
     "text": [
      "CPU times: user 8.43 s, sys: 64 ms, total: 8.49 s\n",
      "Wall time: 9.14 s\n"
     ]
    },
    {
     "name": "stderr",
     "output_type": "stream",
     "text": [
      "\n"
     ]
    }
   ],
   "source": [
    "%%time\n",
    "res_all = []\n",
    "for i, query in tqdm(enumerate(loaded_queries)):\n",
    "    bucket_ids = [[i, mapping[bucket]] for bucket in blmi.search(query, stop_condition=500)[0]]\n",
    "    res_all.extend(bucket_ids)"
   ]
  },
  {
   "cell_type": "code",
   "execution_count": 93,
   "id": "7d9176b3-6b33-415d-a42c-19235c864957",
   "metadata": {},
   "outputs": [],
   "source": [
    "res_all = np.array(res_all)"
   ]
  },
  {
   "cell_type": "code",
   "execution_count": 100,
   "id": "eef241a2-063d-450d-ba97-a3cdc155f9fe",
   "metadata": {},
   "outputs": [],
   "source": [
    "d_anns = dict.fromkeys(range(0, 10_000))\n",
    "d_dists = dict.fromkeys(range(0, 10_000))"
   ]
  },
  {
   "cell_type": "code",
   "execution_count": 101,
   "id": "41d9eddb-660a-4c02-9988-d5c3fcdd137c",
   "metadata": {},
   "outputs": [
    {
     "name": "stderr",
     "output_type": "stream",
     "text": [
      "100%|██████████| 993/993 [00:01<00:00, 536.74it/s]"
     ]
    },
    {
     "name": "stdout",
     "output_type": "stream",
     "text": [
      "CPU times: user 1.44 s, sys: 28.4 ms, total: 1.47 s\n",
      "Wall time: 1.86 s\n"
     ]
    },
    {
     "name": "stderr",
     "output_type": "stream",
     "text": [
      "\n"
     ]
    }
   ],
   "source": [
    "%%time\n",
    "\n",
    "for identified_bucket in tqdm(np.unique(res_all[:, 1])):\n",
    "    queries_positions = res_all[res_all[:, 1] == identified_bucket][:, 0]\n",
    "    queries_with_identified_bucket = loaded_queries[queries_positions]\n",
    "    objects_in_bucket = np.array(blmi.nodes[reverse_mapping[identified_bucket]].objects)\n",
    "    object_id_in_bucket = np.array(blmi.nodes[reverse_mapping[identified_bucket]].object_ids)\n",
    "    res = pairwise_cosine(\n",
    "        queries_with_identified_bucket, objects_in_bucket\n",
    "    )\n",
    "    ann_relative = res.argsort()\n",
    "    res_sorted = np.take_along_axis(res, ann_relative, axis=1)\n",
    "    #res_df = pd.DataFrame(res, columns=object_id_in_bucket)\n",
    "    #res_df.index = queries_positions\n",
    "    #es_all = pd.concat([res_all, res_df], axis=1)\n",
    "\n",
    "    for i, (q, r) in enumerate(zip(queries_positions, res)):\n",
    "        if d_anns[q] is None:\n",
    "            d_anns[q] = object_id_in_bucket[ann_relative[i]]\n",
    "            d_dists[q] = res_sorted[i]\n",
    "        else:\n",
    "            d_anns[q] = np.hstack((d_anns[q], object_id_in_bucket[ann_relative[i]]))\n",
    "            d_dists[q] = np.hstack((d_dists[q], res_sorted[i]))\n",
    "\n",
    "    #seq_res_all.append()\n",
    "    \"\"\"\n",
    "    assert res.shape[1] <= 500\n",
    "    #res = res[:, :500]\n",
    "    ann_relative = res.argsort()\n",
    "    res_sorted = np.take_along_axis(res, ann_relative, axis=1)\n",
    "    try:\n",
    "        max_index = max(np.where(anns_final[queries_positions] != -1)[1])\n",
    "    except ValueError:\n",
    "        max_index = 1\n",
    "    print(f'max index: {max_index}')\n",
    "    break\n",
    "    #for i, query_position in enumerate(queries_positions):\n",
    "    #    anns_list[query_position].extend(object_id_in_bucket[ann_relative[i]])\n",
    "    anns_final[queries_positions][:500] = np.pad(ann_relative, [(0, 0), (0, 16*500)], 'constant', constant_values=(-1))\n",
    "    dists_final[queries_positions][:500] = np.pad(res_sorted, [(0, 0), (0, 16*500)], 'constant', constant_values=(10_000))\n",
    "    \"\"\""
   ]
  },
  {
   "cell_type": "code",
   "execution_count": 114,
   "id": "bbd890e8-2589-4c5a-b00d-8b82555277b8",
   "metadata": {},
   "outputs": [
    {
     "data": {
      "text/plain": [
       "array([ 91,  92,  93,  94, 185,  95, 186, 274, 275,  96, 379, 276,  97,\n",
       "       277, 278, 187, 443,  98,  99,   0, 380, 100, 279, 101, 280, 188,\n",
       "       189, 444, 102, 103, 104, 105, 106, 381, 107, 108, 281, 109, 110,\n",
       "       190, 111, 282, 445, 382, 446, 112, 283, 284, 383, 285, 113, 191,\n",
       "       286, 114, 447, 115, 384, 287, 116, 117, 385, 288, 386, 118, 119,\n",
       "       289, 448, 290, 192, 120, 193, 291, 292, 121, 293, 449, 294, 122,\n",
       "       123, 194, 387, 195, 388, 389, 124, 390, 125, 126, 391, 295, 196,\n",
       "       296, 392, 393, 297, 298, 299, 300, 301, 302])"
      ]
     },
     "execution_count": 114,
     "metadata": {},
     "output_type": "execute_result"
    }
   ],
   "source": [
    "k = 100\n",
    "idx_sorted = d_dists[0].argsort(kind='stable')[:k]\n",
    "idx_sorted"
   ]
  },
  {
   "cell_type": "code",
   "execution_count": 115,
   "id": "879b8bcd-b776-4677-b6e4-506dd03e8706",
   "metadata": {},
   "outputs": [
    {
     "data": {
      "text/plain": [
       "array([0.11132693, 0.12166536, 0.12826711, 0.13174927, 0.13217294,\n",
       "       0.13277352, 0.14000309, 0.14461923, 0.15164298, 0.15488857,\n",
       "       0.15859717, 0.16162956, 0.1624754 , 0.16926277, 0.17129964,\n",
       "       0.17150682, 0.1724832 , 0.17310399, 0.17365974, 0.17378002,\n",
       "       0.1738388 , 0.17579103, 0.17657101, 0.1803363 , 0.18241268,\n",
       "       0.18399197, 0.18607843, 0.18761033, 0.18899655, 0.18927264,\n",
       "       0.1937269 , 0.20124173, 0.2026459 , 0.2042849 , 0.20522511,\n",
       "       0.20785218, 0.20821685, 0.21041942, 0.21047169, 0.2113486 ,\n",
       "       0.21256834, 0.21274072, 0.21334618, 0.2139656 , 0.21425837,\n",
       "       0.21439654, 0.21679503, 0.22174066, 0.22324175, 0.22334021,\n",
       "       0.22388256, 0.22480756, 0.22544879, 0.22559953, 0.22610956,\n",
       "       0.22766024, 0.22824681, 0.22937793, 0.22948587, 0.23076671,\n",
       "       0.23136997, 0.23277849, 0.23493785, 0.23598534, 0.23709565,\n",
       "       0.239461  , 0.24006414, 0.24070662, 0.24142587, 0.24180543,\n",
       "       0.24212575, 0.24315977, 0.24351484, 0.24430746, 0.24450552,\n",
       "       0.24467361, 0.24499458, 0.24519938, 0.245323  , 0.2474845 ,\n",
       "       0.2487567 , 0.24885273, 0.24965078, 0.25093305, 0.25105768,\n",
       "       0.25109375, 0.25115013, 0.2514323 , 0.25218987, 0.2521904 ,\n",
       "       0.25223887, 0.25250208, 0.25297177, 0.25316906, 0.25388664,\n",
       "       0.25393957, 0.25468183, 0.25476176, 0.25499362, 0.2554297 ],\n",
       "      dtype=float32)"
      ]
     },
     "execution_count": 115,
     "metadata": {},
     "output_type": "execute_result"
    }
   ],
   "source": [
    "d_dists[0][idx_sorted]"
   ]
  },
  {
   "cell_type": "code",
   "execution_count": 116,
   "id": "f8f07c6e-45e4-4874-ac86-6967f6921737",
   "metadata": {},
   "outputs": [
    {
     "data": {
      "text/plain": [
       "array([41079, 92501, 82795, 92811, 22337, 79896, 83736, 11781, 11441,\n",
       "       41370, 50294, 24532, 15455, 13032, 45784, 20213, 41312, 69015,\n",
       "       53971, 97655, 74338, 12401, 19961, 24314, 24874, 57876, 79172,\n",
       "       13236, 74173, 67030, 45346, 38159, 99104, 92706, 44952, 33397,\n",
       "        8420, 97387, 96585, 99941, 99973, 29649, 75694, 49088, 93336,\n",
       "       12161, 60713, 50761, 77349, 32656, 63157, 17356, 20970, 42014,\n",
       "       42987, 73726, 75733, 75745, 83523, 38180,  6417, 84933, 40380,\n",
       "       53017, 76538, 94229, 52857, 64156, 53199, 11490, 46412, 43410,\n",
       "       88936, 61308, 62157, 25525, 83621, 94426, 51552, 94241,  5492,\n",
       "       52552,  9384, 73968, 38033,  5272, 29316, 95397, 75927,  6945,\n",
       "       81076, 16061, 19720, 21074, 37889, 65794, 33748, 72401, 83990,\n",
       "       86248])"
      ]
     },
     "execution_count": 116,
     "metadata": {},
     "output_type": "execute_result"
    }
   ],
   "source": [
    "d_anns[0][idx_sorted]"
   ]
  },
  {
   "cell_type": "code",
   "execution_count": 119,
   "id": "38c2eea5-d6d9-4f92-a906-f0a21f9d0222",
   "metadata": {},
   "outputs": [
    {
     "data": {
      "text/plain": [
       "(30,)"
      ]
     },
     "execution_count": 119,
     "metadata": {},
     "output_type": "execute_result"
    }
   ],
   "source": [
    "np.intersect1d(loaded_gt[0], d_anns[0][idx_sorted]).shape"
   ]
  },
  {
   "cell_type": "code",
   "execution_count": 113,
   "id": "51f84217-8864-4253-bb2e-1f84631449e5",
   "metadata": {},
   "outputs": [
    {
     "data": {
      "text/plain": [
       "array([79172, 15735, 22337,   231, 74173, 41079, 38159, 71849, 69015,\n",
       "       92811, 99973, 79896, 13236, 64156, 86179, 55218, 60622, 64728,\n",
       "       86341, 63839, 52857,   885, 83736, 87457, 36442, 24314, 73879,\n",
       "        5985, 20970, 60559,  5414, 26294, 42586, 41370, 22973,  4415,\n",
       "       23975, 82381, 15425, 79753, 19745, 74573, 40382,  8735, 70297,\n",
       "       23884, 92501, 66709, 91232, 61308, 94073,  4327, 25525,  7180,\n",
       "       12401,  5451, 59683, 17544, 53818, 52102, 85602,   898, 76553,\n",
       "       18967, 37889, 50123, 80243, 35693, 73074, 31649, 55412, 13493,\n",
       "       67226, 21472, 81544, 70033, 91179, 97387, 94426, 76538, 64253,\n",
       "       29033, 87037, 38033, 80913, 70410, 83588, 44952,  6911, 65794,\n",
       "       45784,  5492, 35205, 21690, 16711, 95028, 19961,  1708, 68450,\n",
       "       20333], dtype=int32)"
      ]
     },
     "execution_count": 113,
     "metadata": {},
     "output_type": "execute_result"
    }
   ],
   "source": [
    "loaded_gt[0]"
   ]
  },
  {
   "cell_type": "code",
   "execution_count": null,
   "id": "b6578ef1-23de-4c19-abda-6566edfd3136",
   "metadata": {},
   "outputs": [],
   "source": [
    "idx_sorted = d_dists[0].argsort(kind='stable', axis=1)[:, :k]\n",
    "# indexes the final arrays with the sorted indices\n",
    "# *_final arrays now have shape (queries.shape[0], k)\n",
    "idx = np.ogrid[tuple(map(slice, dists_final.shape))]\n",
    "idx[1] = idx_sorted\n",
    "dists_final = dists_final[tuple(idx)]\n",
    "anns_final = anns_final[tuple(idx)]\n"
   ]
  },
  {
   "cell_type": "code",
   "execution_count": 104,
   "id": "4521fba8-7317-4fb4-8f9a-79940602cf12",
   "metadata": {},
   "outputs": [
    {
     "data": {
      "text/plain": [
       "array([0.17378002, 0.3605494 , 0.46856803, 0.6289252 , 0.65206265,\n",
       "       0.6666372 , 0.6783974 , 0.6883215 , 0.7001161 , 0.7030965 ,\n",
       "       0.706066  , 0.71346486, 0.7171781 , 0.7208396 , 0.721431  ,\n",
       "       0.7243774 , 0.7434631 , 0.7573956 , 0.75858736, 0.7688472 ,\n",
       "       0.7739948 , 0.7766472 , 0.7815709 , 0.7853862 , 0.7907893 ,\n",
       "       0.79115874, 0.7914661 , 0.7922906 , 0.79235476, 0.79758537,\n",
       "       0.7982862 , 0.7986653 , 0.79881275, 0.7997116 , 0.8001335 ,\n",
       "       0.8024083 , 0.8087257 , 0.81066513, 0.81270504, 0.8175447 ,\n",
       "       0.8228152 , 0.8240747 , 0.827099  , 0.83256143, 0.834934  ,\n",
       "       0.8387216 , 0.8395598 , 0.84190094, 0.8499301 , 0.85575247,\n",
       "       0.8604746 , 0.8608321 , 0.864146  , 0.8701068 , 0.8733051 ,\n",
       "       0.87557167, 0.8759448 , 0.8759695 , 0.8811133 , 0.88512295,\n",
       "       0.8876426 , 0.90607846, 0.9212497 , 0.9243158 , 0.9243955 ,\n",
       "       0.9340605 , 0.9465519 , 0.9491627 , 0.9585603 , 0.9611607 ,\n",
       "       0.96749383, 0.9819918 , 0.9828195 , 0.98800534, 1.0044911 ,\n",
       "       1.005484  , 1.0071304 , 1.0127474 , 1.01352   , 1.0203013 ,\n",
       "       1.020605  , 1.0233043 , 1.0298843 , 1.0331038 , 1.0569171 ,\n",
       "       1.0623631 , 1.0767523 , 1.0790504 , 1.0951211 , 1.1331408 ,\n",
       "       1.1922213 , 0.11132693, 0.12166536, 0.12826711, 0.13174927,\n",
       "       0.13277352, 0.15488857, 0.1624754 , 0.17310399, 0.17365974,\n",
       "       0.17579103, 0.1803363 , 0.18899655, 0.18927264, 0.1937269 ,\n",
       "       0.20124173, 0.2026459 , 0.20522511, 0.20785218, 0.21041942,\n",
       "       0.21047169, 0.21256834, 0.21439654, 0.22388256, 0.22559953,\n",
       "       0.22766024, 0.22948587, 0.23076671, 0.23598534, 0.23709565,\n",
       "       0.24180543, 0.24430746, 0.24519938, 0.245323  , 0.25105768,\n",
       "       0.25115013, 0.2514323 , 0.25589174, 0.2563643 , 0.26080745,\n",
       "       0.26464486, 0.2689832 , 0.26975656, 0.27072227, 0.27426255,\n",
       "       0.2764693 , 0.2804538 , 0.28581107, 0.30104345, 0.30208212,\n",
       "       0.30245095, 0.3038944 , 0.30713415, 0.30908638, 0.30926883,\n",
       "       0.3148113 , 0.3221227 , 0.32580608, 0.32946712, 0.33034265,\n",
       "       0.3304835 , 0.3316375 , 0.3387251 , 0.34022772, 0.35537124,\n",
       "       0.36026186, 0.36151838, 0.36651748, 0.3712092 , 0.37302232,\n",
       "       0.37541485, 0.38142997, 0.40513718, 0.41422153, 0.41930705,\n",
       "       0.42076343, 0.43178064, 0.43915844, 0.44953907, 0.45079225,\n",
       "       0.45080698, 0.45505136, 0.45573783, 0.47028518, 0.48362124,\n",
       "       0.48891556, 0.533358  , 0.533435  , 0.54071414, 0.55800533,\n",
       "       0.5806199 , 0.6062918 , 0.6200335 , 0.6792509 , 0.6915331 ,\n",
       "       0.13217294, 0.14000309, 0.17150682, 0.18399197, 0.18607843,\n",
       "       0.2113486 , 0.22480756, 0.24142587, 0.24212575, 0.2474845 ,\n",
       "       0.24885273, 0.25223887, 0.25735396, 0.25773245, 0.26185942,\n",
       "       0.27519268, 0.28580612, 0.28777063, 0.29364443, 0.29657137,\n",
       "       0.29679054, 0.29769903, 0.29887432, 0.3025596 , 0.3057903 ,\n",
       "       0.3276567 , 0.33268428, 0.33582336, 0.33699477, 0.3398252 ,\n",
       "       0.34314156, 0.34509218, 0.3538533 , 0.36111033, 0.36337698,\n",
       "       0.36585587, 0.3785823 , 0.386662  , 0.3877862 , 0.38886583,\n",
       "       0.39946365, 0.41510564, 0.4209364 , 0.42461908, 0.44586927,\n",
       "       0.44632512, 0.44884408, 0.45245987, 0.45377034, 0.46307522,\n",
       "       0.4660151 , 0.47284913, 0.4819348 , 0.48537612, 0.49664712,\n",
       "       0.49774748, 0.50339735, 0.5068488 , 0.50786096, 0.5079595 ,\n",
       "       0.53143877, 0.5364762 , 0.53809756, 0.53896785, 0.5455016 ,\n",
       "       0.5478957 , 0.54857147, 0.54946053, 0.551939  , 0.56388825,\n",
       "       0.56411123, 0.5754482 , 0.580348  , 0.60480607, 0.611084  ,\n",
       "       0.6171986 , 0.6184675 , 0.61916745, 0.6239016 , 0.63973916,\n",
       "       0.68817246, 0.7093626 , 0.7181984 , 0.73485863, 0.7554474 ,\n",
       "       0.7756132 , 0.7773969 , 0.8195995 , 0.9420895 , 0.14461923,\n",
       "       0.15164298, 0.16162956, 0.16926277, 0.17129964, 0.17657101,\n",
       "       0.18241268, 0.20821685, 0.21274072, 0.21679503, 0.22174066,\n",
       "       0.22334021, 0.22544879, 0.22937793, 0.23277849, 0.239461  ,\n",
       "       0.24070662, 0.24315977, 0.24351484, 0.24450552, 0.24499458,\n",
       "       0.2521904 , 0.25250208, 0.25388664, 0.25393957, 0.25468183,\n",
       "       0.25476176, 0.25499362, 0.2554297 , 0.26042432, 0.26101124,\n",
       "       0.2631634 , 0.2660638 , 0.26878542, 0.26935917, 0.27030003,\n",
       "       0.27083528, 0.27306944, 0.27539557, 0.27721447, 0.2827927 ,\n",
       "       0.28484976, 0.28878856, 0.2902335 , 0.29208225, 0.29252225,\n",
       "       0.29290885, 0.2947421 , 0.2990138 , 0.2996838 , 0.30413455,\n",
       "       0.30425006, 0.307617  , 0.30791217, 0.30957985, 0.31053454,\n",
       "       0.31251967, 0.31645983, 0.31759644, 0.3240782 , 0.32550025,\n",
       "       0.32825315, 0.33194673, 0.33606058, 0.3370481 , 0.33762395,\n",
       "       0.33888853, 0.33905292, 0.34099865, 0.3430444 , 0.34500784,\n",
       "       0.34556806, 0.346505  , 0.34776014, 0.35632163, 0.3565663 ,\n",
       "       0.3570776 , 0.3579296 , 0.36289394, 0.36354882, 0.36656588,\n",
       "       0.36691517, 0.3709429 , 0.37764674, 0.37857437, 0.3887089 ,\n",
       "       0.39104193, 0.39225918, 0.39787477, 0.40208977, 0.41262782,\n",
       "       0.41919118, 0.42508858, 0.42925507, 0.43318766, 0.43440557,\n",
       "       0.4391657 , 0.4432788 , 0.4657364 , 0.47349757, 0.53426635,\n",
       "       0.534982  , 0.5503011 , 0.57181793, 0.70338744, 0.15859717,\n",
       "       0.1738388 , 0.2042849 , 0.2139656 , 0.22324175, 0.22824681,\n",
       "       0.23136997, 0.23493785, 0.2487567 , 0.24965078, 0.25093305,\n",
       "       0.25109375, 0.25218987, 0.25297177, 0.25316906, 0.25832433,\n",
       "       0.25966084, 0.26373065, 0.2717167 , 0.27172017, 0.27560347,\n",
       "       0.2926575 , 0.29418176, 0.29518813, 0.3136767 , 0.31852436,\n",
       "       0.32677943, 0.3278494 , 0.3317054 , 0.33601195, 0.3362769 ,\n",
       "       0.33991593, 0.341213  , 0.34294397, 0.34736806, 0.35037786,\n",
       "       0.35740775, 0.37800997, 0.39138138, 0.393925  , 0.39648807,\n",
       "       0.409396  , 0.40974796, 0.41181958, 0.41312456, 0.42522216,\n",
       "       0.43518627, 0.44631386, 0.45021456, 0.45250797, 0.45844895,\n",
       "       0.45893735, 0.46753842, 0.47143304, 0.48722762, 0.4973603 ,\n",
       "       0.53730357, 0.54657257, 0.5489115 , 0.5601419 , 0.5785688 ,\n",
       "       0.59627914, 0.6794051 , 0.7831878 , 0.1724832 , 0.18761033,\n",
       "       0.21334618, 0.21425837, 0.22610956, 0.24006414, 0.24467361,\n",
       "       0.25780213, 0.261468  , 0.26568455, 0.27129817, 0.2714821 ,\n",
       "       0.27704072, 0.28343987, 0.29573983, 0.2986496 , 0.3010766 ,\n",
       "       0.30297494, 0.30622876, 0.30640227, 0.31145108, 0.31166828,\n",
       "       0.3126465 , 0.31503195, 0.32973564, 0.33041686, 0.3348223 ,\n",
       "       0.3350615 , 0.33922702, 0.33972263, 0.34060633, 0.3412261 ,\n",
       "       0.3439089 , 0.34893698, 0.35389596, 0.35687625, 0.3614896 ,\n",
       "       0.37008482, 0.37292707, 0.37698925, 0.38381755, 0.38556254,\n",
       "       0.38626212, 0.386571  , 0.39245343, 0.39286506, 0.3951928 ,\n",
       "       0.3952312 , 0.39654207, 0.39887935, 0.39977276, 0.39977825,\n",
       "       0.4000324 , 0.40189046, 0.40274334, 0.40457648, 0.40634036,\n",
       "       0.41099894, 0.41264707, 0.41417694, 0.41420537, 0.41521537,\n",
       "       0.42309898, 0.42690963, 0.42925215, 0.43087602, 0.431498  ,\n",
       "       0.43350583, 0.43868762, 0.44188654, 0.44236362, 0.44324553,\n",
       "       0.4433654 , 0.44437325, 0.44558275, 0.44742244, 0.44798422,\n",
       "       0.4520741 , 0.45454383, 0.45473683, 0.46116418, 0.4676882 ,\n",
       "       0.46778506, 0.46872103, 0.46914834, 0.47089684, 0.47208893,\n",
       "       0.47271615, 0.47299445, 0.47440845, 0.4755736 , 0.47595346,\n",
       "       0.47777504, 0.47880006, 0.48179162, 0.4839189 , 0.48396778,\n",
       "       0.48553252, 0.48991704, 0.49051213, 0.49415946, 0.49704784,\n",
       "       0.4970634 , 0.49719846, 0.49759245, 0.49765235, 0.5029241 ,\n",
       "       0.5070872 , 0.51299345, 0.51513886, 0.5155487 , 0.5165627 ,\n",
       "       0.51657337, 0.5224472 , 0.52671504, 0.5291275 , 0.5293671 ,\n",
       "       0.5413197 , 0.5425075 , 0.5432701 , 0.54778796, 0.54893315,\n",
       "       0.56020224, 0.5630436 , 0.5642922 , 0.56693447, 0.57043314,\n",
       "       0.57110393, 0.5719285 , 0.576142  , 0.5771237 , 0.5780134 ,\n",
       "       0.58061635, 0.594226  , 0.60955536, 0.6104943 , 0.6163362 ,\n",
       "       0.62654686, 0.638646  , 0.64084685, 0.649531  , 0.65149784,\n",
       "       0.65153044, 0.6522269 , 0.6846532 , 0.6968227 , 0.74889565,\n",
       "       0.79633987, 0.82974964, 0.8726088 , 0.88709724, 0.9012013 ],\n",
       "      dtype=float32)"
      ]
     },
     "execution_count": 104,
     "metadata": {},
     "output_type": "execute_result"
    }
   ],
   "source": [
    "d_dists[0]"
   ]
  },
  {
   "cell_type": "code",
   "execution_count": 51,
   "id": "0c3f76d6-95cf-4af2-8d3d-627d8f20d53c",
   "metadata": {},
   "outputs": [
    {
     "data": {
      "text/plain": [
       "993"
      ]
     },
     "execution_count": 51,
     "metadata": {},
     "output_type": "execute_result"
    }
   ],
   "source": [
    "len(seq_res_all)"
   ]
  },
  {
   "cell_type": "code",
   "execution_count": 53,
   "id": "61929f98-80b8-4fa7-886a-90e9fe54dbcd",
   "metadata": {},
   "outputs": [
    {
     "data": {
      "text/plain": [
       "(425, 291)"
      ]
     },
     "execution_count": 53,
     "metadata": {},
     "output_type": "execute_result"
    }
   ],
   "source": [
    "seq_res_all[0].shape"
   ]
  },
  {
   "cell_type": "code",
   "execution_count": 51,
   "id": "34f830ce-11a4-4873-bcfd-f5ad8ba157aa",
   "metadata": {},
   "outputs": [
    {
     "data": {
      "text/plain": [
       "(172, 8000)"
      ]
     },
     "execution_count": 51,
     "metadata": {},
     "output_type": "execute_result"
    }
   ],
   "source": [
    "anns_final[queries_positions].shape"
   ]
  },
  {
   "cell_type": "code",
   "execution_count": null,
   "id": "d1ceed8a-f4c4-40b4-b5ad-de97534b3a5c",
   "metadata": {},
   "outputs": [],
   "source": [
    "anns_final[queries_positions][:, :500] = np.pad(ann_relative, [(0, 0), (0, 16*500)], 'constant', constant_values=(-1))"
   ]
  },
  {
   "cell_type": "code",
   "execution_count": 50,
   "id": "db3b9010-b8ec-4bb1-83bc-c5587cabe692",
   "metadata": {},
   "outputs": [
    {
     "data": {
      "text/plain": [
       "(172, 43)"
      ]
     },
     "execution_count": 50,
     "metadata": {},
     "output_type": "execute_result"
    }
   ],
   "source": [
    "ann_relative.shape"
   ]
  },
  {
   "cell_type": "code",
   "execution_count": 52,
   "id": "dd590380-0b7a-4a41-879b-d7adae442d14",
   "metadata": {},
   "outputs": [
    {
     "data": {
      "text/plain": [
       "array([0.74044925, 0.6198943 , 0.4426393 , 0.439124  , 0.4717793 ,\n",
       "       0.4985193 , 0.38455868, 0.4467218 , 0.5428933 , 0.41881138,\n",
       "       0.4009906 , 0.51014876, 0.6466647 , 0.4652685 , 0.34292692,\n",
       "       0.33718348, 0.5066345 , 0.50183415, 0.7392156 , 0.35972703,\n",
       "       0.8137438 , 0.45306224, 0.5065808 , 0.30858958, 0.53364754,\n",
       "       0.61959165, 0.39716643, 0.31557763, 0.36970794, 0.55810094,\n",
       "       0.4994421 , 0.61537176, 0.62205964, 0.5574581 , 0.465456  ,\n",
       "       0.44837725, 0.52410376, 0.52498335, 0.6635529 , 0.6834788 ,\n",
       "       0.5301356 , 0.44374007, 0.45452183], dtype=float32)"
      ]
     },
     "execution_count": 52,
     "metadata": {},
     "output_type": "execute_result"
    }
   ],
   "source": [
    "res[0]"
   ]
  },
  {
   "cell_type": "code",
   "execution_count": 47,
   "id": "76e7cf35-6933-48eb-9f80-84312d45bc72",
   "metadata": {},
   "outputs": [
    {
     "data": {
      "text/plain": [
       "(172, 43)"
      ]
     },
     "execution_count": 47,
     "metadata": {},
     "output_type": "execute_result"
    }
   ],
   "source": [
    "res.shape"
   ]
  },
  {
   "cell_type": "code",
   "execution_count": 455,
   "id": "e644eaf5-ff9e-48c5-8a97-8405ad552b97",
   "metadata": {},
   "outputs": [
    {
     "data": {
      "text/plain": [
       "[73888,\n",
       " 54204,\n",
       " 58761,\n",
       " 68824,\n",
       " 74026,\n",
       " 77886,\n",
       " 79138,\n",
       " 1507,\n",
       " 77284,\n",
       " 16580,\n",
       " 95976,\n",
       " 92606,\n",
       " 38227,\n",
       " 61929,\n",
       " 13108,\n",
       " 37540,\n",
       " 1907,\n",
       " 50224,\n",
       " 71437,\n",
       " 84744,\n",
       " 52368,\n",
       " 33756,\n",
       " 49898,\n",
       " 6391,\n",
       " 9137,\n",
       " 28213,\n",
       " 44122,\n",
       " 21867,\n",
       " 1333,\n",
       " 40773,\n",
       " 2779,\n",
       " 46945,\n",
       " 31691,\n",
       " 64678,\n",
       " 37723,\n",
       " 49090,\n",
       " 38932,\n",
       " 70390,\n",
       " 17545,\n",
       " 97973,\n",
       " 49465,\n",
       " 47223,\n",
       " 81845,\n",
       " 83863,\n",
       " 5153,\n",
       " 7443,\n",
       " 82886,\n",
       " 64807,\n",
       " 17825,\n",
       " 82392,\n",
       " 29197,\n",
       " 13482,\n",
       " 12207,\n",
       " 23670,\n",
       " 98867,\n",
       " 58620,\n",
       " 64300,\n",
       " 81764,\n",
       " 65857,\n",
       " 51972,\n",
       " 91567,\n",
       " 15621,\n",
       " 90807,\n",
       " 82556,\n",
       " 3031,\n",
       " 8435,\n",
       " 51322,\n",
       " 75312,\n",
       " 45557,\n",
       " 99069,\n",
       " 42764,\n",
       " 13027,\n",
       " 66749,\n",
       " 3792,\n",
       " 33591,\n",
       " 5678,\n",
       " 44965,\n",
       " 21430,\n",
       " 93997,\n",
       " 48363,\n",
       " 23726,\n",
       " 99846,\n",
       " 57963,\n",
       " 64221,\n",
       " 99443,\n",
       " 52113,\n",
       " 99195,\n",
       " 21391,\n",
       " 21856,\n",
       " 89462,\n",
       " 64301,\n",
       " 86749,\n",
       " 40882,\n",
       " 46889,\n",
       " 60874,\n",
       " 92128,\n",
       " 34903,\n",
       " 30060,\n",
       " 86110,\n",
       " 29468,\n",
       " 55691,\n",
       " 49292,\n",
       " 63280,\n",
       " 9203,\n",
       " 38986,\n",
       " 62417,\n",
       " 19679,\n",
       " 97446,\n",
       " 32743,\n",
       " 74665,\n",
       " 67194,\n",
       " 33738,\n",
       " 25128,\n",
       " 51774,\n",
       " 66865,\n",
       " 51647,\n",
       " 92331,\n",
       " 86638,\n",
       " 89967,\n",
       " 53650,\n",
       " 6100,\n",
       " 53750,\n",
       " 81368,\n",
       " 52904,\n",
       " 94075,\n",
       " 13689,\n",
       " 81035,\n",
       " 87245,\n",
       " 12009,\n",
       " 1739,\n",
       " 36018,\n",
       " 44792,\n",
       " 50710,\n",
       " 23179,\n",
       " 11150,\n",
       " 62426,\n",
       " 43431,\n",
       " 28502,\n",
       " 33063,\n",
       " 1543,\n",
       " 95624,\n",
       " 48977,\n",
       " 87509,\n",
       " 3384,\n",
       " 53710,\n",
       " 33759,\n",
       " 68371,\n",
       " 17716,\n",
       " 11068,\n",
       " 12368,\n",
       " 61731,\n",
       " 92832,\n",
       " 25715,\n",
       " 31605,\n",
       " 69017,\n",
       " 42635,\n",
       " 83736,\n",
       " 29595,\n",
       " 33335,\n",
       " 56517,\n",
       " 16423,\n",
       " 87457,\n",
       " 94607,\n",
       " 28450,\n",
       " 50720,\n",
       " 43356,\n",
       " 23617,\n",
       " 18722,\n",
       " 92815,\n",
       " 41202,\n",
       " 60133,\n",
       " 9455,\n",
       " 9429,\n",
       " 41466,\n",
       " 52837,\n",
       " 57129,\n",
       " 28936,\n",
       " 61653,\n",
       " 46971,\n",
       " 57569,\n",
       " 31108,\n",
       " 75909,\n",
       " 60378,\n",
       " 48217,\n",
       " 25981,\n",
       " 78482,\n",
       " 33435,\n",
       " 13449,\n",
       " 76386,\n",
       " 39947,\n",
       " 50254,\n",
       " 47065,\n",
       " 88102,\n",
       " 85003,\n",
       " 6445,\n",
       " 24250,\n",
       " 35147,\n",
       " 99870,\n",
       " 73568,\n",
       " 94407,\n",
       " 58631,\n",
       " 76639,\n",
       " 68309,\n",
       " 61822,\n",
       " 64351,\n",
       " 79701,\n",
       " 97291,\n",
       " 53133,\n",
       " 29909,\n",
       " 88307,\n",
       " 19341,\n",
       " 80434,\n",
       " 63522,\n",
       " 40217,\n",
       " 16595,\n",
       " 52765,\n",
       " 58692,\n",
       " 99873,\n",
       " 31956,\n",
       " 49585,\n",
       " 60930,\n",
       " 56091,\n",
       " 43521,\n",
       " 20227,\n",
       " 74790,\n",
       " 50684,\n",
       " 1475,\n",
       " 48389,\n",
       " 30440,\n",
       " 2523,\n",
       " 19349,\n",
       " 22136,\n",
       " 27362,\n",
       " 8538,\n",
       " 59092,\n",
       " 94452,\n",
       " 86108,\n",
       " 82485,\n",
       " 39788,\n",
       " 99073,\n",
       " 40846,\n",
       " 87177,\n",
       " 58958,\n",
       " 302,\n",
       " 6660,\n",
       " 14230,\n",
       " 38825,\n",
       " 80438,\n",
       " 46551,\n",
       " 78289,\n",
       " 21098,\n",
       " 28829,\n",
       " 51695,\n",
       " 67191,\n",
       " 73850,\n",
       " 43514,\n",
       " 37709,\n",
       " 19924,\n",
       " 16958,\n",
       " 48716,\n",
       " 99725,\n",
       " 58602,\n",
       " 94435,\n",
       " 71582,\n",
       " 75731,\n",
       " 8215,\n",
       " 96539,\n",
       " 7602,\n",
       " 62822,\n",
       " 81398,\n",
       " 8675,\n",
       " 30942,\n",
       " 76917,\n",
       " 53270,\n",
       " 14969,\n",
       " 56048,\n",
       " 12493,\n",
       " 29891,\n",
       " 18902,\n",
       " 7642,\n",
       " 40565,\n",
       " 19987,\n",
       " 89859,\n",
       " 70604,\n",
       " 22337,\n",
       " 24532,\n",
       " 20213,\n",
       " 41312,\n",
       " 74338,\n",
       " 57876,\n",
       " 79172,\n",
       " 52102,\n",
       " 96585,\n",
       " 75694,\n",
       " 50761,\n",
       " 42987,\n",
       " 6417,\n",
       " 76538,\n",
       " 53199,\n",
       " 25525,\n",
       " 94426,\n",
       " 29316,\n",
       " 75927,\n",
       " 92814,\n",
       " 53203,\n",
       " 95716,\n",
       " 35693,\n",
       " 88681,\n",
       " 9612,\n",
       " 81660,\n",
       " 63054,\n",
       " 2767,\n",
       " 32203,\n",
       " 44087,\n",
       " 29732,\n",
       " 63920,\n",
       " 12589,\n",
       " 20641,\n",
       " 17378,\n",
       " 64161,\n",
       " 39177,\n",
       " 42586,\n",
       " 65277,\n",
       " 90627,\n",
       " 9398,\n",
       " 11074,\n",
       " 46769,\n",
       " 59829,\n",
       " 26245,\n",
       " 54596,\n",
       " 20690,\n",
       " 68154,\n",
       " 15332,\n",
       " 17544,\n",
       " 53404,\n",
       " 12683,\n",
       " 40276,\n",
       " 40992,\n",
       " 52281,\n",
       " 11493,\n",
       " 90653,\n",
       " 69142,\n",
       " 56778,\n",
       " 96654,\n",
       " 91072,\n",
       " 95486,\n",
       " 9253,\n",
       " 28427,\n",
       " 31693,\n",
       " 84752,\n",
       " 41585,\n",
       " 38715,\n",
       " 39186,\n",
       " 71602,\n",
       " 2651,\n",
       " 27031,\n",
       " 87649,\n",
       " 9591,\n",
       " 48846,\n",
       " 5573,\n",
       " 30690,\n",
       " 51703,\n",
       " 10439,\n",
       " 40207,\n",
       " 47284,\n",
       " 62817,\n",
       " 95626,\n",
       " 54978,\n",
       " 97158,\n",
       " 6444,\n",
       " 82203,\n",
       " 18774,\n",
       " 42359,\n",
       " 34555,\n",
       " 83668,\n",
       " 69601,\n",
       " 93547,\n",
       " 79411,\n",
       " 39882,\n",
       " 98592,\n",
       " 61203,\n",
       " 80842,\n",
       " 76675,\n",
       " 8306,\n",
       " 11565,\n",
       " 78359,\n",
       " 95532,\n",
       " 10341,\n",
       " 16284,\n",
       " 69528,\n",
       " 66240,\n",
       " 47163,\n",
       " 79029,\n",
       " 51158,\n",
       " 78974,\n",
       " 34532,\n",
       " 22764,\n",
       " 67294,\n",
       " 24063,\n",
       " 96886,\n",
       " 82183,\n",
       " 43234,\n",
       " 72699,\n",
       " 62599,\n",
       " 95695,\n",
       " 36403,\n",
       " 68908,\n",
       " 60418,\n",
       " 53103,\n",
       " 44066,\n",
       " 24475,\n",
       " 87707,\n",
       " 90809,\n",
       " 20787,\n",
       " 92810,\n",
       " 16336,\n",
       " 21121,\n",
       " 26415,\n",
       " 46918,\n",
       " 16037,\n",
       " 20578,\n",
       " 17110,\n",
       " 40574,\n",
       " 67587,\n",
       " 93669,\n",
       " 67021,\n",
       " 55166,\n",
       " 58911,\n",
       " 36882,\n",
       " 41906,\n",
       " 46204,\n",
       " 68048,\n",
       " 34704,\n",
       " 60906,\n",
       " 97632,\n",
       " 15431,\n",
       " 28657,\n",
       " 11876,\n",
       " 54238,\n",
       " 6640,\n",
       " 61675,\n",
       " 14940,\n",
       " 98427,\n",
       " 29982,\n",
       " 9778,\n",
       " 62516,\n",
       " 78749,\n",
       " 51293,\n",
       " 17359,\n",
       " 31624,\n",
       " 39805,\n",
       " 72798,\n",
       " 96955,\n",
       " 2460,\n",
       " 92642,\n",
       " 61818,\n",
       " 9261,\n",
       " 89501,\n",
       " 98128,\n",
       " 94264,\n",
       " 96145,\n",
       " 67349,\n",
       " 76404,\n",
       " 20858,\n",
       " 15096,\n",
       " 31368,\n",
       " 73823,\n",
       " 56889,\n",
       " 8734,\n",
       " 27991,\n",
       " 28871,\n",
       " 81532,\n",
       " 6311,\n",
       " 92501,\n",
       " 11781,\n",
       " 15455,\n",
       " 45784,\n",
       " 97655,\n",
       " 12401,\n",
       " 24874,\n",
       " 67030,\n",
       " 45346,\n",
       " 29649,\n",
       " 64156,\n",
       " 6945,\n",
       " 47146,\n",
       " 28408,\n",
       " 5936,\n",
       " 54384,\n",
       " 95027,\n",
       " 59249,\n",
       " 6060,\n",
       " 43935,\n",
       " 5811,\n",
       " 18010,\n",
       " 37303,\n",
       " 81024,\n",
       " 26205,\n",
       " 13231,\n",
       " 36408,\n",
       " 41192,\n",
       " 56668,\n",
       " 80594,\n",
       " 60534,\n",
       " 9488,\n",
       " 26811,\n",
       " 31041,\n",
       " 13973,\n",
       " 21798,\n",
       " 32989,\n",
       " 19934,\n",
       " 37156,\n",
       " 31234,\n",
       " 49517,\n",
       " 26296,\n",
       " 59291,\n",
       " 46057,\n",
       " 45758,\n",
       " 56436,\n",
       " 27238,\n",
       " 55794,\n",
       " 54518,\n",
       " 2812,\n",
       " 49778,\n",
       " 33993,\n",
       " 28087,\n",
       " 28917,\n",
       " 17527,\n",
       " 93371,\n",
       " 21450,\n",
       " 66881,\n",
       " 9729,\n",
       " 6961,\n",
       " 38054,\n",
       " 99503,\n",
       " 59688,\n",
       " 78448,\n",
       " 14630,\n",
       " 82483,\n",
       " 85954,\n",
       " 33865,\n",
       " 67624,\n",
       " 21508,\n",
       " 71992,\n",
       " 89247,\n",
       " 24314,\n",
       " 77349,\n",
       " 53017,\n",
       " 52857,\n",
       " 5492,\n",
       " 43311,\n",
       " 271,\n",
       " 95028,\n",
       " 116,\n",
       " 63839,\n",
       " 64806,\n",
       " 62084,\n",
       " 65325,\n",
       " 14376,\n",
       " 98936,\n",
       " 31196,\n",
       " 66496,\n",
       " 71643,\n",
       " 26518,\n",
       " 58795,\n",
       " 62455,\n",
       " 4387,\n",
       " 1179,\n",
       " 28991,\n",
       " 76136,\n",
       " 83167,\n",
       " 81329,\n",
       " 74261,\n",
       " 24054,\n",
       " 22535,\n",
       " 98107,\n",
       " 50677,\n",
       " 23188,\n",
       " 23020,\n",
       " 59642,\n",
       " 2126,\n",
       " 24855,\n",
       " 93224,\n",
       " 39274,\n",
       " 35960,\n",
       " 62533,\n",
       " 99452,\n",
       " 50815,\n",
       " 58784,\n",
       " 30281,\n",
       " 86928,\n",
       " 32242,\n",
       " 98606,\n",
       " 18882]"
      ]
     },
     "execution_count": 455,
     "metadata": {},
     "output_type": "execute_result"
    }
   ],
   "source": [
    "anns_list[0]"
   ]
  },
  {
   "cell_type": "code",
   "execution_count": 424,
   "id": "45c77640-885f-4487-93ac-a1a7bb1dffa3",
   "metadata": {},
   "outputs": [
    {
     "data": {
      "text/plain": [
       "45"
      ]
     },
     "execution_count": 424,
     "metadata": {},
     "output_type": "execute_result"
    }
   ],
   "source": [
    "max(np.where(anns_final[queries_positions] != -1)[1])"
   ]
  },
  {
   "cell_type": "code",
   "execution_count": 426,
   "id": "391017c0-76f2-4bc5-aed3-8d998f36047e",
   "metadata": {},
   "outputs": [
    {
     "data": {
      "text/plain": [
       "array([[-1., -1., -1., ..., -1., -1., -1.],\n",
       "       [-1., -1., -1., ..., -1., -1., -1.],\n",
       "       [-1., -1., -1., ..., -1., -1., -1.],\n",
       "       ...,\n",
       "       [-1., -1., -1., ..., -1., -1., -1.],\n",
       "       [-1., -1., -1., ..., -1., -1., -1.],\n",
       "       [-1., -1., -1., ..., -1., -1., -1.]])"
      ]
     },
     "execution_count": 426,
     "metadata": {},
     "output_type": "execute_result"
    }
   ],
   "source": [
    "anns_final[queries_positions][:, 46:]"
   ]
  },
  {
   "cell_type": "code",
   "execution_count": null,
   "id": "ce9b5c9a-8b8c-4a21-824a-87f70a5f6e7d",
   "metadata": {},
   "outputs": [],
   "source": [
    "np.pad(ann_relative, [(0, 0), (0, 200-res.shape[1])], 'constant')"
   ]
  },
  {
   "cell_type": "code",
   "execution_count": 407,
   "id": "25df13a0-8db5-4447-b8b0-3d0a17ce69b7",
   "metadata": {},
   "outputs": [
    {
     "data": {
      "text/plain": [
       "array([[13, 25, 14, ...,  0,  0,  0],\n",
       "       [17, 29, 26, ...,  0,  0,  0],\n",
       "       [25, 13, 19, ...,  0,  0,  0],\n",
       "       ...,\n",
       "       [10,  4, 43, ...,  0,  0,  0],\n",
       "       [36, 20, 43, ...,  0,  0,  0],\n",
       "       [ 7, 35, 32, ...,  0,  0,  0]])"
      ]
     },
     "execution_count": 407,
     "metadata": {},
     "output_type": "execute_result"
    }
   ],
   "source": [
    "np.pad(ann_relative, [(0, 0), (0, 200-res.shape[1])], 'constant')"
   ]
  },
  {
   "cell_type": "code",
   "execution_count": 415,
   "id": "64fb3e5f-f701-48ff-820b-6a4ebcbf88d7",
   "metadata": {},
   "outputs": [
    {
     "data": {
      "text/plain": [
       "array([[0., 0., 0., ..., 0., 0., 0.],\n",
       "       [0., 0., 0., ..., 0., 0., 0.],\n",
       "       [0., 0., 0., ..., 0., 0., 0.],\n",
       "       ...,\n",
       "       [0., 0., 0., ..., 0., 0., 0.],\n",
       "       [0., 0., 0., ..., 0., 0., 0.],\n",
       "       [0., 0., 0., ..., 0., 0., 0.]])"
      ]
     },
     "execution_count": 415,
     "metadata": {},
     "output_type": "execute_result"
    }
   ],
   "source": [
    "anns_final[queries_positions]"
   ]
  },
  {
   "cell_type": "code",
   "execution_count": 414,
   "id": "e8502156-a10c-41a3-9885-82f50ba44a96",
   "metadata": {},
   "outputs": [
    {
     "data": {
      "text/plain": [
       "array([[ True,  True,  True, ...,  True,  True,  True],\n",
       "       [ True,  True,  True, ...,  True,  True,  True],\n",
       "       [ True,  True,  True, ...,  True,  True,  True],\n",
       "       ...,\n",
       "       [ True,  True,  True, ...,  True,  True,  True],\n",
       "       [ True,  True,  True, ...,  True,  True,  True],\n",
       "       [ True,  True,  True, ...,  True,  True,  True]])"
      ]
     },
     "execution_count": 414,
     "metadata": {},
     "output_type": "execute_result"
    }
   ],
   "source": [
    "anns_final[queries_positions] != -1"
   ]
  },
  {
   "cell_type": "code",
   "execution_count": 387,
   "id": "01b1e4ad-252c-4f07-b296-260c39eb2a33",
   "metadata": {},
   "outputs": [
    {
     "data": {
      "text/plain": [
       "array([ 763, 1539, 2351, 2535, 2800, 2866, 4347, 4521, 4661, 4881, 4956,\n",
       "       5120, 5808, 6760, 7696, 8032, 9665, 9788])"
      ]
     },
     "execution_count": 387,
     "metadata": {},
     "output_type": "execute_result"
    }
   ],
   "source": [
    "bucket_positions"
   ]
  },
  {
   "cell_type": "code",
   "execution_count": 382,
   "id": "a686cefc-6726-4595-b7ba-456372f89744",
   "metadata": {},
   "outputs": [],
   "source": [
    "npw_r = np.where(anns_final[bucket_positions] == 0)"
   ]
  },
  {
   "cell_type": "code",
   "execution_count": 384,
   "id": "b6d7cb40-992e-413b-8a11-66e0c97c0a5c",
   "metadata": {},
   "outputs": [
    {
     "data": {
      "text/plain": [
       "(array([ 0,  0,  0, ..., 17, 17, 17]),\n",
       " array([ 15,  46,  47, ..., 197, 198, 199]))"
      ]
     },
     "execution_count": 384,
     "metadata": {},
     "output_type": "execute_result"
    }
   ],
   "source": [
    "npw_r[0], npw_r[1]"
   ]
  },
  {
   "cell_type": "code",
   "execution_count": 385,
   "id": "53567d8f-17f7-406f-a476-bbfebb9b63ce",
   "metadata": {},
   "outputs": [
    {
     "data": {
      "text/plain": [
       "array([0., 0., 0., ..., 0., 0., 0.])"
      ]
     },
     "execution_count": 385,
     "metadata": {},
     "output_type": "execute_result"
    }
   ],
   "source": [
    "anns_final[bucket_positions][npw_r[0], npw_r[1]]"
   ]
  },
  {
   "cell_type": "code",
   "execution_count": 368,
   "id": "3c890cea-16b9-4168-be46-09428772dfe4",
   "metadata": {},
   "outputs": [
    {
     "data": {
      "text/plain": [
       "(18, 200)"
      ]
     },
     "execution_count": 368,
     "metadata": {},
     "output_type": "execute_result"
    }
   ],
   "source": [
    "(anns_final[bucket_positions] == 0).shape"
   ]
  },
  {
   "cell_type": "code",
   "execution_count": 373,
   "id": "82874b4c-2797-44af-9b5f-115e22445b33",
   "metadata": {},
   "outputs": [
    {
     "ename": "ValueError",
     "evalue": "Cross index must be 1 dimensional",
     "output_type": "error",
     "traceback": [
      "\u001b[0;31m---------------------------------------------------------------------------\u001b[0m",
      "\u001b[0;31mValueError\u001b[0m                                Traceback (most recent call last)",
      "\u001b[0;32m<ipython-input-373-6d146d219ac8>\u001b[0m in \u001b[0;36m<module>\u001b[0;34m\u001b[0m\n\u001b[0;32m----> 1\u001b[0;31m \u001b[0mnp\u001b[0m\u001b[0;34m.\u001b[0m\u001b[0mix_\u001b[0m\u001b[0;34m(\u001b[0m\u001b[0manns_final\u001b[0m\u001b[0;34m[\u001b[0m\u001b[0mbucket_positions\u001b[0m\u001b[0;34m]\u001b[0m \u001b[0;34m==\u001b[0m \u001b[0;36m0\u001b[0m\u001b[0;34m)\u001b[0m\u001b[0;34m\u001b[0m\u001b[0m\n\u001b[0m",
      "\u001b[0;32m<__array_function__ internals>\u001b[0m in \u001b[0;36mix_\u001b[0;34m(*args, **kwargs)\u001b[0m\n",
      "\u001b[0;32m/mnt/storage-brno11-elixir/home/tslaninakova/dynamic-lmi/dynamic-lmi-env/lib/python3.6/site-packages/numpy/lib/index_tricks.py\u001b[0m in \u001b[0;36mix_\u001b[0;34m(*args)\u001b[0m\n\u001b[1;32m     99\u001b[0m                 \u001b[0mnew\u001b[0m \u001b[0;34m=\u001b[0m \u001b[0mnew\u001b[0m\u001b[0;34m.\u001b[0m\u001b[0mastype\u001b[0m\u001b[0;34m(\u001b[0m\u001b[0m_nx\u001b[0m\u001b[0;34m.\u001b[0m\u001b[0mintp\u001b[0m\u001b[0;34m)\u001b[0m\u001b[0;34m\u001b[0m\u001b[0m\n\u001b[1;32m    100\u001b[0m         \u001b[0;32mif\u001b[0m \u001b[0mnew\u001b[0m\u001b[0;34m.\u001b[0m\u001b[0mndim\u001b[0m \u001b[0;34m!=\u001b[0m \u001b[0;36m1\u001b[0m\u001b[0;34m:\u001b[0m\u001b[0;34m\u001b[0m\u001b[0m\n\u001b[0;32m--> 101\u001b[0;31m             \u001b[0;32mraise\u001b[0m \u001b[0mValueError\u001b[0m\u001b[0;34m(\u001b[0m\u001b[0;34m\"Cross index must be 1 dimensional\"\u001b[0m\u001b[0;34m)\u001b[0m\u001b[0;34m\u001b[0m\u001b[0m\n\u001b[0m\u001b[1;32m    102\u001b[0m         \u001b[0;32mif\u001b[0m \u001b[0missubdtype\u001b[0m\u001b[0;34m(\u001b[0m\u001b[0mnew\u001b[0m\u001b[0;34m.\u001b[0m\u001b[0mdtype\u001b[0m\u001b[0;34m,\u001b[0m \u001b[0m_nx\u001b[0m\u001b[0;34m.\u001b[0m\u001b[0mbool_\u001b[0m\u001b[0;34m)\u001b[0m\u001b[0;34m:\u001b[0m\u001b[0;34m\u001b[0m\u001b[0m\n\u001b[1;32m    103\u001b[0m             \u001b[0mnew\u001b[0m\u001b[0;34m,\u001b[0m \u001b[0;34m=\u001b[0m \u001b[0mnew\u001b[0m\u001b[0;34m.\u001b[0m\u001b[0mnonzero\u001b[0m\u001b[0;34m(\u001b[0m\u001b[0;34m)\u001b[0m\u001b[0;34m\u001b[0m\u001b[0m\n",
      "\u001b[0;31mValueError\u001b[0m: Cross index must be 1 dimensional"
     ]
    }
   ],
   "source": [
    "np.ix_(anns_final[bucket_positions] == 0)"
   ]
  },
  {
   "cell_type": "code",
   "execution_count": 374,
   "id": "6886ba05-64ba-42c0-ae0a-02e47f1f7124",
   "metadata": {},
   "outputs": [
    {
     "data": {
      "text/plain": [
       "array([0., 0., 0., ..., 0., 0., 0.])"
      ]
     },
     "execution_count": 374,
     "metadata": {},
     "output_type": "execute_result"
    }
   ],
   "source": [
    "anns_final[bucket_positions][anns_final[bucket_positions] == 0]"
   ]
  },
  {
   "cell_type": "code",
   "execution_count": 375,
   "id": "12f0fc3f-e190-4738-86df-51a487f81b8e",
   "metadata": {},
   "outputs": [
    {
     "data": {
      "text/plain": [
       "array([0., 0., 0., ..., 0., 0., 0.])"
      ]
     },
     "execution_count": 375,
     "metadata": {},
     "output_type": "execute_result"
    }
   ],
   "source": [
    "anns_final[bucket_positions][...,anns_final[bucket_positions] == 0]"
   ]
  },
  {
   "cell_type": "code",
   "execution_count": 358,
   "id": "1483e27a-29b6-4810-8228-22d5f2758018",
   "metadata": {},
   "outputs": [
    {
     "data": {
      "text/plain": [
       "array([13., 25., 14., 22., 11., 19.,  7.,  8., 12., 41., 31., 26., 32.,\n",
       "       24., 18.,  0., 34., 35., 28.,  6., 44.,  3., 39., 27., 15.,  4.,\n",
       "       17., 43., 23., 10., 20.,  2., 21., 45., 16., 38., 37., 29.,  9.,\n",
       "       30., 36.,  1., 42., 33., 40.,  5.,  0.,  0.,  0.,  0.,  0.,  0.,\n",
       "        0.,  0.,  0.,  0.,  0.,  0.,  0.,  0.,  0.,  0.,  0.,  0.,  0.,\n",
       "        0.,  0.,  0.,  0.,  0.,  0.,  0.,  0.,  0.,  0.,  0.,  0.,  0.,\n",
       "        0.,  0.,  0.,  0.,  0.,  0.,  0.,  0.,  0.,  0.,  0.,  0.,  0.,\n",
       "        0.,  0.,  0.,  0.,  0.,  0.,  0.,  0.,  0.,  0.,  0.,  0.,  0.,\n",
       "        0.,  0.,  0.,  0.,  0.,  0.,  0.,  0.,  0.,  0.,  0.,  0.,  0.,\n",
       "        0.,  0.,  0.,  0.,  0.,  0.,  0.,  0.,  0.,  0.,  0.,  0.,  0.,\n",
       "        0.,  0.,  0.,  0.,  0.,  0.,  0.,  0.,  0.,  0.,  0.,  0.,  0.,\n",
       "        0.,  0.,  0.,  0.,  0.,  0.,  0.,  0.,  0.,  0.,  0.,  0.,  0.,\n",
       "        0.,  0.,  0.,  0.,  0.,  0.,  0.,  0.,  0.,  0.,  0.,  0.,  0.,\n",
       "        0.,  0.,  0.,  0.,  0.,  0.,  0.,  0.,  0.,  0.,  0.,  0.,  0.,\n",
       "        0.,  0.,  0.,  0.,  0.,  0.,  0.,  0.,  0.,  0.,  0.,  0.,  0.,\n",
       "        0.,  0.,  0.,  0.,  0.])"
      ]
     },
     "execution_count": 358,
     "metadata": {},
     "output_type": "execute_result"
    }
   ],
   "source": [
    "anns_final[bucket_positions][0]"
   ]
  },
  {
   "cell_type": "code",
   "execution_count": 354,
   "id": "edc595b0-fa79-4b7f-80b5-1539067caf68",
   "metadata": {},
   "outputs": [
    {
     "data": {
      "text/plain": [
       "array([[ 12.,  39.,  25., ...,   0.,   0.,   0.],\n",
       "       [ 19.,  17.,  43., ...,   0.,   0.,   0.],\n",
       "       [ 84.,  41.,  88., ...,   0.,   0.,   0.],\n",
       "       ...,\n",
       "       [ 60., 113.,  93., ..., 184., 181., 144.],\n",
       "       [151.,  24., 183., ..., 110., 163.,  17.],\n",
       "       [ 95., 124., 109., ...,   0.,   0.,   0.]])"
      ]
     },
     "execution_count": 354,
     "metadata": {},
     "output_type": "execute_result"
    }
   ],
   "source": [
    "anns_final"
   ]
  },
  {
   "cell_type": "code",
   "execution_count": 329,
   "id": "0edca093-c5ab-4b65-8f48-1c75eccffc05",
   "metadata": {},
   "outputs": [],
   "source": [
    "anns_final[res_all[res_all[:, 1] == 0][:, 0]] = np.pad(ann_relative, [(0, 0), (0, 200-25)], 'constant')"
   ]
  },
  {
   "cell_type": "code",
   "execution_count": null,
   "id": "f315b5f2-c510-4c39-8f02-7d0504314e0a",
   "metadata": {},
   "outputs": [],
   "source": [
    "%%time\n",
    "res_all[res_all[:, 1] == 0]"
   ]
  },
  {
   "cell_type": "code",
   "execution_count": 312,
   "id": "3831b9b8-9203-462d-bab8-a48bbe29d5d2",
   "metadata": {},
   "outputs": [],
   "source": [
    "res = pairwise_cosine(\n",
    "    loaded_queries[res_all[res_all[:, 1] == 0][:, 0]], blmi.nodes[reverse_mapping[0]].objects\n",
    ")"
   ]
  },
  {
   "cell_type": "code",
   "execution_count": 315,
   "id": "f5774fe6-75c7-427c-804d-d8f3c2451d9e",
   "metadata": {},
   "outputs": [],
   "source": [
    "ann_relative = res.argsort()"
   ]
  },
  {
   "cell_type": "code",
   "execution_count": 316,
   "id": "cf3cc55a-eecd-4c18-8f8d-4b66187d9158",
   "metadata": {},
   "outputs": [
    {
     "data": {
      "text/plain": [
       "array([[ 0,  1, 18, ..., 12,  3, 16],\n",
       "       [ 9, 11,  2, ..., 24,  3, 13],\n",
       "       [10, 24,  8, ..., 23, 17, 13],\n",
       "       ...,\n",
       "       [ 4, 15,  5, ..., 18, 11, 23],\n",
       "       [11,  6, 10, ...,  5,  1, 13],\n",
       "       [15,  4,  1, ..., 20, 18, 11]])"
      ]
     },
     "execution_count": 316,
     "metadata": {},
     "output_type": "execute_result"
    }
   ],
   "source": [
    "ann_relative"
   ]
  },
  {
   "cell_type": "code",
   "execution_count": 317,
   "id": "cf7c6dfe-0131-4066-a3d9-d22bbda98438",
   "metadata": {},
   "outputs": [],
   "source": [
    "res_sorted = np.take_along_axis(res, ann_relative, axis=1)"
   ]
  },
  {
   "cell_type": "code",
   "execution_count": 318,
   "id": "81a38a09-50d7-4127-a7eb-71d4282529ce",
   "metadata": {},
   "outputs": [
    {
     "data": {
      "text/plain": [
       "array([[0.59467447, 0.64894956, 0.721488  , ..., 0.9253196 , 0.9390921 ,\n",
       "        0.98928344],\n",
       "       [0.15861797, 0.20232278, 0.20406294, ..., 0.46112722, 0.47672027,\n",
       "        0.5393085 ],\n",
       "       [0.6873648 , 0.7034833 , 0.7083878 , ..., 0.92428976, 0.92935526,\n",
       "        0.9307698 ],\n",
       "       ...,\n",
       "       [0.51733375, 0.57165176, 0.58112013, ..., 0.8638049 , 0.91691333,\n",
       "        0.9280122 ],\n",
       "       [0.6637584 , 0.8009661 , 0.8196577 , ..., 1.0233    , 1.0390735 ,\n",
       "        1.1452361 ],\n",
       "       [0.5134368 , 0.5462156 , 0.6581563 , ..., 0.895819  , 0.9314033 ,\n",
       "        0.9717914 ]], dtype=float32)"
      ]
     },
     "execution_count": 318,
     "metadata": {},
     "output_type": "execute_result"
    }
   ],
   "source": [
    "res_sorted"
   ]
  },
  {
   "cell_type": "code",
   "execution_count": 319,
   "id": "61def2e0-89a8-4e1b-9c88-bfc6ada7cf9c",
   "metadata": {},
   "outputs": [
    {
     "data": {
      "text/plain": [
       "(123, 25)"
      ]
     },
     "execution_count": 319,
     "metadata": {},
     "output_type": "execute_result"
    }
   ],
   "source": [
    "res_sorted.shape"
   ]
  },
  {
   "cell_type": "code",
   "execution_count": null,
   "id": "563ae05d-eb7c-48f3-92bb-06cd26cc81b4",
   "metadata": {},
   "outputs": [],
   "source": [
    "res"
   ]
  },
  {
   "cell_type": "code",
   "execution_count": 325,
   "id": "796a20f0-7550-4f04-8fba-36bd47549e88",
   "metadata": {},
   "outputs": [
    {
     "data": {
      "text/plain": [
       "(123, 25)"
      ]
     },
     "execution_count": 325,
     "metadata": {},
     "output_type": "execute_result"
    }
   ],
   "source": [
    "ann_relative.shape"
   ]
  },
  {
   "cell_type": "code",
   "execution_count": 328,
   "id": "8ac4f5f0-dc80-4da9-bcb6-db8f3dc5eeae",
   "metadata": {},
   "outputs": [
    {
     "data": {
      "text/plain": [
       "(123, 200)"
      ]
     },
     "execution_count": 328,
     "metadata": {},
     "output_type": "execute_result"
    }
   ],
   "source": [
    "np.pad(ann_relative, [(0, 0), (0, 200-25)], 'constant').shape"
   ]
  },
  {
   "cell_type": "code",
   "execution_count": null,
   "id": "c98b472b-efed-4ad0-bd21-6a3a3ec0baee",
   "metadata": {},
   "outputs": [],
   "source": []
  },
  {
   "cell_type": "code",
   "execution_count": 313,
   "id": "282ce5d5-426b-447a-b162-6ccab71b6bb8",
   "metadata": {},
   "outputs": [
    {
     "data": {
      "text/plain": [
       "(123, 25)"
      ]
     },
     "execution_count": 313,
     "metadata": {},
     "output_type": "execute_result"
    }
   ],
   "source": [
    "res.shape"
   ]
  },
  {
   "cell_type": "code",
   "execution_count": null,
   "id": "d3519974-2f4e-479e-9201-de660fc239ff",
   "metadata": {},
   "outputs": [],
   "source": [
    "np.array(res_all[])"
   ]
  },
  {
   "cell_type": "code",
   "execution_count": 271,
   "id": "8412df1c-42d1-44b6-a4bd-8b53832b4207",
   "metadata": {},
   "outputs": [
    {
     "data": {
      "text/plain": [
       "[(0, 3, 79), (0, 0, 70)]"
      ]
     },
     "execution_count": 271,
     "metadata": {},
     "output_type": "execute_result"
    }
   ],
   "source": [
    "res_all[2]"
   ]
  },
  {
   "cell_type": "code",
   "execution_count": null,
   "id": "bcb9a1d8-972a-4be8-ade8-4309fa7e7808",
   "metadata": {},
   "outputs": [],
   "source": []
  },
  {
   "cell_type": "code",
   "execution_count": 43,
   "id": "4232239a-6394-40c7-9a75-df725a426a8a",
   "metadata": {},
   "outputs": [],
   "source": [
    "from sklearn.metrics.pairwise import cosine_similarity\n",
    "import numpy as np\n",
    "import time\n",
    "\n",
    "def pairwise_cosine(x, y):\n",
    "    return 1-cosine_similarity(x, y)"
   ]
  },
  {
   "cell_type": "code",
   "execution_count": 90,
   "id": "ee7e64b3-9432-4548-a2dc-77082e7f6b0d",
   "metadata": {},
   "outputs": [],
   "source": [
    "all_data = pd.DataFrame(loaded_data[:100_000])\n",
    "\n",
    "def search_single(queries, predicted_categories, k=10):\n",
    "    \"\"\" Search for k nearest neighbors for each query in queries.\n",
    "\n",
    "    Parameters\n",
    "    ----------\n",
    "    queries : np.array\n",
    "        Queries to search for.\n",
    "    data : np.array\n",
    "        Data to search in.\n",
    "    k : int\n",
    "        Number of nearest neighbors to search for.\n",
    "\n",
    "    Returns\n",
    "    -------\n",
    "    anns : np.array\n",
    "        Array of shape (queries.shape[0], k) with nearest neighbors for each query.\n",
    "    final_dists_k : np.array\n",
    "        Array of shape (queries.shape[0], k) with distances to nearest neighbors for each query.\n",
    "    time : float\n",
    "        Time it took to search.\n",
    "    \"\"\"\n",
    "    nns = np.zeros((queries.shape[0], k), dtype=np.uint32)\n",
    "    dists = np.zeros((queries.shape[0], k), dtype=np.float32)\n",
    "    for cat in np.unique(predicted_categories):\n",
    "        print(cat)\n",
    "        #return\n",
    "        cat_idxs = np.where(predicted_categories == cat)[0]\n",
    "        # contents of (0, 0, 0)\n",
    "        bucket_obj_indexes = blmi.nodes[((0, 0)) + tuple((cat, ))].object_ids #np.where(self.predictions == cat)[0]\n",
    "        print(len(bucket_obj_indexes))#.shape)\n",
    "        seq_search_dists = pairwise_cosine(queries[cat_idxs], all_data.loc[bucket_obj_indexes])\n",
    "        print(seq_search_dists.shape)\n",
    "\n",
    "        ann_relative = seq_search_dists.argsort()[:, :k]\n",
    "        print(ann_relative.shape)\n",
    "        nns[cat_idxs] = np.array(bucket_obj_indexes)[ann_relative] + 1\n",
    "        dists[cat_idxs] = np.take_along_axis(seq_search_dists, ann_relative, axis=1)\n",
    "\n",
    "    return dists, nns\n"
   ]
  },
  {
   "cell_type": "code",
   "execution_count": 91,
   "id": "87979f57-0be9-4fd4-8fc9-1786bc9bba64",
   "metadata": {},
   "outputs": [
    {
     "name": "stdout",
     "output_type": "stream",
     "text": [
      "0\n",
      "76\n",
      "(6, 76)\n",
      "(6, 10)\n",
      "1\n",
      "102\n",
      "(3, 102)\n",
      "(3, 10)\n",
      "2\n",
      "7\n",
      "(54, 7)\n",
      "(54, 7)\n"
     ]
    },
    {
     "ename": "ValueError",
     "evalue": "shape mismatch: value array of shape (54,7) could not be broadcast to indexing result of shape (54,10)",
     "output_type": "error",
     "traceback": [
      "\u001b[0;31m---------------------------------------------------------------------------\u001b[0m",
      "\u001b[0;31mValueError\u001b[0m                                Traceback (most recent call last)",
      "\u001b[0;32m<ipython-input-91-6b7153290ab6>\u001b[0m in \u001b[0;36m<module>\u001b[0;34m\u001b[0m\n\u001b[0;32m----> 1\u001b[0;31m \u001b[0mdists\u001b[0m\u001b[0;34m,\u001b[0m \u001b[0mnns\u001b[0m \u001b[0;34m=\u001b[0m \u001b[0msearch_single\u001b[0m\u001b[0;34m(\u001b[0m\u001b[0mloaded_queries\u001b[0m\u001b[0;34m[\u001b[0m\u001b[0mcat_idxs\u001b[0m\u001b[0;34m]\u001b[0m\u001b[0;34m,\u001b[0m \u001b[0mpredicted_categories_lvl2\u001b[0m\u001b[0;34m[\u001b[0m\u001b[0;34m:\u001b[0m\u001b[0;34m,\u001b[0m \u001b[0;34m-\u001b[0m\u001b[0;34m(\u001b[0m\u001b[0mbucket\u001b[0m\u001b[0;34m+\u001b[0m\u001b[0;36m1\u001b[0m\u001b[0;34m)\u001b[0m\u001b[0;34m]\u001b[0m\u001b[0;34m,\u001b[0m \u001b[0mk\u001b[0m\u001b[0;34m=\u001b[0m\u001b[0;36m10\u001b[0m\u001b[0;34m)\u001b[0m\u001b[0;34m\u001b[0m\u001b[0m\n\u001b[0m",
      "\u001b[0;32m<ipython-input-90-debaea9b61d9>\u001b[0m in \u001b[0;36msearch_single\u001b[0;34m(queries, predicted_categories, k)\u001b[0m\n\u001b[1;32m     36\u001b[0m         \u001b[0mann_relative\u001b[0m \u001b[0;34m=\u001b[0m \u001b[0mseq_search_dists\u001b[0m\u001b[0;34m.\u001b[0m\u001b[0margsort\u001b[0m\u001b[0;34m(\u001b[0m\u001b[0;34m)\u001b[0m\u001b[0;34m[\u001b[0m\u001b[0;34m:\u001b[0m\u001b[0;34m,\u001b[0m \u001b[0;34m:\u001b[0m\u001b[0mk\u001b[0m\u001b[0;34m]\u001b[0m\u001b[0;34m\u001b[0m\u001b[0m\n\u001b[1;32m     37\u001b[0m         \u001b[0mprint\u001b[0m\u001b[0;34m(\u001b[0m\u001b[0mann_relative\u001b[0m\u001b[0;34m.\u001b[0m\u001b[0mshape\u001b[0m\u001b[0;34m)\u001b[0m\u001b[0;34m\u001b[0m\u001b[0m\n\u001b[0;32m---> 38\u001b[0;31m         \u001b[0mnns\u001b[0m\u001b[0;34m[\u001b[0m\u001b[0mcat_idxs\u001b[0m\u001b[0;34m]\u001b[0m \u001b[0;34m=\u001b[0m \u001b[0mnp\u001b[0m\u001b[0;34m.\u001b[0m\u001b[0marray\u001b[0m\u001b[0;34m(\u001b[0m\u001b[0mbucket_obj_indexes\u001b[0m\u001b[0;34m)\u001b[0m\u001b[0;34m[\u001b[0m\u001b[0mann_relative\u001b[0m\u001b[0;34m]\u001b[0m \u001b[0;34m+\u001b[0m \u001b[0;36m1\u001b[0m\u001b[0;34m\u001b[0m\u001b[0m\n\u001b[0m\u001b[1;32m     39\u001b[0m         \u001b[0mdists\u001b[0m\u001b[0;34m[\u001b[0m\u001b[0mcat_idxs\u001b[0m\u001b[0;34m]\u001b[0m \u001b[0;34m=\u001b[0m \u001b[0mnp\u001b[0m\u001b[0;34m.\u001b[0m\u001b[0mtake_along_axis\u001b[0m\u001b[0;34m(\u001b[0m\u001b[0mseq_search_dists\u001b[0m\u001b[0;34m,\u001b[0m \u001b[0mann_relative\u001b[0m\u001b[0;34m,\u001b[0m \u001b[0maxis\u001b[0m\u001b[0;34m=\u001b[0m\u001b[0;36m1\u001b[0m\u001b[0;34m)\u001b[0m\u001b[0;34m\u001b[0m\u001b[0m\n\u001b[1;32m     40\u001b[0m \u001b[0;34m\u001b[0m\u001b[0m\n",
      "\u001b[0;31mValueError\u001b[0m: shape mismatch: value array of shape (54,7) could not be broadcast to indexing result of shape (54,10)"
     ]
    }
   ],
   "source": [
    "dists, nns = search_single(loaded_queries[cat_idxs], predicted_categories_lvl2[:, -(bucket+1)], k=10)"
   ]
  },
  {
   "cell_type": "code",
   "execution_count": null,
   "id": "d7368bb5-ffdc-4c1f-9699-a2a9c8cc02b7",
   "metadata": {},
   "outputs": [],
   "source": []
  },
  {
   "cell_type": "code",
   "execution_count": 63,
   "id": "8d9e3a55-4ff1-4532-ba2f-a1c0a2bbe9a0",
   "metadata": {},
   "outputs": [
    {
     "data": {
      "text/plain": [
       "(828, 32)"
      ]
     },
     "execution_count": 63,
     "metadata": {},
     "output_type": "execute_result"
    }
   ],
   "source": [
    "loaded_queries[cat_idxs].shape"
   ]
  },
  {
   "cell_type": "code",
   "execution_count": 65,
   "id": "756a943f-abef-4072-aa7e-b23df7a796d0",
   "metadata": {},
   "outputs": [
    {
     "data": {
      "text/plain": [
       "array([[49, 94, 33, ..., 30, 56, 47],\n",
       "       [44, 57, 49, ..., 85, 10, 63],\n",
       "       [41, 18, 70, ..., 11, 58, 59],\n",
       "       ...,\n",
       "       [65, 13, 41, ..., 46, 27, 12],\n",
       "       [44, 62, 72, ..., 86, 38, 43],\n",
       "       [18, 62, 73, ..., 50,  2, 85]])"
      ]
     },
     "execution_count": 65,
     "metadata": {},
     "output_type": "execute_result"
    }
   ],
   "source": [
    "predicted_categories_lvl2"
   ]
  },
  {
   "cell_type": "code",
   "execution_count": null,
   "id": "654b9b0a-a870-49f9-93b1-41ea3231362a",
   "metadata": {},
   "outputs": [],
   "source": []
  },
  {
   "cell_type": "code",
   "execution_count": 51,
   "id": "8c40c563-8c18-40fb-a19c-950c1199abf7",
   "metadata": {},
   "outputs": [
    {
     "data": {
      "text/plain": [
       "array([2, 8, 1, ..., 0, 8, 8])"
      ]
     },
     "execution_count": 51,
     "metadata": {},
     "output_type": "execute_result"
    }
   ],
   "source": [
    "predicted_categories[:, -(bucket+1)]"
   ]
  },
  {
   "cell_type": "code",
   "execution_count": null,
   "id": "ad2e259b-d271-45c0-952d-9baf718728fd",
   "metadata": {},
   "outputs": [],
   "source": [
    "predicted_categories.shape"
   ]
  },
  {
   "cell_type": "code",
   "execution_count": 42,
   "id": "222912e0-83e6-43ef-92fe-a5804e383c3a",
   "metadata": {},
   "outputs": [
    {
     "name": "stdout",
     "output_type": "stream",
     "text": [
      "torch.Size([10])\n"
     ]
    }
   ],
   "source": [
    "pred_categories = blmi.nodes[(0, )].nn.predict_proba(data_X_to_torch(loaded_queries[0]))"
   ]
  },
  {
   "cell_type": "code",
   "execution_count": 43,
   "id": "821212de-c0f7-4e84-84bd-fc402929ce4b",
   "metadata": {},
   "outputs": [
    {
     "ename": "IndexError",
     "evalue": "too many indices for array: array is 1-dimensional, but 2 were indexed",
     "output_type": "error",
     "traceback": [
      "\u001b[0;31m---------------------------------------------------------------------------\u001b[0m",
      "\u001b[0;31mIndexError\u001b[0m                                Traceback (most recent call last)",
      "\u001b[0;32m<ipython-input-43-499dd727cf1f>\u001b[0m in \u001b[0;36m<module>\u001b[0;34m\u001b[0m\n\u001b[1;32m      1\u001b[0m \u001b[0mbucket\u001b[0m \u001b[0;34m=\u001b[0m \u001b[0;36m0\u001b[0m\u001b[0;34m\u001b[0m\u001b[0m\n\u001b[0;32m----> 2\u001b[0;31m \u001b[0mpred_categories\u001b[0m\u001b[0;34m[\u001b[0m\u001b[0;34m:\u001b[0m\u001b[0;34m,\u001b[0m \u001b[0;34m-\u001b[0m\u001b[0;34m(\u001b[0m\u001b[0mbucket\u001b[0m\u001b[0;34m+\u001b[0m\u001b[0;36m1\u001b[0m\u001b[0;34m)\u001b[0m\u001b[0;34m]\u001b[0m\u001b[0;34m\u001b[0m\u001b[0m\n\u001b[0m",
      "\u001b[0;31mIndexError\u001b[0m: too many indices for array: array is 1-dimensional, but 2 were indexed"
     ]
    }
   ],
   "source": [
    "bucket = 0\n",
    "pred_categories[:, -(bucket+1)]"
   ]
  },
  {
   "cell_type": "code",
   "execution_count": 41,
   "id": "346aa522-8666-4180-a274-1051ee9c8178",
   "metadata": {},
   "outputs": [
    {
     "name": "stdout",
     "output_type": "stream",
     "text": [
      "torch.Size([10])\n"
     ]
    },
    {
     "ename": "AttributeError",
     "evalue": "'DataFrame' object has no attribute 'bar'",
     "output_type": "error",
     "traceback": [
      "\u001b[0;31m---------------------------------------------------------------------------\u001b[0m",
      "\u001b[0;31mAttributeError\u001b[0m                            Traceback (most recent call last)",
      "\u001b[0;32m<ipython-input-41-cce30ede8ea7>\u001b[0m in \u001b[0;36m<module>\u001b[0;34m\u001b[0m\n\u001b[0;32m----> 1\u001b[0;31m \u001b[0mpd\u001b[0m\u001b[0;34m.\u001b[0m\u001b[0mDataFrame\u001b[0m\u001b[0;34m(\u001b[0m\u001b[0mblmi\u001b[0m\u001b[0;34m.\u001b[0m\u001b[0mnodes\u001b[0m\u001b[0;34m[\u001b[0m\u001b[0;34m(\u001b[0m\u001b[0;36m0\u001b[0m\u001b[0;34m,\u001b[0m \u001b[0;34m)\u001b[0m\u001b[0;34m]\u001b[0m\u001b[0;34m.\u001b[0m\u001b[0mnn\u001b[0m\u001b[0;34m.\u001b[0m\u001b[0mpredict_proba\u001b[0m\u001b[0;34m(\u001b[0m\u001b[0mdata_X_to_torch\u001b[0m\u001b[0;34m(\u001b[0m\u001b[0mloaded_queries\u001b[0m\u001b[0;34m[\u001b[0m\u001b[0;36m0\u001b[0m\u001b[0;34m]\u001b[0m\u001b[0;34m)\u001b[0m\u001b[0;34m)\u001b[0m\u001b[0;34m)\u001b[0m\u001b[0;34m.\u001b[0m\u001b[0mbar\u001b[0m\u001b[0;34m(\u001b[0m\u001b[0;34m)\u001b[0m\u001b[0;34m\u001b[0m\u001b[0m\n\u001b[0m",
      "\u001b[0;32m/mnt/storage-brno11-elixir/home/tslaninakova/dynamic-lmi/dynamic-lmi-env/lib/python3.6/site-packages/pandas/core/generic.py\u001b[0m in \u001b[0;36m__getattr__\u001b[0;34m(self, name)\u001b[0m\n\u001b[1;32m   5139\u001b[0m             \u001b[0;32mif\u001b[0m \u001b[0mself\u001b[0m\u001b[0;34m.\u001b[0m\u001b[0m_info_axis\u001b[0m\u001b[0;34m.\u001b[0m\u001b[0m_can_hold_identifiers_and_holds_name\u001b[0m\u001b[0;34m(\u001b[0m\u001b[0mname\u001b[0m\u001b[0;34m)\u001b[0m\u001b[0;34m:\u001b[0m\u001b[0;34m\u001b[0m\u001b[0m\n\u001b[1;32m   5140\u001b[0m                 \u001b[0;32mreturn\u001b[0m \u001b[0mself\u001b[0m\u001b[0;34m[\u001b[0m\u001b[0mname\u001b[0m\u001b[0;34m]\u001b[0m\u001b[0;34m\u001b[0m\u001b[0m\n\u001b[0;32m-> 5141\u001b[0;31m             \u001b[0;32mreturn\u001b[0m \u001b[0mobject\u001b[0m\u001b[0;34m.\u001b[0m\u001b[0m__getattribute__\u001b[0m\u001b[0;34m(\u001b[0m\u001b[0mself\u001b[0m\u001b[0;34m,\u001b[0m \u001b[0mname\u001b[0m\u001b[0;34m)\u001b[0m\u001b[0;34m\u001b[0m\u001b[0m\n\u001b[0m\u001b[1;32m   5142\u001b[0m \u001b[0;34m\u001b[0m\u001b[0m\n\u001b[1;32m   5143\u001b[0m     \u001b[0;32mdef\u001b[0m \u001b[0m__setattr__\u001b[0m\u001b[0;34m(\u001b[0m\u001b[0mself\u001b[0m\u001b[0;34m,\u001b[0m \u001b[0mname\u001b[0m\u001b[0;34m:\u001b[0m \u001b[0mstr\u001b[0m\u001b[0;34m,\u001b[0m \u001b[0mvalue\u001b[0m\u001b[0;34m)\u001b[0m \u001b[0;34m->\u001b[0m \u001b[0;32mNone\u001b[0m\u001b[0;34m:\u001b[0m\u001b[0;34m\u001b[0m\u001b[0m\n",
      "\u001b[0;31mAttributeError\u001b[0m: 'DataFrame' object has no attribute 'bar'"
     ]
    }
   ],
   "source": [
    "pd.DataFrame(blmi.nodes[(0, )].nn.predict_proba(data_X_to_torch(loaded_queries[0]))).bar()"
   ]
  },
  {
   "cell_type": "code",
   "execution_count": 36,
   "id": "ac9ec6d6-2140-4926-ba51-3d0f15f00ccf",
   "metadata": {},
   "outputs": [
    {
     "ename": "AttributeError",
     "evalue": "'NeuralNetwork' object has no attribute 'predict_single'",
     "output_type": "error",
     "traceback": [
      "\u001b[0;31m---------------------------------------------------------------------------\u001b[0m",
      "\u001b[0;31mAttributeError\u001b[0m                            Traceback (most recent call last)",
      "\u001b[0;32m<ipython-input-36-53f2eb73c418>\u001b[0m in \u001b[0;36m<module>\u001b[0;34m\u001b[0m\n\u001b[0;32m----> 1\u001b[0;31m \u001b[0mblmi\u001b[0m\u001b[0;34m.\u001b[0m\u001b[0msearch\u001b[0m\u001b[0;34m(\u001b[0m\u001b[0mloaded_queries\u001b[0m\u001b[0;34m[\u001b[0m\u001b[0;36m0\u001b[0m\u001b[0;34m]\u001b[0m\u001b[0;34m,\u001b[0m \u001b[0mstop_condition\u001b[0m\u001b[0;34m=\u001b[0m\u001b[0;36m1\u001b[0m\u001b[0;34m)\u001b[0m\u001b[0;34m\u001b[0m\u001b[0m\n\u001b[0m",
      "\u001b[0;32m/auto/brno12-cerit/nfs4/home/tslaninakova/sisap-challenge/repo/search/li/BaseLMI.py\u001b[0m in \u001b[0;36msearch\u001b[0;34m(self, query, stop_condition, stop_condition_leaf, stop_condition_time)\u001b[0m\n\u001b[1;32m    205\u001b[0m \u001b[0;34m\u001b[0m\u001b[0m\n\u001b[1;32m    206\u001b[0m         \u001b[0;31m# Start the recursive search from the root node ((0,)).\u001b[0m\u001b[0;34m\u001b[0m\u001b[0;34m\u001b[0m\u001b[0m\n\u001b[0;32m--> 207\u001b[0;31m         \u001b[0;32mreturn\u001b[0m \u001b[0mpredict_positions\u001b[0m\u001b[0;34m(\u001b[0m\u001b[0;34m(\u001b[0m\u001b[0;36m0\u001b[0m\u001b[0;34m,\u001b[0m\u001b[0;34m)\u001b[0m\u001b[0;34m,\u001b[0m \u001b[0mquery\u001b[0m\u001b[0;34m)\u001b[0m\u001b[0;34m\u001b[0m\u001b[0m\n\u001b[0m\u001b[1;32m    208\u001b[0m \u001b[0;34m\u001b[0m\u001b[0m\n\u001b[1;32m    209\u001b[0m     \u001b[0;32mdef\u001b[0m \u001b[0mget_n_of_objects\u001b[0m\u001b[0;34m(\u001b[0m\u001b[0mself\u001b[0m\u001b[0;34m)\u001b[0m \u001b[0;34m->\u001b[0m \u001b[0mint\u001b[0m\u001b[0;34m:\u001b[0m\u001b[0;34m\u001b[0m\u001b[0m\n",
      "\u001b[0;32m/auto/brno12-cerit/nfs4/home/tslaninakova/sisap-challenge/repo/search/li/BaseLMI.py\u001b[0m in \u001b[0;36mpredict_positions\u001b[0;34m(parent_position, query)\u001b[0m\n\u001b[1;32m    198\u001b[0m             \u001b[0;32melse\u001b[0m\u001b[0;34m:\u001b[0m\u001b[0;34m\u001b[0m\u001b[0m\n\u001b[1;32m    199\u001b[0m                 \u001b[0;31m# (2) If node is not a leaf node, move with the search to its child nodes.\u001b[0m\u001b[0;34m\u001b[0m\u001b[0;34m\u001b[0m\u001b[0m\n\u001b[0;32m--> 200\u001b[0;31m                 \u001b[0;32mreturn\u001b[0m \u001b[0mpredict_positions_of_child_nodes\u001b[0m\u001b[0;34m(\u001b[0m\u001b[0mparent_position\u001b[0m\u001b[0;34m,\u001b[0m \u001b[0mquery\u001b[0m\u001b[0;34m)\u001b[0m\u001b[0;34m\u001b[0m\u001b[0m\n\u001b[0m\u001b[1;32m    201\u001b[0m \u001b[0;34m\u001b[0m\u001b[0m\n\u001b[1;32m    202\u001b[0m         \u001b[0mself\u001b[0m\u001b[0;34m.\u001b[0m\u001b[0mpq\u001b[0m \u001b[0;34m=\u001b[0m \u001b[0;34m[\u001b[0m\u001b[0;34m]\u001b[0m\u001b[0;34m\u001b[0m\u001b[0m\n",
      "\u001b[0;32m/auto/brno12-cerit/nfs4/home/tslaninakova/sisap-challenge/repo/search/li/BaseLMI.py\u001b[0m in \u001b[0;36mpredict_positions_of_child_nodes\u001b[0;34m(parent_position, query)\u001b[0m\n\u001b[1;32m    142\u001b[0m                 \"\"\"\n\u001b[1;32m    143\u001b[0m                 \u001b[0;31m# (2.1) Collect predictions from the parent node's model\u001b[0m\u001b[0;34m\u001b[0m\u001b[0;34m\u001b[0m\u001b[0m\n\u001b[0;32m--> 144\u001b[0;31m                 \u001b[0mprobs\u001b[0m\u001b[0;34m,\u001b[0m \u001b[0mpositions\u001b[0m \u001b[0;34m=\u001b[0m \u001b[0mself\u001b[0m\u001b[0;34m.\u001b[0m\u001b[0mnodes\u001b[0m\u001b[0;34m[\u001b[0m\u001b[0mparent_position\u001b[0m\u001b[0;34m]\u001b[0m\u001b[0;34m.\u001b[0m\u001b[0mnn\u001b[0m\u001b[0;34m.\u001b[0m\u001b[0mpredict_single\u001b[0m\u001b[0;34m(\u001b[0m\u001b[0mquery\u001b[0m\u001b[0;34m)\u001b[0m\u001b[0;34m\u001b[0m\u001b[0m\n\u001b[0m\u001b[1;32m    145\u001b[0m                 \u001b[0mpositions\u001b[0m \u001b[0;34m=\u001b[0m \u001b[0;34m[\u001b[0m\u001b[0mparent_position\u001b[0m \u001b[0;34m+\u001b[0m \u001b[0mtuple\u001b[0m\u001b[0;34m(\u001b[0m\u001b[0;34m(\u001b[0m\u001b[0mposition\u001b[0m\u001b[0;34m,\u001b[0m \u001b[0;34m)\u001b[0m\u001b[0;34m)\u001b[0m \u001b[0;32mfor\u001b[0m \u001b[0mposition\u001b[0m \u001b[0;32min\u001b[0m \u001b[0mpositions\u001b[0m\u001b[0;34m]\u001b[0m\u001b[0;34m\u001b[0m\u001b[0m\n\u001b[1;32m    146\u001b[0m                 \u001b[0mprob_distr\u001b[0m \u001b[0;34m=\u001b[0m \u001b[0mnp\u001b[0m\u001b[0;34m.\u001b[0m\u001b[0marray\u001b[0m\u001b[0;34m(\u001b[0m\u001b[0;34m[\u001b[0m\u001b[0mpositions\u001b[0m\u001b[0;34m,\u001b[0m \u001b[0mprobs\u001b[0m\u001b[0;34m]\u001b[0m\u001b[0;34m,\u001b[0m \u001b[0mdtype\u001b[0m\u001b[0;34m=\u001b[0m\u001b[0mobject\u001b[0m\u001b[0;34m)\u001b[0m\u001b[0;34m.\u001b[0m\u001b[0mT\u001b[0m\u001b[0;34m\u001b[0m\u001b[0m\n",
      "\u001b[0;31mAttributeError\u001b[0m: 'NeuralNetwork' object has no attribute 'predict_single'"
     ]
    }
   ],
   "source": [
    "blmi.search(loaded_queries[0], stop_condition=1)"
   ]
  },
  {
   "cell_type": "code",
   "execution_count": null,
   "id": "3c311cfb-599a-455c-85cf-bb7f1b33f4f8",
   "metadata": {},
   "outputs": [],
   "source": [
    "### Goal: pick `n` pivots, make them as far away from each other as possible"
   ]
  },
  {
   "cell_type": "code",
   "execution_count": 11,
   "id": "af889c67-19eb-4b32-a320-b6e26ac62206",
   "metadata": {},
   "outputs": [
    {
     "data": {
      "text/plain": [
       "(100,)"
      ]
     },
     "execution_count": 11,
     "metadata": {},
     "output_type": "execute_result"
    }
   ],
   "source": [
    "import numpy as np\n",
    "def get_random_indexes(size, dataset_size, seed):\n",
    "    rng = np.random.default_rng(seed)\n",
    "    random_idxs = rng.choice(range(dataset_size), size=(size), replace=False)\n",
    "    random_idxs = np.sort(random_idxs)\n",
    "    return random_idxs\n",
    "\n",
    "idx = get_random_indexes(100, 10_000_000, 2023)\n",
    "idx.shape"
   ]
  },
  {
   "cell_type": "code",
   "execution_count": 13,
   "id": "8923fc28-e299-4746-8d94-f87a5cbcb34c",
   "metadata": {},
   "outputs": [],
   "source": [
    "from tqdm import tqdm\n",
    "import gc\n",
    "from sklearn.metrics.pairwise import cosine_similarity\n",
    "import numpy as np\n",
    "import time\n",
    "\n",
    "def pairwise_cosine(x, y):\n",
    "    r = cosine_similarity(x, y)\n",
    "    return 1-cosine_similarity(x, y)"
   ]
  },
  {
   "cell_type": "code",
   "execution_count": 15,
   "id": "55248816-dda2-4fd6-a50d-10638d9b57c7",
   "metadata": {},
   "outputs": [
    {
     "data": {
      "text/plain": [
       "(100, 32)"
      ]
     },
     "execution_count": 15,
     "metadata": {},
     "output_type": "execute_result"
    }
   ],
   "source": [
    "loaded_data[idx].shape"
   ]
  },
  {
   "cell_type": "markdown",
   "id": "d7ed9c2b-06fe-44da-a188-24dc5035ad0e",
   "metadata": {},
   "source": [
    "### Choose random indexes, try more combinations for maximum separability"
   ]
  },
  {
   "cell_type": "code",
   "execution_count": 24,
   "id": "57e41985-f92a-404d-a54f-ebd36187a502",
   "metadata": {},
   "outputs": [
    {
     "name": "stderr",
     "output_type": "stream",
     "text": [
      "\n",
      "  0%|          | 0/1000 [00:00<?, ?it/s]\u001b[A"
     ]
    },
    {
     "ename": "KeyboardInterrupt",
     "evalue": "",
     "output_type": "error",
     "traceback": [
      "\u001b[0;31m---------------------------------------------------------------------------\u001b[0m",
      "\u001b[0;31mKeyboardInterrupt\u001b[0m                         Traceback (most recent call last)",
      "\u001b[0;32m<ipython-input-24-d1099b3c69bf>\u001b[0m in \u001b[0;36m<module>\u001b[0;34m\u001b[0m\n\u001b[1;32m      3\u001b[0m \u001b[0mcurr_max\u001b[0m \u001b[0;34m=\u001b[0m \u001b[0;36m0.0001\u001b[0m\u001b[0;34m\u001b[0m\u001b[0m\n\u001b[1;32m      4\u001b[0m \u001b[0;32mfor\u001b[0m \u001b[0mi\u001b[0m \u001b[0;32min\u001b[0m \u001b[0mtqdm\u001b[0m\u001b[0;34m(\u001b[0m\u001b[0mrange\u001b[0m\u001b[0;34m(\u001b[0m\u001b[0;36m1000\u001b[0m\u001b[0;34m)\u001b[0m\u001b[0;34m)\u001b[0m\u001b[0;34m:\u001b[0m\u001b[0;34m\u001b[0m\u001b[0m\n\u001b[0;32m----> 5\u001b[0;31m     \u001b[0midx\u001b[0m \u001b[0;34m=\u001b[0m \u001b[0mget_random_indexes\u001b[0m\u001b[0;34m(\u001b[0m\u001b[0;36m100\u001b[0m\u001b[0;34m,\u001b[0m \u001b[0;36m10_000_000\u001b[0m\u001b[0;34m,\u001b[0m \u001b[0;36m2023\u001b[0m\u001b[0;34m+\u001b[0m\u001b[0mi\u001b[0m\u001b[0;34m)\u001b[0m\u001b[0;34m\u001b[0m\u001b[0m\n\u001b[0m\u001b[1;32m      6\u001b[0m     \u001b[0msum_distances\u001b[0m \u001b[0;34m=\u001b[0m \u001b[0mnp\u001b[0m\u001b[0;34m.\u001b[0m\u001b[0msum\u001b[0m\u001b[0;34m(\u001b[0m\u001b[0mpairwise_cosine\u001b[0m\u001b[0;34m(\u001b[0m\u001b[0mloaded_data\u001b[0m\u001b[0;34m[\u001b[0m\u001b[0midx\u001b[0m\u001b[0;34m]\u001b[0m\u001b[0;34m,\u001b[0m \u001b[0mloaded_data\u001b[0m\u001b[0;34m[\u001b[0m\u001b[0midx\u001b[0m\u001b[0;34m]\u001b[0m\u001b[0;34m)\u001b[0m\u001b[0;34m)\u001b[0m\u001b[0;34m\u001b[0m\u001b[0m\n\u001b[1;32m      7\u001b[0m     \u001b[0;32mif\u001b[0m \u001b[0mcurr_max\u001b[0m \u001b[0;34m<\u001b[0m \u001b[0msum_distances\u001b[0m\u001b[0;34m:\u001b[0m\u001b[0;34m\u001b[0m\u001b[0m\n",
      "\u001b[0;32m<ipython-input-11-47eb44de2577>\u001b[0m in \u001b[0;36mget_random_indexes\u001b[0;34m(size, dataset_size, seed)\u001b[0m\n\u001b[1;32m      2\u001b[0m \u001b[0;32mdef\u001b[0m \u001b[0mget_random_indexes\u001b[0m\u001b[0;34m(\u001b[0m\u001b[0msize\u001b[0m\u001b[0;34m,\u001b[0m \u001b[0mdataset_size\u001b[0m\u001b[0;34m,\u001b[0m \u001b[0mseed\u001b[0m\u001b[0;34m)\u001b[0m\u001b[0;34m:\u001b[0m\u001b[0;34m\u001b[0m\u001b[0m\n\u001b[1;32m      3\u001b[0m     \u001b[0mrng\u001b[0m \u001b[0;34m=\u001b[0m \u001b[0mnp\u001b[0m\u001b[0;34m.\u001b[0m\u001b[0mrandom\u001b[0m\u001b[0;34m.\u001b[0m\u001b[0mdefault_rng\u001b[0m\u001b[0;34m(\u001b[0m\u001b[0mseed\u001b[0m\u001b[0;34m)\u001b[0m\u001b[0;34m\u001b[0m\u001b[0m\n\u001b[0;32m----> 4\u001b[0;31m     \u001b[0mrandom_idxs\u001b[0m \u001b[0;34m=\u001b[0m \u001b[0mrng\u001b[0m\u001b[0;34m.\u001b[0m\u001b[0mchoice\u001b[0m\u001b[0;34m(\u001b[0m\u001b[0mrange\u001b[0m\u001b[0;34m(\u001b[0m\u001b[0mdataset_size\u001b[0m\u001b[0;34m)\u001b[0m\u001b[0;34m,\u001b[0m \u001b[0msize\u001b[0m\u001b[0;34m=\u001b[0m\u001b[0;34m(\u001b[0m\u001b[0msize\u001b[0m\u001b[0;34m)\u001b[0m\u001b[0;34m,\u001b[0m \u001b[0mreplace\u001b[0m\u001b[0;34m=\u001b[0m\u001b[0;32mFalse\u001b[0m\u001b[0;34m)\u001b[0m\u001b[0;34m\u001b[0m\u001b[0m\n\u001b[0m\u001b[1;32m      5\u001b[0m     \u001b[0mrandom_idxs\u001b[0m \u001b[0;34m=\u001b[0m \u001b[0mnp\u001b[0m\u001b[0;34m.\u001b[0m\u001b[0msort\u001b[0m\u001b[0;34m(\u001b[0m\u001b[0mrandom_idxs\u001b[0m\u001b[0;34m)\u001b[0m\u001b[0;34m\u001b[0m\u001b[0m\n\u001b[1;32m      6\u001b[0m     \u001b[0;32mreturn\u001b[0m \u001b[0mrandom_idxs\u001b[0m\u001b[0;34m\u001b[0m\u001b[0m\n",
      "\u001b[0;32m_generator.pyx\u001b[0m in \u001b[0;36mnumpy.random._generator.Generator.choice\u001b[0;34m()\u001b[0m\n",
      "\u001b[0;32m<__array_function__ internals>\u001b[0m in \u001b[0;36mprod\u001b[0;34m(*args, **kwargs)\u001b[0m\n",
      "\u001b[0;31mKeyboardInterrupt\u001b[0m: "
     ]
    }
   ],
   "source": [
    "from tqdm import tqdm\n",
    "max_idx = []\n",
    "curr_max = 0.0001\n",
    "for i in tqdm(range(1000)):\n",
    "    idx = get_random_indexes(100, 10_000_000, 2023+i)\n",
    "    sum_distances = np.sum(pairwise_cosine(loaded_data[idx], loaded_data[idx]))\n",
    "    if curr_max < sum_distances:\n",
    "        print(f'New max: {sum_distances}')\n",
    "        curr_max = sum_distances\n",
    "        max_idx = idx"
   ]
  },
  {
   "cell_type": "code",
   "execution_count": 26,
   "id": "0b050ea2-baaf-4e7b-bbc5-c5f6c21b7cc7",
   "metadata": {},
   "outputs": [],
   "source": [
    "max_idx = idx"
   ]
  },
  {
   "cell_type": "code",
   "execution_count": 27,
   "id": "e6e5c942-2940-4242-bb87-69ee13c6ff77",
   "metadata": {},
   "outputs": [
    {
     "data": {
      "text/plain": [
       "array([ 185321,  234653,  292222,  381677,  566723,  600284,  740565,\n",
       "        867235,  900051, 1033366, 1044871, 1058727, 1403906, 1463850,\n",
       "       1496680, 1657793, 1914290, 1985739, 2152561, 2181513, 2541923,\n",
       "       2582441, 2762803, 2774061, 2873961, 2933642, 2965090, 3237394,\n",
       "       3266257, 3294118, 3335269, 3335887, 3399452, 3430747, 3437788,\n",
       "       3698427, 3752103, 4195891, 4304091, 4559483, 4586480, 4773710,\n",
       "       4968399, 5003710, 5292731, 5380464, 5526795, 5570949, 5641847,\n",
       "       5667377, 6197481, 6206438, 6274304, 6540740, 6544577, 6612350,\n",
       "       6826490, 6831111, 6863057, 6885002, 6985042, 7163028, 7220946,\n",
       "       7229246, 7266332, 7311872, 7373780, 7473792, 7491508, 7584210,\n",
       "       7605908, 7609749, 7703936, 7742618, 7743605, 7754148, 7817008,\n",
       "       7863949, 7980012, 8165405, 8527822, 8722572, 8761180, 8824108,\n",
       "       8827635, 8848082, 8947908, 8959267, 8982641, 8985985, 9016244,\n",
       "       9055639, 9155160, 9225834, 9260389, 9267319, 9547105, 9852251,\n",
       "       9988332, 9998402])"
      ]
     },
     "execution_count": 27,
     "metadata": {},
     "output_type": "execute_result"
    }
   ],
   "source": [
    "idx"
   ]
  },
  {
   "cell_type": "code",
   "execution_count": 17,
   "id": "83ed12c6-4c5c-412b-86d6-90f9a730bcee",
   "metadata": {},
   "outputs": [],
   "source": [
    "res = pairwise_cosine(loaded_data[idx], loaded_data[idx])"
   ]
  },
  {
   "cell_type": "code",
   "execution_count": 20,
   "id": "a2e0f7c9-6c62-4d30-ba5e-75d488babe10",
   "metadata": {},
   "outputs": [
    {
     "data": {
      "text/plain": [
       "9905.625"
      ]
     },
     "execution_count": 20,
     "metadata": {},
     "output_type": "execute_result"
    }
   ],
   "source": [
    "np.sum(res)"
   ]
  },
  {
   "cell_type": "code",
   "execution_count": null,
   "id": "1fe967dd-16a5-4630-bbea-656ef8139793",
   "metadata": {},
   "outputs": [],
   "source": []
  },
  {
   "cell_type": "code",
   "execution_count": 4,
   "id": "8b155a30-f625-4514-8696-a1965c813e0d",
   "metadata": {},
   "outputs": [],
   "source": [
    "from li.model import Model\n",
    "model = Model(input_dim=768, output_dim=100)"
   ]
  },
  {
   "cell_type": "code",
   "execution_count": 9,
   "id": "32de9928-adc1-4a2c-848a-0cd2cfb66105",
   "metadata": {},
   "outputs": [
    {
     "data": {
      "text/plain": [
       "Model(\n",
       "  (layers): Sequential(\n",
       "    (0): Linear(in_features=768, out_features=128, bias=True)\n",
       "    (1): ReLU()\n",
       "    (2): Linear(in_features=128, out_features=100, bias=True)\n",
       "  )\n",
       ")"
      ]
     },
     "execution_count": 9,
     "metadata": {},
     "output_type": "execute_result"
    }
   ],
   "source": [
    "import torch\n",
    "model.load_state_dict(torch.load('../models/clip768v2-emb-10M-best-model.pt'))\n",
    "model.eval()"
   ]
  },
  {
   "cell_type": "code",
   "execution_count": 13,
   "id": "864fbb73-a9d1-4a02-af67-e0cf14f4c806",
   "metadata": {},
   "outputs": [],
   "source": [
    "from li.model import data_X_to_torch, predict, get_device"
   ]
  },
  {
   "cell_type": "code",
   "execution_count": 14,
   "id": "a5a47467-678e-46df-8dd5-279d4280f7d0",
   "metadata": {},
   "outputs": [
    {
     "name": "stdout",
     "output_type": "stream",
     "text": [
      "CPU times: user 1min 59s, sys: 47.8 s, total: 2min 47s\n",
      "Wall time: 2min 51s\n"
     ]
    }
   ],
   "source": [
    "%time predictions = predict(model, get_device(), data_X_to_torch(loaded_data))"
   ]
  },
  {
   "cell_type": "code",
   "execution_count": 15,
   "id": "bd930fd7-6063-474a-b9b3-f8425f96453b",
   "metadata": {},
   "outputs": [
    {
     "data": {
      "text/plain": [
       "(10120191,)"
      ]
     },
     "execution_count": 15,
     "metadata": {},
     "output_type": "execute_result"
    }
   ],
   "source": [
    "predictions.shape"
   ]
  },
  {
   "cell_type": "code",
   "execution_count": 47,
   "id": "c70882a7-bb8c-4672-8af9-5894c3995177",
   "metadata": {},
   "outputs": [],
   "source": [
    "from li.model import predict_proba"
   ]
  },
  {
   "cell_type": "code",
   "execution_count": 27,
   "id": "87b99e52-1431-4b35-bc52-37ab9c3f7f96",
   "metadata": {},
   "outputs": [
    {
     "name": "stdout",
     "output_type": "stream",
     "text": [
      "CPU times: user 460 µs, sys: 250 µs, total: 710 µs\n",
      "Wall time: 16.1 ms\n"
     ]
    },
    {
     "data": {
      "text/plain": [
       "['emb']"
      ]
     },
     "execution_count": 27,
     "metadata": {},
     "output_type": "execute_result"
    }
   ],
   "source": [
    "%time f2 = h5py.File('data/clip768v2/10M/query.h5', 'r')\n",
    "[k for k in f2.keys()]"
   ]
  },
  {
   "cell_type": "code",
   "execution_count": 28,
   "id": "cadfa589-a975-4152-98f9-b6e993655bf3",
   "metadata": {},
   "outputs": [
    {
     "name": "stdout",
     "output_type": "stream",
     "text": [
      "CPU times: user 1.36 ms, sys: 8.74 ms, total: 10.1 ms\n",
      "Wall time: 10.2 ms\n"
     ]
    }
   ],
   "source": [
    "%time loaded_queries = f2['emb'][:, :]"
   ]
  },
  {
   "cell_type": "code",
   "execution_count": 33,
   "id": "28d7c674-0fc8-46e1-b259-138d75e46364",
   "metadata": {},
   "outputs": [
    {
     "data": {
      "text/plain": [
       "(10000, 768)"
      ]
     },
     "execution_count": 33,
     "metadata": {},
     "output_type": "execute_result"
    }
   ],
   "source": [
    "loaded_queries.shape"
   ]
  },
  {
   "cell_type": "code",
   "execution_count": 48,
   "id": "f2cebc43-db1f-4d8f-a92f-e2f9b0b5c24c",
   "metadata": {},
   "outputs": [
    {
     "name": "stdout",
     "output_type": "stream",
     "text": [
      "torch.Size([10000, 100])\n"
     ]
    }
   ],
   "source": [
    "res = predict_proba(model, get_device(), data_X_to_torch(loaded_queries))"
   ]
  },
  {
   "cell_type": "code",
   "execution_count": 66,
   "id": "f0e49d6b-6b76-4d36-8590-dd832ceed6fa",
   "metadata": {},
   "outputs": [],
   "source": [
    "from li.LearnedIndex10M import LearnedIndex"
   ]
  },
  {
   "cell_type": "code",
   "execution_count": 67,
   "id": "415e9cc3-ae05-472c-b493-f635c8778f58",
   "metadata": {},
   "outputs": [],
   "source": [
    "li = LearnedIndex(\n",
    "    dataset_shape=(10_000_000, 768),\n",
    "    n_categories=100\n",
    ")"
   ]
  },
  {
   "cell_type": "code",
   "execution_count": 68,
   "id": "fd0eb74b-017a-4f76-9bb5-3cd4b2c90054",
   "metadata": {},
   "outputs": [],
   "source": [
    "li.model = model"
   ]
  },
  {
   "cell_type": "code",
   "execution_count": 69,
   "id": "7d0fced3-baa6-4e58-968c-b8ecc6f969df",
   "metadata": {},
   "outputs": [],
   "source": [
    "li.predictions = predictions"
   ]
  },
  {
   "cell_type": "code",
   "execution_count": 70,
   "id": "b676aeec-d7c4-44ad-a094-3822651d17f9",
   "metadata": {},
   "outputs": [],
   "source": [
    "li.all_data =  loaded_data"
   ]
  },
  {
   "cell_type": "code",
   "execution_count": 74,
   "id": "a643342b-0147-4575-8fdd-729d32db7523",
   "metadata": {},
   "outputs": [
    {
     "name": "stdout",
     "output_type": "stream",
     "text": [
      "bucket_obj_indexes: (70660,)\n",
      "bucket_obj_indexes: (60431,)\n",
      "bucket_obj_indexes: (155211,)\n",
      "bucket_obj_indexes: (44668,)\n",
      "bucket_obj_indexes: (44940,)\n",
      "bucket_obj_indexes: (35358,)\n",
      "bucket_obj_indexes: (78389,)\n",
      "bucket_obj_indexes: (46592,)\n",
      "bucket_obj_indexes: (120995,)\n",
      "bucket_obj_indexes: (43151,)\n",
      "bucket_obj_indexes: (145368,)\n",
      "bucket_obj_indexes: (65688,)\n",
      "bucket_obj_indexes: (42585,)\n",
      "bucket_obj_indexes: (151551,)\n",
      "bucket_obj_indexes: (142066,)\n",
      "bucket_obj_indexes: (297296,)\n",
      "bucket_obj_indexes: (109030,)\n",
      "bucket_obj_indexes: (76712,)\n",
      "bucket_obj_indexes: (85640,)\n",
      "bucket_obj_indexes: (138392,)\n",
      "bucket_obj_indexes: (97728,)\n",
      "bucket_obj_indexes: (102276,)\n",
      "bucket_obj_indexes: (150129,)\n",
      "bucket_obj_indexes: (130399,)\n",
      "bucket_obj_indexes: (140012,)\n",
      "bucket_obj_indexes: (34989,)\n",
      "bucket_obj_indexes: (136013,)\n",
      "bucket_obj_indexes: (117123,)\n",
      "bucket_obj_indexes: (89756,)\n",
      "bucket_obj_indexes: (36506,)\n",
      "bucket_obj_indexes: (108078,)\n",
      "CPU times: user 5min 24s, sys: 27 s, total: 5min 51s\n",
      "Wall time: 6min\n"
     ]
    }
   ],
   "source": [
    "%%time\n",
    "search_res = li.search(loaded_queries, n_buckets=2)"
   ]
  },
  {
   "cell_type": "code",
   "execution_count": 76,
   "id": "13a99446-2756-40f4-b62b-93a1ecec9ee4",
   "metadata": {},
   "outputs": [
    {
     "ename": "AttributeError",
     "evalue": "'tuple' object has no attribute 'shape'",
     "output_type": "error",
     "traceback": [
      "\u001b[0;31m---------------------------------------------------------------------------\u001b[0m",
      "\u001b[0;31mAttributeError\u001b[0m                            Traceback (most recent call last)",
      "\u001b[0;32m<ipython-input-76-3bea961a1d5a>\u001b[0m in \u001b[0;36m<module>\u001b[0;34m\u001b[0m\n\u001b[0;32m----> 1\u001b[0;31m \u001b[0msearch_res\u001b[0m\u001b[0;34m.\u001b[0m\u001b[0mshape\u001b[0m\u001b[0;34m\u001b[0m\u001b[0m\n\u001b[0m",
      "\u001b[0;31mAttributeError\u001b[0m: 'tuple' object has no attribute 'shape'"
     ]
    }
   ],
   "source": [
    "search_res.shape"
   ]
  },
  {
   "cell_type": "code",
   "execution_count": 81,
   "id": "5b6c2383-4c5e-452f-af7a-6c538ecae57f",
   "metadata": {},
   "outputs": [
    {
     "data": {
      "text/plain": [
       "(10000, 10)"
      ]
     },
     "execution_count": 81,
     "metadata": {},
     "output_type": "execute_result"
    }
   ],
   "source": [
    "search_res[0].shape"
   ]
  },
  {
   "cell_type": "code",
   "execution_count": 80,
   "id": "9b7c7749-faa3-4bd4-813a-c41ac512295b",
   "metadata": {},
   "outputs": [
    {
     "data": {
      "text/plain": [
       "array([[ 1831320,  7535354,  7059014, ...,  9060635,  5509896,   210839],\n",
       "       [  345243,   641543,   985275, ...,  4315057,  6363149,  4984877],\n",
       "       [ 1385230,  8732144,  5079078, ...,  8500628,  7238113,  8391052],\n",
       "       ...,\n",
       "       [ 9550551,  9711325,  7029902, ...,  7054237,  8342966,  2623128],\n",
       "       [10037932,  6595916,  4837121, ...,  2597817,  8233243,  3702635],\n",
       "       [  497148,  8333824,  4361805, ...,  7069212,  7326701,  5715343]],\n",
       "      dtype=uint32)"
      ]
     },
     "execution_count": 80,
     "metadata": {},
     "output_type": "execute_result"
    }
   ],
   "source": [
    "search_res[1]"
   ]
  },
  {
   "cell_type": "code",
   "execution_count": 79,
   "id": "4ce0b449-dc61-47f0-97c4-df28973111f8",
   "metadata": {},
   "outputs": [
    {
     "data": {
      "text/plain": [
       "(100,)"
      ]
     },
     "execution_count": 79,
     "metadata": {},
     "output_type": "execute_result"
    }
   ],
   "source": [
    "res[1].shape"
   ]
  },
  {
   "cell_type": "code",
   "execution_count": 44,
   "id": "c3b7481f-7488-43e5-b4e9-884c8bf2315c",
   "metadata": {},
   "outputs": [],
   "source": [
    "import numpy as np"
   ]
  },
  {
   "cell_type": "code",
   "execution_count": 46,
   "id": "e98cc89d-6b92-4737-a8bd-ac91fc718456",
   "metadata": {},
   "outputs": [
    {
     "data": {
      "text/plain": [
       "array([8.37511470e-05, 9.70561174e-04, 2.92020995e-04, 1.63676043e-04,\n",
       "       8.52210354e-03, 7.81660492e-05, 1.58739305e-04, 6.29106071e-04,\n",
       "       1.61633524e-03, 1.29780790e-04, 2.15484848e-04, 2.32058756e-05,\n",
       "       1.46150356e-04, 2.36730743e-03, 1.38364936e-04, 1.30514824e-03,\n",
       "       3.36273294e-03, 6.12222531e-04, 7.04983031e-05, 2.39886431e-04,\n",
       "       1.60547465e-01, 1.37590361e-03, 2.52572994e-04, 1.07597589e-04,\n",
       "       1.17151719e-03, 1.18067735e-04, 6.09984563e-04, 2.42916425e-03,\n",
       "       3.16633657e-03, 4.98839188e-03, 1.29831792e-03, 8.74745543e-04,\n",
       "       6.43437961e-04, 2.13510357e-03, 3.41637860e-05, 4.37771529e-03,\n",
       "       2.57312728e-04, 7.93551953e-05, 2.43538052e-05, 1.43318884e-02,\n",
       "       3.92020098e-04, 5.58090760e-05, 1.26074348e-03, 3.68411615e-02,\n",
       "       4.93923551e-04, 1.02681312e-04, 1.21077430e-03, 2.71683879e-04,\n",
       "       1.73655041e-02, 2.19049998e-05, 4.27135747e-05, 3.40649131e-05,\n",
       "       1.30197138e-03, 2.38854840e-01, 3.57980825e-05, 4.40446602e-05,\n",
       "       2.56438414e-03, 2.60792749e-05, 1.06133055e-03, 2.63872067e-03,\n",
       "       2.76987412e-04, 1.28420326e-03, 1.23797846e-03, 3.67965340e-03,\n",
       "       4.53370340e-05, 1.25353326e-04, 6.51030932e-05, 1.00420183e-03,\n",
       "       6.18727761e-04, 7.18699084e-05, 1.08761516e-04, 4.10118960e-02,\n",
       "       5.23008348e-04, 7.94375839e-04, 3.67130524e-05, 1.13156450e-03,\n",
       "       2.37332322e-02, 2.91086879e-04, 3.05261892e-05, 1.42332414e-04,\n",
       "       3.28244299e-01, 2.75006227e-04, 3.85016356e-05, 8.50118886e-05,\n",
       "       1.69957231e-04, 6.34448826e-02, 1.33128604e-04, 2.40804748e-05,\n",
       "       8.12070721e-05, 2.29820912e-03, 7.38021554e-05, 6.33060745e-06,\n",
       "       1.20104545e-04, 1.48629269e-03, 1.31037273e-03, 1.74878205e-05,\n",
       "       4.05536965e-04, 6.56842021e-05, 4.05347499e-04, 5.33078914e-04],\n",
       "      dtype=float32)"
      ]
     },
     "execution_count": 46,
     "metadata": {},
     "output_type": "execute_result"
    }
   ],
   "source": [
    "res[0]"
   ]
  },
  {
   "cell_type": "code",
   "execution_count": 45,
   "id": "7b5c4dbf-3ccc-429c-825f-8e6e22d32b5d",
   "metadata": {},
   "outputs": [
    {
     "data": {
      "text/plain": [
       "80"
      ]
     },
     "execution_count": 45,
     "metadata": {},
     "output_type": "execute_result"
    }
   ],
   "source": [
    "np.argmax(res[0])"
   ]
  },
  {
   "cell_type": "code",
   "execution_count": 37,
   "id": "8ca38115-a438-457b-86f7-9baf3b20168d",
   "metadata": {},
   "outputs": [
    {
     "data": {
      "text/plain": [
       "((10, 100), (10, 100))"
      ]
     },
     "execution_count": 37,
     "metadata": {},
     "output_type": "execute_result"
    }
   ],
   "source": [
    "res[0].shape, res[1].shape"
   ]
  },
  {
   "cell_type": "code",
   "execution_count": 16,
   "id": "3f90739d-9a36-4762-9136-4337aacc8aa6",
   "metadata": {},
   "outputs": [
    {
     "data": {
      "text/plain": [
       "array([38,  3, 58, 88, 84, 67, 13, 93, 75, 13])"
      ]
     },
     "execution_count": 16,
     "metadata": {},
     "output_type": "execute_result"
    }
   ],
   "source": [
    "predictions[:10]"
   ]
  },
  {
   "cell_type": "code",
   "execution_count": null,
   "id": "ca836cd4-e91b-42c9-98c4-3de39de22cee",
   "metadata": {},
   "outputs": [],
   "source": [
    "torch.save(model.state_dict(), f'{save_dir}/{wandb.run.name}/best-model.pt')\n"
   ]
  },
  {
   "cell_type": "code",
   "execution_count": 7,
   "id": "bc0b6d47-1075-4b18-a2d8-8b8504eb341b",
   "metadata": {},
   "outputs": [],
   "source": [
    "import numpy as np"
   ]
  },
  {
   "cell_type": "code",
   "execution_count": 9,
   "id": "08192e49-5914-46f6-b3e3-c9e409240d76",
   "metadata": {},
   "outputs": [
    {
     "data": {
      "text/plain": [
       "(1000,)"
      ]
     },
     "execution_count": 9,
     "metadata": {},
     "output_type": "execute_result"
    }
   ],
   "source": [
    "def get_random_indexes(size, dataset_size, seed):\n",
    "    rng = np.random.default_rng(seed)\n",
    "    random_idxs = rng.choice(range(dataset_size), size=(size), replace=False)\n",
    "    random_idxs = np.sort(random_idxs)\n",
    "    return random_idxs\n",
    "\n",
    "idx = get_random_indexes(1000, 10_000_000, 2023)\n",
    "idx.shape"
   ]
  },
  {
   "cell_type": "code",
   "execution_count": 10,
   "id": "00f40ecf-05cd-440e-9ba2-fd27da5aac3d",
   "metadata": {},
   "outputs": [
    {
     "data": {
      "text/plain": [
       "True"
      ]
     },
     "execution_count": 10,
     "metadata": {},
     "output_type": "execute_result"
    }
   ],
   "source": [
    "idx.shape == (1000, )"
   ]
  },
  {
   "cell_type": "code",
   "execution_count": 7,
   "id": "073aa7c4-9dba-494e-b7bb-cc623250c17f",
   "metadata": {},
   "outputs": [
    {
     "name": "stdout",
     "output_type": "stream",
     "text": [
      "CPU times: user 2.17 s, sys: 784 ms, total: 2.95 s\n",
      "Wall time: 1min 19s\n"
     ]
    }
   ],
   "source": [
    "%time loaded_data = f['emb'][random_idxs, :]"
   ]
  },
  {
   "cell_type": "code",
   "execution_count": 3,
   "id": "9bc10f6c-3ecc-4666-b4d3-a262969b254b",
   "metadata": {},
   "outputs": [
    {
     "name": "stdout",
     "output_type": "stream",
     "text": [
      "CPU times: user 13.7 ms, sys: 110 ms, total: 124 ms\n",
      "Wall time: 2.05 s\n"
     ]
    }
   ],
   "source": [
    "%time _ = f['emb'][:100_000, :]"
   ]
  },
  {
   "cell_type": "code",
   "execution_count": 4,
   "id": "7b9e6b81-cf08-4834-9112-90bdb2a1a272",
   "metadata": {},
   "outputs": [
    {
     "name": "stdout",
     "output_type": "stream",
     "text": [
      "CPU times: user 12.7 ms, sys: 1.03 s, total: 1.05 s\n",
      "Wall time: 20.7 s\n"
     ]
    }
   ],
   "source": [
    "%time _ = f['emb'][:1_000_000, :]"
   ]
  },
  {
   "cell_type": "code",
   "execution_count": 5,
   "id": "7f557639-a342-4efc-a1dd-a81936d5ffb5",
   "metadata": {},
   "outputs": [
    {
     "name": "stdout",
     "output_type": "stream",
     "text": [
      "CPU times: user 11.6 ms, sys: 16.1 s, total: 16.1 s\n",
      "Wall time: 3min 10s\n"
     ]
    }
   ],
   "source": [
    "%time _ = f['emb'][:9_000_000, :]"
   ]
  },
  {
   "cell_type": "code",
   "execution_count": 8,
   "id": "158075b1-0d5f-47ab-bfea-933f0eb58d22",
   "metadata": {},
   "outputs": [
    {
     "name": "stdout",
     "output_type": "stream",
     "text": [
      "CPU times: user 211 ms, sys: 14.5 s, total: 14.7 s\n",
      "Wall time: 4min 4s\n"
     ]
    }
   ],
   "source": [
    "%time pred_data = f['emb'][:, :]"
   ]
  },
  {
   "cell_type": "code",
   "execution_count": null,
   "id": "d1ba51a2-f28a-41a5-a39c-a57e767adeb4",
   "metadata": {},
   "outputs": [],
   "source": [
    "pred_data[]"
   ]
  },
  {
   "cell_type": "code",
   "execution_count": null,
   "id": "86931282-053f-48fb-8912-4cc094191088",
   "metadata": {},
   "outputs": [],
   "source": [
    "%time test_mem = f['emb'][random_idxs, :]"
   ]
  },
  {
   "cell_type": "code",
   "execution_count": 11,
   "id": "3800a381-d6c5-4d73-ad15-b5b78b4bd7e4",
   "metadata": {},
   "outputs": [
    {
     "name": "stdout",
     "output_type": "stream",
     "text": [
      "Generator(PCG64)\n",
      "CPU times: user 1.1 s, sys: 529 ms, total: 1.63 s\n",
      "Wall time: 10.8 s\n"
     ]
    }
   ],
   "source": [
    "%%time\n",
    "rng = np.random.default_rng(2023)\n",
    "print(rng)\n",
    "random_pivots = rng.choice(range(10_000_000), size=(1_000), replace=False)\n",
    "pivot_indexes = np.sort(random_pivots)\n",
    "pivot_data = f['emb'][pivot_indexes, :]"
   ]
  },
  {
   "cell_type": "code",
   "execution_count": 12,
   "id": "c6622491-0d75-499f-b602-99fcad397570",
   "metadata": {},
   "outputs": [
    {
     "data": {
      "text/plain": [
       "(1000, 768)"
      ]
     },
     "execution_count": 12,
     "metadata": {},
     "output_type": "execute_result"
    }
   ],
   "source": [
    "pivot_data.shape"
   ]
  },
  {
   "cell_type": "code",
   "execution_count": 4,
   "id": "645d86c4-e7eb-47d8-a553-65e06ba4354c",
   "metadata": {},
   "outputs": [
    {
     "data": {
      "text/plain": [
       "(10000, 768)"
      ]
     },
     "execution_count": 4,
     "metadata": {},
     "output_type": "execute_result"
    }
   ],
   "source": [
    "loaded_data.shape"
   ]
  },
  {
   "cell_type": "code",
   "execution_count": 43,
   "id": "10f9b234-3d36-48ea-a659-2e5916962ad1",
   "metadata": {},
   "outputs": [],
   "source": [
    "from tqdm import tqdm\n",
    "import gc\n",
    "from sklearn.metrics.pairwise import cosine_similarity\n",
    "import numpy as np\n",
    "import time\n",
    "\n",
    "def pairwise_cosine(x, y):\n",
    "    r = cosine_similarity(x, y)\n",
    "    print(r)\n",
    "    return 1-cosine_similarity(x, y)"
   ]
  },
  {
   "cell_type": "code",
   "execution_count": 28,
   "id": "ad3c1002-9eab-4859-857f-3a28c1eadd9b",
   "metadata": {},
   "outputs": [
    {
     "ename": "AttributeError",
     "evalue": "'numpy.ndarray' object has no attribute 'unsqueeze'",
     "output_type": "error",
     "traceback": [
      "\u001b[0;31m---------------------------------------------------------------------------\u001b[0m",
      "\u001b[0;31mAttributeError\u001b[0m                            Traceback (most recent call last)",
      "\u001b[0;32m<ipython-input-28-302b8ea9f9c1>\u001b[0m in \u001b[0;36m<module>\u001b[0;34m\u001b[0m\n\u001b[0;32m----> 1\u001b[0;31m \u001b[0mpivot_data\u001b[0m\u001b[0;34m[\u001b[0m\u001b[0;36m0\u001b[0m\u001b[0;34m]\u001b[0m\u001b[0;34m.\u001b[0m\u001b[0munsqueeze\u001b[0m\u001b[0;34m(\u001b[0m\u001b[0;34m)\u001b[0m\u001b[0;34m\u001b[0m\u001b[0m\n\u001b[0m",
      "\u001b[0;31mAttributeError\u001b[0m: 'numpy.ndarray' object has no attribute 'unsqueeze'"
     ]
    }
   ],
   "source": [
    "pivot_data[0].unsqueeze()"
   ]
  },
  {
   "cell_type": "code",
   "execution_count": 36,
   "id": "56dc249f-5ec7-4f75-9e26-27cb26d61432",
   "metadata": {},
   "outputs": [
    {
     "data": {
      "text/plain": [
       "(1000, 768)"
      ]
     },
     "execution_count": 36,
     "metadata": {},
     "output_type": "execute_result"
    }
   ],
   "source": [
    "loaded_data.shape"
   ]
  },
  {
   "cell_type": "code",
   "execution_count": 52,
   "id": "df63b099-586a-46eb-915d-d9f9257d01fb",
   "metadata": {},
   "outputs": [
    {
     "data": {
      "text/plain": [
       "(2, 1000)"
      ]
     },
     "execution_count": 52,
     "metadata": {},
     "output_type": "execute_result"
    }
   ],
   "source": [
    "dists_all.shape"
   ]
  },
  {
   "cell_type": "code",
   "execution_count": 55,
   "id": "dc95cc08-bf07-4d85-a111-362429022e70",
   "metadata": {},
   "outputs": [
    {
     "data": {
      "text/plain": [
       "(1000, 768)"
      ]
     },
     "execution_count": 55,
     "metadata": {},
     "output_type": "execute_result"
    }
   ],
   "source": [
    "pivot_data.shape"
   ]
  },
  {
   "cell_type": "code",
   "execution_count": 59,
   "id": "73085c93-403c-4fce-981a-1ce6279e4bd6",
   "metadata": {},
   "outputs": [
    {
     "data": {
      "text/plain": [
       "array([], shape=(0, 768), dtype=float64)"
      ]
     },
     "execution_count": 59,
     "metadata": {},
     "output_type": "execute_result"
    }
   ],
   "source": [
    "training_data = np.empty((0,768))\n",
    "training_data"
   ]
  },
  {
   "cell_type": "code",
   "execution_count": 44,
   "id": "1010d054-2b0e-4f02-af3a-f81031456167",
   "metadata": {},
   "outputs": [
    {
     "ename": "NameError",
     "evalue": "name 'pivot_data' is not defined",
     "output_type": "error",
     "traceback": [
      "\u001b[0;31m---------------------------------------------------------------------------\u001b[0m",
      "\u001b[0;31mNameError\u001b[0m                                 Traceback (most recent call last)",
      "\u001b[0;32m<timed exec>\u001b[0m in \u001b[0;36m<module>\u001b[0;34m\u001b[0m\n",
      "\u001b[0;31mNameError\u001b[0m: name 'pivot_data' is not defined"
     ]
    }
   ],
   "source": [
    "%%time\n",
    "dists_all = np.empty((0,1000))\n",
    "training_data = np.empty((0,768))\n",
    "prev = 0\n",
    "\n",
    "for batch, pivot in zip(range(10_000, 10_000_000, 10_000), pivot_data):\n",
    "    loaded_data = f['emb'][prev:batch, :]\n",
    "    dists = np.argsort(cosine_similarity([pivot], loaded_data)[0])\n",
    "    training_data_indexes = dists[-1000:]\n",
    "    print(training_data_indexes.shape)\n",
    "    break\n",
    "    # take the 1000 most similar (argsort sorts from lowest to highest)\n",
    "    dists_all = np.vstack((dists_all, prev+training_data_indexes))\n",
    "    training_data = np.vstack((training_data, loaded_data[training_data_indexes]))\n",
    "    del loaded_data\n",
    "    gc.collect()\n",
    "    prev = batch"
   ]
  },
  {
   "cell_type": "code",
   "execution_count": null,
   "id": "17bfe5a0-d15d-478e-8770-bbd2bc50b3e8",
   "metadata": {},
   "outputs": [],
   "source": []
  },
  {
   "cell_type": "code",
   "execution_count": 75,
   "id": "c488738c-f190-476a-819f-d941ff979b29",
   "metadata": {},
   "outputs": [
    {
     "data": {
      "text/plain": [
       "(999000, 768)"
      ]
     },
     "execution_count": 75,
     "metadata": {},
     "output_type": "execute_result"
    }
   ],
   "source": [
    "training_data.shape"
   ]
  },
  {
   "cell_type": "code",
   "execution_count": 13,
   "id": "ea67db6e-baa6-4b9f-962a-86ac32f96728",
   "metadata": {},
   "outputs": [
    {
     "data": {
      "text/plain": [
       "10000"
      ]
     },
     "execution_count": 13,
     "metadata": {},
     "output_type": "execute_result"
    }
   ],
   "source": [
    "10_000_000 // 1000"
   ]
  },
  {
   "cell_type": "code",
   "execution_count": 95,
   "id": "a4ad4a58-5403-4be5-bc8b-3e85ad302cc0",
   "metadata": {},
   "outputs": [
    {
     "name": "stdout",
     "output_type": "stream",
     "text": [
      "CPU times: user 106 ms, sys: 2.27 ms, total: 108 ms\n",
      "Wall time: 121 ms\n"
     ]
    }
   ],
   "source": [
    "%%time\n",
    "labels = np.array([np.array([i for j in range(1000)]) for i in range(999)])\n",
    "labels = labels.reshape(labels.shape[0]*labels.shape[1])"
   ]
  },
  {
   "cell_type": "code",
   "execution_count": 69,
   "id": "8dff26fd-57ca-49ee-9c8d-ff178b3f0b73",
   "metadata": {},
   "outputs": [
    {
     "data": {
      "text/plain": [
       "(10, 1000)"
      ]
     },
     "execution_count": 69,
     "metadata": {},
     "output_type": "execute_result"
    }
   ],
   "source": [
    "dists_all.shape"
   ]
  },
  {
   "cell_type": "code",
   "execution_count": 87,
   "id": "f6cb80e1-121c-4a54-bd84-d4a9f500feab",
   "metadata": {},
   "outputs": [],
   "source": [
    "from typing import Tuple\n",
    "def get_device() -> torch.device:\n",
    "    \"\"\" Gets the `device` to be used by torch.\n",
    "    This arugment is needed to operate with the PyTorch model instance.\n",
    "\n",
    "    Returns\n",
    "    ------\n",
    "    torch.device\n",
    "        Device\n",
    "    \"\"\"\n",
    "    use_cuda = torch.cuda.is_available()\n",
    "    device = torch.device('cuda:0' if use_cuda else 'cpu')\n",
    "    torch.backends.cudnn.benchmark = True\n",
    "    return device\n",
    "\n",
    "\n",
    "def data_X_to_torch(data) -> torch.FloatTensor:\n",
    "    \"\"\" Creates torch training data.\"\"\"\n",
    "    data_X = torch.from_numpy(np.array(data).astype(np.float32))\n",
    "    return data_X\n",
    "\n",
    "\n",
    "def data_to_torch(data, labels) -> Tuple[torch.FloatTensor, torch.LongTensor]:\n",
    "    \"\"\" Creates torch training data and labels.\"\"\"\n",
    "    data_X = data_X_to_torch(data)\n",
    "    data_y = torch.as_tensor(torch.from_numpy(labels), dtype=torch.long)\n",
    "    return data_X, data_y"
   ]
  },
  {
   "cell_type": "code",
   "execution_count": 113,
   "id": "4d8c8b0f-aac1-4b31-8109-3589982a4142",
   "metadata": {},
   "outputs": [],
   "source": [
    "import torch\n",
    "from torch import nn\n",
    "\n",
    "class Model(nn.Module):\n",
    "    def __init__(self, input_dim=768, output_dim=1000):\n",
    "        super().__init__()\n",
    "        self.layers = torch.nn.Sequential(\n",
    "          torch.nn.Linear(input_dim, 128),\n",
    "          torch.nn.ReLU(),\n",
    "          torch.nn.Linear(128, output_dim)\n",
    "        )\n",
    "\n",
    "    def forward(self, x: torch.FloatTensor) -> torch.FloatTensor:\n",
    "        outputs = self.layers(x)\n",
    "        return outputs\n",
    "\n",
    "model = Model()\n",
    "lr = 0.01\n",
    "loss = torch.nn.CrossEntropyLoss()\n",
    "optimizer = torch.optim.Adam(model.parameters(), lr=lr)\n",
    "device = get_device()"
   ]
  },
  {
   "cell_type": "code",
   "execution_count": 98,
   "id": "6d8fbff9-f17b-4173-b64d-b61ddaf4e115",
   "metadata": {},
   "outputs": [
    {
     "name": "stdout",
     "output_type": "stream",
     "text": [
      "CPU times: user 756 ms, sys: 741 ms, total: 1.5 s\n",
      "Wall time: 1.6 s\n"
     ]
    },
    {
     "data": {
      "text/plain": [
       "(torch.Size([999000, 768]), torch.Size([999000]))"
      ]
     },
     "execution_count": 98,
     "metadata": {},
     "output_type": "execute_result"
    }
   ],
   "source": [
    "%%time\n",
    "data_X, data_y = data_to_torch(training_data, labels)\n",
    "data_X.shape, data_y.shape"
   ]
  },
  {
   "cell_type": "code",
   "execution_count": 135,
   "id": "8a0309cb-0fff-4006-bd74-757e8ab769f8",
   "metadata": {},
   "outputs": [],
   "source": [
    "def train(\n",
    "    data_X: torch.FloatTensor,\n",
    "    data_y: torch.LongTensor,\n",
    "    model,\n",
    "    optimizer,\n",
    "    device,\n",
    "    epochs=500,\n",
    "):\n",
    "    step = data_X.shape[0] // epochs // 10\n",
    "    losses = []\n",
    "    for ep in range(epochs):\n",
    "        if ep % step == 0 and ep != 0:\n",
    "            print(f'{time.time()} | Epoch {ep} | Loss {curr_loss.item()}')\n",
    "        pred_y = model(data_X.to(device))\n",
    "        curr_loss = loss(pred_y, data_y.to(device))\n",
    "        losses.append(curr_loss.item())\n",
    "\n",
    "        model.zero_grad()\n",
    "        curr_loss.backward()\n",
    "\n",
    "        optimizer.step()\n",
    "    return losses, model\n"
   ]
  },
  {
   "cell_type": "code",
   "execution_count": 111,
   "id": "eaca812c-be5b-49a6-80f9-898706a8f81f",
   "metadata": {},
   "outputs": [
    {
     "name": "stdout",
     "output_type": "stream",
     "text": [
      "Generator(PCG64)\n",
      "CPU times: user 99 ms, sys: 39.6 ms, total: 139 ms\n",
      "Wall time: 139 ms\n"
     ]
    }
   ],
   "source": [
    "%%time\n",
    "rng_offset = 1\n",
    "rng = np.random.default_rng(2023+rng_offset)\n",
    "rng_offset += 1\n",
    "print(rng)\n",
    "random_idxs = rng.choice(range(999000), size=(10_000), replace=False)"
   ]
  },
  {
   "cell_type": "code",
   "execution_count": 112,
   "id": "d1cf2ef9-1919-4af0-9a66-4e21347f672a",
   "metadata": {},
   "outputs": [
    {
     "data": {
      "text/plain": [
       "(torch.Size([10000, 768]), torch.Size([10000]))"
      ]
     },
     "execution_count": 112,
     "metadata": {},
     "output_type": "execute_result"
    }
   ],
   "source": [
    "data_X_s = data_X[random_idxs]\n",
    "data_y_s = data_y[random_idxs]\n",
    "data_X_s.shape, data_y_s.shape"
   ]
  },
  {
   "cell_type": "code",
   "execution_count": 136,
   "id": "efe09d5f-2517-49d0-bb89-58b3f7d39ca7",
   "metadata": {},
   "outputs": [],
   "source": [
    "model = Model(output_dim=np.unique(data_y_s).shape[0])\n",
    "lr = 0.1\n",
    "loss = torch.nn.CrossEntropyLoss()\n",
    "optimizer = torch.optim.Adam(model.parameters(), lr=lr)\n",
    "device = get_device()"
   ]
  },
  {
   "cell_type": "code",
   "execution_count": 137,
   "id": "cc6b9796-63e8-47e6-98f9-ceace5321e44",
   "metadata": {},
   "outputs": [
    {
     "name": "stdout",
     "output_type": "stream",
     "text": [
      "Epoch 10\n",
      "Epoch 20\n",
      "Epoch 30\n",
      "Epoch 40\n",
      "Epoch 50\n",
      "Epoch 60\n",
      "Epoch 70\n",
      "Epoch 80\n",
      "Epoch 90\n",
      "CPU times: user 55.6 s, sys: 2.76 s, total: 58.3 s\n",
      "Wall time: 59.8 s\n"
     ]
    }
   ],
   "source": [
    "%time losses, model = train(data_X_s, data_y_s, model, optimizer, device, epochs=100)"
   ]
  },
  {
   "cell_type": "code",
   "execution_count": 141,
   "id": "5ba8d7d2-5088-4055-9598-ee17f1df375c",
   "metadata": {},
   "outputs": [],
   "source": [
    "def predict( model, device, data_X: torch.FloatTensor):\n",
    "    \"\"\" Collects predictions for multiple data points (used in structure building).\"\"\"\n",
    "    model = model.to(device)\n",
    "    model.eval()\n",
    "\n",
    "    all_outputs = torch.tensor([], device=device)\n",
    "    with torch.no_grad():\n",
    "        outputs = model(data_X.to(device))\n",
    "        all_outputs = torch.cat((all_outputs, outputs), 0)\n",
    "\n",
    "    _, y_pred = torch.max(all_outputs, 1)\n",
    "    return y_pred.cpu().numpy()"
   ]
  },
  {
   "cell_type": "code",
   "execution_count": 142,
   "id": "1a840121-5d96-4bfc-abb4-ed8790193a91",
   "metadata": {},
   "outputs": [],
   "source": [
    "predictions = predict(model, device, data_X_s)"
   ]
  },
  {
   "cell_type": "code",
   "execution_count": 146,
   "id": "5ecde9c7-bde4-4bec-b883-551d26ca28d0",
   "metadata": {},
   "outputs": [
    {
     "data": {
      "text/plain": [
       "tensor([515, 589, 280,  ..., 141, 934,  88])"
      ]
     },
     "execution_count": 146,
     "metadata": {},
     "output_type": "execute_result"
    }
   ],
   "source": [
    "data_y_s"
   ]
  },
  {
   "cell_type": "code",
   "execution_count": 145,
   "id": "feb68c1a-8ea6-4cbf-8670-8ac612022cf7",
   "metadata": {},
   "outputs": [
    {
     "data": {
      "text/plain": [
       "array([515, 589, 280, ..., 141, 934,  88])"
      ]
     },
     "execution_count": 145,
     "metadata": {},
     "output_type": "execute_result"
    }
   ],
   "source": [
    "predictions"
   ]
  },
  {
   "cell_type": "markdown",
   "id": "fe9045ca-7f86-474e-b552-388c2ad2078a",
   "metadata": {},
   "source": [
    "### we can let go of the training data"
   ]
  },
  {
   "cell_type": "code",
   "execution_count": 147,
   "id": "35b6d369-fb24-4c33-ba8b-ade48abbc654",
   "metadata": {},
   "outputs": [
    {
     "data": {
      "text/plain": [
       "67"
      ]
     },
     "execution_count": 147,
     "metadata": {},
     "output_type": "execute_result"
    }
   ],
   "source": [
    "del training_data\n",
    "gc.collect()"
   ]
  },
  {
   "cell_type": "code",
   "execution_count": null,
   "id": "e83a2340-5091-42bd-8fd8-9c5d28365acc",
   "metadata": {},
   "outputs": [],
   "source": [
    "# load everyting and then filter out whatever\n",
    "%time pred_data = f['emb'][:, :]"
   ]
  },
  {
   "cell_type": "code",
   "execution_count": 157,
   "id": "555b0de2-7793-43f9-9fc5-897b0849830d",
   "metadata": {},
   "outputs": [
    {
     "name": "stdout",
     "output_type": "stream",
     "text": [
      "CPU times: user 306 ms, sys: 367 ms, total: 672 ms\n",
      "Wall time: 813 ms\n"
     ]
    },
    {
     "data": {
      "text/plain": [
       "(9001000,)"
      ]
     },
     "execution_count": 157,
     "metadata": {},
     "output_type": "execute_result"
    }
   ],
   "source": [
    "%%time\n",
    "predict_indexes = np.setdiff1d(np.arange(0, 10_000_000), dists_all.flatten())\n",
    "predict_indexes.shape"
   ]
  },
  {
   "cell_type": "code",
   "execution_count": 158,
   "id": "3ae6c328-2f39-43af-96ec-7e48ed9ca62a",
   "metadata": {},
   "outputs": [
    {
     "name": "stdout",
     "output_type": "stream",
     "text": [
      "CPU times: user 102 ms, sys: 67.5 ms, total: 170 ms\n",
      "Wall time: 172 ms\n"
     ]
    },
    {
     "data": {
      "text/plain": [
       "(9001000,)"
      ]
     },
     "execution_count": 158,
     "metadata": {},
     "output_type": "execute_result"
    }
   ],
   "source": [
    "%%time\n",
    "predict_indexes = np.sort(predict_indexes)\n",
    "predict_indexes.shape"
   ]
  },
  {
   "cell_type": "code",
   "execution_count": 159,
   "id": "1dd2ed66-9994-4523-bbd4-b4b90a26a04e",
   "metadata": {},
   "outputs": [
    {
     "data": {
      "text/plain": [
       "array([0, 1, 2, 3, 4, 5, 6, 7, 8, 9])"
      ]
     },
     "execution_count": 159,
     "metadata": {},
     "output_type": "execute_result"
    }
   ],
   "source": [
    "predict_indexes[:10]"
   ]
  },
  {
   "cell_type": "code",
   "execution_count": null,
   "id": "b5d00637-3d3d-423c-84e9-0e06651528d1",
   "metadata": {},
   "outputs": [],
   "source": [
    "%%time\n",
    "loaded_pred_data = f['emb'][predict_indexes, :]\n",
    "loaded_pred_data.shape"
   ]
  },
  {
   "cell_type": "code",
   "execution_count": null,
   "id": "ddff82b1-7ad0-4f14-afce-3d0fb8fb3645",
   "metadata": {},
   "outputs": [],
   "source": [
    "loaded_pred_data[:10]"
   ]
  },
  {
   "cell_type": "code",
   "execution_count": 155,
   "id": "2e892d01-4999-4614-b803-8fd549c89ef2",
   "metadata": {},
   "outputs": [
    {
     "ename": "ValueError",
     "evalue": "maximum supported dimension for an ndarray is 32, found 1000",
     "output_type": "error",
     "traceback": [
      "\u001b[0;31m---------------------------------------------------------------------------\u001b[0m",
      "\u001b[0;31mValueError\u001b[0m                                Traceback (most recent call last)",
      "\u001b[0;32m<ipython-input-155-f6d1fa8d2aa5>\u001b[0m in \u001b[0;36m<module>\u001b[0;34m\u001b[0m\n\u001b[0;32m----> 1\u001b[0;31m \u001b[0mdists_all\u001b[0m\u001b[0;34m.\u001b[0m\u001b[0mreshape\u001b[0m\u001b[0;34m(\u001b[0m\u001b[0;34m(\u001b[0m\u001b[0mdists_all\u001b[0m\u001b[0;34m[\u001b[0m\u001b[0;36m0\u001b[0m\u001b[0;34m]\u001b[0m\u001b[0;34m*\u001b[0m\u001b[0mdists_all\u001b[0m\u001b[0;34m[\u001b[0m\u001b[0;36m1\u001b[0m\u001b[0;34m]\u001b[0m\u001b[0;34m)\u001b[0m\u001b[0;34m)\u001b[0m\u001b[0;31m#.shape\u001b[0m\u001b[0;34m\u001b[0m\u001b[0m\n\u001b[0m",
      "\u001b[0;31mValueError\u001b[0m: maximum supported dimension for an ndarray is 32, found 1000"
     ]
    }
   ],
   "source": [
    "dists_all.reshape((dists_all[0]*dists_all[1]))#.shape"
   ]
  },
  {
   "cell_type": "code",
   "execution_count": null,
   "id": "84ccc26f-46da-4f66-b5dc-c40d4db7fdd4",
   "metadata": {},
   "outputs": [],
   "source": [
    "    def predict(self, data_X: torch.FloatTensor):\n",
    "        \"\"\" Collects predictions for multiple data points (used in structure building).\"\"\"\n",
    "        self.model = self.model.to(self.device)\n",
    "        self.model.eval()\n",
    "\n",
    "        all_outputs = torch.tensor([], device=self.device)\n",
    "        with torch.no_grad():\n",
    "            outputs = self.model(data_X.to(self.device))\n",
    "            all_outputs = torch.cat((all_outputs, outputs), 0)\n",
    "\n",
    "        _, y_pred = torch.max(all_outputs, 1)\n",
    "        return np.array([self.model.output_neurons[label] for label in y_pred.cpu().numpy()])\n",
    "\n",
    "    def predict_single(self, data_X: torch.FloatTensor):\n",
    "        \"\"\" Collects predictions for a single data point (used in query predictions).\"\"\"\n",
    "        self.model = self.model.to(self.device)\n",
    "        self.model.eval()\n",
    "\n",
    "        with torch.no_grad():\n",
    "            outputs = self.model(data_X.to(self.device))\n",
    "\n",
    "        prob = nnf.softmax(outputs, dim=0)\n",
    "        top_prob, top_class = prob.topk(self.model.n_output_neurons, dim=0)\n",
    "        top_prob = top_prob.cpu().numpy()\n",
    "        return top_prob, np.array([self.model.output_neurons[label] for label in top_class.cpu().numpy()])\n"
   ]
  }
 ],
 "metadata": {
  "kernelspec": {
   "display_name": "Python 3",
   "language": "python",
   "name": "python3"
  },
  "language_info": {
   "codemirror_mode": {
    "name": "ipython",
    "version": 3
   },
   "file_extension": ".py",
   "mimetype": "text/x-python",
   "name": "python",
   "nbconvert_exporter": "python",
   "pygments_lexer": "ipython3",
   "version": "3.6.2"
  }
 },
 "nbformat": 4,
 "nbformat_minor": 5
}
