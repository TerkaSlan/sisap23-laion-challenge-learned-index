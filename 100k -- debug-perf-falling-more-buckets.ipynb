{
 "cells": [
  {
   "cell_type": "code",
   "execution_count": 1,
   "id": "c7b5bdeb-e811-41d5-9a12-06dfb502909e",
   "metadata": {},
   "outputs": [],
   "source": [
    "%reload_ext autoreload\n",
    "%autoreload 2"
   ]
  },
  {
   "cell_type": "code",
   "execution_count": 2,
   "id": "187e1431-06c4-49ee-b879-00fefd16143b",
   "metadata": {},
   "outputs": [],
   "source": [
    "import argparse\n",
    "import h5py\n",
    "import numpy as np\n",
    "import pandas as pd\n",
    "from sklearn import preprocessing\n",
    "import os\n",
    "import time\n",
    "from pathlib import Path\n",
    "from urllib.request import urlretrieve\n",
    "import logging\n",
    "from li.Baseline import Baseline\n",
    "from li.LearnedIndex import LearnedIndex\n",
    "from li.utils import save_as_pickle\n",
    "from li.model import data_X_to_torch\n"
   ]
  },
  {
   "cell_type": "code",
   "execution_count": 3,
   "id": "22456ea8-b20d-4e62-8543-25fb7b3e7b19",
   "metadata": {},
   "outputs": [],
   "source": [
    "np.random.seed(2023)\n",
    "\n",
    "logging.basicConfig(\n",
    "    level=logging.INFO,\n",
    "    format='[%(asctime)s][%(levelname)-5.5s][%(name)-.20s] %(message)s'\n",
    ")\n",
    "LOG = logging.getLogger(__name__)\n"
   ]
  },
  {
   "cell_type": "code",
   "execution_count": 4,
   "id": "a9290134-9fa9-472a-8a5e-519633d52797",
   "metadata": {},
   "outputs": [],
   "source": [
    "kind='pca32v2'\n",
    "size='100K'\n",
    "key='pca32'"
   ]
  },
  {
   "cell_type": "code",
   "execution_count": 5,
   "id": "b72713b8-329f-4484-9b2e-49a3819dee7e",
   "metadata": {},
   "outputs": [],
   "source": [
    "data = np.array(h5py.File(os.path.join(\"data\", kind, size, \"dataset.h5\"), \"r\")[key])\n",
    "queries = np.array(h5py.File(os.path.join(\"data\", kind, size, \"query.h5\"), \"r\")[key])"
   ]
  },
  {
   "cell_type": "code",
   "execution_count": 6,
   "id": "3d0d2ba0-8af2-41d3-ab17-1d9bb23c835c",
   "metadata": {},
   "outputs": [],
   "source": [
    "kind_search = 'clip768v2'\n",
    "key_search = 'emb'\n",
    "data_search = np.array(\n",
    "    h5py.File(os.path.join(\"data\", kind_search, size, \"dataset.h5\"), \"r\")[key_search]\n",
    ")"
   ]
  },
  {
   "cell_type": "code",
   "execution_count": 7,
   "id": "96bb39a7-7ca1-4b29-92d6-a32bf4cad2bc",
   "metadata": {},
   "outputs": [],
   "source": [
    "queries_search = np.array(\n",
    "    h5py.File(os.path.join(\"data\", kind_search, size, \"query.h5\"), \"r\")[key_search]\n",
    ")"
   ]
  },
  {
   "cell_type": "code",
   "execution_count": 8,
   "id": "7d9ac59e-f14f-4622-a46b-edebbb464478",
   "metadata": {},
   "outputs": [],
   "source": [
    "data = pd.DataFrame(data)\n",
    "data.index += 1\n",
    "\n",
    "data_search = pd.DataFrame(data_search)\n",
    "data_search.index += 1"
   ]
  },
  {
   "cell_type": "code",
   "execution_count": 9,
   "id": "01d78667-13c9-4564-a73a-b27e4dca7dd9",
   "metadata": {},
   "outputs": [],
   "source": [
    "import torch\n",
    "from torch import nn\n",
    "import torch.nn.functional as nnf\n",
    "import numpy as np\n",
    "from li.Logger import Logger\n",
    "from typing import Tuple\n",
    "import torch.utils.data\n",
    "\n",
    "torch.manual_seed(2023)\n",
    "np.random.seed(2023)\n",
    "\n",
    "class Model(nn.Module):\n",
    "    def __init__(self, input_dim=768, output_dim=1000, model_type=None):\n",
    "        super().__init__()\n",
    "        if model_type == 'MLP':\n",
    "            self.layers = torch.nn.Sequential(\n",
    "                torch.nn.Linear(input_dim, 128),\n",
    "                torch.nn.ReLU(),\n",
    "                torch.nn.Linear(128, output_dim)\n",
    "            )\n",
    "        if model_type == 'MLP-2':\n",
    "            self.layers = torch.nn.Sequential(\n",
    "                torch.nn.Linear(input_dim, 64),\n",
    "                torch.nn.ReLU(),\n",
    "                torch.nn.Linear(64, output_dim)\n",
    "            )\n",
    "        if model_type == 'MLP-3':\n",
    "            self.layers = torch.nn.Sequential(\n",
    "                torch.nn.Linear(input_dim, 256),\n",
    "                torch.nn.ReLU(),\n",
    "                torch.nn.Linear(256, output_dim)\n",
    "            )\n",
    "        if model_type == 'MLP-4':\n",
    "            self.layers = torch.nn.Sequential(\n",
    "                torch.nn.Linear(input_dim, 512),\n",
    "                torch.nn.ReLU(),\n",
    "                torch.nn.Linear(512, output_dim)\n",
    "            )\n",
    "        if model_type == 'MLP-5':\n",
    "            self.layers = torch.nn.Sequential(\n",
    "                torch.nn.Linear(input_dim, 256),\n",
    "                torch.nn.ReLU(),\n",
    "                torch.nn.Linear(256, 128),\n",
    "                torch.nn.ReLU(),\n",
    "                torch.nn.Linear(128, output_dim)\n",
    "            )\n",
    "        if model_type == 'MLP-6':\n",
    "            self.layers = torch.nn.Sequential(\n",
    "                torch.nn.Linear(input_dim, 32),\n",
    "                torch.nn.ReLU(),\n",
    "                torch.nn.Linear(32, output_dim)\n",
    "            )\n",
    "        if model_type == 'MLP-7':\n",
    "            self.layers = torch.nn.Sequential(\n",
    "                torch.nn.Linear(input_dim, 16),\n",
    "                torch.nn.ReLU(),\n",
    "                torch.nn.Linear(16, output_dim)\n",
    "            )\n",
    "        if model_type == 'MLP-8':\n",
    "            self.layers = torch.nn.Sequential(\n",
    "                torch.nn.Linear(input_dim, 8),\n",
    "                torch.nn.ReLU(),\n",
    "                torch.nn.Linear(8, output_dim)\n",
    "            )\n",
    "        if model_type == 'MLP-9':\n",
    "            self.layers = torch.nn.Sequential(\n",
    "                torch.nn.Linear(input_dim, 8),\n",
    "                torch.nn.ReLU(),\n",
    "                torch.nn.Linear(input_dim, 16),\n",
    "                torch.nn.ReLU(),\n",
    "                torch.nn.Linear(16, output_dim)\n",
    "            )\n",
    "        self.n_output_neurons = output_dim\n",
    "\n",
    "    def forward(self, x: torch.FloatTensor) -> torch.FloatTensor:\n",
    "        outputs = self.layers(x)\n",
    "        return outputs\n",
    "\n",
    "\n",
    "def data_X_to_torch(data) -> torch.FloatTensor:\n",
    "    \"\"\" Creates torch training data.\"\"\"\n",
    "    data_X = torch.from_numpy(np.array(data).astype(np.float32))\n",
    "    return data_X\n",
    "\n",
    "\n",
    "def data_to_torch(data, labels) -> Tuple[torch.FloatTensor, torch.LongTensor]:\n",
    "    \"\"\" Creates torch training data and labels.\"\"\"\n",
    "    data_X = data_X_to_torch(data)\n",
    "    data_y = torch.as_tensor(torch.from_numpy(labels), dtype=torch.long)\n",
    "    return data_X, data_y\n",
    "\n",
    "\n",
    "def get_device() -> torch.device:\n",
    "    \"\"\" Gets the `device` to be used by torch.\n",
    "    This arugment is needed to operate with the PyTorch model instance.\n",
    "\n",
    "    Returns\n",
    "    ------\n",
    "    torch.device\n",
    "        Device\n",
    "    \"\"\"\n",
    "    use_cuda = torch.cuda.is_available()\n",
    "    device = torch.device('cuda:0' if use_cuda else 'cpu')\n",
    "    torch.backends.cudnn.benchmark = True\n",
    "    return device\n",
    "\n",
    "\n",
    "class NeuralNetwork(Logger):\n",
    "    \"\"\" The neural network class corresponding to every inner node.\n",
    "\n",
    "    Parameters\n",
    "    ----------\n",
    "    input_dim : int\n",
    "        The input dimension.\n",
    "    output_dim : int\n",
    "        The output dimension.\n",
    "    loss : torch.nn, optional\n",
    "        The loss function, the default is torch.nn.CrossEntropyLoss.\n",
    "    lr : float, optional\n",
    "        The learning rate, the default is 0.001.\n",
    "    model_type : str, optional\n",
    "        The model type, the default is 'MLP'.\n",
    "    class_weight : torch.FloatTensor, optional\n",
    "        The class weights, the default is None.\n",
    "    \"\"\"\n",
    "    def __init__(\n",
    "        self,\n",
    "        input_dim,\n",
    "        output_dim,\n",
    "        loss=torch.nn.CrossEntropyLoss,\n",
    "        lr=0.1,\n",
    "        model_type='MLP',\n",
    "        class_weight=None\n",
    "    ):\n",
    "        self.device = get_device()\n",
    "        self.model = Model(input_dim, output_dim, model_type=model_type).to(self.device)\n",
    "        if not isinstance(class_weight, type(None)):\n",
    "            self.loss = loss(weight=class_weight.to(self.device))\n",
    "        else:\n",
    "            self.loss = loss()\n",
    "        self.optimizer = torch.optim.Adam(self.model.parameters(), lr=lr)\n",
    "\n",
    "    def train(\n",
    "        self,\n",
    "        data_X: torch.FloatTensor,\n",
    "        data_y: torch.LongTensor,\n",
    "        epochs=500,\n",
    "        logger=None\n",
    "    ):\n",
    "        step = epochs // 10\n",
    "        losses = []\n",
    "        if logger:\n",
    "            logger.info(f'Epochs: {epochs}, step: {step}')\n",
    "        for ep in range(epochs):\n",
    "            pred_y = self.model(data_X.to(self.device))\n",
    "            curr_loss = self.loss(pred_y, data_y.to(self.device))\n",
    "            if ep % step == 0 and ep != 0:\n",
    "                if logger:\n",
    "                    logger.info(f'Epoch {ep} | Loss {curr_loss.item()}')\n",
    "            losses.append(curr_loss.item())\n",
    "\n",
    "            self.model.zero_grad()\n",
    "            curr_loss.backward()\n",
    "\n",
    "            self.optimizer.step()\n",
    "        return losses\n",
    "\n",
    "    def train_batch(\n",
    "        self,\n",
    "        dataset,\n",
    "        epochs=5,\n",
    "        logger=None\n",
    "    ):\n",
    "        step = epochs // 10\n",
    "        step = step if step > 0 else 1\n",
    "        losses = []\n",
    "        if logger:\n",
    "            logger.info(f'Epochs: {epochs}, step: {step}')\n",
    "        for ep in range(epochs):\n",
    "            for data_X, data_y in iter(dataset):\n",
    "                pred_y = self.model(data_X.to(self.device))\n",
    "                curr_loss = self.loss(pred_y, data_y.to(self.device))\n",
    "\n",
    "            if ep % step == 0 and ep != 0:\n",
    "                if logger:\n",
    "                    logger.info(f'Epoch {ep} | Loss {curr_loss.item():.5f}')\n",
    "            losses.append(curr_loss.item())\n",
    "\n",
    "            self.model.zero_grad()\n",
    "            curr_loss.backward()\n",
    "\n",
    "            self.optimizer.step()\n",
    "        return losses\n",
    "\n",
    "    def predict(self, data_X: torch.FloatTensor):\n",
    "        \"\"\" Collects predictions for multiple data points (used in structure building).\"\"\"\n",
    "        self.model = self.model.to(self.device)\n",
    "        self.model.eval()\n",
    "\n",
    "        all_outputs = torch.tensor([], device=self.device)\n",
    "        with torch.no_grad():\n",
    "            outputs = self.model(data_X.to(self.device))\n",
    "            all_outputs = torch.cat((all_outputs, outputs), 0)\n",
    "\n",
    "        _, y_pred = torch.max(all_outputs, 1)\n",
    "        return y_pred.cpu().numpy()\n",
    "\n",
    "    def predict_proba(self, data_X: torch.FloatTensor):\n",
    "        \"\"\" Collects predictions for a single data point (used in query predictions).\"\"\"\n",
    "        self.model = self.model.to(self.device)\n",
    "        self.model.eval()\n",
    "\n",
    "        with torch.no_grad():\n",
    "            outputs = self.model(data_X.to(self.device))\n",
    "\n",
    "        if outputs.dim() == 1:\n",
    "            dim = 0\n",
    "        else:\n",
    "            dim = 1\n",
    "        prob = nnf.softmax(outputs, dim=dim)\n",
    "        probs, classes = prob.topk(prob.shape[1])\n",
    "\n",
    "        return probs.cpu().numpy(), classes.cpu().numpy()\n",
    "\n",
    "\n",
    "class LIDataset(torch.utils.data.Dataset):\n",
    "    def __init__(self, dataset_x, dataset_y):\n",
    "        self.dataset_x, self.dataset_y = data_to_torch(dataset_x, dataset_y)\n",
    "\n",
    "    def __len__(self):\n",
    "        return self.dataset_x.shape[0]\n",
    "\n",
    "    def __getitem__(self, idx):\n",
    "        return self.dataset_x[idx-1], self.dataset_y[idx-1]\n"
   ]
  },
  {
   "cell_type": "code",
   "execution_count": 10,
   "id": "b60be92e-0fdb-4b37-bec8-168843a043a6",
   "metadata": {},
   "outputs": [],
   "source": [
    "from sklearn.metrics.pairwise import cosine_similarity\n",
    "import numpy as np\n",
    "import time\n",
    "\n",
    "def pairwise_cosine_threshold(x, y, threshold, cat_idxs, k=10):\n",
    "    s = time.time()\n",
    "    result = 1-cosine_similarity(x, y)\n",
    "    t_pure_seq_search = time.time() - s\n",
    "    # create an array of consisten shapes\n",
    "    #print(result.shape)\n",
    "    #print(threshold.shape, threshold[cat_idxs].shape)\n",
    "    thresh_consistent = np.repeat(threshold[cat_idxs, np.newaxis], result.shape[1], 1)\n",
    "    relevant_dists = np.where(result < thresh_consistent)\n",
    "    # filter the relevant object ids\n",
    "    try:\n",
    "        relevant_object_ids = np.unique(relevant_dists[1])\n",
    "        max_idx = relevant_object_ids.shape[0]\n",
    "        if max_idx == 0:\n",
    "            return None, t_pure_seq_search\n",
    "    except ValueError:\n",
    "        # There is no distance below the threshold, we can return\n",
    "        return None, t_pure_seq_search\n",
    "    max_idx = max_idx if max_idx > k else k\n",
    "    # output array filled with some large value\n",
    "    output_arr = np.full(shape=(result.shape[0], max_idx), fill_value=10_000, dtype=np.float)\n",
    "    #index_df = pd.DataFrame(relevant_dists[0])\n",
    "    #index_df = pd.DataFrame(relevant_dists[0], relevant_dists[1]).reset_index()\n",
    "    # create indexes to store the relevant distances\n",
    "    #index_df['mapping'] = index_df.groupby('index').ngroup()\n",
    "    mapping = dict(zip(relevant_object_ids, np.arange(relevant_object_ids.shape[0])))\n",
    "    # tried also with np.vectorize, wasn't faster\n",
    "    output_arr_2nd_dim = np.array([mapping[x] for x in relevant_dists[1]])\n",
    "    to_be_added = result[relevant_dists[0], relevant_dists[1]]\n",
    "    # populate the output array\n",
    "    output_arr[relevant_dists[0], output_arr_2nd_dim] = to_be_added\n",
    "    return output_arr, relevant_object_ids, t_pure_seq_search"
   ]
  },
  {
   "cell_type": "code",
   "execution_count": 11,
   "id": "c9ea228f-0c7b-480f-be0a-ccef4a35ef30",
   "metadata": {},
   "outputs": [
    {
     "name": "stderr",
     "output_type": "stream",
     "text": [
      "[2023-07-14 16:43:40,410][INFO ][faiss.loader] Loading faiss with AVX2 support.\n",
      "[2023-07-14 16:43:40,413][INFO ][faiss.loader] Could not load library with AVX2 support due to:\n",
      "ModuleNotFoundError(\"No module named 'faiss.swigfaiss_avx2'\",)\n",
      "[2023-07-14 16:43:40,415][INFO ][faiss.loader] Loading faiss.\n",
      "[2023-07-14 16:43:40,462][INFO ][faiss.loader] Successfully loaded faiss.\n"
     ]
    }
   ],
   "source": [
    "import numpy as np\n",
    "from li.Logger import Logger\n",
    "from li.utils import pairwise_cosine\n",
    "import time\n",
    "import torch\n",
    "import torch.utils.data\n",
    "import faiss\n",
    "from tqdm import tqdm\n",
    "import numpy as np\n",
    "torch.manual_seed(2023)\n",
    "np.random.seed(2023)\n",
    "\n",
    "class LearnedIndex(Logger):\n",
    "\n",
    "    def __init__(self):\n",
    "        self.pq = []\n",
    "        self.model = None\n",
    "\n",
    "    def search(\n",
    "        self,\n",
    "        data_navigation,\n",
    "        queries_navigation,\n",
    "        data_search,\n",
    "        queries_search,\n",
    "        pred_categories,\n",
    "        n_buckets=1,\n",
    "        k=10,\n",
    "        use_threshold=False\n",
    "    ):\n",
    "        \"\"\" Search for k nearest neighbors for each query in queries.\n",
    "\n",
    "        Parameters\n",
    "        ----------\n",
    "        queries : np.array\n",
    "            Queries to search for.\n",
    "        data : np.array\n",
    "            Data to search in.\n",
    "        n_buckets : int\n",
    "            Number of most similar buckets to search in.\n",
    "        k : int\n",
    "            Number of nearest neighbors to search for.\n",
    "\n",
    "        Returns\n",
    "        -------\n",
    "        dists : np.array\n",
    "            Array of shape (queries.shape[0], k) with distances to nearest neighbors for each query.\n",
    "        anns : np.array\n",
    "            Array of shape (queries.shape[0], k) with nearest neighbors for each query.\n",
    "        time : float\n",
    "            Time it took to search.\n",
    "        \"\"\"\n",
    "        assert self.model is not None, 'Model is not trained, call `build` first.'\n",
    "        s = time.time()\n",
    "        _, pred_proba_categories = self.model.predict_proba(\n",
    "            data_X_to_torch(queries_navigation)\n",
    "        )\n",
    "        t_inference = time.time() - s\n",
    "        anns_final = None\n",
    "        dists_final = None\n",
    "        # sorts the predictions of a bucket for each query, ordered by lowest probability\n",
    "        data_navigation['category'] = pred_categories\n",
    "\n",
    "        # iterates over the predicted buckets starting from the most similar (index -1)\n",
    "        t_all_buckets = 0\n",
    "        t_all_pairwise = 0\n",
    "        t_all_sort = 0\n",
    "        t_all_pure_pairwise = 0\n",
    "        t_comp_threshold = 0\n",
    "        for bucket in range(n_buckets):\n",
    "            if bucket != 0 and use_threshold:\n",
    "                s_ = time.time()\n",
    "                threshold_dist = dists_final.max(axis=1)\n",
    "                t_comp_threshold += time.time() - s_\n",
    "            else:\n",
    "                threshold_dist = None\n",
    "            dists, anns, t_all, t_pairwise, t_pure_pairwise, t_sort = self.search_single(\n",
    "                data_navigation,\n",
    "                data_search,\n",
    "                queries_search,\n",
    "                pred_proba_categories[:, bucket],\n",
    "                threshold_dist=threshold_dist\n",
    "            )\n",
    "            print(bucket, anns[2], dists[2])\n",
    "            t_all_buckets += t_all\n",
    "            t_all_pairwise += t_pairwise\n",
    "            t_all_pure_pairwise += t_pure_pairwise\n",
    "            t_all_sort += t_sort\n",
    "            if anns_final is None:\n",
    "                anns_final = anns\n",
    "                dists_final = dists\n",
    "            else:\n",
    "                # stacks the results from the previous sorted anns and dists\n",
    "                # *_final arrays now have shape (queries.shape[0], k*2)\n",
    "                anns_final = np.hstack((anns_final, anns))\n",
    "                dists_final = np.hstack((dists_final, dists))\n",
    "                # gets the sorted indices of the stacked dists\n",
    "                idx_sorted = dists_final.argsort(kind='stable', axis=1)[:, :k]\n",
    "                # indexes the final arrays with the sorted indices\n",
    "                # *_final arrays now have shape (queries.shape[0], k)\n",
    "                idx = np.ogrid[tuple(map(slice, dists_final.shape))]\n",
    "                idx[1] = idx_sorted\n",
    "                dists_final = dists_final[tuple(idx)]\n",
    "                anns_final = anns_final[tuple(idx)]\n",
    "\n",
    "                assert anns_final.shape == dists_final.shape == (queries_search.shape[0], k)\n",
    "\n",
    "        self.logger.info(f't_comp_threshold: {t_comp_threshold}')\n",
    "        return dists_final, anns_final, time.time() - s, t_inference, t_all_buckets, t_all_pairwise, t_all_pure_pairwise, t_all_sort\n",
    "\n",
    "    def search_single(\n",
    "        self,\n",
    "        data_navigation,\n",
    "        data_search,\n",
    "        queries_search,\n",
    "        pred_categories,\n",
    "        k=10,\n",
    "        threshold_dist=None\n",
    "    ):\n",
    "        \"\"\" Search for k nearest neighbors for each query in queries.\n",
    "\n",
    "        Parameters\n",
    "        ----------\n",
    "        queries : np.array\n",
    "            Queries to search for.\n",
    "        data : np.array\n",
    "            Data to search in.\n",
    "        k : int\n",
    "            Number of nearest neighbors to search for.\n",
    "\n",
    "        Returns\n",
    "        -------\n",
    "        anns : np.array\n",
    "            Array of shape (queries.shape[0], k) with nearest neighbors for each query.\n",
    "        final_dists_k : np.array\n",
    "            Array of shape (queries.shape[0], k) with distances to nearest neighbors for each query.\n",
    "        time : float\n",
    "            Time it took to search.\n",
    "        \"\"\"\n",
    "        s_all = time.time()\n",
    "        nns = np.zeros((queries_search.shape[0], k), dtype=np.uint32)\n",
    "        dists = np.full((queries_search.shape[0], k), fill_value=10_000, dtype=np.float32)\n",
    "\n",
    "        if 'category' in data_search.columns:\n",
    "            data_search = data_search.drop('category', axis=1, errors='ignore')\n",
    "\n",
    "        t_pairwise = 0\n",
    "        t_pure_pairwise = 0\n",
    "        t_sort = 0\n",
    "        for cat, g in tqdm(data_navigation.groupby('category')):\n",
    "            cat_idxs = np.where(pred_categories == cat)[0]\n",
    "            bucket_obj_indexes = g.index\n",
    "            if bucket_obj_indexes.shape[0] != 0 and cat_idxs.shape[0] != 0:\n",
    "                s = time.time()\n",
    "                # TODO: Add filter, filter will be different for every query\n",
    "                # OR pass nns, dists from previous buckets\n",
    "                if threshold_dist is not None:\n",
    "                    seq_search_dists = pairwise_cosine_threshold(\n",
    "                        queries_search[cat_idxs],\n",
    "                        data_search.loc[bucket_obj_indexes],\n",
    "                        threshold_dist,\n",
    "                        cat_idxs,\n",
    "                        k\n",
    "                    )\n",
    "                    if seq_search_dists[0] is None:\n",
    "                        t_pure_pairwise += seq_search_dists[1]\n",
    "                        # There is no distance below the threshold, we can continue\n",
    "                        continue\n",
    "                    else:\n",
    "                        # seq_search_dists[1] contains the indexes of the relevant objects\n",
    "                        bucket_obj_indexes = bucket_obj_indexes[seq_search_dists[1]]\n",
    "                        t_pure_pairwise += seq_search_dists[2]\n",
    "                        seq_search_dists = seq_search_dists[0]\n",
    "                else:\n",
    "                    s_ = time.time()\n",
    "                    seq_search_dists = pairwise_cosine(\n",
    "                        queries_search[cat_idxs],\n",
    "                        data_search.loc[bucket_obj_indexes]\n",
    "                    )\n",
    "                    t_pure_pairwise += time.time() - s_\n",
    "                t_pairwise += time.time() - s\n",
    "                s = time.time()\n",
    "                ann_relative = seq_search_dists.argsort(kind='quicksort')[\n",
    "                    :, :k if k < seq_search_dists.shape[1] else seq_search_dists.shape[1]\n",
    "                ]\n",
    "                t_sort += time.time() - s\n",
    "                if bucket_obj_indexes.shape[0] < k:\n",
    "                    # pad to `k` if needed\n",
    "                    pad_needed = (k - bucket_obj_indexes.shape[0]) // 2 + 1\n",
    "                    bucket_obj_indexes = np.pad(np.array(bucket_obj_indexes), pad_needed, 'edge')[:k]\n",
    "                    ann_relative = np.pad(ann_relative[0], pad_needed, 'edge')[:k].reshape(1, -1)\n",
    "                    seq_search_dists = np.pad(seq_search_dists[0], pad_needed, 'edge')[:k].reshape(1, -1)\n",
    "                    _, i = np.unique(seq_search_dists, return_index=True)\n",
    "                    duplicates_i = np.setdiff1d(np.arange(k), i)\n",
    "                    # assign a large number such that the duplicated value gets replaced\n",
    "                    seq_search_dists[0][duplicates_i] = 10_000\n",
    "\n",
    "                nns[cat_idxs] = np.array(bucket_obj_indexes)[ann_relative]\n",
    "                dists[cat_idxs] = np.take_along_axis(seq_search_dists, ann_relative, axis=1)\n",
    "        t_all = time.time() - s_all\n",
    "        return dists, nns, t_all, t_pairwise, t_pure_pairwise, t_sort\n",
    "\n",
    "    \n",
    "    def build(self, data, n_categories=100, epochs=100, lr=0.1, model_type='MLP', n_levels=1):\n",
    "        \"\"\" Build the index.\n",
    "\n",
    "        Parameters\n",
    "        ----------\n",
    "        data : np.array\n",
    "            Data to build the index on.\n",
    "\n",
    "        Returns\n",
    "        -------\n",
    "        time : float\n",
    "            Time it took to build the index.\n",
    "        \"\"\"\n",
    "        s = time.time()\n",
    "        # ---- cluster the data into categories ---- #\n",
    "        _, labels = self.cluster(data, n_categories)\n",
    "\n",
    "        # ---- train a neural network ---- #\n",
    "        dataset = LIDataset(data, labels)\n",
    "        train_loader = torch.utils.data.DataLoader(\n",
    "            dataset,\n",
    "            batch_size=256,\n",
    "            sampler=torch.utils.data.SubsetRandomSampler(\n",
    "                data.index.values.tolist()\n",
    "            )\n",
    "        )\n",
    "        nn = NeuralNetwork(\n",
    "            input_dim=data.shape[1],\n",
    "            output_dim=n_categories,\n",
    "            lr=lr,\n",
    "            model_type=model_type\n",
    "        )\n",
    "        nn.train_batch(train_loader, epochs=epochs, logger=self.logger)\n",
    "        self.model = nn\n",
    "        # ---- collect predictions ---- #\n",
    "        if n_levels == 1:\n",
    "            return nn.predict(data_X_to_torch(data)), time.time() - s\n",
    "        else:\n",
    "            predict_categories = nn.predict(data_X_to_torch(data))\n",
    "            # ---- train a neural network for each category ---- #\n",
    "            models = []\n",
    "            predict_categories_l2 = pd.DataFrame([], index=data.index)\n",
    "            predict_categories_l2['L2'] = None\n",
    "            for cat in range(n_categories):\n",
    "                cat_data = data.loc[predict_categories == cat]\n",
    "                #cat_labels = predict_categories[labels == cat]\n",
    "                _, cat_labels = self.cluster(cat_data, n_categories)\n",
    "                dataset = LIDataset(cat_data, cat_labels)\n",
    "                train_loader = torch.utils.data.DataLoader(\n",
    "                    dataset,\n",
    "                    batch_size=256,\n",
    "                    sampler=torch.utils.data.SubsetRandomSampler(\n",
    "                        np.arange(cat_data.index.shape[0]).tolist()# + 1\n",
    "                        #c#at_data.index.values.tolist()\n",
    "                    )\n",
    "                )\n",
    "                nn = NeuralNetwork(\n",
    "                    input_dim=cat_data.shape[1],\n",
    "                    output_dim=n_categories,\n",
    "                    lr=lr,\n",
    "                    model_type=model_type\n",
    "                )\n",
    "                nn.train_batch(train_loader, epochs=epochs, logger=self.logger)\n",
    "                models.append(nn)\n",
    "                predict_categories_l2.loc[cat_data.index, 'L2'] = nn.predict(data_X_to_torch(cat_data))\n",
    "            self.models = models\n",
    "            return self.model.predict(data_X_to_torch(data)), predict_categories_l2, time.time() - s\n",
    "\n",
    "\n",
    "    def cluster(\n",
    "        self,\n",
    "        data,\n",
    "        n_clusters,\n",
    "        n_redo=10,\n",
    "        spherical=True,\n",
    "        int_centroids=True,\n",
    "\n",
    "    ):\n",
    "        if data.shape[0] < 2:\n",
    "            return None, np.zeros_like(data.shape[0])\n",
    "\n",
    "        if data.shape[0] < n_clusters:\n",
    "            n_clusters = data.shape[0] // 5\n",
    "            if n_clusters < 2:\n",
    "                n_clusters = 2\n",
    "\n",
    "        kmeans = faiss.Kmeans(\n",
    "            d=np.array(data).shape[1],\n",
    "            k=n_clusters,\n",
    "            verbose=True,\n",
    "            #nredo=n_redo,\n",
    "            #spherical=spherical,\n",
    "            #int_centroids=int_centroids,\n",
    "            #update_index=False,\n",
    "            seed=2023\n",
    "        )\n",
    "        X = np.array(data).astype(np.float32)\n",
    "        kmeans.train(X)\n",
    "\n",
    "        return kmeans, kmeans.index.search(X, 1)[1].T[0]\n"
   ]
  },
  {
   "cell_type": "code",
   "execution_count": 12,
   "id": "d5d592c5-9e75-4718-9f49-4668493bd1a2",
   "metadata": {},
   "outputs": [
    {
     "name": "stderr",
     "output_type": "stream",
     "text": [
      "[2023-07-14 16:43:41,243][INFO ][__main__.LearnedInde] Epochs: 5, step: 1\n",
      "[2023-07-14 16:43:45,582][INFO ][__main__.LearnedInde] Epoch 1 | Loss 4.72351\n",
      "[2023-07-14 16:43:47,782][INFO ][__main__.LearnedInde] Epoch 2 | Loss 4.69153\n",
      "[2023-07-14 16:43:49,900][INFO ][__main__.LearnedInde] Epoch 3 | Loss 4.32741\n",
      "[2023-07-14 16:43:51,897][INFO ][__main__.LearnedInde] Epoch 4 | Loss 4.13195\n"
     ]
    }
   ],
   "source": [
    "li = LearnedIndex()\n",
    "pred_categories, build_t = li.build(\n",
    "    data,\n",
    "    n_categories=120,\n",
    "    epochs=5,\n",
    "    lr=0.1,\n",
    "    n_levels=1\n",
    ")"
   ]
  },
  {
   "cell_type": "code",
   "execution_count": 13,
   "id": "bc0676a0-9225-4330-ba42-88b7f2999703",
   "metadata": {},
   "outputs": [],
   "source": [
    "queries_navigation = queries\n",
    "data_navigation = data"
   ]
  },
  {
   "cell_type": "code",
   "execution_count": 14,
   "id": "65dbe392-7532-42fc-89e9-d617670a252d",
   "metadata": {},
   "outputs": [],
   "source": [
    "data_navigation['category'] = pred_categories"
   ]
  },
  {
   "cell_type": "code",
   "execution_count": 15,
   "id": "9fe66965-e6ff-4414-b423-936bd7f493d3",
   "metadata": {},
   "outputs": [],
   "source": [
    "_, pred_proba_categories = li.model.predict_proba(\n",
    "    data_X_to_torch(queries_navigation)\n",
    ")"
   ]
  },
  {
   "cell_type": "code",
   "execution_count": 16,
   "id": "32a11e2a-7631-43ae-9699-3835dd8d28b3",
   "metadata": {},
   "outputs": [],
   "source": [
    "k = 10"
   ]
  },
  {
   "cell_type": "code",
   "execution_count": 17,
   "id": "4cb9df54-4f9c-43d5-b733-9118d063c1c2",
   "metadata": {},
   "outputs": [],
   "source": [
    "bucket = 6"
   ]
  },
  {
   "cell_type": "code",
   "execution_count": 18,
   "id": "82bcea61-3b40-44db-ae9c-62db1a5f678c",
   "metadata": {},
   "outputs": [
    {
     "ename": "NameError",
     "evalue": "name 'loaded_gt' is not defined",
     "output_type": "error",
     "traceback": [
      "\u001b[0;31m---------------------------------------------------------------------------\u001b[0m",
      "\u001b[0;31mNameError\u001b[0m                                 Traceback (most recent call last)",
      "\u001b[0;32m<ipython-input-18-4a0aa3465847>\u001b[0m in \u001b[0;36m<module>\u001b[0;34m\u001b[0m\n\u001b[0;32m----> 1\u001b[0;31m \u001b[0mloaded_gt\u001b[0m\u001b[0;34m[\u001b[0m\u001b[0;36m2\u001b[0m\u001b[0;34m]\u001b[0m\u001b[0;34m[\u001b[0m\u001b[0;34m:\u001b[0m\u001b[0;36m10\u001b[0m\u001b[0;34m]\u001b[0m\u001b[0;34m\u001b[0m\u001b[0m\n\u001b[0m",
      "\u001b[0;31mNameError\u001b[0m: name 'loaded_gt' is not defined"
     ]
    }
   ],
   "source": [
    "loaded_gt[2][:10]"
   ]
  },
  {
   "cell_type": "code",
   "execution_count": 19,
   "id": "66ecae9d-8465-4d6a-941e-0e40262e0ec3",
   "metadata": {},
   "outputs": [
    {
     "name": "stderr",
     "output_type": "stream",
     "text": [
      "100%|██████████| 46/46 [00:18<00:00,  2.49it/s]\n",
      "  4%|▍         | 2/46 [00:00<00:03, 13.72it/s]"
     ]
    },
    {
     "name": "stdout",
     "output_type": "stream",
     "text": [
      "0 [51954 87690  3444  5491 65271 92521 58848 72008 63515 68040] [0.13460062 0.14457192 0.15563862 0.15744463 0.15815064 0.16120386\n",
      " 0.1637611  0.16689926 0.16764964 0.17210594]\n"
     ]
    },
    {
     "name": "stderr",
     "output_type": "stream",
     "text": [
      "100%|██████████| 46/46 [00:08<00:00,  5.14it/s]\n",
      "  4%|▍         | 2/46 [00:00<00:03, 12.80it/s]"
     ]
    },
    {
     "name": "stdout",
     "output_type": "stream",
     "text": [
      "1 [  398 64782 64673 64598 64406 64140 64130 63814 63241 63111] [10000. 10000. 10000. 10000. 10000. 10000. 10000. 10000. 10000. 10000.]\n"
     ]
    },
    {
     "name": "stderr",
     "output_type": "stream",
     "text": [
      "100%|██████████| 46/46 [00:07<00:00,  6.43it/s]\n",
      "  4%|▍         | 2/46 [00:00<00:03, 13.78it/s]"
     ]
    },
    {
     "name": "stdout",
     "output_type": "stream",
     "text": [
      "2 [   23 66833 66880 66906 66937 67088 67204 66741 67241 67289] [10000. 10000. 10000. 10000. 10000. 10000. 10000. 10000. 10000. 10000.]\n"
     ]
    },
    {
     "name": "stderr",
     "output_type": "stream",
     "text": [
      "100%|██████████| 46/46 [00:06<00:00,  7.32it/s]\n",
      "  4%|▍         | 2/46 [00:00<00:03, 12.41it/s]"
     ]
    },
    {
     "name": "stdout",
     "output_type": "stream",
     "text": [
      "3 [  409 65511 65529 65656 65818 66190 66192 66225 65505 66464] [10000. 10000. 10000. 10000. 10000. 10000. 10000. 10000. 10000. 10000.]\n"
     ]
    },
    {
     "name": "stderr",
     "output_type": "stream",
     "text": [
      "100%|██████████| 46/46 [00:05<00:00,  7.77it/s]\n",
      "  4%|▍         | 2/46 [00:00<00:03, 12.15it/s]"
     ]
    },
    {
     "name": "stdout",
     "output_type": "stream",
     "text": [
      "4 [0 0 0 0 0 0 0 0 0 0] [10000. 10000. 10000. 10000. 10000. 10000. 10000. 10000. 10000. 10000.]\n"
     ]
    },
    {
     "name": "stderr",
     "output_type": "stream",
     "text": [
      "100%|██████████| 46/46 [00:05<00:00,  8.18it/s]\n",
      "[2023-07-14 16:45:07,076][INFO ][__main__.LearnedInde] t_comp_threshold: 0.0023717880249023438\n"
     ]
    },
    {
     "name": "stdout",
     "output_type": "stream",
     "text": [
      "5 [0 0 0 0 0 0 0 0 0 0] [10000. 10000. 10000. 10000. 10000. 10000. 10000. 10000. 10000. 10000.]\n"
     ]
    }
   ],
   "source": [
    "dists, nns, search_t, inference_t, search_single_t, seq_search_t, pure_seq_search_t, sort_t = li.search(\n",
    "    data_navigation=data,\n",
    "    queries_navigation=queries,\n",
    "    data_search=data_search,\n",
    "    queries_search=queries_search,\n",
    "    pred_categories=pred_categories,\n",
    "    n_buckets=bucket,\n",
    "    k=k,\n",
    "    use_threshold=True\n",
    ")"
   ]
  },
  {
   "cell_type": "code",
   "execution_count": 23,
   "id": "d7545961-68e7-4fb0-98a2-a730b305df9f",
   "metadata": {},
   "outputs": [
    {
     "data": {
      "text/plain": [
       "array([[0., 0., 0., ..., 0., 0., 0.],\n",
       "       [0., 0., 0., ..., 0., 0., 0.],\n",
       "       [0., 0., 0., ..., 0., 0., 0.],\n",
       "       ...,\n",
       "       [0., 0., 0., ..., 0., 0., 0.],\n",
       "       [0., 0., 0., ..., 0., 0., 0.],\n",
       "       [0., 0., 0., ..., 0., 0., 0.]], dtype=float32)"
      ]
     },
     "execution_count": 23,
     "metadata": {},
     "output_type": "execute_result"
    }
   ],
   "source": [
    "dists"
   ]
  },
  {
   "cell_type": "code",
   "execution_count": 32,
   "id": "3ab1cc24-96c1-4c9d-b16e-1d751c107868",
   "metadata": {},
   "outputs": [
    {
     "data": {
      "text/plain": [
       "array([79172, 15735, 22337,   231, 74173, 41079, 38159, 71849, 69015,\n",
       "       92811], dtype=int32)"
      ]
     },
     "execution_count": 32,
     "metadata": {},
     "output_type": "execute_result"
    }
   ],
   "source": [
    "loaded_gt[0][:10]"
   ]
  },
  {
   "cell_type": "code",
   "execution_count": 23,
   "id": "087398e0-bd98-4dc5-8ab4-418b44f7744d",
   "metadata": {},
   "outputs": [
    {
     "name": "stderr",
     "output_type": "stream",
     "text": [
      "[2023-07-14 16:45:15,450][INFO ][__main__] Loading GT\n"
     ]
    }
   ],
   "source": [
    "LOG.info(f'Loading GT')\n",
    "gt_path = f'data/groundtruth-{size}.h5'\n",
    "f3 = h5py.File(gt_path, 'r')\n",
    "loaded_gt = f3['knns'][:, :]"
   ]
  },
  {
   "cell_type": "code",
   "execution_count": 24,
   "id": "4d55311d-11be-4428-80b4-12799f7ec0a1",
   "metadata": {},
   "outputs": [],
   "source": [
    "def get_recall(I, gt, k):\n",
    "    assert k <= I.shape[1]\n",
    "    assert len(I) == len(gt)\n",
    "\n",
    "    n = len(I)\n",
    "    recall = 0\n",
    "    for i in range(n):\n",
    "        recall += len(set(I[i, :k]) & set(gt[i, :k]))\n",
    "    return recall / (n * k)\n",
    "\n",
    "recall = get_recall(nns, loaded_gt, 10)"
   ]
  },
  {
   "cell_type": "code",
   "execution_count": 25,
   "id": "6cbd9be8-5d62-433c-8890-ad47e540fbd4",
   "metadata": {},
   "outputs": [
    {
     "data": {
      "text/plain": [
       "0.89478"
      ]
     },
     "execution_count": 25,
     "metadata": {},
     "output_type": "execute_result"
    }
   ],
   "source": [
    "recall"
   ]
  },
  {
   "cell_type": "code",
   "execution_count": null,
   "id": "53220337-30d1-4b4c-b1c4-fdb96acd212c",
   "metadata": {},
   "outputs": [],
   "source": [
    "[[5.8051813e-02 3.6613084e-02 3.6324631e-02 ... 4.9363379e-04\n",
    "  4.1887566e-04 3.1460408e-04]\n",
    " [6.7765884e-02 4.8477888e-02 4.6616543e-02 ... 2.8254880e-04\n",
    "  2.2255247e-04 1.7899058e-04]\n",
    " [2.6327980e-01 1.1470813e-01 5.6388140e-02 ... 1.2473087e-04\n",
    "  6.4560751e-05 5.8199759e-05]\n",
    " ...\n",
    " [9.9357553e-02 4.0632725e-02 3.5712827e-02 ... 3.6862367e-04\n",
    "  3.5981109e-04 2.7229940e-04]\n",
    " [6.6355608e-02 3.7934203e-02 3.7579723e-02 ... 3.9285724e-04\n",
    "  3.0156417e-04 2.0785566e-04]\n",
    " [3.3466626e-02 3.2320090e-02 2.8980738e-02 ... 1.2179379e-03\n",
    "  1.1678757e-03 7.6151139e-04]]"
   ]
  },
  {
   "cell_type": "code",
   "execution_count": 29,
   "id": "1a6d40a9-d708-46f9-ba7c-f89b72490546",
   "metadata": {},
   "outputs": [
    {
     "name": "stdout",
     "output_type": "stream",
     "text": [
      "2\n"
     ]
    }
   ],
   "source": [
    "for n in range(10_000):\n",
    "    if not np.all(nns[n] == loaded_gt[n][:10]):\n",
    "        print(n)\n",
    "        break"
   ]
  },
  {
   "cell_type": "code",
   "execution_count": 20,
   "id": "2467dc10-041b-4169-a824-c3a5112c8d93",
   "metadata": {},
   "outputs": [
    {
     "data": {
      "text/plain": [
       "array([51954, 87690,  3444,  5491, 65271, 92521, 58848, 72008, 63515,\n",
       "       68040], dtype=uint32)"
      ]
     },
     "execution_count": 20,
     "metadata": {},
     "output_type": "execute_result"
    }
   ],
   "source": [
    "nns[2]"
   ]
  },
  {
   "cell_type": "code",
   "execution_count": 31,
   "id": "9d396a62-11fe-4fdd-9397-1a73c6cc8cda",
   "metadata": {},
   "outputs": [
    {
     "data": {
      "text/plain": [
       "array([51954, 87690,  3444,  5491, 65271, 92521, 58848, 72008, 63515,\n",
       "       68040], dtype=int32)"
      ]
     },
     "execution_count": 31,
     "metadata": {},
     "output_type": "execute_result"
    }
   ],
   "source": [
    "loaded_gt[2][:10]"
   ]
  },
  {
   "cell_type": "code",
   "execution_count": null,
   "id": "4c205c3e-2a61-475d-b917-75209d6e2128",
   "metadata": {},
   "outputs": [],
   "source": []
  },
  {
   "cell_type": "code",
   "execution_count": 33,
   "id": "0c15ad0c-72ec-40ec-8cb2-6552657f91f0",
   "metadata": {},
   "outputs": [
    {
     "data": {
      "text/plain": [
       "category       6\n",
       "category_L2    4\n",
       "Name: 79172, dtype: object"
      ]
     },
     "execution_count": 33,
     "metadata": {},
     "output_type": "execute_result"
    }
   ],
   "source": [
    "data_navigation.loc[79172][['category', 'category_L2']]"
   ]
  },
  {
   "cell_type": "code",
   "execution_count": 36,
   "id": "523e4741-037c-4e88-8b5d-4f60993bc47a",
   "metadata": {},
   "outputs": [
    {
     "data": {
      "text/plain": [
       "array([-0.06877425, -0.11037602,  0.05646035, -0.11508854, -0.03577028,\n",
       "        0.09110859,  0.07477964,  0.10778218,  0.04116842,  0.00877987,\n",
       "       -0.06257925, -0.17031246,  0.00780125, -0.099485  ,  0.04967897,\n",
       "       -0.12064676,  0.0035742 , -0.07642894,  0.08400699, -0.03188556,\n",
       "       -0.01020392,  0.07147753, -0.01378688, -0.10539152, -0.00040444,\n",
       "       -0.00291365,  0.12945361,  0.05624911,  0.00785595,  0.01020052,\n",
       "        0.06252866, -0.00992952], dtype=float32)"
      ]
     },
     "execution_count": 36,
     "metadata": {},
     "output_type": "execute_result"
    }
   ],
   "source": [
    "queries[0]"
   ]
  },
  {
   "cell_type": "code",
   "execution_count": 22,
   "id": "71a6c6d8-efc0-4c29-8510-59e9c3c8bb98",
   "metadata": {},
   "outputs": [
    {
     "data": {
      "text/plain": [
       "array([   2,   11,   14,   21,   29,   64,   66,   67,   81,   89,   96,\n",
       "        100,  117,  137,  148,  179,  181,  188,  203,  217,  221,  222,\n",
       "        233,  249,  255,  279,  284,  289,  290,  296,  297,  337,  347,\n",
       "        357,  377,  402,  404,  419,  421,  431,  434,  437,  442,  455,\n",
       "        459,  470,  481,  490,  497,  526,  532,  534,  552,  557,  584,\n",
       "        589,  590,  623,  639,  642,  679,  690,  695,  709,  734,  739,\n",
       "        758,  769,  778,  788,  793,  803,  809,  814,  835,  898,  908,\n",
       "        922,  927,  930,  954,  958,  970,  972,  974,  978,  990,  997,\n",
       "       1053, 1058, 1077, 1086, 1093, 1105, 1112, 1116, 1123, 1140, 1152,\n",
       "       1156, 1167, 1174, 1188, 1190, 1245, 1251, 1262, 1268, 1271, 1273,\n",
       "       1288, 1302, 1325, 1331, 1333, 1352, 1380, 1395, 1402, 1439, 1446,\n",
       "       1451, 1478, 1488, 1498, 1530, 1551, 1559, 1566, 1592, 1599, 1610,\n",
       "       1626, 1627, 1645, 1651, 1657, 1667, 1673, 1725, 1726, 1729, 1747,\n",
       "       1764, 1769, 1799, 1800, 1809, 1835, 1841, 1842, 1855, 1856, 1884,\n",
       "       1886, 1910, 1918, 1935, 1956, 1963, 1967, 1970, 1971, 1978, 2044,\n",
       "       2049, 2062, 2070, 2085, 2087, 2109, 2114, 2125, 2142, 2145, 2157,\n",
       "       2159, 2161, 2190, 2191, 2203, 2207, 2210, 2211, 2215, 2230, 2265,\n",
       "       2266, 2267, 2282, 2286, 2287, 2293, 2315, 2334, 2349, 2359, 2383,\n",
       "       2395, 2397, 2412, 2422, 2426, 2427, 2432, 2441, 2446, 2450, 2451,\n",
       "       2453, 2487, 2490, 2506, 2508, 2527, 2533, 2537, 2576, 2617, 2621,\n",
       "       2623, 2624, 2639, 2647, 2682, 2694, 2706, 2717, 2722, 2746, 2747,\n",
       "       2762, 2766, 2776, 2784, 2797, 2817, 2848, 2863, 2884, 2891, 2918,\n",
       "       2920, 2932, 2957, 2963, 2987, 2989, 2992, 2993, 2997, 3006, 3012,\n",
       "       3032, 3062, 3070, 3080, 3132, 3141, 3152, 3185, 3206, 3225, 3239,\n",
       "       3251, 3253, 3259, 3261, 3267, 3271, 3280, 3283, 3303, 3324, 3354,\n",
       "       3366, 3367, 3372, 3390, 3393, 3405, 3428, 3440, 3442, 3463, 3484,\n",
       "       3490, 3491, 3492, 3497, 3503, 3504, 3508, 3512, 3519, 3531, 3532,\n",
       "       3548, 3567, 3574, 3596, 3643, 3651, 3658, 3664, 3666, 3686, 3688,\n",
       "       3710, 3719, 3720, 3738, 3739, 3744, 3745, 3759, 3788, 3790, 3800,\n",
       "       3809, 3822, 3831, 3837, 3851, 3857, 3858, 3871, 3873, 3882, 3884,\n",
       "       3889, 3920, 3949, 3954, 3973, 3989, 4029, 4063, 4074, 4125, 4127,\n",
       "       4129, 4142, 4169, 4170, 4172, 4204, 4217, 4219, 4238, 4274, 4285,\n",
       "       4296, 4310, 4316, 4349, 4350, 4377, 4399, 4402, 4408, 4418, 4426,\n",
       "       4428, 4433, 4438, 4441, 4443, 4465, 4467, 4500, 4506, 4530, 4531,\n",
       "       4532, 4535, 4539, 4541, 4545, 4551, 4582, 4598, 4603, 4606, 4617,\n",
       "       4643, 4645, 4650, 4653, 4710, 4719, 4729, 4738, 4749, 4772, 4785,\n",
       "       4802, 4803, 4812, 4864, 4875, 4884, 4917, 4920, 4921, 4923, 4935,\n",
       "       4957, 4988, 4999, 5018, 5087, 5093, 5125, 5137, 5182, 5196, 5203,\n",
       "       5248, 5253, 5254, 5255, 5281, 5287, 5293, 5322, 5333, 5340, 5345,\n",
       "       5366, 5384, 5387, 5392, 5413, 5424, 5450, 5457, 5462, 5476, 5521,\n",
       "       5567, 5570, 5593, 5599, 5609, 5610, 5613, 5620, 5636, 5639, 5643,\n",
       "       5665, 5682, 5683, 5698, 5702, 5706, 5711, 5723, 5730, 5742, 5748,\n",
       "       5752, 5791, 5795, 5810, 5838, 5854, 5855, 5871, 5893, 5907, 5927,\n",
       "       5936, 5962, 5978, 5980, 6004, 6028, 6035, 6055, 6077, 6084, 6096,\n",
       "       6106, 6134, 6161, 6169, 6184, 6206, 6208, 6220, 6228, 6230, 6240,\n",
       "       6254, 6262, 6268, 6273, 6278, 6283, 6308, 6312, 6313, 6318, 6326,\n",
       "       6345, 6346, 6365, 6400, 6402, 6407, 6423, 6429, 6435, 6440, 6451,\n",
       "       6474, 6475, 6489, 6504, 6507, 6512, 6520, 6526, 6527, 6580, 6614,\n",
       "       6616, 6630, 6639, 6647, 6648, 6654, 6693, 6710, 6747, 6750, 6751,\n",
       "       6771, 6776, 6779, 6781, 6783, 6785, 6815, 6842, 6845, 6849, 6862,\n",
       "       6868, 6869, 6916, 6921, 6943, 6969, 6974, 6976, 6989, 7007, 7044,\n",
       "       7049, 7096, 7108, 7158, 7162, 7164, 7201, 7214, 7219, 7220, 7260,\n",
       "       7264, 7267, 7289, 7294, 7315, 7321, 7330, 7343, 7357, 7373, 7375,\n",
       "       7398, 7403, 7408, 7417, 7429, 7434, 7465, 7468, 7471, 7473, 7474,\n",
       "       7479, 7486, 7505, 7518, 7530, 7533, 7537, 7543, 7544, 7595, 7598,\n",
       "       7621, 7631, 7640, 7642, 7648, 7662, 7664, 7666, 7677, 7689, 7691,\n",
       "       7692, 7706, 7707, 7717, 7737, 7758, 7762, 7792, 7799, 7811, 7824,\n",
       "       7863, 7867, 7908, 7918, 7924, 7936, 7949, 7960, 7961, 7965, 7969,\n",
       "       7987, 7989, 8006, 8020, 8031, 8041, 8075, 8082, 8086, 8092, 8098,\n",
       "       8099, 8114, 8119, 8145, 8156, 8161, 8183, 8186, 8204, 8228, 8242,\n",
       "       8252, 8256, 8261, 8304, 8306, 8307, 8326, 8356, 8361, 8378, 8384,\n",
       "       8390, 8397, 8416, 8418, 8435, 8443, 8453, 8470, 8493, 8509, 8538,\n",
       "       8557, 8574, 8598, 8605, 8643, 8654, 8668, 8684, 8695, 8717, 8729,\n",
       "       8734, 8749, 8768, 8773, 8784, 8785, 8793, 8890, 8931, 8938, 8941,\n",
       "       8942, 8955, 8962, 8966, 9025, 9035, 9039, 9040, 9046, 9057, 9075,\n",
       "       9086, 9107, 9113, 9119, 9133, 9166, 9182, 9183, 9185, 9192, 9222,\n",
       "       9238, 9247, 9249, 9259, 9283, 9295, 9305, 9326, 9333, 9340, 9341,\n",
       "       9342, 9374, 9381, 9382, 9392, 9394, 9402, 9404, 9418, 9438, 9443,\n",
       "       9449, 9452, 9453, 9456, 9468, 9483, 9490, 9502, 9511, 9522, 9538,\n",
       "       9548, 9556, 9565, 9580, 9582, 9602, 9627, 9658, 9660, 9670, 9672,\n",
       "       9677, 9679, 9697, 9702, 9710, 9712, 9714, 9725, 9728, 9734, 9772,\n",
       "       9782, 9791, 9793, 9804, 9807, 9817, 9826, 9836, 9859, 9863, 9865,\n",
       "       9869, 9876, 9911, 9918, 9923, 9936, 9947, 9955, 9975, 9996])"
      ]
     },
     "execution_count": 22,
     "metadata": {},
     "output_type": "execute_result"
    }
   ],
   "source": [
    "cat = ((0, 2))\n",
    "cat_idxs = np.where(pred_proba_categories[:, 0] == cat[0])[0]\n",
    "cat_idxs"
   ]
  },
  {
   "cell_type": "code",
   "execution_count": 23,
   "id": "2abd508f-fdc1-4e61-90d5-1d9bed14a618",
   "metadata": {},
   "outputs": [],
   "source": [
    "_, pred_proba_categories_l2 = li.models[cat[0]].predict_proba(\n",
    "    data_X_to_torch(queries_navigation[cat_idxs])\n",
    ")"
   ]
  },
  {
   "cell_type": "code",
   "execution_count": 24,
   "id": "49aab192-dc52-4b6e-837d-ece786a2c871",
   "metadata": {},
   "outputs": [],
   "source": [
    "cat_idxs2 = np.where(pred_proba_categories_l2[:, 0] == cat[1])[0]"
   ]
  },
  {
   "cell_type": "code",
   "execution_count": 26,
   "id": "af7e50f5-e715-4973-8976-036ef49e67ff",
   "metadata": {},
   "outputs": [
    {
     "data": {
      "text/plain": [
       "array([[-0.10336345, -0.01680509, -0.34836447, ...,  0.02956844,\n",
       "        -0.005949  , -0.01537791],\n",
       "       [-0.21702042,  0.04931362, -0.33564436, ...,  0.0011189 ,\n",
       "        -0.00168799, -0.07086135],\n",
       "       [-0.11757332,  0.00409064, -0.36369807, ...,  0.01488095,\n",
       "         0.09611854, -0.00749078],\n",
       "       ...,\n",
       "       [-0.04934649, -0.13572182, -0.23093528, ..., -0.03342572,\n",
       "         0.03512686, -0.02864448],\n",
       "       [ 0.09900215, -0.04749763, -0.28956988, ..., -0.01773802,\n",
       "        -0.02736606,  0.00395937],\n",
       "       [-0.326379  ,  0.11535953, -0.37847796, ..., -0.00936712,\n",
       "        -0.01018373,  0.03260171]], dtype=float32)"
      ]
     },
     "execution_count": 26,
     "metadata": {},
     "output_type": "execute_result"
    }
   ],
   "source": [
    "queries_navigation[cat_idxs][cat_idxs2]"
   ]
  },
  {
   "cell_type": "code",
   "execution_count": 25,
   "id": "d4e9ac21-fa62-4a34-81e2-c73708f2b5de",
   "metadata": {},
   "outputs": [
    {
     "data": {
      "text/plain": [
       "array([  0,   3,   6,   7,   9,  24,  26,  27,  32,  34,  37,  41,  46,\n",
       "        52,  59,  62,  65,  66,  77,  82,  85,  86,  91,  92,  94,  99,\n",
       "       103, 112, 116, 117, 128, 135, 136, 138, 140, 144, 145, 146, 152,\n",
       "       155, 158, 159, 162, 165, 174, 178, 187, 188, 191, 192, 193, 194,\n",
       "       195, 198, 199, 200, 203, 208, 209, 213, 220, 221, 224, 228, 229,\n",
       "       232, 244, 245, 250, 253, 254, 257, 258, 262, 263, 264, 268, 270,\n",
       "       275, 276, 277, 278, 286, 290, 293, 296, 298, 299, 302, 308, 313,\n",
       "       315, 317, 323, 325, 326, 329, 330, 333, 334, 338, 344, 347, 349,\n",
       "       351, 355, 359, 362, 367, 369, 379, 381, 389, 394, 397, 402, 405,\n",
       "       408, 411, 421, 427, 434, 439, 440, 442, 445, 446, 447, 449, 450,\n",
       "       453, 458, 465, 468, 471, 474, 477, 478, 481, 483, 486, 488, 490,\n",
       "       493, 496, 499, 500, 503, 505, 506, 507, 509, 510, 511, 514, 519,\n",
       "       522, 524, 530, 531, 532, 533, 536, 538, 540, 542, 543, 545, 548,\n",
       "       550, 553, 554, 555, 556, 557, 561, 563, 576, 579, 580, 584, 585,\n",
       "       588, 590, 593, 594, 599, 601, 602, 603, 610, 616, 618, 620, 621,\n",
       "       623, 631, 633, 642, 646, 647, 648, 652, 653, 659, 660, 661, 662,\n",
       "       663, 674, 675, 677, 683, 687, 689, 690, 694, 698, 701, 708, 710,\n",
       "       711, 720, 724, 727, 729, 731, 733, 735, 738, 740, 742, 744, 749,\n",
       "       751, 753, 756, 758, 759, 764, 765, 768, 769, 772, 773, 776, 777,\n",
       "       780, 781, 786, 787, 793, 797, 798])"
      ]
     },
     "execution_count": 25,
     "metadata": {},
     "output_type": "execute_result"
    }
   ],
   "source": [
    "cat_idxs2"
   ]
  },
  {
   "cell_type": "code",
   "execution_count": 40,
   "id": "d2337baa-b153-43cd-a3cb-501f3be3d2d8",
   "metadata": {},
   "outputs": [
    {
     "name": "stderr",
     "output_type": "stream",
     "text": [
      "100%|██████████| 87/87 [00:00<00:00, 888.25it/s]"
     ]
    },
    {
     "name": "stdout",
     "output_type": "stream",
     "text": [
      "(1310,)\n",
      "(197,)\n",
      "(6, 4) (2188,)\n",
      "[[-0.06877425 -0.11037602  0.05646035 ...  0.01020052  0.06252866\n",
      "  -0.00992952]\n",
      " [-0.06634384 -0.00121936  0.14378567 ...  0.01600719 -0.05402476\n",
      "  -0.00075561]\n",
      " [ 0.01517327  0.24030505 -0.12153216 ... -0.03119725 -0.00319142\n",
      "   0.01317247]\n",
      " ...\n",
      " [ 0.1413608  -0.23707068  0.1034386  ... -0.06873898 -0.02459563\n",
      "  -0.01605512]\n",
      " [ 0.2222981   0.20448652  0.06839564 ... -0.05685047  0.06249803\n",
      "   0.01774155]\n",
      " [-0.2926893   0.05588254  0.08324507 ...  0.05507554  0.03377704\n",
      "   0.00564649]]\n"
     ]
    },
    {
     "name": "stderr",
     "output_type": "stream",
     "text": [
      "\n"
     ]
    }
   ],
   "source": [
    "k = 10\n",
    "nns = np.zeros((queries_search.shape[0], k), dtype=np.uint32)\n",
    "dists = np.zeros((queries_search.shape[0], k), dtype=np.float32)\n",
    "\n",
    "for cat, g in tqdm(data_navigation.groupby(['category', 'category_L2'])):\n",
    "    if cat == ((6, 4)):\n",
    "        cat_idxs = np.where(pred_proba_categories[:, 0] == cat[0])[0]\n",
    "        print(cat_idxs.shape)\n",
    "        _, pred_proba_categories_l2 = li.models[cat[0]].predict_proba(\n",
    "            data_X_to_torch(queries_navigation[cat_idxs])\n",
    "        )\n",
    "        cat_idxs = np.where(pred_proba_categories_l2[:, 0] == cat[1])[0]\n",
    "        bucket_obj_indexes = g.index\n",
    "        print(cat_idxs.shape)\n",
    "        #bucket_obj_indexes = g.index\n",
    "        print(cat, g.index.shape)\n",
    "        print(queries[cat_idxs])\n",
    "        seq_search_dists = pairwise_cosine(\n",
    "            queries_search[cat_idxs],\n",
    "            data_search.loc[bucket_obj_indexes]\n",
    "        )\n",
    "        ann_relative = seq_search_dists.argsort(kind='quicksort')[\n",
    "            :, :k if k < seq_search_dists.shape[1] else seq_search_dists.shape[1]\n",
    "        ]\n",
    "        nns[cat_idxs] = np.array(bucket_obj_indexes)[ann_relative]\n",
    "        dists[cat_idxs] = np.take_along_axis(seq_search_dists, ann_relative, axis=1)"
   ]
  },
  {
   "cell_type": "code",
   "execution_count": 41,
   "id": "178124bd-93be-46dc-b918-8435fbe250de",
   "metadata": {},
   "outputs": [
    {
     "data": {
      "text/plain": [
       "array([[79172, 15735, 22337, ..., 71849, 69015, 92811],\n",
       "       [    0,     0,     0, ...,     0,     0,     0],\n",
       "       [    0,     0,     0, ...,     0,     0,     0],\n",
       "       ...,\n",
       "       [    0,     0,     0, ...,     0,     0,     0],\n",
       "       [    0,     0,     0, ...,     0,     0,     0],\n",
       "       [    0,     0,     0, ...,     0,     0,     0]], dtype=uint32)"
      ]
     },
     "execution_count": 41,
     "metadata": {},
     "output_type": "execute_result"
    }
   ],
   "source": [
    "nns"
   ]
  },
  {
   "cell_type": "code",
   "execution_count": 29,
   "id": "76203f62-eb06-4e5d-b595-51fed6194f0d",
   "metadata": {},
   "outputs": [
    {
     "data": {
      "text/plain": [
       "(10000, 10)"
      ]
     },
     "execution_count": 29,
     "metadata": {},
     "output_type": "execute_result"
    }
   ],
   "source": [
    "nns.shape"
   ]
  },
  {
   "cell_type": "code",
   "execution_count": 27,
   "id": "d9d766cf-68fb-41a1-a747-04b448d3127c",
   "metadata": {},
   "outputs": [
    {
     "data": {
      "text/plain": [
       "0.00426"
      ]
     },
     "execution_count": 27,
     "metadata": {},
     "output_type": "execute_result"
    }
   ],
   "source": [
    "recall"
   ]
  },
  {
   "cell_type": "code",
   "execution_count": 15,
   "id": "46a6c389-a471-4871-9432-15e8be73336c",
   "metadata": {},
   "outputs": [
    {
     "data": {
      "text/html": [
       "<div>\n",
       "<style scoped>\n",
       "    .dataframe tbody tr th:only-of-type {\n",
       "        vertical-align: middle;\n",
       "    }\n",
       "\n",
       "    .dataframe tbody tr th {\n",
       "        vertical-align: top;\n",
       "    }\n",
       "\n",
       "    .dataframe thead th {\n",
       "        text-align: right;\n",
       "    }\n",
       "</style>\n",
       "<table border=\"1\" class=\"dataframe\">\n",
       "  <thead>\n",
       "    <tr style=\"text-align: right;\">\n",
       "      <th></th>\n",
       "      <th>L2</th>\n",
       "    </tr>\n",
       "  </thead>\n",
       "  <tbody>\n",
       "    <tr>\n",
       "      <th>1</th>\n",
       "      <td>7</td>\n",
       "    </tr>\n",
       "    <tr>\n",
       "      <th>2</th>\n",
       "      <td>1</td>\n",
       "    </tr>\n",
       "    <tr>\n",
       "      <th>3</th>\n",
       "      <td>1</td>\n",
       "    </tr>\n",
       "    <tr>\n",
       "      <th>4</th>\n",
       "      <td>8</td>\n",
       "    </tr>\n",
       "    <tr>\n",
       "      <th>5</th>\n",
       "      <td>7</td>\n",
       "    </tr>\n",
       "    <tr>\n",
       "      <th>...</th>\n",
       "      <td>...</td>\n",
       "    </tr>\n",
       "    <tr>\n",
       "      <th>99996</th>\n",
       "      <td>7</td>\n",
       "    </tr>\n",
       "    <tr>\n",
       "      <th>99997</th>\n",
       "      <td>0</td>\n",
       "    </tr>\n",
       "    <tr>\n",
       "      <th>99998</th>\n",
       "      <td>6</td>\n",
       "    </tr>\n",
       "    <tr>\n",
       "      <th>99999</th>\n",
       "      <td>7</td>\n",
       "    </tr>\n",
       "    <tr>\n",
       "      <th>100000</th>\n",
       "      <td>3</td>\n",
       "    </tr>\n",
       "  </tbody>\n",
       "</table>\n",
       "<p>100000 rows × 1 columns</p>\n",
       "</div>"
      ],
      "text/plain": [
       "       L2\n",
       "1       7\n",
       "2       1\n",
       "3       1\n",
       "4       8\n",
       "5       7\n",
       "...    ..\n",
       "99996   7\n",
       "99997   0\n",
       "99998   6\n",
       "99999   7\n",
       "100000  3\n",
       "\n",
       "[100000 rows x 1 columns]"
      ]
     },
     "execution_count": 15,
     "metadata": {},
     "output_type": "execute_result"
    }
   ],
   "source": [
    "predict_categories_l2"
   ]
  },
  {
   "cell_type": "code",
   "execution_count": 85,
   "id": "828a78ee-f8c6-4808-842f-fb9a84f29b40",
   "metadata": {},
   "outputs": [
    {
     "data": {
      "text/plain": [
       "array([3])"
      ]
     },
     "execution_count": 85,
     "metadata": {},
     "output_type": "execute_result"
    }
   ],
   "source": [
    "li.model.predict(data_X_to_torch(data.iloc[1:2]))"
   ]
  },
  {
   "cell_type": "code",
   "execution_count": 86,
   "id": "8efc6c11-ff79-47d6-96bf-682a62219cb2",
   "metadata": {},
   "outputs": [
    {
     "data": {
      "text/plain": [
       "array([1])"
      ]
     },
     "execution_count": 86,
     "metadata": {},
     "output_type": "execute_result"
    }
   ],
   "source": [
    "li.models[3].predict(data_X_to_torch(data.iloc[1:2]))"
   ]
  },
  {
   "cell_type": "code",
   "execution_count": 93,
   "id": "42164929-9a27-4719-b29a-65afbe9ce73e",
   "metadata": {},
   "outputs": [],
   "source": [
    "data_navigation['category'] = pred_categories\n",
    "data_navigation['category_L2'] = predict_categories_l2"
   ]
  },
  {
   "cell_type": "code",
   "execution_count": 94,
   "id": "a266762e-d4f0-4195-bd37-61fc94d33c03",
   "metadata": {},
   "outputs": [
    {
     "data": {
      "text/html": [
       "<div>\n",
       "<style scoped>\n",
       "    .dataframe tbody tr th:only-of-type {\n",
       "        vertical-align: middle;\n",
       "    }\n",
       "\n",
       "    .dataframe tbody tr th {\n",
       "        vertical-align: top;\n",
       "    }\n",
       "\n",
       "    .dataframe thead th {\n",
       "        text-align: right;\n",
       "    }\n",
       "</style>\n",
       "<table border=\"1\" class=\"dataframe\">\n",
       "  <thead>\n",
       "    <tr style=\"text-align: right;\">\n",
       "      <th></th>\n",
       "      <th>0</th>\n",
       "      <th>1</th>\n",
       "      <th>2</th>\n",
       "      <th>3</th>\n",
       "      <th>4</th>\n",
       "      <th>5</th>\n",
       "      <th>6</th>\n",
       "      <th>7</th>\n",
       "      <th>8</th>\n",
       "      <th>9</th>\n",
       "      <th>...</th>\n",
       "      <th>24</th>\n",
       "      <th>25</th>\n",
       "      <th>26</th>\n",
       "      <th>27</th>\n",
       "      <th>28</th>\n",
       "      <th>29</th>\n",
       "      <th>30</th>\n",
       "      <th>31</th>\n",
       "      <th>category</th>\n",
       "      <th>category_L2</th>\n",
       "    </tr>\n",
       "  </thead>\n",
       "  <tbody>\n",
       "    <tr>\n",
       "      <th>1</th>\n",
       "      <td>0.142266</td>\n",
       "      <td>0.121459</td>\n",
       "      <td>-0.054467</td>\n",
       "      <td>-0.058987</td>\n",
       "      <td>0.049365</td>\n",
       "      <td>-0.107044</td>\n",
       "      <td>0.123232</td>\n",
       "      <td>0.003732</td>\n",
       "      <td>0.044797</td>\n",
       "      <td>-0.118452</td>\n",
       "      <td>...</td>\n",
       "      <td>-0.089511</td>\n",
       "      <td>0.077113</td>\n",
       "      <td>-0.118540</td>\n",
       "      <td>0.058264</td>\n",
       "      <td>0.065489</td>\n",
       "      <td>0.028578</td>\n",
       "      <td>-0.089683</td>\n",
       "      <td>0.126804</td>\n",
       "      <td>8</td>\n",
       "      <td>7</td>\n",
       "    </tr>\n",
       "    <tr>\n",
       "      <th>2</th>\n",
       "      <td>0.213798</td>\n",
       "      <td>-0.011502</td>\n",
       "      <td>-0.015170</td>\n",
       "      <td>0.149934</td>\n",
       "      <td>0.106344</td>\n",
       "      <td>0.082373</td>\n",
       "      <td>-0.120631</td>\n",
       "      <td>-0.061052</td>\n",
       "      <td>0.068679</td>\n",
       "      <td>0.033809</td>\n",
       "      <td>...</td>\n",
       "      <td>0.004503</td>\n",
       "      <td>-0.046667</td>\n",
       "      <td>-0.043632</td>\n",
       "      <td>-0.086331</td>\n",
       "      <td>-0.011793</td>\n",
       "      <td>-0.047739</td>\n",
       "      <td>0.020949</td>\n",
       "      <td>-0.030398</td>\n",
       "      <td>3</td>\n",
       "      <td>1</td>\n",
       "    </tr>\n",
       "    <tr>\n",
       "      <th>3</th>\n",
       "      <td>0.069708</td>\n",
       "      <td>-0.213904</td>\n",
       "      <td>0.132880</td>\n",
       "      <td>-0.150276</td>\n",
       "      <td>-0.049206</td>\n",
       "      <td>0.080040</td>\n",
       "      <td>-0.023638</td>\n",
       "      <td>0.017214</td>\n",
       "      <td>-0.208746</td>\n",
       "      <td>0.053342</td>\n",
       "      <td>...</td>\n",
       "      <td>-0.048399</td>\n",
       "      <td>-0.051265</td>\n",
       "      <td>0.019088</td>\n",
       "      <td>-0.036999</td>\n",
       "      <td>0.006381</td>\n",
       "      <td>0.011267</td>\n",
       "      <td>-0.029590</td>\n",
       "      <td>0.076341</td>\n",
       "      <td>7</td>\n",
       "      <td>1</td>\n",
       "    </tr>\n",
       "    <tr>\n",
       "      <th>4</th>\n",
       "      <td>0.136409</td>\n",
       "      <td>-0.124815</td>\n",
       "      <td>-0.154166</td>\n",
       "      <td>0.239908</td>\n",
       "      <td>0.002291</td>\n",
       "      <td>0.145442</td>\n",
       "      <td>-0.069386</td>\n",
       "      <td>-0.006642</td>\n",
       "      <td>0.124328</td>\n",
       "      <td>0.054876</td>\n",
       "      <td>...</td>\n",
       "      <td>0.072961</td>\n",
       "      <td>-0.035555</td>\n",
       "      <td>-0.003668</td>\n",
       "      <td>-0.007776</td>\n",
       "      <td>-0.065730</td>\n",
       "      <td>-0.013595</td>\n",
       "      <td>-0.012795</td>\n",
       "      <td>-0.030780</td>\n",
       "      <td>7</td>\n",
       "      <td>8</td>\n",
       "    </tr>\n",
       "    <tr>\n",
       "      <th>5</th>\n",
       "      <td>-0.389241</td>\n",
       "      <td>0.076076</td>\n",
       "      <td>-0.072001</td>\n",
       "      <td>0.103547</td>\n",
       "      <td>-0.058551</td>\n",
       "      <td>0.033468</td>\n",
       "      <td>0.017906</td>\n",
       "      <td>0.094761</td>\n",
       "      <td>0.034065</td>\n",
       "      <td>-0.220189</td>\n",
       "      <td>...</td>\n",
       "      <td>0.018730</td>\n",
       "      <td>0.050222</td>\n",
       "      <td>-0.021090</td>\n",
       "      <td>0.004709</td>\n",
       "      <td>0.043465</td>\n",
       "      <td>-0.049461</td>\n",
       "      <td>-0.052292</td>\n",
       "      <td>0.027773</td>\n",
       "      <td>9</td>\n",
       "      <td>7</td>\n",
       "    </tr>\n",
       "    <tr>\n",
       "      <th>...</th>\n",
       "      <td>...</td>\n",
       "      <td>...</td>\n",
       "      <td>...</td>\n",
       "      <td>...</td>\n",
       "      <td>...</td>\n",
       "      <td>...</td>\n",
       "      <td>...</td>\n",
       "      <td>...</td>\n",
       "      <td>...</td>\n",
       "      <td>...</td>\n",
       "      <td>...</td>\n",
       "      <td>...</td>\n",
       "      <td>...</td>\n",
       "      <td>...</td>\n",
       "      <td>...</td>\n",
       "      <td>...</td>\n",
       "      <td>...</td>\n",
       "      <td>...</td>\n",
       "      <td>...</td>\n",
       "      <td>...</td>\n",
       "      <td>...</td>\n",
       "    </tr>\n",
       "    <tr>\n",
       "      <th>99996</th>\n",
       "      <td>0.126578</td>\n",
       "      <td>0.028599</td>\n",
       "      <td>-0.042934</td>\n",
       "      <td>0.001947</td>\n",
       "      <td>-0.202029</td>\n",
       "      <td>-0.128166</td>\n",
       "      <td>0.154031</td>\n",
       "      <td>0.023840</td>\n",
       "      <td>-0.009978</td>\n",
       "      <td>-0.046443</td>\n",
       "      <td>...</td>\n",
       "      <td>-0.004755</td>\n",
       "      <td>-0.051334</td>\n",
       "      <td>-0.058041</td>\n",
       "      <td>-0.034305</td>\n",
       "      <td>-0.015373</td>\n",
       "      <td>0.018450</td>\n",
       "      <td>-0.048168</td>\n",
       "      <td>0.030826</td>\n",
       "      <td>8</td>\n",
       "      <td>7</td>\n",
       "    </tr>\n",
       "    <tr>\n",
       "      <th>99997</th>\n",
       "      <td>-0.225225</td>\n",
       "      <td>-0.004567</td>\n",
       "      <td>-0.004400</td>\n",
       "      <td>-0.034974</td>\n",
       "      <td>-0.129672</td>\n",
       "      <td>0.113504</td>\n",
       "      <td>-0.003353</td>\n",
       "      <td>-0.057222</td>\n",
       "      <td>0.090702</td>\n",
       "      <td>-0.004591</td>\n",
       "      <td>...</td>\n",
       "      <td>-0.041191</td>\n",
       "      <td>0.046411</td>\n",
       "      <td>0.003835</td>\n",
       "      <td>0.022965</td>\n",
       "      <td>0.112995</td>\n",
       "      <td>0.092276</td>\n",
       "      <td>0.041511</td>\n",
       "      <td>-0.017332</td>\n",
       "      <td>6</td>\n",
       "      <td>0</td>\n",
       "    </tr>\n",
       "    <tr>\n",
       "      <th>99998</th>\n",
       "      <td>0.101137</td>\n",
       "      <td>0.037512</td>\n",
       "      <td>-0.051941</td>\n",
       "      <td>0.231012</td>\n",
       "      <td>0.011707</td>\n",
       "      <td>0.103784</td>\n",
       "      <td>0.142680</td>\n",
       "      <td>-0.054836</td>\n",
       "      <td>-0.078768</td>\n",
       "      <td>-0.032020</td>\n",
       "      <td>...</td>\n",
       "      <td>0.009569</td>\n",
       "      <td>-0.062856</td>\n",
       "      <td>0.009437</td>\n",
       "      <td>-0.065775</td>\n",
       "      <td>0.065454</td>\n",
       "      <td>0.017647</td>\n",
       "      <td>-0.066954</td>\n",
       "      <td>-0.031620</td>\n",
       "      <td>8</td>\n",
       "      <td>6</td>\n",
       "    </tr>\n",
       "    <tr>\n",
       "      <th>99999</th>\n",
       "      <td>-0.271447</td>\n",
       "      <td>0.021036</td>\n",
       "      <td>-0.050439</td>\n",
       "      <td>0.088891</td>\n",
       "      <td>-0.086671</td>\n",
       "      <td>-0.157237</td>\n",
       "      <td>0.029204</td>\n",
       "      <td>-0.001032</td>\n",
       "      <td>-0.122273</td>\n",
       "      <td>-0.076587</td>\n",
       "      <td>...</td>\n",
       "      <td>0.068649</td>\n",
       "      <td>-0.014509</td>\n",
       "      <td>0.040324</td>\n",
       "      <td>-0.038653</td>\n",
       "      <td>-0.043279</td>\n",
       "      <td>0.056283</td>\n",
       "      <td>-0.011639</td>\n",
       "      <td>-0.088651</td>\n",
       "      <td>9</td>\n",
       "      <td>7</td>\n",
       "    </tr>\n",
       "    <tr>\n",
       "      <th>100000</th>\n",
       "      <td>0.189184</td>\n",
       "      <td>0.124356</td>\n",
       "      <td>0.075096</td>\n",
       "      <td>0.159731</td>\n",
       "      <td>0.018175</td>\n",
       "      <td>-0.058616</td>\n",
       "      <td>0.020699</td>\n",
       "      <td>-0.063809</td>\n",
       "      <td>-0.039280</td>\n",
       "      <td>-0.047513</td>\n",
       "      <td>...</td>\n",
       "      <td>0.027837</td>\n",
       "      <td>-0.027221</td>\n",
       "      <td>0.033823</td>\n",
       "      <td>0.065656</td>\n",
       "      <td>0.063327</td>\n",
       "      <td>0.004661</td>\n",
       "      <td>-0.007781</td>\n",
       "      <td>0.008472</td>\n",
       "      <td>8</td>\n",
       "      <td>3</td>\n",
       "    </tr>\n",
       "  </tbody>\n",
       "</table>\n",
       "<p>100000 rows × 34 columns</p>\n",
       "</div>"
      ],
      "text/plain": [
       "               0         1         2         3         4         5         6  \\\n",
       "1       0.142266  0.121459 -0.054467 -0.058987  0.049365 -0.107044  0.123232   \n",
       "2       0.213798 -0.011502 -0.015170  0.149934  0.106344  0.082373 -0.120631   \n",
       "3       0.069708 -0.213904  0.132880 -0.150276 -0.049206  0.080040 -0.023638   \n",
       "4       0.136409 -0.124815 -0.154166  0.239908  0.002291  0.145442 -0.069386   \n",
       "5      -0.389241  0.076076 -0.072001  0.103547 -0.058551  0.033468  0.017906   \n",
       "...          ...       ...       ...       ...       ...       ...       ...   \n",
       "99996   0.126578  0.028599 -0.042934  0.001947 -0.202029 -0.128166  0.154031   \n",
       "99997  -0.225225 -0.004567 -0.004400 -0.034974 -0.129672  0.113504 -0.003353   \n",
       "99998   0.101137  0.037512 -0.051941  0.231012  0.011707  0.103784  0.142680   \n",
       "99999  -0.271447  0.021036 -0.050439  0.088891 -0.086671 -0.157237  0.029204   \n",
       "100000  0.189184  0.124356  0.075096  0.159731  0.018175 -0.058616  0.020699   \n",
       "\n",
       "               7         8         9  ...        24        25        26  \\\n",
       "1       0.003732  0.044797 -0.118452  ... -0.089511  0.077113 -0.118540   \n",
       "2      -0.061052  0.068679  0.033809  ...  0.004503 -0.046667 -0.043632   \n",
       "3       0.017214 -0.208746  0.053342  ... -0.048399 -0.051265  0.019088   \n",
       "4      -0.006642  0.124328  0.054876  ...  0.072961 -0.035555 -0.003668   \n",
       "5       0.094761  0.034065 -0.220189  ...  0.018730  0.050222 -0.021090   \n",
       "...          ...       ...       ...  ...       ...       ...       ...   \n",
       "99996   0.023840 -0.009978 -0.046443  ... -0.004755 -0.051334 -0.058041   \n",
       "99997  -0.057222  0.090702 -0.004591  ... -0.041191  0.046411  0.003835   \n",
       "99998  -0.054836 -0.078768 -0.032020  ...  0.009569 -0.062856  0.009437   \n",
       "99999  -0.001032 -0.122273 -0.076587  ...  0.068649 -0.014509  0.040324   \n",
       "100000 -0.063809 -0.039280 -0.047513  ...  0.027837 -0.027221  0.033823   \n",
       "\n",
       "              27        28        29        30        31  category  \\\n",
       "1       0.058264  0.065489  0.028578 -0.089683  0.126804         8   \n",
       "2      -0.086331 -0.011793 -0.047739  0.020949 -0.030398         3   \n",
       "3      -0.036999  0.006381  0.011267 -0.029590  0.076341         7   \n",
       "4      -0.007776 -0.065730 -0.013595 -0.012795 -0.030780         7   \n",
       "5       0.004709  0.043465 -0.049461 -0.052292  0.027773         9   \n",
       "...          ...       ...       ...       ...       ...       ...   \n",
       "99996  -0.034305 -0.015373  0.018450 -0.048168  0.030826         8   \n",
       "99997   0.022965  0.112995  0.092276  0.041511 -0.017332         6   \n",
       "99998  -0.065775  0.065454  0.017647 -0.066954 -0.031620         8   \n",
       "99999  -0.038653 -0.043279  0.056283 -0.011639 -0.088651         9   \n",
       "100000  0.065656  0.063327  0.004661 -0.007781  0.008472         8   \n",
       "\n",
       "        category_L2  \n",
       "1                 7  \n",
       "2                 1  \n",
       "3                 1  \n",
       "4                 8  \n",
       "5                 7  \n",
       "...             ...  \n",
       "99996             7  \n",
       "99997             0  \n",
       "99998             6  \n",
       "99999             7  \n",
       "100000            3  \n",
       "\n",
       "[100000 rows x 34 columns]"
      ]
     },
     "execution_count": 94,
     "metadata": {},
     "output_type": "execute_result"
    }
   ],
   "source": [
    "data_navigation"
   ]
  },
  {
   "cell_type": "code",
   "execution_count": 108,
   "id": "eebae928-88c0-4a96-99f0-62be2a680df3",
   "metadata": {},
   "outputs": [
    {
     "data": {
      "text/plain": [
       "(array([[0.73221105, 0.09233347, 0.07397919, ..., 0.0064247 , 0.00307956,\n",
       "         0.00235663],\n",
       "        [0.4276901 , 0.29809052, 0.08396686, ..., 0.01425164, 0.01110006,\n",
       "         0.00513953],\n",
       "        [0.23595823, 0.21585794, 0.16259144, ..., 0.03531529, 0.03447411,\n",
       "         0.0180939 ],\n",
       "        ...,\n",
       "        [0.22499156, 0.17301367, 0.15733428, ..., 0.04091265, 0.04023259,\n",
       "         0.02760508],\n",
       "        [0.35422376, 0.19174714, 0.121807  , ..., 0.03566937, 0.0188215 ,\n",
       "         0.01593618],\n",
       "        [0.27764392, 0.20481573, 0.12898836, ..., 0.03525507, 0.02643807,\n",
       "         0.02320394]], dtype=float32),\n",
       " array([[2, 3, 1, ..., 9, 0, 5],\n",
       "        [3, 5, 9, ..., 0, 1, 4],\n",
       "        [5, 9, 3, ..., 0, 1, 4],\n",
       "        ...,\n",
       "        [5, 3, 7, ..., 4, 0, 1],\n",
       "        [5, 9, 7, ..., 2, 1, 4],\n",
       "        [5, 7, 9, ..., 0, 1, 4]]))"
      ]
     },
     "execution_count": 108,
     "metadata": {},
     "output_type": "execute_result"
    }
   ],
   "source": [
    "pred_proba_categories_l2"
   ]
  },
  {
   "cell_type": "code",
   "execution_count": 112,
   "id": "c4c4a39b-5a5e-4730-a70f-6a0ab9ceb210",
   "metadata": {},
   "outputs": [
    {
     "data": {
      "text/plain": [
       "1"
      ]
     },
     "execution_count": 112,
     "metadata": {},
     "output_type": "execute_result"
    }
   ],
   "source": [
    "cat[1]"
   ]
  },
  {
   "cell_type": "code",
   "execution_count": null,
   "id": "66786ccc-18e7-4ba6-a058-deff3796cda1",
   "metadata": {},
   "outputs": [],
   "source": [
    "data_navigation"
   ]
  },
  {
   "cell_type": "code",
   "execution_count": null,
   "id": "aaebb470-2397-444b-a00c-0ff659d4d858",
   "metadata": {},
   "outputs": [],
   "source": []
  },
  {
   "cell_type": "code",
   "execution_count": 89,
   "id": "4cd4c313-28fe-406f-8127-852e3f4aaeb0",
   "metadata": {},
   "outputs": [],
   "source": [
    "_, pred_proba_categories = li.model.predict_proba(\n",
    "    data_X_to_torch(queries_navigation)\n",
    ")"
   ]
  },
  {
   "cell_type": "code",
   "execution_count": 91,
   "id": "1645fe25-e84d-4a32-8b2a-10477805d0b2",
   "metadata": {},
   "outputs": [
    {
     "data": {
      "text/plain": [
       "array([6, 5, 0, ..., 8, 6, 6])"
      ]
     },
     "execution_count": 91,
     "metadata": {},
     "output_type": "execute_result"
    }
   ],
   "source": [
    "pred_proba_categories[:, 0]"
   ]
  },
  {
   "cell_type": "code",
   "execution_count": 102,
   "id": "d77b15d1-fe59-4b8f-b0ed-041be1a768de",
   "metadata": {},
   "outputs": [
    {
     "data": {
      "text/plain": [
       "array([[6, 4, 5, ..., 0, 3, 1],\n",
       "       [5, 4, 6, ..., 7, 8, 3],\n",
       "       [0, 9, 5, ..., 1, 6, 8],\n",
       "       ...,\n",
       "       [8, 9, 6, ..., 1, 0, 3],\n",
       "       [6, 2, 4, ..., 3, 1, 8],\n",
       "       [6, 5, 7, ..., 9, 0, 8]])"
      ]
     },
     "execution_count": 102,
     "metadata": {},
     "output_type": "execute_result"
    }
   ],
   "source": [
    "pred_proba_categories"
   ]
  },
  {
   "cell_type": "code",
   "execution_count": 103,
   "id": "bffc65c0-8b2a-44d6-a4aa-8f5f933d1fc4",
   "metadata": {},
   "outputs": [],
   "source": [
    "cat_idxs = np.where(pred_proba_categories[:, 0] == cat[0])[0]"
   ]
  },
  {
   "cell_type": "code",
   "execution_count": null,
   "id": "101dfe9e-cff1-4425-81b9-c3c9c7ffb0ae",
   "metadata": {},
   "outputs": [],
   "source": [
    "cat_idxs = np.where(pred_proba_categories[:, 0] == cat[0])[0]"
   ]
  },
  {
   "cell_type": "code",
   "execution_count": null,
   "id": "71559b52-16df-4cc5-977a-180a8ac40e76",
   "metadata": {},
   "outputs": [],
   "source": [
    "for cat, g in tqdm(data_navigation.groupby('category')):\n",
    "    cat_idxs = np.where(pred_categories == cat)[0]"
   ]
  },
  {
   "cell_type": "code",
   "execution_count": 75,
   "id": "a146b9aa-d0a8-4650-abce-f35f1dafd736",
   "metadata": {},
   "outputs": [
    {
     "ename": "NameError",
     "evalue": "name 'labels' is not defined",
     "output_type": "error",
     "traceback": [
      "\u001b[0;31m---------------------------------------------------------------------------\u001b[0m",
      "\u001b[0;31mNameError\u001b[0m                                 Traceback (most recent call last)",
      "\u001b[0;32m<ipython-input-75-318493a68e1f>\u001b[0m in \u001b[0;36m<module>\u001b[0;34m\u001b[0m\n\u001b[1;32m      1\u001b[0m \u001b[0mn_categories\u001b[0m \u001b[0;34m=\u001b[0m \u001b[0;36m10\u001b[0m\u001b[0;34m\u001b[0m\u001b[0m\n\u001b[1;32m      2\u001b[0m \u001b[0;32mfor\u001b[0m \u001b[0mcat\u001b[0m \u001b[0;32min\u001b[0m \u001b[0mrange\u001b[0m\u001b[0;34m(\u001b[0m\u001b[0mn_categories\u001b[0m\u001b[0;34m)\u001b[0m\u001b[0;34m:\u001b[0m\u001b[0;34m\u001b[0m\u001b[0m\n\u001b[0;32m----> 3\u001b[0;31m     \u001b[0mcat_data\u001b[0m \u001b[0;34m=\u001b[0m \u001b[0mdata\u001b[0m\u001b[0;34m.\u001b[0m\u001b[0mloc\u001b[0m\u001b[0;34m[\u001b[0m\u001b[0mlabels\u001b[0m \u001b[0;34m==\u001b[0m \u001b[0mcat\u001b[0m\u001b[0;34m]\u001b[0m\u001b[0;34m\u001b[0m\u001b[0m\n\u001b[0m\u001b[1;32m      4\u001b[0m     \u001b[0mpredict_categories_l2\u001b[0m\u001b[0;34m.\u001b[0m\u001b[0mloc\u001b[0m\u001b[0;34m[\u001b[0m\u001b[0mcat_data\u001b[0m\u001b[0;34m.\u001b[0m\u001b[0mindex\u001b[0m\u001b[0;34m,\u001b[0m \u001b[0;34m'L2'\u001b[0m\u001b[0;34m]\u001b[0m \u001b[0;34m=\u001b[0m \u001b[0mli\u001b[0m\u001b[0;34m.\u001b[0m\u001b[0mmodels\u001b[0m\u001b[0;34m[\u001b[0m\u001b[0mcat\u001b[0m\u001b[0;34m]\u001b[0m\u001b[0;34m.\u001b[0m\u001b[0mpredict\u001b[0m\u001b[0;34m(\u001b[0m\u001b[0mdata_X_to_torch\u001b[0m\u001b[0;34m(\u001b[0m\u001b[0mcat_data\u001b[0m\u001b[0;34m)\u001b[0m\u001b[0;34m)\u001b[0m\u001b[0;34m\u001b[0m\u001b[0m\n",
      "\u001b[0;31mNameError\u001b[0m: name 'labels' is not defined"
     ]
    }
   ],
   "source": [
    "n_categories = 10\n",
    "for cat in range(n_categories):\n",
    "    cat_data = data.loc[pred_categories == cat]\n",
    "    predict_categories_l2.loc[cat_data.index, 'L2'] = li.models[cat].predict(data_X_to_torch(cat_data))"
   ]
  },
  {
   "cell_type": "code",
   "execution_count": 64,
   "id": "7c7bc043-b23e-4e5f-96b4-dd15d7ff3b4f",
   "metadata": {},
   "outputs": [
    {
     "data": {
      "text/html": [
       "<div>\n",
       "<style scoped>\n",
       "    .dataframe tbody tr th:only-of-type {\n",
       "        vertical-align: middle;\n",
       "    }\n",
       "\n",
       "    .dataframe tbody tr th {\n",
       "        vertical-align: top;\n",
       "    }\n",
       "\n",
       "    .dataframe thead th {\n",
       "        text-align: right;\n",
       "    }\n",
       "</style>\n",
       "<table border=\"1\" class=\"dataframe\">\n",
       "  <thead>\n",
       "    <tr style=\"text-align: right;\">\n",
       "      <th></th>\n",
       "      <th>0</th>\n",
       "      <th>1</th>\n",
       "      <th>2</th>\n",
       "      <th>3</th>\n",
       "      <th>4</th>\n",
       "      <th>5</th>\n",
       "      <th>6</th>\n",
       "      <th>7</th>\n",
       "      <th>8</th>\n",
       "      <th>9</th>\n",
       "      <th>...</th>\n",
       "      <th>22</th>\n",
       "      <th>23</th>\n",
       "      <th>24</th>\n",
       "      <th>25</th>\n",
       "      <th>26</th>\n",
       "      <th>27</th>\n",
       "      <th>28</th>\n",
       "      <th>29</th>\n",
       "      <th>30</th>\n",
       "      <th>31</th>\n",
       "    </tr>\n",
       "  </thead>\n",
       "  <tbody>\n",
       "    <tr>\n",
       "      <th>1</th>\n",
       "      <td>0.142266</td>\n",
       "      <td>0.121459</td>\n",
       "      <td>-0.054467</td>\n",
       "      <td>-0.058987</td>\n",
       "      <td>0.049365</td>\n",
       "      <td>-0.107044</td>\n",
       "      <td>0.123232</td>\n",
       "      <td>0.003732</td>\n",
       "      <td>0.044797</td>\n",
       "      <td>-0.118452</td>\n",
       "      <td>...</td>\n",
       "      <td>0.063983</td>\n",
       "      <td>0.037666</td>\n",
       "      <td>-0.089511</td>\n",
       "      <td>0.077113</td>\n",
       "      <td>-0.11854</td>\n",
       "      <td>0.058264</td>\n",
       "      <td>0.065489</td>\n",
       "      <td>0.028578</td>\n",
       "      <td>-0.089683</td>\n",
       "      <td>0.126804</td>\n",
       "    </tr>\n",
       "  </tbody>\n",
       "</table>\n",
       "<p>1 rows × 32 columns</p>\n",
       "</div>"
      ],
      "text/plain": [
       "         0         1         2         3         4         5         6   \\\n",
       "1  0.142266  0.121459 -0.054467 -0.058987  0.049365 -0.107044  0.123232   \n",
       "\n",
       "         7         8         9   ...        22        23        24        25  \\\n",
       "1  0.003732  0.044797 -0.118452  ...  0.063983  0.037666 -0.089511  0.077113   \n",
       "\n",
       "        26        27        28        29        30        31  \n",
       "1 -0.11854  0.058264  0.065489  0.028578 -0.089683  0.126804  \n",
       "\n",
       "[1 rows x 32 columns]"
      ]
     },
     "execution_count": 64,
     "metadata": {},
     "output_type": "execute_result"
    }
   ],
   "source": [
    "data.iloc[:1]"
   ]
  },
  {
   "cell_type": "code",
   "execution_count": 65,
   "id": "4638b160-497e-4d67-b79f-15309b69cff6",
   "metadata": {},
   "outputs": [],
   "source": [
    "cat_data = data.loc[pred_categories == 1]"
   ]
  },
  {
   "cell_type": "code",
   "execution_count": 67,
   "id": "be4fc142-1abb-4cd4-88e7-a744251713ad",
   "metadata": {},
   "outputs": [],
   "source": [
    "predict_categories_l2.loc[cat_data.index, 'L2'] = li.models[1].predict(data_X_to_torch(cat_data))\n"
   ]
  },
  {
   "cell_type": "code",
   "execution_count": 68,
   "id": "01a4eaf1-88c7-4243-b645-094168d2ed86",
   "metadata": {},
   "outputs": [
    {
     "data": {
      "text/html": [
       "<div>\n",
       "<style scoped>\n",
       "    .dataframe tbody tr th:only-of-type {\n",
       "        vertical-align: middle;\n",
       "    }\n",
       "\n",
       "    .dataframe tbody tr th {\n",
       "        vertical-align: top;\n",
       "    }\n",
       "\n",
       "    .dataframe thead th {\n",
       "        text-align: right;\n",
       "    }\n",
       "</style>\n",
       "<table border=\"1\" class=\"dataframe\">\n",
       "  <thead>\n",
       "    <tr style=\"text-align: right;\">\n",
       "      <th></th>\n",
       "      <th>L2</th>\n",
       "    </tr>\n",
       "  </thead>\n",
       "  <tbody>\n",
       "    <tr>\n",
       "      <th>1</th>\n",
       "      <td>9</td>\n",
       "    </tr>\n",
       "    <tr>\n",
       "      <th>2</th>\n",
       "      <td>3</td>\n",
       "    </tr>\n",
       "    <tr>\n",
       "      <th>3</th>\n",
       "      <td>4</td>\n",
       "    </tr>\n",
       "    <tr>\n",
       "      <th>4</th>\n",
       "      <td>5</td>\n",
       "    </tr>\n",
       "    <tr>\n",
       "      <th>5</th>\n",
       "      <td>9</td>\n",
       "    </tr>\n",
       "    <tr>\n",
       "      <th>...</th>\n",
       "      <td>...</td>\n",
       "    </tr>\n",
       "    <tr>\n",
       "      <th>99996</th>\n",
       "      <td>6</td>\n",
       "    </tr>\n",
       "    <tr>\n",
       "      <th>99997</th>\n",
       "      <td>0</td>\n",
       "    </tr>\n",
       "    <tr>\n",
       "      <th>99998</th>\n",
       "      <td>6</td>\n",
       "    </tr>\n",
       "    <tr>\n",
       "      <th>99999</th>\n",
       "      <td>0</td>\n",
       "    </tr>\n",
       "    <tr>\n",
       "      <th>100000</th>\n",
       "      <td>4</td>\n",
       "    </tr>\n",
       "  </tbody>\n",
       "</table>\n",
       "<p>100000 rows × 1 columns</p>\n",
       "</div>"
      ],
      "text/plain": [
       "       L2\n",
       "1       9\n",
       "2       3\n",
       "3       4\n",
       "4       5\n",
       "5       9\n",
       "...    ..\n",
       "99996   6\n",
       "99997   0\n",
       "99998   6\n",
       "99999   0\n",
       "100000  4\n",
       "\n",
       "[100000 rows x 1 columns]"
      ]
     },
     "execution_count": 68,
     "metadata": {},
     "output_type": "execute_result"
    }
   ],
   "source": [
    "predict_categories_l2"
   ]
  },
  {
   "cell_type": "markdown",
   "id": "3d58038e-9937-43d8-a551-58b4e091bb22",
   "metadata": {},
   "source": [
    "### 100 vs. 200 categories"
   ]
  },
  {
   "cell_type": "code",
   "execution_count": null,
   "id": "6ef99233-a8ed-468e-8ee2-c9812f1945bf",
   "metadata": {},
   "outputs": [],
   "source": []
  },
  {
   "cell_type": "code",
   "execution_count": 12,
   "id": "8a4f67fd-3a56-4e97-a9b6-9de9ce1cdd85",
   "metadata": {},
   "outputs": [
    {
     "name": "stderr",
     "output_type": "stream",
     "text": [
      "[2023-07-14 15:16:26,976][INFO ][__main__.LearnedInde] Epochs: 200, step: 20\n",
      "[2023-07-14 15:16:50,503][INFO ][__main__.LearnedInde] Epoch 20 | Loss 1.98601\n",
      "[2023-07-14 15:17:12,825][INFO ][__main__.LearnedInde] Epoch 40 | Loss 1.18380\n",
      "[2023-07-14 15:17:35,042][INFO ][__main__.LearnedInde] Epoch 60 | Loss 1.05507\n",
      "[2023-07-14 15:17:57,317][INFO ][__main__.LearnedInde] Epoch 80 | Loss 1.10324\n",
      "[2023-07-14 15:18:19,542][INFO ][__main__.LearnedInde] Epoch 100 | Loss 1.13756\n",
      "[2023-07-14 15:18:41,839][INFO ][__main__.LearnedInde] Epoch 120 | Loss 0.89168\n",
      "[2023-07-14 15:19:04,248][INFO ][__main__.LearnedInde] Epoch 140 | Loss 1.07258\n",
      "[2023-07-14 15:19:26,428][INFO ][__main__.LearnedInde] Epoch 160 | Loss 0.81745\n",
      "[2023-07-14 15:19:48,658][INFO ][__main__.LearnedInde] Epoch 180 | Loss 0.70368\n"
     ]
    }
   ],
   "source": [
    "li = LearnedIndex()\n",
    "pred_categories, build_t = li.build(\n",
    "    data,\n",
    "    n_categories=200,\n",
    "    epochs=200,\n",
    "    lr=0.1\n",
    ")"
   ]
  },
  {
   "cell_type": "code",
   "execution_count": 13,
   "id": "2f4bfd54-5391-412f-9ffe-6de9c65bd5de",
   "metadata": {},
   "outputs": [
    {
     "name": "stderr",
     "output_type": "stream",
     "text": [
      "[2023-07-14 15:20:10,501][INFO ][__main__] Loading GT\n"
     ]
    }
   ],
   "source": [
    "LOG.info(f'Loading GT')\n",
    "gt_path = f'data/groundtruth-{size}.h5'\n",
    "f3 = h5py.File(gt_path, 'r')\n",
    "loaded_gt = f3['knns'][:, :]"
   ]
  },
  {
   "cell_type": "code",
   "execution_count": 14,
   "id": "a9347709-15d0-4988-8695-a80e675868d1",
   "metadata": {},
   "outputs": [],
   "source": [
    "k=10\n",
    "bucket=8"
   ]
  },
  {
   "cell_type": "code",
   "execution_count": 15,
   "id": "e7275683-e332-47f2-911d-9500cfd5a122",
   "metadata": {},
   "outputs": [
    {
     "name": "stderr",
     "output_type": "stream",
     "text": [
      "100%|██████████| 200/200 [00:01<00:00, 136.68it/s]\n",
      "100%|██████████| 200/200 [00:01<00:00, 155.35it/s]\n",
      "100%|██████████| 200/200 [00:01<00:00, 163.14it/s]\n",
      "100%|██████████| 200/200 [00:01<00:00, 167.44it/s]\n",
      "100%|██████████| 200/200 [00:01<00:00, 166.35it/s]\n",
      "100%|██████████| 200/200 [00:01<00:00, 169.89it/s]\n",
      "100%|██████████| 200/200 [00:01<00:00, 169.86it/s]\n",
      "100%|██████████| 200/200 [00:01<00:00, 166.66it/s]\n",
      "[2023-07-14 15:20:20,786][INFO ][__main__.LearnedInde] t_comp_threshold: 0.003280162811279297\n",
      "[2023-07-14 15:20:20,789][INFO ][__main__] Inference time: 0.1276540756225586\n",
      "[2023-07-14 15:20:20,792][INFO ][__main__] Search time: 10.176419019699097\n",
      "[2023-07-14 15:20:20,795][INFO ][__main__] Search single time: 10.020214319229126\n",
      "[2023-07-14 15:20:20,797][INFO ][__main__] Sequential search time: 8.815887451171875\n",
      "[2023-07-14 15:20:20,800][INFO ][__main__] Pure sequential search time: 7.360041856765747\n",
      "[2023-07-14 15:20:20,802][INFO ][__main__] Sort time: 0.37026500701904297\n"
     ]
    }
   ],
   "source": [
    "dists, nns, search_t, inference_t, search_single_t, seq_search_t, pure_seq_search_t, sort_t = li.search(\n",
    "    data_navigation=data,\n",
    "    queries_navigation=queries,\n",
    "    data_search=data_search,\n",
    "    queries_search=queries_search,\n",
    "    pred_categories=pred_categories,\n",
    "    n_buckets=bucket,\n",
    "    k=k,\n",
    "    use_threshold=True\n",
    ")\n",
    "LOG.info('Inference time: %s', inference_t)\n",
    "LOG.info('Search time: %s', search_t)\n",
    "LOG.info('Search single time: %s', search_single_t)\n",
    "LOG.info('Sequential search time: %s', seq_search_t)\n",
    "LOG.info('Pure sequential search time: %s', pure_seq_search_t)\n",
    "LOG.info('Sort time: %s', sort_t)"
   ]
  },
  {
   "cell_type": "code",
   "execution_count": 16,
   "id": "a7146c3b-62ea-443d-aa72-781a246b164e",
   "metadata": {},
   "outputs": [],
   "source": [
    "def get_recall(I, gt, k):\n",
    "    assert k <= I.shape[1]\n",
    "    assert len(I) == len(gt)\n",
    "\n",
    "    n = len(I)\n",
    "    recall = 0\n",
    "    for i in range(n):\n",
    "        recall += len(set(I[i, :k]) & set(gt[i, :k]))\n",
    "    return recall / (n * k)\n",
    "\n",
    "recall = get_recall(nns, loaded_gt, 10)\n"
   ]
  },
  {
   "cell_type": "code",
   "execution_count": 17,
   "id": "13d1de50-4b74-4d45-8d93-eb6c075d842a",
   "metadata": {},
   "outputs": [],
   "source": [
    "recall = get_recall(nns, loaded_gt, 10)\n"
   ]
  },
  {
   "cell_type": "code",
   "execution_count": 18,
   "id": "c73ba8ce-1428-4f51-bf49-4a7aa90d37b7",
   "metadata": {},
   "outputs": [
    {
     "data": {
      "text/plain": [
       "0.7824"
      ]
     },
     "execution_count": 18,
     "metadata": {},
     "output_type": "execute_result"
    }
   ],
   "source": [
    "recall"
   ]
  },
  {
   "cell_type": "code",
   "execution_count": 13,
   "id": "dccedc46-2d8e-44a4-bb82-a31c4c036b5b",
   "metadata": {},
   "outputs": [
    {
     "name": "stderr",
     "output_type": "stream",
     "text": [
      "[2023-07-14 15:11:44,421][INFO ][__main__.LearnedInde] Epochs: 200, step: 20\n",
      "[2023-07-14 15:12:07,214][INFO ][__main__.LearnedInde] Epoch 20 | Loss 1.23865\n",
      "[2023-07-14 15:12:28,505][INFO ][__main__.LearnedInde] Epoch 40 | Loss 0.85032\n",
      "[2023-07-14 15:12:49,770][INFO ][__main__.LearnedInde] Epoch 60 | Loss 0.80628\n",
      "[2023-07-14 15:13:10,952][INFO ][__main__.LearnedInde] Epoch 80 | Loss 0.67493\n",
      "[2023-07-14 15:13:32,132][INFO ][__main__.LearnedInde] Epoch 100 | Loss 0.76835\n",
      "[2023-07-14 15:13:53,377][INFO ][__main__.LearnedInde] Epoch 120 | Loss 0.83141\n",
      "[2023-07-14 15:14:14,714][INFO ][__main__.LearnedInde] Epoch 140 | Loss 0.64362\n",
      "[2023-07-14 15:14:36,058][INFO ][__main__.LearnedInde] Epoch 160 | Loss 0.73345\n",
      "[2023-07-14 15:14:57,253][INFO ][__main__.LearnedInde] Epoch 180 | Loss 0.75338\n"
     ]
    }
   ],
   "source": [
    "li = LearnedIndex()\n",
    "pred_categories, build_t = li.build(\n",
    "    data,\n",
    "    n_categories=100,\n",
    "    epochs=200,\n",
    "    lr=0.1\n",
    ")"
   ]
  },
  {
   "cell_type": "code",
   "execution_count": 17,
   "id": "e8136412-82b3-493c-90e9-51f663a8de29",
   "metadata": {},
   "outputs": [],
   "source": [
    "k=10\n",
    "bucket=4"
   ]
  },
  {
   "cell_type": "code",
   "execution_count": 18,
   "id": "f87d9f08-3832-4bc8-800b-3d2834c996ff",
   "metadata": {},
   "outputs": [
    {
     "name": "stderr",
     "output_type": "stream",
     "text": [
      "100%|██████████| 100/100 [00:02<00:00, 49.96it/s]\n",
      "100%|██████████| 100/100 [00:01<00:00, 61.01it/s]\n",
      "100%|██████████| 100/100 [00:01<00:00, 64.03it/s]\n",
      "100%|██████████| 100/100 [00:01<00:00, 63.47it/s]\n",
      "[2023-07-14 15:15:56,355][INFO ][__main__.LearnedInde] t_comp_threshold: 0.001416921615600586\n",
      "[2023-07-14 15:15:56,358][INFO ][__main__] Inference time: 0.07615113258361816\n",
      "[2023-07-14 15:15:56,360][INFO ][__main__] Search time: 6.98410439491272\n",
      "[2023-07-14 15:15:56,363][INFO ][__main__] Search single time: 6.893368244171143\n",
      "[2023-07-14 15:15:56,365][INFO ][__main__] Sequential search time: 5.824580192565918\n",
      "[2023-07-14 15:15:56,368][INFO ][__main__] Pure sequential search time: 4.993402004241943\n",
      "[2023-07-14 15:15:56,370][INFO ][__main__] Sort time: 0.6700947284698486\n"
     ]
    }
   ],
   "source": [
    "dists, nns, search_t, inference_t, search_single_t, seq_search_t, pure_seq_search_t, sort_t = li.search(\n",
    "    data_navigation=data,\n",
    "    queries_navigation=queries,\n",
    "    data_search=data_search,\n",
    "    queries_search=queries_search,\n",
    "    pred_categories=pred_categories,\n",
    "    n_buckets=bucket,\n",
    "    k=k,\n",
    "    use_threshold=True\n",
    ")\n",
    "LOG.info('Inference time: %s', inference_t)\n",
    "LOG.info('Search time: %s', search_t)\n",
    "LOG.info('Search single time: %s', search_single_t)\n",
    "LOG.info('Sequential search time: %s', seq_search_t)\n",
    "LOG.info('Pure sequential search time: %s', pure_seq_search_t)\n",
    "LOG.info('Sort time: %s', sort_t)"
   ]
  },
  {
   "cell_type": "code",
   "execution_count": 20,
   "id": "81efdfc0-1119-4326-8ea0-612dc459cfcf",
   "metadata": {},
   "outputs": [
    {
     "data": {
      "text/plain": [
       "0.7876"
      ]
     },
     "execution_count": 20,
     "metadata": {},
     "output_type": "execute_result"
    }
   ],
   "source": [
    "recall = get_recall(nns, loaded_gt, 10)\n",
    "recall"
   ]
  },
  {
   "cell_type": "code",
   "execution_count": null,
   "id": "ff67cb3d-6d2e-4a86-a770-062586fc94f8",
   "metadata": {},
   "outputs": [],
   "source": []
  }
 ],
 "metadata": {
  "kernelspec": {
   "display_name": "Python 3",
   "language": "python",
   "name": "python3"
  },
  "language_info": {
   "codemirror_mode": {
    "name": "ipython",
    "version": 3
   },
   "file_extension": ".py",
   "mimetype": "text/x-python",
   "name": "python",
   "nbconvert_exporter": "python",
   "pygments_lexer": "ipython3",
   "version": "3.6.2"
  }
 },
 "nbformat": 4,
 "nbformat_minor": 5
}
