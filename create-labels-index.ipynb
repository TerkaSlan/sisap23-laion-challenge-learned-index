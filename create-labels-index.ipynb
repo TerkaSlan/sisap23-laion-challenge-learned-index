{
 "cells": [
  {
   "cell_type": "code",
   "execution_count": 1,
   "id": "2eb41b67-140a-4c8c-8596-8390c8303ed9",
   "metadata": {},
   "outputs": [],
   "source": [
    "%reload_ext autoreload\n",
    "%autoreload 2"
   ]
  },
  {
   "cell_type": "code",
   "execution_count": 2,
   "id": "54ca35db-7351-41c7-9ed2-1d8b6602517a",
   "metadata": {},
   "outputs": [
    {
     "name": "stdout",
     "output_type": "stream",
     "text": [
      "CPU times: user 1.16 ms, sys: 266 µs, total: 1.43 ms\n",
      "Wall time: 63 ms\n"
     ]
    }
   ],
   "source": [
    "import h5py\n",
    "data_path = 'laion2B-en-clip768v2-n=100K.h5'\n",
    "%time f = h5py.File(data_path, 'r')"
   ]
  },
  {
   "cell_type": "code",
   "execution_count": 3,
   "id": "a0730765-39bf-4567-a0f4-131e893dd28f",
   "metadata": {},
   "outputs": [
    {
     "name": "stdout",
     "output_type": "stream",
     "text": [
      "CPU times: user 35.9 s, sys: 2.14 s, total: 38.1 s\n",
      "Wall time: 45.1 s\n"
     ]
    }
   ],
   "source": [
    "import pandas as pd\n",
    "%time data = pd.DataFrame(list(f['emb']))"
   ]
  },
  {
   "cell_type": "code",
   "execution_count": 4,
   "id": "f36dee25-3199-4679-a332-8886806d7c78",
   "metadata": {},
   "outputs": [
    {
     "data": {
      "text/html": [
       "<div>\n",
       "<style scoped>\n",
       "    .dataframe tbody tr th:only-of-type {\n",
       "        vertical-align: middle;\n",
       "    }\n",
       "\n",
       "    .dataframe tbody tr th {\n",
       "        vertical-align: top;\n",
       "    }\n",
       "\n",
       "    .dataframe thead th {\n",
       "        text-align: right;\n",
       "    }\n",
       "</style>\n",
       "<table border=\"1\" class=\"dataframe\">\n",
       "  <thead>\n",
       "    <tr style=\"text-align: right;\">\n",
       "      <th></th>\n",
       "      <th>0</th>\n",
       "      <th>1</th>\n",
       "      <th>2</th>\n",
       "      <th>3</th>\n",
       "      <th>4</th>\n",
       "      <th>5</th>\n",
       "      <th>6</th>\n",
       "      <th>7</th>\n",
       "      <th>8</th>\n",
       "      <th>9</th>\n",
       "      <th>...</th>\n",
       "      <th>758</th>\n",
       "      <th>759</th>\n",
       "      <th>760</th>\n",
       "      <th>761</th>\n",
       "      <th>762</th>\n",
       "      <th>763</th>\n",
       "      <th>764</th>\n",
       "      <th>765</th>\n",
       "      <th>766</th>\n",
       "      <th>767</th>\n",
       "    </tr>\n",
       "  </thead>\n",
       "  <tbody>\n",
       "    <tr>\n",
       "      <th>0</th>\n",
       "      <td>-0.001980</td>\n",
       "      <td>0.043152</td>\n",
       "      <td>-0.012474</td>\n",
       "      <td>-0.042297</td>\n",
       "      <td>0.037201</td>\n",
       "      <td>0.034027</td>\n",
       "      <td>0.007248</td>\n",
       "      <td>0.026535</td>\n",
       "      <td>-0.022705</td>\n",
       "      <td>-0.038544</td>\n",
       "      <td>...</td>\n",
       "      <td>-0.032562</td>\n",
       "      <td>-0.043121</td>\n",
       "      <td>0.015541</td>\n",
       "      <td>-0.006378</td>\n",
       "      <td>-0.051178</td>\n",
       "      <td>0.016327</td>\n",
       "      <td>-0.020538</td>\n",
       "      <td>-0.008286</td>\n",
       "      <td>-0.009285</td>\n",
       "      <td>-0.024933</td>\n",
       "    </tr>\n",
       "    <tr>\n",
       "      <th>1</th>\n",
       "      <td>0.057281</td>\n",
       "      <td>0.052429</td>\n",
       "      <td>0.042633</td>\n",
       "      <td>0.050262</td>\n",
       "      <td>0.001604</td>\n",
       "      <td>0.018600</td>\n",
       "      <td>-0.000320</td>\n",
       "      <td>-0.013687</td>\n",
       "      <td>-0.013916</td>\n",
       "      <td>0.023560</td>\n",
       "      <td>...</td>\n",
       "      <td>0.042267</td>\n",
       "      <td>0.015373</td>\n",
       "      <td>-0.006653</td>\n",
       "      <td>0.018616</td>\n",
       "      <td>-0.061127</td>\n",
       "      <td>0.033722</td>\n",
       "      <td>-0.000931</td>\n",
       "      <td>0.006901</td>\n",
       "      <td>0.018860</td>\n",
       "      <td>-0.008125</td>\n",
       "    </tr>\n",
       "  </tbody>\n",
       "</table>\n",
       "<p>2 rows × 768 columns</p>\n",
       "</div>"
      ],
      "text/plain": [
       "        0         1         2         3         4         5         6    \\\n",
       "0 -0.001980  0.043152 -0.012474 -0.042297  0.037201  0.034027  0.007248   \n",
       "1  0.057281  0.052429  0.042633  0.050262  0.001604  0.018600 -0.000320   \n",
       "\n",
       "        7         8         9    ...       758       759       760       761  \\\n",
       "0  0.026535 -0.022705 -0.038544  ... -0.032562 -0.043121  0.015541 -0.006378   \n",
       "1 -0.013687 -0.013916  0.023560  ...  0.042267  0.015373 -0.006653  0.018616   \n",
       "\n",
       "        762       763       764       765       766       767  \n",
       "0 -0.051178  0.016327 -0.020538 -0.008286 -0.009285 -0.024933  \n",
       "1 -0.061127  0.033722 -0.000931  0.006901  0.018860 -0.008125  \n",
       "\n",
       "[2 rows x 768 columns]"
      ]
     },
     "execution_count": 4,
     "metadata": {},
     "output_type": "execute_result"
    }
   ],
   "source": [
    "data.head(2)"
   ]
  },
  {
   "cell_type": "code",
   "execution_count": 5,
   "id": "828eeab5-fea4-4746-b17d-64854b53f14c",
   "metadata": {},
   "outputs": [],
   "source": [
    "q_path = 'public-queries-10k-clip768v2.h5'\n",
    "f = h5py.File(q_path, 'r')\n",
    "queries = pd.DataFrame(list(f['emb']))"
   ]
  },
  {
   "cell_type": "code",
   "execution_count": 6,
   "id": "dd5aa066-9b8b-47d0-9777-13192b402949",
   "metadata": {},
   "outputs": [],
   "source": [
    "gt_path = 'laion2B-en-public-gold-standard-v2-100K.h5'\n",
    "f = h5py.File(gt_path, 'r')\n",
    "gt_knns = pd.DataFrame(list(f['knns']))"
   ]
  },
  {
   "cell_type": "code",
   "execution_count": 7,
   "id": "ae8a829c-6a27-482d-bf6b-ff99eae4bfe9",
   "metadata": {},
   "outputs": [],
   "source": [
    "from sklearn.metrics.pairwise import cosine_similarity\n",
    "def pairwise_cosine(x, y):\n",
    "    return 1-cosine_similarity(x, y)"
   ]
  },
  {
   "cell_type": "code",
   "execution_count": 8,
   "id": "70123e89-46b6-4f3d-b2ee-0d69a412d5cf",
   "metadata": {},
   "outputs": [
    {
     "name": "stdout",
     "output_type": "stream",
     "text": [
      "CPU times: user 482 ms, sys: 209 ms, total: 691 ms\n",
      "Wall time: 707 ms\n"
     ]
    }
   ],
   "source": [
    "# how long does it take to brute-force search for most similar datapoints\n",
    "%time res = pairwise_cosine([data.iloc[0]], data)"
   ]
  },
  {
   "cell_type": "markdown",
   "id": "dcf98e47-fe5a-41b6-bbbc-4f7fd8059e5e",
   "metadata": {},
   "source": [
    "### training approach #1\n",
    "- pick 100 random objects, compute their knns, pick 1% (1k) closest, train on them, resolve overlaps by picking the closest category for an object\n",
    "- Q: does it scale?"
   ]
  },
  {
   "cell_type": "code",
   "execution_count": 10,
   "id": "f5286ebf-88b8-4943-84fe-28e16d6177e5",
   "metadata": {},
   "outputs": [],
   "source": [
    "import numpy as np"
   ]
  },
  {
   "cell_type": "code",
   "execution_count": 12,
   "id": "a20257b4-2df1-47f6-ad98-cc3c26f5e061",
   "metadata": {},
   "outputs": [
    {
     "name": "stdout",
     "output_type": "stream",
     "text": [
      "CPU times: user 20.5 ms, sys: 27 µs, total: 20.5 ms\n",
      "Wall time: 20.6 ms\n"
     ]
    }
   ],
   "source": [
    "%%time\n",
    "\n",
    "idxs = res[0].argsort()[1:1001]\n",
    "# array of 1) similar obj ids, 2) their distances 3) should-keep bitmap\n",
    "cat = np.vstack([idxs, res[0][idxs], np.ones(idxs.shape[0])])"
   ]
  },
  {
   "cell_type": "code",
   "execution_count": 13,
   "id": "2dbae545-786c-477f-b64a-b467488926db",
   "metadata": {},
   "outputs": [
    {
     "name": "stdout",
     "output_type": "stream",
     "text": [
      "CPU times: user 468 ms, sys: 192 ms, total: 660 ms\n",
      "Wall time: 684 ms\n"
     ]
    }
   ],
   "source": [
    "%%time\n",
    "\n",
    "res2 = cosine_similarity([data.iloc[1]], data)\n",
    "idxs2 = res2[0].argsort()[1:1001]\n",
    "cat2 = np.vstack([idxs2, res2[0][idxs2], np.ones(idxs.shape[0])])"
   ]
  },
  {
   "cell_type": "code",
   "execution_count": 68,
   "id": "ee82f3d6-c170-4958-b671-2bb6a4b0e72f",
   "metadata": {},
   "outputs": [],
   "source": [
    "def resolve_overlaps(categories):\n",
    "    for cat in categories[:1]:\n",
    "        for next_cat in categories[1:]:\n",
    "            overlap_objs = np.intersect1d(cat[0], next_cat[0], return_indices=True)\n",
    "            if overlap_objs[0].size != 0:\n",
    "                cat, next_cat = resolve_overlap_objects(cat, next_cat, overlap_objs)"
   ]
  },
  {
   "cell_type": "code",
   "execution_count": 93,
   "id": "8e9b031d-1387-465b-b821-a5cc296d65b6",
   "metadata": {},
   "outputs": [
    {
     "data": {
      "text/plain": [
       "array([[5.75380000e+04, 7.11530000e+04, 9.22260000e+04, ...,\n",
       "        7.47800000e+04, 5.78570000e+04, 5.03650000e+04],\n",
       "       [1.46781577e-01, 1.50667473e-01, 1.59918897e-01, ...,\n",
       "        3.33627767e-01, 3.33633559e-01, 3.33656429e-01],\n",
       "       [1.00000000e+00, 1.00000000e+00, 1.00000000e+00, ...,\n",
       "        1.00000000e+00, 1.00000000e+00, 1.00000000e+00]])"
      ]
     },
     "execution_count": 93,
     "metadata": {},
     "output_type": "execute_result"
    }
   ],
   "source": [
    "cat"
   ]
  },
  {
   "cell_type": "code",
   "execution_count": 92,
   "id": "1da820c8-2138-4b4a-a316-5e82c1a5deeb",
   "metadata": {},
   "outputs": [
    {
     "data": {
      "text/plain": [
       "(array([], dtype=float64), array([], dtype=int64), array([], dtype=int64))"
      ]
     },
     "execution_count": 92,
     "metadata": {},
     "output_type": "execute_result"
    }
   ],
   "source": [
    "overlap_objs"
   ]
  },
  {
   "cell_type": "code",
   "execution_count": 100,
   "id": "ed8771d9-477d-4e6d-873f-ad4ecf72b863",
   "metadata": {},
   "outputs": [
    {
     "data": {
      "text/plain": [
       "True"
      ]
     },
     "execution_count": 100,
     "metadata": {},
     "output_type": "execute_result"
    }
   ],
   "source": [
    "overlap_objs[0].size == 0"
   ]
  },
  {
   "cell_type": "code",
   "execution_count": 65,
   "id": "ac14a9b7-646d-481b-862c-446b3a96a2d3",
   "metadata": {},
   "outputs": [
    {
     "name": "stdout",
     "output_type": "stream",
     "text": [
      "CPU times: user 406 µs, sys: 0 ns, total: 406 µs\n",
      "Wall time: 412 µs\n"
     ]
    }
   ],
   "source": [
    "%%time\n",
    "for prev_cat in [cat]:\n",
    "    overlap_objs = np.intersect1d(prev_cat[0], cat2[0], return_indices=True)\n",
    "    if overlap_objs[0].size != 0:\n",
    "        cat, cat2 = resolve_overlap_objects(cat, cat2, overlap_objs)"
   ]
  },
  {
   "cell_type": "code",
   "execution_count": 66,
   "id": "247f3034-a082-4d05-87d6-333257784ffa",
   "metadata": {},
   "outputs": [
    {
     "name": "stderr",
     "output_type": "stream",
     "text": [
      "INFO:root:Initialized logger\n"
     ]
    }
   ],
   "source": [
    "import logging\n",
    "logging.basicConfig(level=logging.INFO)\n",
    "logging.info('Initialized logger')"
   ]
  },
  {
   "cell_type": "code",
   "execution_count": 204,
   "id": "0aed59cb-d56d-4889-9523-c356275b0903",
   "metadata": {},
   "outputs": [],
   "source": [
    "def create_category(data, random_state_offset):\n",
    "    main_datapoint = data.sample(1, random_state=2023+random_state_offset)\n",
    "    #logging.debug(f'using object: {main_datapoint.index[0]}')\n",
    "    distances = pairwise_cosine(main_datapoint.values, data)\n",
    "    idxs = distances[0].argsort()[1:1001]\n",
    "    return (main_datapoint.index[0], np.vstack([idxs, distances[0][idxs]]))\n"
   ]
  },
  {
   "cell_type": "code",
   "execution_count": 205,
   "id": "3dc2f926-de68-42ac-9f09-67e9b3cb63cf",
   "metadata": {},
   "outputs": [],
   "source": [
    "# Not used, dealing with overlaps with pandas\n",
    "def resolve_overlap_objects(cat1, cat2, overlap_objs):\n",
    "    def resolve_single_overlap(cat1, cat2, o):\n",
    "        if cat1[1][o[0]] > cat2[1][o[1]]:\n",
    "            cat1[2][o[0]] = 0\n",
    "        else:\n",
    "            cat2[2][o[1]] = 0\n",
    "        return cat1, cat2\n",
    "    if len(overlap_objs[1:][0]) == 1:\n",
    "        cat1, cat2 = resolve_single_overlap(cat1, cat2, overlap_objs[1:])\n",
    "    else:\n",
    "        for o in overlap_objs[1:]:\n",
    "            cat1, cat2 = resolve_single_overlap(cat1, cat2, o)\n",
    "    return cat1, cat2"
   ]
  },
  {
   "cell_type": "code",
   "execution_count": 206,
   "id": "85de7cd2-3869-456e-95b9-615960b16973",
   "metadata": {},
   "outputs": [],
   "source": [
    "from tqdm import tqdm"
   ]
  },
  {
   "cell_type": "code",
   "execution_count": 235,
   "id": "776d23c5-5a77-4b6f-98b4-c02c555140ab",
   "metadata": {},
   "outputs": [
    {
     "name": "stderr",
     "output_type": "stream",
     "text": [
      "100%|██████████| 100/100 [00:55<00:00,  1.82it/s]"
     ]
    },
    {
     "name": "stdout",
     "output_type": "stream",
     "text": [
      "CPU times: user 39 s, sys: 14.7 s, total: 53.7 s\n",
      "Wall time: 55.3 s\n"
     ]
    },
    {
     "name": "stderr",
     "output_type": "stream",
     "text": [
      "\n"
     ]
    }
   ],
   "source": [
    "%%time\n",
    "\n",
    "categories = []\n",
    "main_objs = []\n",
    "for i in tqdm(range(100)):\n",
    "    obj_id, cat = create_category(data, random_state_offset=i)\n",
    "    main_objs.append(obj_id)\n",
    "    categories.append(cat)"
   ]
  },
  {
   "cell_type": "code",
   "execution_count": 236,
   "id": "505fde58-02f0-4035-a52e-cbbfa153d5eb",
   "metadata": {},
   "outputs": [
    {
     "name": "stdout",
     "output_type": "stream",
     "text": [
      "CPU times: user 319 ms, sys: 0 ns, total: 319 ms\n",
      "Wall time: 320 ms\n"
     ]
    }
   ],
   "source": [
    "%%time\n",
    "\n",
    "# pd concat loop with adding extra column for cat\n",
    "df_all = pd.DataFrame(np.empty(0, dtype=np.uint32))\n",
    "for cat_id, c in enumerate(categories):\n",
    "    df_ = pd.DataFrame(c.T)\n",
    "    df_[2] = cat_id\n",
    "    df_all = pd.concat([df_all, df_])\n",
    "\n",
    "df_all = df_all.rename(\n",
    "    columns={\n",
    "        0: 'object_id', 1: 'dist', 2: 'category_id'\n",
    "    }\n",
    ").sort_values(\n",
    "    'dist', ascending=True\n",
    ").drop_duplicates(\n",
    "    'object_id', keep='first'\n",
    ")"
   ]
  },
  {
   "cell_type": "code",
   "execution_count": 238,
   "id": "9dbb9140-e8ba-4c15-8672-a23b2b9fb136",
   "metadata": {},
   "outputs": [
    {
     "data": {
      "text/plain": [
       "28.0    886\n",
       "11.0    846\n",
       "51.0    811\n",
       "56.0    807\n",
       "93.0    800\n",
       "       ... \n",
       "12.0    198\n",
       "29.0    189\n",
       "4.0     173\n",
       "37.0    129\n",
       "78.0    114\n",
       "Name: category_id, Length: 100, dtype: int64"
      ]
     },
     "execution_count": 238,
     "metadata": {},
     "output_type": "execute_result"
    }
   ],
   "source": [
    "df_all.category_id.value_counts()"
   ]
  },
  {
   "cell_type": "markdown",
   "id": "4028734e-9e27-4b8a-a835-f24848e9ad30",
   "metadata": {},
   "source": [
    "### Time to create training labels for 100 categories (100k data): ~ 1min"
   ]
  },
  {
   "cell_type": "markdown",
   "id": "4768d7ec-e7e4-4281-8fc9-696563dd6ac8",
   "metadata": {},
   "source": [
    "### Train without train-test split "
   ]
  },
  {
   "cell_type": "code",
   "execution_count": 243,
   "id": "b1a10a5c-8a8f-44cb-97fa-dd99f16d6a8d",
   "metadata": {},
   "outputs": [
    {
     "name": "stdout",
     "output_type": "stream",
     "text": [
      "CPU times: user 1min 15s, sys: 242 ms, total: 1min 15s\n",
      "Wall time: 1min 16s\n"
     ]
    }
   ],
   "source": [
    "%%time\n",
    "\n",
    "from sklearn.linear_model import LogisticRegression\n",
    "X = data.loc[df_all.object_id.astype(int)]\n",
    "y = df_all.category_id.astype(int)\n",
    "\n",
    "clf = LogisticRegression(random_state=2023, max_iter=500).fit(X, y)"
   ]
  },
  {
   "cell_type": "code",
   "execution_count": 261,
   "id": "e2690865-72fb-47a6-9c66-49e0ae930450",
   "metadata": {},
   "outputs": [
    {
     "name": "stdout",
     "output_type": "stream",
     "text": [
      "CPU times: user 11.4 ms, sys: 0 ns, total: 11.4 ms\n",
      "Wall time: 14.8 ms\n"
     ]
    }
   ],
   "source": [
    "%time res = clf.predict_proba(X.iloc[:1])"
   ]
  },
  {
   "cell_type": "code",
   "execution_count": 263,
   "id": "eaff863f-2275-4f39-83f0-992667b53ef7",
   "metadata": {},
   "outputs": [
    {
     "name": "stdout",
     "output_type": "stream",
     "text": [
      "CPU times: user 395 ms, sys: 0 ns, total: 395 ms\n",
      "Wall time: 397 ms\n"
     ]
    }
   ],
   "source": [
    "%time res = clf.predict(X)"
   ]
  },
  {
   "cell_type": "code",
   "execution_count": 288,
   "id": "2b8e9bdf-f211-4fe2-85fa-02383af120b5",
   "metadata": {},
   "outputs": [
    {
     "name": "stdout",
     "output_type": "stream",
     "text": [
      "CPU times: user 718 ms, sys: 0 ns, total: 718 ms\n",
      "Wall time: 744 ms\n"
     ]
    }
   ],
   "source": [
    "%time data_categories = pd.DataFrame(clf.predict(data), index=data.index, columns=['category'])"
   ]
  },
  {
   "cell_type": "code",
   "execution_count": 289,
   "id": "1aacd42c-67df-4a52-9f72-535ed9abeeb7",
   "metadata": {},
   "outputs": [
    {
     "data": {
      "text/html": [
       "<div>\n",
       "<style scoped>\n",
       "    .dataframe tbody tr th:only-of-type {\n",
       "        vertical-align: middle;\n",
       "    }\n",
       "\n",
       "    .dataframe tbody tr th {\n",
       "        vertical-align: top;\n",
       "    }\n",
       "\n",
       "    .dataframe thead th {\n",
       "        text-align: right;\n",
       "    }\n",
       "</style>\n",
       "<table border=\"1\" class=\"dataframe\">\n",
       "  <thead>\n",
       "    <tr style=\"text-align: right;\">\n",
       "      <th></th>\n",
       "      <th>category</th>\n",
       "    </tr>\n",
       "  </thead>\n",
       "  <tbody>\n",
       "    <tr>\n",
       "      <th>0</th>\n",
       "      <td>1</td>\n",
       "    </tr>\n",
       "    <tr>\n",
       "      <th>1</th>\n",
       "      <td>85</td>\n",
       "    </tr>\n",
       "    <tr>\n",
       "      <th>2</th>\n",
       "      <td>10</td>\n",
       "    </tr>\n",
       "    <tr>\n",
       "      <th>3</th>\n",
       "      <td>8</td>\n",
       "    </tr>\n",
       "    <tr>\n",
       "      <th>4</th>\n",
       "      <td>50</td>\n",
       "    </tr>\n",
       "    <tr>\n",
       "      <th>...</th>\n",
       "      <td>...</td>\n",
       "    </tr>\n",
       "    <tr>\n",
       "      <th>99995</th>\n",
       "      <td>33</td>\n",
       "    </tr>\n",
       "    <tr>\n",
       "      <th>99996</th>\n",
       "      <td>22</td>\n",
       "    </tr>\n",
       "    <tr>\n",
       "      <th>99997</th>\n",
       "      <td>17</td>\n",
       "    </tr>\n",
       "    <tr>\n",
       "      <th>99998</th>\n",
       "      <td>50</td>\n",
       "    </tr>\n",
       "    <tr>\n",
       "      <th>99999</th>\n",
       "      <td>98</td>\n",
       "    </tr>\n",
       "  </tbody>\n",
       "</table>\n",
       "<p>100000 rows × 1 columns</p>\n",
       "</div>"
      ],
      "text/plain": [
       "       category\n",
       "0             1\n",
       "1            85\n",
       "2            10\n",
       "3             8\n",
       "4            50\n",
       "...         ...\n",
       "99995        33\n",
       "99996        22\n",
       "99997        17\n",
       "99998        50\n",
       "99999        98\n",
       "\n",
       "[100000 rows x 1 columns]"
      ]
     },
     "execution_count": 289,
     "metadata": {},
     "output_type": "execute_result"
    }
   ],
   "source": [
    "data_categories"
   ]
  },
  {
   "cell_type": "code",
   "execution_count": 264,
   "id": "b3232484-1a76-4a69-b2d9-d1ea48ec46c1",
   "metadata": {},
   "outputs": [
    {
     "data": {
      "text/plain": [
       "0.8434859749915512"
      ]
     },
     "execution_count": 264,
     "metadata": {},
     "output_type": "execute_result"
    }
   ],
   "source": [
    "clf.score(X, y)"
   ]
  },
  {
   "cell_type": "markdown",
   "id": "d3310a04-3a48-4326-a58e-fadd3e564983",
   "metadata": {},
   "source": [
    "## evaluate time taken for 90% recall on gt, queries"
   ]
  },
  {
   "cell_type": "code",
   "execution_count": 327,
   "id": "82393f72-f4e6-4e21-b1b3-e05bb3ba7fb7",
   "metadata": {},
   "outputs": [],
   "source": [
    "sample_query = queries.iloc[[1]]"
   ]
  },
  {
   "cell_type": "code",
   "execution_count": 328,
   "id": "bfc900e9-732d-4bb3-b30a-c9879b276b30",
   "metadata": {},
   "outputs": [
    {
     "name": "stdout",
     "output_type": "stream",
     "text": [
      "CPU times: user 11.4 ms, sys: 0 ns, total: 11.4 ms\n",
      "Wall time: 11.4 ms\n"
     ]
    }
   ],
   "source": [
    "%time predicted_category = np.argmax(clf.predict_proba(sample_query))"
   ]
  },
  {
   "cell_type": "code",
   "execution_count": 329,
   "id": "7af8aa55-253c-45c4-8151-f9a7d5a355df",
   "metadata": {},
   "outputs": [
    {
     "name": "stdout",
     "output_type": "stream",
     "text": [
      "CPU times: user 4 ms, sys: 0 ns, total: 4 ms\n",
      "Wall time: 4.01 ms\n"
     ]
    }
   ],
   "source": [
    "%time bucket_obj_indexes = data_categories.query('category == @predicted_category').index"
   ]
  },
  {
   "cell_type": "code",
   "execution_count": 330,
   "id": "b19585f9-0052-42da-8fe3-71526f30b7e3",
   "metadata": {},
   "outputs": [
    {
     "name": "stdout",
     "output_type": "stream",
     "text": [
      "CPU times: user 15.1 ms, sys: 0 ns, total: 15.1 ms\n",
      "Wall time: 15.1 ms\n"
     ]
    }
   ],
   "source": [
    "%%time\n",
    "\n",
    "bucket_df = data.loc[bucket_obj_indexes]\n",
    "final_dists = pairwise_cosine(sample_query, bucket_df)"
   ]
  },
  {
   "cell_type": "code",
   "execution_count": 331,
   "id": "0a7f1b55-b440-4160-9b59-0373dd0ee5f2",
   "metadata": {},
   "outputs": [
    {
     "name": "stdout",
     "output_type": "stream",
     "text": [
      "CPU times: user 155 µs, sys: 38 µs, total: 193 µs\n",
      "Wall time: 197 µs\n"
     ]
    }
   ],
   "source": [
    "%time final_gts = final_dists[0].argsort()[:10]"
   ]
  },
  {
   "cell_type": "code",
   "execution_count": 332,
   "id": "8ffd2693-cb92-4b75-98eb-c9fb5c93fdfd",
   "metadata": {},
   "outputs": [
    {
     "data": {
      "text/plain": [
       "Int64Index([14347, 82848, 79302, 85923, 6016, 67067, 29567, 54566, 34591,\n",
       "            11620],\n",
       "           dtype='int64')"
      ]
     },
     "execution_count": 332,
     "metadata": {},
     "output_type": "execute_result"
    }
   ],
   "source": [
    "anns = bucket_df.iloc[final_gts].index + 1\n",
    "anns"
   ]
  },
  {
   "cell_type": "code",
   "execution_count": 333,
   "id": "5fdd8b31-3ca1-4732-8f17-483b22923f24",
   "metadata": {},
   "outputs": [],
   "source": [
    "def evaluate_recall(anns, knns, k=10):\n",
    "    n_hits = knns.intersection(anns).shape[0]\n",
    "    return n_hits / k"
   ]
  },
  {
   "cell_type": "code",
   "execution_count": 334,
   "id": "a4b638c3-0983-48c6-b8cb-0ecc958c27b7",
   "metadata": {},
   "outputs": [
    {
     "name": "stdout",
     "output_type": "stream",
     "text": [
      "CPU times: user 666 µs, sys: 163 µs, total: 829 µs\n",
      "Wall time: 834 µs\n"
     ]
    },
    {
     "data": {
      "text/plain": [
       "1.0"
      ]
     },
     "execution_count": 334,
     "metadata": {},
     "output_type": "execute_result"
    }
   ],
   "source": [
    "%time evaluate_recall(anns, pd.Index(gt_knns.iloc[1, :10].values))"
   ]
  },
  {
   "cell_type": "markdown",
   "id": "6eaf5841-03c6-40c3-bbc0-52a01f9048c5",
   "metadata": {},
   "source": [
    "## all queries, single bucket"
   ]
  },
  {
   "cell_type": "code",
   "execution_count": 316,
   "id": "3da2ea72-e8a4-49b3-9805-2e5fe9b523de",
   "metadata": {},
   "outputs": [
    {
     "data": {
      "text/plain": [
       "10000"
      ]
     },
     "execution_count": 316,
     "metadata": {},
     "output_type": "execute_result"
    }
   ],
   "source": [
    "queries.shape[0]"
   ]
  },
  {
   "cell_type": "code",
   "execution_count": 318,
   "id": "86dbd80b-4f7f-46b8-bc03-45b058e47bba",
   "metadata": {},
   "outputs": [
    {
     "data": {
      "text/html": [
       "<div>\n",
       "<style scoped>\n",
       "    .dataframe tbody tr th:only-of-type {\n",
       "        vertical-align: middle;\n",
       "    }\n",
       "\n",
       "    .dataframe tbody tr th {\n",
       "        vertical-align: top;\n",
       "    }\n",
       "\n",
       "    .dataframe thead th {\n",
       "        text-align: right;\n",
       "    }\n",
       "</style>\n",
       "<table border=\"1\" class=\"dataframe\">\n",
       "  <thead>\n",
       "    <tr style=\"text-align: right;\">\n",
       "      <th></th>\n",
       "      <th>0</th>\n",
       "      <th>1</th>\n",
       "      <th>2</th>\n",
       "      <th>3</th>\n",
       "      <th>4</th>\n",
       "      <th>5</th>\n",
       "      <th>6</th>\n",
       "      <th>7</th>\n",
       "      <th>8</th>\n",
       "      <th>9</th>\n",
       "      <th>...</th>\n",
       "      <th>758</th>\n",
       "      <th>759</th>\n",
       "      <th>760</th>\n",
       "      <th>761</th>\n",
       "      <th>762</th>\n",
       "      <th>763</th>\n",
       "      <th>764</th>\n",
       "      <th>765</th>\n",
       "      <th>766</th>\n",
       "      <th>767</th>\n",
       "    </tr>\n",
       "  </thead>\n",
       "  <tbody>\n",
       "    <tr>\n",
       "      <th>0</th>\n",
       "      <td>0.001425</td>\n",
       "      <td>0.025776</td>\n",
       "      <td>-0.02312</td>\n",
       "      <td>-0.045599</td>\n",
       "      <td>0.006402</td>\n",
       "      <td>0.002812</td>\n",
       "      <td>0.016146</td>\n",
       "      <td>-0.039648</td>\n",
       "      <td>-0.028935</td>\n",
       "      <td>-0.024204</td>\n",
       "      <td>...</td>\n",
       "      <td>0.005059</td>\n",
       "      <td>-0.031346</td>\n",
       "      <td>-0.001856</td>\n",
       "      <td>-0.025669</td>\n",
       "      <td>0.008989</td>\n",
       "      <td>-0.005685</td>\n",
       "      <td>0.044714</td>\n",
       "      <td>-0.007112</td>\n",
       "      <td>-0.001487</td>\n",
       "      <td>0.015734</td>\n",
       "    </tr>\n",
       "  </tbody>\n",
       "</table>\n",
       "<p>1 rows × 768 columns</p>\n",
       "</div>"
      ],
      "text/plain": [
       "        0         1        2         3         4         5         6    \\\n",
       "0  0.001425  0.025776 -0.02312 -0.045599  0.006402  0.002812  0.016146   \n",
       "\n",
       "        7         8         9    ...       758       759       760       761  \\\n",
       "0 -0.039648 -0.028935 -0.024204  ...  0.005059 -0.031346 -0.001856 -0.025669   \n",
       "\n",
       "        762       763       764       765       766       767  \n",
       "0  0.008989 -0.005685  0.044714 -0.007112 -0.001487  0.015734  \n",
       "\n",
       "[1 rows x 768 columns]"
      ]
     },
     "execution_count": 318,
     "metadata": {},
     "output_type": "execute_result"
    }
   ],
   "source": [
    "queries.iloc[[0]]"
   ]
  },
  {
   "cell_type": "code",
   "execution_count": 342,
   "id": "1edec406-e210-498b-a394-411effbfcf18",
   "metadata": {},
   "outputs": [
    {
     "name": "stderr",
     "output_type": "stream",
     "text": [
      "ERROR:root:Internal Python error in the inspect module.\n",
      "Below is the traceback from this internal error.\n",
      "\n",
      "\n",
      "KeyboardInterrupt\n",
      "\n"
     ]
    }
   ],
   "source": [
    "%%time\n",
    "\n",
    "recalls = []\n",
    "\n",
    "# stop cond: single bucket\n",
    "# time to evaluate 10k queries:\n",
    "# mean recall: 0.5\n",
    "def search(query_idx, k=10):\n",
    "    query = queries.iloc[[query_idx]]\n",
    "    predicted_category = np.argmax(clf.predict_proba(query))\n",
    "    bucket_obj_indexes = data_categories.query('category == @predicted_category').index\n",
    "    bucket_df = data.loc[bucket_obj_indexes]\n",
    "    final_dists = pairwise_cosine(query, bucket_df)[0]\n",
    "    final_gts = final_dists.argsort()[:k]\n",
    "    anns = bucket_df.iloc[final_gts].index + 1\n",
    "    return evaluate_recall(anns, pd.Index(gt_knns.iloc[query_idx, :10].values))\n",
    "\n",
    "for q_idx in tqdm(range(queries.shape[0])):\n",
    "    recalls.append(search(q_idx))"
   ]
  },
  {
   "cell_type": "code",
   "execution_count": 343,
   "id": "33769489-3957-4a74-bb07-33baf25f7ad1",
   "metadata": {},
   "outputs": [
    {
     "data": {
      "text/plain": [
       "0.47067847343477176"
      ]
     },
     "execution_count": 343,
     "metadata": {},
     "output_type": "execute_result"
    }
   ],
   "source": [
    "np.mean(recalls)"
   ]
  },
  {
   "cell_type": "code",
   "execution_count": null,
   "id": "ed7a9a6b-a09e-455a-9cc9-e5bd128c8c1e",
   "metadata": {},
   "outputs": [],
   "source": []
  }
 ],
 "metadata": {
  "kernelspec": {
   "display_name": "Python 3",
   "language": "python",
   "name": "python3"
  },
  "language_info": {
   "codemirror_mode": {
    "name": "ipython",
    "version": 3
   },
   "file_extension": ".py",
   "mimetype": "text/x-python",
   "name": "python",
   "nbconvert_exporter": "python",
   "pygments_lexer": "ipython3",
   "version": "3.6.2"
  }
 },
 "nbformat": 4,
 "nbformat_minor": 5
}
