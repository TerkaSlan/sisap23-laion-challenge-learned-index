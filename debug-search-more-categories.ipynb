{
 "cells": [
  {
   "cell_type": "code",
   "execution_count": 1,
   "id": "52d31e49-3838-4e69-9a0c-940c52f4a571",
   "metadata": {},
   "outputs": [],
   "source": [
    "import argparse\n",
    "import h5py\n",
    "import numpy as np\n",
    "import pandas as pd\n",
    "from sklearn import preprocessing\n",
    "import os\n",
    "import time\n",
    "from pathlib import Path\n",
    "from urllib.request import urlretrieve\n",
    "import logging\n",
    "from li.Baseline import Baseline\n",
    "from li.LearnedIndex import LearnedIndex\n",
    "from li.utils import save_as_pickle\n",
    "from li.model import data_X_to_torch\n"
   ]
  },
  {
   "cell_type": "code",
   "execution_count": 2,
   "id": "3381e4f4-3851-4069-aa7d-481d3db24187",
   "metadata": {},
   "outputs": [],
   "source": [
    "%reload_ext autoreload\n",
    "%autoreload 2"
   ]
  },
  {
   "cell_type": "code",
   "execution_count": 3,
   "id": "6f7dbeb9-eddb-49b9-bd25-d4645cc9f214",
   "metadata": {},
   "outputs": [],
   "source": [
    "np.random.seed(2023)\n",
    "\n",
    "logging.basicConfig(\n",
    "    level=logging.INFO,\n",
    "    format='[%(asctime)s][%(levelname)-5.5s][%(name)-.20s] %(message)s'\n",
    ")\n",
    "LOG = logging.getLogger(__name__)\n"
   ]
  },
  {
   "cell_type": "code",
   "execution_count": 4,
   "id": "bd594349-9b14-4eb6-bf0b-3efb06da8555",
   "metadata": {},
   "outputs": [],
   "source": [
    "kind='pca32v2'\n",
    "size='100K'\n",
    "key='pca32'"
   ]
  },
  {
   "cell_type": "code",
   "execution_count": 5,
   "id": "a6a9022e-a528-4af2-92f1-c55b580149b8",
   "metadata": {},
   "outputs": [],
   "source": [
    "data = np.array(h5py.File(os.path.join(\"data\", kind, size, \"dataset.h5\"), \"r\")[key])\n",
    "queries = np.array(h5py.File(os.path.join(\"data\", kind, size, \"query.h5\"), \"r\")[key])"
   ]
  },
  {
   "cell_type": "code",
   "execution_count": 6,
   "id": "bb08dc01-47b1-473b-958f-f2326aed0aab",
   "metadata": {},
   "outputs": [],
   "source": [
    "kind_search = 'clip768v2'\n",
    "key_search = 'emb'\n",
    "data_search = np.array(\n",
    "    h5py.File(os.path.join(\"data\", kind_search, size, \"dataset.h5\"), \"r\")[key_search]\n",
    ")"
   ]
  },
  {
   "cell_type": "code",
   "execution_count": 7,
   "id": "0001f683-b123-4c3f-aa1b-78f301374579",
   "metadata": {},
   "outputs": [],
   "source": [
    "queries_search = np.array(\n",
    "    h5py.File(os.path.join(\"data\", kind_search, size, \"query.h5\"), \"r\")[key_search]\n",
    ")"
   ]
  },
  {
   "cell_type": "code",
   "execution_count": 8,
   "id": "3354102d-638d-4016-a80b-39e2f0ed3cc0",
   "metadata": {},
   "outputs": [],
   "source": [
    "import torch\n",
    "from torch import nn\n",
    "import torch.nn.functional as nnf\n",
    "import numpy as np\n",
    "from li.Logger import Logger\n",
    "from typing import Tuple\n",
    "import torch.utils.data\n",
    "\n",
    "torch.manual_seed(2023)\n",
    "np.random.seed(2023)\n",
    "\n",
    "class Model(nn.Module):\n",
    "    def __init__(self, input_dim=768, output_dim=1000, model_type=None):\n",
    "        super().__init__()\n",
    "        if model_type == 'MLP':\n",
    "            self.layers = torch.nn.Sequential(\n",
    "                torch.nn.Linear(input_dim, 128),\n",
    "                torch.nn.ReLU(),\n",
    "                torch.nn.Linear(128, output_dim)\n",
    "            )\n",
    "        if model_type == 'MLP-2':\n",
    "            self.layers = torch.nn.Sequential(\n",
    "                torch.nn.Linear(input_dim, 64),\n",
    "                torch.nn.ReLU(),\n",
    "                torch.nn.Linear(64, output_dim)\n",
    "            )\n",
    "        if model_type == 'MLP-3':\n",
    "            self.layers = torch.nn.Sequential(\n",
    "                torch.nn.Linear(input_dim, 256),\n",
    "                torch.nn.ReLU(),\n",
    "                torch.nn.Linear(256, output_dim)\n",
    "            )\n",
    "        if model_type == 'MLP-4':\n",
    "            self.layers = torch.nn.Sequential(\n",
    "                torch.nn.Linear(input_dim, 512),\n",
    "                torch.nn.ReLU(),\n",
    "                torch.nn.Linear(512, output_dim)\n",
    "            )\n",
    "        if model_type == 'MLP-5':\n",
    "            self.layers = torch.nn.Sequential(\n",
    "                torch.nn.Linear(input_dim, 256),\n",
    "                torch.nn.ReLU(),\n",
    "                torch.nn.Linear(256, 128),\n",
    "                torch.nn.ReLU(),\n",
    "                torch.nn.Linear(128, output_dim)\n",
    "            )\n",
    "        if model_type == 'MLP-6':\n",
    "            self.layers = torch.nn.Sequential(\n",
    "                torch.nn.Linear(input_dim, 32),\n",
    "                torch.nn.ReLU(),\n",
    "                torch.nn.Linear(32, output_dim)\n",
    "            )\n",
    "        if model_type == 'MLP-7':\n",
    "            self.layers = torch.nn.Sequential(\n",
    "                torch.nn.Linear(input_dim, 16),\n",
    "                torch.nn.ReLU(),\n",
    "                torch.nn.Linear(16, output_dim)\n",
    "            )\n",
    "        if model_type == 'MLP-8':\n",
    "            self.layers = torch.nn.Sequential(\n",
    "                torch.nn.Linear(input_dim, 8),\n",
    "                torch.nn.ReLU(),\n",
    "                torch.nn.Linear(8, output_dim)\n",
    "            )\n",
    "        if model_type == 'MLP-9':\n",
    "            self.layers = torch.nn.Sequential(\n",
    "                torch.nn.Linear(input_dim, 8),\n",
    "                torch.nn.ReLU(),\n",
    "                torch.nn.Linear(input_dim, 16),\n",
    "                torch.nn.ReLU(),\n",
    "                torch.nn.Linear(16, output_dim)\n",
    "            )\n",
    "        self.n_output_neurons = output_dim\n",
    "\n",
    "    def forward(self, x: torch.FloatTensor) -> torch.FloatTensor:\n",
    "        outputs = self.layers(x)\n",
    "        return outputs\n",
    "\n",
    "\n",
    "def data_X_to_torch(data) -> torch.FloatTensor:\n",
    "    \"\"\" Creates torch training data.\"\"\"\n",
    "    data_X = torch.from_numpy(np.array(data).astype(np.float32))\n",
    "    return data_X\n",
    "\n",
    "\n",
    "def data_to_torch(data, labels) -> Tuple[torch.FloatTensor, torch.LongTensor]:\n",
    "    \"\"\" Creates torch training data and labels.\"\"\"\n",
    "    data_X = data_X_to_torch(data)\n",
    "    data_y = torch.as_tensor(torch.from_numpy(labels), dtype=torch.long)\n",
    "    return data_X, data_y\n",
    "\n",
    "\n",
    "def get_device() -> torch.device:\n",
    "    \"\"\" Gets the `device` to be used by torch.\n",
    "    This arugment is needed to operate with the PyTorch model instance.\n",
    "\n",
    "    Returns\n",
    "    ------\n",
    "    torch.device\n",
    "        Device\n",
    "    \"\"\"\n",
    "    use_cuda = torch.cuda.is_available()\n",
    "    device = torch.device('cuda:0' if use_cuda else 'cpu')\n",
    "    torch.backends.cudnn.benchmark = True\n",
    "    return device\n",
    "\n",
    "\n",
    "class NeuralNetwork(Logger):\n",
    "    \"\"\" The neural network class corresponding to every inner node.\n",
    "\n",
    "    Parameters\n",
    "    ----------\n",
    "    input_dim : int\n",
    "        The input dimension.\n",
    "    output_dim : int\n",
    "        The output dimension.\n",
    "    loss : torch.nn, optional\n",
    "        The loss function, the default is torch.nn.CrossEntropyLoss.\n",
    "    lr : float, optional\n",
    "        The learning rate, the default is 0.001.\n",
    "    model_type : str, optional\n",
    "        The model type, the default is 'MLP'.\n",
    "    class_weight : torch.FloatTensor, optional\n",
    "        The class weights, the default is None.\n",
    "    \"\"\"\n",
    "    def __init__(\n",
    "        self,\n",
    "        input_dim,\n",
    "        output_dim,\n",
    "        loss=torch.nn.CrossEntropyLoss,\n",
    "        lr=0.1,\n",
    "        model_type='MLP',\n",
    "        class_weight=None\n",
    "    ):\n",
    "        self.device = get_device()\n",
    "        self.model = Model(input_dim, output_dim, model_type=model_type).to(self.device)\n",
    "        if not isinstance(class_weight, type(None)):\n",
    "            self.loss = loss(weight=class_weight.to(self.device))\n",
    "        else:\n",
    "            self.loss = loss()\n",
    "        self.optimizer = torch.optim.Adam(self.model.parameters(), lr=lr)\n",
    "\n",
    "    def train(\n",
    "        self,\n",
    "        data_X: torch.FloatTensor,\n",
    "        data_y: torch.LongTensor,\n",
    "        epochs=500,\n",
    "        logger=None\n",
    "    ):\n",
    "        step = epochs // 10\n",
    "        losses = []\n",
    "        if logger:\n",
    "            logger.info(f'Epochs: {epochs}, step: {step}')\n",
    "        for ep in range(epochs):\n",
    "            pred_y = self.model(data_X.to(self.device))\n",
    "            curr_loss = self.loss(pred_y, data_y.to(self.device))\n",
    "            if ep % step == 0 and ep != 0:\n",
    "                if logger:\n",
    "                    logger.info(f'Epoch {ep} | Loss {curr_loss.item()}')\n",
    "            losses.append(curr_loss.item())\n",
    "\n",
    "            self.model.zero_grad()\n",
    "            curr_loss.backward()\n",
    "\n",
    "            self.optimizer.step()\n",
    "        return losses\n",
    "\n",
    "    def train_batch(\n",
    "        self,\n",
    "        dataset,\n",
    "        epochs=5,\n",
    "        logger=None\n",
    "    ):\n",
    "        step = epochs // 10\n",
    "        step = step if step > 0 else 1\n",
    "        losses = []\n",
    "        if logger:\n",
    "            logger.info(f'Epochs: {epochs}, step: {step}')\n",
    "        for ep in range(epochs):\n",
    "            for data_X, data_y in iter(dataset):\n",
    "                pred_y = self.model(data_X.to(self.device))\n",
    "                curr_loss = self.loss(pred_y, data_y.to(self.device))\n",
    "\n",
    "            if ep % step == 0 and ep != 0:\n",
    "                if logger:\n",
    "                    logger.info(f'Epoch {ep} | Loss {curr_loss.item():.5f}')\n",
    "            losses.append(curr_loss.item())\n",
    "\n",
    "            self.model.zero_grad()\n",
    "            curr_loss.backward()\n",
    "\n",
    "            self.optimizer.step()\n",
    "        return losses\n",
    "\n",
    "    def predict(self, data_X: torch.FloatTensor):\n",
    "        \"\"\" Collects predictions for multiple data points (used in structure building).\"\"\"\n",
    "        self.model = self.model.to(self.device)\n",
    "        self.model.eval()\n",
    "\n",
    "        all_outputs = torch.tensor([], device=self.device)\n",
    "        with torch.no_grad():\n",
    "            outputs = self.model(data_X.to(self.device))\n",
    "            all_outputs = torch.cat((all_outputs, outputs), 0)\n",
    "\n",
    "        _, y_pred = torch.max(all_outputs, 1)\n",
    "        return y_pred.cpu().numpy()\n",
    "\n",
    "    def predict_proba(self, data_X: torch.FloatTensor):\n",
    "        \"\"\" Collects predictions for a single data point (used in query predictions).\"\"\"\n",
    "        self.model = self.model.to(self.device)\n",
    "        self.model.eval()\n",
    "\n",
    "        with torch.no_grad():\n",
    "            outputs = self.model(data_X.to(self.device))\n",
    "\n",
    "        if outputs.dim() == 1:\n",
    "            dim = 0\n",
    "        else:\n",
    "            dim = 1\n",
    "        prob = nnf.softmax(outputs, dim=dim)\n",
    "        probs, classes = prob.topk(prob.shape[1])\n",
    "\n",
    "        return probs.cpu().numpy(), classes.cpu().numpy()\n",
    "\n",
    "\n",
    "class LIDataset(torch.utils.data.Dataset):\n",
    "    def __init__(self, dataset_x, dataset_y):\n",
    "        self.dataset_x, self.dataset_y = data_to_torch(dataset_x, dataset_y)\n",
    "\n",
    "    def __len__(self):\n",
    "        return self.dataset_x.shape[0]\n",
    "\n",
    "    def __getitem__(self, idx):\n",
    "        return self.dataset_x[idx-1], self.dataset_y[idx-1]\n"
   ]
  },
  {
   "cell_type": "code",
   "execution_count": 9,
   "id": "2dd0411b-4e94-4379-a992-7f6ed8937775",
   "metadata": {},
   "outputs": [
    {
     "name": "stderr",
     "output_type": "stream",
     "text": [
      "[2023-07-13 15:57:11,655][INFO ][faiss.loader] Loading faiss with AVX2 support.\n",
      "[2023-07-13 15:57:11,661][INFO ][faiss.loader] Could not load library with AVX2 support due to:\n",
      "ModuleNotFoundError(\"No module named 'faiss.swigfaiss_avx2'\",)\n",
      "[2023-07-13 15:57:11,665][INFO ][faiss.loader] Loading faiss.\n",
      "[2023-07-13 15:57:11,751][INFO ][faiss.loader] Successfully loaded faiss.\n"
     ]
    }
   ],
   "source": [
    "import numpy as np\n",
    "from li.Logger import Logger\n",
    "from li.utils import pairwise_cosine\n",
    "import time\n",
    "import torch\n",
    "import torch.utils.data\n",
    "import faiss\n",
    "from tqdm import tqdm\n",
    "import numpy as np\n",
    "torch.manual_seed(2023)\n",
    "np.random.seed(2023)\n",
    "\n",
    "class LearnedIndex(Logger):\n",
    "\n",
    "    def __init__(self):\n",
    "        self.pq = []\n",
    "        self.model = None\n",
    "\n",
    "    def search(\n",
    "        self,\n",
    "        data_navigation,\n",
    "        queries_navigation,\n",
    "        data_search,\n",
    "        queries_search,\n",
    "        pred_categories,\n",
    "        n_buckets=1,\n",
    "        k=10\n",
    "    ):\n",
    "        \"\"\" Search for k nearest neighbors for each query in queries.\n",
    "\n",
    "        Parameters\n",
    "        ----------\n",
    "        queries : np.array\n",
    "            Queries to search for.\n",
    "        data : np.array\n",
    "            Data to search in.\n",
    "        n_buckets : int\n",
    "            Number of most similar buckets to search in.\n",
    "        k : int\n",
    "            Number of nearest neighbors to search for.\n",
    "\n",
    "        Returns\n",
    "        -------\n",
    "        dists : np.array\n",
    "            Array of shape (queries.shape[0], k) with distances to nearest neighbors for each query.\n",
    "        anns : np.array\n",
    "            Array of shape (queries.shape[0], k) with nearest neighbors for each query.\n",
    "        time : float\n",
    "            Time it took to search.\n",
    "        \"\"\"\n",
    "        assert self.model is not None, 'Model is not trained, call `build` first.'\n",
    "        s = time.time()\n",
    "        _, pred_proba_categories = self.model.predict_proba(\n",
    "            data_X_to_torch(queries_navigation)\n",
    "        )\n",
    "        t_inference = time.time() - s\n",
    "        anns_final = None\n",
    "        dists_final = None\n",
    "        # sorts the predictions of a bucket for each query, ordered by lowest probability\n",
    "        data_navigation['category'] = pred_categories\n",
    "\n",
    "        # iterates over the predicted buckets starting from the most similar (index -1)\n",
    "        t_all_buckets = 0\n",
    "        t_all_pairwise = 0\n",
    "        for bucket in range(n_buckets):\n",
    "            dists, anns, t_all, t_pairwise = self.search_single(\n",
    "                data_navigation,\n",
    "                data_search,\n",
    "                queries_search,\n",
    "                pred_proba_categories[:, bucket]\n",
    "            )\n",
    "            t_all_buckets += t_all\n",
    "            t_all_pairwise += t_pairwise\n",
    "            if anns_final is None:\n",
    "                anns_final = anns\n",
    "                dists_final = dists\n",
    "            else:\n",
    "                # stacks the results from the previous sorted anns and dists\n",
    "                # *_final arrays now have shape (queries.shape[0], k*2)\n",
    "                anns_final = np.hstack((anns_final, anns))\n",
    "                dists_final = np.hstack((dists_final, dists))\n",
    "                # gets the sorted indices of the stacked dists\n",
    "                idx_sorted = dists_final.argsort(kind='stable', axis=1)[:, :k]\n",
    "                # indexes the final arrays with the sorted indices\n",
    "                # *_final arrays now have shape (queries.shape[0], k)\n",
    "                idx = np.ogrid[tuple(map(slice, dists_final.shape))]\n",
    "                idx[1] = idx_sorted\n",
    "                dists_final = dists_final[tuple(idx)]\n",
    "                anns_final = anns_final[tuple(idx)]\n",
    "\n",
    "                assert anns_final.shape == dists_final.shape == (queries_search.shape[0], k)\n",
    "\n",
    "        return dists_final, anns_final, time.time() - s, t_inference, t_all_buckets, t_all_pairwise\n",
    "\n",
    "    def search_single(\n",
    "        self,\n",
    "        data_navigation,\n",
    "        data_search,\n",
    "        queries_search,\n",
    "        pred_categories,\n",
    "        k=10\n",
    "    ):\n",
    "        \"\"\" Search for k nearest neighbors for each query in queries.\n",
    "\n",
    "        Parameters\n",
    "        ----------\n",
    "        queries : np.array\n",
    "            Queries to search for.\n",
    "        data : np.array\n",
    "            Data to search in.\n",
    "        k : int\n",
    "            Number of nearest neighbors to search for.\n",
    "\n",
    "        Returns\n",
    "        -------\n",
    "        anns : np.array\n",
    "            Array of shape (queries.shape[0], k) with nearest neighbors for each query.\n",
    "        final_dists_k : np.array\n",
    "            Array of shape (queries.shape[0], k) with distances to nearest neighbors for each query.\n",
    "        time : float\n",
    "            Time it took to search.\n",
    "        \"\"\"\n",
    "        s_all = time.time()\n",
    "        nns = np.zeros((queries_search.shape[0], k), dtype=np.uint32)\n",
    "        dists = np.zeros((queries_search.shape[0], k), dtype=np.float32)\n",
    "\n",
    "        if 'category' in data_search.columns:\n",
    "            data_search = data_search.drop('category', axis=1, errors='ignore')\n",
    "\n",
    "        t_pairwise = 0\n",
    "        for cat, g in tqdm(data_navigation.groupby('category')):\n",
    "            cat_idxs = np.where(pred_categories == cat)[0]\n",
    "            bucket_obj_indexes = g.index\n",
    "            if bucket_obj_indexes.shape[0] != 0 and cat_idxs.shape[0] != 0:\n",
    "                try:\n",
    "                    s = time.time()\n",
    "                    seq_search_dists = pairwise_cosine(\n",
    "                        queries_search[cat_idxs],\n",
    "                        data_search.loc[bucket_obj_indexes]\n",
    "                    )\n",
    "                    t_pairwise += time.time() - s\n",
    "                    ann_relative = seq_search_dists.argsort()[\n",
    "                        :, :k if k < seq_search_dists.shape[1] else seq_search_dists.shape[1]\n",
    "                    ]\n",
    "                    nns[cat_idxs] = np.array(bucket_obj_indexes)[ann_relative]\n",
    "                    dists[cat_idxs] = np.take_along_axis(seq_search_dists, ann_relative, axis=1)\n",
    "                except ValueError as e:\n",
    "                    print(e)\n",
    "                    print('cat_idxs', cat_idxs.shape)\n",
    "                    print('bucket_obj_indexes', bucket_obj_indexes.shape)\n",
    "                    print('seq_search_dists', seq_search_dists.shape)\n",
    "                    print('ann_relative', ann_relative.shape)\n",
    "\n",
    "        t_all = time.time() - s_all\n",
    "        return dists, nns, t_all, t_pairwise\n",
    "\n",
    "    def build(self, data, n_categories=100, epochs=100, lr=0.1, model_type='MLP'):\n",
    "        \"\"\" Build the index.\n",
    "\n",
    "        Parameters\n",
    "        ----------\n",
    "        data : np.array\n",
    "            Data to build the index on.\n",
    "\n",
    "        Returns\n",
    "        -------\n",
    "        time : float\n",
    "            Time it took to build the index.\n",
    "        \"\"\"\n",
    "        s = time.time()\n",
    "        # ---- cluster the data into categories ---- #\n",
    "        _, labels = self.cluster(data, n_categories)\n",
    "\n",
    "        # ---- train a neural network ---- #\n",
    "        dataset = LIDataset(data, labels)\n",
    "        train_loader = torch.utils.data.DataLoader(\n",
    "            dataset,\n",
    "            batch_size=256,\n",
    "            sampler=torch.utils.data.SubsetRandomSampler(\n",
    "                data.index.values.tolist()\n",
    "            )\n",
    "        )\n",
    "        nn = NeuralNetwork(\n",
    "            input_dim=data.shape[1],\n",
    "            output_dim=n_categories,\n",
    "            lr=lr,\n",
    "            model_type=model_type\n",
    "        )\n",
    "        nn.train_batch(train_loader, epochs=epochs, logger=self.logger)\n",
    "        # ---- collect predictions ---- #\n",
    "        self.model = nn\n",
    "        return nn.predict(data_X_to_torch(data)), time.time() - s\n",
    "\n",
    "    def cluster(\n",
    "        self,\n",
    "        data,\n",
    "        n_clusters,\n",
    "        n_redo=10,\n",
    "        spherical=True,\n",
    "        int_centroids=True,\n",
    "\n",
    "    ):\n",
    "        if data.shape[0] < 2:\n",
    "            return None, np.zeros_like(data.shape[0])\n",
    "\n",
    "        if data.shape[0] < n_clusters:\n",
    "            n_clusters = data.shape[0] // 5\n",
    "            if n_clusters < 2:\n",
    "                n_clusters = 2\n",
    "\n",
    "        kmeans = faiss.Kmeans(\n",
    "            d=np.array(data).shape[1],\n",
    "            k=n_clusters,\n",
    "            verbose=True,\n",
    "            #nredo=n_redo,\n",
    "            #spherical=spherical,\n",
    "            #int_centroids=int_centroids,\n",
    "            #update_index=False,\n",
    "            seed=2023\n",
    "        )\n",
    "        X = np.array(data).astype(np.float32)\n",
    "        kmeans.train(X)\n",
    "\n",
    "        return kmeans, kmeans.index.search(X, 1)[1].T[0]\n"
   ]
  },
  {
   "cell_type": "code",
   "execution_count": 10,
   "id": "263cfad0-8b34-49ed-9c39-5707b7655e02",
   "metadata": {},
   "outputs": [],
   "source": [
    "data = pd.DataFrame(data)\n",
    "data.index += 1\n",
    "\n",
    "data_search = pd.DataFrame(data_search)\n",
    "data_search.index += 1"
   ]
  },
  {
   "cell_type": "code",
   "execution_count": null,
   "id": "aa92e1f4-e96e-4a8c-8e9b-9d0d2d6ca2d5",
   "metadata": {},
   "outputs": [
    {
     "name": "stderr",
     "output_type": "stream",
     "text": [
      "[2023-07-13 15:57:28,622][INFO ][__main__.LearnedInde] Epochs: 20, step: 2\n",
      "[2023-07-13 15:57:38,796][INFO ][__main__.LearnedInde] Epoch 2 | Loss 7.68513\n",
      "[2023-07-13 15:57:45,527][INFO ][__main__.LearnedInde] Epoch 4 | Loss 7.65066\n",
      "[2023-07-13 15:57:52,321][INFO ][__main__.LearnedInde] Epoch 6 | Loss 7.62184\n",
      "[2023-07-13 15:57:59,025][INFO ][__main__.LearnedInde] Epoch 8 | Loss 7.54541\n",
      "[2023-07-13 15:58:05,797][INFO ][__main__.LearnedInde] Epoch 10 | Loss 7.51368\n",
      "[2023-07-13 15:58:12,500][INFO ][__main__.LearnedInde] Epoch 12 | Loss 7.52358\n",
      "[2023-07-13 15:58:19,216][INFO ][__main__.LearnedInde] Epoch 14 | Loss 7.57553\n"
     ]
    }
   ],
   "source": [
    "li = LearnedIndex()\n",
    "pred_categories, build_t = li.build(\n",
    "    data,\n",
    "    n_categories=2000,\n",
    "    epochs=20,\n",
    "    lr=0.1\n",
    ")"
   ]
  },
  {
   "cell_type": "code",
   "execution_count": null,
   "id": "145e227b-23fe-4ca8-beab-427e3053f24d",
   "metadata": {},
   "outputs": [],
   "source": [
    "data['category'] = pred_categories"
   ]
  },
  {
   "cell_type": "code",
   "execution_count": null,
   "id": "1f93d5bc-be7e-4604-8088-5f222d78499b",
   "metadata": {},
   "outputs": [],
   "source": [
    "data.category.value_counts()"
   ]
  },
  {
   "cell_type": "code",
   "execution_count": 14,
   "id": "277e4a6a-053a-46e1-a948-4e4fb25182aa",
   "metadata": {},
   "outputs": [],
   "source": [
    "k=10"
   ]
  },
  {
   "cell_type": "code",
   "execution_count": 15,
   "id": "6099db73-0909-48f3-b1f7-d8ae3558b321",
   "metadata": {},
   "outputs": [],
   "source": [
    "nns = np.zeros((queries_search.shape[0], k), dtype=np.uint32)\n",
    "dists = np.zeros((queries_search.shape[0], k), dtype=np.float32)"
   ]
  },
  {
   "cell_type": "code",
   "execution_count": 16,
   "id": "80644465-5606-4775-8ce4-8672eeecca98",
   "metadata": {},
   "outputs": [],
   "source": [
    "_, pred_proba_categories = li.model.predict_proba(\n",
    "    data_X_to_torch(queries)\n",
    ")"
   ]
  },
  {
   "cell_type": "code",
   "execution_count": 17,
   "id": "c8a3f9af-66eb-4663-a42f-487350fabf95",
   "metadata": {},
   "outputs": [],
   "source": [
    "bucket = 0"
   ]
  },
  {
   "cell_type": "code",
   "execution_count": 18,
   "id": "b2d40023-16de-4525-93b3-6992060bf637",
   "metadata": {},
   "outputs": [
    {
     "data": {
      "text/plain": [
       "array([[ 791, 1878, 1144, ...,  542, 1020, 1010],\n",
       "       [ 791, 1913,  708, ..., 1535,  434, 1547],\n",
       "       [ 276,  911, 1864, ...,  823, 1636,  190],\n",
       "       ...,\n",
       "       [1665,  349, 1418, ..., 1563,  542, 1229],\n",
       "       [ 791, 1913, 1428, ..., 1020, 1955, 1547],\n",
       "       [1144,  791, 1878, ..., 1229,  542, 1547]])"
      ]
     },
     "execution_count": 18,
     "metadata": {},
     "output_type": "execute_result"
    }
   ],
   "source": [
    "pred_proba_categories"
   ]
  },
  {
   "cell_type": "code",
   "execution_count": 19,
   "id": "e9f0f326-5ae8-4113-a600-fdcc8c3d598a",
   "metadata": {},
   "outputs": [
    {
     "name": "stderr",
     "output_type": "stream",
     "text": [
      "  0%|          | 0/97 [00:00<?, ?it/s]"
     ]
    },
    {
     "name": "stdout",
     "output_type": "stream",
     "text": [
      "(322, 768)\n",
      "(3095, 768)\n"
     ]
    },
    {
     "name": "stderr",
     "output_type": "stream",
     "text": [
      "\n"
     ]
    }
   ],
   "source": [
    "for cat, g in tqdm(data.groupby('category')):\n",
    "    cat_idxs = np.where(pred_proba_categories[:, bucket] == cat)[0]\n",
    "    bucket_obj_indexes = g.index\n",
    "    print(queries_search[cat_idxs].shape)\n",
    "    print(data_search.loc[bucket_obj_indexes].shape)\n",
    "    break\n",
    "    seq_search_dists = pairwise_cosine(\n",
    "        queries_search[cat_idxs],\n",
    "        data_search.loc[bucket_obj_indexes]\n",
    "    )\n",
    "    break"
   ]
  },
  {
   "cell_type": "code",
   "execution_count": 25,
   "id": "33a6c489-1624-4f1c-a4d0-2340e58c2a6f",
   "metadata": {},
   "outputs": [
    {
     "data": {
      "text/plain": [
       "array([0.36959553, 0.32019585, 0.17210594, ..., 0.254975  , 0.36058566,\n",
       "       0.37660939], dtype=float32)"
      ]
     },
     "execution_count": 25,
     "metadata": {},
     "output_type": "execute_result"
    }
   ],
   "source": [
    "dists.max(axis=1)"
   ]
  },
  {
   "cell_type": "code",
   "execution_count": 24,
   "id": "b2e45baf-88b7-473d-8094-b22c9731d17d",
   "metadata": {},
   "outputs": [
    {
     "data": {
      "text/plain": [
       "array([[0.306153  , 0.31319278, 0.3316943 , ..., 0.36904657, 0.36959553,\n",
       "        0.36959553],\n",
       "       [0.23895504, 0.2626422 , 0.27826455, ..., 0.3162143 , 0.31905118,\n",
       "        0.32019585],\n",
       "       [0.13460062, 0.14457192, 0.15563862, ..., 0.16689926, 0.16764964,\n",
       "        0.17210594],\n",
       "       ...,\n",
       "       [0.2241371 , 0.2337276 , 0.23440455, ..., 0.25322142, 0.25394517,\n",
       "        0.254975  ],\n",
       "       [0.32610038, 0.33764818, 0.34348887, ..., 0.35277185, 0.35619137,\n",
       "        0.36058566],\n",
       "       [0.27490523, 0.3412929 , 0.35591373, ..., 0.3703666 , 0.37131587,\n",
       "        0.37660939]], dtype=float32)"
      ]
     },
     "execution_count": 24,
     "metadata": {},
     "output_type": "execute_result"
    }
   ],
   "source": [
    "dists"
   ]
  },
  {
   "cell_type": "code",
   "execution_count": 23,
   "id": "daf00554-5eaa-4911-a329-52fe7468ffa6",
   "metadata": {},
   "outputs": [
    {
     "ename": "ValueError",
     "evalue": "The truth value of an array with more than one element is ambiguous. Use a.any() or a.all()",
     "output_type": "error",
     "traceback": [
      "\u001b[0;31m---------------------------------------------------------------------------\u001b[0m",
      "\u001b[0;31mValueError\u001b[0m                                Traceback (most recent call last)",
      "\u001b[0;32m<ipython-input-23-a389fd464a49>\u001b[0m in \u001b[0;36m<module>\u001b[0;34m\u001b[0m\n\u001b[0;32m----> 1\u001b[0;31m \u001b[0mmax\u001b[0m\u001b[0;34m(\u001b[0m\u001b[0mdists\u001b[0m\u001b[0;34m)\u001b[0m\u001b[0;34m\u001b[0m\u001b[0m\n\u001b[0m",
      "\u001b[0;31mValueError\u001b[0m: The truth value of an array with more than one element is ambiguous. Use a.any() or a.all()"
     ]
    }
   ],
   "source": [
    "max(dists)"
   ]
  },
  {
   "cell_type": "code",
   "execution_count": 20,
   "id": "7c9b6c51-fcec-4fe9-90d2-85978ca24e89",
   "metadata": {},
   "outputs": [
    {
     "name": "stderr",
     "output_type": "stream",
     "text": [
      "100%|██████████| 97/97 [00:09<00:00, 10.40it/s]\n"
     ]
    }
   ],
   "source": [
    "for cat, g in tqdm(data.groupby('category')):\n",
    "    cat_idxs = np.where(pred_proba_categories[:, bucket] == cat)[0]\n",
    "    bucket_obj_indexes = g.index\n",
    "    if bucket_obj_indexes.shape[0] != 0 and cat_idxs.shape[0] != 0:\n",
    "        #print(cat, cat_idxs, cat_idxs.shape)\n",
    "        #break\n",
    "        seq_search_dists = pairwise_cosine(\n",
    "            queries_search[cat_idxs],\n",
    "            data_search.loc[bucket_obj_indexes]\n",
    "        )\n",
    "        #print(seq_search_dists.shape)\n",
    "        ann_relative = seq_search_dists.argsort()[\n",
    "            :, :k if k < seq_search_dists.shape[1] else seq_search_dists.shape[1]\n",
    "        ]\n",
    "        #print('ann_relative: ', ann_relative.shape)\n",
    "        #print('np.array(bucket_obj_indexes): ', np.array(bucket_obj_indexes), np.array(bucket_obj_indexes).shape)\n",
    "        #print('ann_relative: ', ann_relative, ann_relative.shape)\n",
    "        pad_needed = (k - np.array(bucket_obj_indexes).shape[0]) // 2 + 1\n",
    "        #print('pad_needed: ', pad_needed)\n",
    "        #print('np.array(bucket_obj_indexes) padded: ', np.pad(np.array(bucket_obj_indexes), pad_needed, 'edge')[:k], np.pad(np.array(bucket_obj_indexes), pad_needed,'edge').shape)\n",
    "        if bucket_obj_indexes.shape[0] < k:\n",
    "            #print('here')\n",
    "            pad_needed = (k - bucket_obj_indexes.shape[0]) // 2 + 1\n",
    "            bucket_obj_indexes = np.pad(np.array(bucket_obj_indexes), pad_needed, 'edge')[:k]\n",
    "            ann_relative = np.pad(ann_relative[0], pad_needed, 'edge')[:k].reshape(1, -1)\n",
    "            seq_search_dists = np.pad(seq_search_dists[0], pad_needed, 'edge')[:k].reshape(1, -1)\n",
    "            #print('seq_search_dists: ', seq_search_dists)\n",
    "            u, i = np.unique(seq_search_dists, return_index=True)\n",
    "            duplicates_i = np.setdiff1d(np.arange(k), i)\n",
    "            # assign a large number such that the duplicated value gets replaced\n",
    "            seq_search_dists[0][duplicates_i] = 10_000\n",
    "            #print('seq_search_dists: ', seq_search_dists)\n",
    "            #print('bucket_obj_indexes: ', bucket_obj_indexes.shape)\n",
    "            #print('ann_relative: ', ann_relative, ann_relative.shape)\n",
    "            #print('seq_search_dists ', seq_search_dists, seq_search_dists.shape)\n",
    "\n",
    "        nns[cat_idxs] = np.array(bucket_obj_indexes)[ann_relative]\n",
    "        #print('nns[cat_idxs]: ', nns[cat_idxs].shape)\n",
    "        dists[cat_idxs] = np.take_along_axis(seq_search_dists, ann_relative, axis=1)"
   ]
  },
  {
   "cell_type": "code",
   "execution_count": 34,
   "id": "9b17c9bd-6aea-444d-8026-1381d9b222f0",
   "metadata": {},
   "outputs": [
    {
     "data": {
      "text/plain": [
       "(0,)"
      ]
     },
     "execution_count": 34,
     "metadata": {},
     "output_type": "execute_result"
    }
   ],
   "source": [
    "cat_idxs.shape"
   ]
  },
  {
   "cell_type": "code",
   "execution_count": 38,
   "id": "af36ed73-a9e3-49cb-a24e-a1420645bf4b",
   "metadata": {},
   "outputs": [
    {
     "name": "stderr",
     "output_type": "stream",
     "text": [
      "  0%|          | 0/97 [00:00<?, ?it/s]"
     ]
    },
    {
     "name": "stdout",
     "output_type": "stream",
     "text": [
      "37 (3095, 33)\n",
      "(176, 768)\n"
     ]
    },
    {
     "name": "stderr",
     "output_type": "stream",
     "text": [
      "\n"
     ]
    }
   ],
   "source": [
    "from sklearn.metrics.pairwise import cosine_similarity\n",
    "for cat, g in tqdm(data.groupby('category')):\n",
    "    bucket = 1\n",
    "    print(cat, g.shape)\n",
    "    cat_idxs = np.where(pred_proba_categories[:, bucket] == cat)[0]\n",
    "    bucket_obj_indexes = g.index\n",
    "    print(queries_search[cat_idxs].shape)\n",
    "    x = queries_search[cat_idxs]\n",
    "    y = data_search.loc[bucket_obj_indexes]\n",
    "    pure_arr = 1-cosine_similarity(x, y)\n",
    "    break"
   ]
  },
  {
   "cell_type": "markdown",
   "id": "ff3c88c2-6016-4f49-864f-9eabcf75704f",
   "metadata": {},
   "source": [
    "##### Objective: beat the time of:"
   ]
  },
  {
   "cell_type": "code",
   "execution_count": 74,
   "id": "a87e7d33-6286-4de0-a8bb-c04f9a6eccd7",
   "metadata": {},
   "outputs": [
    {
     "name": "stdout",
     "output_type": "stream",
     "text": [
      "CPU times: user 38 ms, sys: 76 µs, total: 38.1 ms\n",
      "Wall time: 38.1 ms\n"
     ]
    }
   ],
   "source": [
    "%%time\n",
    "ann_relative = pure_arr.argsort(kind='quicksort')[\n",
    "    :, :10\n",
    "]"
   ]
  },
  {
   "cell_type": "code",
   "execution_count": 187,
   "id": "30fd4e2e-f5af-4e90-b6e2-7a509e5bddb7",
   "metadata": {},
   "outputs": [
    {
     "name": "stdout",
     "output_type": "stream",
     "text": [
      "CPU times: user 751 µs, sys: 0 ns, total: 751 µs\n",
      "Wall time: 765 µs\n"
     ]
    }
   ],
   "source": [
    "%%time\n",
    "max_dists = dists.max(axis=1)[cat_idxs]"
   ]
  },
  {
   "cell_type": "code",
   "execution_count": 188,
   "id": "fa31a7b0-560c-4ede-a3ff-85142dc491cd",
   "metadata": {},
   "outputs": [
    {
     "name": "stdout",
     "output_type": "stream",
     "text": [
      "CPU times: user 2.61 ms, sys: 0 ns, total: 2.61 ms\n",
      "Wall time: 2.61 ms\n"
     ]
    }
   ],
   "source": [
    "%time res = np.repeat(dists.max(axis=1)[cat_idxs, np.newaxis], 3095, 1)"
   ]
  },
  {
   "cell_type": "code",
   "execution_count": 196,
   "id": "b835eab2-aad0-49be-b6b2-9fc2378f9ceb",
   "metadata": {},
   "outputs": [
    {
     "name": "stdout",
     "output_type": "stream",
     "text": [
      "CPU times: user 2.35 ms, sys: 0 ns, total: 2.35 ms\n",
      "Wall time: 2.36 ms\n"
     ]
    }
   ],
   "source": [
    "%%time\n",
    "target_dists = np.where(pure_arr < res)"
   ]
  },
  {
   "cell_type": "code",
   "execution_count": 197,
   "id": "b560ad47-e292-49ed-9624-5ca49588ceb7",
   "metadata": {},
   "outputs": [
    {
     "name": "stdout",
     "output_type": "stream",
     "text": [
      "CPU times: user 436 µs, sys: 30 µs, total: 466 µs\n",
      "Wall time: 473 µs\n"
     ]
    },
    {
     "data": {
      "text/plain": [
       "214"
      ]
     },
     "execution_count": 197,
     "metadata": {},
     "output_type": "execute_result"
    }
   ],
   "source": [
    "%%time\n",
    "max_idx = np.unique(target_dists[0], return_counts=True)[1].max()\n",
    "max_idx"
   ]
  },
  {
   "cell_type": "code",
   "execution_count": 198,
   "id": "9db0db98-2dae-4092-81bf-994143112d25",
   "metadata": {},
   "outputs": [
    {
     "data": {
      "text/plain": [
       "(array([  2,   2,   2, ..., 174, 174, 175]),\n",
       " array([ 190,  755, 1872, ..., 2538, 2995, 2569]))"
      ]
     },
     "execution_count": 198,
     "metadata": {},
     "output_type": "execute_result"
    }
   ],
   "source": [
    "target_dists"
   ]
  },
  {
   "cell_type": "code",
   "execution_count": 200,
   "id": "fa82bef8-8baa-4f51-a0a1-65b1afb85d92",
   "metadata": {},
   "outputs": [
    {
     "name": "stdout",
     "output_type": "stream",
     "text": [
      "CPU times: user 156 µs, sys: 11 µs, total: 167 µs\n",
      "Wall time: 175 µs\n"
     ]
    }
   ],
   "source": [
    "%time sample_arr = np.full(shape=(pure_arr.shape[0], max_idx), fill_value=10_000, dtype=np.float)"
   ]
  },
  {
   "cell_type": "code",
   "execution_count": 201,
   "id": "cdc8c358-82f3-4ec4-b1bb-8c761413d9c0",
   "metadata": {},
   "outputs": [
    {
     "data": {
      "text/plain": [
       "(176, 214)"
      ]
     },
     "execution_count": 201,
     "metadata": {},
     "output_type": "execute_result"
    }
   ],
   "source": [
    "sample_arr.shape"
   ]
  },
  {
   "cell_type": "code",
   "execution_count": 233,
   "id": "ddf9cfab-9862-443f-bbe8-745e48be01b0",
   "metadata": {},
   "outputs": [
    {
     "name": "stdout",
     "output_type": "stream",
     "text": [
      "CPU times: user 164 µs, sys: 12 µs, total: 176 µs\n",
      "Wall time: 180 µs\n"
     ]
    }
   ],
   "source": [
    "%time to_be_added = pure_arr[target_dists[0], target_dists[1]]"
   ]
  },
  {
   "cell_type": "code",
   "execution_count": 217,
   "id": "ef610a27-300e-4fe4-8744-10cf2a6b3812",
   "metadata": {},
   "outputs": [
    {
     "name": "stdout",
     "output_type": "stream",
     "text": [
      "CPU times: user 178 µs, sys: 13 µs, total: 191 µs\n",
      "Wall time: 197 µs\n"
     ]
    }
   ],
   "source": [
    "%time index_df = pd.DataFrame(target_dists[0])"
   ]
  },
  {
   "cell_type": "code",
   "execution_count": 218,
   "id": "4043500d-6919-4fd8-9cc0-97707b1890a2",
   "metadata": {},
   "outputs": [
    {
     "name": "stdout",
     "output_type": "stream",
     "text": [
      "CPU times: user 2.59 ms, sys: 187 µs, total: 2.78 ms\n",
      "Wall time: 2.9 ms\n"
     ]
    }
   ],
   "source": [
    "%time index_df['new_arr_idx'] = index_df.groupby(0).cumcount()"
   ]
  },
  {
   "cell_type": "code",
   "execution_count": 234,
   "id": "9ddf1776-6a59-47ae-9788-bd82300b8483",
   "metadata": {},
   "outputs": [
    {
     "name": "stdout",
     "output_type": "stream",
     "text": [
      "CPU times: user 179 µs, sys: 14 µs, total: 193 µs\n",
      "Wall time: 197 µs\n"
     ]
    }
   ],
   "source": [
    "%time sample_arr[index_df.values[:, 0], index_df.values[:, 1]] = to_be_added"
   ]
  },
  {
   "cell_type": "code",
   "execution_count": 236,
   "id": "0a4800bc-cf91-477e-9cae-bf2a5a6c474c",
   "metadata": {},
   "outputs": [
    {
     "data": {
      "text/plain": [
       "(176, 214)"
      ]
     },
     "execution_count": 236,
     "metadata": {},
     "output_type": "execute_result"
    }
   ],
   "source": [
    "sample_arr.shape"
   ]
  },
  {
   "cell_type": "code",
   "execution_count": 237,
   "id": "9b3bedb1-74a8-43e0-a66e-69eea27c3457",
   "metadata": {},
   "outputs": [
    {
     "name": "stdout",
     "output_type": "stream",
     "text": [
      "CPU times: user 923 µs, sys: 0 ns, total: 923 µs\n",
      "Wall time: 930 µs\n"
     ]
    }
   ],
   "source": [
    "%%time\n",
    "ann_relative_2 = sample_arr.argsort(kind='quicksort')[\n",
    "    :, :10\n",
    "]"
   ]
  },
  {
   "cell_type": "code",
   "execution_count": 238,
   "id": "a5b64e93-2982-4440-9216-a49f1a70f6bd",
   "metadata": {},
   "outputs": [
    {
     "data": {
      "text/plain": [
       "array([[  0, 136, 137, ..., 142, 143, 144],\n",
       "       [  0, 136, 137, ..., 142, 143, 144],\n",
       "       [  1,   0,   2, ..., 140, 141, 142],\n",
       "       ...,\n",
       "       [  0, 136, 137, ..., 142, 143, 144],\n",
       "       [ 15,   3,   1, ...,  14,   7,   4],\n",
       "       [  0, 136, 137, ..., 142, 143, 144]])"
      ]
     },
     "execution_count": 238,
     "metadata": {},
     "output_type": "execute_result"
    }
   ],
   "source": [
    "ann_relative_2"
   ]
  },
  {
   "cell_type": "code",
   "execution_count": 242,
   "id": "11627662-eca5-4344-9a8c-fb7c14560fb8",
   "metadata": {},
   "outputs": [],
   "source": [
    "dists_res = np.take_along_axis(sample_arr, ann_relative_2, axis=1)"
   ]
  },
  {
   "cell_type": "code",
   "execution_count": 243,
   "id": "e2dd8579-16c1-4466-a3f7-399993941f0b",
   "metadata": {},
   "outputs": [
    {
     "data": {
      "text/plain": [
       "array([[1.00000000e+04, 1.00000000e+04, 1.00000000e+04, ...,\n",
       "        1.00000000e+04, 1.00000000e+04, 1.00000000e+04],\n",
       "       [1.00000000e+04, 1.00000000e+04, 1.00000000e+04, ...,\n",
       "        1.00000000e+04, 1.00000000e+04, 1.00000000e+04],\n",
       "       [4.91069871e-01, 4.99491491e-01, 5.04809216e-01, ...,\n",
       "        1.00000000e+04, 1.00000000e+04, 1.00000000e+04],\n",
       "       ...,\n",
       "       [1.00000000e+04, 1.00000000e+04, 1.00000000e+04, ...,\n",
       "        1.00000000e+04, 1.00000000e+04, 1.00000000e+04],\n",
       "       [8.61833045e-02, 1.38970976e-01, 1.43215593e-01, ...,\n",
       "        2.43290125e-01, 2.47679775e-01, 2.50551390e-01],\n",
       "       [2.80074201e-01, 1.00000000e+04, 1.00000000e+04, ...,\n",
       "        1.00000000e+04, 1.00000000e+04, 1.00000000e+04]])"
      ]
     },
     "execution_count": 243,
     "metadata": {},
     "output_type": "execute_result"
    }
   ],
   "source": [
    "dists_res"
   ]
  },
  {
   "cell_type": "code",
   "execution_count": 241,
   "id": "05c9947f-70b1-4862-8327-49b4c1b087ff",
   "metadata": {},
   "outputs": [
    {
     "data": {
      "text/plain": [
       "array([[0.16662204, 0.26132104, 0.28283674, ..., 0.3248234 , 0.32667616,\n",
       "        0.3311572 ],\n",
       "       [0.4429067 , 0.4474052 , 0.45352405, ..., 0.4677359 , 0.46902606,\n",
       "        0.46920323],\n",
       "       [0.48189315, 0.4886164 , 0.48993993, ..., 0.5114319 , 0.51531136,\n",
       "        0.5171687 ],\n",
       "       ...,\n",
       "       [0.30622727, 0.33433402, 0.33730066, ..., 0.361187  , 0.36834347,\n",
       "        0.3712152 ],\n",
       "       [0.08808586, 0.20122772, 0.21688594, ..., 0.2642632 , 0.2695809 ,\n",
       "        0.3098314 ],\n",
       "       [0.2283353 , 0.25617176, 0.27532452, ..., 0.29867372, 0.30868042,\n",
       "        0.3158128 ]], dtype=float32)"
      ]
     },
     "execution_count": 241,
     "metadata": {},
     "output_type": "execute_result"
    }
   ],
   "source": [
    "dists[cat_idxs]"
   ]
  },
  {
   "cell_type": "code",
   "execution_count": 244,
   "id": "6d45b33d-bc6c-42d3-9847-23110536f918",
   "metadata": {},
   "outputs": [
    {
     "data": {
      "text/plain": [
       "array([[0.16662204, 0.26132104, 0.28283674, ..., 0.3248234 , 0.32667616,\n",
       "        0.3311572 ],\n",
       "       [0.4429067 , 0.4474052 , 0.45352405, ..., 0.4677359 , 0.46902606,\n",
       "        0.46920323],\n",
       "       [0.48189315, 0.4886164 , 0.48993993, ..., 0.5114319 , 0.51531136,\n",
       "        0.5171687 ],\n",
       "       ...,\n",
       "       [0.30622727, 0.33433402, 0.33730066, ..., 0.361187  , 0.36834347,\n",
       "        0.3712152 ],\n",
       "       [0.08808586, 0.20122772, 0.21688594, ..., 0.2642632 , 0.2695809 ,\n",
       "        0.3098314 ],\n",
       "       [0.2283353 , 0.25617176, 0.27532452, ..., 0.29867372, 0.30868042,\n",
       "        0.3158128 ]], dtype=float32)"
      ]
     },
     "execution_count": 244,
     "metadata": {},
     "output_type": "execute_result"
    }
   ],
   "source": [
    "dists[cat_idxs]"
   ]
  },
  {
   "cell_type": "code",
   "execution_count": 246,
   "id": "35ef57e7-e0c7-44c1-85ae-c2fbff65448b",
   "metadata": {},
   "outputs": [
    {
     "data": {
      "text/plain": [
       "array([[1.00000000e+04, 1.00000000e+04, 1.00000000e+04, ...,\n",
       "        1.00000000e+04, 1.00000000e+04, 1.00000000e+04],\n",
       "       [1.00000000e+04, 1.00000000e+04, 1.00000000e+04, ...,\n",
       "        1.00000000e+04, 1.00000000e+04, 1.00000000e+04],\n",
       "       [4.91069871e-01, 4.99491491e-01, 5.04809216e-01, ...,\n",
       "        1.00000000e+04, 1.00000000e+04, 1.00000000e+04],\n",
       "       ...,\n",
       "       [1.00000000e+04, 1.00000000e+04, 1.00000000e+04, ...,\n",
       "        1.00000000e+04, 1.00000000e+04, 1.00000000e+04],\n",
       "       [8.61833045e-02, 1.38970976e-01, 1.43215593e-01, ...,\n",
       "        2.43290125e-01, 2.47679775e-01, 2.50551390e-01],\n",
       "       [2.80074201e-01, 1.00000000e+04, 1.00000000e+04, ...,\n",
       "        1.00000000e+04, 1.00000000e+04, 1.00000000e+04]])"
      ]
     },
     "execution_count": 246,
     "metadata": {},
     "output_type": "execute_result"
    }
   ],
   "source": [
    "dists_res"
   ]
  },
  {
   "cell_type": "code",
   "execution_count": 235,
   "id": "11a2197b-ce85-4141-b083-49c595e1d25a",
   "metadata": {},
   "outputs": [
    {
     "data": {
      "text/plain": [
       "array([[1.00000000e+04, 1.00000000e+04, 1.00000000e+04, ...,\n",
       "        1.00000000e+04, 1.00000000e+04, 1.00000000e+04],\n",
       "       [1.00000000e+04, 1.00000000e+04, 1.00000000e+04, ...,\n",
       "        1.00000000e+04, 1.00000000e+04, 1.00000000e+04],\n",
       "       [4.99491491e-01, 4.91069871e-01, 5.04809216e-01, ...,\n",
       "        1.00000000e+04, 1.00000000e+04, 1.00000000e+04],\n",
       "       ...,\n",
       "       [1.00000000e+04, 1.00000000e+04, 1.00000000e+04, ...,\n",
       "        1.00000000e+04, 1.00000000e+04, 1.00000000e+04],\n",
       "       [3.05168964e-01, 1.43215593e-01, 2.17929883e-01, ...,\n",
       "        1.00000000e+04, 1.00000000e+04, 1.00000000e+04],\n",
       "       [2.80074201e-01, 1.00000000e+04, 1.00000000e+04, ...,\n",
       "        1.00000000e+04, 1.00000000e+04, 1.00000000e+04]])"
      ]
     },
     "execution_count": 235,
     "metadata": {},
     "output_type": "execute_result"
    }
   ],
   "source": [
    "sample_arr"
   ]
  },
  {
   "cell_type": "code",
   "execution_count": 253,
   "id": "84e8fb70-8069-44f5-bf00-42f4cb48cc57",
   "metadata": {},
   "outputs": [
    {
     "data": {
      "text/plain": [
       "(176, 20)"
      ]
     },
     "execution_count": 253,
     "metadata": {},
     "output_type": "execute_result"
    }
   ],
   "source": [
    "dists_final = np.hstack((dists[cat_idxs], dists_res))\n",
    "dists_final.shape"
   ]
  },
  {
   "cell_type": "code",
   "execution_count": 254,
   "id": "ece002bc-0cee-4ab1-bc66-b8f7cc598b7a",
   "metadata": {},
   "outputs": [
    {
     "data": {
      "text/plain": [
       "array([[1.66622043e-01, 2.61321038e-01, 2.82836735e-01, ...,\n",
       "        1.00000000e+04, 1.00000000e+04, 1.00000000e+04],\n",
       "       [4.42906708e-01, 4.47405189e-01, 4.53524053e-01, ...,\n",
       "        1.00000000e+04, 1.00000000e+04, 1.00000000e+04],\n",
       "       [4.81893152e-01, 4.88616407e-01, 4.89939928e-01, ...,\n",
       "        1.00000000e+04, 1.00000000e+04, 1.00000000e+04],\n",
       "       ...,\n",
       "       [3.06227267e-01, 3.34334016e-01, 3.37300658e-01, ...,\n",
       "        1.00000000e+04, 1.00000000e+04, 1.00000000e+04],\n",
       "       [8.80858600e-02, 2.01227725e-01, 2.16885939e-01, ...,\n",
       "        2.43290125e-01, 2.47679775e-01, 2.50551390e-01],\n",
       "       [2.28335306e-01, 2.56171763e-01, 2.75324523e-01, ...,\n",
       "        1.00000000e+04, 1.00000000e+04, 1.00000000e+04]])"
      ]
     },
     "execution_count": 254,
     "metadata": {},
     "output_type": "execute_result"
    }
   ],
   "source": [
    "dists_final"
   ]
  },
  {
   "cell_type": "code",
   "execution_count": 255,
   "id": "a5593ee5-39e9-4127-8811-33674a9627f8",
   "metadata": {},
   "outputs": [
    {
     "data": {
      "text/plain": [
       "array([[ 0,  1,  2, ...,  7,  8,  9],\n",
       "       [ 0,  1,  2, ...,  7,  8,  9],\n",
       "       [ 0,  1,  2, ...,  5, 12, 13],\n",
       "       ...,\n",
       "       [ 0,  1,  2, ...,  7,  8,  9],\n",
       "       [10,  0, 11, ..., 15,  2, 16],\n",
       "       [ 0,  1,  2, ...,  6,  7,  8]])"
      ]
     },
     "execution_count": 255,
     "metadata": {},
     "output_type": "execute_result"
    }
   ],
   "source": [
    "dists_final.argsort(kind='stable', axis=1)[:, :k]"
   ]
  },
  {
   "cell_type": "code",
   "execution_count": null,
   "id": "96710102-bfb6-4922-b096-4c4042f077ce",
   "metadata": {},
   "outputs": [],
   "source": []
  },
  {
   "cell_type": "code",
   "execution_count": null,
   "id": "4b70b5a8-7387-406a-81db-fe9e9833843c",
   "metadata": {},
   "outputs": [],
   "source": [
    "    anns_final = np.hstack((anns_final, anns))\n",
    "    dists_final = np.hstack((dists_final, dists))\n",
    "    # gets the sorted indices of the stacked dists\n",
    "    idx_sorted = dists_final.argsort(kind='stable', axis=1)[:, :k]"
   ]
  },
  {
   "cell_type": "code",
   "execution_count": null,
   "id": "4dca6553-fe6a-47e3-97db-5dff789e837e",
   "metadata": {},
   "outputs": [],
   "source": []
  },
  {
   "cell_type": "code",
   "execution_count": 222,
   "id": "2810abfd-4e57-4f06-bce2-a1014a81d4d4",
   "metadata": {},
   "outputs": [
    {
     "data": {
      "text/plain": [
       "213"
      ]
     },
     "execution_count": 222,
     "metadata": {},
     "output_type": "execute_result"
    }
   ],
   "source": [
    "index_df.values.max()"
   ]
  },
  {
   "cell_type": "code",
   "execution_count": 212,
   "id": "4a97e368-a2d6-4193-9d9e-23869f4e3b9b",
   "metadata": {},
   "outputs": [
    {
     "data": {
      "text/plain": [
       "array([  2,   2,   2, ..., 174, 174, 175])"
      ]
     },
     "execution_count": 212,
     "metadata": {},
     "output_type": "execute_result"
    }
   ],
   "source": [
    "target_dists[0]"
   ]
  },
  {
   "cell_type": "code",
   "execution_count": 226,
   "id": "39b6a05a-1ce1-48b7-851b-40b67c0c2a04",
   "metadata": {},
   "outputs": [
    {
     "data": {
      "text/plain": [
       "(175, 213)"
      ]
     },
     "execution_count": 226,
     "metadata": {},
     "output_type": "execute_result"
    }
   ],
   "source": [
    "index_df.values[:, 0].max(), index_df.values[:, 1].max()"
   ]
  },
  {
   "cell_type": "code",
   "execution_count": 228,
   "id": "d506aee5-fb5e-4a08-827c-1e9343ac0513",
   "metadata": {},
   "outputs": [
    {
     "data": {
      "text/plain": [
       "(176, 214)"
      ]
     },
     "execution_count": 228,
     "metadata": {},
     "output_type": "execute_result"
    }
   ],
   "source": [
    "sample_arr.shape"
   ]
  },
  {
   "cell_type": "code",
   "execution_count": 203,
   "id": "c91a458c-3987-49ab-88dc-3d10a456452a",
   "metadata": {},
   "outputs": [
    {
     "name": "stdout",
     "output_type": "stream",
     "text": [
      "CPU times: user 133 µs, sys: 9 µs, total: 142 µs\n",
      "Wall time: 146 µs\n"
     ]
    },
    {
     "data": {
      "text/plain": [
       "array([ 190,  755, 1872, 2899])"
      ]
     },
     "execution_count": 203,
     "metadata": {},
     "output_type": "execute_result"
    }
   ],
   "source": [
    "%time target_dists[1][target_dists[0] == 2]"
   ]
  },
  {
   "cell_type": "code",
   "execution_count": 186,
   "id": "d3ce8ea7-2f18-4d4b-b63c-6bdc333501cb",
   "metadata": {},
   "outputs": [
    {
     "data": {
      "text/plain": [
       "(array([  2,   3,   4,   7,   8,   9,  10,  11,  13,  14,  16,  18,  19,\n",
       "         20,  21,  23,  24,  25,  26,  27,  28,  29,  31,  32,  33,  35,\n",
       "         37,  38,  40,  41,  43,  45,  46,  47,  48,  49,  50,  51,  52,\n",
       "         53,  55,  56,  57,  58,  59,  60,  61,  63,  64,  65,  66,  67,\n",
       "         68,  69,  70,  71,  72,  74,  75,  77,  78,  80,  81,  83,  84,\n",
       "         85,  86,  88,  89,  91,  92,  93,  94,  95,  97,  98,  99, 100,\n",
       "        101, 102, 103, 104, 105, 106, 109, 110, 114, 115, 117, 118, 119,\n",
       "        120, 121, 122, 123, 124, 125, 127, 128, 130, 131, 132, 133, 135,\n",
       "        136, 137, 138, 139, 140, 141, 142, 145, 147, 148, 149, 151, 153,\n",
       "        154, 155, 156, 159, 160, 161, 162, 163, 165, 168, 169, 172, 174,\n",
       "        175]),\n",
       " array([  0,   0,   0, ..., 129, 129, 130]))"
      ]
     },
     "execution_count": 186,
     "metadata": {},
     "output_type": "execute_result"
    }
   ],
   "source": [
    "# return_index=True, return_inverse=True\n",
    "np.unique(np.argwhere(pure_arr < res)[:, 0], return_inverse=True)"
   ]
  },
  {
   "cell_type": "code",
   "execution_count": 183,
   "id": "ef59c160-cce4-4843-8248-9af15088cc5c",
   "metadata": {},
   "outputs": [
    {
     "name": "stdout",
     "output_type": "stream",
     "text": [
      "CPU times: user 2.43 ms, sys: 0 ns, total: 2.43 ms\n",
      "Wall time: 2.44 ms\n"
     ]
    }
   ],
   "source": [
    "%time max_arr = np.unique(np.argwhere(pure_arr < res)[:, 0], return_counts=True)[1].max()"
   ]
  },
  {
   "cell_type": "code",
   "execution_count": null,
   "id": "6bcd4292-08a6-4dc1-8ed4-d8be26a262bb",
   "metadata": {},
   "outputs": [],
   "source": [
    "sample_arr"
   ]
  },
  {
   "cell_type": "code",
   "execution_count": 181,
   "id": "2f4180df-568d-47a9-95e0-9149d86dc47f",
   "metadata": {},
   "outputs": [
    {
     "name": "stdout",
     "output_type": "stream",
     "text": [
      "CPU times: user 2.32 ms, sys: 0 ns, total: 2.32 ms\n",
      "Wall time: 6.9 ms\n"
     ]
    }
   ],
   "source": [
    "%time res2_w = np.where(pure_arr < res)"
   ]
  },
  {
   "cell_type": "code",
   "execution_count": 180,
   "id": "160956ae-182a-448e-92be-1a5fb4ac6d12",
   "metadata": {},
   "outputs": [
    {
     "name": "stdout",
     "output_type": "stream",
     "text": [
      "CPU times: user 3.99 ms, sys: 0 ns, total: 3.99 ms\n",
      "Wall time: 4 ms\n"
     ]
    }
   ],
   "source": [
    "%time res2 = np.argwhere(pure_arr < res)"
   ]
  },
  {
   "cell_type": "code",
   "execution_count": 182,
   "id": "e22af10e-44cd-4522-acbc-02f5193617e4",
   "metadata": {},
   "outputs": [
    {
     "data": {
      "text/plain": [
       "(array([  2,   2,   2, ..., 174, 174, 175]),\n",
       " array([ 190,  755, 1872, ..., 2538, 2995, 2569]))"
      ]
     },
     "execution_count": 182,
     "metadata": {},
     "output_type": "execute_result"
    }
   ],
   "source": [
    "res2_w"
   ]
  },
  {
   "cell_type": "code",
   "execution_count": 145,
   "id": "f9ef49ef-973d-4ceb-b681-dfc9d72efc5d",
   "metadata": {},
   "outputs": [
    {
     "data": {
      "text/plain": [
       "array([[   2,  190],\n",
       "       [   2,  755],\n",
       "       [   2, 1872],\n",
       "       ...,\n",
       "       [ 174, 2538],\n",
       "       [ 174, 2995],\n",
       "       [ 175, 2569]])"
      ]
     },
     "execution_count": 145,
     "metadata": {},
     "output_type": "execute_result"
    }
   ],
   "source": [
    "res2"
   ]
  },
  {
   "cell_type": "code",
   "execution_count": null,
   "id": "6689c2fe-548f-4024-8629-542e125cd871",
   "metadata": {},
   "outputs": [],
   "source": [
    "res2"
   ]
  },
  {
   "cell_type": "code",
   "execution_count": 179,
   "id": "efa7fd1c-84cb-45f4-b064-49f1cfc5a187",
   "metadata": {},
   "outputs": [
    {
     "data": {
      "text/plain": [
       "array([ 190,  755, 1872, ..., 2538, 2995, 2569])"
      ]
     },
     "execution_count": 179,
     "metadata": {},
     "output_type": "execute_result"
    }
   ],
   "source": [
    "res2[:, 1]"
   ]
  },
  {
   "cell_type": "code",
   "execution_count": 147,
   "id": "48032a74-e427-4a02-9cc8-9c9b333d4d12",
   "metadata": {},
   "outputs": [],
   "source": [
    "sample_arr[2, 0] = pure_arr[res2]"
   ]
  },
  {
   "cell_type": "code",
   "execution_count": 146,
   "id": "733f0785-1523-413b-a601-26b44d340fd3",
   "metadata": {},
   "outputs": [
    {
     "data": {
      "text/plain": [
       "0.4994914911364663"
      ]
     },
     "execution_count": 146,
     "metadata": {},
     "output_type": "execute_result"
    }
   ],
   "source": [
    "pure_arr[2, 190]"
   ]
  },
  {
   "cell_type": "code",
   "execution_count": 149,
   "id": "320f64d7-34f8-4d4b-8b52-55cee7ab0b39",
   "metadata": {},
   "outputs": [
    {
     "ename": "IndexError",
     "evalue": "index 190 is out of bounds for axis 0 with size 176",
     "output_type": "error",
     "traceback": [
      "\u001b[0;31m---------------------------------------------------------------------------\u001b[0m",
      "\u001b[0;31mIndexError\u001b[0m                                Traceback (most recent call last)",
      "\u001b[0;32m<ipython-input-149-478ef83e11b3>\u001b[0m in \u001b[0;36m<module>\u001b[0;34m\u001b[0m\n\u001b[0;32m----> 1\u001b[0;31m \u001b[0mpure_arr\u001b[0m\u001b[0;34m[\u001b[0m\u001b[0mres2\u001b[0m\u001b[0;34m]\u001b[0m\u001b[0;34m.\u001b[0m\u001b[0mshape\u001b[0m\u001b[0;34m\u001b[0m\u001b[0m\n\u001b[0m",
      "\u001b[0;31mIndexError\u001b[0m: index 190 is out of bounds for axis 0 with size 176"
     ]
    }
   ],
   "source": [
    "pure_arr[res2].shape"
   ]
  },
  {
   "cell_type": "code",
   "execution_count": 148,
   "id": "c0d6d2ef-32a8-45c7-b17b-a2e49dd1cd1e",
   "metadata": {},
   "outputs": [
    {
     "data": {
      "text/plain": [
       "array([[1.00000000e+04, 1.00000000e+04, 1.00000000e+04, ...,\n",
       "        1.00000000e+04, 1.00000000e+04, 1.00000000e+04],\n",
       "       [1.00000000e+04, 1.00000000e+04, 1.00000000e+04, ...,\n",
       "        1.00000000e+04, 1.00000000e+04, 1.00000000e+04],\n",
       "       [4.99491491e-01, 1.00000000e+04, 1.00000000e+04, ...,\n",
       "        1.00000000e+04, 1.00000000e+04, 1.00000000e+04],\n",
       "       ...,\n",
       "       [1.00000000e+04, 1.00000000e+04, 1.00000000e+04, ...,\n",
       "        1.00000000e+04, 1.00000000e+04, 1.00000000e+04],\n",
       "       [1.00000000e+04, 1.00000000e+04, 1.00000000e+04, ...,\n",
       "        1.00000000e+04, 1.00000000e+04, 1.00000000e+04],\n",
       "       [1.00000000e+04, 1.00000000e+04, 1.00000000e+04, ...,\n",
       "        1.00000000e+04, 1.00000000e+04, 1.00000000e+04]])"
      ]
     },
     "execution_count": 148,
     "metadata": {},
     "output_type": "execute_result"
    }
   ],
   "source": [
    "sample_arr"
   ]
  },
  {
   "cell_type": "code",
   "execution_count": 137,
   "id": "11ae96bc-9a6f-4146-b11d-df8d32c9c2df",
   "metadata": {},
   "outputs": [
    {
     "data": {
      "text/plain": [
       "array([2, 2, 2, 2, 2, 2])"
      ]
     },
     "execution_count": 137,
     "metadata": {},
     "output_type": "execute_result"
    }
   ],
   "source": [
    "res2[res2 == 2]"
   ]
  },
  {
   "cell_type": "code",
   "execution_count": 138,
   "id": "98f959c2-016e-48df-9b1a-dad1e6fb220d",
   "metadata": {},
   "outputs": [
    {
     "ename": "ValueError",
     "evalue": "shape mismatch: value array of shape (2379,) could not be broadcast to indexing result of shape (2379,214)",
     "output_type": "error",
     "traceback": [
      "\u001b[0;31m---------------------------------------------------------------------------\u001b[0m",
      "\u001b[0;31mValueError\u001b[0m                                Traceback (most recent call last)",
      "\u001b[0;32m<ipython-input-138-5ffaab81bfa8>\u001b[0m in \u001b[0;36m<module>\u001b[0;34m\u001b[0m\n\u001b[0;32m----> 1\u001b[0;31m \u001b[0msample_arr\u001b[0m\u001b[0;34m[\u001b[0m\u001b[0mres2\u001b[0m\u001b[0;34m[\u001b[0m\u001b[0;34m:\u001b[0m\u001b[0;34m,\u001b[0m \u001b[0;36m0\u001b[0m\u001b[0;34m]\u001b[0m\u001b[0;34m]\u001b[0m \u001b[0;34m=\u001b[0m \u001b[0mres2\u001b[0m\u001b[0;34m[\u001b[0m\u001b[0;34m:\u001b[0m\u001b[0;34m,\u001b[0m \u001b[0;36m1\u001b[0m\u001b[0;34m]\u001b[0m\u001b[0;34m\u001b[0m\u001b[0m\n\u001b[0m",
      "\u001b[0;31mValueError\u001b[0m: shape mismatch: value array of shape (2379,) could not be broadcast to indexing result of shape (2379,214)"
     ]
    }
   ],
   "source": [
    "sample_arr[res2[:, 0]] = res2[:, 1]"
   ]
  },
  {
   "cell_type": "code",
   "execution_count": null,
   "id": "9ce718b5-87fb-4ee4-8e51-b93c96023874",
   "metadata": {},
   "outputs": [],
   "source": [
    "sample_arr"
   ]
  },
  {
   "cell_type": "code",
   "execution_count": null,
   "id": "f6640e68-4ad6-4fb7-9c07-6c7dd063f9e5",
   "metadata": {},
   "outputs": [],
   "source": [
    "dists = np.zeros((queries_search.shape[0], k), dtype=np.float32)"
   ]
  },
  {
   "cell_type": "code",
   "execution_count": 126,
   "id": "d97c0ed0-5cb9-47db-8845-5de2c065caea",
   "metadata": {},
   "outputs": [
    {
     "data": {
      "text/plain": [
       "array([[   2,  190],\n",
       "       [   2,  755],\n",
       "       [   2, 1872],\n",
       "       ...,\n",
       "       [ 174, 2538],\n",
       "       [ 174, 2995],\n",
       "       [ 175, 2569]])"
      ]
     },
     "execution_count": 126,
     "metadata": {},
     "output_type": "execute_result"
    }
   ],
   "source": [
    "np.argwhere(pure_arr < res)"
   ]
  },
  {
   "cell_type": "code",
   "execution_count": 128,
   "id": "bf872ca8-e17f-4885-9f59-a153909116a9",
   "metadata": {},
   "outputs": [
    {
     "data": {
      "text/plain": [
       "0.4994914911364663"
      ]
     },
     "execution_count": 128,
     "metadata": {},
     "output_type": "execute_result"
    }
   ],
   "source": [
    "pure_arr[2, 190]"
   ]
  },
  {
   "cell_type": "code",
   "execution_count": 123,
   "id": "32c78b40-1977-4c12-af14-4d5aa4ef79a1",
   "metadata": {},
   "outputs": [
    {
     "data": {
      "text/plain": [
       "array([ 2,  2,  2,  2,  3,  3,  3,  3,  3,  3,  3,  3,  4,  4,  4,  4,  4,\n",
       "        4,  4,  4,  4,  4,  7,  7,  8,  8,  8,  9,  9,  9,  9,  9,  9, 10,\n",
       "       10, 10, 11, 11, 11, 11, 11, 13, 13, 13, 13, 13, 13, 13, 14, 14, 14,\n",
       "       14, 14, 14, 14, 14, 14, 14, 14, 14, 14, 14, 14, 14, 14, 14, 14, 14,\n",
       "       14, 14, 14, 14, 14, 14, 14, 16, 16, 16, 16, 16, 16, 16, 16, 16, 16,\n",
       "       16, 16, 16, 16, 16, 16, 16, 16, 16, 16, 16, 16, 16, 16, 16])"
      ]
     },
     "execution_count": 123,
     "metadata": {},
     "output_type": "execute_result"
    }
   ],
   "source": [
    "np.where(pure_arr < res)[0][:100]"
   ]
  },
  {
   "cell_type": "code",
   "execution_count": 124,
   "id": "4b794fb7-edfd-44a9-8331-8242702f6cea",
   "metadata": {},
   "outputs": [
    {
     "data": {
      "text/plain": [
       "array([ 190,  755, 1872, 2899,  118,  386,  659,  775, 1064, 1070, 1582,\n",
       "       2979,   36,  127,  178,  363,  502,  603,  850,  942, 1095, 2433,\n",
       "       1142, 1237,  724,  752, 2683,   71,  498, 1967, 2055, 2505, 2930,\n",
       "        276, 1820, 2939,  567,  627, 1121, 2369, 2930,  497, 1327, 1354,\n",
       "       1537, 1735, 2349, 2705,   86,  222,  258,  356,  450,  487,  511,\n",
       "        578,  667,  675,  969,  977, 1326, 1490, 1546, 1660, 2075, 2081,\n",
       "       2204, 2409, 2492, 2556, 2907, 2921, 2939, 2964, 3020,   20,   59,\n",
       "         63,   68,   99,  101,  139,  162,  209,  229,  304,  305,  320,\n",
       "        337,  341,  374,  387,  410,  452,  456,  478,  509,  520,  525,\n",
       "        536])"
      ]
     },
     "execution_count": 124,
     "metadata": {},
     "output_type": "execute_result"
    }
   ],
   "source": [
    "np.where(pure_arr < res)[1][:100]"
   ]
  },
  {
   "cell_type": "code",
   "execution_count": 125,
   "id": "ac2b8ad2-f3f2-4e90-a3ac-e4bf4a71fcc2",
   "metadata": {},
   "outputs": [
    {
     "data": {
      "text/plain": [
       "array([0.49949149, 0.49106987, 0.50480922, 0.50491835, 0.21970675,\n",
       "       0.21747319, 0.20134505, 0.18773172, 0.22785204, 0.20411416,\n",
       "       0.18883318, 0.22479822, 0.2812132 , 0.4159223 , 0.26609447,\n",
       "       0.2619391 , 0.41588517, 0.40184208, 0.39325575, 0.24603255,\n",
       "       0.35324137, 0.41466428, 0.36104663, 0.43005669, 0.33777408,\n",
       "       0.31274958, 0.32374122, 0.39482597, 0.39811506, 0.39745085,\n",
       "       0.39433688, 0.39809865, 0.38307477, 0.33959513, 0.34356986,\n",
       "       0.30563943, 0.41887541, 0.40099864, 0.42117212, 0.40196987,\n",
       "       0.40889696, 0.33866255, 0.32742303, 0.34803717, 0.31747813,\n",
       "       0.34207842, 0.34846552, 0.34598291, 0.44701626, 0.43784671,\n",
       "       0.36496563, 0.43637098, 0.48160728, 0.38970633, 0.48853607,\n",
       "       0.49631695, 0.46954897, 0.49961672, 0.39478519, 0.43095072,\n",
       "       0.5074329 , 0.35632667, 0.38003825, 0.4954067 , 0.41376934,\n",
       "       0.47545652, 0.44329446, 0.40261632, 0.46516595, 0.34723944,\n",
       "       0.44903738, 0.50536929, 0.42128971, 0.48607873, 0.47917845,\n",
       "       0.53859571, 0.52517255, 0.5192964 , 0.50424511, 0.50529943,\n",
       "       0.51527841, 0.51803985, 0.52356827, 0.53714952, 0.51429478,\n",
       "       0.53147687, 0.53053982, 0.53850341, 0.53113246, 0.53734714,\n",
       "       0.51175449, 0.52970708, 0.53606349, 0.51697097, 0.53689697,\n",
       "       0.52315568, 0.52524538, 0.51933035, 0.48979071, 0.51934955])"
      ]
     },
     "execution_count": 125,
     "metadata": {},
     "output_type": "execute_result"
    }
   ],
   "source": [
    "pure_arr[np.where(pure_arr < res)[0][:100], np.where(pure_arr < res)[1][:100]]"
   ]
  },
  {
   "cell_type": "code",
   "execution_count": 122,
   "id": "7797e80d-d70c-49a9-bbc4-1733e087a6d6",
   "metadata": {},
   "outputs": [
    {
     "data": {
      "text/plain": [
       "(2379,)"
      ]
     },
     "execution_count": 122,
     "metadata": {},
     "output_type": "execute_result"
    }
   ],
   "source": [
    "pure_arr[np.where(pure_arr < res)].shape"
   ]
  },
  {
   "cell_type": "code",
   "execution_count": 105,
   "id": "a026242a-9d25-4989-bfd8-366286a7f4cc",
   "metadata": {},
   "outputs": [
    {
     "data": {
      "text/plain": [
       "(176,)"
      ]
     },
     "execution_count": 105,
     "metadata": {},
     "output_type": "execute_result"
    }
   ],
   "source": [
    "(np.array(dists.max(axis=1)[cat_idxs],)*5).T.shape"
   ]
  },
  {
   "cell_type": "code",
   "execution_count": 99,
   "id": "6fa72026-7f11-4fb1-a1a8-5449e2d87dff",
   "metadata": {},
   "outputs": [
    {
     "data": {
      "text/plain": [
       "(176, 352)"
      ]
     },
     "execution_count": 99,
     "metadata": {},
     "output_type": "execute_result"
    }
   ],
   "source": [
    "np.tile(dists.max(axis=1)[cat_idxs], (176, 2)).shape"
   ]
  },
  {
   "cell_type": "code",
   "execution_count": 90,
   "id": "cf32ca03-0e40-4039-8b14-4b3b2c938bb4",
   "metadata": {},
   "outputs": [
    {
     "data": {
      "text/plain": [
       "array([], dtype=float64)"
      ]
     },
     "execution_count": 90,
     "metadata": {},
     "output_type": "execute_result"
    }
   ],
   "source": [
    "pure_arr[1][pure_arr[1] < np.hstack(dists.max(axis=1)[cat_idxs][1], )"
   ]
  },
  {
   "cell_type": "code",
   "execution_count": 85,
   "id": "f443def9-3a6e-478c-84ab-b2f0d9af33f0",
   "metadata": {},
   "outputs": [
    {
     "data": {
      "text/plain": [
       "(536398,)"
      ]
     },
     "execution_count": 85,
     "metadata": {},
     "output_type": "execute_result"
    }
   ],
   "source": [
    "np.where(pure_arr < 0.79674435)[0].shape"
   ]
  },
  {
   "cell_type": "code",
   "execution_count": null,
   "id": "6c96107d-7a78-42f5-a765-6597d2777455",
   "metadata": {},
   "outputs": [],
   "source": [
    "pure_arr[np.where(pure_arr < 0.79674435)]"
   ]
  },
  {
   "cell_type": "code",
   "execution_count": 83,
   "id": "6419e214-029e-41e3-a600-1fde76a09af7",
   "metadata": {},
   "outputs": [
    {
     "ename": "ValueError",
     "evalue": "cannot reshape array of size 536398 into shape (176,newaxis)",
     "output_type": "error",
     "traceback": [
      "\u001b[0;31m---------------------------------------------------------------------------\u001b[0m",
      "\u001b[0;31mValueError\u001b[0m                                Traceback (most recent call last)",
      "\u001b[0;32m<ipython-input-83-8be9941283f3>\u001b[0m in \u001b[0;36m<module>\u001b[0;34m\u001b[0m\n\u001b[0;32m----> 1\u001b[0;31m \u001b[0mpure_arr\u001b[0m\u001b[0;34m[\u001b[0m\u001b[0mnp\u001b[0m\u001b[0;34m.\u001b[0m\u001b[0mwhere\u001b[0m\u001b[0;34m(\u001b[0m\u001b[0mpure_arr\u001b[0m \u001b[0;34m<\u001b[0m \u001b[0;36m0.79674435\u001b[0m\u001b[0;34m)\u001b[0m\u001b[0;34m]\u001b[0m\u001b[0;34m.\u001b[0m\u001b[0mreshape\u001b[0m\u001b[0;34m(\u001b[0m\u001b[0mpure_arr\u001b[0m\u001b[0;34m.\u001b[0m\u001b[0mshape\u001b[0m\u001b[0;34m[\u001b[0m\u001b[0;36m0\u001b[0m\u001b[0;34m]\u001b[0m\u001b[0;34m,\u001b[0m \u001b[0;34m-\u001b[0m\u001b[0;36m1\u001b[0m\u001b[0;34m)\u001b[0m\u001b[0;34m\u001b[0m\u001b[0m\n\u001b[0m",
      "\u001b[0;31mValueError\u001b[0m: cannot reshape array of size 536398 into shape (176,newaxis)"
     ]
    }
   ],
   "source": [
    "pure_arr[np.where(pure_arr < 0.79674435)].reshape(pure_arr.shape[0], -1)"
   ]
  },
  {
   "cell_type": "code",
   "execution_count": 39,
   "id": "fad2b95e-6313-4421-86f3-0f9c588309a1",
   "metadata": {},
   "outputs": [
    {
     "data": {
      "text/plain": [
       "(176, 3095)"
      ]
     },
     "execution_count": 39,
     "metadata": {},
     "output_type": "execute_result"
    }
   ],
   "source": [
    "pure_arr.shape"
   ]
  },
  {
   "cell_type": "code",
   "execution_count": 50,
   "id": "29451026-3695-4cd4-a817-4def29c6d1b6",
   "metadata": {},
   "outputs": [
    {
     "data": {
      "text/plain": [
       "array([[0.58516339, 0.57479123, 0.59408487, ..., 0.83530635, 0.72327197,\n",
       "        0.59838322],\n",
       "       [0.72275381, 0.60222068, 0.58674307, ..., 0.77942052, 0.62807737,\n",
       "        0.57211713]])"
      ]
     },
     "execution_count": 50,
     "metadata": {},
     "output_type": "execute_result"
    }
   ],
   "source": [
    "pure_arr[:2]"
   ]
  },
  {
   "cell_type": "code",
   "execution_count": 67,
   "id": "663f7dcc-29d6-4d41-af17-0dd5a8a37461",
   "metadata": {},
   "outputs": [],
   "source": [
    "d = dists.max(axis=1)"
   ]
  },
  {
   "cell_type": "code",
   "execution_count": 68,
   "id": "c92de898-1008-49da-9c31-b9d4d76daecf",
   "metadata": {},
   "outputs": [
    {
     "data": {
      "text/plain": [
       "0.79674435"
      ]
     },
     "execution_count": 68,
     "metadata": {},
     "output_type": "execute_result"
    }
   ],
   "source": [
    "d[d < 10_000].max()"
   ]
  },
  {
   "cell_type": "code",
   "execution_count": 66,
   "id": "0da97c30-7c62-4ccb-b7e1-80faf9800ac1",
   "metadata": {},
   "outputs": [
    {
     "data": {
      "text/plain": [
       "array([-4.440892e-16, -4.440892e-16, -4.440892e-16, ...,  1.000000e+04,\n",
       "        1.000000e+04,  1.000000e+04], dtype=float32)"
      ]
     },
     "execution_count": 66,
     "metadata": {},
     "output_type": "execute_result"
    }
   ],
   "source": [
    "np.sort(dists.max(axis=1))"
   ]
  },
  {
   "cell_type": "code",
   "execution_count": 51,
   "id": "7a883b3b-116f-4109-8d76-9fcb74278efd",
   "metadata": {},
   "outputs": [
    {
     "data": {
      "text/plain": [
       "array([0.3311572 , 0.46920323], dtype=float32)"
      ]
     },
     "execution_count": 51,
     "metadata": {},
     "output_type": "execute_result"
    }
   ],
   "source": [
    "dists.max(axis=1)[cat_idxs[:2]]"
   ]
  },
  {
   "cell_type": "code",
   "execution_count": 57,
   "id": "c9aaab84-d147-4811-87c9-a41d2032e038",
   "metadata": {},
   "outputs": [
    {
     "data": {
      "text/plain": [
       "array([0.58516339, 0.57479123, 0.59408487, ..., 0.83530635, 0.72327197,\n",
       "       0.59838322])"
      ]
     },
     "execution_count": 57,
     "metadata": {},
     "output_type": "execute_result"
    }
   ],
   "source": [
    "pure_arr[:2][0]"
   ]
  },
  {
   "cell_type": "code",
   "execution_count": 73,
   "id": "e28c3021-5e8b-44bf-ab7e-bef35c80e192",
   "metadata": {},
   "outputs": [
    {
     "data": {
      "text/plain": [
       "array([[   0,    0],\n",
       "       [   0,    1],\n",
       "       [   0,    2],\n",
       "       ...,\n",
       "       [ 175, 3092],\n",
       "       [ 175, 3093],\n",
       "       [ 175, 3094]])"
      ]
     },
     "execution_count": 73,
     "metadata": {},
     "output_type": "execute_result"
    }
   ],
   "source": [
    "np.argwhere(pure_arr < d[d < 10_000].max())"
   ]
  },
  {
   "cell_type": "code",
   "execution_count": 72,
   "id": "736a0c37-e03d-49eb-9607-a33d777f9674",
   "metadata": {},
   "outputs": [
    {
     "ename": "IndexError",
     "evalue": "index 176 is out of bounds for axis 0 with size 176",
     "output_type": "error",
     "traceback": [
      "\u001b[0;31m---------------------------------------------------------------------------\u001b[0m",
      "\u001b[0;31mIndexError\u001b[0m                                Traceback (most recent call last)",
      "\u001b[0;32m<ipython-input-72-c8e11cb3a32f>\u001b[0m in \u001b[0;36m<module>\u001b[0;34m\u001b[0m\n\u001b[0;32m----> 1\u001b[0;31m \u001b[0mpure_arr\u001b[0m\u001b[0;34m[\u001b[0m\u001b[0mnp\u001b[0m\u001b[0;34m.\u001b[0m\u001b[0margwhere\u001b[0m\u001b[0;34m(\u001b[0m\u001b[0mpure_arr\u001b[0m \u001b[0;34m<\u001b[0m \u001b[0md\u001b[0m\u001b[0;34m[\u001b[0m\u001b[0md\u001b[0m \u001b[0;34m<\u001b[0m \u001b[0;36m10_000\u001b[0m\u001b[0;34m]\u001b[0m\u001b[0;34m.\u001b[0m\u001b[0mmax\u001b[0m\u001b[0;34m(\u001b[0m\u001b[0;34m)\u001b[0m\u001b[0;34m)\u001b[0m\u001b[0;34m]\u001b[0m\u001b[0;34m.\u001b[0m\u001b[0mshape\u001b[0m\u001b[0;34m\u001b[0m\u001b[0m\n\u001b[0m",
      "\u001b[0;31mIndexError\u001b[0m: index 176 is out of bounds for axis 0 with size 176"
     ]
    }
   ],
   "source": [
    "pure_arr[np.argwhere(pure_arr < d[d < 10_000].max())].shape"
   ]
  },
  {
   "cell_type": "code",
   "execution_count": 71,
   "id": "e7d66af4-8183-4fb4-8fb2-d911168a36d6",
   "metadata": {},
   "outputs": [
    {
     "data": {
      "text/plain": [
       "(176, 3095)"
      ]
     },
     "execution_count": 71,
     "metadata": {},
     "output_type": "execute_result"
    }
   ],
   "source": [
    "pure_arr.shape"
   ]
  },
  {
   "cell_type": "code",
   "execution_count": 53,
   "id": "0d79d951-6863-45eb-812a-b06c6c1be209",
   "metadata": {},
   "outputs": [
    {
     "ename": "ValueError",
     "evalue": "operands could not be broadcast together with shapes (2,3095) (2,) ",
     "output_type": "error",
     "traceback": [
      "\u001b[0;31m---------------------------------------------------------------------------\u001b[0m",
      "\u001b[0;31mValueError\u001b[0m                                Traceback (most recent call last)",
      "\u001b[0;32m<ipython-input-53-4531208b3d89>\u001b[0m in \u001b[0;36m<module>\u001b[0;34m\u001b[0m\n\u001b[0;32m----> 1\u001b[0;31m \u001b[0mmask\u001b[0m \u001b[0;34m=\u001b[0m \u001b[0mpure_arr\u001b[0m\u001b[0;34m[\u001b[0m\u001b[0;34m:\u001b[0m\u001b[0;36m2\u001b[0m\u001b[0;34m]\u001b[0m \u001b[0;34m>\u001b[0m \u001b[0mdists\u001b[0m\u001b[0;34m.\u001b[0m\u001b[0mmax\u001b[0m\u001b[0;34m(\u001b[0m\u001b[0maxis\u001b[0m\u001b[0;34m=\u001b[0m\u001b[0;36m1\u001b[0m\u001b[0;34m)\u001b[0m\u001b[0;34m[\u001b[0m\u001b[0mcat_idxs\u001b[0m\u001b[0;34m[\u001b[0m\u001b[0;34m:\u001b[0m\u001b[0;36m2\u001b[0m\u001b[0;34m]\u001b[0m\u001b[0;34m]\u001b[0m\u001b[0;34m\u001b[0m\u001b[0m\n\u001b[0m",
      "\u001b[0;31mValueError\u001b[0m: operands could not be broadcast together with shapes (2,3095) (2,) "
     ]
    }
   ],
   "source": [
    "mask = pure_arr[:2] > dists.max(axis=1)[cat_idxs[:2]]"
   ]
  },
  {
   "cell_type": "code",
   "execution_count": 49,
   "id": "de8ca656-7512-4931-97db-61a21dd24374",
   "metadata": {},
   "outputs": [
    {
     "ename": "ValueError",
     "evalue": "operands could not be broadcast together with shapes (2,3095) (2,) ",
     "output_type": "error",
     "traceback": [
      "\u001b[0;31m---------------------------------------------------------------------------\u001b[0m",
      "\u001b[0;31mValueError\u001b[0m                                Traceback (most recent call last)",
      "\u001b[0;32m<ipython-input-49-25ca49114b9a>\u001b[0m in \u001b[0;36m<module>\u001b[0;34m\u001b[0m\n\u001b[0;32m----> 1\u001b[0;31m \u001b[0mpure_arr\u001b[0m\u001b[0;34m[\u001b[0m\u001b[0;34m:\u001b[0m\u001b[0;36m2\u001b[0m\u001b[0;34m]\u001b[0m \u001b[0;34m<\u001b[0m \u001b[0mdists\u001b[0m\u001b[0;34m.\u001b[0m\u001b[0mmax\u001b[0m\u001b[0;34m(\u001b[0m\u001b[0maxis\u001b[0m\u001b[0;34m=\u001b[0m\u001b[0;36m1\u001b[0m\u001b[0;34m)\u001b[0m\u001b[0;34m[\u001b[0m\u001b[0mcat_idxs\u001b[0m\u001b[0;34m[\u001b[0m\u001b[0;34m:\u001b[0m\u001b[0;36m2\u001b[0m\u001b[0;34m]\u001b[0m\u001b[0;34m]\u001b[0m\u001b[0;34m\u001b[0m\u001b[0m\n\u001b[0m",
      "\u001b[0;31mValueError\u001b[0m: operands could not be broadcast together with shapes (2,3095) (2,) "
     ]
    }
   ],
   "source": [
    "pure_arr[:2] < dists.max(axis=1)[cat_idxs[:2]]"
   ]
  },
  {
   "cell_type": "code",
   "execution_count": 45,
   "id": "7378be42-13bf-43aa-af8b-92b70231daa3",
   "metadata": {},
   "outputs": [
    {
     "ename": "ValueError",
     "evalue": "operands could not be broadcast together with shapes (176,3095) (176,) ",
     "output_type": "error",
     "traceback": [
      "\u001b[0;31m---------------------------------------------------------------------------\u001b[0m",
      "\u001b[0;31mValueError\u001b[0m                                Traceback (most recent call last)",
      "\u001b[0;32m<ipython-input-45-ff90f0bc8f6b>\u001b[0m in \u001b[0;36m<module>\u001b[0;34m\u001b[0m\n\u001b[0;32m----> 1\u001b[0;31m \u001b[0mpure_arr\u001b[0m\u001b[0;34m[\u001b[0m\u001b[0mpure_arr\u001b[0m \u001b[0;34m<\u001b[0m \u001b[0mdists\u001b[0m\u001b[0;34m.\u001b[0m\u001b[0mmax\u001b[0m\u001b[0;34m(\u001b[0m\u001b[0maxis\u001b[0m\u001b[0;34m=\u001b[0m\u001b[0;36m1\u001b[0m\u001b[0;34m)\u001b[0m\u001b[0;34m[\u001b[0m\u001b[0mcat_idxs\u001b[0m\u001b[0;34m]\u001b[0m\u001b[0;34m]\u001b[0m\u001b[0;34m.\u001b[0m\u001b[0mshape\u001b[0m\u001b[0;34m\u001b[0m\u001b[0m\n\u001b[0m",
      "\u001b[0;31mValueError\u001b[0m: operands could not be broadcast together with shapes (176,3095) (176,) "
     ]
    }
   ],
   "source": [
    "pure_arr[pure_arr < dists.max(axis=1)[cat_idxs]].shape"
   ]
  },
  {
   "cell_type": "code",
   "execution_count": null,
   "id": "aee2766d-ed2d-44ce-b6dd-ca460b1ba5ae",
   "metadata": {},
   "outputs": [],
   "source": []
  },
  {
   "cell_type": "code",
   "execution_count": null,
   "id": "d42a287d-d6f8-4a3a-83a9-1e319a374de4",
   "metadata": {},
   "outputs": [],
   "source": []
  },
  {
   "cell_type": "code",
   "execution_count": null,
   "id": "c9c9ced2-79f0-4ddd-a068-a49236e07c93",
   "metadata": {},
   "outputs": [],
   "source": [
    "dists, anns, t_all, t_pairwise = self.search_single(\n",
    "    data_navigation,\n",
    "    data_search,\n",
    "    queries_search,\n",
    "    pred_proba_categories[:, bucket]\n",
    ")"
   ]
  }
 ],
 "metadata": {
  "kernelspec": {
   "display_name": "Python 3",
   "language": "python",
   "name": "python3"
  },
  "language_info": {
   "codemirror_mode": {
    "name": "ipython",
    "version": 3
   },
   "file_extension": ".py",
   "mimetype": "text/x-python",
   "name": "python",
   "nbconvert_exporter": "python",
   "pygments_lexer": "ipython3",
   "version": "3.6.2"
  }
 },
 "nbformat": 4,
 "nbformat_minor": 5
}
