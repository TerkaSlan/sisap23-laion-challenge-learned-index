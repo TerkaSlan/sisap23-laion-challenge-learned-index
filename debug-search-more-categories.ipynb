{
 "cells": [
  {
   "cell_type": "code",
   "execution_count": 3,
   "id": "52d31e49-3838-4e69-9a0c-940c52f4a571",
   "metadata": {},
   "outputs": [],
   "source": [
    "import argparse\n",
    "import h5py\n",
    "import numpy as np\n",
    "import pandas as pd\n",
    "from sklearn import preprocessing\n",
    "import os\n",
    "import time\n",
    "from pathlib import Path\n",
    "from urllib.request import urlretrieve\n",
    "import logging\n",
    "from li.Baseline import Baseline\n",
    "from li.LearnedIndex import LearnedIndex\n",
    "from li.utils import save_as_pickle\n",
    "from li.model import data_X_to_torch\n"
   ]
  },
  {
   "cell_type": "code",
   "execution_count": 4,
   "id": "3381e4f4-3851-4069-aa7d-481d3db24187",
   "metadata": {},
   "outputs": [],
   "source": [
    "%reload_ext autoreload\n",
    "%autoreload 2"
   ]
  },
  {
   "cell_type": "code",
   "execution_count": 5,
   "id": "6f7dbeb9-eddb-49b9-bd25-d4645cc9f214",
   "metadata": {},
   "outputs": [],
   "source": [
    "np.random.seed(2023)\n",
    "\n",
    "logging.basicConfig(\n",
    "    level=logging.INFO,\n",
    "    format='[%(asctime)s][%(levelname)-5.5s][%(name)-.20s] %(message)s'\n",
    ")\n",
    "LOG = logging.getLogger(__name__)\n"
   ]
  },
  {
   "cell_type": "code",
   "execution_count": 6,
   "id": "bd594349-9b14-4eb6-bf0b-3efb06da8555",
   "metadata": {},
   "outputs": [],
   "source": [
    "kind='pca32v2'\n",
    "size='100K'\n",
    "key='pca32'"
   ]
  },
  {
   "cell_type": "code",
   "execution_count": 7,
   "id": "a6a9022e-a528-4af2-92f1-c55b580149b8",
   "metadata": {},
   "outputs": [],
   "source": [
    "data = np.array(h5py.File(os.path.join(\"data\", kind, size, \"dataset.h5\"), \"r\")[key])\n",
    "queries = np.array(h5py.File(os.path.join(\"data\", kind, size, \"query.h5\"), \"r\")[key])"
   ]
  },
  {
   "cell_type": "code",
   "execution_count": 8,
   "id": "bb08dc01-47b1-473b-958f-f2326aed0aab",
   "metadata": {},
   "outputs": [],
   "source": [
    "kind_search = 'clip768v2'\n",
    "key_search = 'emb'\n",
    "data_search = np.array(\n",
    "    h5py.File(os.path.join(\"data\", kind_search, size, \"dataset.h5\"), \"r\")[key_search]\n",
    ")"
   ]
  },
  {
   "cell_type": "code",
   "execution_count": 9,
   "id": "0001f683-b123-4c3f-aa1b-78f301374579",
   "metadata": {},
   "outputs": [],
   "source": [
    "queries_search = np.array(\n",
    "    h5py.File(os.path.join(\"data\", kind_search, size, \"query.h5\"), \"r\")[key_search]\n",
    ")"
   ]
  },
  {
   "cell_type": "code",
   "execution_count": 10,
   "id": "3354102d-638d-4016-a80b-39e2f0ed3cc0",
   "metadata": {},
   "outputs": [],
   "source": [
    "import torch\n",
    "from torch import nn\n",
    "import torch.nn.functional as nnf\n",
    "import numpy as np\n",
    "from li.Logger import Logger\n",
    "from typing import Tuple\n",
    "import torch.utils.data\n",
    "\n",
    "torch.manual_seed(2023)\n",
    "np.random.seed(2023)\n",
    "\n",
    "class Model(nn.Module):\n",
    "    def __init__(self, input_dim=768, output_dim=1000, model_type=None):\n",
    "        super().__init__()\n",
    "        if model_type == 'MLP':\n",
    "            self.layers = torch.nn.Sequential(\n",
    "                torch.nn.Linear(input_dim, 128),\n",
    "                torch.nn.ReLU(),\n",
    "                torch.nn.Linear(128, output_dim)\n",
    "            )\n",
    "        if model_type == 'MLP-2':\n",
    "            self.layers = torch.nn.Sequential(\n",
    "                torch.nn.Linear(input_dim, 64),\n",
    "                torch.nn.ReLU(),\n",
    "                torch.nn.Linear(64, output_dim)\n",
    "            )\n",
    "        if model_type == 'MLP-3':\n",
    "            self.layers = torch.nn.Sequential(\n",
    "                torch.nn.Linear(input_dim, 256),\n",
    "                torch.nn.ReLU(),\n",
    "                torch.nn.Linear(256, output_dim)\n",
    "            )\n",
    "        if model_type == 'MLP-4':\n",
    "            self.layers = torch.nn.Sequential(\n",
    "                torch.nn.Linear(input_dim, 512),\n",
    "                torch.nn.ReLU(),\n",
    "                torch.nn.Linear(512, output_dim)\n",
    "            )\n",
    "        if model_type == 'MLP-5':\n",
    "            self.layers = torch.nn.Sequential(\n",
    "                torch.nn.Linear(input_dim, 256),\n",
    "                torch.nn.ReLU(),\n",
    "                torch.nn.Linear(256, 128),\n",
    "                torch.nn.ReLU(),\n",
    "                torch.nn.Linear(128, output_dim)\n",
    "            )\n",
    "        if model_type == 'MLP-6':\n",
    "            self.layers = torch.nn.Sequential(\n",
    "                torch.nn.Linear(input_dim, 32),\n",
    "                torch.nn.ReLU(),\n",
    "                torch.nn.Linear(32, output_dim)\n",
    "            )\n",
    "        if model_type == 'MLP-7':\n",
    "            self.layers = torch.nn.Sequential(\n",
    "                torch.nn.Linear(input_dim, 16),\n",
    "                torch.nn.ReLU(),\n",
    "                torch.nn.Linear(16, output_dim)\n",
    "            )\n",
    "        if model_type == 'MLP-8':\n",
    "            self.layers = torch.nn.Sequential(\n",
    "                torch.nn.Linear(input_dim, 8),\n",
    "                torch.nn.ReLU(),\n",
    "                torch.nn.Linear(8, output_dim)\n",
    "            )\n",
    "        if model_type == 'MLP-9':\n",
    "            self.layers = torch.nn.Sequential(\n",
    "                torch.nn.Linear(input_dim, 8),\n",
    "                torch.nn.ReLU(),\n",
    "                torch.nn.Linear(input_dim, 16),\n",
    "                torch.nn.ReLU(),\n",
    "                torch.nn.Linear(16, output_dim)\n",
    "            )\n",
    "        self.n_output_neurons = output_dim\n",
    "\n",
    "    def forward(self, x: torch.FloatTensor) -> torch.FloatTensor:\n",
    "        outputs = self.layers(x)\n",
    "        return outputs\n",
    "\n",
    "\n",
    "def data_X_to_torch(data) -> torch.FloatTensor:\n",
    "    \"\"\" Creates torch training data.\"\"\"\n",
    "    data_X = torch.from_numpy(np.array(data).astype(np.float32))\n",
    "    return data_X\n",
    "\n",
    "\n",
    "def data_to_torch(data, labels) -> Tuple[torch.FloatTensor, torch.LongTensor]:\n",
    "    \"\"\" Creates torch training data and labels.\"\"\"\n",
    "    data_X = data_X_to_torch(data)\n",
    "    data_y = torch.as_tensor(torch.from_numpy(labels), dtype=torch.long)\n",
    "    return data_X, data_y\n",
    "\n",
    "\n",
    "def get_device() -> torch.device:\n",
    "    \"\"\" Gets the `device` to be used by torch.\n",
    "    This arugment is needed to operate with the PyTorch model instance.\n",
    "\n",
    "    Returns\n",
    "    ------\n",
    "    torch.device\n",
    "        Device\n",
    "    \"\"\"\n",
    "    use_cuda = torch.cuda.is_available()\n",
    "    device = torch.device('cuda:0' if use_cuda else 'cpu')\n",
    "    torch.backends.cudnn.benchmark = True\n",
    "    return device\n",
    "\n",
    "\n",
    "class NeuralNetwork(Logger):\n",
    "    \"\"\" The neural network class corresponding to every inner node.\n",
    "\n",
    "    Parameters\n",
    "    ----------\n",
    "    input_dim : int\n",
    "        The input dimension.\n",
    "    output_dim : int\n",
    "        The output dimension.\n",
    "    loss : torch.nn, optional\n",
    "        The loss function, the default is torch.nn.CrossEntropyLoss.\n",
    "    lr : float, optional\n",
    "        The learning rate, the default is 0.001.\n",
    "    model_type : str, optional\n",
    "        The model type, the default is 'MLP'.\n",
    "    class_weight : torch.FloatTensor, optional\n",
    "        The class weights, the default is None.\n",
    "    \"\"\"\n",
    "    def __init__(\n",
    "        self,\n",
    "        input_dim,\n",
    "        output_dim,\n",
    "        loss=torch.nn.CrossEntropyLoss,\n",
    "        lr=0.1,\n",
    "        model_type='MLP',\n",
    "        class_weight=None\n",
    "    ):\n",
    "        self.device = get_device()\n",
    "        self.model = Model(input_dim, output_dim, model_type=model_type).to(self.device)\n",
    "        if not isinstance(class_weight, type(None)):\n",
    "            self.loss = loss(weight=class_weight.to(self.device))\n",
    "        else:\n",
    "            self.loss = loss()\n",
    "        self.optimizer = torch.optim.Adam(self.model.parameters(), lr=lr)\n",
    "\n",
    "    def train(\n",
    "        self,\n",
    "        data_X: torch.FloatTensor,\n",
    "        data_y: torch.LongTensor,\n",
    "        epochs=500,\n",
    "        logger=None\n",
    "    ):\n",
    "        step = epochs // 10\n",
    "        losses = []\n",
    "        if logger:\n",
    "            logger.info(f'Epochs: {epochs}, step: {step}')\n",
    "        for ep in range(epochs):\n",
    "            pred_y = self.model(data_X.to(self.device))\n",
    "            curr_loss = self.loss(pred_y, data_y.to(self.device))\n",
    "            if ep % step == 0 and ep != 0:\n",
    "                if logger:\n",
    "                    logger.info(f'Epoch {ep} | Loss {curr_loss.item()}')\n",
    "            losses.append(curr_loss.item())\n",
    "\n",
    "            self.model.zero_grad()\n",
    "            curr_loss.backward()\n",
    "\n",
    "            self.optimizer.step()\n",
    "        return losses\n",
    "\n",
    "    def train_batch(\n",
    "        self,\n",
    "        dataset,\n",
    "        epochs=5,\n",
    "        logger=None\n",
    "    ):\n",
    "        step = epochs // 10\n",
    "        step = step if step > 0 else 1\n",
    "        losses = []\n",
    "        if logger:\n",
    "            logger.info(f'Epochs: {epochs}, step: {step}')\n",
    "        for ep in range(epochs):\n",
    "            for data_X, data_y in iter(dataset):\n",
    "                pred_y = self.model(data_X.to(self.device))\n",
    "                curr_loss = self.loss(pred_y, data_y.to(self.device))\n",
    "\n",
    "            if ep % step == 0 and ep != 0:\n",
    "                if logger:\n",
    "                    logger.info(f'Epoch {ep} | Loss {curr_loss.item():.5f}')\n",
    "            losses.append(curr_loss.item())\n",
    "\n",
    "            self.model.zero_grad()\n",
    "            curr_loss.backward()\n",
    "\n",
    "            self.optimizer.step()\n",
    "        return losses\n",
    "\n",
    "    def predict(self, data_X: torch.FloatTensor):\n",
    "        \"\"\" Collects predictions for multiple data points (used in structure building).\"\"\"\n",
    "        self.model = self.model.to(self.device)\n",
    "        self.model.eval()\n",
    "\n",
    "        all_outputs = torch.tensor([], device=self.device)\n",
    "        with torch.no_grad():\n",
    "            outputs = self.model(data_X.to(self.device))\n",
    "            all_outputs = torch.cat((all_outputs, outputs), 0)\n",
    "\n",
    "        _, y_pred = torch.max(all_outputs, 1)\n",
    "        return y_pred.cpu().numpy()\n",
    "\n",
    "    def predict_proba(self, data_X: torch.FloatTensor):\n",
    "        \"\"\" Collects predictions for a single data point (used in query predictions).\"\"\"\n",
    "        self.model = self.model.to(self.device)\n",
    "        self.model.eval()\n",
    "\n",
    "        with torch.no_grad():\n",
    "            outputs = self.model(data_X.to(self.device))\n",
    "\n",
    "        if outputs.dim() == 1:\n",
    "            dim = 0\n",
    "        else:\n",
    "            dim = 1\n",
    "        prob = nnf.softmax(outputs, dim=dim)\n",
    "        probs, classes = prob.topk(prob.shape[1])\n",
    "\n",
    "        return probs.cpu().numpy(), classes.cpu().numpy()\n",
    "\n",
    "\n",
    "class LIDataset(torch.utils.data.Dataset):\n",
    "    def __init__(self, dataset_x, dataset_y):\n",
    "        self.dataset_x, self.dataset_y = data_to_torch(dataset_x, dataset_y)\n",
    "\n",
    "    def __len__(self):\n",
    "        return self.dataset_x.shape[0]\n",
    "\n",
    "    def __getitem__(self, idx):\n",
    "        return self.dataset_x[idx-1], self.dataset_y[idx-1]\n"
   ]
  },
  {
   "cell_type": "code",
   "execution_count": 11,
   "id": "2dd0411b-4e94-4379-a992-7f6ed8937775",
   "metadata": {},
   "outputs": [
    {
     "name": "stderr",
     "output_type": "stream",
     "text": [
      "[2023-07-14 13:48:44,472][INFO ][faiss.loader] Loading faiss with AVX2 support.\n",
      "[2023-07-14 13:48:44,475][INFO ][faiss.loader] Could not load library with AVX2 support due to:\n",
      "ModuleNotFoundError(\"No module named 'faiss.swigfaiss_avx2'\",)\n",
      "[2023-07-14 13:48:44,477][INFO ][faiss.loader] Loading faiss.\n",
      "[2023-07-14 13:48:44,666][INFO ][faiss.loader] Successfully loaded faiss.\n"
     ]
    }
   ],
   "source": [
    "import numpy as np\n",
    "from li.Logger import Logger\n",
    "from li.utils import pairwise_cosine\n",
    "import time\n",
    "import torch\n",
    "import torch.utils.data\n",
    "import faiss\n",
    "from tqdm import tqdm\n",
    "import numpy as np\n",
    "torch.manual_seed(2023)\n",
    "np.random.seed(2023)\n",
    "\n",
    "class LearnedIndex(Logger):\n",
    "\n",
    "    def __init__(self):\n",
    "        self.pq = []\n",
    "        self.model = None\n",
    "\n",
    "    def search(\n",
    "        self,\n",
    "        data_navigation,\n",
    "        queries_navigation,\n",
    "        data_search,\n",
    "        queries_search,\n",
    "        pred_categories,\n",
    "        n_buckets=1,\n",
    "        k=10\n",
    "    ):\n",
    "        \"\"\" Search for k nearest neighbors for each query in queries.\n",
    "\n",
    "        Parameters\n",
    "        ----------\n",
    "        queries : np.array\n",
    "            Queries to search for.\n",
    "        data : np.array\n",
    "            Data to search in.\n",
    "        n_buckets : int\n",
    "            Number of most similar buckets to search in.\n",
    "        k : int\n",
    "            Number of nearest neighbors to search for.\n",
    "\n",
    "        Returns\n",
    "        -------\n",
    "        dists : np.array\n",
    "            Array of shape (queries.shape[0], k) with distances to nearest neighbors for each query.\n",
    "        anns : np.array\n",
    "            Array of shape (queries.shape[0], k) with nearest neighbors for each query.\n",
    "        time : float\n",
    "            Time it took to search.\n",
    "        \"\"\"\n",
    "        assert self.model is not None, 'Model is not trained, call `build` first.'\n",
    "        s = time.time()\n",
    "        _, pred_proba_categories = self.model.predict_proba(\n",
    "            data_X_to_torch(queries_navigation)\n",
    "        )\n",
    "        t_inference = time.time() - s\n",
    "        anns_final = None\n",
    "        dists_final = None\n",
    "        # sorts the predictions of a bucket for each query, ordered by lowest probability\n",
    "        data_navigation['category'] = pred_categories\n",
    "\n",
    "        # iterates over the predicted buckets starting from the most similar (index -1)\n",
    "        t_all_buckets = 0\n",
    "        t_all_pairwise = 0\n",
    "        for bucket in range(n_buckets):\n",
    "            dists, anns, t_all, t_pairwise = self.search_single(\n",
    "                data_navigation,\n",
    "                data_search,\n",
    "                queries_search,\n",
    "                pred_proba_categories[:, bucket]\n",
    "            )\n",
    "            t_all_buckets += t_all\n",
    "            t_all_pairwise += t_pairwise\n",
    "            if anns_final is None:\n",
    "                anns_final = anns\n",
    "                dists_final = dists\n",
    "            else:\n",
    "                # stacks the results from the previous sorted anns and dists\n",
    "                # *_final arrays now have shape (queries.shape[0], k*2)\n",
    "                anns_final = np.hstack((anns_final, anns))\n",
    "                dists_final = np.hstack((dists_final, dists))\n",
    "                # gets the sorted indices of the stacked dists\n",
    "                idx_sorted = dists_final.argsort(kind='stable', axis=1)[:, :k]\n",
    "                # indexes the final arrays with the sorted indices\n",
    "                # *_final arrays now have shape (queries.shape[0], k)\n",
    "                idx = np.ogrid[tuple(map(slice, dists_final.shape))]\n",
    "                idx[1] = idx_sorted\n",
    "                dists_final = dists_final[tuple(idx)]\n",
    "                anns_final = anns_final[tuple(idx)]\n",
    "\n",
    "                assert anns_final.shape == dists_final.shape == (queries_search.shape[0], k)\n",
    "\n",
    "        return dists_final, anns_final, time.time() - s, t_inference, t_all_buckets, t_all_pairwise\n",
    "\n",
    "    def search_single(\n",
    "        self,\n",
    "        data_navigation,\n",
    "        data_search,\n",
    "        queries_search,\n",
    "        pred_categories,\n",
    "        k=10\n",
    "    ):\n",
    "        \"\"\" Search for k nearest neighbors for each query in queries.\n",
    "\n",
    "        Parameters\n",
    "        ----------\n",
    "        queries : np.array\n",
    "            Queries to search for.\n",
    "        data : np.array\n",
    "            Data to search in.\n",
    "        k : int\n",
    "            Number of nearest neighbors to search for.\n",
    "\n",
    "        Returns\n",
    "        -------\n",
    "        anns : np.array\n",
    "            Array of shape (queries.shape[0], k) with nearest neighbors for each query.\n",
    "        final_dists_k : np.array\n",
    "            Array of shape (queries.shape[0], k) with distances to nearest neighbors for each query.\n",
    "        time : float\n",
    "            Time it took to search.\n",
    "        \"\"\"\n",
    "        s_all = time.time()\n",
    "        nns = np.zeros((queries_search.shape[0], k), dtype=np.uint32)\n",
    "        dists = np.zeros((queries_search.shape[0], k), dtype=np.float32)\n",
    "\n",
    "        if 'category' in data_search.columns:\n",
    "            data_search = data_search.drop('category', axis=1, errors='ignore')\n",
    "\n",
    "        t_pairwise = 0\n",
    "        for cat, g in tqdm(data_navigation.groupby('category')):\n",
    "            cat_idxs = np.where(pred_categories == cat)[0]\n",
    "            bucket_obj_indexes = g.index\n",
    "            if bucket_obj_indexes.shape[0] != 0 and cat_idxs.shape[0] != 0:\n",
    "                try:\n",
    "                    s = time.time()\n",
    "                    seq_search_dists = pairwise_cosine(\n",
    "                        queries_search[cat_idxs],\n",
    "                        data_search.loc[bucket_obj_indexes]\n",
    "                    )\n",
    "                    t_pairwise += time.time() - s\n",
    "                    ann_relative = seq_search_dists.argsort()[\n",
    "                        :, :k if k < seq_search_dists.shape[1] else seq_search_dists.shape[1]\n",
    "                    ]\n",
    "                    nns[cat_idxs] = np.array(bucket_obj_indexes)[ann_relative]\n",
    "                    dists[cat_idxs] = np.take_along_axis(seq_search_dists, ann_relative, axis=1)\n",
    "                except ValueError as e:\n",
    "                    print(e)\n",
    "                    print('cat_idxs', cat_idxs.shape)\n",
    "                    print('bucket_obj_indexes', bucket_obj_indexes.shape)\n",
    "                    print('seq_search_dists', seq_search_dists.shape)\n",
    "                    print('ann_relative', ann_relative.shape)\n",
    "\n",
    "        t_all = time.time() - s_all\n",
    "        return dists, nns, t_all, t_pairwise\n",
    "\n",
    "    def build(self, data, n_categories=100, epochs=100, lr=0.1, model_type='MLP'):\n",
    "        \"\"\" Build the index.\n",
    "\n",
    "        Parameters\n",
    "        ----------\n",
    "        data : np.array\n",
    "            Data to build the index on.\n",
    "\n",
    "        Returns\n",
    "        -------\n",
    "        time : float\n",
    "            Time it took to build the index.\n",
    "        \"\"\"\n",
    "        s = time.time()\n",
    "        # ---- cluster the data into categories ---- #\n",
    "        _, labels = self.cluster(data, n_categories)\n",
    "\n",
    "        # ---- train a neural network ---- #\n",
    "        dataset = LIDataset(data, labels)\n",
    "        train_loader = torch.utils.data.DataLoader(\n",
    "            dataset,\n",
    "            batch_size=256,\n",
    "            sampler=torch.utils.data.SubsetRandomSampler(\n",
    "                data.index.values.tolist()\n",
    "            )\n",
    "        )\n",
    "        nn = NeuralNetwork(\n",
    "            input_dim=data.shape[1],\n",
    "            output_dim=n_categories,\n",
    "            lr=lr,\n",
    "            model_type=model_type\n",
    "        )\n",
    "        nn.train_batch(train_loader, epochs=epochs, logger=self.logger)\n",
    "        # ---- collect predictions ---- #\n",
    "        self.model = nn\n",
    "        return nn.predict(data_X_to_torch(data)), time.time() - s\n",
    "\n",
    "    def cluster(\n",
    "        self,\n",
    "        data,\n",
    "        n_clusters,\n",
    "        n_redo=10,\n",
    "        spherical=True,\n",
    "        int_centroids=True,\n",
    "\n",
    "    ):\n",
    "        if data.shape[0] < 2:\n",
    "            return None, np.zeros_like(data.shape[0])\n",
    "\n",
    "        if data.shape[0] < n_clusters:\n",
    "            n_clusters = data.shape[0] // 5\n",
    "            if n_clusters < 2:\n",
    "                n_clusters = 2\n",
    "\n",
    "        kmeans = faiss.Kmeans(\n",
    "            d=np.array(data).shape[1],\n",
    "            k=n_clusters,\n",
    "            verbose=True,\n",
    "            #nredo=n_redo,\n",
    "            #spherical=spherical,\n",
    "            #int_centroids=int_centroids,\n",
    "            #update_index=False,\n",
    "            seed=2023\n",
    "        )\n",
    "        X = np.array(data).astype(np.float32)\n",
    "        kmeans.train(X)\n",
    "\n",
    "        return kmeans, kmeans.index.search(X, 1)[1].T[0]\n"
   ]
  },
  {
   "cell_type": "code",
   "execution_count": 12,
   "id": "263cfad0-8b34-49ed-9c39-5707b7655e02",
   "metadata": {},
   "outputs": [],
   "source": [
    "data = pd.DataFrame(data)\n",
    "data.index += 1\n",
    "\n",
    "data_search = pd.DataFrame(data_search)\n",
    "data_search.index += 1"
   ]
  },
  {
   "cell_type": "code",
   "execution_count": 13,
   "id": "aa92e1f4-e96e-4a8c-8e9b-9d0d2d6ca2d5",
   "metadata": {},
   "outputs": [
    {
     "name": "stderr",
     "output_type": "stream",
     "text": [
      "[2023-07-14 13:49:02,336][INFO ][__main__.LearnedInde] Epochs: 20, step: 2\n",
      "[2023-07-14 13:49:12,698][INFO ][__main__.LearnedInde] Epoch 2 | Loss 7.68513\n",
      "[2023-07-14 13:49:19,558][INFO ][__main__.LearnedInde] Epoch 4 | Loss 7.65066\n",
      "[2023-07-14 13:49:26,454][INFO ][__main__.LearnedInde] Epoch 6 | Loss 7.62184\n",
      "[2023-07-14 13:49:33,290][INFO ][__main__.LearnedInde] Epoch 8 | Loss 7.54541\n",
      "[2023-07-14 13:49:40,159][INFO ][__main__.LearnedInde] Epoch 10 | Loss 7.51368\n",
      "[2023-07-14 13:49:47,065][INFO ][__main__.LearnedInde] Epoch 12 | Loss 7.52358\n",
      "[2023-07-14 13:49:54,213][INFO ][__main__.LearnedInde] Epoch 14 | Loss 7.57553\n",
      "[2023-07-14 13:50:01,142][INFO ][__main__.LearnedInde] Epoch 16 | Loss 7.44283\n",
      "[2023-07-14 13:50:07,976][INFO ][__main__.LearnedInde] Epoch 18 | Loss 7.35205\n"
     ]
    }
   ],
   "source": [
    "li = LearnedIndex()\n",
    "pred_categories, build_t = li.build(\n",
    "    data,\n",
    "    n_categories=2000,\n",
    "    epochs=20,\n",
    "    lr=0.1\n",
    ")"
   ]
  },
  {
   "cell_type": "code",
   "execution_count": 14,
   "id": "145e227b-23fe-4ca8-beab-427e3053f24d",
   "metadata": {},
   "outputs": [],
   "source": [
    "data['category'] = pred_categories"
   ]
  },
  {
   "cell_type": "code",
   "execution_count": 15,
   "id": "1f93d5bc-be7e-4604-8088-5f222d78499b",
   "metadata": {},
   "outputs": [
    {
     "data": {
      "text/plain": [
       "791     17037\n",
       "1878    13664\n",
       "237      9391\n",
       "1913     8733\n",
       "1830     6419\n",
       "        ...  \n",
       "182         1\n",
       "1452        1\n",
       "1617        1\n",
       "285         1\n",
       "810         1\n",
       "Name: category, Length: 97, dtype: int64"
      ]
     },
     "execution_count": 15,
     "metadata": {},
     "output_type": "execute_result"
    }
   ],
   "source": [
    "data.category.value_counts()"
   ]
  },
  {
   "cell_type": "code",
   "execution_count": 16,
   "id": "277e4a6a-053a-46e1-a948-4e4fb25182aa",
   "metadata": {},
   "outputs": [],
   "source": [
    "k=10"
   ]
  },
  {
   "cell_type": "code",
   "execution_count": 17,
   "id": "6099db73-0909-48f3-b1f7-d8ae3558b321",
   "metadata": {},
   "outputs": [],
   "source": [
    "nns = np.zeros((queries_search.shape[0], k), dtype=np.uint32)\n",
    "dists = np.zeros((queries_search.shape[0], k), dtype=np.float32)"
   ]
  },
  {
   "cell_type": "code",
   "execution_count": 18,
   "id": "80644465-5606-4775-8ce4-8672eeecca98",
   "metadata": {},
   "outputs": [],
   "source": [
    "_, pred_proba_categories = li.model.predict_proba(\n",
    "    data_X_to_torch(queries)\n",
    ")"
   ]
  },
  {
   "cell_type": "code",
   "execution_count": 20,
   "id": "c8a3f9af-66eb-4663-a42f-487350fabf95",
   "metadata": {},
   "outputs": [],
   "source": [
    "bucket = 0"
   ]
  },
  {
   "cell_type": "code",
   "execution_count": 18,
   "id": "b2d40023-16de-4525-93b3-6992060bf637",
   "metadata": {},
   "outputs": [
    {
     "data": {
      "text/plain": [
       "array([[ 791, 1878, 1144, ...,  542, 1020, 1010],\n",
       "       [ 791, 1913,  708, ..., 1535,  434, 1547],\n",
       "       [ 276,  911, 1864, ...,  823, 1636,  190],\n",
       "       ...,\n",
       "       [1665,  349, 1418, ..., 1563,  542, 1229],\n",
       "       [ 791, 1913, 1428, ..., 1020, 1955, 1547],\n",
       "       [1144,  791, 1878, ..., 1229,  542, 1547]])"
      ]
     },
     "execution_count": 18,
     "metadata": {},
     "output_type": "execute_result"
    }
   ],
   "source": [
    "pred_proba_categories"
   ]
  },
  {
   "cell_type": "code",
   "execution_count": 21,
   "id": "e9f0f326-5ae8-4113-a600-fdcc8c3d598a",
   "metadata": {},
   "outputs": [
    {
     "name": "stderr",
     "output_type": "stream",
     "text": [
      "  0%|          | 0/97 [00:00<?, ?it/s]"
     ]
    },
    {
     "name": "stdout",
     "output_type": "stream",
     "text": [
      "(322, 768)\n",
      "(3095, 768)\n"
     ]
    },
    {
     "name": "stderr",
     "output_type": "stream",
     "text": [
      "\n"
     ]
    }
   ],
   "source": [
    "for cat, g in tqdm(data.groupby('category')):\n",
    "    cat_idxs = np.where(pred_proba_categories[:, bucket] == cat)[0]\n",
    "    bucket_obj_indexes = g.index\n",
    "    print(queries_search[cat_idxs].shape)\n",
    "    print(data_search.loc[bucket_obj_indexes].shape)\n",
    "    break\n",
    "    seq_search_dists = pairwise_cosine(\n",
    "        queries_search[cat_idxs],\n",
    "        data_search.loc[bucket_obj_indexes]\n",
    "    )\n",
    "    break"
   ]
  },
  {
   "cell_type": "code",
   "execution_count": 20,
   "id": "33a6c489-1624-4f1c-a4d0-2340e58c2a6f",
   "metadata": {},
   "outputs": [
    {
     "data": {
      "text/plain": [
       "array([0., 0., 0., ..., 0., 0., 0.], dtype=float32)"
      ]
     },
     "execution_count": 20,
     "metadata": {},
     "output_type": "execute_result"
    }
   ],
   "source": [
    "dists.max(axis=1)"
   ]
  },
  {
   "cell_type": "code",
   "execution_count": 21,
   "id": "b2e45baf-88b7-473d-8094-b22c9731d17d",
   "metadata": {},
   "outputs": [
    {
     "data": {
      "text/plain": [
       "array([[0., 0., 0., ..., 0., 0., 0.],\n",
       "       [0., 0., 0., ..., 0., 0., 0.],\n",
       "       [0., 0., 0., ..., 0., 0., 0.],\n",
       "       ...,\n",
       "       [0., 0., 0., ..., 0., 0., 0.],\n",
       "       [0., 0., 0., ..., 0., 0., 0.],\n",
       "       [0., 0., 0., ..., 0., 0., 0.]], dtype=float32)"
      ]
     },
     "execution_count": 21,
     "metadata": {},
     "output_type": "execute_result"
    }
   ],
   "source": [
    "dists"
   ]
  },
  {
   "cell_type": "code",
   "execution_count": 22,
   "id": "daf00554-5eaa-4911-a329-52fe7468ffa6",
   "metadata": {},
   "outputs": [
    {
     "ename": "ValueError",
     "evalue": "The truth value of an array with more than one element is ambiguous. Use a.any() or a.all()",
     "output_type": "error",
     "traceback": [
      "\u001b[0;31m---------------------------------------------------------------------------\u001b[0m",
      "\u001b[0;31mValueError\u001b[0m                                Traceback (most recent call last)",
      "\u001b[0;32m<ipython-input-22-a389fd464a49>\u001b[0m in \u001b[0;36m<module>\u001b[0;34m\u001b[0m\n\u001b[0;32m----> 1\u001b[0;31m \u001b[0mmax\u001b[0m\u001b[0;34m(\u001b[0m\u001b[0mdists\u001b[0m\u001b[0;34m)\u001b[0m\u001b[0;34m\u001b[0m\u001b[0m\n\u001b[0m",
      "\u001b[0;31mValueError\u001b[0m: The truth value of an array with more than one element is ambiguous. Use a.any() or a.all()"
     ]
    }
   ],
   "source": [
    "max(dists)"
   ]
  },
  {
   "cell_type": "code",
   "execution_count": 22,
   "id": "7c9b6c51-fcec-4fe9-90d2-85978ca24e89",
   "metadata": {},
   "outputs": [
    {
     "name": "stderr",
     "output_type": "stream",
     "text": [
      "100%|██████████| 97/97 [00:09<00:00, 10.54it/s]\n"
     ]
    }
   ],
   "source": [
    "for cat, g in tqdm(data.groupby('category')):\n",
    "    cat_idxs = np.where(pred_proba_categories[:, bucket] == cat)[0]\n",
    "    bucket_obj_indexes = g.index\n",
    "    if bucket_obj_indexes.shape[0] != 0 and cat_idxs.shape[0] != 0:\n",
    "        #print(cat, cat_idxs, cat_idxs.shape)\n",
    "        #break\n",
    "        seq_search_dists = pairwise_cosine(\n",
    "            queries_search[cat_idxs],\n",
    "            data_search.loc[bucket_obj_indexes]\n",
    "        )\n",
    "        #print(seq_search_dists.shape)\n",
    "        ann_relative = seq_search_dists.argsort()[\n",
    "            :, :k if k < seq_search_dists.shape[1] else seq_search_dists.shape[1]\n",
    "        ]\n",
    "        #print('ann_relative: ', ann_relative.shape)\n",
    "        #print('np.array(bucket_obj_indexes): ', np.array(bucket_obj_indexes), np.array(bucket_obj_indexes).shape)\n",
    "        #print('ann_relative: ', ann_relative, ann_relative.shape)\n",
    "        pad_needed = (k - np.array(bucket_obj_indexes).shape[0]) // 2 + 1\n",
    "        #print('pad_needed: ', pad_needed)\n",
    "        #print('np.array(bucket_obj_indexes) padded: ', np.pad(np.array(bucket_obj_indexes), pad_needed, 'edge')[:k], np.pad(np.array(bucket_obj_indexes), pad_needed,'edge').shape)\n",
    "        if bucket_obj_indexes.shape[0] < k:\n",
    "            #print('here')\n",
    "            pad_needed = (k - bucket_obj_indexes.shape[0]) // 2 + 1\n",
    "            bucket_obj_indexes = np.pad(np.array(bucket_obj_indexes), pad_needed, 'edge')[:k]\n",
    "            ann_relative = np.pad(ann_relative[0], pad_needed, 'edge')[:k].reshape(1, -1)\n",
    "            seq_search_dists = np.pad(seq_search_dists[0], pad_needed, 'edge')[:k].reshape(1, -1)\n",
    "            #print('seq_search_dists: ', seq_search_dists)\n",
    "            u, i = np.unique(seq_search_dists, return_index=True)\n",
    "            duplicates_i = np.setdiff1d(np.arange(k), i)\n",
    "            # assign a large number such that the duplicated value gets replaced\n",
    "            seq_search_dists[0][duplicates_i] = 10_000\n",
    "            #print('seq_search_dists: ', seq_search_dists)\n",
    "            #print('bucket_obj_indexes: ', bucket_obj_indexes.shape)\n",
    "            #print('ann_relative: ', ann_relative, ann_relative.shape)\n",
    "            #print('seq_search_dists ', seq_search_dists, seq_search_dists.shape)\n",
    "\n",
    "        nns[cat_idxs] = np.array(bucket_obj_indexes)[ann_relative]\n",
    "        #print('nns[cat_idxs]: ', nns[cat_idxs].shape)\n",
    "        dists[cat_idxs] = np.take_along_axis(seq_search_dists, ann_relative, axis=1)"
   ]
  },
  {
   "cell_type": "code",
   "execution_count": 23,
   "id": "9b17c9bd-6aea-444d-8026-1381d9b222f0",
   "metadata": {},
   "outputs": [
    {
     "data": {
      "text/plain": [
       "(0,)"
      ]
     },
     "execution_count": 23,
     "metadata": {},
     "output_type": "execute_result"
    }
   ],
   "source": [
    "cat_idxs.shape"
   ]
  },
  {
   "cell_type": "code",
   "execution_count": 35,
   "id": "56335be7-808b-496e-a440-a2b369eee181",
   "metadata": {},
   "outputs": [
    {
     "data": {
      "text/plain": [
       "array([[79172, 74173, 71849, ..., 80243, 21472, 70410],\n",
       "       [14347, 82848, 79302, ..., 53783, 84845, 78536],\n",
       "       [29237,  4207, 88213, ..., 12212, 35067, 44556],\n",
       "       ...,\n",
       "       [47854,  4982, 75313, ..., 33171, 50438, 78418],\n",
       "       [26945, 85710, 39351, ..., 97137, 77608, 83898],\n",
       "       [24525,  3924, 54312, ..., 17209,  8939, 67996]], dtype=uint32)"
      ]
     },
     "execution_count": 35,
     "metadata": {},
     "output_type": "execute_result"
    }
   ],
   "source": [
    "nns"
   ]
  },
  {
   "cell_type": "code",
   "execution_count": 36,
   "id": "f9c47624-a8da-415f-90c9-81b2fc5277ac",
   "metadata": {},
   "outputs": [
    {
     "data": {
      "text/plain": [
       "Int64Index([77009, 80169], dtype='int64')"
      ]
     },
     "execution_count": 36,
     "metadata": {},
     "output_type": "execute_result"
    }
   ],
   "source": [
    "bucket_obj_indexes"
   ]
  },
  {
   "cell_type": "code",
   "execution_count": 37,
   "id": "bebf4cc6-09a5-4270-8548-70a0c81c1e7b",
   "metadata": {},
   "outputs": [
    {
     "data": {
      "text/plain": [
       "array([[ 73,  72,  37,  48,  99,  77, 126, 105, 100,  51],\n",
       "       [  6,  63,  39,   5, 106, 103,   4,  29,  49, 107],\n",
       "       [115,  97,  64,  50, 111,  62, 100,  92,  22, 122],\n",
       "       [  0, 104,  35,  11,  46,   9, 134,  81,  60,  84],\n",
       "       [ 16,  78,  91,  81,  56, 124, 119, 130, 134,   2],\n",
       "       [ 29,  71,  54, 106,  52, 107, 109,  66, 101, 103],\n",
       "       [  0,  67,  46,  11,   9,  59, 118,  10,  60,  45],\n",
       "       [ 20,  57,  46,  11,  30,   2,   0,  10, 118, 123],\n",
       "       [ 76,  75,   2,  40, 134,  11, 105,   0, 118,  30],\n",
       "       [ 38,  74, 121,  55, 128,  76,  17, 130,  43,  90],\n",
       "       [ 40,  76,  88,  81, 128, 121,  55,  60, 130,  59],\n",
       "       [ 66,   7,   8,  55,  42,  94,  80, 131,  56, 125],\n",
       "       [ 49, 103,  94, 116,  29, 105,  24,  54,  71,   0],\n",
       "       [106,  54,   5,  52, 107,  94,  29,  71, 125, 131],\n",
       "       [ 45,  46,   2,   0,  20, 105,  11,  12,  75,  10],\n",
       "       [ 57,  60, 113, 118, 134,  11, 102,  46,  30, 121],\n",
       "       [ 91, 124,  56,  78, 119,  16,  81, 104,   2,   8],\n",
       "       [118, 123, 105,   0,  20,  46,  11,  41,  75,  21],\n",
       "       [ 71,  29,  54,   5, 107, 106,  94,  52,  75, 109],\n",
       "       [ 56,  91, 130,  78, 119, 128,  55,  76, 104,  46],\n",
       "       [  0,   9,  46, 118,  11,  60,  20,  57,  91,  35],\n",
       "       [  9, 112,  60,  11,  57,   0,  10,  59,  45,  23],\n",
       "       [116,  71,  42,   0,  59,  30,  75,  11,  29, 105]])"
      ]
     },
     "execution_count": 37,
     "metadata": {},
     "output_type": "execute_result"
    }
   ],
   "source": [
    "ann_relative"
   ]
  },
  {
   "cell_type": "code",
   "execution_count": 38,
   "id": "11d1927d-4aec-4dbe-bb38-ca2f78d51282",
   "metadata": {},
   "outputs": [
    {
     "data": {
      "text/plain": [
       "array([], dtype=int64)"
      ]
     },
     "execution_count": 38,
     "metadata": {},
     "output_type": "execute_result"
    }
   ],
   "source": [
    "cat_idxs"
   ]
  },
  {
   "cell_type": "code",
   "execution_count": 39,
   "id": "8916df74-3a54-43dc-b842-28acb9c35e28",
   "metadata": {},
   "outputs": [
    {
     "ename": "IndexError",
     "evalue": "index 73 is out of bounds for axis 0 with size 2",
     "output_type": "error",
     "traceback": [
      "\u001b[0;31m---------------------------------------------------------------------------\u001b[0m",
      "\u001b[0;31mIndexError\u001b[0m                                Traceback (most recent call last)",
      "\u001b[0;32m<ipython-input-39-261bde9cc9d8>\u001b[0m in \u001b[0;36m<module>\u001b[0;34m\u001b[0m\n\u001b[0;32m----> 1\u001b[0;31m \u001b[0mnp\u001b[0m\u001b[0;34m.\u001b[0m\u001b[0marray\u001b[0m\u001b[0;34m(\u001b[0m\u001b[0mbucket_obj_indexes\u001b[0m\u001b[0;34m)\u001b[0m\u001b[0;34m[\u001b[0m\u001b[0mann_relative\u001b[0m\u001b[0;34m]\u001b[0m\u001b[0;34m\u001b[0m\u001b[0m\n\u001b[0m",
      "\u001b[0;31mIndexError\u001b[0m: index 73 is out of bounds for axis 0 with size 2"
     ]
    }
   ],
   "source": [
    "np.array(bucket_obj_indexes)[ann_relative]"
   ]
  },
  {
   "cell_type": "code",
   "execution_count": null,
   "id": "ba62cdb5-6f58-4ed4-9548-f06d0f6c5186",
   "metadata": {},
   "outputs": [],
   "source": []
  },
  {
   "cell_type": "code",
   "execution_count": 23,
   "id": "af36ed73-a9e3-49cb-a24e-a1420645bf4b",
   "metadata": {},
   "outputs": [
    {
     "name": "stderr",
     "output_type": "stream",
     "text": [
      "  0%|          | 0/97 [00:00<?, ?it/s]"
     ]
    },
    {
     "name": "stdout",
     "output_type": "stream",
     "text": [
      "37 (3095, 33)\n",
      "(176, 768)\n"
     ]
    },
    {
     "name": "stderr",
     "output_type": "stream",
     "text": [
      "\n"
     ]
    }
   ],
   "source": [
    "from sklearn.metrics.pairwise import cosine_similarity\n",
    "for cat, g in tqdm(data.groupby('category')):\n",
    "    bucket = 1\n",
    "    print(cat, g.shape)\n",
    "    cat_idxs = np.where(pred_proba_categories[:, bucket] == cat)[0]\n",
    "    bucket_obj_indexes = g.index\n",
    "    print(queries_search[cat_idxs].shape)\n",
    "    x = queries_search[cat_idxs]\n",
    "    y = data_search.loc[bucket_obj_indexes]\n",
    "    pure_arr = 1-cosine_similarity(x, y)\n",
    "    break"
   ]
  },
  {
   "cell_type": "code",
   "execution_count": 24,
   "id": "6d833e47-65ec-4a07-b810-61709c788ff9",
   "metadata": {},
   "outputs": [],
   "source": [
    "def pairwise_cosine_threshold(x, y, threshold, cat_idxs, k=10):\n",
    "    s = time.time()\n",
    "    result = 1-cosine_similarity(x, y)\n",
    "    t_pure_seq_search = time.time() - s\n",
    "    # create an array of consisten shapes\n",
    "    #print(result.shape)\n",
    "    #print(threshold.shape, threshold[cat_idxs].shape)\n",
    "    thresh_consistent = np.repeat(threshold[cat_idxs, np.newaxis], result.shape[1], 1)\n",
    "    relevant_dists = np.where(result < thresh_consistent)\n",
    "    # filter the relevant object ids\n",
    "    try:\n",
    "        relevant_object_ids = np.unique(relevant_dists[1])\n",
    "        max_idx = relevant_object_ids.shape[0]\n",
    "        if max_idx == 0:\n",
    "            return None, t_pure_seq_search\n",
    "    except ValueError:\n",
    "        # There is no distance below the threshold, we can return\n",
    "        return None, t_pure_seq_search\n",
    "    max_idx = max_idx if max_idx > k else k\n",
    "    # output array filled with some large value\n",
    "    output_arr = np.full(shape=(result.shape[0], max_idx), fill_value=10_000, dtype=np.float)\n",
    "    #index_df = pd.DataFrame(relevant_dists[0])\n",
    "    #index_df = pd.DataFrame(relevant_dists[0], relevant_dists[1]).reset_index()\n",
    "    # create indexes to store the relevant distances\n",
    "    #index_df['mapping'] = index_df.groupby('index').ngroup()\n",
    "    mapping = dict(zip(relevant_object_ids, np.arange(relevant_object_ids.shape[0])))\n",
    "    # tried also with np.vectorize, wasn't faster\n",
    "    output_arr_2nd_dim = np.array([mapping[x] for x in relevant_dists[1]])\n",
    "    to_be_added = result[relevant_dists[0], relevant_dists[1]]\n",
    "    # populate the output array\n",
    "    output_arr[relevant_dists[0], output_arr_2nd_dim] = to_be_added\n",
    "    return output_arr, relevant_object_ids, t_pure_seq_search\n"
   ]
  },
  {
   "cell_type": "code",
   "execution_count": 26,
   "id": "c8c20928-aeb4-4f8e-a59b-557abe967c45",
   "metadata": {},
   "outputs": [],
   "source": [
    "threshold_dist = dists.max(axis=1)"
   ]
  },
  {
   "cell_type": "code",
   "execution_count": 27,
   "id": "7a2bee36-7a43-4fb3-a9e9-f0dc4a22d035",
   "metadata": {},
   "outputs": [],
   "source": [
    "seq_search_dists = pairwise_cosine_threshold(\n",
    "    queries_search[cat_idxs],\n",
    "    data_search.loc[bucket_obj_indexes],\n",
    "    threshold_dist,\n",
    "    cat_idxs,\n",
    "    k\n",
    ")"
   ]
  },
  {
   "cell_type": "code",
   "execution_count": null,
   "id": "b0f1696e-e86a-4b24-811a-0e390f5c0835",
   "metadata": {},
   "outputs": [],
   "source": [
    "seq_search_dists"
   ]
  },
  {
   "cell_type": "code",
   "execution_count": 28,
   "id": "552d779a-e4f7-41a5-bf2b-3f47dacfb6cc",
   "metadata": {},
   "outputs": [
    {
     "data": {
      "text/plain": [
       "(176, 1242)"
      ]
     },
     "execution_count": 28,
     "metadata": {},
     "output_type": "execute_result"
    }
   ],
   "source": [
    "seq_search_dists[0].shape"
   ]
  },
  {
   "cell_type": "code",
   "execution_count": null,
   "id": "84b9c46f-de4b-4649-a21f-04868a2f5467",
   "metadata": {},
   "outputs": [],
   "source": [
    "bucket_obj_indexes_old = bucket_obj_indexes"
   ]
  },
  {
   "cell_type": "code",
   "execution_count": 74,
   "id": "46ef99ed-af2f-47d0-bf2d-41565af5f599",
   "metadata": {},
   "outputs": [],
   "source": [
    "bucket_obj_indexes = bucket_obj_indexes[seq_search_dists[1]]"
   ]
  },
  {
   "cell_type": "code",
   "execution_count": 50,
   "id": "f4015093-061e-4ac6-abba-21a174ccb470",
   "metadata": {},
   "outputs": [
    {
     "data": {
      "text/plain": [
       "Int64Index([   63,   111,   124,   134,   266,   317,   341,   357,   394,\n",
       "              424,\n",
       "            ...\n",
       "            99610, 99656, 99687, 99689, 99699, 99700, 99701, 99716, 99722,\n",
       "            99945],\n",
       "           dtype='int64', length=3095)"
      ]
     },
     "execution_count": 50,
     "metadata": {},
     "output_type": "execute_result"
    }
   ],
   "source": [
    "bucket_obj_indexes_old"
   ]
  },
  {
   "cell_type": "code",
   "execution_count": 51,
   "id": "6cc6d0b1-d5e5-4d3d-ba3f-3e99d650b80e",
   "metadata": {},
   "outputs": [
    {
     "data": {
      "text/plain": [
       "Int64Index([  341,   538,   569,   895,  1229,  1526,  1575,  1747,  1786,\n",
       "             1864,\n",
       "            ...\n",
       "            98324, 98330, 98604, 98795, 99156, 99171, 99407, 99580, 99687,\n",
       "            99700],\n",
       "           dtype='int64', length=883)"
      ]
     },
     "execution_count": 51,
     "metadata": {},
     "output_type": "execute_result"
    }
   ],
   "source": [
    "bucket_obj_indexes"
   ]
  },
  {
   "cell_type": "code",
   "execution_count": 75,
   "id": "11e2af20-927f-4789-bdb2-7c01909a65a6",
   "metadata": {},
   "outputs": [],
   "source": [
    "seq_search_dists = seq_search_dists[0]"
   ]
  },
  {
   "cell_type": "code",
   "execution_count": 76,
   "id": "2a93e1f0-a35c-41fd-acd3-3f1bab15bf61",
   "metadata": {},
   "outputs": [
    {
     "data": {
      "text/plain": [
       "(176, 883)"
      ]
     },
     "execution_count": 76,
     "metadata": {},
     "output_type": "execute_result"
    }
   ],
   "source": [
    "seq_search_dists.shape"
   ]
  },
  {
   "cell_type": "code",
   "execution_count": 77,
   "id": "150ffe74-43f6-4dcb-b5ff-15075b0beed6",
   "metadata": {},
   "outputs": [],
   "source": [
    "ann_relative = seq_search_dists.argsort(kind='quicksort')[\n",
    "    :, :k if k < seq_search_dists.shape[1] else seq_search_dists.shape[1]\n",
    "]"
   ]
  },
  {
   "cell_type": "code",
   "execution_count": 78,
   "id": "e7fd7c15-388c-4f08-a7a1-aa34276c204f",
   "metadata": {},
   "outputs": [
    {
     "data": {
      "text/plain": [
       "array([[662, 417, 225, ..., 370, 824, 585],\n",
       "       [ 20, 214, 289, ..., 516, 228, 119],\n",
       "       [216,  48, 544, ..., 867, 256, 585],\n",
       "       ...,\n",
       "       [667, 222, 208, ..., 156, 783,   0],\n",
       "       [719, 288, 138, ..., 716, 372, 290],\n",
       "       [731, 249, 214, ..., 642, 514,   0]])"
      ]
     },
     "execution_count": 78,
     "metadata": {},
     "output_type": "execute_result"
    }
   ],
   "source": [
    "ann_relative"
   ]
  },
  {
   "cell_type": "code",
   "execution_count": 56,
   "id": "c5261cea-d3b7-4677-915c-9b292c0c9e67",
   "metadata": {},
   "outputs": [
    {
     "data": {
      "text/plain": [
       "array([[79172, 74173, 71849, ..., 80243, 21472, 70410],\n",
       "       [14347, 82848, 79302, ..., 53783, 84845, 78536],\n",
       "       [29237,  4207, 88213, ..., 12212, 35067, 44556],\n",
       "       ...,\n",
       "       [47854,  4982, 75313, ..., 33171, 50438, 78418],\n",
       "       [26945, 85710, 39351, ..., 97137, 77608, 83898],\n",
       "       [24525,  3924, 54312, ..., 17209,  8939, 67996]], dtype=uint32)"
      ]
     },
     "execution_count": 56,
     "metadata": {},
     "output_type": "execute_result"
    }
   ],
   "source": [
    "nns"
   ]
  },
  {
   "cell_type": "code",
   "execution_count": null,
   "id": "383a2d18-bfbe-4087-928b-4d2b5de1abaa",
   "metadata": {},
   "outputs": [],
   "source": [
    "np.array(bucket_obj_indexes)[ann_relative]"
   ]
  },
  {
   "cell_type": "code",
   "execution_count": 57,
   "id": "bbee6425-081c-4ae1-9e99-b8d8c3c20e8e",
   "metadata": {},
   "outputs": [
    {
     "data": {
      "text/plain": [
       "False"
      ]
     },
     "execution_count": 57,
     "metadata": {},
     "output_type": "execute_result"
    }
   ],
   "source": [
    "15735 in bucket_obj_indexes_old"
   ]
  },
  {
   "cell_type": "code",
   "execution_count": 58,
   "id": "b1a9d0cc-0c9f-4505-b4e1-5b6f5f3cd693",
   "metadata": {},
   "outputs": [],
   "source": [
    "ann_relative_old = pure_arr.argsort(kind='quicksort')[\n",
    "    :, :k if k < pure_arr.shape[1] else pure_arr.shape[1]\n",
    "]"
   ]
  },
  {
   "cell_type": "code",
   "execution_count": 59,
   "id": "b9198a7e-76be-48db-8cdd-0d0ac696de38",
   "metadata": {},
   "outputs": [
    {
     "data": {
      "text/plain": [
       "array([[74129, 44945, 25198, ..., 39394, 93083, 98067],\n",
       "       [ 3423, 23584, 31903, ..., 56226, 25536, 13676],\n",
       "       [23673,  6535, 58984, ..., 97746, 28616, 63270],\n",
       "       ...,\n",
       "       [74487, 24829, 23029, ..., 17039, 88277, 74393],\n",
       "       [80945, 31819, 15405, ..., 80576, 39503, 32064],\n",
       "       [82118, 28022, 23584, ..., 71210, 56088, 56675]])"
      ]
     },
     "execution_count": 59,
     "metadata": {},
     "output_type": "execute_result"
    }
   ],
   "source": [
    "np.array(bucket_obj_indexes_old)[ann_relative_old]"
   ]
  },
  {
   "cell_type": "code",
   "execution_count": 60,
   "id": "ff663f4e-eae1-407a-afdc-770400d285cb",
   "metadata": {},
   "outputs": [
    {
     "data": {
      "text/plain": [
       "array([[2341, 1427,  803, ..., 1256, 2899, 3041],\n",
       "       [  86,  749, 1033, ..., 1782,  820,  422],\n",
       "       [ 755,  190, 1872, ..., 3030,  912, 1980],\n",
       "       ...,\n",
       "       [2351,  786,  731, ...,  528, 2745, 2349],\n",
       "       [2535, 1031,  472, ..., 2526, 1265, 1036],\n",
       "       [2569,  893,  749, ..., 2253, 1777, 1796]])"
      ]
     },
     "execution_count": 60,
     "metadata": {},
     "output_type": "execute_result"
    }
   ],
   "source": [
    "ann_relative_old"
   ]
  },
  {
   "cell_type": "code",
   "execution_count": 61,
   "id": "b0ab6d23-d86f-493e-9ff5-9323f9c73e63",
   "metadata": {},
   "outputs": [
    {
     "data": {
      "text/plain": [
       "array([[  7,   4,   1, ...,   3,   8, 592],\n",
       "       [  0,   4,   6, ...,   9,   5,   3],\n",
       "       [  1,   0,   4, ...,   8,   3, 592],\n",
       "       ...,\n",
       "       [  7,   3,   2, ...,   1,   8, 592],\n",
       "       [  9,   2,   0, ...,   8,   5,   3],\n",
       "       [  7,   2,   1, ...,   6,   4, 592]])"
      ]
     },
     "execution_count": 61,
     "metadata": {},
     "output_type": "execute_result"
    }
   ],
   "source": [
    "ann_relative"
   ]
  },
  {
   "cell_type": "code",
   "execution_count": 63,
   "id": "04945011-ea00-4298-9e2f-e9f350952298",
   "metadata": {},
   "outputs": [
    {
     "data": {
      "text/plain": [
       "74129"
      ]
     },
     "execution_count": 63,
     "metadata": {},
     "output_type": "execute_result"
    }
   ],
   "source": [
    "bucket_obj_indexes_old[2341]"
   ]
  },
  {
   "cell_type": "code",
   "execution_count": 64,
   "id": "3d9f823c-a04c-4e23-8d58-46ce42a7b956",
   "metadata": {},
   "outputs": [
    {
     "data": {
      "text/plain": [
       "1747"
      ]
     },
     "execution_count": 64,
     "metadata": {},
     "output_type": "execute_result"
    }
   ],
   "source": [
    "bucket_obj_indexes[7]"
   ]
  },
  {
   "cell_type": "code",
   "execution_count": 65,
   "id": "1ece9245-b228-4d81-86ea-8e0eb726511c",
   "metadata": {},
   "outputs": [
    {
     "data": {
      "text/plain": [
       "True"
      ]
     },
     "execution_count": 65,
     "metadata": {},
     "output_type": "execute_result"
    }
   ],
   "source": [
    "74129 in bucket_obj_indexes"
   ]
  },
  {
   "cell_type": "code",
   "execution_count": 66,
   "id": "5de8196c-fd57-4580-9756-ba8ad5ddb441",
   "metadata": {},
   "outputs": [
    {
     "data": {
      "text/plain": [
       "Int64Index([  341,   538,   569,   895,  1229,  1526,  1575,  1747,  1786,\n",
       "             1864,\n",
       "            ...\n",
       "            98324, 98330, 98604, 98795, 99156, 99171, 99407, 99580, 99687,\n",
       "            99700],\n",
       "           dtype='int64', length=883)"
      ]
     },
     "execution_count": 66,
     "metadata": {},
     "output_type": "execute_result"
    }
   ],
   "source": [
    "bucket_obj_indexes"
   ]
  },
  {
   "cell_type": "code",
   "execution_count": null,
   "id": "b6f3db21-1a4a-4622-b9d7-5571d63198ae",
   "metadata": {},
   "outputs": [],
   "source": [
    "pure_arr"
   ]
  },
  {
   "cell_type": "code",
   "execution_count": null,
   "id": "40b7a940-561c-4ec3-ba31-8e787fe99f8f",
   "metadata": {},
   "outputs": [],
   "source": []
  },
  {
   "cell_type": "code",
   "execution_count": null,
   "id": "27094de6-13e0-4ecc-b660-20ad5835430a",
   "metadata": {},
   "outputs": [],
   "source": []
  },
  {
   "cell_type": "code",
   "execution_count": null,
   "id": "6afca485-f2ed-4f7f-be0b-6110f077a6f3",
   "metadata": {},
   "outputs": [],
   "source": []
  },
  {
   "cell_type": "code",
   "execution_count": null,
   "id": "faa737bd-d953-4bca-b688-ea3c01b4df66",
   "metadata": {},
   "outputs": [],
   "source": []
  },
  {
   "cell_type": "markdown",
   "id": "ff3c88c2-6016-4f49-864f-9eabcf75704f",
   "metadata": {
    "tags": []
   },
   "source": [
    "##### Objective: beat the time of:"
   ]
  },
  {
   "cell_type": "code",
   "execution_count": 25,
   "id": "730932cd-927d-4f19-959d-756383aaca0a",
   "metadata": {},
   "outputs": [
    {
     "data": {
      "text/plain": [
       "Int64Index([   63,   111,   124,   134,   266,   317,   341,   357,   394,\n",
       "              424,\n",
       "            ...\n",
       "            99610, 99656, 99687, 99689, 99699, 99700, 99701, 99716, 99722,\n",
       "            99945],\n",
       "           dtype='int64', length=3095)"
      ]
     },
     "execution_count": 25,
     "metadata": {},
     "output_type": "execute_result"
    }
   ],
   "source": [
    "bucket_obj_indexes"
   ]
  },
  {
   "cell_type": "code",
   "execution_count": 31,
   "id": "1fa15e74-28bd-463a-a9a1-4bccf2c03874",
   "metadata": {},
   "outputs": [
    {
     "data": {
      "text/plain": [
       "Int64Index([  341,   538,   569,   895,  1229,  1526,  1575,  1747,  1786,\n",
       "             1864,\n",
       "            ...\n",
       "            98324, 98330, 98604, 98795, 99156, 99171, 99407, 99580, 99687,\n",
       "            99700],\n",
       "           dtype='int64', length=883)"
      ]
     },
     "execution_count": 31,
     "metadata": {},
     "output_type": "execute_result"
    }
   ],
   "source": [
    "bucket_obj_indexes[np.unique(relevant_dists[1])]"
   ]
  },
  {
   "cell_type": "code",
   "execution_count": 32,
   "id": "aae86f5a-5736-4531-92ea-f485a05c662a",
   "metadata": {},
   "outputs": [
    {
     "data": {
      "text/plain": [
       "array([  341,   538,   569,   895,  1229,  1526,  1575,  1747,  1786,\n",
       "        1864,  2047,  2339,  2428,  2516,  2650,  2863,  2865,  2992,\n",
       "        3087,  3296,  3423,  3430,  3445,  3499,  3510,  3587,  3643,\n",
       "        3668,  3672,  3897,  4058,  4269,  4334,  4616,  4669,  4824,\n",
       "        5011,  5100,  5181,  5461,  5486,  5511,  5549,  5604,  5899,\n",
       "        6000,  6150,  6166,  6535,  6723,  6738,  6768,  6813,  6871,\n",
       "        7159,  7372,  7494,  7635,  7690,  7717,  7732,  7734,  7932,\n",
       "        8004,  8166,  8311,  8668,  8690,  8863,  8919,  8962,  8979,\n",
       "        9176,  9185,  9432,  9523,  9624,  9942,  9974, 10154, 10185,\n",
       "       10210, 10378, 10411, 10566, 10573, 10899, 11145, 11327, 11509,\n",
       "       11542, 11660, 11702, 11800, 11849, 11899, 11996, 12198, 12215,\n",
       "       12220, 12248, 12353, 12473, 12514, 12526, 12551, 12574, 12576,\n",
       "       13152, 13175, 13242, 13337, 13339, 13361, 13438, 13453, 13529,\n",
       "       13625, 13669, 13676, 13703, 13862, 13866, 14044, 14089, 14118,\n",
       "       14253, 14281, 14522, 14553, 14621, 14896, 14945, 14985, 15125,\n",
       "       15231, 15244, 15262, 15405, 15515, 15733, 15842, 15929, 16229,\n",
       "       16277, 16354, 16421, 16454, 16536, 16558, 16559, 16747, 16842,\n",
       "       16974, 16981, 16990, 17039, 17186, 17483, 17549, 17732, 17794,\n",
       "       17997, 18133, 18195, 18330, 18414, 18681, 18709, 18851, 18867,\n",
       "       18881, 19098, 19298, 19391, 19417, 19577, 19668, 19696, 19757,\n",
       "       19862, 19947, 20025, 20095, 20155, 20190, 20209, 20278, 20366,\n",
       "       20610, 20648, 20808, 20958, 21065, 21167, 21248, 21509, 21534,\n",
       "       21551, 21620, 21758, 22000, 22618, 22699, 22769, 22804, 22827,\n",
       "       22942, 23029, 23060, 23082, 23508, 23531, 23573, 23584, 23646,\n",
       "       23673, 23897, 23915, 23967, 24244, 24268, 24829, 24926, 25135,\n",
       "       25198, 25332, 25520, 25536, 25873, 25965, 26043, 26483, 26604,\n",
       "       26639, 26669, 26744, 26986, 27056, 27131, 27183, 27253, 27324,\n",
       "       27361, 27397, 27482, 27567, 27683, 28013, 28022, 28026, 28133,\n",
       "       28164, 28287, 28308, 28383, 28616, 28687, 28826, 28911, 29122,\n",
       "       29302, 29329, 29436, 29469, 29564, 29718, 29747, 29855, 30023,\n",
       "       30064, 30154, 30350, 30399, 30619, 30682, 30686, 30693, 30716,\n",
       "       30831, 30841, 31171, 31225, 31249, 31334, 31395, 31612, 31674,\n",
       "       31819, 31903, 32064, 32175, 32366, 32490, 32676, 32700, 32724,\n",
       "       32855, 33001, 33015, 33040, 33247, 33261, 33282, 33327, 33354,\n",
       "       33408, 33487, 33508, 33607, 33678, 33759, 33966, 34017, 34061,\n",
       "       34127, 34247, 34406, 34471, 34573, 34585, 34684, 34697, 34847,\n",
       "       34895, 34909, 35015, 35083, 35163, 35399, 35471, 35556, 35644,\n",
       "       35659, 35680, 35763, 35929, 35958, 36113, 36535, 36563, 36720,\n",
       "       36807, 36934, 37213, 37422, 37427, 37436, 37495, 37670, 37800,\n",
       "       37811, 37940, 37949, 38147, 38182, 38195, 38347, 38455, 38465,\n",
       "       38547, 38681, 38821, 38872, 38981, 39004, 39211, 39240, 39253,\n",
       "       39328, 39394, 39430, 39503, 39593, 39994, 40100, 40123, 40140,\n",
       "       40482, 40556, 40630, 40647, 40775, 40827, 40847, 40927, 41260,\n",
       "       41802, 41907, 41940, 42031, 42158, 42233, 42311, 42422, 42426,\n",
       "       42433, 42568, 42608, 42644, 42656, 42727, 42840, 43064, 43150,\n",
       "       43435, 43542, 43598, 43600, 43681, 43758, 44047, 44097, 44127,\n",
       "       44419, 44698, 44791, 44945, 45062, 45084, 45267, 45665, 45698,\n",
       "       45855, 45879, 45914, 45947, 45955, 46064, 46254, 46256, 46589,\n",
       "       46655, 47083, 47086, 47170, 47195, 47288, 47302, 47388, 47544,\n",
       "       47719, 47808, 47817, 48106, 48150, 48253, 48385, 48465, 48539,\n",
       "       48792, 48823, 48971, 49122, 49273, 49462, 49477, 49654, 49699,\n",
       "       49786, 49869, 49893, 49900, 49932, 49982, 50032, 50113, 50152,\n",
       "       50296, 50551, 50573, 50618, 50732, 51205, 51352, 51383, 51521,\n",
       "       52118, 52296, 52500, 52514, 52608, 52698, 52720, 52807, 52891,\n",
       "       52956, 53033, 53050, 53126, 53158, 53248, 53273, 53722, 53750,\n",
       "       53785, 53903, 54011, 54106, 54133, 54134, 54519, 55035, 55092,\n",
       "       55350, 55361, 55492, 55495, 55584, 55591, 55675, 55696, 55752,\n",
       "       55962, 56088, 56152, 56226, 56407, 56492, 56549, 56600, 56637,\n",
       "       56675, 56691, 56786, 56841, 56852, 56895, 56990, 57033, 57143,\n",
       "       57170, 57384, 57386, 57427, 57702, 57841, 57933, 57972, 58259,\n",
       "       58335, 58501, 58520, 58730, 58984, 59027, 59071, 59357, 59601,\n",
       "       59808, 60068, 60535, 60725, 60768, 61088, 61489, 61776, 61778,\n",
       "       61963, 62245, 62453, 62460, 62548, 62708, 62716, 62940, 63046,\n",
       "       63270, 63344, 63664, 63785, 63792, 63863, 63979, 64061, 64155,\n",
       "       64164, 64306, 64376, 64461, 64519, 64596, 64657, 64823, 65251,\n",
       "       65600, 65685, 65890, 65894, 65920, 65959, 66057, 66184, 66197,\n",
       "       66273, 66293, 66319, 66429, 66439, 66511, 66604, 66658, 66671,\n",
       "       66690, 66699, 66859, 66873, 67107, 67329, 67417, 67452, 67554,\n",
       "       67614, 67890, 67920, 68512, 68644, 68779, 68789, 68841, 69000,\n",
       "       69084, 69118, 69180, 69226, 69586, 69656, 69732, 69791, 69819,\n",
       "       69902, 70107, 70184, 70641, 70656, 70743, 70775, 70882, 71001,\n",
       "       71029, 71081, 71106, 71210, 71322, 71404, 71629, 71676, 71764,\n",
       "       71822, 71870, 72176, 72668, 72704, 72721, 72760, 72830, 72954,\n",
       "       72997, 73029, 73679, 73738, 74041, 74129, 74336, 74346, 74393,\n",
       "       74418, 74487, 74684, 74698, 74787, 74909, 75026, 75207, 75227,\n",
       "       75327, 75337, 75926, 76084, 76132, 76145, 76240, 76425, 76552,\n",
       "       76580, 76596, 76722, 76945, 76953, 77096, 77240, 77505, 77620,\n",
       "       77659, 77794, 77890, 78166, 78215, 78417, 78442, 78874, 79004,\n",
       "       79069, 79144, 79384, 79422, 79522, 79586, 79603, 79648, 79705,\n",
       "       79880, 80323, 80353, 80476, 80551, 80576, 80786, 80907, 80945,\n",
       "       81055, 81057, 81127, 81377, 81475, 81690, 81705, 81888, 81902,\n",
       "       81993, 82025, 82118, 82126, 82370, 82559, 82776, 82878, 82923,\n",
       "       83014, 83059, 83465, 83707, 83712, 83866, 84009, 84131, 84220,\n",
       "       84298, 84418, 84477, 84510, 84536, 84546, 84697, 84730, 84884,\n",
       "       85049, 85094, 85122, 85373, 85427, 85921, 85929, 85963, 86069,\n",
       "       86234, 86378, 86463, 86554, 86732, 87027, 87137, 87211, 87240,\n",
       "       87308, 87395, 87483, 87635, 87638, 87833, 87869, 87946, 88219,\n",
       "       88277, 88614, 89078, 89102, 89223, 89286, 89499, 89781, 89917,\n",
       "       89934, 89939, 90076, 90226, 90439, 90545, 90570, 90620, 90748,\n",
       "       90768, 90981, 91092, 91174, 91219, 91263, 91367, 91427, 91667,\n",
       "       91682, 91688, 91690, 91989, 92030, 92167, 92254, 92456, 92709,\n",
       "       92723, 92762, 92796, 92888, 93035, 93083, 93363, 93368, 93621,\n",
       "       93805, 93969, 94046, 94105, 94129, 94151, 94183, 94186, 94240,\n",
       "       94269, 94564, 94572, 94611, 94698, 95001, 95523, 95665, 95725,\n",
       "       95737, 95769, 95807, 96155, 96261, 96278, 96314, 96446, 96457,\n",
       "       96515, 96516, 96596, 96629, 96848, 96939, 97125, 97130, 97542,\n",
       "       97553, 97561, 97614, 97746, 97794, 98027, 98067, 98203, 98260,\n",
       "       98324, 98330, 98604, 98795, 99156, 99171, 99407, 99580, 99687,\n",
       "       99700])"
      ]
     },
     "execution_count": 32,
     "metadata": {},
     "output_type": "execute_result"
    }
   ],
   "source": [
    "np.array(bucket_obj_indexes)[np.unique(relevant_dists[1])]"
   ]
  },
  {
   "cell_type": "code",
   "execution_count": 35,
   "id": "a87e7d33-6286-4de0-a8bb-c04f9a6eccd7",
   "metadata": {},
   "outputs": [
    {
     "name": "stdout",
     "output_type": "stream",
     "text": [
      "CPU times: user 33.8 ms, sys: 30 µs, total: 33.8 ms\n",
      "Wall time: 33.8 ms\n"
     ]
    }
   ],
   "source": [
    "%%time\n",
    "ann_relative = pure_arr.argsort(kind='quicksort')[\n",
    "    :, :10\n",
    "]"
   ]
  },
  {
   "cell_type": "code",
   "execution_count": 36,
   "id": "30fd4e2e-f5af-4e90-b6e2-7a509e5bddb7",
   "metadata": {},
   "outputs": [
    {
     "name": "stdout",
     "output_type": "stream",
     "text": [
      "CPU times: user 616 µs, sys: 11 µs, total: 627 µs\n",
      "Wall time: 632 µs\n"
     ]
    }
   ],
   "source": [
    "%%time\n",
    "max_dists = dists.max(axis=1)[cat_idxs]"
   ]
  },
  {
   "cell_type": "code",
   "execution_count": 37,
   "id": "142fe6b1-becf-4334-b48b-7589f4378e76",
   "metadata": {},
   "outputs": [
    {
     "data": {
      "text/plain": [
       "(176,)"
      ]
     },
     "execution_count": 37,
     "metadata": {},
     "output_type": "execute_result"
    }
   ],
   "source": [
    "max_dists.shape"
   ]
  },
  {
   "cell_type": "code",
   "execution_count": 128,
   "id": "6bfbbd0e-afcd-445c-b80f-881468d07e0a",
   "metadata": {},
   "outputs": [
    {
     "data": {
      "text/plain": [
       "(176, 3095)"
      ]
     },
     "execution_count": 128,
     "metadata": {},
     "output_type": "execute_result"
    }
   ],
   "source": [
    "pure_arr.shape"
   ]
  },
  {
   "cell_type": "code",
   "execution_count": 27,
   "id": "fa31a7b0-560c-4ede-a3ff-85142dc491cd",
   "metadata": {},
   "outputs": [
    {
     "name": "stdout",
     "output_type": "stream",
     "text": [
      "CPU times: user 2.66 ms, sys: 0 ns, total: 2.66 ms\n",
      "Wall time: 2.67 ms\n"
     ]
    }
   ],
   "source": [
    "%time thresh_consistent = np.repeat(dists.max(axis=1)[cat_idxs, np.newaxis], 3095, 1)"
   ]
  },
  {
   "cell_type": "code",
   "execution_count": 130,
   "id": "01895898-e6c6-429d-8a84-8ebc90ee06a0",
   "metadata": {},
   "outputs": [
    {
     "data": {
      "text/plain": [
       "array([[0.41322672, 0.41322672, 0.41322672, ..., 0.41322672, 0.41322672,\n",
       "        0.41322672],\n",
       "       [0.50706047, 0.50706047, 0.50706047, ..., 0.50706047, 0.50706047,\n",
       "        0.50706047],\n",
       "       [0.56162024, 0.56162024, 0.56162024, ..., 0.56162024, 0.56162024,\n",
       "        0.56162024],\n",
       "       ...,\n",
       "       [0.40540254, 0.40540254, 0.40540254, ..., 0.40540254, 0.40540254,\n",
       "        0.40540254],\n",
       "       [0.2505514 , 0.2505514 , 0.2505514 , ..., 0.2505514 , 0.2505514 ,\n",
       "        0.2505514 ],\n",
       "       [0.42306498, 0.42306498, 0.42306498, ..., 0.42306498, 0.42306498,\n",
       "        0.42306498]], dtype=float32)"
      ]
     },
     "execution_count": 130,
     "metadata": {},
     "output_type": "execute_result"
    }
   ],
   "source": [
    "thresh_consistent"
   ]
  },
  {
   "cell_type": "code",
   "execution_count": 30,
   "id": "7415f0b2-8e39-4251-8319-683ac2f4aee6",
   "metadata": {},
   "outputs": [],
   "source": [
    "relevant_dists = np.where(pure_arr < thresh_consistent)"
   ]
  },
  {
   "cell_type": "code",
   "execution_count": 135,
   "id": "c6433924-e6c9-4aed-9f65-a489bea903cf",
   "metadata": {},
   "outputs": [
    {
     "data": {
      "text/plain": [
       "(883,)"
      ]
     },
     "execution_count": 135,
     "metadata": {},
     "output_type": "execute_result"
    }
   ],
   "source": [
    "np.unique(relevant_dists[1]).shape"
   ]
  },
  {
   "cell_type": "code",
   "execution_count": 136,
   "id": "192c06bd-ae0b-480f-9af7-90043b72d4ac",
   "metadata": {},
   "outputs": [],
   "source": [
    "max_idx = np.unique(relevant_dists[1]).shape[0]"
   ]
  },
  {
   "cell_type": "code",
   "execution_count": 137,
   "id": "5180bec9-0004-43c4-80b8-4d9bfb46afce",
   "metadata": {},
   "outputs": [
    {
     "name": "stdout",
     "output_type": "stream",
     "text": [
      "CPU times: user 132 µs, sys: 6 µs, total: 138 µs\n",
      "Wall time: 143 µs\n"
     ]
    }
   ],
   "source": [
    "%time output_arr = np.full(shape=(result.shape[0], max_idx), fill_value=10_000, dtype=np.float)\n"
   ]
  },
  {
   "cell_type": "code",
   "execution_count": 141,
   "id": "15f21887-3a03-4ff1-bab4-a8e2fedb222c",
   "metadata": {},
   "outputs": [],
   "source": [
    "mapping = np.sort(np.unique(relevant_dists[1]))"
   ]
  },
  {
   "cell_type": "code",
   "execution_count": 144,
   "id": "6a83deda-bbf1-4c94-8ea1-3c64c8312aa9",
   "metadata": {},
   "outputs": [
    {
     "data": {
      "text/plain": [
       "(1672,)"
      ]
     },
     "execution_count": 144,
     "metadata": {},
     "output_type": "execute_result"
    }
   ],
   "source": [
    "to_be_added = result[relevant_dists[0], relevant_dists[1]]\n",
    "to_be_added.shape"
   ]
  },
  {
   "cell_type": "code",
   "execution_count": 157,
   "id": "d930da07-8927-4234-9059-3d09d5367dc9",
   "metadata": {},
   "outputs": [
    {
     "data": {
      "text/plain": [
       "array([0.38112549, 0.37429338, 0.38054658, ..., 0.42050421, 0.2800742 ,\n",
       "       0.37362603])"
      ]
     },
     "execution_count": 157,
     "metadata": {},
     "output_type": "execute_result"
    }
   ],
   "source": [
    "to_be_added"
   ]
  },
  {
   "cell_type": "code",
   "execution_count": 156,
   "id": "e506a499-6cb4-4e26-87e6-ef17eda4d294",
   "metadata": {},
   "outputs": [
    {
     "data": {
      "text/plain": [
       "array([[10000., 10000., 10000., ..., 10000., 10000., 10000.],\n",
       "       [10000., 10000., 10000., ..., 10000., 10000., 10000.],\n",
       "       [10000., 10000., 10000., ..., 10000., 10000., 10000.],\n",
       "       ...,\n",
       "       [10000., 10000., 10000., ..., 10000., 10000., 10000.],\n",
       "       [10000., 10000., 10000., ..., 10000., 10000., 10000.],\n",
       "       [10000., 10000., 10000., ..., 10000., 10000., 10000.]])"
      ]
     },
     "execution_count": 156,
     "metadata": {},
     "output_type": "execute_result"
    }
   ],
   "source": [
    "output_arr"
   ]
  },
  {
   "cell_type": "code",
   "execution_count": 147,
   "id": "e26fd52f-1a69-455c-95e4-20c3dd60cdf2",
   "metadata": {},
   "outputs": [
    {
     "data": {
      "text/plain": [
       "(176, 883)"
      ]
     },
     "execution_count": 147,
     "metadata": {},
     "output_type": "execute_result"
    }
   ],
   "source": [
    "output_arr.shape"
   ]
  },
  {
   "cell_type": "code",
   "execution_count": 155,
   "id": "300a69b9-bc41-4f1e-b8a8-e1413fb61522",
   "metadata": {},
   "outputs": [
    {
     "data": {
      "text/plain": [
       "(176,)"
      ]
     },
     "execution_count": 155,
     "metadata": {},
     "output_type": "execute_result"
    }
   ],
   "source": [
    "np.arange(output_arr.shape[0]).shape"
   ]
  },
  {
   "cell_type": "code",
   "execution_count": 165,
   "id": "e0ce57ae-6cc3-42a7-b17f-23f18dd1be26",
   "metadata": {},
   "outputs": [
    {
     "name": "stdout",
     "output_type": "stream",
     "text": [
      "CPU times: user 1.14 ms, sys: 58 µs, total: 1.2 ms\n",
      "Wall time: 1.21 ms\n"
     ]
    }
   ],
   "source": [
    "%%time\n",
    "index_df = pd.DataFrame(relevant_dists[0], relevant_dists[1]).reset_index()"
   ]
  },
  {
   "cell_type": "code",
   "execution_count": 175,
   "id": "3095ede6-ae38-485c-81f6-f4106592a2b8",
   "metadata": {},
   "outputs": [
    {
     "data": {
      "text/plain": [
       "array([ 433,  803,  932, ..., 2253, 2569, 2926])"
      ]
     },
     "execution_count": 175,
     "metadata": {},
     "output_type": "execute_result"
    }
   ],
   "source": [
    "index_df['index'].values"
   ]
  },
  {
   "cell_type": "code",
   "execution_count": 177,
   "id": "8e1e6fd0-d00c-4e46-a0d3-01573b9d2d35",
   "metadata": {},
   "outputs": [
    {
     "name": "stderr",
     "output_type": "stream",
     "text": [
      "/mnt/storage-brno11-elixir/home/tslaninakova/dynamic-lmi/dynamic-lmi-env/lib/python3.6/site-packages/ipykernel_launcher.py:1: DeprecationWarning: elementwise comparison failed; this will raise an error in the future.\n",
      "  \"\"\"Entry point for launching an IPython kernel.\n"
     ]
    },
    {
     "data": {
      "text/plain": [
       "(array([], dtype=int64),)"
      ]
     },
     "execution_count": 177,
     "metadata": {},
     "output_type": "execute_result"
    }
   ],
   "source": [
    "np.where(index_df['index'].values == mapping)#[0][0]"
   ]
  },
  {
   "cell_type": "code",
   "execution_count": 166,
   "id": "96a9c16b-b1a6-4bb9-8555-8073121f5186",
   "metadata": {},
   "outputs": [
    {
     "data": {
      "text/html": [
       "<div>\n",
       "<style scoped>\n",
       "    .dataframe tbody tr th:only-of-type {\n",
       "        vertical-align: middle;\n",
       "    }\n",
       "\n",
       "    .dataframe tbody tr th {\n",
       "        vertical-align: top;\n",
       "    }\n",
       "\n",
       "    .dataframe thead th {\n",
       "        text-align: right;\n",
       "    }\n",
       "</style>\n",
       "<table border=\"1\" class=\"dataframe\">\n",
       "  <thead>\n",
       "    <tr style=\"text-align: right;\">\n",
       "      <th></th>\n",
       "      <th>index</th>\n",
       "      <th>0</th>\n",
       "    </tr>\n",
       "  </thead>\n",
       "  <tbody>\n",
       "    <tr>\n",
       "      <th>0</th>\n",
       "      <td>433</td>\n",
       "      <td>0</td>\n",
       "    </tr>\n",
       "    <tr>\n",
       "      <th>1</th>\n",
       "      <td>803</td>\n",
       "      <td>0</td>\n",
       "    </tr>\n",
       "    <tr>\n",
       "      <th>2</th>\n",
       "      <td>932</td>\n",
       "      <td>0</td>\n",
       "    </tr>\n",
       "    <tr>\n",
       "      <th>3</th>\n",
       "      <td>1256</td>\n",
       "      <td>0</td>\n",
       "    </tr>\n",
       "    <tr>\n",
       "      <th>4</th>\n",
       "      <td>1427</td>\n",
       "      <td>0</td>\n",
       "    </tr>\n",
       "    <tr>\n",
       "      <th>...</th>\n",
       "      <td>...</td>\n",
       "      <td>...</td>\n",
       "    </tr>\n",
       "    <tr>\n",
       "      <th>1667</th>\n",
       "      <td>1777</td>\n",
       "      <td>175</td>\n",
       "    </tr>\n",
       "    <tr>\n",
       "      <th>1668</th>\n",
       "      <td>1854</td>\n",
       "      <td>175</td>\n",
       "    </tr>\n",
       "    <tr>\n",
       "      <th>1669</th>\n",
       "      <td>2253</td>\n",
       "      <td>175</td>\n",
       "    </tr>\n",
       "    <tr>\n",
       "      <th>1670</th>\n",
       "      <td>2569</td>\n",
       "      <td>175</td>\n",
       "    </tr>\n",
       "    <tr>\n",
       "      <th>1671</th>\n",
       "      <td>2926</td>\n",
       "      <td>175</td>\n",
       "    </tr>\n",
       "  </tbody>\n",
       "</table>\n",
       "<p>1672 rows × 2 columns</p>\n",
       "</div>"
      ],
      "text/plain": [
       "      index    0\n",
       "0       433    0\n",
       "1       803    0\n",
       "2       932    0\n",
       "3      1256    0\n",
       "4      1427    0\n",
       "...     ...  ...\n",
       "1667   1777  175\n",
       "1668   1854  175\n",
       "1669   2253  175\n",
       "1670   2569  175\n",
       "1671   2926  175\n",
       "\n",
       "[1672 rows x 2 columns]"
      ]
     },
     "execution_count": 166,
     "metadata": {},
     "output_type": "execute_result"
    }
   ],
   "source": [
    "%%time\n",
    "index_df['mapping'] = index_df.index.apply(lambda x: x)"
   ]
  },
  {
   "cell_type": "code",
   "execution_count": 183,
   "id": "47923382-06d8-449a-a579-ab55417c60fd",
   "metadata": {},
   "outputs": [
    {
     "name": "stdout",
     "output_type": "stream",
     "text": [
      "CPU times: user 2.36 ms, sys: 131 µs, total: 2.49 ms\n",
      "Wall time: 2.5 ms\n"
     ]
    }
   ],
   "source": [
    "%time index_df['mapping'] = index_df.groupby('index').ngroup()"
   ]
  },
  {
   "cell_type": "code",
   "execution_count": 184,
   "id": "76cfc693-3b75-4ec3-a89f-c633314ee59f",
   "metadata": {},
   "outputs": [
    {
     "data": {
      "text/html": [
       "<div>\n",
       "<style scoped>\n",
       "    .dataframe tbody tr th:only-of-type {\n",
       "        vertical-align: middle;\n",
       "    }\n",
       "\n",
       "    .dataframe tbody tr th {\n",
       "        vertical-align: top;\n",
       "    }\n",
       "\n",
       "    .dataframe thead th {\n",
       "        text-align: right;\n",
       "    }\n",
       "</style>\n",
       "<table border=\"1\" class=\"dataframe\">\n",
       "  <thead>\n",
       "    <tr style=\"text-align: right;\">\n",
       "      <th></th>\n",
       "      <th>index</th>\n",
       "      <th>0</th>\n",
       "      <th>mapping</th>\n",
       "    </tr>\n",
       "  </thead>\n",
       "  <tbody>\n",
       "    <tr>\n",
       "      <th>0</th>\n",
       "      <td>433</td>\n",
       "      <td>0</td>\n",
       "      <td>123</td>\n",
       "    </tr>\n",
       "    <tr>\n",
       "      <th>1</th>\n",
       "      <td>803</td>\n",
       "      <td>0</td>\n",
       "      <td>225</td>\n",
       "    </tr>\n",
       "    <tr>\n",
       "      <th>2</th>\n",
       "      <td>932</td>\n",
       "      <td>0</td>\n",
       "      <td>261</td>\n",
       "    </tr>\n",
       "    <tr>\n",
       "      <th>3</th>\n",
       "      <td>1256</td>\n",
       "      <td>0</td>\n",
       "      <td>370</td>\n",
       "    </tr>\n",
       "    <tr>\n",
       "      <th>4</th>\n",
       "      <td>1427</td>\n",
       "      <td>0</td>\n",
       "      <td>417</td>\n",
       "    </tr>\n",
       "    <tr>\n",
       "      <th>...</th>\n",
       "      <td>...</td>\n",
       "      <td>...</td>\n",
       "      <td>...</td>\n",
       "    </tr>\n",
       "    <tr>\n",
       "      <th>1667</th>\n",
       "      <td>1777</td>\n",
       "      <td>175</td>\n",
       "      <td>514</td>\n",
       "    </tr>\n",
       "    <tr>\n",
       "      <th>1668</th>\n",
       "      <td>1854</td>\n",
       "      <td>175</td>\n",
       "      <td>542</td>\n",
       "    </tr>\n",
       "    <tr>\n",
       "      <th>1669</th>\n",
       "      <td>2253</td>\n",
       "      <td>175</td>\n",
       "      <td>642</td>\n",
       "    </tr>\n",
       "    <tr>\n",
       "      <th>1670</th>\n",
       "      <td>2569</td>\n",
       "      <td>175</td>\n",
       "      <td>731</td>\n",
       "    </tr>\n",
       "    <tr>\n",
       "      <th>1671</th>\n",
       "      <td>2926</td>\n",
       "      <td>175</td>\n",
       "      <td>835</td>\n",
       "    </tr>\n",
       "  </tbody>\n",
       "</table>\n",
       "<p>1672 rows × 3 columns</p>\n",
       "</div>"
      ],
      "text/plain": [
       "      index    0  mapping\n",
       "0       433    0      123\n",
       "1       803    0      225\n",
       "2       932    0      261\n",
       "3      1256    0      370\n",
       "4      1427    0      417\n",
       "...     ...  ...      ...\n",
       "1667   1777  175      514\n",
       "1668   1854  175      542\n",
       "1669   2253  175      642\n",
       "1670   2569  175      731\n",
       "1671   2926  175      835\n",
       "\n",
       "[1672 rows x 3 columns]"
      ]
     },
     "execution_count": 184,
     "metadata": {},
     "output_type": "execute_result"
    }
   ],
   "source": [
    "index_df"
   ]
  },
  {
   "cell_type": "code",
   "execution_count": 187,
   "id": "5aee7149-e148-413e-b228-58b288e91102",
   "metadata": {},
   "outputs": [
    {
     "data": {
      "text/plain": [
       "(array([  0,   0,   0, ..., 175, 175, 175]),\n",
       " array([123, 225, 261, ..., 642, 731, 835]))"
      ]
     },
     "execution_count": 187,
     "metadata": {},
     "output_type": "execute_result"
    }
   ],
   "source": [
    "index_df[0].values, index_df['mapping'].values"
   ]
  },
  {
   "cell_type": "code",
   "execution_count": 185,
   "id": "6eaf66fb-1d3e-477f-b7d6-4879d4c71748",
   "metadata": {},
   "outputs": [],
   "source": [
    "output_arr[index_df[0].values, index_df['mapping'].values] = to_be_added"
   ]
  },
  {
   "cell_type": "code",
   "execution_count": 186,
   "id": "f2c26065-3928-4ba0-b94a-96d7ea4b236d",
   "metadata": {},
   "outputs": [
    {
     "data": {
      "text/plain": [
       "array([[10000., 10000., 10000., ..., 10000., 10000., 10000.],\n",
       "       [10000., 10000., 10000., ..., 10000., 10000., 10000.],\n",
       "       [10000., 10000., 10000., ..., 10000., 10000., 10000.],\n",
       "       ...,\n",
       "       [10000., 10000., 10000., ..., 10000., 10000., 10000.],\n",
       "       [10000., 10000., 10000., ..., 10000., 10000., 10000.],\n",
       "       [10000., 10000., 10000., ..., 10000., 10000., 10000.]])"
      ]
     },
     "execution_count": 186,
     "metadata": {},
     "output_type": "execute_result"
    }
   ],
   "source": [
    "output_arr"
   ]
  },
  {
   "cell_type": "code",
   "execution_count": 189,
   "id": "9b3bedb1-74a8-43e0-a66e-69eea27c3457",
   "metadata": {},
   "outputs": [
    {
     "name": "stdout",
     "output_type": "stream",
     "text": [
      "CPU times: user 3.58 ms, sys: 0 ns, total: 3.58 ms\n",
      "Wall time: 3.6 ms\n"
     ]
    },
    {
     "data": {
      "text/plain": [
       "array([[662, 417, 225, ..., 370, 824, 585],\n",
       "       [ 20, 214, 289, ..., 516, 228, 119],\n",
       "       [216,  48, 544, ..., 867, 256, 585],\n",
       "       ...,\n",
       "       [667, 222, 208, ..., 156, 783,   0],\n",
       "       [719, 288, 138, ..., 716, 372, 290],\n",
       "       [731, 249, 214, ..., 642, 514,   0]])"
      ]
     },
     "execution_count": 189,
     "metadata": {},
     "output_type": "execute_result"
    }
   ],
   "source": [
    "%%time\n",
    "ann_relative_2 = output_arr.argsort(kind='quicksort')[\n",
    "    :, :10\n",
    "]\n",
    "ann_relative_2"
   ]
  },
  {
   "cell_type": "code",
   "execution_count": 191,
   "id": "c6c011ed-929f-4520-ad26-ec05db13c0d8",
   "metadata": {},
   "outputs": [],
   "source": [
    "mapping_d = dict(zip(index_df['mapping'], index_df['index']))"
   ]
  },
  {
   "cell_type": "code",
   "execution_count": null,
   "id": "9bf6c7d3-3824-4096-8c93-48265b1bbe95",
   "metadata": {},
   "outputs": [],
   "source": [
    "mapping_ar = np.zeros(k.max()+1,dtype=v.dtype)"
   ]
  },
  {
   "cell_type": "code",
   "execution_count": 193,
   "id": "501a12a0-cdc4-4642-984b-cc46474ff30c",
   "metadata": {},
   "outputs": [
    {
     "ename": "TypeError",
     "evalue": "unhashable type: 'numpy.ndarray'",
     "output_type": "error",
     "traceback": [
      "\u001b[0;31m---------------------------------------------------------------------------\u001b[0m",
      "\u001b[0;31mTypeError\u001b[0m                                 Traceback (most recent call last)",
      "\u001b[0;32m<ipython-input-193-65ad3b051354>\u001b[0m in \u001b[0;36m<module>\u001b[0;34m\u001b[0m\n\u001b[0;32m----> 1\u001b[0;31m \u001b[0mmapping_d\u001b[0m\u001b[0;34m[\u001b[0m\u001b[0mann_relative_2\u001b[0m\u001b[0;34m]\u001b[0m\u001b[0;34m\u001b[0m\u001b[0m\n\u001b[0m",
      "\u001b[0;31mTypeError\u001b[0m: unhashable type: 'numpy.ndarray'"
     ]
    }
   ],
   "source": [
    "mapping_d[ann_relative_2]"
   ]
  },
  {
   "cell_type": "code",
   "execution_count": 199,
   "id": "c08c07ce-0001-47e4-ade1-3166b47e37ed",
   "metadata": {},
   "outputs": [],
   "source": [
    "idx = np.nonzero(mapping_d.keys() == ann_relative_2[:,None])[1]"
   ]
  },
  {
   "cell_type": "code",
   "execution_count": 202,
   "id": "f0c05edc-9fc4-4e84-8ac6-baccce3cb3dc",
   "metadata": {},
   "outputs": [],
   "source": [
    "out = np.asarray(mapping_d.values())"
   ]
  },
  {
   "cell_type": "code",
   "execution_count": 203,
   "id": "22df3f92-7b0a-478c-80f5-7f44d1e3f38c",
   "metadata": {},
   "outputs": [
    {
     "data": {
      "text/plain": [
       "()"
      ]
     },
     "execution_count": 203,
     "metadata": {},
     "output_type": "execute_result"
    }
   ],
   "source": [
    "out.shape"
   ]
  },
  {
   "cell_type": "code",
   "execution_count": 200,
   "id": "3cd00afa-55bd-4ce2-aee6-b8658774d956",
   "metadata": {},
   "outputs": [
    {
     "data": {
      "text/plain": [
       "(0,)"
      ]
     },
     "execution_count": 200,
     "metadata": {},
     "output_type": "execute_result"
    }
   ],
   "source": [
    "idx.shape"
   ]
  },
  {
   "cell_type": "code",
   "execution_count": 195,
   "id": "f434060f-01bc-487d-abd5-b3cba386be25",
   "metadata": {},
   "outputs": [
    {
     "ename": "ValueError",
     "evalue": "object of too small depth for desired array",
     "output_type": "error",
     "traceback": [
      "\u001b[0;31m---------------------------------------------------------------------------\u001b[0m",
      "\u001b[0;31mValueError\u001b[0m                                Traceback (most recent call last)",
      "\u001b[0;32m<timed exec>\u001b[0m in \u001b[0;36m<module>\u001b[0;34m\u001b[0m\n",
      "\u001b[0;32m<__array_function__ internals>\u001b[0m in \u001b[0;36msearchsorted\u001b[0;34m(*args, **kwargs)\u001b[0m\n",
      "\u001b[0;32m/mnt/storage-brno11-elixir/home/tslaninakova/dynamic-lmi/dynamic-lmi-env/lib/python3.6/site-packages/numpy/core/fromnumeric.py\u001b[0m in \u001b[0;36msearchsorted\u001b[0;34m(a, v, side, sorter)\u001b[0m\n\u001b[1;32m   1341\u001b[0m \u001b[0;34m\u001b[0m\u001b[0m\n\u001b[1;32m   1342\u001b[0m     \"\"\"\n\u001b[0;32m-> 1343\u001b[0;31m     \u001b[0;32mreturn\u001b[0m \u001b[0m_wrapfunc\u001b[0m\u001b[0;34m(\u001b[0m\u001b[0ma\u001b[0m\u001b[0;34m,\u001b[0m \u001b[0;34m'searchsorted'\u001b[0m\u001b[0;34m,\u001b[0m \u001b[0mv\u001b[0m\u001b[0;34m,\u001b[0m \u001b[0mside\u001b[0m\u001b[0;34m=\u001b[0m\u001b[0mside\u001b[0m\u001b[0;34m,\u001b[0m \u001b[0msorter\u001b[0m\u001b[0;34m=\u001b[0m\u001b[0msorter\u001b[0m\u001b[0;34m)\u001b[0m\u001b[0;34m\u001b[0m\u001b[0m\n\u001b[0m\u001b[1;32m   1344\u001b[0m \u001b[0;34m\u001b[0m\u001b[0m\n\u001b[1;32m   1345\u001b[0m \u001b[0;34m\u001b[0m\u001b[0m\n",
      "\u001b[0;32m/mnt/storage-brno11-elixir/home/tslaninakova/dynamic-lmi/dynamic-lmi-env/lib/python3.6/site-packages/numpy/core/fromnumeric.py\u001b[0m in \u001b[0;36m_wrapfunc\u001b[0;34m(obj, method, *args, **kwds)\u001b[0m\n\u001b[1;32m     53\u001b[0m     \u001b[0mbound\u001b[0m \u001b[0;34m=\u001b[0m \u001b[0mgetattr\u001b[0m\u001b[0;34m(\u001b[0m\u001b[0mobj\u001b[0m\u001b[0;34m,\u001b[0m \u001b[0mmethod\u001b[0m\u001b[0;34m,\u001b[0m \u001b[0;32mNone\u001b[0m\u001b[0;34m)\u001b[0m\u001b[0;34m\u001b[0m\u001b[0m\n\u001b[1;32m     54\u001b[0m     \u001b[0;32mif\u001b[0m \u001b[0mbound\u001b[0m \u001b[0;32mis\u001b[0m \u001b[0;32mNone\u001b[0m\u001b[0;34m:\u001b[0m\u001b[0;34m\u001b[0m\u001b[0m\n\u001b[0;32m---> 55\u001b[0;31m         \u001b[0;32mreturn\u001b[0m \u001b[0m_wrapit\u001b[0m\u001b[0;34m(\u001b[0m\u001b[0mobj\u001b[0m\u001b[0;34m,\u001b[0m \u001b[0mmethod\u001b[0m\u001b[0;34m,\u001b[0m \u001b[0;34m*\u001b[0m\u001b[0margs\u001b[0m\u001b[0;34m,\u001b[0m \u001b[0;34m**\u001b[0m\u001b[0mkwds\u001b[0m\u001b[0;34m)\u001b[0m\u001b[0;34m\u001b[0m\u001b[0m\n\u001b[0m\u001b[1;32m     56\u001b[0m \u001b[0;34m\u001b[0m\u001b[0m\n\u001b[1;32m     57\u001b[0m     \u001b[0;32mtry\u001b[0m\u001b[0;34m:\u001b[0m\u001b[0;34m\u001b[0m\u001b[0m\n",
      "\u001b[0;32m/mnt/storage-brno11-elixir/home/tslaninakova/dynamic-lmi/dynamic-lmi-env/lib/python3.6/site-packages/numpy/core/fromnumeric.py\u001b[0m in \u001b[0;36m_wrapit\u001b[0;34m(obj, method, *args, **kwds)\u001b[0m\n\u001b[1;32m     42\u001b[0m     \u001b[0;32mexcept\u001b[0m \u001b[0mAttributeError\u001b[0m\u001b[0;34m:\u001b[0m\u001b[0;34m\u001b[0m\u001b[0m\n\u001b[1;32m     43\u001b[0m         \u001b[0mwrap\u001b[0m \u001b[0;34m=\u001b[0m \u001b[0;32mNone\u001b[0m\u001b[0;34m\u001b[0m\u001b[0m\n\u001b[0;32m---> 44\u001b[0;31m     \u001b[0mresult\u001b[0m \u001b[0;34m=\u001b[0m \u001b[0mgetattr\u001b[0m\u001b[0;34m(\u001b[0m\u001b[0masarray\u001b[0m\u001b[0;34m(\u001b[0m\u001b[0mobj\u001b[0m\u001b[0;34m)\u001b[0m\u001b[0;34m,\u001b[0m \u001b[0mmethod\u001b[0m\u001b[0;34m)\u001b[0m\u001b[0;34m(\u001b[0m\u001b[0;34m*\u001b[0m\u001b[0margs\u001b[0m\u001b[0;34m,\u001b[0m \u001b[0;34m**\u001b[0m\u001b[0mkwds\u001b[0m\u001b[0;34m)\u001b[0m\u001b[0;34m\u001b[0m\u001b[0m\n\u001b[0m\u001b[1;32m     45\u001b[0m     \u001b[0;32mif\u001b[0m \u001b[0mwrap\u001b[0m\u001b[0;34m:\u001b[0m\u001b[0;34m\u001b[0m\u001b[0m\n\u001b[1;32m     46\u001b[0m         \u001b[0;32mif\u001b[0m \u001b[0;32mnot\u001b[0m \u001b[0misinstance\u001b[0m\u001b[0;34m(\u001b[0m\u001b[0mresult\u001b[0m\u001b[0;34m,\u001b[0m \u001b[0mmu\u001b[0m\u001b[0;34m.\u001b[0m\u001b[0mndarray\u001b[0m\u001b[0;34m)\u001b[0m\u001b[0;34m:\u001b[0m\u001b[0;34m\u001b[0m\u001b[0m\n",
      "\u001b[0;31mValueError\u001b[0m: object of too small depth for desired array"
     ]
    }
   ],
   "source": [
    "%time idx = np.searchsorted(mapping_d.keys(),ann_relative_2,sorter = sort_idx)"
   ]
  },
  {
   "cell_type": "code",
   "execution_count": null,
   "id": "38a50ff6-82db-4a65-b930-bf9dc94639a2",
   "metadata": {},
   "outputs": [],
   "source": []
  },
  {
   "cell_type": "code",
   "execution_count": 188,
   "id": "fb33ef4c-bc22-4ddd-9a4d-c6f1d23fefd7",
   "metadata": {},
   "outputs": [
    {
     "data": {
      "text/plain": [
       "(176, 883)"
      ]
     },
     "execution_count": 188,
     "metadata": {},
     "output_type": "execute_result"
    }
   ],
   "source": [
    "output_arr.shape"
   ]
  },
  {
   "cell_type": "code",
   "execution_count": 40,
   "id": "83f079b6-5329-40b0-add6-241740026e78",
   "metadata": {},
   "outputs": [
    {
     "data": {
      "text/plain": [
       "(10000,)"
      ]
     },
     "execution_count": 40,
     "metadata": {},
     "output_type": "execute_result"
    }
   ],
   "source": [
    "dists.max(axis=1).shape"
   ]
  },
  {
   "cell_type": "code",
   "execution_count": 41,
   "id": "10ce3222-2625-4437-9895-4c3d004a9279",
   "metadata": {},
   "outputs": [
    {
     "data": {
      "text/plain": [
       "(176,)"
      ]
     },
     "execution_count": 41,
     "metadata": {},
     "output_type": "execute_result"
    }
   ],
   "source": [
    "cat_idxs.shape"
   ]
  },
  {
   "cell_type": "code",
   "execution_count": 42,
   "id": "68080527-eda1-4feb-a823-476b827770f8",
   "metadata": {},
   "outputs": [
    {
     "data": {
      "text/plain": [
       "(176, 3095)"
      ]
     },
     "execution_count": 42,
     "metadata": {},
     "output_type": "execute_result"
    }
   ],
   "source": [
    "pure_arr.shape"
   ]
  },
  {
   "cell_type": "code",
   "execution_count": 127,
   "id": "7f8340cb-b6ff-46e5-9ef4-48ffed876ed4",
   "metadata": {},
   "outputs": [],
   "source": [
    "res = thresh_consistent"
   ]
  },
  {
   "cell_type": "code",
   "execution_count": 48,
   "id": "b835eab2-aad0-49be-b6b2-9fc2378f9ceb",
   "metadata": {},
   "outputs": [
    {
     "name": "stdout",
     "output_type": "stream",
     "text": [
      "CPU times: user 3.12 ms, sys: 0 ns, total: 3.12 ms\n",
      "Wall time: 15.7 ms\n"
     ]
    }
   ],
   "source": [
    "%%time\n",
    "target_dists = np.where(pure_arr < res)"
   ]
  },
  {
   "cell_type": "code",
   "execution_count": 65,
   "id": "a3d91495-cf10-4604-a4b0-d70928f0fcdb",
   "metadata": {},
   "outputs": [
    {
     "data": {
      "text/plain": [
       "(array([  0,   0,   0, ..., 175, 175, 175]),\n",
       " array([ 433,  803,  932, ..., 2253, 2569, 2926]))"
      ]
     },
     "execution_count": 65,
     "metadata": {},
     "output_type": "execute_result"
    }
   ],
   "source": [
    "target_dists"
   ]
  },
  {
   "cell_type": "code",
   "execution_count": 49,
   "id": "b560ad47-e292-49ed-9624-5ca49588ceb7",
   "metadata": {},
   "outputs": [
    {
     "name": "stdout",
     "output_type": "stream",
     "text": [
      "CPU times: user 332 µs, sys: 7 µs, total: 339 µs\n",
      "Wall time: 343 µs\n"
     ]
    },
    {
     "data": {
      "text/plain": [
       "10"
      ]
     },
     "execution_count": 49,
     "metadata": {},
     "output_type": "execute_result"
    }
   ],
   "source": [
    "%%time\n",
    "max_idx = np.unique(target_dists[0], return_counts=True)[1].max()\n",
    "max_idx"
   ]
  },
  {
   "cell_type": "code",
   "execution_count": 36,
   "id": "9db0db98-2dae-4092-81bf-994143112d25",
   "metadata": {},
   "outputs": [
    {
     "data": {
      "text/plain": [
       "(array([  2,   2,   2, ..., 174, 174, 175]),\n",
       " array([ 190,  755, 1872, ..., 2538, 2995, 2569]))"
      ]
     },
     "execution_count": 36,
     "metadata": {},
     "output_type": "execute_result"
    }
   ],
   "source": [
    "target_dists"
   ]
  },
  {
   "cell_type": "code",
   "execution_count": 50,
   "id": "fa82bef8-8baa-4f51-a0a1-65b1afb85d92",
   "metadata": {},
   "outputs": [
    {
     "name": "stdout",
     "output_type": "stream",
     "text": [
      "CPU times: user 160 µs, sys: 3 µs, total: 163 µs\n",
      "Wall time: 167 µs\n"
     ]
    }
   ],
   "source": [
    "%time sample_arr = np.full(shape=(pure_arr.shape[0], max_idx), fill_value=10_000, dtype=np.float)"
   ]
  },
  {
   "cell_type": "code",
   "execution_count": 57,
   "id": "761a872e-ea33-44b9-8b33-3cf511725d5a",
   "metadata": {},
   "outputs": [
    {
     "name": "stdout",
     "output_type": "stream",
     "text": [
      "CPU times: user 269 µs, sys: 7 µs, total: 276 µs\n",
      "Wall time: 283 µs\n"
     ]
    }
   ],
   "source": [
    "%time sample_arr_mapping = np.full(shape=(pure_arr.shape[0], max_idx), fill_value=-1, dtype=np.float)"
   ]
  },
  {
   "cell_type": "code",
   "execution_count": 51,
   "id": "cdc8c358-82f3-4ec4-b1bb-8c761413d9c0",
   "metadata": {},
   "outputs": [
    {
     "data": {
      "text/plain": [
       "(176, 10)"
      ]
     },
     "execution_count": 51,
     "metadata": {},
     "output_type": "execute_result"
    }
   ],
   "source": [
    "sample_arr.shape"
   ]
  },
  {
   "cell_type": "code",
   "execution_count": 52,
   "id": "ddf9cfab-9862-443f-bbe8-745e48be01b0",
   "metadata": {},
   "outputs": [
    {
     "name": "stdout",
     "output_type": "stream",
     "text": [
      "CPU times: user 213 µs, sys: 4 µs, total: 217 µs\n",
      "Wall time: 222 µs\n"
     ]
    }
   ],
   "source": [
    "%time to_be_added = pure_arr[target_dists[0], target_dists[1]]"
   ]
  },
  {
   "cell_type": "code",
   "execution_count": 53,
   "id": "cb0cf629-db8e-40b7-b0c6-c0a6e2ca5149",
   "metadata": {},
   "outputs": [
    {
     "name": "stdout",
     "output_type": "stream",
     "text": [
      "CPU times: user 181 µs, sys: 3 µs, total: 184 µs\n",
      "Wall time: 189 µs\n"
     ]
    }
   ],
   "source": [
    "%time to_be_added = pure_arr[target_dists[0], target_dists[1]]"
   ]
  },
  {
   "cell_type": "code",
   "execution_count": 62,
   "id": "b55ae6ac-e559-4b6f-b9ea-f770f07d2711",
   "metadata": {},
   "outputs": [
    {
     "data": {
      "text/plain": [
       "(1672,)"
      ]
     },
     "execution_count": 62,
     "metadata": {},
     "output_type": "execute_result"
    }
   ],
   "source": [
    "to_be_added.shape"
   ]
  },
  {
   "cell_type": "code",
   "execution_count": 60,
   "id": "485f8583-6cda-4ff7-8bcd-1fb381e56600",
   "metadata": {},
   "outputs": [
    {
     "data": {
      "text/plain": [
       "(2379,)"
      ]
     },
     "execution_count": 60,
     "metadata": {},
     "output_type": "execute_result"
    }
   ],
   "source": [
    "target_dists[1].shape"
   ]
  },
  {
   "cell_type": "code",
   "execution_count": 54,
   "id": "ef610a27-300e-4fe4-8744-10cf2a6b3812",
   "metadata": {},
   "outputs": [
    {
     "name": "stdout",
     "output_type": "stream",
     "text": [
      "CPU times: user 209 µs, sys: 4 µs, total: 213 µs\n",
      "Wall time: 218 µs\n"
     ]
    }
   ],
   "source": [
    "%time index_df = pd.DataFrame(target_dists[0])"
   ]
  },
  {
   "cell_type": "code",
   "execution_count": 57,
   "id": "4043500d-6919-4fd8-9cc0-97707b1890a2",
   "metadata": {},
   "outputs": [
    {
     "name": "stdout",
     "output_type": "stream",
     "text": [
      "CPU times: user 2.73 ms, sys: 0 ns, total: 2.73 ms\n",
      "Wall time: 2.74 ms\n"
     ]
    }
   ],
   "source": [
    "%time index_df['new_arr_idx'] = index_df.groupby(0).cumcount()"
   ]
  },
  {
   "cell_type": "code",
   "execution_count": 69,
   "id": "7799dcac-979f-4ee9-b9ae-6b12e166a524",
   "metadata": {},
   "outputs": [],
   "source": [
    "index_df['value'] = to_be_added\n",
    "index_df['old_idx'] = target_dists[1]"
   ]
  },
  {
   "cell_type": "code",
   "execution_count": 58,
   "id": "9ddf1776-6a59-47ae-9788-bd82300b8483",
   "metadata": {},
   "outputs": [
    {
     "name": "stdout",
     "output_type": "stream",
     "text": [
      "CPU times: user 671 µs, sys: 14 µs, total: 685 µs\n",
      "Wall time: 690 µs\n"
     ]
    }
   ],
   "source": [
    "%time sample_arr[index_df.values[:, 0], index_df.values[:, 1]] = to_be_added"
   ]
  },
  {
   "cell_type": "code",
   "execution_count": 59,
   "id": "d7c4b1da-69a2-4469-88a6-03b77678b7e2",
   "metadata": {},
   "outputs": [
    {
     "data": {
      "text/plain": [
       "array([[3.81125490e-01, 3.74293381e-01, 3.80546576e-01, ...,\n",
       "        3.54262565e-01, 4.12724845e-01, 1.00000000e+04],\n",
       "       [4.73876682e-01, 4.96774658e-01, 5.00576416e-01, ...,\n",
       "        5.04241098e-01, 4.96301041e-01, 5.04272814e-01],\n",
       "       [4.99491491e-01, 4.91069871e-01, 5.22439371e-01, ...,\n",
       "        5.04918345e-01, 5.35762477e-01, 1.00000000e+04],\n",
       "       ...,\n",
       "       [3.98160039e-01, 4.02001756e-01, 3.93275729e-01, ...,\n",
       "        3.76518875e-01, 4.03970985e-01, 1.00000000e+04],\n",
       "       [1.43215593e-01, 2.17929883e-01, 1.38970976e-01, ...,\n",
       "        2.16701151e-01, 2.43290125e-01, 8.61833045e-02],\n",
       "       [3.97648318e-01, 3.49436687e-01, 3.45120891e-01, ...,\n",
       "        2.80074201e-01, 3.73626027e-01, 1.00000000e+04]])"
      ]
     },
     "execution_count": 59,
     "metadata": {},
     "output_type": "execute_result"
    }
   ],
   "source": [
    "sample_arr"
   ]
  },
  {
   "cell_type": "code",
   "execution_count": 66,
   "id": "9745a98e-98a1-4974-af39-0e36684d073e",
   "metadata": {},
   "outputs": [
    {
     "name": "stdout",
     "output_type": "stream",
     "text": [
      "CPU times: user 37.9 ms, sys: 0 ns, total: 37.9 ms\n",
      "Wall time: 37.9 ms\n"
     ]
    },
    {
     "data": {
      "text/plain": [
       "array([[2341, 1427,  803, ..., 1256, 2899, 3041],\n",
       "       [  86,  749, 1033, ..., 1782,  820,  422],\n",
       "       [ 755,  190, 1872, ..., 3030,  912, 1980],\n",
       "       ...,\n",
       "       [2351,  786,  731, ...,  528, 2745, 2349],\n",
       "       [2535, 1031,  472, ..., 2526, 1265, 1036],\n",
       "       [2569,  893,  749, ..., 2253, 1777, 1796]])"
      ]
     },
     "execution_count": 66,
     "metadata": {},
     "output_type": "execute_result"
    }
   ],
   "source": [
    "%%time\n",
    "ann_relative = pure_arr.argsort(kind='quicksort')[\n",
    "    :, :10\n",
    "]\n",
    "ann_relative"
   ]
  },
  {
   "cell_type": "code",
   "execution_count": 83,
   "id": "4ab52a3c-5428-481d-bdb1-e0b10c2f0ab2",
   "metadata": {},
   "outputs": [
    {
     "name": "stdout",
     "output_type": "stream",
     "text": [
      "CPU times: user 356 µs, sys: 0 ns, total: 356 µs\n",
      "Wall time: 365 µs\n"
     ]
    },
    {
     "data": {
      "text/plain": [
       "array([[3.54262565e-01, 3.55396306e-01, 3.74293381e-01, ...,\n",
       "        4.09159937e-01, 4.12724845e-01, 1.00000000e+04],\n",
       "       [4.73876682e-01, 4.74090234e-01, 4.91546604e-01, ...,\n",
       "        5.04272814e-01, 5.05969448e-01, 5.07060443e-01],\n",
       "       [4.91069871e-01, 4.99491491e-01, 5.04809216e-01, ...,\n",
       "        5.35762477e-01, 5.50845190e-01, 1.00000000e+04],\n",
       "       ...,\n",
       "       [3.76518875e-01, 3.93194616e-01, 3.93275729e-01, ...,\n",
       "        4.02001756e-01, 4.03970985e-01, 1.00000000e+04],\n",
       "       [8.61833045e-02, 1.38970976e-01, 1.43215593e-01, ...,\n",
       "        2.43290125e-01, 2.47679775e-01, 2.50551390e-01],\n",
       "       [2.80074201e-01, 3.45120891e-01, 3.49436687e-01, ...,\n",
       "        4.20504208e-01, 4.21100043e-01, 1.00000000e+04]])"
      ]
     },
     "execution_count": 83,
     "metadata": {},
     "output_type": "execute_result"
    }
   ],
   "source": [
    "%%time\n",
    "dists_relative = np.sort(sample_arr, kind='quicksort')[\n",
    "    :, :10\n",
    "]\n",
    "dists_relative"
   ]
  },
  {
   "cell_type": "code",
   "execution_count": 89,
   "id": "e3e1fb41-3032-4200-8b5c-2d402c8798f3",
   "metadata": {},
   "outputs": [
    {
     "data": {
      "text/html": [
       "<div>\n",
       "<style scoped>\n",
       "    .dataframe tbody tr th:only-of-type {\n",
       "        vertical-align: middle;\n",
       "    }\n",
       "\n",
       "    .dataframe tbody tr th {\n",
       "        vertical-align: top;\n",
       "    }\n",
       "\n",
       "    .dataframe thead th {\n",
       "        text-align: right;\n",
       "    }\n",
       "</style>\n",
       "<table border=\"1\" class=\"dataframe\">\n",
       "  <thead>\n",
       "    <tr style=\"text-align: right;\">\n",
       "      <th></th>\n",
       "      <th>0</th>\n",
       "      <th>new_arr_idx</th>\n",
       "      <th>value</th>\n",
       "      <th>old_idx</th>\n",
       "    </tr>\n",
       "  </thead>\n",
       "  <tbody>\n",
       "    <tr>\n",
       "      <th>0</th>\n",
       "      <td>0</td>\n",
       "      <td>0</td>\n",
       "      <td>0.381125</td>\n",
       "      <td>433</td>\n",
       "    </tr>\n",
       "    <tr>\n",
       "      <th>1</th>\n",
       "      <td>0</td>\n",
       "      <td>1</td>\n",
       "      <td>0.374293</td>\n",
       "      <td>803</td>\n",
       "    </tr>\n",
       "    <tr>\n",
       "      <th>2</th>\n",
       "      <td>0</td>\n",
       "      <td>2</td>\n",
       "      <td>0.380547</td>\n",
       "      <td>932</td>\n",
       "    </tr>\n",
       "    <tr>\n",
       "      <th>3</th>\n",
       "      <td>0</td>\n",
       "      <td>3</td>\n",
       "      <td>0.409160</td>\n",
       "      <td>1256</td>\n",
       "    </tr>\n",
       "    <tr>\n",
       "      <th>4</th>\n",
       "      <td>0</td>\n",
       "      <td>4</td>\n",
       "      <td>0.355396</td>\n",
       "      <td>1427</td>\n",
       "    </tr>\n",
       "    <tr>\n",
       "      <th>...</th>\n",
       "      <td>...</td>\n",
       "      <td>...</td>\n",
       "      <td>...</td>\n",
       "      <td>...</td>\n",
       "    </tr>\n",
       "    <tr>\n",
       "      <th>1667</th>\n",
       "      <td>175</td>\n",
       "      <td>4</td>\n",
       "      <td>0.421100</td>\n",
       "      <td>1777</td>\n",
       "    </tr>\n",
       "    <tr>\n",
       "      <th>1668</th>\n",
       "      <td>175</td>\n",
       "      <td>5</td>\n",
       "      <td>0.420139</td>\n",
       "      <td>1854</td>\n",
       "    </tr>\n",
       "    <tr>\n",
       "      <th>1669</th>\n",
       "      <td>175</td>\n",
       "      <td>6</td>\n",
       "      <td>0.420504</td>\n",
       "      <td>2253</td>\n",
       "    </tr>\n",
       "    <tr>\n",
       "      <th>1670</th>\n",
       "      <td>175</td>\n",
       "      <td>7</td>\n",
       "      <td>0.280074</td>\n",
       "      <td>2569</td>\n",
       "    </tr>\n",
       "    <tr>\n",
       "      <th>1671</th>\n",
       "      <td>175</td>\n",
       "      <td>8</td>\n",
       "      <td>0.373626</td>\n",
       "      <td>2926</td>\n",
       "    </tr>\n",
       "  </tbody>\n",
       "</table>\n",
       "<p>1672 rows × 4 columns</p>\n",
       "</div>"
      ],
      "text/plain": [
       "        0  new_arr_idx     value  old_idx\n",
       "0       0            0  0.381125      433\n",
       "1       0            1  0.374293      803\n",
       "2       0            2  0.380547      932\n",
       "3       0            3  0.409160     1256\n",
       "4       0            4  0.355396     1427\n",
       "...   ...          ...       ...      ...\n",
       "1667  175            4  0.421100     1777\n",
       "1668  175            5  0.420139     1854\n",
       "1669  175            6  0.420504     2253\n",
       "1670  175            7  0.280074     2569\n",
       "1671  175            8  0.373626     2926\n",
       "\n",
       "[1672 rows x 4 columns]"
      ]
     },
     "execution_count": 89,
     "metadata": {},
     "output_type": "execute_result"
    }
   ],
   "source": [
    "index_df"
   ]
  },
  {
   "cell_type": "code",
   "execution_count": 97,
   "id": "29094c0a-b10b-4606-8542-f9389a896ef0",
   "metadata": {},
   "outputs": [
    {
     "data": {
      "text/plain": [
       "(176, 1)"
      ]
     },
     "execution_count": 97,
     "metadata": {},
     "output_type": "execute_result"
    }
   ],
   "source": [
    "np.arange(1, 177, 1).reshape(-1, 1).shape"
   ]
  },
  {
   "cell_type": "code",
   "execution_count": 105,
   "id": "6b437de1-af66-4261-b988-e3d8496b72f3",
   "metadata": {},
   "outputs": [
    {
     "data": {
      "text/plain": [
       "(176, 10)"
      ]
     },
     "execution_count": 105,
     "metadata": {},
     "output_type": "execute_result"
    }
   ],
   "source": [
    "ann_relative_2.shape"
   ]
  },
  {
   "cell_type": "code",
   "execution_count": 110,
   "id": "b5d99bbf-366d-4afd-958f-622cbf2c08f4",
   "metadata": {},
   "outputs": [
    {
     "name": "stdout",
     "output_type": "stream",
     "text": [
      "CPU times: user 154 µs, sys: 0 ns, total: 154 µs\n",
      "Wall time: 158 µs\n"
     ]
    }
   ],
   "source": [
    "%time count_arr = np.arange(176*10).reshape(176, 10)#.shape"
   ]
  },
  {
   "cell_type": "code",
   "execution_count": 113,
   "id": "5170d2ed-a9d9-42ef-b1d2-5011a7c0a048",
   "metadata": {},
   "outputs": [
    {
     "data": {
      "text/plain": [
       "array([[7, 4, 1, ..., 3, 8, 9],\n",
       "       [0, 4, 6, ..., 9, 5, 3],\n",
       "       [1, 0, 4, ..., 8, 3, 9],\n",
       "       ...,\n",
       "       [7, 3, 2, ..., 1, 8, 9],\n",
       "       [9, 2, 0, ..., 8, 5, 3],\n",
       "       [7, 2, 1, ..., 6, 4, 9]])"
      ]
     },
     "execution_count": 113,
     "metadata": {},
     "output_type": "execute_result"
    }
   ],
   "source": [
    "ann_relative_2"
   ]
  },
  {
   "cell_type": "code",
   "execution_count": 114,
   "id": "1e116176-6403-4628-a1eb-0ca53a8e16e3",
   "metadata": {},
   "outputs": [
    {
     "name": "stdout",
     "output_type": "stream",
     "text": [
      "CPU times: user 163 µs, sys: 7 µs, total: 170 µs\n",
      "Wall time: 174 µs\n"
     ]
    },
    {
     "data": {
      "text/plain": [
       "array([[      7,       5,       5, ...,      52,      72,      90],\n",
       "       [    100,     125,     150, ...,     298,     329,     364],\n",
       "       [    401,     441,     488, ...,     737,     787,     850],\n",
       "       ...,\n",
       "       [2992907, 2996364, 2999826, ..., 3017170, 3020652, 3024130],\n",
       "       [3027609, 3031083, 3034564, ..., 3052017, 3055509, 3059004],\n",
       "       [3062507, 3066003, 3069505, ..., 3087055, 3090568, 3094090]])"
      ]
     },
     "execution_count": 114,
     "metadata": {},
     "output_type": "execute_result"
    }
   ],
   "source": [
    "# make values in the array position-dependend\n",
    "%time ann_relative_2 + count_arr * count_arr"
   ]
  },
  {
   "cell_type": "code",
   "execution_count": 119,
   "id": "a066d3dd-d20b-4b5b-9960-de0e34dc02c0",
   "metadata": {},
   "outputs": [
    {
     "data": {
      "text/plain": [
       "(176, 10)"
      ]
     },
     "execution_count": 119,
     "metadata": {},
     "output_type": "execute_result"
    }
   ],
   "source": [
    "ann_relative_2.shape"
   ]
  },
  {
   "cell_type": "code",
   "execution_count": 116,
   "id": "7d93fa30-3282-4ae0-841c-42462e592e62",
   "metadata": {},
   "outputs": [],
   "source": [
    "index_df[1] = index_df[0] + 1\n",
    "index_df['pos_mapping'] = index_df.index*index_df.index"
   ]
  },
  {
   "cell_type": "code",
   "execution_count": 118,
   "id": "5e5147e5-1f1b-4d3e-8007-d757e4bdd1df",
   "metadata": {},
   "outputs": [
    {
     "data": {
      "text/plain": [
       "2792241"
      ]
     },
     "execution_count": 118,
     "metadata": {},
     "output_type": "execute_result"
    }
   ],
   "source": [
    "index_df['pos_mapping'].max()"
   ]
  },
  {
   "cell_type": "code",
   "execution_count": 120,
   "id": "f0f73ea4-e5e7-4c9b-9266-83270b702180",
   "metadata": {},
   "outputs": [
    {
     "data": {
      "text/plain": [
       "1760"
      ]
     },
     "execution_count": 120,
     "metadata": {},
     "output_type": "execute_result"
    }
   ],
   "source": [
    "176*10"
   ]
  },
  {
   "cell_type": "code",
   "execution_count": 103,
   "id": "e0fbb868-a955-4004-bab6-198aaeaf302f",
   "metadata": {},
   "outputs": [
    {
     "data": {
      "text/html": [
       "<div>\n",
       "<style scoped>\n",
       "    .dataframe tbody tr th:only-of-type {\n",
       "        vertical-align: middle;\n",
       "    }\n",
       "\n",
       "    .dataframe tbody tr th {\n",
       "        vertical-align: top;\n",
       "    }\n",
       "\n",
       "    .dataframe thead th {\n",
       "        text-align: right;\n",
       "    }\n",
       "</style>\n",
       "<table border=\"1\" class=\"dataframe\">\n",
       "  <thead>\n",
       "    <tr style=\"text-align: right;\">\n",
       "      <th></th>\n",
       "      <th>0</th>\n",
       "      <th>new_arr_idx</th>\n",
       "      <th>value</th>\n",
       "      <th>old_idx</th>\n",
       "      <th>1</th>\n",
       "      <th>pos_mapping</th>\n",
       "    </tr>\n",
       "  </thead>\n",
       "  <tbody>\n",
       "    <tr>\n",
       "      <th>0</th>\n",
       "      <td>0</td>\n",
       "      <td>0</td>\n",
       "      <td>0.381125</td>\n",
       "      <td>433</td>\n",
       "      <td>1</td>\n",
       "      <td>0</td>\n",
       "    </tr>\n",
       "    <tr>\n",
       "      <th>1</th>\n",
       "      <td>0</td>\n",
       "      <td>1</td>\n",
       "      <td>0.374293</td>\n",
       "      <td>803</td>\n",
       "      <td>1</td>\n",
       "      <td>1</td>\n",
       "    </tr>\n",
       "    <tr>\n",
       "      <th>2</th>\n",
       "      <td>0</td>\n",
       "      <td>2</td>\n",
       "      <td>0.380547</td>\n",
       "      <td>932</td>\n",
       "      <td>1</td>\n",
       "      <td>2</td>\n",
       "    </tr>\n",
       "    <tr>\n",
       "      <th>3</th>\n",
       "      <td>0</td>\n",
       "      <td>3</td>\n",
       "      <td>0.409160</td>\n",
       "      <td>1256</td>\n",
       "      <td>1</td>\n",
       "      <td>3</td>\n",
       "    </tr>\n",
       "    <tr>\n",
       "      <th>4</th>\n",
       "      <td>0</td>\n",
       "      <td>4</td>\n",
       "      <td>0.355396</td>\n",
       "      <td>1427</td>\n",
       "      <td>1</td>\n",
       "      <td>4</td>\n",
       "    </tr>\n",
       "    <tr>\n",
       "      <th>...</th>\n",
       "      <td>...</td>\n",
       "      <td>...</td>\n",
       "      <td>...</td>\n",
       "      <td>...</td>\n",
       "      <td>...</td>\n",
       "      <td>...</td>\n",
       "    </tr>\n",
       "    <tr>\n",
       "      <th>1667</th>\n",
       "      <td>175</td>\n",
       "      <td>4</td>\n",
       "      <td>0.421100</td>\n",
       "      <td>1777</td>\n",
       "      <td>176</td>\n",
       "      <td>704</td>\n",
       "    </tr>\n",
       "    <tr>\n",
       "      <th>1668</th>\n",
       "      <td>175</td>\n",
       "      <td>5</td>\n",
       "      <td>0.420139</td>\n",
       "      <td>1854</td>\n",
       "      <td>176</td>\n",
       "      <td>880</td>\n",
       "    </tr>\n",
       "    <tr>\n",
       "      <th>1669</th>\n",
       "      <td>175</td>\n",
       "      <td>6</td>\n",
       "      <td>0.420504</td>\n",
       "      <td>2253</td>\n",
       "      <td>176</td>\n",
       "      <td>1056</td>\n",
       "    </tr>\n",
       "    <tr>\n",
       "      <th>1670</th>\n",
       "      <td>175</td>\n",
       "      <td>7</td>\n",
       "      <td>0.280074</td>\n",
       "      <td>2569</td>\n",
       "      <td>176</td>\n",
       "      <td>1232</td>\n",
       "    </tr>\n",
       "    <tr>\n",
       "      <th>1671</th>\n",
       "      <td>175</td>\n",
       "      <td>8</td>\n",
       "      <td>0.373626</td>\n",
       "      <td>2926</td>\n",
       "      <td>176</td>\n",
       "      <td>1408</td>\n",
       "    </tr>\n",
       "  </tbody>\n",
       "</table>\n",
       "<p>1672 rows × 6 columns</p>\n",
       "</div>"
      ],
      "text/plain": [
       "        0  new_arr_idx     value  old_idx    1  pos_mapping\n",
       "0       0            0  0.381125      433    1            0\n",
       "1       0            1  0.374293      803    1            1\n",
       "2       0            2  0.380547      932    1            2\n",
       "3       0            3  0.409160     1256    1            3\n",
       "4       0            4  0.355396     1427    1            4\n",
       "...   ...          ...       ...      ...  ...          ...\n",
       "1667  175            4  0.421100     1777  176          704\n",
       "1668  175            5  0.420139     1854  176          880\n",
       "1669  175            6  0.420504     2253  176         1056\n",
       "1670  175            7  0.280074     2569  176         1232\n",
       "1671  175            8  0.373626     2926  176         1408\n",
       "\n",
       "[1672 rows x 6 columns]"
      ]
     },
     "execution_count": 103,
     "metadata": {},
     "output_type": "execute_result"
    }
   ],
   "source": [
    "index_df[1]"
   ]
  },
  {
   "cell_type": "code",
   "execution_count": 99,
   "id": "02745f86-5a87-4451-a7f0-9061361a1fc3",
   "metadata": {},
   "outputs": [
    {
     "data": {
      "text/plain": [
       "array([[7, 4, 1, ..., 3, 8, 9],\n",
       "       [0, 4, 6, ..., 9, 5, 3],\n",
       "       [1, 0, 4, ..., 8, 3, 9],\n",
       "       ...,\n",
       "       [7, 3, 2, ..., 1, 8, 9],\n",
       "       [9, 2, 0, ..., 8, 5, 3],\n",
       "       [7, 2, 1, ..., 6, 4, 9]])"
      ]
     },
     "execution_count": 99,
     "metadata": {},
     "output_type": "execute_result"
    }
   ],
   "source": [
    "ann_relative_2"
   ]
  },
  {
   "cell_type": "code",
   "execution_count": 93,
   "id": "c3707803-d136-4e24-8b8c-43b6bbc5e872",
   "metadata": {},
   "outputs": [
    {
     "data": {
      "text/plain": [
       "(176, 10)"
      ]
     },
     "execution_count": 93,
     "metadata": {},
     "output_type": "execute_result"
    }
   ],
   "source": [
    "ann_relative_2.shape"
   ]
  },
  {
   "cell_type": "code",
   "execution_count": 86,
   "id": "0fc2d16f-795b-4d10-9eb5-0bbdbf9d876f",
   "metadata": {},
   "outputs": [
    {
     "data": {
      "text/plain": [
       "array([[0.58516339, 0.57479123, 0.59408487, ..., 0.83530635, 0.72327197,\n",
       "        0.59838322],\n",
       "       [0.72275381, 0.60222068, 0.58674307, ..., 0.77942052, 0.62807737,\n",
       "        0.57211713],\n",
       "       [0.69655005, 0.68323838, 0.72931336, ..., 0.81818156, 0.72211767,\n",
       "        0.68948835],\n",
       "       ...,\n",
       "       [0.60102186, 0.45755973, 0.54146313, ..., 0.74456989, 0.62467989,\n",
       "        0.54837613],\n",
       "       [0.48865181, 0.41438067, 0.44838671, ..., 0.61604586, 0.56608649,\n",
       "        0.45800737],\n",
       "       [0.56945267, 0.47021571, 0.58339588, ..., 0.68409612, 0.53731712,\n",
       "        0.50887008]])"
      ]
     },
     "execution_count": 86,
     "metadata": {},
     "output_type": "execute_result"
    }
   ],
   "source": [
    "pure_arr"
   ]
  },
  {
   "cell_type": "code",
   "execution_count": 85,
   "id": "fd531cc0-3507-464b-ae17-ffeb8867845c",
   "metadata": {},
   "outputs": [
    {
     "data": {
      "text/plain": [
       "Int64Index([   63,   111,   124,   134,   266,   317,   341,   357,   394,\n",
       "              424,\n",
       "            ...\n",
       "            99610, 99656, 99687, 99689, 99699, 99700, 99701, 99716, 99722,\n",
       "            99945],\n",
       "           dtype='int64', length=3095)"
      ]
     },
     "execution_count": 85,
     "metadata": {},
     "output_type": "execute_result"
    }
   ],
   "source": [
    "bucket_obj_indexes"
   ]
  },
  {
   "cell_type": "code",
   "execution_count": null,
   "id": "a764b466-5881-4065-af4c-c835f4be09cb",
   "metadata": {},
   "outputs": [],
   "source": []
  },
  {
   "cell_type": "code",
   "execution_count": 84,
   "id": "84f16335-78e8-4c70-b260-14c11b4bba21",
   "metadata": {},
   "outputs": [
    {
     "name": "stderr",
     "output_type": "stream",
     "text": [
      "/mnt/storage-brno11-elixir/home/tslaninakova/dynamic-lmi/dynamic-lmi-env/lib/python3.6/site-packages/ipykernel_launcher.py:1: DeprecationWarning: elementwise comparison failed; this will raise an error in the future.\n",
      "  \"\"\"Entry point for launching an IPython kernel.\n"
     ]
    },
    {
     "data": {
      "text/plain": [
       "(array([], dtype=int64),)"
      ]
     },
     "execution_count": 84,
     "metadata": {},
     "output_type": "execute_result"
    }
   ],
   "source": [
    "np.where(pure_arr == dists_relative)"
   ]
  },
  {
   "cell_type": "code",
   "execution_count": 78,
   "id": "148d661f-e853-4acd-95b7-1b1244eea8ec",
   "metadata": {},
   "outputs": [],
   "source": [
    "g = index_df.groupby(0) #.sort_values('value').head(3)"
   ]
  },
  {
   "cell_type": "code",
   "execution_count": 67,
   "id": "6ccb4fe4-724e-4f5b-9dcb-a0496f8143f6",
   "metadata": {},
   "outputs": [
    {
     "data": {
      "text/plain": [
       "(176, 3095)"
      ]
     },
     "execution_count": 67,
     "metadata": {},
     "output_type": "execute_result"
    }
   ],
   "source": [
    "pure_arr.shape"
   ]
  },
  {
   "cell_type": "code",
   "execution_count": 68,
   "id": "d8f5f9f3-f24e-419c-8f2e-23659165c618",
   "metadata": {},
   "outputs": [
    {
     "data": {
      "text/plain": [
       "(176, 10)"
      ]
     },
     "execution_count": 68,
     "metadata": {},
     "output_type": "execute_result"
    }
   ],
   "source": [
    "sample_arr.shape"
   ]
  },
  {
   "cell_type": "code",
   "execution_count": null,
   "id": "abf7635f-420b-4c90-bb69-92021e817d6c",
   "metadata": {},
   "outputs": [],
   "source": []
  },
  {
   "cell_type": "code",
   "execution_count": 63,
   "id": "6127191b-04e9-48b8-81be-765e47eccfee",
   "metadata": {},
   "outputs": [
    {
     "data": {
      "text/plain": [
       "array([-1., -1., -1., ..., -1., -1., -1.])"
      ]
     },
     "execution_count": 63,
     "metadata": {},
     "output_type": "execute_result"
    }
   ],
   "source": [
    "sample_arr_mapping[index_df[0].values, index_df['new_arr_idx'].values]"
   ]
  },
  {
   "cell_type": "code",
   "execution_count": 64,
   "id": "47e5032e-a1f0-4bc8-ba4c-3287c97391b3",
   "metadata": {},
   "outputs": [
    {
     "name": "stdout",
     "output_type": "stream",
     "text": [
      "CPU times: user 221 µs, sys: 5 µs, total: 226 µs\n",
      "Wall time: 230 µs\n"
     ]
    }
   ],
   "source": [
    "%time sample_arr_mapping[index_df[0].values, index_df['new_arr_idx'].values] = target_dists[1]"
   ]
  },
  {
   "cell_type": "code",
   "execution_count": 77,
   "id": "17efccff-3c0b-4685-b446-561a8d41b8d2",
   "metadata": {},
   "outputs": [],
   "source": [
    "sample_arr_sorted = np.sort(sample_arr, kind='quicksort')[\n",
    "    :, :10\n",
    "]"
   ]
  },
  {
   "cell_type": "code",
   "execution_count": null,
   "id": "a92bf73e-1d97-4b24-88a3-a47d57c9c19a",
   "metadata": {},
   "outputs": [],
   "source": [
    "sample_arr_mapping"
   ]
  },
  {
   "cell_type": "code",
   "execution_count": 78,
   "id": "b56e07d4-ff10-4230-8ccd-feab5ce875b6",
   "metadata": {},
   "outputs": [
    {
     "data": {
      "text/plain": [
       "array([[1.00000000e+04, 1.00000000e+04, 1.00000000e+04, ...,\n",
       "        1.00000000e+04, 1.00000000e+04, 1.00000000e+04],\n",
       "       [1.00000000e+04, 1.00000000e+04, 1.00000000e+04, ...,\n",
       "        1.00000000e+04, 1.00000000e+04, 1.00000000e+04],\n",
       "       [4.91069871e-01, 4.99491491e-01, 5.04809216e-01, ...,\n",
       "        1.00000000e+04, 1.00000000e+04, 1.00000000e+04],\n",
       "       ...,\n",
       "       [1.00000000e+04, 1.00000000e+04, 1.00000000e+04, ...,\n",
       "        1.00000000e+04, 1.00000000e+04, 1.00000000e+04],\n",
       "       [8.61833045e-02, 1.38970976e-01, 1.43215593e-01, ...,\n",
       "        2.43290125e-01, 2.47679775e-01, 2.50551390e-01],\n",
       "       [2.80074201e-01, 1.00000000e+04, 1.00000000e+04, ...,\n",
       "        1.00000000e+04, 1.00000000e+04, 1.00000000e+04]])"
      ]
     },
     "execution_count": 78,
     "metadata": {},
     "output_type": "execute_result"
    }
   ],
   "source": [
    "sample_arr_sorted"
   ]
  },
  {
   "cell_type": "code",
   "execution_count": 66,
   "id": "67b4e5dd-b1cb-45ac-82db-f92549a3e0de",
   "metadata": {},
   "outputs": [
    {
     "data": {
      "text/plain": [
       "array([[  0, 136, 137, ..., 142, 143, 144],\n",
       "       [  0, 136, 137, ..., 142, 143, 144],\n",
       "       [  1,   0,   2, ..., 140, 141, 142],\n",
       "       ...,\n",
       "       [  0, 136, 137, ..., 142, 143, 144],\n",
       "       [ 15,   3,   1, ...,  14,   7,   4],\n",
       "       [  0, 136, 137, ..., 142, 143, 144]])"
      ]
     },
     "execution_count": 66,
     "metadata": {},
     "output_type": "execute_result"
    }
   ],
   "source": [
    "ann_relative_2"
   ]
  },
  {
   "cell_type": "code",
   "execution_count": 71,
   "id": "7329fb14-8e5c-40e9-af82-53767d5835e0",
   "metadata": {},
   "outputs": [
    {
     "data": {
      "text/plain": [
       "array([[-1.000e+00, -1.000e+00, -1.000e+00, ..., -1.000e+00, -1.000e+00,\n",
       "        -1.000e+00],\n",
       "       [-1.000e+00, -1.000e+00, -1.000e+00, ..., -1.000e+00, -1.000e+00,\n",
       "        -1.000e+00],\n",
       "       [ 1.900e+02,  7.550e+02,  1.872e+03, ..., -1.000e+00, -1.000e+00,\n",
       "        -1.000e+00],\n",
       "       ...,\n",
       "       [-1.000e+00, -1.000e+00, -1.000e+00, ..., -1.000e+00, -1.000e+00,\n",
       "        -1.000e+00],\n",
       "       [ 3.590e+02,  4.720e+02,  5.040e+02, ..., -1.000e+00, -1.000e+00,\n",
       "        -1.000e+00],\n",
       "       [ 2.569e+03, -1.000e+00, -1.000e+00, ..., -1.000e+00, -1.000e+00,\n",
       "        -1.000e+00]])"
      ]
     },
     "execution_count": 71,
     "metadata": {},
     "output_type": "execute_result"
    }
   ],
   "source": [
    "sample_arr_mapping"
   ]
  },
  {
   "cell_type": "code",
   "execution_count": 68,
   "id": "10faf34c-f8e3-444b-90cc-7a25a443afab",
   "metadata": {},
   "outputs": [
    {
     "data": {
      "text/plain": [
       "(176, 10)"
      ]
     },
     "execution_count": 68,
     "metadata": {},
     "output_type": "execute_result"
    }
   ],
   "source": [
    "ann_relative_2.shape"
   ]
  },
  {
   "cell_type": "code",
   "execution_count": 70,
   "id": "d04b97e4-78fe-47a0-ad6a-946c50de283c",
   "metadata": {},
   "outputs": [
    {
     "data": {
      "text/plain": [
       "(176, 214)"
      ]
     },
     "execution_count": 70,
     "metadata": {},
     "output_type": "execute_result"
    }
   ],
   "source": [
    "sample_arr_mapping.shape"
   ]
  },
  {
   "cell_type": "code",
   "execution_count": 69,
   "id": "0874416e-2adb-41b8-8e44-9ad1544a4803",
   "metadata": {},
   "outputs": [
    {
     "ename": "IndexError",
     "evalue": "index 181 is out of bounds for axis 0 with size 176",
     "output_type": "error",
     "traceback": [
      "\u001b[0;31m---------------------------------------------------------------------------\u001b[0m",
      "\u001b[0;31mIndexError\u001b[0m                                Traceback (most recent call last)",
      "\u001b[0;32m<ipython-input-69-8df677a7214c>\u001b[0m in \u001b[0;36m<module>\u001b[0;34m\u001b[0m\n\u001b[0;32m----> 1\u001b[0;31m \u001b[0msample_arr_mapping\u001b[0m\u001b[0;34m[\u001b[0m\u001b[0mann_relative_2\u001b[0m\u001b[0;34m]\u001b[0m\u001b[0;34m\u001b[0m\u001b[0m\n\u001b[0m",
      "\u001b[0;31mIndexError\u001b[0m: index 181 is out of bounds for axis 0 with size 176"
     ]
    }
   ],
   "source": [
    "sample_arr_mapping[ann_relative_2]"
   ]
  },
  {
   "cell_type": "code",
   "execution_count": 46,
   "id": "d70b3dd7-e6bf-41dd-9977-6365a7199bd1",
   "metadata": {},
   "outputs": [
    {
     "data": {
      "text/plain": [
       "0.4994914911364663"
      ]
     },
     "execution_count": 46,
     "metadata": {},
     "output_type": "execute_result"
    }
   ],
   "source": [
    "sample_arr[2, 0]"
   ]
  },
  {
   "cell_type": "code",
   "execution_count": 54,
   "id": "61b75862-ec95-41e8-89e4-8ae1a57f3f05",
   "metadata": {},
   "outputs": [
    {
     "data": {
      "text/html": [
       "<div>\n",
       "<style scoped>\n",
       "    .dataframe tbody tr th:only-of-type {\n",
       "        vertical-align: middle;\n",
       "    }\n",
       "\n",
       "    .dataframe tbody tr th {\n",
       "        vertical-align: top;\n",
       "    }\n",
       "\n",
       "    .dataframe thead th {\n",
       "        text-align: right;\n",
       "    }\n",
       "</style>\n",
       "<table border=\"1\" class=\"dataframe\">\n",
       "  <thead>\n",
       "    <tr style=\"text-align: right;\">\n",
       "      <th></th>\n",
       "      <th>0</th>\n",
       "      <th>new_arr_idx</th>\n",
       "      <th>value</th>\n",
       "      <th>old_idx</th>\n",
       "    </tr>\n",
       "  </thead>\n",
       "  <tbody>\n",
       "    <tr>\n",
       "      <th>0</th>\n",
       "      <td>2</td>\n",
       "      <td>0</td>\n",
       "      <td>0.499491</td>\n",
       "      <td>190</td>\n",
       "    </tr>\n",
       "    <tr>\n",
       "      <th>1</th>\n",
       "      <td>2</td>\n",
       "      <td>1</td>\n",
       "      <td>0.491070</td>\n",
       "      <td>755</td>\n",
       "    </tr>\n",
       "    <tr>\n",
       "      <th>2</th>\n",
       "      <td>2</td>\n",
       "      <td>2</td>\n",
       "      <td>0.504809</td>\n",
       "      <td>1872</td>\n",
       "    </tr>\n",
       "    <tr>\n",
       "      <th>3</th>\n",
       "      <td>2</td>\n",
       "      <td>3</td>\n",
       "      <td>0.504918</td>\n",
       "      <td>2899</td>\n",
       "    </tr>\n",
       "    <tr>\n",
       "      <th>4</th>\n",
       "      <td>3</td>\n",
       "      <td>0</td>\n",
       "      <td>0.219707</td>\n",
       "      <td>118</td>\n",
       "    </tr>\n",
       "    <tr>\n",
       "      <th>...</th>\n",
       "      <td>...</td>\n",
       "      <td>...</td>\n",
       "      <td>...</td>\n",
       "      <td>...</td>\n",
       "    </tr>\n",
       "    <tr>\n",
       "      <th>2374</th>\n",
       "      <td>174</td>\n",
       "      <td>14</td>\n",
       "      <td>0.243290</td>\n",
       "      <td>2526</td>\n",
       "    </tr>\n",
       "    <tr>\n",
       "      <th>2375</th>\n",
       "      <td>174</td>\n",
       "      <td>15</td>\n",
       "      <td>0.086183</td>\n",
       "      <td>2535</td>\n",
       "    </tr>\n",
       "    <tr>\n",
       "      <th>2376</th>\n",
       "      <td>174</td>\n",
       "      <td>16</td>\n",
       "      <td>0.265490</td>\n",
       "      <td>2538</td>\n",
       "    </tr>\n",
       "    <tr>\n",
       "      <th>2377</th>\n",
       "      <td>174</td>\n",
       "      <td>17</td>\n",
       "      <td>0.293687</td>\n",
       "      <td>2995</td>\n",
       "    </tr>\n",
       "    <tr>\n",
       "      <th>2378</th>\n",
       "      <td>175</td>\n",
       "      <td>0</td>\n",
       "      <td>0.280074</td>\n",
       "      <td>2569</td>\n",
       "    </tr>\n",
       "  </tbody>\n",
       "</table>\n",
       "<p>2379 rows × 4 columns</p>\n",
       "</div>"
      ],
      "text/plain": [
       "        0  new_arr_idx     value  old_idx\n",
       "0       2            0  0.499491      190\n",
       "1       2            1  0.491070      755\n",
       "2       2            2  0.504809     1872\n",
       "3       2            3  0.504918     2899\n",
       "4       3            0  0.219707      118\n",
       "...   ...          ...       ...      ...\n",
       "2374  174           14  0.243290     2526\n",
       "2375  174           15  0.086183     2535\n",
       "2376  174           16  0.265490     2538\n",
       "2377  174           17  0.293687     2995\n",
       "2378  175            0  0.280074     2569\n",
       "\n",
       "[2379 rows x 4 columns]"
      ]
     },
     "execution_count": 54,
     "metadata": {},
     "output_type": "execute_result"
    }
   ],
   "source": [
    "index_df"
   ]
  },
  {
   "cell_type": "code",
   "execution_count": 121,
   "id": "193b99ed-3a25-49cc-88cb-76682a4ec7be",
   "metadata": {},
   "outputs": [
    {
     "data": {
      "text/plain": [
       "(176, 3095)"
      ]
     },
     "execution_count": 121,
     "metadata": {},
     "output_type": "execute_result"
    }
   ],
   "source": [
    "pure_arr.shape"
   ]
  },
  {
   "cell_type": "code",
   "execution_count": 124,
   "id": "9f09f253-1900-43cf-bc8c-006b9554c2b0",
   "metadata": {},
   "outputs": [],
   "source": [
    "result = pure_arr"
   ]
  },
  {
   "cell_type": "code",
   "execution_count": 125,
   "id": "285cca81-858b-4eab-a4e0-3516187ddb6d",
   "metadata": {},
   "outputs": [
    {
     "ename": "NameError",
     "evalue": "name 'threshold' is not defined",
     "output_type": "error",
     "traceback": [
      "\u001b[0;31m---------------------------------------------------------------------------\u001b[0m",
      "\u001b[0;31mNameError\u001b[0m                                 Traceback (most recent call last)",
      "\u001b[0;32m<ipython-input-125-2309bb9166fb>\u001b[0m in \u001b[0;36m<module>\u001b[0;34m\u001b[0m\n\u001b[0;32m----> 1\u001b[0;31m \u001b[0mthresh_consistent\u001b[0m \u001b[0;34m=\u001b[0m \u001b[0mnp\u001b[0m\u001b[0;34m.\u001b[0m\u001b[0mrepeat\u001b[0m\u001b[0;34m(\u001b[0m\u001b[0mthreshold\u001b[0m\u001b[0;34m[\u001b[0m\u001b[0mcat_idxs\u001b[0m\u001b[0;34m,\u001b[0m \u001b[0mnp\u001b[0m\u001b[0;34m.\u001b[0m\u001b[0mnewaxis\u001b[0m\u001b[0;34m]\u001b[0m\u001b[0;34m,\u001b[0m \u001b[0mresult\u001b[0m\u001b[0;34m.\u001b[0m\u001b[0mshape\u001b[0m\u001b[0;34m[\u001b[0m\u001b[0;36m1\u001b[0m\u001b[0;34m]\u001b[0m\u001b[0;34m,\u001b[0m \u001b[0;36m1\u001b[0m\u001b[0;34m)\u001b[0m\u001b[0;34m\u001b[0m\u001b[0m\n\u001b[0m\u001b[1;32m      2\u001b[0m \u001b[0mthresh_consistent\u001b[0m\u001b[0;34m\u001b[0m\u001b[0m\n",
      "\u001b[0;31mNameError\u001b[0m: name 'threshold' is not defined"
     ]
    }
   ],
   "source": [
    "thresh_consistent = np.repeat(threshold[cat_idxs, np.newaxis], result.shape[1], 1)\n",
    "thresh_consistent"
   ]
  },
  {
   "cell_type": "code",
   "execution_count": 123,
   "id": "99887f35-5891-4a03-a303-fbeeeb462736",
   "metadata": {},
   "outputs": [
    {
     "data": {
      "text/plain": [
       "array([[3.81125490e-01, 3.74293381e-01, 3.80546576e-01, ...,\n",
       "        3.54262565e-01, 4.12724845e-01, 1.00000000e+04],\n",
       "       [4.73876682e-01, 4.96774658e-01, 5.00576416e-01, ...,\n",
       "        5.04241098e-01, 4.96301041e-01, 5.04272814e-01],\n",
       "       [4.99491491e-01, 4.91069871e-01, 5.22439371e-01, ...,\n",
       "        5.04918345e-01, 5.35762477e-01, 1.00000000e+04],\n",
       "       ...,\n",
       "       [3.98160039e-01, 4.02001756e-01, 3.93275729e-01, ...,\n",
       "        3.76518875e-01, 4.03970985e-01, 1.00000000e+04],\n",
       "       [1.43215593e-01, 2.17929883e-01, 1.38970976e-01, ...,\n",
       "        2.16701151e-01, 2.43290125e-01, 8.61833045e-02],\n",
       "       [3.97648318e-01, 3.49436687e-01, 3.45120891e-01, ...,\n",
       "        2.80074201e-01, 3.73626027e-01, 1.00000000e+04]])"
      ]
     },
     "execution_count": 123,
     "metadata": {},
     "output_type": "execute_result"
    }
   ],
   "source": [
    "sample_arr"
   ]
  },
  {
   "cell_type": "code",
   "execution_count": 236,
   "id": "0a4800bc-cf91-477e-9cae-bf2a5a6c474c",
   "metadata": {},
   "outputs": [
    {
     "data": {
      "text/plain": [
       "(176, 214)"
      ]
     },
     "execution_count": 236,
     "metadata": {},
     "output_type": "execute_result"
    }
   ],
   "source": [
    "sample_arr.shape"
   ]
  },
  {
   "cell_type": "code",
   "execution_count": 56,
   "id": "a5b64e93-2982-4440-9216-a49f1a70f6bd",
   "metadata": {},
   "outputs": [
    {
     "data": {
      "text/plain": [
       "array([[  0, 136, 137, ..., 142, 143, 144],\n",
       "       [  0, 136, 137, ..., 142, 143, 144],\n",
       "       [  1,   0,   2, ..., 140, 141, 142],\n",
       "       ...,\n",
       "       [  0, 136, 137, ..., 142, 143, 144],\n",
       "       [ 15,   3,   1, ...,  14,   7,   4],\n",
       "       [  0, 136, 137, ..., 142, 143, 144]])"
      ]
     },
     "execution_count": 56,
     "metadata": {},
     "output_type": "execute_result"
    }
   ],
   "source": [
    "ann_relative_2"
   ]
  },
  {
   "cell_type": "code",
   "execution_count": null,
   "id": "010f4211-57e9-4165-b530-d74ac498d4ce",
   "metadata": {},
   "outputs": [],
   "source": [
    "ann_relative_2"
   ]
  },
  {
   "cell_type": "code",
   "execution_count": 242,
   "id": "11627662-eca5-4344-9a8c-fb7c14560fb8",
   "metadata": {},
   "outputs": [],
   "source": [
    "dists_res = np.take_along_axis(sample_arr, ann_relative_2, axis=1)"
   ]
  },
  {
   "cell_type": "code",
   "execution_count": 243,
   "id": "e2dd8579-16c1-4466-a3f7-399993941f0b",
   "metadata": {},
   "outputs": [
    {
     "data": {
      "text/plain": [
       "array([[1.00000000e+04, 1.00000000e+04, 1.00000000e+04, ...,\n",
       "        1.00000000e+04, 1.00000000e+04, 1.00000000e+04],\n",
       "       [1.00000000e+04, 1.00000000e+04, 1.00000000e+04, ...,\n",
       "        1.00000000e+04, 1.00000000e+04, 1.00000000e+04],\n",
       "       [4.91069871e-01, 4.99491491e-01, 5.04809216e-01, ...,\n",
       "        1.00000000e+04, 1.00000000e+04, 1.00000000e+04],\n",
       "       ...,\n",
       "       [1.00000000e+04, 1.00000000e+04, 1.00000000e+04, ...,\n",
       "        1.00000000e+04, 1.00000000e+04, 1.00000000e+04],\n",
       "       [8.61833045e-02, 1.38970976e-01, 1.43215593e-01, ...,\n",
       "        2.43290125e-01, 2.47679775e-01, 2.50551390e-01],\n",
       "       [2.80074201e-01, 1.00000000e+04, 1.00000000e+04, ...,\n",
       "        1.00000000e+04, 1.00000000e+04, 1.00000000e+04]])"
      ]
     },
     "execution_count": 243,
     "metadata": {},
     "output_type": "execute_result"
    }
   ],
   "source": [
    "dists_res"
   ]
  },
  {
   "cell_type": "code",
   "execution_count": 241,
   "id": "05c9947f-70b1-4862-8327-49b4c1b087ff",
   "metadata": {},
   "outputs": [
    {
     "data": {
      "text/plain": [
       "array([[0.16662204, 0.26132104, 0.28283674, ..., 0.3248234 , 0.32667616,\n",
       "        0.3311572 ],\n",
       "       [0.4429067 , 0.4474052 , 0.45352405, ..., 0.4677359 , 0.46902606,\n",
       "        0.46920323],\n",
       "       [0.48189315, 0.4886164 , 0.48993993, ..., 0.5114319 , 0.51531136,\n",
       "        0.5171687 ],\n",
       "       ...,\n",
       "       [0.30622727, 0.33433402, 0.33730066, ..., 0.361187  , 0.36834347,\n",
       "        0.3712152 ],\n",
       "       [0.08808586, 0.20122772, 0.21688594, ..., 0.2642632 , 0.2695809 ,\n",
       "        0.3098314 ],\n",
       "       [0.2283353 , 0.25617176, 0.27532452, ..., 0.29867372, 0.30868042,\n",
       "        0.3158128 ]], dtype=float32)"
      ]
     },
     "execution_count": 241,
     "metadata": {},
     "output_type": "execute_result"
    }
   ],
   "source": [
    "dists[cat_idxs]"
   ]
  },
  {
   "cell_type": "code",
   "execution_count": 244,
   "id": "6d45b33d-bc6c-42d3-9847-23110536f918",
   "metadata": {},
   "outputs": [
    {
     "data": {
      "text/plain": [
       "array([[0.16662204, 0.26132104, 0.28283674, ..., 0.3248234 , 0.32667616,\n",
       "        0.3311572 ],\n",
       "       [0.4429067 , 0.4474052 , 0.45352405, ..., 0.4677359 , 0.46902606,\n",
       "        0.46920323],\n",
       "       [0.48189315, 0.4886164 , 0.48993993, ..., 0.5114319 , 0.51531136,\n",
       "        0.5171687 ],\n",
       "       ...,\n",
       "       [0.30622727, 0.33433402, 0.33730066, ..., 0.361187  , 0.36834347,\n",
       "        0.3712152 ],\n",
       "       [0.08808586, 0.20122772, 0.21688594, ..., 0.2642632 , 0.2695809 ,\n",
       "        0.3098314 ],\n",
       "       [0.2283353 , 0.25617176, 0.27532452, ..., 0.29867372, 0.30868042,\n",
       "        0.3158128 ]], dtype=float32)"
      ]
     },
     "execution_count": 244,
     "metadata": {},
     "output_type": "execute_result"
    }
   ],
   "source": [
    "dists[cat_idxs]"
   ]
  },
  {
   "cell_type": "code",
   "execution_count": 246,
   "id": "35ef57e7-e0c7-44c1-85ae-c2fbff65448b",
   "metadata": {},
   "outputs": [
    {
     "data": {
      "text/plain": [
       "array([[1.00000000e+04, 1.00000000e+04, 1.00000000e+04, ...,\n",
       "        1.00000000e+04, 1.00000000e+04, 1.00000000e+04],\n",
       "       [1.00000000e+04, 1.00000000e+04, 1.00000000e+04, ...,\n",
       "        1.00000000e+04, 1.00000000e+04, 1.00000000e+04],\n",
       "       [4.91069871e-01, 4.99491491e-01, 5.04809216e-01, ...,\n",
       "        1.00000000e+04, 1.00000000e+04, 1.00000000e+04],\n",
       "       ...,\n",
       "       [1.00000000e+04, 1.00000000e+04, 1.00000000e+04, ...,\n",
       "        1.00000000e+04, 1.00000000e+04, 1.00000000e+04],\n",
       "       [8.61833045e-02, 1.38970976e-01, 1.43215593e-01, ...,\n",
       "        2.43290125e-01, 2.47679775e-01, 2.50551390e-01],\n",
       "       [2.80074201e-01, 1.00000000e+04, 1.00000000e+04, ...,\n",
       "        1.00000000e+04, 1.00000000e+04, 1.00000000e+04]])"
      ]
     },
     "execution_count": 246,
     "metadata": {},
     "output_type": "execute_result"
    }
   ],
   "source": [
    "dists_res"
   ]
  },
  {
   "cell_type": "code",
   "execution_count": 235,
   "id": "11a2197b-ce85-4141-b083-49c595e1d25a",
   "metadata": {},
   "outputs": [
    {
     "data": {
      "text/plain": [
       "array([[1.00000000e+04, 1.00000000e+04, 1.00000000e+04, ...,\n",
       "        1.00000000e+04, 1.00000000e+04, 1.00000000e+04],\n",
       "       [1.00000000e+04, 1.00000000e+04, 1.00000000e+04, ...,\n",
       "        1.00000000e+04, 1.00000000e+04, 1.00000000e+04],\n",
       "       [4.99491491e-01, 4.91069871e-01, 5.04809216e-01, ...,\n",
       "        1.00000000e+04, 1.00000000e+04, 1.00000000e+04],\n",
       "       ...,\n",
       "       [1.00000000e+04, 1.00000000e+04, 1.00000000e+04, ...,\n",
       "        1.00000000e+04, 1.00000000e+04, 1.00000000e+04],\n",
       "       [3.05168964e-01, 1.43215593e-01, 2.17929883e-01, ...,\n",
       "        1.00000000e+04, 1.00000000e+04, 1.00000000e+04],\n",
       "       [2.80074201e-01, 1.00000000e+04, 1.00000000e+04, ...,\n",
       "        1.00000000e+04, 1.00000000e+04, 1.00000000e+04]])"
      ]
     },
     "execution_count": 235,
     "metadata": {},
     "output_type": "execute_result"
    }
   ],
   "source": [
    "sample_arr"
   ]
  },
  {
   "cell_type": "code",
   "execution_count": 253,
   "id": "84e8fb70-8069-44f5-bf00-42f4cb48cc57",
   "metadata": {},
   "outputs": [
    {
     "data": {
      "text/plain": [
       "(176, 20)"
      ]
     },
     "execution_count": 253,
     "metadata": {},
     "output_type": "execute_result"
    }
   ],
   "source": [
    "dists_final = np.hstack((dists[cat_idxs], dists_res))\n",
    "dists_final.shape"
   ]
  },
  {
   "cell_type": "code",
   "execution_count": 254,
   "id": "ece002bc-0cee-4ab1-bc66-b8f7cc598b7a",
   "metadata": {},
   "outputs": [
    {
     "data": {
      "text/plain": [
       "array([[1.66622043e-01, 2.61321038e-01, 2.82836735e-01, ...,\n",
       "        1.00000000e+04, 1.00000000e+04, 1.00000000e+04],\n",
       "       [4.42906708e-01, 4.47405189e-01, 4.53524053e-01, ...,\n",
       "        1.00000000e+04, 1.00000000e+04, 1.00000000e+04],\n",
       "       [4.81893152e-01, 4.88616407e-01, 4.89939928e-01, ...,\n",
       "        1.00000000e+04, 1.00000000e+04, 1.00000000e+04],\n",
       "       ...,\n",
       "       [3.06227267e-01, 3.34334016e-01, 3.37300658e-01, ...,\n",
       "        1.00000000e+04, 1.00000000e+04, 1.00000000e+04],\n",
       "       [8.80858600e-02, 2.01227725e-01, 2.16885939e-01, ...,\n",
       "        2.43290125e-01, 2.47679775e-01, 2.50551390e-01],\n",
       "       [2.28335306e-01, 2.56171763e-01, 2.75324523e-01, ...,\n",
       "        1.00000000e+04, 1.00000000e+04, 1.00000000e+04]])"
      ]
     },
     "execution_count": 254,
     "metadata": {},
     "output_type": "execute_result"
    }
   ],
   "source": [
    "dists_final"
   ]
  },
  {
   "cell_type": "code",
   "execution_count": 255,
   "id": "a5593ee5-39e9-4127-8811-33674a9627f8",
   "metadata": {},
   "outputs": [
    {
     "data": {
      "text/plain": [
       "array([[ 0,  1,  2, ...,  7,  8,  9],\n",
       "       [ 0,  1,  2, ...,  7,  8,  9],\n",
       "       [ 0,  1,  2, ...,  5, 12, 13],\n",
       "       ...,\n",
       "       [ 0,  1,  2, ...,  7,  8,  9],\n",
       "       [10,  0, 11, ..., 15,  2, 16],\n",
       "       [ 0,  1,  2, ...,  6,  7,  8]])"
      ]
     },
     "execution_count": 255,
     "metadata": {},
     "output_type": "execute_result"
    }
   ],
   "source": [
    "dists_final.argsort(kind='stable', axis=1)[:, :k]"
   ]
  },
  {
   "cell_type": "code",
   "execution_count": null,
   "id": "96710102-bfb6-4922-b096-4c4042f077ce",
   "metadata": {},
   "outputs": [],
   "source": []
  },
  {
   "cell_type": "code",
   "execution_count": null,
   "id": "4b70b5a8-7387-406a-81db-fe9e9833843c",
   "metadata": {},
   "outputs": [],
   "source": [
    "    anns_final = np.hstack((anns_final, anns))\n",
    "    dists_final = np.hstack((dists_final, dists))\n",
    "    # gets the sorted indices of the stacked dists\n",
    "    idx_sorted = dists_final.argsort(kind='stable', axis=1)[:, :k]"
   ]
  },
  {
   "cell_type": "code",
   "execution_count": null,
   "id": "4dca6553-fe6a-47e3-97db-5dff789e837e",
   "metadata": {},
   "outputs": [],
   "source": []
  },
  {
   "cell_type": "code",
   "execution_count": 222,
   "id": "2810abfd-4e57-4f06-bce2-a1014a81d4d4",
   "metadata": {},
   "outputs": [
    {
     "data": {
      "text/plain": [
       "213"
      ]
     },
     "execution_count": 222,
     "metadata": {},
     "output_type": "execute_result"
    }
   ],
   "source": [
    "index_df.values.max()"
   ]
  },
  {
   "cell_type": "code",
   "execution_count": 212,
   "id": "4a97e368-a2d6-4193-9d9e-23869f4e3b9b",
   "metadata": {},
   "outputs": [
    {
     "data": {
      "text/plain": [
       "array([  2,   2,   2, ..., 174, 174, 175])"
      ]
     },
     "execution_count": 212,
     "metadata": {},
     "output_type": "execute_result"
    }
   ],
   "source": [
    "target_dists[0]"
   ]
  },
  {
   "cell_type": "code",
   "execution_count": 226,
   "id": "39b6a05a-1ce1-48b7-851b-40b67c0c2a04",
   "metadata": {},
   "outputs": [
    {
     "data": {
      "text/plain": [
       "(175, 213)"
      ]
     },
     "execution_count": 226,
     "metadata": {},
     "output_type": "execute_result"
    }
   ],
   "source": [
    "index_df.values[:, 0].max(), index_df.values[:, 1].max()"
   ]
  },
  {
   "cell_type": "code",
   "execution_count": 228,
   "id": "d506aee5-fb5e-4a08-827c-1e9343ac0513",
   "metadata": {},
   "outputs": [
    {
     "data": {
      "text/plain": [
       "(176, 214)"
      ]
     },
     "execution_count": 228,
     "metadata": {},
     "output_type": "execute_result"
    }
   ],
   "source": [
    "sample_arr.shape"
   ]
  },
  {
   "cell_type": "code",
   "execution_count": 203,
   "id": "c91a458c-3987-49ab-88dc-3d10a456452a",
   "metadata": {},
   "outputs": [
    {
     "name": "stdout",
     "output_type": "stream",
     "text": [
      "CPU times: user 133 µs, sys: 9 µs, total: 142 µs\n",
      "Wall time: 146 µs\n"
     ]
    },
    {
     "data": {
      "text/plain": [
       "array([ 190,  755, 1872, 2899])"
      ]
     },
     "execution_count": 203,
     "metadata": {},
     "output_type": "execute_result"
    }
   ],
   "source": [
    "%time target_dists[1][target_dists[0] == 2]"
   ]
  },
  {
   "cell_type": "code",
   "execution_count": 186,
   "id": "d3ce8ea7-2f18-4d4b-b63c-6bdc333501cb",
   "metadata": {},
   "outputs": [
    {
     "data": {
      "text/plain": [
       "(array([  2,   3,   4,   7,   8,   9,  10,  11,  13,  14,  16,  18,  19,\n",
       "         20,  21,  23,  24,  25,  26,  27,  28,  29,  31,  32,  33,  35,\n",
       "         37,  38,  40,  41,  43,  45,  46,  47,  48,  49,  50,  51,  52,\n",
       "         53,  55,  56,  57,  58,  59,  60,  61,  63,  64,  65,  66,  67,\n",
       "         68,  69,  70,  71,  72,  74,  75,  77,  78,  80,  81,  83,  84,\n",
       "         85,  86,  88,  89,  91,  92,  93,  94,  95,  97,  98,  99, 100,\n",
       "        101, 102, 103, 104, 105, 106, 109, 110, 114, 115, 117, 118, 119,\n",
       "        120, 121, 122, 123, 124, 125, 127, 128, 130, 131, 132, 133, 135,\n",
       "        136, 137, 138, 139, 140, 141, 142, 145, 147, 148, 149, 151, 153,\n",
       "        154, 155, 156, 159, 160, 161, 162, 163, 165, 168, 169, 172, 174,\n",
       "        175]),\n",
       " array([  0,   0,   0, ..., 129, 129, 130]))"
      ]
     },
     "execution_count": 186,
     "metadata": {},
     "output_type": "execute_result"
    }
   ],
   "source": [
    "# return_index=True, return_inverse=True\n",
    "np.unique(np.argwhere(pure_arr < res)[:, 0], return_inverse=True)"
   ]
  },
  {
   "cell_type": "code",
   "execution_count": 183,
   "id": "ef59c160-cce4-4843-8248-9af15088cc5c",
   "metadata": {},
   "outputs": [
    {
     "name": "stdout",
     "output_type": "stream",
     "text": [
      "CPU times: user 2.43 ms, sys: 0 ns, total: 2.43 ms\n",
      "Wall time: 2.44 ms\n"
     ]
    }
   ],
   "source": [
    "%time max_arr = np.unique(np.argwhere(pure_arr < res)[:, 0], return_counts=True)[1].max()"
   ]
  },
  {
   "cell_type": "code",
   "execution_count": null,
   "id": "6bcd4292-08a6-4dc1-8ed4-d8be26a262bb",
   "metadata": {},
   "outputs": [],
   "source": [
    "sample_arr"
   ]
  },
  {
   "cell_type": "code",
   "execution_count": 181,
   "id": "2f4180df-568d-47a9-95e0-9149d86dc47f",
   "metadata": {},
   "outputs": [
    {
     "name": "stdout",
     "output_type": "stream",
     "text": [
      "CPU times: user 2.32 ms, sys: 0 ns, total: 2.32 ms\n",
      "Wall time: 6.9 ms\n"
     ]
    }
   ],
   "source": [
    "%time res2_w = np.where(pure_arr < res)"
   ]
  },
  {
   "cell_type": "code",
   "execution_count": 180,
   "id": "160956ae-182a-448e-92be-1a5fb4ac6d12",
   "metadata": {},
   "outputs": [
    {
     "name": "stdout",
     "output_type": "stream",
     "text": [
      "CPU times: user 3.99 ms, sys: 0 ns, total: 3.99 ms\n",
      "Wall time: 4 ms\n"
     ]
    }
   ],
   "source": [
    "%time res2 = np.argwhere(pure_arr < res)"
   ]
  },
  {
   "cell_type": "code",
   "execution_count": 182,
   "id": "e22af10e-44cd-4522-acbc-02f5193617e4",
   "metadata": {},
   "outputs": [
    {
     "data": {
      "text/plain": [
       "(array([  2,   2,   2, ..., 174, 174, 175]),\n",
       " array([ 190,  755, 1872, ..., 2538, 2995, 2569]))"
      ]
     },
     "execution_count": 182,
     "metadata": {},
     "output_type": "execute_result"
    }
   ],
   "source": [
    "res2_w"
   ]
  },
  {
   "cell_type": "code",
   "execution_count": 145,
   "id": "f9ef49ef-973d-4ceb-b681-dfc9d72efc5d",
   "metadata": {},
   "outputs": [
    {
     "data": {
      "text/plain": [
       "array([[   2,  190],\n",
       "       [   2,  755],\n",
       "       [   2, 1872],\n",
       "       ...,\n",
       "       [ 174, 2538],\n",
       "       [ 174, 2995],\n",
       "       [ 175, 2569]])"
      ]
     },
     "execution_count": 145,
     "metadata": {},
     "output_type": "execute_result"
    }
   ],
   "source": [
    "res2"
   ]
  },
  {
   "cell_type": "code",
   "execution_count": null,
   "id": "6689c2fe-548f-4024-8629-542e125cd871",
   "metadata": {},
   "outputs": [],
   "source": [
    "res2"
   ]
  },
  {
   "cell_type": "code",
   "execution_count": 179,
   "id": "efa7fd1c-84cb-45f4-b064-49f1cfc5a187",
   "metadata": {},
   "outputs": [
    {
     "data": {
      "text/plain": [
       "array([ 190,  755, 1872, ..., 2538, 2995, 2569])"
      ]
     },
     "execution_count": 179,
     "metadata": {},
     "output_type": "execute_result"
    }
   ],
   "source": [
    "res2[:, 1]"
   ]
  },
  {
   "cell_type": "code",
   "execution_count": 147,
   "id": "48032a74-e427-4a02-9cc8-9c9b333d4d12",
   "metadata": {},
   "outputs": [],
   "source": [
    "sample_arr[2, 0] = pure_arr[res2]"
   ]
  },
  {
   "cell_type": "code",
   "execution_count": 146,
   "id": "733f0785-1523-413b-a601-26b44d340fd3",
   "metadata": {},
   "outputs": [
    {
     "data": {
      "text/plain": [
       "0.4994914911364663"
      ]
     },
     "execution_count": 146,
     "metadata": {},
     "output_type": "execute_result"
    }
   ],
   "source": [
    "pure_arr[2, 190]"
   ]
  },
  {
   "cell_type": "code",
   "execution_count": 149,
   "id": "320f64d7-34f8-4d4b-8b52-55cee7ab0b39",
   "metadata": {},
   "outputs": [
    {
     "ename": "IndexError",
     "evalue": "index 190 is out of bounds for axis 0 with size 176",
     "output_type": "error",
     "traceback": [
      "\u001b[0;31m---------------------------------------------------------------------------\u001b[0m",
      "\u001b[0;31mIndexError\u001b[0m                                Traceback (most recent call last)",
      "\u001b[0;32m<ipython-input-149-478ef83e11b3>\u001b[0m in \u001b[0;36m<module>\u001b[0;34m\u001b[0m\n\u001b[0;32m----> 1\u001b[0;31m \u001b[0mpure_arr\u001b[0m\u001b[0;34m[\u001b[0m\u001b[0mres2\u001b[0m\u001b[0;34m]\u001b[0m\u001b[0;34m.\u001b[0m\u001b[0mshape\u001b[0m\u001b[0;34m\u001b[0m\u001b[0m\n\u001b[0m",
      "\u001b[0;31mIndexError\u001b[0m: index 190 is out of bounds for axis 0 with size 176"
     ]
    }
   ],
   "source": [
    "pure_arr[res2].shape"
   ]
  },
  {
   "cell_type": "code",
   "execution_count": 148,
   "id": "c0d6d2ef-32a8-45c7-b17b-a2e49dd1cd1e",
   "metadata": {},
   "outputs": [
    {
     "data": {
      "text/plain": [
       "array([[1.00000000e+04, 1.00000000e+04, 1.00000000e+04, ...,\n",
       "        1.00000000e+04, 1.00000000e+04, 1.00000000e+04],\n",
       "       [1.00000000e+04, 1.00000000e+04, 1.00000000e+04, ...,\n",
       "        1.00000000e+04, 1.00000000e+04, 1.00000000e+04],\n",
       "       [4.99491491e-01, 1.00000000e+04, 1.00000000e+04, ...,\n",
       "        1.00000000e+04, 1.00000000e+04, 1.00000000e+04],\n",
       "       ...,\n",
       "       [1.00000000e+04, 1.00000000e+04, 1.00000000e+04, ...,\n",
       "        1.00000000e+04, 1.00000000e+04, 1.00000000e+04],\n",
       "       [1.00000000e+04, 1.00000000e+04, 1.00000000e+04, ...,\n",
       "        1.00000000e+04, 1.00000000e+04, 1.00000000e+04],\n",
       "       [1.00000000e+04, 1.00000000e+04, 1.00000000e+04, ...,\n",
       "        1.00000000e+04, 1.00000000e+04, 1.00000000e+04]])"
      ]
     },
     "execution_count": 148,
     "metadata": {},
     "output_type": "execute_result"
    }
   ],
   "source": [
    "sample_arr"
   ]
  },
  {
   "cell_type": "code",
   "execution_count": 137,
   "id": "11ae96bc-9a6f-4146-b11d-df8d32c9c2df",
   "metadata": {},
   "outputs": [
    {
     "data": {
      "text/plain": [
       "array([2, 2, 2, 2, 2, 2])"
      ]
     },
     "execution_count": 137,
     "metadata": {},
     "output_type": "execute_result"
    }
   ],
   "source": [
    "res2[res2 == 2]"
   ]
  },
  {
   "cell_type": "code",
   "execution_count": 138,
   "id": "98f959c2-016e-48df-9b1a-dad1e6fb220d",
   "metadata": {},
   "outputs": [
    {
     "ename": "ValueError",
     "evalue": "shape mismatch: value array of shape (2379,) could not be broadcast to indexing result of shape (2379,214)",
     "output_type": "error",
     "traceback": [
      "\u001b[0;31m---------------------------------------------------------------------------\u001b[0m",
      "\u001b[0;31mValueError\u001b[0m                                Traceback (most recent call last)",
      "\u001b[0;32m<ipython-input-138-5ffaab81bfa8>\u001b[0m in \u001b[0;36m<module>\u001b[0;34m\u001b[0m\n\u001b[0;32m----> 1\u001b[0;31m \u001b[0msample_arr\u001b[0m\u001b[0;34m[\u001b[0m\u001b[0mres2\u001b[0m\u001b[0;34m[\u001b[0m\u001b[0;34m:\u001b[0m\u001b[0;34m,\u001b[0m \u001b[0;36m0\u001b[0m\u001b[0;34m]\u001b[0m\u001b[0;34m]\u001b[0m \u001b[0;34m=\u001b[0m \u001b[0mres2\u001b[0m\u001b[0;34m[\u001b[0m\u001b[0;34m:\u001b[0m\u001b[0;34m,\u001b[0m \u001b[0;36m1\u001b[0m\u001b[0;34m]\u001b[0m\u001b[0;34m\u001b[0m\u001b[0m\n\u001b[0m",
      "\u001b[0;31mValueError\u001b[0m: shape mismatch: value array of shape (2379,) could not be broadcast to indexing result of shape (2379,214)"
     ]
    }
   ],
   "source": [
    "sample_arr[res2[:, 0]] = res2[:, 1]"
   ]
  },
  {
   "cell_type": "code",
   "execution_count": null,
   "id": "9ce718b5-87fb-4ee4-8e51-b93c96023874",
   "metadata": {},
   "outputs": [],
   "source": [
    "sample_arr"
   ]
  },
  {
   "cell_type": "code",
   "execution_count": null,
   "id": "f6640e68-4ad6-4fb7-9c07-6c7dd063f9e5",
   "metadata": {},
   "outputs": [],
   "source": [
    "dists = np.zeros((queries_search.shape[0], k), dtype=np.float32)"
   ]
  },
  {
   "cell_type": "code",
   "execution_count": 126,
   "id": "d97c0ed0-5cb9-47db-8845-5de2c065caea",
   "metadata": {},
   "outputs": [
    {
     "data": {
      "text/plain": [
       "array([[   2,  190],\n",
       "       [   2,  755],\n",
       "       [   2, 1872],\n",
       "       ...,\n",
       "       [ 174, 2538],\n",
       "       [ 174, 2995],\n",
       "       [ 175, 2569]])"
      ]
     },
     "execution_count": 126,
     "metadata": {},
     "output_type": "execute_result"
    }
   ],
   "source": [
    "np.argwhere(pure_arr < res)"
   ]
  },
  {
   "cell_type": "code",
   "execution_count": 128,
   "id": "bf872ca8-e17f-4885-9f59-a153909116a9",
   "metadata": {},
   "outputs": [
    {
     "data": {
      "text/plain": [
       "0.4994914911364663"
      ]
     },
     "execution_count": 128,
     "metadata": {},
     "output_type": "execute_result"
    }
   ],
   "source": [
    "pure_arr[2, 190]"
   ]
  },
  {
   "cell_type": "code",
   "execution_count": 123,
   "id": "32c78b40-1977-4c12-af14-4d5aa4ef79a1",
   "metadata": {},
   "outputs": [
    {
     "data": {
      "text/plain": [
       "array([ 2,  2,  2,  2,  3,  3,  3,  3,  3,  3,  3,  3,  4,  4,  4,  4,  4,\n",
       "        4,  4,  4,  4,  4,  7,  7,  8,  8,  8,  9,  9,  9,  9,  9,  9, 10,\n",
       "       10, 10, 11, 11, 11, 11, 11, 13, 13, 13, 13, 13, 13, 13, 14, 14, 14,\n",
       "       14, 14, 14, 14, 14, 14, 14, 14, 14, 14, 14, 14, 14, 14, 14, 14, 14,\n",
       "       14, 14, 14, 14, 14, 14, 14, 16, 16, 16, 16, 16, 16, 16, 16, 16, 16,\n",
       "       16, 16, 16, 16, 16, 16, 16, 16, 16, 16, 16, 16, 16, 16, 16])"
      ]
     },
     "execution_count": 123,
     "metadata": {},
     "output_type": "execute_result"
    }
   ],
   "source": [
    "np.where(pure_arr < res)[0][:100]"
   ]
  },
  {
   "cell_type": "code",
   "execution_count": 124,
   "id": "4b794fb7-edfd-44a9-8331-8242702f6cea",
   "metadata": {},
   "outputs": [
    {
     "data": {
      "text/plain": [
       "array([ 190,  755, 1872, 2899,  118,  386,  659,  775, 1064, 1070, 1582,\n",
       "       2979,   36,  127,  178,  363,  502,  603,  850,  942, 1095, 2433,\n",
       "       1142, 1237,  724,  752, 2683,   71,  498, 1967, 2055, 2505, 2930,\n",
       "        276, 1820, 2939,  567,  627, 1121, 2369, 2930,  497, 1327, 1354,\n",
       "       1537, 1735, 2349, 2705,   86,  222,  258,  356,  450,  487,  511,\n",
       "        578,  667,  675,  969,  977, 1326, 1490, 1546, 1660, 2075, 2081,\n",
       "       2204, 2409, 2492, 2556, 2907, 2921, 2939, 2964, 3020,   20,   59,\n",
       "         63,   68,   99,  101,  139,  162,  209,  229,  304,  305,  320,\n",
       "        337,  341,  374,  387,  410,  452,  456,  478,  509,  520,  525,\n",
       "        536])"
      ]
     },
     "execution_count": 124,
     "metadata": {},
     "output_type": "execute_result"
    }
   ],
   "source": [
    "np.where(pure_arr < res)[1][:100]"
   ]
  },
  {
   "cell_type": "code",
   "execution_count": 125,
   "id": "ac2b8ad2-f3f2-4e90-a3ac-e4bf4a71fcc2",
   "metadata": {},
   "outputs": [
    {
     "data": {
      "text/plain": [
       "array([0.49949149, 0.49106987, 0.50480922, 0.50491835, 0.21970675,\n",
       "       0.21747319, 0.20134505, 0.18773172, 0.22785204, 0.20411416,\n",
       "       0.18883318, 0.22479822, 0.2812132 , 0.4159223 , 0.26609447,\n",
       "       0.2619391 , 0.41588517, 0.40184208, 0.39325575, 0.24603255,\n",
       "       0.35324137, 0.41466428, 0.36104663, 0.43005669, 0.33777408,\n",
       "       0.31274958, 0.32374122, 0.39482597, 0.39811506, 0.39745085,\n",
       "       0.39433688, 0.39809865, 0.38307477, 0.33959513, 0.34356986,\n",
       "       0.30563943, 0.41887541, 0.40099864, 0.42117212, 0.40196987,\n",
       "       0.40889696, 0.33866255, 0.32742303, 0.34803717, 0.31747813,\n",
       "       0.34207842, 0.34846552, 0.34598291, 0.44701626, 0.43784671,\n",
       "       0.36496563, 0.43637098, 0.48160728, 0.38970633, 0.48853607,\n",
       "       0.49631695, 0.46954897, 0.49961672, 0.39478519, 0.43095072,\n",
       "       0.5074329 , 0.35632667, 0.38003825, 0.4954067 , 0.41376934,\n",
       "       0.47545652, 0.44329446, 0.40261632, 0.46516595, 0.34723944,\n",
       "       0.44903738, 0.50536929, 0.42128971, 0.48607873, 0.47917845,\n",
       "       0.53859571, 0.52517255, 0.5192964 , 0.50424511, 0.50529943,\n",
       "       0.51527841, 0.51803985, 0.52356827, 0.53714952, 0.51429478,\n",
       "       0.53147687, 0.53053982, 0.53850341, 0.53113246, 0.53734714,\n",
       "       0.51175449, 0.52970708, 0.53606349, 0.51697097, 0.53689697,\n",
       "       0.52315568, 0.52524538, 0.51933035, 0.48979071, 0.51934955])"
      ]
     },
     "execution_count": 125,
     "metadata": {},
     "output_type": "execute_result"
    }
   ],
   "source": [
    "pure_arr[np.where(pure_arr < res)[0][:100], np.where(pure_arr < res)[1][:100]]"
   ]
  },
  {
   "cell_type": "code",
   "execution_count": 122,
   "id": "7797e80d-d70c-49a9-bbc4-1733e087a6d6",
   "metadata": {},
   "outputs": [
    {
     "data": {
      "text/plain": [
       "(2379,)"
      ]
     },
     "execution_count": 122,
     "metadata": {},
     "output_type": "execute_result"
    }
   ],
   "source": [
    "pure_arr[np.where(pure_arr < res)].shape"
   ]
  },
  {
   "cell_type": "code",
   "execution_count": 105,
   "id": "a026242a-9d25-4989-bfd8-366286a7f4cc",
   "metadata": {},
   "outputs": [
    {
     "data": {
      "text/plain": [
       "(176,)"
      ]
     },
     "execution_count": 105,
     "metadata": {},
     "output_type": "execute_result"
    }
   ],
   "source": [
    "(np.array(dists.max(axis=1)[cat_idxs],)*5).T.shape"
   ]
  },
  {
   "cell_type": "code",
   "execution_count": 99,
   "id": "6fa72026-7f11-4fb1-a1a8-5449e2d87dff",
   "metadata": {},
   "outputs": [
    {
     "data": {
      "text/plain": [
       "(176, 352)"
      ]
     },
     "execution_count": 99,
     "metadata": {},
     "output_type": "execute_result"
    }
   ],
   "source": [
    "np.tile(dists.max(axis=1)[cat_idxs], (176, 2)).shape"
   ]
  },
  {
   "cell_type": "code",
   "execution_count": 90,
   "id": "cf32ca03-0e40-4039-8b14-4b3b2c938bb4",
   "metadata": {},
   "outputs": [
    {
     "data": {
      "text/plain": [
       "array([], dtype=float64)"
      ]
     },
     "execution_count": 90,
     "metadata": {},
     "output_type": "execute_result"
    }
   ],
   "source": [
    "pure_arr[1][pure_arr[1] < np.hstack(dists.max(axis=1)[cat_idxs][1], )"
   ]
  },
  {
   "cell_type": "code",
   "execution_count": 85,
   "id": "f443def9-3a6e-478c-84ab-b2f0d9af33f0",
   "metadata": {},
   "outputs": [
    {
     "data": {
      "text/plain": [
       "(536398,)"
      ]
     },
     "execution_count": 85,
     "metadata": {},
     "output_type": "execute_result"
    }
   ],
   "source": [
    "np.where(pure_arr < 0.79674435)[0].shape"
   ]
  },
  {
   "cell_type": "code",
   "execution_count": null,
   "id": "6c96107d-7a78-42f5-a765-6597d2777455",
   "metadata": {},
   "outputs": [],
   "source": [
    "pure_arr[np.where(pure_arr < 0.79674435)]"
   ]
  },
  {
   "cell_type": "code",
   "execution_count": 83,
   "id": "6419e214-029e-41e3-a600-1fde76a09af7",
   "metadata": {},
   "outputs": [
    {
     "ename": "ValueError",
     "evalue": "cannot reshape array of size 536398 into shape (176,newaxis)",
     "output_type": "error",
     "traceback": [
      "\u001b[0;31m---------------------------------------------------------------------------\u001b[0m",
      "\u001b[0;31mValueError\u001b[0m                                Traceback (most recent call last)",
      "\u001b[0;32m<ipython-input-83-8be9941283f3>\u001b[0m in \u001b[0;36m<module>\u001b[0;34m\u001b[0m\n\u001b[0;32m----> 1\u001b[0;31m \u001b[0mpure_arr\u001b[0m\u001b[0;34m[\u001b[0m\u001b[0mnp\u001b[0m\u001b[0;34m.\u001b[0m\u001b[0mwhere\u001b[0m\u001b[0;34m(\u001b[0m\u001b[0mpure_arr\u001b[0m \u001b[0;34m<\u001b[0m \u001b[0;36m0.79674435\u001b[0m\u001b[0;34m)\u001b[0m\u001b[0;34m]\u001b[0m\u001b[0;34m.\u001b[0m\u001b[0mreshape\u001b[0m\u001b[0;34m(\u001b[0m\u001b[0mpure_arr\u001b[0m\u001b[0;34m.\u001b[0m\u001b[0mshape\u001b[0m\u001b[0;34m[\u001b[0m\u001b[0;36m0\u001b[0m\u001b[0;34m]\u001b[0m\u001b[0;34m,\u001b[0m \u001b[0;34m-\u001b[0m\u001b[0;36m1\u001b[0m\u001b[0;34m)\u001b[0m\u001b[0;34m\u001b[0m\u001b[0m\n\u001b[0m",
      "\u001b[0;31mValueError\u001b[0m: cannot reshape array of size 536398 into shape (176,newaxis)"
     ]
    }
   ],
   "source": [
    "pure_arr[np.where(pure_arr < 0.79674435)].reshape(pure_arr.shape[0], -1)"
   ]
  },
  {
   "cell_type": "code",
   "execution_count": 39,
   "id": "fad2b95e-6313-4421-86f3-0f9c588309a1",
   "metadata": {},
   "outputs": [
    {
     "data": {
      "text/plain": [
       "(176, 3095)"
      ]
     },
     "execution_count": 39,
     "metadata": {},
     "output_type": "execute_result"
    }
   ],
   "source": [
    "pure_arr.shape"
   ]
  },
  {
   "cell_type": "code",
   "execution_count": 50,
   "id": "29451026-3695-4cd4-a817-4def29c6d1b6",
   "metadata": {},
   "outputs": [
    {
     "data": {
      "text/plain": [
       "array([[0.58516339, 0.57479123, 0.59408487, ..., 0.83530635, 0.72327197,\n",
       "        0.59838322],\n",
       "       [0.72275381, 0.60222068, 0.58674307, ..., 0.77942052, 0.62807737,\n",
       "        0.57211713]])"
      ]
     },
     "execution_count": 50,
     "metadata": {},
     "output_type": "execute_result"
    }
   ],
   "source": [
    "pure_arr[:2]"
   ]
  },
  {
   "cell_type": "code",
   "execution_count": 67,
   "id": "663f7dcc-29d6-4d41-af17-0dd5a8a37461",
   "metadata": {},
   "outputs": [],
   "source": [
    "d = dists.max(axis=1)"
   ]
  },
  {
   "cell_type": "code",
   "execution_count": 68,
   "id": "c92de898-1008-49da-9c31-b9d4d76daecf",
   "metadata": {},
   "outputs": [
    {
     "data": {
      "text/plain": [
       "0.79674435"
      ]
     },
     "execution_count": 68,
     "metadata": {},
     "output_type": "execute_result"
    }
   ],
   "source": [
    "d[d < 10_000].max()"
   ]
  },
  {
   "cell_type": "code",
   "execution_count": 66,
   "id": "0da97c30-7c62-4ccb-b7e1-80faf9800ac1",
   "metadata": {},
   "outputs": [
    {
     "data": {
      "text/plain": [
       "array([-4.440892e-16, -4.440892e-16, -4.440892e-16, ...,  1.000000e+04,\n",
       "        1.000000e+04,  1.000000e+04], dtype=float32)"
      ]
     },
     "execution_count": 66,
     "metadata": {},
     "output_type": "execute_result"
    }
   ],
   "source": [
    "np.sort(dists.max(axis=1))"
   ]
  },
  {
   "cell_type": "code",
   "execution_count": 51,
   "id": "7a883b3b-116f-4109-8d76-9fcb74278efd",
   "metadata": {},
   "outputs": [
    {
     "data": {
      "text/plain": [
       "array([0.3311572 , 0.46920323], dtype=float32)"
      ]
     },
     "execution_count": 51,
     "metadata": {},
     "output_type": "execute_result"
    }
   ],
   "source": [
    "dists.max(axis=1)[cat_idxs[:2]]"
   ]
  },
  {
   "cell_type": "code",
   "execution_count": 57,
   "id": "c9aaab84-d147-4811-87c9-a41d2032e038",
   "metadata": {},
   "outputs": [
    {
     "data": {
      "text/plain": [
       "array([0.58516339, 0.57479123, 0.59408487, ..., 0.83530635, 0.72327197,\n",
       "       0.59838322])"
      ]
     },
     "execution_count": 57,
     "metadata": {},
     "output_type": "execute_result"
    }
   ],
   "source": [
    "pure_arr[:2][0]"
   ]
  },
  {
   "cell_type": "code",
   "execution_count": 73,
   "id": "e28c3021-5e8b-44bf-ab7e-bef35c80e192",
   "metadata": {},
   "outputs": [
    {
     "data": {
      "text/plain": [
       "array([[   0,    0],\n",
       "       [   0,    1],\n",
       "       [   0,    2],\n",
       "       ...,\n",
       "       [ 175, 3092],\n",
       "       [ 175, 3093],\n",
       "       [ 175, 3094]])"
      ]
     },
     "execution_count": 73,
     "metadata": {},
     "output_type": "execute_result"
    }
   ],
   "source": [
    "np.argwhere(pure_arr < d[d < 10_000].max())"
   ]
  },
  {
   "cell_type": "code",
   "execution_count": 72,
   "id": "736a0c37-e03d-49eb-9607-a33d777f9674",
   "metadata": {},
   "outputs": [
    {
     "ename": "IndexError",
     "evalue": "index 176 is out of bounds for axis 0 with size 176",
     "output_type": "error",
     "traceback": [
      "\u001b[0;31m---------------------------------------------------------------------------\u001b[0m",
      "\u001b[0;31mIndexError\u001b[0m                                Traceback (most recent call last)",
      "\u001b[0;32m<ipython-input-72-c8e11cb3a32f>\u001b[0m in \u001b[0;36m<module>\u001b[0;34m\u001b[0m\n\u001b[0;32m----> 1\u001b[0;31m \u001b[0mpure_arr\u001b[0m\u001b[0;34m[\u001b[0m\u001b[0mnp\u001b[0m\u001b[0;34m.\u001b[0m\u001b[0margwhere\u001b[0m\u001b[0;34m(\u001b[0m\u001b[0mpure_arr\u001b[0m \u001b[0;34m<\u001b[0m \u001b[0md\u001b[0m\u001b[0;34m[\u001b[0m\u001b[0md\u001b[0m \u001b[0;34m<\u001b[0m \u001b[0;36m10_000\u001b[0m\u001b[0;34m]\u001b[0m\u001b[0;34m.\u001b[0m\u001b[0mmax\u001b[0m\u001b[0;34m(\u001b[0m\u001b[0;34m)\u001b[0m\u001b[0;34m)\u001b[0m\u001b[0;34m]\u001b[0m\u001b[0;34m.\u001b[0m\u001b[0mshape\u001b[0m\u001b[0;34m\u001b[0m\u001b[0m\n\u001b[0m",
      "\u001b[0;31mIndexError\u001b[0m: index 176 is out of bounds for axis 0 with size 176"
     ]
    }
   ],
   "source": [
    "pure_arr[np.argwhere(pure_arr < d[d < 10_000].max())].shape"
   ]
  },
  {
   "cell_type": "code",
   "execution_count": 71,
   "id": "e7d66af4-8183-4fb4-8fb2-d911168a36d6",
   "metadata": {},
   "outputs": [
    {
     "data": {
      "text/plain": [
       "(176, 3095)"
      ]
     },
     "execution_count": 71,
     "metadata": {},
     "output_type": "execute_result"
    }
   ],
   "source": [
    "pure_arr.shape"
   ]
  },
  {
   "cell_type": "code",
   "execution_count": 53,
   "id": "0d79d951-6863-45eb-812a-b06c6c1be209",
   "metadata": {},
   "outputs": [
    {
     "ename": "ValueError",
     "evalue": "operands could not be broadcast together with shapes (2,3095) (2,) ",
     "output_type": "error",
     "traceback": [
      "\u001b[0;31m---------------------------------------------------------------------------\u001b[0m",
      "\u001b[0;31mValueError\u001b[0m                                Traceback (most recent call last)",
      "\u001b[0;32m<ipython-input-53-4531208b3d89>\u001b[0m in \u001b[0;36m<module>\u001b[0;34m\u001b[0m\n\u001b[0;32m----> 1\u001b[0;31m \u001b[0mmask\u001b[0m \u001b[0;34m=\u001b[0m \u001b[0mpure_arr\u001b[0m\u001b[0;34m[\u001b[0m\u001b[0;34m:\u001b[0m\u001b[0;36m2\u001b[0m\u001b[0;34m]\u001b[0m \u001b[0;34m>\u001b[0m \u001b[0mdists\u001b[0m\u001b[0;34m.\u001b[0m\u001b[0mmax\u001b[0m\u001b[0;34m(\u001b[0m\u001b[0maxis\u001b[0m\u001b[0;34m=\u001b[0m\u001b[0;36m1\u001b[0m\u001b[0;34m)\u001b[0m\u001b[0;34m[\u001b[0m\u001b[0mcat_idxs\u001b[0m\u001b[0;34m[\u001b[0m\u001b[0;34m:\u001b[0m\u001b[0;36m2\u001b[0m\u001b[0;34m]\u001b[0m\u001b[0;34m]\u001b[0m\u001b[0;34m\u001b[0m\u001b[0m\n\u001b[0m",
      "\u001b[0;31mValueError\u001b[0m: operands could not be broadcast together with shapes (2,3095) (2,) "
     ]
    }
   ],
   "source": [
    "mask = pure_arr[:2] > dists.max(axis=1)[cat_idxs[:2]]"
   ]
  },
  {
   "cell_type": "code",
   "execution_count": 49,
   "id": "de8ca656-7512-4931-97db-61a21dd24374",
   "metadata": {},
   "outputs": [
    {
     "ename": "ValueError",
     "evalue": "operands could not be broadcast together with shapes (2,3095) (2,) ",
     "output_type": "error",
     "traceback": [
      "\u001b[0;31m---------------------------------------------------------------------------\u001b[0m",
      "\u001b[0;31mValueError\u001b[0m                                Traceback (most recent call last)",
      "\u001b[0;32m<ipython-input-49-25ca49114b9a>\u001b[0m in \u001b[0;36m<module>\u001b[0;34m\u001b[0m\n\u001b[0;32m----> 1\u001b[0;31m \u001b[0mpure_arr\u001b[0m\u001b[0;34m[\u001b[0m\u001b[0;34m:\u001b[0m\u001b[0;36m2\u001b[0m\u001b[0;34m]\u001b[0m \u001b[0;34m<\u001b[0m \u001b[0mdists\u001b[0m\u001b[0;34m.\u001b[0m\u001b[0mmax\u001b[0m\u001b[0;34m(\u001b[0m\u001b[0maxis\u001b[0m\u001b[0;34m=\u001b[0m\u001b[0;36m1\u001b[0m\u001b[0;34m)\u001b[0m\u001b[0;34m[\u001b[0m\u001b[0mcat_idxs\u001b[0m\u001b[0;34m[\u001b[0m\u001b[0;34m:\u001b[0m\u001b[0;36m2\u001b[0m\u001b[0;34m]\u001b[0m\u001b[0;34m]\u001b[0m\u001b[0;34m\u001b[0m\u001b[0m\n\u001b[0m",
      "\u001b[0;31mValueError\u001b[0m: operands could not be broadcast together with shapes (2,3095) (2,) "
     ]
    }
   ],
   "source": [
    "pure_arr[:2] < dists.max(axis=1)[cat_idxs[:2]]"
   ]
  },
  {
   "cell_type": "code",
   "execution_count": 45,
   "id": "7378be42-13bf-43aa-af8b-92b70231daa3",
   "metadata": {},
   "outputs": [
    {
     "ename": "ValueError",
     "evalue": "operands could not be broadcast together with shapes (176,3095) (176,) ",
     "output_type": "error",
     "traceback": [
      "\u001b[0;31m---------------------------------------------------------------------------\u001b[0m",
      "\u001b[0;31mValueError\u001b[0m                                Traceback (most recent call last)",
      "\u001b[0;32m<ipython-input-45-ff90f0bc8f6b>\u001b[0m in \u001b[0;36m<module>\u001b[0;34m\u001b[0m\n\u001b[0;32m----> 1\u001b[0;31m \u001b[0mpure_arr\u001b[0m\u001b[0;34m[\u001b[0m\u001b[0mpure_arr\u001b[0m \u001b[0;34m<\u001b[0m \u001b[0mdists\u001b[0m\u001b[0;34m.\u001b[0m\u001b[0mmax\u001b[0m\u001b[0;34m(\u001b[0m\u001b[0maxis\u001b[0m\u001b[0;34m=\u001b[0m\u001b[0;36m1\u001b[0m\u001b[0;34m)\u001b[0m\u001b[0;34m[\u001b[0m\u001b[0mcat_idxs\u001b[0m\u001b[0;34m]\u001b[0m\u001b[0;34m]\u001b[0m\u001b[0;34m.\u001b[0m\u001b[0mshape\u001b[0m\u001b[0;34m\u001b[0m\u001b[0m\n\u001b[0m",
      "\u001b[0;31mValueError\u001b[0m: operands could not be broadcast together with shapes (176,3095) (176,) "
     ]
    }
   ],
   "source": [
    "pure_arr[pure_arr < dists.max(axis=1)[cat_idxs]].shape"
   ]
  },
  {
   "cell_type": "code",
   "execution_count": null,
   "id": "aee2766d-ed2d-44ce-b6dd-ca460b1ba5ae",
   "metadata": {},
   "outputs": [],
   "source": []
  },
  {
   "cell_type": "code",
   "execution_count": null,
   "id": "d42a287d-d6f8-4a3a-83a9-1e319a374de4",
   "metadata": {},
   "outputs": [],
   "source": []
  },
  {
   "cell_type": "code",
   "execution_count": null,
   "id": "c9c9ced2-79f0-4ddd-a068-a49236e07c93",
   "metadata": {},
   "outputs": [],
   "source": [
    "dists, anns, t_all, t_pairwise = self.search_single(\n",
    "    data_navigation,\n",
    "    data_search,\n",
    "    queries_search,\n",
    "    pred_proba_categories[:, bucket]\n",
    ")"
   ]
  }
 ],
 "metadata": {
  "kernelspec": {
   "display_name": "Python 3",
   "language": "python",
   "name": "python3"
  },
  "language_info": {
   "codemirror_mode": {
    "name": "ipython",
    "version": 3
   },
   "file_extension": ".py",
   "mimetype": "text/x-python",
   "name": "python",
   "nbconvert_exporter": "python",
   "pygments_lexer": "ipython3",
   "version": "3.6.2"
  }
 },
 "nbformat": 4,
 "nbformat_minor": 5
}
